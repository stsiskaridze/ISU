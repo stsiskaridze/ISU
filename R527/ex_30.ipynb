{
 "cells": [
  {
   "cell_type": "markdown",
   "metadata": {
    "id": "WDDFQrf4Ycht"
   },
   "source": [
    "**R527 - დაპროგრამება პითონში**\n",
    "<br>\n",
    "თარიღი: **30 ოქტომბერი 2020**\n",
    "<br>\n",
    "\n",
    "სათაური: **სავარჯიშო 30**\n",
    "<br>\n",
    "მომხსენებელი: **შოთა ცისკარიძე**\n",
    "\n",
    "\n",
    "ბიბლიოგრაფია:\n",
    "<br> \n",
    " **სავარჯიშო 30.** Zed Shaw, *Learn Python 3 the Hard Way*, Addison Wesley (Verlag), 2017"
   ]
  },
  {
   "cell_type": "markdown",
   "metadata": {
    "id": "fYkwmIWkYchw"
   },
   "source": [
    "<h1 align=\"center\">სავარჯიშო 30: აი კიდო (იf, elif, else) </h1>"
   ]
  },
  {
   "cell_type": "markdown",
   "metadata": {
    "slideshow": {
     "slide_type": "fragment"
    }
   },
   "source": [
    "<center><img src=\"images/Ex_30_Intro.jpg\" width=\"500\"alt=\"Example\" /></center>"
   ]
  },
  {
   "cell_type": "markdown",
   "metadata": {
    "id": "sRM4k6-aYch3"
   },
   "source": [
    "- სანამ გადავალთ ახალ თემაზე, მე წინა დავალებაში გაწერილ კითხვებს მინდა ვუპასუხო:\n",
    "\n",
    "\n",
    "1. **როგორ ფიქრობთ, რას უშვება `if`- ბრძანება მასში ჩაშენებულ კოდს?**\n",
    "  \n",
    "  `if`- ბრძანება კოდში ქმნის ე.წ. შტოს (ტოტს). \n",
    "  \n",
    "  `if`- ბრძანება ეუბნება სკრიპტს, რომ **თუ** მასში მოცემული **ლოგიკური გამოსახულება მართალია**, მაშინ მის ქვეშ დაწერილი კოდი უნდა გაიშვიას. \n",
    "  \n",
    "  წინააღმდეგ შემთხვევაში, სკრიპტი გამოტოვებს მას.\n",
    "    \n",
    "\n",
    "2. **რატომ სჭირდება `if`- ბრძანების ქვეშ დაწერილ კოდს 4 გამოტოვება მარცხნიდან?**\n",
    "\n",
    "   ხაზის ბოლოს დაწერილი ორწერტილი არის კოდის **ახალი შტოს** შექმნის სინტაქსი.\n",
    "   \n",
    "   4 გამოტოვებით ჩვენ ვუთითებ თუ რომელი კოდი ეკუთვნის ამ **შტოს**. \n",
    "   \n",
    "   ეს **ზუსტად იგივეა**, რასაც ვიყენებდით ფუნქციების დაწერილ დროს!\n",
    "    \n",
    "    \n",
    "3. **რა მოხდება, თუ ამ კოდს არ შევწევთ?**\n",
    "\n",
    "   თუ კოდს არ შევწევთ, **Python**-ი მოგვცემს შეცდომას ამოგვიგდებს. \n",
    "   \n",
    "   თუ სკრიპტში ორწერტილს იყენებთ, **Python**-ი **ელოდება** თქვენგან, რომ რამე კოდს აუცილებლად მიაწოდებთ. \n",
    "    \n",
    "    \n",
    "4. **შეგიძლიათ თუ არა სავარჯიშო 27-დან სხვა ლოგიკური გამოსახულებები ჩაწეროთ `if`- ბრძანების ქვეშ?**\n",
    "\n",
    "   შეეცადეთ. კი, შეძლებთ. \n",
    "    \n",
    "    \n",
    "5. **რა მოხება, თუ თანდაპირველ მნიშვნელობებს შეუცვლი ცვლადებს `people`, `cats` და `dogs`-ს?**\n",
    "    \n",
    "   რადგან სკრიპტში თქვენ რიცხვებს ადარებთ, მათი მნიშვნელობების სხვა რიცხვებით ჩანაცვლებას მოჰყვება სხვა შედარება `if`-ბრძანებებში. \n",
    "   \n",
    "   დაუბრუნდით დავალებას და ჩაანაცვლეთ მოცემული რიცხვები ისე, რომ დაიბეჭდოს სხვა ტექსტი.\n",
    "    "
   ]
  },
  {
   "cell_type": "markdown",
   "metadata": {
    "id": "tjudy8YTAqlz"
   },
   "source": [
    "* ახლა კი შევუდგეთ წინამდებარე დავალებას:"
   ]
  },
  {
   "cell_type": "code",
   "execution_count": null,
   "metadata": {
    "id": "QP7CUXb6Aql0",
    "outputId": "7563a03f-f124-44f3-d185-e248733234b3",
    "scrolled": true
   },
   "outputs": [],
   "source": [
    "people = 30\n",
    "cars = 40\n",
    "trucks = 15\n",
    "\n",
    "if cars > people:\n",
    "    print(\"We should take the cars.\")\n",
    "elif cars < people:\n",
    "    print(\"We should not take the cars.\")\n",
    "else: \n",
    "    print(\"We can't decide.\")\n",
    "    \n",
    "if trucks > cars:\n",
    "    print(\"That's too many trucks.\")\n",
    "elif  trucks < cars:\n",
    "    print(\"Maybe we could take the trucks.\")\n",
    "else: \n",
    "    print(\"We still can't decide.\") \n",
    "    \n",
    "if people > trucks:\n",
    "    print(\"Alright, let's just take the trucks.\")\n",
    "else:\n",
    "    print(\"Fine, let's stay home then.\")\n",
    "\n",
    "    "
   ]
  },
  {
   "cell_type": "markdown",
   "metadata": {
    "id": "h-BPHnfxAql5"
   },
   "source": [
    "<h2 align=\"center\">რუბრიკა \"ბოროტი მანტიორი\"</h2>\n",
    "\n",
    "- ჩვენ ხშირად შევცვლით კოდს, რომ დავადგინოთ მისი გაშვების საზღვრები.\n",
    "\n",
    "\n",
    "- ქვევით მოყვანილია **კოდის მაგალითები** რომლებიც **არ კომპილირდება** და **იძლევა შეცდომას**. \n",
    "\n",
    "\n",
    "- **გაარჩიეთ** თითოეული მათგანი და **გაასწორეთ შეცდომები**!"
   ]
  },
  {
   "cell_type": "code",
   "execution_count": null,
   "metadata": {},
   "outputs": [],
   "source": [
    "a = 50\n",
    "b = 30\n",
    "c = 10\n",
    "\n",
    "if b > a:\n",
    "    print(b)\n",
    "\n",
    "if b <= a:\n",
    "    if c > a:\n",
    "        print(c)\n",
    "        \n",
    "if b <= a:\n",
    "    if c <= a:\n",
    "        print(a)"
   ]
  },
  {
   "cell_type": "code",
   "execution_count": null,
   "metadata": {},
   "outputs": [],
   "source": [
    "a = 50\n",
    "b = 30\n",
    "c = 10\n",
    "\n",
    "if b > a:\n",
    "    print(b)\n",
    "elif c > a:\n",
    "    print(c)\n",
    "else:\n",
    "    print(a)"
   ]
  },
  {
   "cell_type": "code",
   "execution_count": null,
   "metadata": {},
   "outputs": [],
   "source": [
    "a = 30\n",
    "b = 10\n",
    "c = 50\n",
    "\n",
    "if b > a:\n",
    "    print(b)\n",
    "elif c > a:\n",
    "    print(c)"
   ]
  },
  {
   "cell_type": "code",
   "execution_count": null,
   "metadata": {
    "scrolled": true
   },
   "outputs": [],
   "source": [
    "a = 50\n",
    "b = 30\n",
    "c = 10\n",
    "\n",
    "if b > a:\n",
    "    print(b)\n",
    "elif:\n",
    "    print(a)"
   ]
  },
  {
   "cell_type": "code",
   "execution_count": null,
   "metadata": {},
   "outputs": [],
   "source": [
    "a = 50\n",
    "b = 30\n",
    "c = 10\n",
    "\n",
    "if b > a:\n",
    "    print(b)\n",
    "elif:\n",
    "    print(c)\n",
    "else:\n",
    "    print(a)"
   ]
  },
  {
   "cell_type": "code",
   "execution_count": null,
   "metadata": {
    "id": "IfJOGgEqHKdS"
   },
   "outputs": [],
   "source": [
    "a = 3\n",
    "b = 5\n",
    "\n",
    "if b > a: print(\"i is finally more than j\") else: print(\"Unfortunate.\")\n",
    "  "
   ]
  },
  {
   "cell_type": "code",
   "execution_count": null,
   "metadata": {},
   "outputs": [],
   "source": [
    "a = 3\n",
    "b = 5\n",
    "\n",
    "if b > a: print(\"i is finally more than j\") \n",
    "else: print(\"Unfortunate.\")\n",
    "  "
   ]
  },
  {
   "cell_type": "code",
   "execution_count": null,
   "metadata": {},
   "outputs": [],
   "source": [
    "a = 3\n",
    "b = 5\n",
    "print(\"A მეტია B-ზე\") if b > a "
   ]
  },
  {
   "cell_type": "code",
   "execution_count": null,
   "metadata": {},
   "outputs": [],
   "source": [
    "a = 3\n",
    "b = 5\n",
    "print(\"A მეტია B-ზე\") if b > a else print(\"A = B\")"
   ]
  },
  {
   "cell_type": "markdown",
   "metadata": {
    "id": "NtRmzKjMAqmC"
   },
   "source": [
    "<h2 align=\"center\">ხშირად დასმული კითხვები</h2>\n",
    "\n",
    "- ქვევით მოყვანილია კითხვები, რომლებიც გაუჩნდათ რეალურ სტუდენტებს ამ სავარჯიშოს შესრულებისას:\n",
    "\n",
    "\n",
    "1. **რა მოხდება თუ რამდენიმე `elif` ბლოკი აღმოჩნდება მართალი (True)?**\n",
    "\n",
    "   **Python** იწყებს ზემოდან, სანამ პირველ მართალ ბლოკს მიაღწევს. \n",
    "   \n",
    "   ანუ მხოლოდ პირველ მართალ `elif`-ის გაუშვებს.\n",
    "   \n",
    "   "
   ]
  },
  {
   "cell_type": "markdown",
   "metadata": {
    "id": "BL67bA__AqmD"
   },
   "source": [
    "<h2 align=\"center\">საშინაო დავალება</h2>\n",
    "\n",
    "\n",
    "1. შეეცადეთ ახსნათ, რას აკეთებენ `elif` და `else`.\n",
    "\n",
    "2. შეცვალეთ ცვლადების (`cars`, `people` და `trucks`) რიცხვით მნიშვნელობები და მიჰყევით თითოეულ `if`-ბრძანებას. დააკვირდით, რა დაიბეჭდება.\n",
    "\n",
    "3. გაართულეთ ბულიან გამოსახულებები, დაწერეთ, მაგალითად, `cars > people or trucks < cars`. \n",
    "\n",
    "4. კოდის ყველა ხაზს მიაწერეთ კომენტარი, თუ რას აკეთებს ის."
   ]
  },
  {
   "cell_type": "markdown",
   "metadata": {
    "id": "DqPstivsYckk"
   },
   "source": [
    "<h1 align=\"center\">სავარჯიშოს დასასრული</h1>"
   ]
  }
 ],
 "metadata": {
  "colab": {
   "collapsed_sections": [],
   "name": "ex_30.ipynb",
   "provenance": [
    {
     "file_id": "1gA41PQJ9EnKxnFPmClTRFD5RcQUVHfzr",
     "timestamp": 1601916899165
    },
    {
     "file_id": "https://github.com/stsiskaridze/ISU/blob/master/R527/ex_02.ipynb",
     "timestamp": 1601912049891
    }
   ]
  },
  "kernelspec": {
   "display_name": "Python 3",
   "language": "python",
   "name": "python3"
  },
  "language_info": {
   "codemirror_mode": {
    "name": "ipython",
    "version": 3
   },
   "file_extension": ".py",
   "mimetype": "text/x-python",
   "name": "python",
   "nbconvert_exporter": "python",
   "pygments_lexer": "ipython3",
   "version": "3.7.3"
  }
 },
 "nbformat": 4,
 "nbformat_minor": 1
}
