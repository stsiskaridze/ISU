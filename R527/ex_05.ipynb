{
 "cells": [
  {
   "cell_type": "markdown",
   "metadata": {
    "id": "WDDFQrf4Ycht"
   },
   "source": [
    "**R527 - დაპროგრამება პითონში**\n",
    "<br>\n",
    "თარიღი: **9 ოქტომბერი 2020**\n",
    "<br>\n",
    "\n",
    "სათაური: **სავარჯიშო 5**\n",
    "<br>\n",
    "მომხსენებელი: **შოთა ცისკარიძე**\n",
    "\n",
    "\n",
    "ბიბლიოგრაფია:\n",
    "<br> \n",
    " **სავარჯიშო 5.** Zed Shaw, *Learn Python 3 the Hard Way*, Addison Wesley (Verlag), 2017"
   ]
  },
  {
   "cell_type": "markdown",
   "metadata": {
    "id": "fYkwmIWkYchw"
   },
   "source": [
    "<h1 align=\"center\">სავარჯიშო 5: მეტი ცვლადი და პრინტი</h1>"
   ]
  },
  {
   "cell_type": "markdown",
   "metadata": {},
   "source": [
    "<center><img src=\"images/Ex05_More.jpg\" width=\"600\" alt=\"Example\" /></center>"
   ]
  },
  {
   "cell_type": "markdown",
   "metadata": {
    "id": "sRM4k6-aYch3"
   },
   "source": [
    "- ახლა ჩვენ გადავალთ ეგრეთ წოდებულ **format string**-ის ტიპზე.\n",
    "\n",
    "\n",
    "- **ორმაგი ბრჭყალების** გამოყენებით ჩვენ ტექსტს **სტრიქონად** ვაქცევდით. ის ადამიანისთვის გასაგებია და ძალიან გამოსადეგარი.\n",
    "\n",
    "\n",
    "- ამჯერად უნდა ვისწავლოთ, როგორ **დავბეჭდოთ სტრიქონი**, რომლის ბრჭყალებშიც რაიმე **ცვლადს მოვაქცევთ**.\n",
    "\n",
    "\n",
    "- **ცვლადი** უნდა **მოვაქციოთ** სპეციალურ **ფიგურულ ბრჭყალებში** `{}`, ხოლო **ორმაგი ბრჭყალის წინ** დავწეროთ ასო `f`, რაც ნიშნავს **format**-ს. \n",
    "\n",
    "\n",
    "- როგორც ყოველთვის, ქვემოთ მოცემულია **მაგალითები**:"
   ]
  },
  {
   "cell_type": "code",
   "execution_count": 1,
   "metadata": {
    "colab": {
     "base_uri": "https://localhost:8080/",
     "height": 136
    },
    "executionInfo": {
     "elapsed": 451,
     "status": "ok",
     "timestamp": 1601918579363,
     "user": {
      "displayName": "Veronika Tsiskaridze",
      "photoUrl": "",
      "userId": "14609060841114149670"
     },
     "user_tz": -240
    },
    "id": "CV4H7To9Ych_",
    "outputId": "1328cac3-a58b-47fa-d2e5-779d519ea593"
   },
   "outputs": [
    {
     "name": "stdout",
     "output_type": "stream",
     "text": [
      "მოდი მოვყვეთ კონსტანტინეს შესახებ.\n",
      "მისი სიმაღლეა 183 სანტიმეტრი.\n",
      "ის იწონის 122 კილოგრამს.\n",
      "სიმართლე რომ გითხრათ, ეს არც ისე ბევრია.\n",
      "მას ყავისფერი თვალები აქვს და ჭაღარა თმა.\n",
      "მისი კბილები წესით თეთრია, მაგრამ მიღებული ყავის რაოდენობაზეა დამოკიდებული.\n",
      "თუმცა, კონსტანტინე არ სვავს ყავას!\n",
      "თუ ჩვენ შევკრებთ 35-ს, 183-სა და 122-ს, 340-ს მივიღებთ.\n"
     ]
    }
   ],
   "source": [
    "my_name   = 'კონსტანტინე'\n",
    "my_age    = 35 #არ ვიტყუები\n",
    "my_height = 183 # სანტიმეტრი\n",
    "my_weight = 122 # კილოგრამი\n",
    "my_eyes   = 'ყავისფერი' \n",
    "my_teeth  = 'თეთრი'\n",
    "my_hair   = 'ჭაღარა'\n",
    "\n",
    "print(f\"მოდი მოვყვეთ {my_name}ს შესახებ.\")\n",
    "print(f\"მისი სიმაღლეა {my_height} სანტიმეტრი.\")\n",
    "print(f\"ის იწონის {my_weight} კილოგრამს.\")\n",
    "print(\"სიმართლე რომ გითხრათ, ეს არც ისე ბევრია.\")\n",
    "print(f\"მას {my_eyes} თვალები აქვს და {my_hair} თმა.\")\n",
    "print(f\"მისი კბილები წესით {my_teeth}ა, მაგრამ მიღებული ყავის რაოდენობაზეა დამოკიდებული.\")\n",
    "print(f\"თუმცა, {my_name} არ სვავს ყავას!\")\n",
    "\n",
    "# შემდეგი სტრიქონი ეშმაკურია, შეეცადეთ ზუსტად გადმოწეროთ\n",
    "total = my_age + my_height + my_weight\n",
    "print(f\"თუ ჩვენ შევკრებთ {my_age}-ს, {my_height}-სა და {my_weight}-ს, {total}-ს მივიღებთ.\")"
   ]
  },
  {
   "cell_type": "markdown",
   "metadata": {
    "id": "K6vmKEXBYcis"
   },
   "source": [
    "<h2 align=\"center\">რუბრიკა \"ბოროტი მანტიორი\"</h2>\n",
    "\n",
    "- ჩვენ ხშირად შევცვლით კოდს, რომ დავადგინოთ მისი გაშვების საზღვრები.\n",
    "\n",
    "\n",
    "- ქვევით მოყვანილია **კოდის მაგალითები** რომლებიც **არ კომპილირდება** და **იძლევა შეცდომას**. \n",
    "\n",
    "\n",
    "- **გაარჩიეთ** თითოეული მათგანი და **გაასწორეთ შეცდომები**!"
   ]
  },
  {
   "cell_type": "code",
   "execution_count": 2,
   "metadata": {},
   "outputs": [
    {
     "name": "stdout",
     "output_type": "stream",
     "text": [
      "თუმცა, {my_name} არ სვავს ყავას!\n"
     ]
    }
   ],
   "source": [
    "print(\"თუმცა, {my_name} არ სვავს ყავას!\")"
   ]
  },
  {
   "cell_type": "code",
   "execution_count": 3,
   "metadata": {
    "scrolled": true
   },
   "outputs": [
    {
     "ename": "SyntaxError",
     "evalue": "f-string: empty expression not allowed (<ipython-input-3-92c6528b1f63>, line 1)",
     "output_type": "error",
     "traceback": [
      "\u001b[1;36m  File \u001b[1;32m\"<ipython-input-3-92c6528b1f63>\"\u001b[1;36m, line \u001b[1;32m1\u001b[0m\n\u001b[1;33m    print(f\"თუმცა, {} არ სვავს ყავას!\")\u001b[0m\n\u001b[1;37m         ^\u001b[0m\n\u001b[1;31mSyntaxError\u001b[0m\u001b[1;31m:\u001b[0m f-string: empty expression not allowed\n"
     ]
    }
   ],
   "source": [
    "print(f\"თუმცა, {} არ სვავს ყავას!\")"
   ]
  },
  {
   "cell_type": "code",
   "execution_count": 5,
   "metadata": {
    "scrolled": false
   },
   "outputs": [
    {
     "ename": "SyntaxError",
     "evalue": "invalid syntax (<ipython-input-5-462744835ccf>, line 1)",
     "output_type": "error",
     "traceback": [
      "\u001b[1;36m  File \u001b[1;32m\"<ipython-input-5-462744835ccf>\"\u001b[1;36m, line \u001b[1;32m1\u001b[0m\n\u001b[1;33m    print(f\"თუმცა, {\"კონსტანტინე\"} არ სვავს ყავას!\")\u001b[0m\n\u001b[1;37m                               ^\u001b[0m\n\u001b[1;31mSyntaxError\u001b[0m\u001b[1;31m:\u001b[0m invalid syntax\n"
     ]
    }
   ],
   "source": [
    "print(f\"თუმცა, {\"კონსტანტინე\"} არ სვავს ყავას!\")"
   ]
  },
  {
   "cell_type": "code",
   "execution_count": 6,
   "metadata": {
    "scrolled": true
   },
   "outputs": [
    {
     "name": "stdout",
     "output_type": "stream",
     "text": [
      "თუმცა, კონსტანტინე არ სვავს ყავას!\n"
     ]
    }
   ],
   "source": [
    "print(f\"თუმცა, {'კონსტანტინე'} არ სვავს ყავას!\")"
   ]
  },
  {
   "cell_type": "code",
   "execution_count": 7,
   "metadata": {
    "scrolled": true
   },
   "outputs": [
    {
     "name": "stdout",
     "output_type": "stream",
     "text": [
      "თუმცა, 15 არ სვავს ყავას!\n"
     ]
    }
   ],
   "source": [
    "print(f\"თუმცა, {15} არ სვავს ყავას!\")"
   ]
  },
  {
   "cell_type": "code",
   "execution_count": 8,
   "metadata": {
    "scrolled": true
   },
   "outputs": [
    {
     "name": "stdout",
     "output_type": "stream",
     "text": [
      "თუ ჩვენ შევკრებთ 35-ს, 183-სა და 122-ს, 340-ს მივიღებთ.\n"
     ]
    }
   ],
   "source": [
    "print(f\"თუ ჩვენ შევკრებთ {my_age}-ს, {my_height}-სა და {my_weight}-ს, {my_age + my_height + my_weight}-ს მივიღებთ.\")"
   ]
  },
  {
   "cell_type": "code",
   "execution_count": 9,
   "metadata": {},
   "outputs": [
    {
     "name": "stdout",
     "output_type": "stream",
     "text": [
      "თუმცა, კონსტანტინე ცისკარიძე არ სვავს ყავას!\n"
     ]
    }
   ],
   "source": [
    "print(f\"თუმცა, {my_name + ' ' + 'ცისკარიძე'} არ სვავს ყავას!\")"
   ]
  },
  {
   "cell_type": "code",
   "execution_count": 10,
   "metadata": {
    "colab": {
     "base_uri": "https://localhost:8080/",
     "height": 129
    },
    "executionInfo": {
     "elapsed": 804,
     "status": "error",
     "timestamp": 1601918654493,
     "user": {
      "displayName": "Veronika Tsiskaridze",
      "photoUrl": "",
      "userId": "14609060841114149670"
     },
     "user_tz": -240
    },
    "id": "b8sU2mdaYcit",
    "outputId": "906029a0-b7fd-4bba-c077-ef2f0d90e758",
    "scrolled": true
   },
   "outputs": [
    {
     "ename": "NameError",
     "evalue": "name 'my__name' is not defined",
     "output_type": "error",
     "traceback": [
      "\u001b[1;31m---------------------------------------------------------------------------\u001b[0m",
      "\u001b[1;31mNameError\u001b[0m                                 Traceback (most recent call last)",
      "\u001b[1;32m<ipython-input-10-60aeb71fb2f3>\u001b[0m in \u001b[0;36m<module>\u001b[1;34m\u001b[0m\n\u001b[1;32m----> 1\u001b[1;33m \u001b[0mprint\u001b[0m\u001b[1;33m(\u001b[0m\u001b[1;34mf\"თუმცა, {my__name} არ სვავს ყავას!\"\u001b[0m\u001b[1;33m)\u001b[0m\u001b[1;33m\u001b[0m\u001b[1;33m\u001b[0m\u001b[0m\n\u001b[0m",
      "\u001b[1;31mNameError\u001b[0m: name 'my__name' is not defined"
     ]
    }
   ],
   "source": [
    "print(f\"თუმცა, {my__name} არ სვავს ყავას!\")"
   ]
  },
  {
   "cell_type": "markdown",
   "metadata": {
    "id": "1e5Jtm36Ycki"
   },
   "source": [
    "<h2 align=\"center\">ხშირად დასმული კითხვები</h2>\n",
    "\n",
    "ქვევით მოყვანილია კითხვები, რომლებიც გაუჩნდათ რეალურ სტუდენტებს ამ სავარჯიშოს შესრულებისას:\n",
    "\n",
    "\n",
    "1. **შემიძლია თუ არა შევქმნა ცვლადი შემდეგნაირად: `1 = 'კონსტანტინე'`?** \n",
    "\n",
    "   არა, ნებისმიერი ცვლადი უნდა იწყებოდეს ასოთი და არა ციფრით. მაგალითად `a1` იმუშავებს, ხოლო `1` - არა.\n",
    "   \n",
    "   \n",
    "2. **როგორ შეიძლება დავამრგვალო `float` რიცხვი?**\n",
    "\n",
    "   თქვენ შეგიძლიათ გამოიყენეთ ფუნქცია `round()`:"
   ]
  },
  {
   "cell_type": "code",
   "execution_count": 11,
   "metadata": {},
   "outputs": [
    {
     "data": {
      "text/plain": [
       "333.3333333333333"
      ]
     },
     "execution_count": 11,
     "metadata": {},
     "output_type": "execute_result"
    }
   ],
   "source": [
    "a = 1000/3\n",
    "a"
   ]
  },
  {
   "cell_type": "code",
   "execution_count": 12,
   "metadata": {},
   "outputs": [
    {
     "data": {
      "text/plain": [
       "333"
      ]
     },
     "execution_count": 12,
     "metadata": {},
     "output_type": "execute_result"
    }
   ],
   "source": [
    "round(a)"
   ]
  },
  {
   "cell_type": "code",
   "execution_count": 13,
   "metadata": {},
   "outputs": [
    {
     "data": {
      "text/plain": [
       "int"
      ]
     },
     "execution_count": 13,
     "metadata": {},
     "output_type": "execute_result"
    }
   ],
   "source": [
    "type(round(a))"
   ]
  },
  {
   "cell_type": "code",
   "execution_count": 14,
   "metadata": {
    "scrolled": false
   },
   "outputs": [
    {
     "data": {
      "text/plain": [
       "333.33"
      ]
     },
     "execution_count": 14,
     "metadata": {},
     "output_type": "execute_result"
    }
   ],
   "source": [
    "round(a, 2)"
   ]
  },
  {
   "cell_type": "code",
   "execution_count": 15,
   "metadata": {},
   "outputs": [
    {
     "data": {
      "text/plain": [
       "float"
      ]
     },
     "execution_count": 15,
     "metadata": {},
     "output_type": "execute_result"
    }
   ],
   "source": [
    "type(round(a, 2))"
   ]
  },
  {
   "cell_type": "code",
   "execution_count": 16,
   "metadata": {},
   "outputs": [
    {
     "data": {
      "text/plain": [
       "333.3"
      ]
     },
     "execution_count": 16,
     "metadata": {},
     "output_type": "execute_result"
    }
   ],
   "source": [
    "round(a, 1)"
   ]
  },
  {
   "cell_type": "code",
   "execution_count": 17,
   "metadata": {
    "scrolled": true
   },
   "outputs": [
    {
     "data": {
      "text/plain": [
       "333.0"
      ]
     },
     "execution_count": 17,
     "metadata": {},
     "output_type": "execute_result"
    }
   ],
   "source": [
    "round(a, 0)"
   ]
  },
  {
   "cell_type": "code",
   "execution_count": 18,
   "metadata": {},
   "outputs": [
    {
     "data": {
      "text/plain": [
       "float"
      ]
     },
     "execution_count": 18,
     "metadata": {},
     "output_type": "execute_result"
    }
   ],
   "source": [
    "type(round(a, 0))"
   ]
  },
  {
   "cell_type": "code",
   "execution_count": 19,
   "metadata": {
    "scrolled": true
   },
   "outputs": [
    {
     "data": {
      "text/plain": [
       "330.0"
      ]
     },
     "execution_count": 19,
     "metadata": {},
     "output_type": "execute_result"
    }
   ],
   "source": [
    "round(a, -1)"
   ]
  },
  {
   "cell_type": "code",
   "execution_count": 20,
   "metadata": {
    "scrolled": false
   },
   "outputs": [
    {
     "data": {
      "text/plain": [
       "300.0"
      ]
     },
     "execution_count": 20,
     "metadata": {},
     "output_type": "execute_result"
    }
   ],
   "source": [
    "round(a, -2)"
   ]
  },
  {
   "cell_type": "code",
   "execution_count": 21,
   "metadata": {
    "scrolled": true
   },
   "outputs": [
    {
     "data": {
      "text/plain": [
       "0.0"
      ]
     },
     "execution_count": 21,
     "metadata": {},
     "output_type": "execute_result"
    }
   ],
   "source": [
    "round(a, -3)"
   ]
  },
  {
   "cell_type": "code",
   "execution_count": 23,
   "metadata": {
    "scrolled": true
   },
   "outputs": [
    {
     "data": {
      "text/plain": [
       "0.0"
      ]
     },
     "execution_count": 23,
     "metadata": {},
     "output_type": "execute_result"
    }
   ],
   "source": [
    "round(a, -4)"
   ]
  },
  {
   "cell_type": "code",
   "execution_count": 22,
   "metadata": {},
   "outputs": [
    {
     "data": {
      "text/plain": [
       "333.3333333333333"
      ]
     },
     "execution_count": 22,
     "metadata": {},
     "output_type": "execute_result"
    }
   ],
   "source": [
    "a"
   ]
  },
  {
   "cell_type": "markdown",
   "metadata": {},
   "source": [
    "3. **რატო ვერ ვიგებ ვერაფერს?!**\n",
    "\n",
    "   შეეცადეთ სკრიპტში გამოყენებული რიცხვების მაგივრად თქვენი პირადი ზომები ჩასვათ. უცნაურია, მაგრამ პერსონალიზაცია უფრო ადვილი აღსაქმელი გახდება. და თანაც, თქვენ მხოლოდ ახლა დაიწყეთ `Python`-ის შესწავლა, ყველაფერს დრო და პრაქტიკა სჭირდება.\n",
    "\n",
    "   არ დანებდეთ და ყველაფერი გამოგივათ!"
   ]
  },
  {
   "cell_type": "markdown",
   "metadata": {
    "id": "4gGrOISaYckh"
   },
   "source": [
    "<h2 align=\"center\">სამუშაო დავალება</h2>\n",
    "\n",
    "1. გადაარქვით ყველა ცვლადი ისე, რომ `my_` აღარ ჰქონდეთ. დარწმუნდით, რომ ცვლადის სახელი ყველგან შეცვალეთ.\n",
    "\n",
    "\n",
    "2. შეეცადეთ დაწეროთ ახალი ცვლადები, რომელიც კილოგრამებს ფუნტებში გადაიყვანს, ხოლო სანტიმეტრებს - ინჩებში. \n",
    "\n",
    "  დაწერეთ ფორმულების სახით და არა უბრალოდ რიცხვები. \n",
    "  \n",
    "  \n",
    "3. ახსენით როგორ მუშაობს `round()` ფუნქცია."
   ]
  },
  {
   "cell_type": "markdown",
   "metadata": {
    "id": "DqPstivsYckk"
   },
   "source": [
    "<h1 align=\"center\">სავარჯიშოს დასასრული</h1>"
   ]
  }
 ],
 "metadata": {
  "colab": {
   "collapsed_sections": [],
   "name": "Example for ex_05.ipynb",
   "provenance": [
    {
     "file_id": "1gA41PQJ9EnKxnFPmClTRFD5RcQUVHfzr",
     "timestamp": 1601916899165
    },
    {
     "file_id": "https://github.com/stsiskaridze/ISU/blob/master/R527/ex_02.ipynb",
     "timestamp": 1601912049891
    }
   ]
  },
  "kernelspec": {
   "display_name": "Python 3",
   "language": "python",
   "name": "python3"
  },
  "language_info": {
   "codemirror_mode": {
    "name": "ipython",
    "version": 3
   },
   "file_extension": ".py",
   "mimetype": "text/x-python",
   "name": "python",
   "nbconvert_exporter": "python",
   "pygments_lexer": "ipython3",
   "version": "3.7.3"
  }
 },
 "nbformat": 4,
 "nbformat_minor": 1
}
