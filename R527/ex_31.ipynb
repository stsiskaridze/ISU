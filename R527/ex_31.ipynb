{
 "cells": [
  {
   "cell_type": "markdown",
   "metadata": {
    "id": "WDDFQrf4Ycht"
   },
   "source": [
    "**R527 - დაპროგრამება პითონში**\n",
    "<br>\n",
    "თარიღი: **30 ოქტომბერი 2020**\n",
    "<br>\n",
    "\n",
    "სათაური: **სავარჯიშო 31**\n",
    "<br>\n",
    "მომხსენებელი: **შოთა ცისკარიძე**\n",
    "\n",
    "\n",
    "ბიბლიოგრაფია:\n",
    "<br> \n",
    " **სავარჯიშო 31.** Zed Shaw, *Learn Python 3 the Hard Way*, Addison Wesley (Verlag), 2017"
   ]
  },
  {
   "cell_type": "markdown",
   "metadata": {
    "id": "fYkwmIWkYchw"
   },
   "source": [
    "<h1 align=\"center\">სავარჯიშო 31: გადაწყვეტილების მიღება</h1>"
   ]
  },
  {
   "cell_type": "markdown",
   "metadata": {
    "slideshow": {
     "slide_type": "fragment"
    }
   },
   "source": [
    "<center><img src=\"images/Ex_31_Intro.jpg\" width=\"500\"alt=\"Example\" /></center>"
   ]
  },
  {
   "cell_type": "markdown",
   "metadata": {
    "id": "sRM4k6-aYch3"
   },
   "source": [
    "- პირველ სავარჯიშოსთან შედარებით, ჩვენ ძალიან გავიზარდეთ.\n",
    "\n",
    "\n",
    "- თავდაპირვლად, ჩვენი კოდი ძალიან უბრალო იყო.\n",
    "\n",
    "\n",
    "- შემდეგ მას დაემატა ფუნქციები და კოდის ბლოკები. იწყებოდა თავში, ბოლომდე გადიოდა და ჩერდებოდა.\n",
    "\n",
    "\n",
    "- მერე ჩვენ შემოვიტანეთ `if`, `elif` და `else` ბრძანებები. ჩვენს სკრიპტზე დაყრდნობით კოდს ახლა გადაწყვეტილების მიღების საშუალება აქვს.\n",
    "\n",
    "\n",
    "- ქვემოთ მოცემულ სკრიპტში ჩვენ ვთხოვთ მომხმარებელს მოგვაწოდოს მონაცემები, ამ მონაცემების გამოყენებით ამუშავდება სკრიპტის ესა თუ ის ნაწილი. ეთამაშეთ ამ სავარჯიშოს, რათა კარგად გაიგოთ ის:    "
   ]
  },
  {
   "cell_type": "code",
   "execution_count": null,
   "metadata": {
    "scrolled": true
   },
   "outputs": [],
   "source": [
    "print(\"\"\"You enter a dark room with two doors.\n",
    "Do you go through door #1 or door #2?\"\"\")\n",
    "\n",
    "door = input(\"> \")\n",
    "\n",
    "if door == \"1\":\n",
    "    print(\"There's a giant bear here eating a cheese cake.\")\n",
    "    print(\"What do you do?\")\n",
    "    print(\"1. Take the cake.\")\n",
    "    print(\"2. Scream at the bear.\")\n",
    "    \n",
    "    bear = input(\"> \")\n",
    "    \n",
    "    if bear == \"1\":\n",
    "        print(\"The bear eats your face off. Good job!\")\n",
    "    elif bear == \"2\":\n",
    "        print(\"The bear eats your legs off. Good job!\")\n",
    "    else:\n",
    "        print(f\"Well, doing {bear} is probably better.\")\n",
    "        print(\"Bear runs away.\")\n",
    "        \n",
    "elif door == \"2\":\n",
    "    print(\"you stre into the endless abyss at Cthulhu's retina.\")\n",
    "    print(\"1. Blueberries.\")\n",
    "    print(\"2. Yellow jacket clothespeins.\")\n",
    "    print(\"3. Understanding revolvers yelling melodies.\")\n",
    "    \n",
    "    insanity = input(\"> \")\n",
    "    \n",
    "    if insanity == \"1\" or insanity == \"2\":\n",
    "        print(\"Your body survives powered by a mind of jello.\")\n",
    "        print(\"Good job!\")\n",
    "    else:\n",
    "        print(\"The insanity rots your eyes into a pool of musk.\")\n",
    "        print(\"Good job!\")\n",
    "        \n",
    "\n",
    "else:\n",
    "    print(\"You stumble around and fall on a knife and die. Good job!\")"
   ]
  },
  {
   "cell_type": "markdown",
   "metadata": {},
   "source": [
    "* **ამ დავალების ძირითადი იდეა ისაა, რომ თქვენ უკვე ერთ `if` ბრძანებაში სხვა `if` ბრძანებას წერთ.** "
   ]
  },
  {
   "cell_type": "markdown",
   "metadata": {},
   "source": [
    "<h2 align=\"center\">რუბრიკა \"ბოროტი მანტიორი\"</h2>\n",
    "\n",
    "- ჩვენ ხშირად შევცვლით კოდს, რომ დავადგინოთ მისი გაშვების საზღვრები.\n",
    "\n",
    "\n",
    "- ქვევით მოყვანილია **კოდის მაგალითები** რომლებიც **არ კომპილირდება** და **იძლევა შეცდომას**. \n",
    "\n",
    "\n",
    "- **გაარჩიეთ** თითოეული მათგანი და **გაასწორეთ შეცდომები**!"
   ]
  },
  {
   "cell_type": "code",
   "execution_count": null,
   "metadata": {},
   "outputs": [],
   "source": []
  },
  {
   "cell_type": "code",
   "execution_count": null,
   "metadata": {},
   "outputs": [],
   "source": []
  },
  {
   "cell_type": "markdown",
   "metadata": {},
   "source": [
    "<h2 align=\"center\">ხშირად დასმული კითხვები</h2>\n",
    "\n",
    "- ქვევით მოყვანილია კითხვები, რომლებიც გაუჩნდათ რეალურ სტუდენტებს ამ სავარჯიშოს შესრულებისას:\n",
    "\n",
    "\n",
    "1. **შეიძლება თუ არა `elif` ჩავანაცვლოთ `if/else` კომბინაციებით?**\n",
    "\n",
    "   შეგიძლიათ, თუმცა ის დამოკიდებულია იმაზე, თუ როგორაა დაწერილი თითოეული `if/else`. Python შეამოწმებს *ყველა* `if/else` კომბინაციას, ხოლო `if-elif-else`-ისგან განხსვავებით.\n",
    "   \n",
    "   \n",
    "2. **როგორ შემიძლია გავარკვიო, თუ რიცხვთა რა დიაპაზონს მიეკუთვნება ჩემი რიცხვი?**\n",
    "   ორი ამოხსნა გაქვთ. ა) გამოიყენეთ `0 < x < 10` ან `1 < = x 10`. ბ) დაწერეთ `x in range(1, 10)`.\n",
    "   \n",
    "   \n",
    "3. **და თუ მე უფრო მეტი ვარიანტის შემოთავაზება მინდა `if-elif-else` ბლოკში?**\n",
    "   უბრალოდ დაამატეთ `elif` ბლოკები თითოეული პასუხისთვის.\n",
    "   \n",
    "   "
   ]
  },
  {
   "cell_type": "markdown",
   "metadata": {},
   "source": [
    "<h2 align=\"center\">საშინაო დავალება</h2>\n",
    "\n",
    "1. გააუმჯობესეთ ჩვენი თამაში. დაამატეთ მეტი არჩევანი. \n",
    "\n",
    "\n",
    "2. შექმენით სრულიად ახალი თამაში."
   ]
  },
  {
   "cell_type": "markdown",
   "metadata": {
    "id": "DqPstivsYckk"
   },
   "source": [
    "<h1 align=\"center\">სავარჯიშოს დასასრული</h1>"
   ]
  }
 ],
 "metadata": {
  "colab": {
   "collapsed_sections": [],
   "name": "Example for ex_10.ipynb",
   "provenance": [
    {
     "file_id": "1gA41PQJ9EnKxnFPmClTRFD5RcQUVHfzr",
     "timestamp": 1601916899165
    },
    {
     "file_id": "https://github.com/stsiskaridze/ISU/blob/master/R527/ex_02.ipynb",
     "timestamp": 1601912049891
    }
   ]
  },
  "kernelspec": {
   "display_name": "Python 3",
   "language": "python",
   "name": "python3"
  },
  "language_info": {
   "codemirror_mode": {
    "name": "ipython",
    "version": 3
   },
   "file_extension": ".py",
   "mimetype": "text/x-python",
   "name": "python",
   "nbconvert_exporter": "python",
   "pygments_lexer": "ipython3",
   "version": "3.7.3"
  }
 },
 "nbformat": 4,
 "nbformat_minor": 1
}
