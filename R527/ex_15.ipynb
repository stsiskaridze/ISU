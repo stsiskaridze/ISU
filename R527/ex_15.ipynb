{
 "cells": [
  {
   "cell_type": "markdown",
   "metadata": {
    "id": "WDDFQrf4Ycht"
   },
   "source": [
    "**R527 - დაპროგრამება პითონში**\n",
    "<br>\n",
    "თარიღი: **16 ოქტომბერი 2020**\n",
    "<br>\n",
    "\n",
    "სათაური: **სავარჯიშო 15**\n",
    "<br>\n",
    "მომხსენებელი: **შოთა ცისკარიძე**\n",
    "\n",
    "\n",
    "ბიბლიოგრაფია:\n",
    "<br> \n",
    " **სავარჯიშო 15.** Zed Shaw, *Learn Python 3 the Hard Way*, Addison Wesley (Verlag), 2017"
   ]
  },
  {
   "cell_type": "markdown",
   "metadata": {
    "id": "fYkwmIWkYchw"
   },
   "source": [
    "<h1 align=\"center\">სავარჯიშო 15: ფაილების წაკითხვა</h1>"
   ]
  },
  {
   "cell_type": "markdown",
   "metadata": {},
   "source": [
    "<center><img src=\"images/Ex_15_Intro.jpg\" width=\"500\"alt=\"Example\" /></center>"
   ]
  },
  {
   "cell_type": "markdown",
   "metadata": {
    "id": "sRM4k6-aYch3"
   },
   "source": [
    "- ახლა უკვე ვიცით, როგორ მივიღოთ ინფორმაცია მომხმარებლისგან `input`-ისა და `argv`-ის გამოყენებით.\n",
    "\n",
    "\n",
    "- ამ სავარჯიშოში ვისწავლით სხვა ფაილის წაკითხვას. \n",
    "\n",
    "  სავარაუდოდ, ამ დავალების პრაქტიკას დიდი დრო უნდა დაუთმოთ მის გასაგებად.\n",
    "\n",
    "\n",
    "- **ყურადღება**: ფაილებთან მუშაობისას ძალიან ადვილად შეიძლება რამე წაგეშალოთ, ამიტომ სიფრთხილე გმართებთ!\n",
    "\n",
    "\n",
    "- წინამდებარე სავარჯიშოში დაგვჭირდება ორი ფაილი. \n",
    "\n",
    "  ერთი იქნება სკრიპტი ex_15.py ფაილი, მეორე კი - ჩვეულებრივი ტექსტური ფაილი ex_15_sample.txt. \n",
    "\n",
    "  მოდით ჩავამატოთ შემდეგი ტექსტი ჩვენს მეორე ფაილში:"
   ]
  },
  {
   "cell_type": "code",
   "execution_count": null,
   "metadata": {},
   "outputs": [],
   "source": [
    "ეს ფაილი შენი შექმნილია!\n",
    "ყოჩაღ!\n",
    "სამშობლო ამაყობს შენით!"
   ]
  },
  {
   "cell_type": "markdown",
   "metadata": {},
   "source": [
    "- ამ დავალებაში ჩვენ **გავხსნით** ტექსტურ ფაილს და დავბეჭდავთ მას სკრიპტის მეშვეობით. \n",
    "\n",
    "\n",
    "- ჩვენ მოვერიდებით **\"hard coding\"**-ს, რაც გულისხმობს საჭირო ინფორმაციის ხელით შეყვანას, თუ არის მისი გამოძახების შესაძლებლობა. \n",
    "\n",
    "\n",
    "- მომავალში, ფაილების დიდ რაოდენობასთან მუშაობისას, ეს ცოდნა ძალიან გამოგვადგება."
   ]
  },
  {
   "cell_type": "code",
   "execution_count": null,
   "metadata": {
    "colab": {
     "base_uri": "https://localhost:8080/",
     "height": 204
    },
    "executionInfo": {
     "elapsed": 721,
     "status": "ok",
     "timestamp": 1601975235429,
     "user": {
      "displayName": "Veronika Tsiskaridze",
      "photoUrl": "",
      "userId": "14609060841114149670"
     },
     "user_tz": -240
    },
    "id": "ES2yhvD-KCEH",
    "outputId": "a43bbdfc-2e09-4b18-8652-41abdd152c07",
    "scrolled": false
   },
   "outputs": [],
   "source": [
    "from sys import argv\n",
    "\n",
    "script, filename = argv\n",
    "\n",
    "txt = open(filename,  encoding=\"utf8\")\n",
    "\n",
    "print(f\"აქ არის შენი ფაილი {filename}:\")\n",
    "print(txt.read())\n",
    "\n",
    "print(\"ძმურად, კიდევ ერთხელ დაწერე ფაილის სახელი:\")\n",
    "file_again = input('> ')\n",
    "\n",
    "txt_again = open(file_again,  encoding=\"utf8\")\n",
    "\n",
    "print(txt_again.read())\n"
   ]
  },
  {
   "cell_type": "markdown",
   "metadata": {},
   "source": [
    "- მოდით განვხილოთ ჩვენი კოდი ძალიან სწრაფად:\n",
    "\n",
    "  - ხაზი 1-3 იყენებს `argv`-ს, რომ გაიგოს მეორე ფაილის დასახელება და შეინახოს ცვლადში `filename`;\n",
    "\n",
    "  - შემდეგ გვაქვს ფუნქცია `open` (გაუშვით `pydoc open` და წაიკითხეთ მეტი ამ ფუნქციის შესახებ). \n",
    "  \n",
    "    ეს ფუნქციაც, მაგალითად, `input()` ფუნქციის მსგავსად, იღებს მოცემულ არგუმენტს და გვიბრუნებს მნიშვნელობას. \n",
    "  \n",
    "    ამჯერად, თქვენ **გახსენით** ფაილი;\n",
    "\n",
    "  - ხაზი 7 პატარა გვიბეჭდავს პატარა შეტყობინებას;\n",
    "\n",
    "  - ხაზი 8 იძახებს ფუნქციას `read`, არგუმენტად აქვს ჩვენი ტექსტური ფაილის დასახელება. \n",
    "  \n",
    "    თქვენ აძლევთ ამ ბრძანებას წერტილის `.` გამოყენებით. \n",
    "    \n",
    "    ანუ, ამ ხაზით თქვენ ეუბნებით სკრიპტს: \"გამარჯობა, txt. შეასრულე `read` ბრძანება პარამეტრის გარეშე.\""
   ]
  },
  {
   "cell_type": "markdown",
   "metadata": {},
   "source": [
    "- **ყურადღება**: არ დაგავიწყდეთ მიუთითოთ თქვენი ცვლადი სკრიპტის გაშვებისას:\n",
    "\n",
    "  `python ex_15.py ex_15_sample.txt`"
   ]
  },
  {
   "cell_type": "markdown",
   "metadata": {
    "id": "K6vmKEXBYcis"
   },
   "source": [
    "<h2 align=\"center\">რუბრიკა \"ბოროტი მანტიორი\"</h2>\n",
    "\n",
    "- ჩვენ ხშირად შევცვლით კოდს, რომ დავადგინოთ მისი გაშვების საზღვრები.\n",
    "\n",
    "\n",
    "- ქვევით მოყვანილია **კოდის მაგალითები** რომლებიც **არ კომპილირდება** და **იძლევა შეცდომას**. \n",
    "\n",
    "\n",
    "- **გაარჩიეთ** თითოეული მათგანი და **გაასწორეთ შეცდომები**!"
   ]
  },
  {
   "cell_type": "code",
   "execution_count": null,
   "metadata": {
    "id": "b8sU2mdaYcit"
   },
   "outputs": [],
   "source": [
    "from sys import argv\n",
    "\n",
    "script, filename = argv\n",
    "\n",
    "txt = open(filename)\n",
    "\n",
    "print(f\"აქ არის შენი ფაილი {filename}:\")\n",
    "print(txt.read())\n",
    "\n",
    "print(\"ძმურად, კიდევ ერთხელ დაწერე ფაილის სახელი:\")\n",
    "file_again = input('> ')\n",
    "\n",
    "txt_again = open(file_again)\n",
    "\n",
    "print(txt_again.read())"
   ]
  },
  {
   "cell_type": "code",
   "execution_count": null,
   "metadata": {
    "id": "YTh7X9wNYcj_"
   },
   "outputs": [],
   "source": [
    "txt = open()"
   ]
  },
  {
   "cell_type": "code",
   "execution_count": null,
   "metadata": {},
   "outputs": [],
   "source": [
    "txt = open(not_filename)"
   ]
  },
  {
   "cell_type": "code",
   "execution_count": null,
   "metadata": {
    "scrolled": true
   },
   "outputs": [],
   "source": [
    "txt = open(10)"
   ]
  },
  {
   "cell_type": "code",
   "execution_count": null,
   "metadata": {
    "scrolled": false
   },
   "outputs": [],
   "source": [
    "txt = open(Ex_15_sample.txt)\n",
    "print(txt.read())"
   ]
  },
  {
   "cell_type": "code",
   "execution_count": null,
   "metadata": {},
   "outputs": [],
   "source": [
    "txt = open(\"Ex_15_sample.txt\")\n",
    "print(txt.read())"
   ]
  },
  {
   "cell_type": "code",
   "execution_count": null,
   "metadata": {
    "scrolled": true
   },
   "outputs": [],
   "source": [
    "txt = open(\"Ex_15_sample.txt\", encoding=\"utf8\")\n",
    "print(txt.read())"
   ]
  },
  {
   "cell_type": "markdown",
   "metadata": {
    "id": "1e5Jtm36Ycki"
   },
   "source": [
    "<h2 align=\"center\">ხშირად დასმული კითხვები</h2>\n",
    "\n",
    "- ქვევით მოყვანილია კითხვები, რომლებიც გაუჩნდათ რეალურ სტუდენტებს ამ სავარჯიშოს შესრულებისას:\n",
    "\n",
    "\n",
    "1. **ფუნქცია `txt = open(filename)` არ გვიბრუნებს ამ ფაილის მნიშვნელობას?**\n",
    "\n",
    "   არა, არ გვიბრუნებს. რეალურად, ის ქმნის ე.წ. **ფაილის ობიექტს** და საშუალებას გაძლევს ამ ფაილის ნებისმიერ ადგილის მიღწევას.\n",
    "   \n",
    "   \n",
    "2. **რატომ არ გვაძლევს შეცდომას ერთი და იგივე ფაილის ორჯერ გასნისას?**\n",
    "\n",
    "   **Python**-ი არ შეგზღუდავთ ფაილის რამდენიმეჯერ გახსნისას, მეტიც, ხანდახან ის საჭიროცაა.\n",
    "   \n",
    "\n",
    "3. **რას ნიშნავს `from sys import argv`?**\n",
    "\n",
    "   ჯერჯერობით შეგიძლიათ აღიქვათ, რომ `sys` არის **პაკეტი** (**package**), ხოლო ეს მთლიანი ხაზი მისგან ითხოვს `argv` თვისებას. \n",
    "   \n",
    "   ამის შესახებ მეტ ინფორმაციას მოგვიანებით მოგაწვდით.\n",
    "   \n",
    "   \n",
    "4. **მე მინდა დამხმარე ფაილის დასახელება სკრიპტში ჩავწერო შემდეგნაირად, მაგრამ შეცდომას მიგდებს: `script, ex_15_sample.txt = argv`**\n",
    "\n",
    "   ეს არ არის ამ მეთოდის სწორი გამოყენება. კოდი ზუსტად ისე დაწერეთ, როგორც მოცემულია. "
   ]
  },
  {
   "cell_type": "markdown",
   "metadata": {
    "id": "4gGrOISaYckh"
   },
   "source": [
    "<h2 align=\"center\">სამუშაო დავალება</h2>\n",
    "\n",
    "\n",
    "1. ყოველ ხაზს მიუწერეთ კომენტარის სახით, თუ რას აკეთებს ის.\n",
    "\n",
    "\n",
    "2. თუ არ ხართ დარწმუნებული რამეში, თქვენ შეგიძლიათ ვინმეს ჰკითხოთ ან მოძებონთ ინტერნეტში **python 3.8 კითხვა**. \n",
    "\n",
    "   შეგიძლიათ სცადოთ დაძებნოთ `python 3.8 open`.\n",
    "\n",
    "\n",
    "3. წაშალეთ ხაზები 10-15, სადაც `input`-ს იყენებდით და აამუშავეთ სკრიპტი.\n",
    "\n",
    "\n",
    "4. ჩაამატეთ ასევე სკრიპტში `close()` ფუნქცია თქვენს ცვლადებზე `txt` და `txt_again`.\n",
    "\n",
    "   მნიშვნელოვანია, დახუროთ ფაილები, თუ მათთან მუშაობას მორჩით."
   ]
  },
  {
   "cell_type": "markdown",
   "metadata": {
    "id": "DqPstivsYckk"
   },
   "source": [
    "<h1 align=\"center\">სავარჯიშოს დასასრული</h1>"
   ]
  }
 ],
 "metadata": {
  "colab": {
   "collapsed_sections": [],
   "name": "Example for ex_10.ipynb",
   "provenance": [
    {
     "file_id": "1gA41PQJ9EnKxnFPmClTRFD5RcQUVHfzr",
     "timestamp": 1601916899165
    },
    {
     "file_id": "https://github.com/stsiskaridze/ISU/blob/master/R527/ex_02.ipynb",
     "timestamp": 1601912049891
    }
   ]
  },
  "kernelspec": {
   "display_name": "Python 3",
   "language": "python",
   "name": "python3"
  },
  "language_info": {
   "codemirror_mode": {
    "name": "ipython",
    "version": 3
   },
   "file_extension": ".py",
   "mimetype": "text/x-python",
   "name": "python",
   "nbconvert_exporter": "python",
   "pygments_lexer": "ipython3",
   "version": "3.7.3"
  }
 },
 "nbformat": 4,
 "nbformat_minor": 1
}
