{
 "cells": [
  {
   "cell_type": "markdown",
   "metadata": {
    "id": "WDDFQrf4Ycht"
   },
   "source": [
    "**R527 - დაპროგრამება პითონში**\n",
    "<br>\n",
    "თარიღი: **9 ოქტომბერი 2020**\n",
    "<br>\n",
    "\n",
    "სათაური: **სავარჯიშო 6**\n",
    "<br>\n",
    "მომხსენებელი: **შოთა ცისკარიძე**\n",
    "\n",
    "\n",
    "ბიბლიოგრაფია:\n",
    "<br> \n",
    " **სავარჯიშო 6.** Zed Shaw, *Learn Python 3 the Hard Way*, Addison Wesley (Verlag), 2017"
   ]
  },
  {
   "cell_type": "markdown",
   "metadata": {
    "id": "fYkwmIWkYchw"
   },
   "source": [
    "<h1 align=\"center\">სავარჯიშო 6: სტრიქონები და ტექსტები</h1>"
   ]
  },
  {
   "cell_type": "markdown",
   "metadata": {
    "id": "sRM4k6-aYch3"
   },
   "source": [
    "\n",
    " - **რა არის სტრიქონი?**\n",
    "\n",
    "- **სტრიქონი**, როგორც წესი, არის მცირეოდენი ტექსტი, რომლის გამოტანა (ექსპორტი) გსურს. \n",
    "\n",
    "\n",
    "- როდესაც ტექსტს აქცევთ **'ცალ'** ან **\"ორმაგ\"** ბრჭყალებში, `Python`-ს ეს ტექსტი **სტრიქონის** ფორმატში გადაჰყავს.\n",
    "\n",
    " *მაგალითად*, როგორც წინა დავალებებში `print()` ფუნქციის გამოყენებისას.\n",
    "\n",
    "\n",
    "- სტრინგი შეიძლება მოიცავდეს ნებისმიერ ცვლად(ებ)ს თქვენი კოდიდან. \n",
    "\n",
    " *დაიმახსოვრეთ*, რომ **ცვლადი** არის თქვენი კოდის ნებისმიერი სტრიქონი, სადაც თქვენ მიერ გამოყენებულ სახელს აწერთ რაიმე მნიშვნელობას **=** ნიშნის მეშვეობით.\n",
    "\n",
    "\n",
    "- წინა დავალებაში ჩვენ გამოვიყენეთ **format string**. მას ასევე ვეძახით **f-string**-ს:\n",
    "\n",
    " `f\"რაღაც ტექსტი {ცვლადის_სახელი}\"`\n",
    "\n",
    "\n",
    "- პიტონს `format`-ის კიდევ ერთი ვარიანტი აქვს: როდესაც ვიყენებთ ფუნქციას `.format()` (ნახავთ ქვემოთმოყვანილ მაგალითში, ხაზი 17). \n",
    "\n",
    "\n",
    "- დაიმახსოვრეთ, რომ პროგრამისტები ზარმაცები ხალხია, თავის დროს კი ჩვენს ხარჯზე ზოგავენ, როდესაც წერენ ასეთ ჩახლართულ კოდებს. \n",
    "\n",
    "  კიდევ ერთხელ, შეეცადეთ, ზუსტად გადმოიწეროთ შემდეგი მაგალითი:"
   ]
  },
  {
   "cell_type": "code",
   "execution_count": null,
   "metadata": {
    "colab": {
     "base_uri": "https://localhost:8080/",
     "height": 119
    },
    "executionInfo": {
     "elapsed": 677,
     "status": "ok",
     "timestamp": 1601921235878,
     "user": {
      "displayName": "Veronika Tsiskaridze",
      "photoUrl": "",
      "userId": "14609060841114149670"
     },
     "user_tz": -240
    },
    "id": "CV4H7To9Ych_",
    "outputId": "5f2c48fe-1003-4d0d-b5cc-88a21d8fa276"
   },
   "outputs": [],
   "source": [
    "types_of_people = 10\n",
    "x = f\"There are {types_of_people} types of people.\"\n",
    "\n",
    "binary = \"binary\"\n",
    "do_not = \"don't\"\n",
    "y = f\"Those who know {binary} and those who {do_not}.\"\n",
    "\n",
    "print(x)\n",
    "print(y)\n",
    "\n",
    "print(f\"I said: {x}\")\n",
    "print(f\"I also said: '{y}'\")\n",
    "\n",
    "hilarious = False\n",
    "joke_evaluation = \"Isn't that joke so funny?! {}\"\n",
    "\n",
    "print(joke_evaluation.format(hilarious))\n",
    "\n",
    "w = \"This is the left side of...\"\n",
    "e = \"a string with a right side.\"\n",
    "\n",
    "print(w + e)"
   ]
  },
  {
   "cell_type": "code",
   "execution_count": null,
   "metadata": {},
   "outputs": [],
   "source": [
    "hilarious = False\n",
    "print(f\"Isn't that joke so funny?! {hilarious}\")"
   ]
  },
  {
   "cell_type": "code",
   "execution_count": null,
   "metadata": {},
   "outputs": [],
   "source": [
    "Konstantin = 'Konstantin'\n",
    "Ashur = 'Ashur'\n",
    "Kakha = 'Kakha'\n",
    "greetings = \"Hello {}!\"\n",
    "print(greetings.format(konstantin))\n",
    "print(greetings.format(Ashur))\n",
    "print(greetings.format(Kakha))"
   ]
  },
  {
   "cell_type": "code",
   "execution_count": null,
   "metadata": {},
   "outputs": [],
   "source": [
    "print(f\"Hello {Konstantin}!\")\n",
    "print(f\"Hello {Ashur}!\")\n",
    "print(f\"Hello {Kakha}!\")"
   ]
  },
  {
   "cell_type": "markdown",
   "metadata": {
    "id": "K6vmKEXBYcis"
   },
   "source": [
    "<h2 align=\"center\">რუბრიკა \"ბოროტი მანტიორი\"</h2>\n",
    "\n",
    "- ჩვენ ხშირად შევცვლით კოდს, რომ დავადგინოთ მისი გაშვების საზღვრები.\n",
    "\n",
    "\n",
    "- ქვევით მოყვანილია **კოდის მაგალითები** რომლებიც **არ კომპილირდება** და **იძლევა შეცდომას**. \n",
    "\n",
    "\n",
    "- **გაარჩიეთ** თითოეული მათგანი და **გაასწორეთ შეცდომები**!"
   ]
  },
  {
   "cell_type": "code",
   "execution_count": 20,
   "metadata": {
    "id": "b8sU2mdaYcit"
   },
   "outputs": [],
   "source": [
    "a = True\n",
    "b = False\n",
    "joke_evaluation = \"Isn't that joke so funny?! {} {} {}\""
   ]
  },
  {
   "cell_type": "code",
   "execution_count": 18,
   "metadata": {
    "id": "YTh7X9wNYcj_",
    "scrolled": true
   },
   "outputs": [
    {
     "ename": "IndexError",
     "evalue": "tuple index out of range",
     "output_type": "error",
     "traceback": [
      "\u001b[1;31m---------------------------------------------------------------------------\u001b[0m",
      "\u001b[1;31mIndexError\u001b[0m                                Traceback (most recent call last)",
      "\u001b[1;32m<ipython-input-18-b12f0d594c3c>\u001b[0m in \u001b[0;36m<module>\u001b[1;34m\u001b[0m\n\u001b[1;32m----> 1\u001b[1;33m \u001b[0mprint\u001b[0m\u001b[1;33m(\u001b[0m\u001b[0mjoke_evaluation\u001b[0m\u001b[1;33m.\u001b[0m\u001b[0mformat\u001b[0m\u001b[1;33m(\u001b[0m\u001b[0ma\u001b[0m\u001b[1;33m,\u001b[0m\u001b[0mb\u001b[0m\u001b[1;33m)\u001b[0m\u001b[1;33m)\u001b[0m\u001b[1;33m\u001b[0m\u001b[1;33m\u001b[0m\u001b[0m\n\u001b[0m",
      "\u001b[1;31mIndexError\u001b[0m: tuple index out of range"
     ]
    }
   ],
   "source": [
    "print(joke_evaluation.format(a,b))"
   ]
  },
  {
   "cell_type": "code",
   "execution_count": 19,
   "metadata": {},
   "outputs": [
    {
     "name": "stdout",
     "output_type": "stream",
     "text": [
      "Isn't that joke so funny?! True False True\n"
     ]
    }
   ],
   "source": [
    "print(joke_evaluation.format(a,b,a,b))"
   ]
  },
  {
   "cell_type": "markdown",
   "metadata": {
    "id": "1e5Jtm36Ycki"
   },
   "source": [
    "<h2 align=\"center\">ხშირად დასმული კითხვები</h2>\n",
    "\n",
    "- ქვევით მოყვანილია კითხვები, რომლებიც გაუჩნდათ რეალურ სტუდენტებს ამ სავარჯიშოს შესრულებისას:\n",
    "\n",
    "\n",
    "1. **რატომ იყენებ ხან ცალ ბრჭყალებს, ხან კი ორმაგს?**\n",
    "\n",
    "   ძირითადად, სტილის გამო, მაგრამ მე ვიყენებ ცალ ბრჭყალებს ორმაგ ბრჭყალებში. დახედეთ ხაზებს 6-სა და 15-ს და დააკვირდით.\n",
    "   \n",
    "   \n",
    "2. **ხუმრობა სასაცილოდ რომ მოგჩვენოდათ, შეიძლებოდა დაგეწერათ `hilarious = True`?**\n",
    "\n",
    "   კი, და ბულეან-ტიპის ცვლადების შესახებ უფრო მეტს გაიგებთ შემდეგ დავალებებში."
   ]
  },
  {
   "cell_type": "markdown",
   "metadata": {
    "id": "4gGrOISaYckh"
   },
   "source": [
    "<h2 align=\"center\">სამუშაო დავალება</h2>\n",
    "\n",
    "1. გაჰყევით ამ კოდს და მიაწერეთ კომენტარი თითოეულ სტრიქონს.\n",
    "\n",
    "\n",
    "2. იპოვეთ ყველა ადგილი, სადაც სტრინგი სტრინგშია ჩასმული. სულ 4 შემთხვევაა.\n",
    "\n",
    "3. დარწმუნებული ხარ, რომ 4-ია? საიდან იცი? შეიძლება ვიტყუი.\n",
    "\n",
    "4. ახსენით, **+** ნიშანი ორ სტრინგს შორის რატომ ქმნის ერთ გრძელ სტრინგს."
   ]
  },
  {
   "cell_type": "markdown",
   "metadata": {
    "id": "DqPstivsYckk"
   },
   "source": [
    "<h1 align=\"center\">სავარჯიშოს დასასრული</h1>"
   ]
  }
 ],
 "metadata": {
  "colab": {
   "collapsed_sections": [],
   "name": "Example for ex_06.ipynb",
   "provenance": [
    {
     "file_id": "1gA41PQJ9EnKxnFPmClTRFD5RcQUVHfzr",
     "timestamp": 1601916899165
    },
    {
     "file_id": "https://github.com/stsiskaridze/ISU/blob/master/R527/ex_02.ipynb",
     "timestamp": 1601912049891
    }
   ]
  },
  "kernelspec": {
   "display_name": "Python 3",
   "language": "python",
   "name": "python3"
  },
  "language_info": {
   "codemirror_mode": {
    "name": "ipython",
    "version": 3
   },
   "file_extension": ".py",
   "mimetype": "text/x-python",
   "name": "python",
   "nbconvert_exporter": "python",
   "pygments_lexer": "ipython3",
   "version": "3.7.3"
  }
 },
 "nbformat": 4,
 "nbformat_minor": 1
}
