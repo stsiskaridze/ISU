{
 "cells": [
  {
   "cell_type": "markdown",
   "metadata": {
    "id": "WDDFQrf4Ycht"
   },
   "source": [
    "**R527 - დაპროგრამება პითონში**\n",
    "<br>\n",
    "თარიღი: **13 ნოემბერი 2020**\n",
    "<br>\n",
    "\n",
    "სათაური: **სავარჯიშო 35**\n",
    "<br>\n",
    "მომხსენებელი: **შოთა ცისკარიძე**\n",
    "\n",
    "\n",
    "ბიბლიოგრაფია:\n",
    "<br> \n",
    " **სავარჯიშო 35.** Zed Shaw, *Learn Python 3 the Hard Way*, Addison Wesley (Verlag), 2017"
   ]
  },
  {
   "cell_type": "markdown",
   "metadata": {
    "id": "fYkwmIWkYchw"
   },
   "source": [
    "<h1 align=\"center\">სავარჯიშო 35: კოდის ტოტები (Branches) და ფუნქციები </h1>"
   ]
  },
  {
   "cell_type": "markdown",
   "metadata": {
    "id": "sRM4k6-aYch3"
   },
   "source": [
    "- ჩვენ ვისწავლეთ `if` ბრძანებები, ფუნქციები და სიები.\n",
    "\n",
    "\n",
    "- დროა ისინი ერთად გამოვიყენოთ.\n",
    "\n",
    "\n",
    "- გადმოიწერეთ ქვემოთ მოცემული კოდი:\n"
   ]
  },
  {
   "cell_type": "code",
   "execution_count": 10,
   "metadata": {},
   "outputs": [
    {
     "name": "stdout",
     "output_type": "stream",
     "text": [
      "You are in a dark room.\n",
      "There is a door to your room right and left.\n",
      "Which one do you take?\n",
      "> 123123\n",
      "You stumble around the room until you starve. Good job!\n"
     ]
    },
    {
     "ename": "SystemExit",
     "evalue": "0",
     "output_type": "error",
     "traceback": [
      "An exception has occurred, use %tb to see the full traceback.\n",
      "\u001b[1;31mSystemExit\u001b[0m\u001b[1;31m:\u001b[0m 0\n"
     ]
    }
   ],
   "source": [
    "from sys import exit\n",
    "\n",
    "def gold_room():\n",
    "    print(\"This room is full of gold. How much do you take?\")\n",
    "    \n",
    "    choice = input(\"> \")\n",
    "    if \"0\" in choice or \"1\" in choice:\n",
    "        how_much = int(choice)\n",
    "    else:\n",
    "        dead(\"Man, learn to type a number.\")\n",
    "        \n",
    "    if how_much < 50:\n",
    "        print(\"Nice, you're not greedy, you win!\")\n",
    "        exit(0)\n",
    "    else:\n",
    "        dead(\"You greedy bastard!\")\n",
    "        \n",
    "        \n",
    "def bear_room():\n",
    "    print(\"There is a bear here.\")\n",
    "    print(\"The bear has a bunch of honey.\")\n",
    "    print(\"The fat bear is in front of another door.\")\n",
    "    print(\"How are you going to move the bear?\")\n",
    "    bear_moved = False\n",
    "    \n",
    "    while True:\n",
    "        choice = input(\"> \")\n",
    "        \n",
    "        if choice == \"take honey\":\n",
    "            dead(\"The bear looks at you then slaps your face off.\")\n",
    "        elif choice == \"taunt bear\" and not bear_moved:\n",
    "            print(\"The bear has moved from the door.\")\n",
    "            print(\"You can go through it now.\")\n",
    "            bear_moved = True\n",
    "        elif choice == \"taunt bear\" and bear_moved:\n",
    "            dead(\"The bear gets pissed off and chews your leg off.\")\n",
    "        elif choice == \"open door\" and bear_moved:\n",
    "            gold_room()\n",
    "        else:\n",
    "            print(\"I got no idea what that means.\")\n",
    "            \n",
    "            \n",
    "def cthulhu_room():\n",
    "    print(\"Here you see the great evil Cthulhu.\")\n",
    "    print(\"He, it, whatever stares at you and you go insane.\")\n",
    "    print(\"Do you flee for your life or eat your head?\")\n",
    "    \n",
    "    choice = input(\"> \")\n",
    "    \n",
    "    if \"flee\" in choice:\n",
    "        start()\n",
    "    elif \"head\" in choice:\n",
    "        dead(\"Well that was tasty!\")\n",
    "    else:\n",
    "        cthulhu_room()\n",
    "        \n",
    "        \n",
    "def dead(why):\n",
    "    print(why, \"Good job!\")\n",
    "    exit(0)\n",
    "    \n",
    "    le\n",
    "def start():\n",
    "    print(\"You are in a dark room.\")\n",
    "    print(\"There is a door to your room right and left.\")\n",
    "    print(\"Which one do you take?\")\n",
    "    \n",
    "    choice = input(\"> \")\n",
    "    \n",
    "    if choice == \"left\":\n",
    "        bear_room()\n",
    "    elif choice == \"right\":\n",
    "        cthulhu_room()\n",
    "    else:\n",
    "        dead(\"You stumble around the room until you starve.\")\n",
    "        \n",
    "        \n",
    "start()"
   ]
  },
  {
   "cell_type": "markdown",
   "metadata": {},
   "source": [
    "<h2 align=\"center\">რუბრიკა \"ბოროტი მანტიორი\"</h2>\n",
    "\n",
    "- ჩვენ ხშირად შევცვლით კოდს, რომ დავადგინოთ მისი გაშვების საზღვრები.\n",
    "\n",
    "\n",
    "- ქვევით მოყვანილია **კოდის მაგალითები** რომლებიც **არ კომპილირდება** და **იძლევა შეცდომას**. \n",
    "\n",
    "\n",
    "- **გაარჩიეთ** თითოეული მათგანი და **გაასწორეთ შეცდომები**!"
   ]
  },
  {
   "cell_type": "code",
   "execution_count": null,
   "metadata": {},
   "outputs": [],
   "source": []
  },
  {
   "cell_type": "code",
   "execution_count": null,
   "metadata": {},
   "outputs": [],
   "source": []
  },
  {
   "cell_type": "markdown",
   "metadata": {},
   "source": [
    "<h2 align=\"center\">ხშირად დასმული კითხვები</h2>\n",
    "\n",
    "- ქვევით მოყვანილია კითხვები, რომლებიც გაუჩნდათ რეალურ სტუდენტებს ამ სავარჯიშოს შესრულებისას:\n",
    "\n",
    "\n",
    "1. **დამეხმარეთ! როგორ მუშაობს ეს პროგრამა?!**\n",
    "\n",
    "    ყოველთვის, როცა არ გესმით კოდი, მიაწერეთ კომენტარი *თითოეულ* ხაზს. კომენტარები იყოს მოკლე და კონკრეტული.\n",
    "    \n",
    "    \n",
    "2. **რატომ დაწერე `while True`?**\n",
    "    \n",
    "    მასე უსასრულო ციკლი შევქმენი.\n",
    "    \n",
    "\n",
    "3. **რას აკეთებს `exit(0)`?**\n",
    "    \n",
    "    ბევრ ოპერაციულ სისტემას აქვს კოდის მუშაობის შეწყვეტის საშუალება, თან მიზეზის მითითება. მაგალითად, `exit(1)` ამოაგდებს შეცდომას მაშინ, როცა `exit(0)` უბრალოდ შეწყვეტს სკრიპტს. \n",
    "    \n",
    "    \n",
    "4. **რატომ წერთ ხანდახან `input()` და ხანდახან `input('> ')`**?\n",
    "\n",
    "    მეორე ვარიანტი ამოაგდებს ამ პარატა ისარს, რომელიც მიუთითებს მომხმარებელს. ისრის მაგივრად ტესტის ჩაწერაც კი შეიძლება.\n",
    "   \n",
    "   "
   ]
  },
  {
   "cell_type": "markdown",
   "metadata": {},
   "source": [
    "<h2 align=\"center\">საშინაო დავალება</h2>\n",
    "\n",
    "1. შეეცადე ზემოთ მოცემული კოდის რუკა დახატო.\n",
    "\n",
    "\n",
    "2. გამოასწორე ყველა შენი შეცდომა, სტრიქონებშიც აკრეფილი ტექსტიც კი.\n",
    "\n",
    "\n",
    "3. მიაწერე კომენტარები იმ ფუნქციებს, რომელიც არ გესმის.\n",
    "\n",
    "\n",
    "4. განავრცე ეს თამაში. რა იზამდი, რომ თან შეჰმათო, თან გაამარტივო ის?\n",
    "\n",
    "\n",
    "5. ფუნქცია `gold_room` ცოტა უცნაურად სთხოვს მომხმარებელს რიცხვის ჩაწერას. იპოვეთ ყველა ბაგი ამ ფუნქციის მუშაობაში. შეგიძლიათ ეს ფუნქცია გააუმჯობესოთ? **მინიშნება**: გაარკვიეთ, როგორ მუშაობს ფუნქცია `int()`. "
   ]
  },
  {
   "cell_type": "markdown",
   "metadata": {
    "id": "DqPstivsYckk"
   },
   "source": [
    "<h1 align=\"center\">სავარჯიშოს დასასრული</h1>"
   ]
  }
 ],
 "metadata": {
  "colab": {
   "collapsed_sections": [],
   "name": "Example for ex_10.ipynb",
   "provenance": [
    {
     "file_id": "1gA41PQJ9EnKxnFPmClTRFD5RcQUVHfzr",
     "timestamp": 1601916899165
    },
    {
     "file_id": "https://github.com/stsiskaridze/ISU/blob/master/R527/ex_02.ipynb",
     "timestamp": 1601912049891
    }
   ]
  },
  "kernelspec": {
   "display_name": "Python 3",
   "language": "python",
   "name": "python3"
  },
  "language_info": {
   "codemirror_mode": {
    "name": "ipython",
    "version": 3
   },
   "file_extension": ".py",
   "mimetype": "text/x-python",
   "name": "python",
   "nbconvert_exporter": "python",
   "pygments_lexer": "ipython3",
   "version": "3.7.3"
  }
 },
 "nbformat": 4,
 "nbformat_minor": 1
}
