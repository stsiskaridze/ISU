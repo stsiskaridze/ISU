{
 "cells": [
  {
   "cell_type": "markdown",
   "metadata": {
    "id": "WDDFQrf4Ycht"
   },
   "source": [
    "**R527 - დაპროგრამება პითონში**\n",
    "<br>\n",
    "თარიღი: **23 ოქტომბერი 2020**\n",
    "<br>\n",
    "\n",
    "სათაური: **სავარჯიშო 21**\n",
    "<br>\n",
    "მომხსენებელი: **შოთა ცისკარიძე**\n",
    "\n",
    "\n",
    "ბიბლიოგრაფია:\n",
    "<br> \n",
    " **სავარჯიშო 21.** Zed Shaw, *Learn Python 3 the Hard Way*, Addison Wesley (Verlag), 2017"
   ]
  },
  {
   "cell_type": "markdown",
   "metadata": {
    "id": "fYkwmIWkYchw"
   },
   "source": [
    "<h1 align=\"center\">სავარჯიშო 21: ფუნქციებს რაღაცის დაბრუნებაც შეუძლიათ</h1>"
   ]
  },
  {
   "cell_type": "markdown",
   "metadata": {
    "slideshow": {
     "slide_type": "fragment"
    }
   },
   "source": [
    "<center><img src=\"images/Ex_21_Intro.jpg\" width=\"500\"alt=\"Example\" /></center>"
   ]
  },
  {
   "cell_type": "markdown",
   "metadata": {
    "id": "sRM4k6-aYch3"
   },
   "source": [
    "- აქამდე ჩვენ `=` უდრის სიმბოლოს ვიყენებდით **ცვლადებისთვის მნიშვნელობის მისანიჭებლად**. \n",
    "\n",
    "\n",
    "- ამჯერად, ამ სიმბოლოს სრულიად **ახალი და განხსვავებული გამოყენება** უნდა ვისწავლოთ. \n",
    "\n",
    "\n",
    "- ჩვენ გამოვიყენებთ **Python**-ის ახალ სიტყვას `return` და `=` უდრის სიმბოლოს, რათა **ცვლადს ფუნქციის მნიშვნელობა მივანიჭოთ**. \n",
    "\n",
    "\n",
    "- ერთ რაღაცასაც მიგაქცევინებთ ყურადღებას, მაგრამ ჯერ კოდი აკრიფეთ:"
   ]
  },
  {
   "cell_type": "code",
   "execution_count": null,
   "metadata": {
    "colab": {
     "base_uri": "https://localhost:8080/",
     "height": 204
    },
    "executionInfo": {
     "elapsed": 721,
     "status": "ok",
     "timestamp": 1601975235429,
     "user": {
      "displayName": "Veronika Tsiskaridze",
      "photoUrl": "",
      "userId": "14609060841114149670"
     },
     "user_tz": -240
    },
    "id": "ES2yhvD-KCEH",
    "outputId": "a43bbdfc-2e09-4b18-8652-41abdd152c07",
    "scrolled": true
   },
   "outputs": [],
   "source": [
    "def add(a, b):\n",
    "    print(f\"დამატება: {a} + {b}\")\n",
    "    return a + b\n",
    "\n",
    "def substract(a, b):\n",
    "    print(f\"გამოკლება: {a} - {b}\")\n",
    "    return a - b\n",
    "\n",
    "def multiply(a, b):\n",
    "    print(f\"გამრავლება: {a} * {b}\")\n",
    "    return a * b\n",
    "\n",
    "def divide(a, b):\n",
    "    print(f\"გაყოფა: {a} / {b}\")\n",
    "    return a / b\n",
    "\n",
    "\n",
    "print(\"მოდით რაიმე გამოვთვალოთ ფუნქციის საშუალებით!\")\n",
    "\n",
    "age = add(30, 5)\n",
    "height = substract(366, 2)\n",
    "weight = multiply(30, 4)\n",
    "iq = divide(201, 3)\n",
    "\n",
    "print(f\"ასაკი: {age}, სიმაღლე: {height}, წონა: {weight}, ტვინი: {iq}.\")\n",
    "\n",
    "\n",
    "# დამატებითი ქულისთვის დაწერეთ შემდეგი კოდიც\n",
    "print(\"აქ არის დამალული ამოცანა!\")\n",
    "\n",
    "what = add(age, substract(height, multiply(weight, divide(iq,2))))\n",
    "\n",
    "print(\"საბოლოო შედეგია \", what, \"შეგიძლიათ იგივეს ხელით გამოთვლა?\")"
   ]
  },
  {
   "cell_type": "markdown",
   "metadata": {
    "id": "MkBwKJOF9JNX"
   },
   "source": [
    "- ჩვენ შევქმენით მათემატიკური ფუნქციების ჩვენი ვარიანტები, სახელად `add`, `substract`, `multiply`, `divide`. \n",
    "\n",
    "\n",
    "- ასევე მიაქციეთ ყურადღება ბოლო ხაზს: **`return a + b`**, რაც შემდეგს შვრება:\n",
    "  1. ჩვენს ფუნქციას 2 არგუმენტი აქვს `a` და `b`.\n",
    "  2. ჩვენ ვბეჭდავთ იმას, რასაც ფუნქცია აკეთებს. პირველ ვარიანტში ეს არის **დამატება**\n",
    "  3. შემდეგ ვეუბნებით Python-ს დაგვიბრუნოს `(a + b)`.\n",
    "  4. Python აჯამებს რიცხვებს. და როცა ფუნქცია დასრულდება, ნებისმიერი ხაზი, რომელიც ამ ფუნქციას გამოიყენებს, შეძლებს მიაწეროს ცვლადს `a + b` მნიშვნელობა."
   ]
  },
  {
   "cell_type": "markdown",
   "metadata": {
    "id": "K6vmKEXBYcis"
   },
   "source": [
    "<h2 align=\"center\">რუბრიკა \"ბოროტი მანტიორი\"</h2>\n",
    "\n",
    "- ჩვენ ხშირად შევცვლით კოდს, რომ დავადგინოთ მისი გაშვების საზღვრები.\n",
    "\n",
    "\n",
    "- ქვევით მოყვანილია **კოდის მაგალითები** რომლებიც **არ კომპილირდება** და **იძლევა შეცდომას**. \n",
    "\n",
    "\n",
    "- **გაარჩიეთ** თითოეული მათგანი და **გაასწორეთ შეცდომები**!"
   ]
  },
  {
   "cell_type": "code",
   "execution_count": null,
   "metadata": {
    "id": "b8sU2mdaYcit"
   },
   "outputs": [],
   "source": [
    "def function(a):\n",
    "    b = a + a\n",
    "    return b\n",
    "\n",
    "function(1)"
   ]
  },
  {
   "cell_type": "code",
   "execution_count": null,
   "metadata": {
    "id": "YTh7X9wNYcj_"
   },
   "outputs": [],
   "source": [
    "def function(a):\n",
    "    return a + a\n",
    "\n",
    "function(1)"
   ]
  },
  {
   "cell_type": "code",
   "execution_count": null,
   "metadata": {},
   "outputs": [],
   "source": [
    "def function(a):\n",
    "    a += a\n",
    "    return a\n",
    "\n",
    "function(1)"
   ]
  },
  {
   "cell_type": "code",
   "execution_count": null,
   "metadata": {},
   "outputs": [],
   "source": [
    "def function(a):\n",
    "    return a+=a\n",
    "\n",
    "function(1)"
   ]
  },
  {
   "cell_type": "code",
   "execution_count": null,
   "metadata": {},
   "outputs": [],
   "source": [
    "def function(a):\n",
    "    return\n",
    "    a +=a\n",
    "\n",
    "function(1)"
   ]
  },
  {
   "cell_type": "code",
   "execution_count": null,
   "metadata": {},
   "outputs": [],
   "source": [
    "def function(a, b, c):\n",
    "    return a\n",
    "    return b\n",
    "    return c\n",
    "\n",
    "function(1, 2, 3)"
   ]
  },
  {
   "cell_type": "code",
   "execution_count": null,
   "metadata": {},
   "outputs": [],
   "source": [
    "def function(a):\n",
    "    return a\n",
    "    return b\n",
    "    return c\n",
    "\n",
    "function(1)"
   ]
  },
  {
   "cell_type": "code",
   "execution_count": null,
   "metadata": {},
   "outputs": [],
   "source": [
    "def function(a):\n",
    "    return a\n",
    "    return b\n",
    "    return c\n",
    "\n",
    "function(1)"
   ]
  },
  {
   "cell_type": "markdown",
   "metadata": {
    "id": "1e5Jtm36Ycki"
   },
   "source": [
    "<h2 align=\"center\">ხშირად დასმული კითხვები</h2>\n",
    "\n",
    "- ქვევით მოყვანილია კითხვები, რომლებიც გაუჩნდათ რეალურ სტუდენტებს ამ სავარჯიშოს შესრულებისას:\n",
    "\n",
    "\n",
    "1. **როგორ შემიძლია გამოვიყენო `input()`, რომ ჩემი მონაცემები ჩავწერო?**\n",
    "\n",
    "   გახსოვთ `int(input())`? უბრალოდ ამ შემთხვევაში ნამდვილ რიცხვს ვერ გამოვიყენებთ. თუმცა შეგიძლიათ სცადოთ კიდევ `float(input())`.\n",
    "   \n",
    "   \n"
   ]
  },
  {
   "cell_type": "markdown",
   "metadata": {
    "id": "4gGrOISaYckh"
   },
   "source": [
    "<h2 align=\"center\">საშინაო დავალება</h2>\n",
    "\n",
    "\n",
    "1. თუ არ ხართ დარწმუნებული, რას აკეთებს `return`, დაწერეთ კიდევ რამდენიმე ფუნქცია და გამოიყენეთ `return`, რომ მიიღოთ მნიშვნელობები.\n",
    "\n",
    "\n",
    "2. სკრიპტის ბოლოს გაქვთ დამატებითი ამოცანა. მე ავიღე სხვა ფუნქციის დაბრუნებული მნიშვნელობა და *გამოვიყენე* ის ახალი ფუნქციის არგუმენტად. ამას ჯაჭვურად ვაკეთებ და ფუნქციების გამოყენებით ვქმნი *ფორმულას*. ის უცნაურად გამოიყურება. თქვენი დავალებაა გამოიცნოთ რეალური გამოსახულება და გაუბრალოებული ფორმულა დაწეროთ.\n",
    "\n",
    "\n",
    "3. წინა დავალებას რომ შეარულებთ, შეეცადეთ ამ ფორმულის ფუნქციების ნაწილი შეცვალოთ. შეეცადეთ მიიღოთ სხვა მნიშვნელობაც.\n",
    "\n",
    "\n",
    "4. ახლა პირიქით. აიღეთ რამე ფორმულა და გამოიყენეთ ფუნქციები მნიშვნელობის გამოსათვლელად. \n",
    "\n",
    "\n",
    "- **რა იგულისხმება ფორმულის დაწერაში?** აიღეთ მაგალითისთვის გამოსახულება `24 + 34 / 100 - 1023`. დაწერეთ ამ გამოსახულების გამოსათვლელი სკრიპტი ფუნქციების გამოყენებით. ახლა მოიფიქრეთ მსგავსი მათემატიკური განტოლება, გამოიყენეთ ცვლადები და ფორმულის სახე მიეცით. \n"
   ]
  },
  {
   "cell_type": "markdown",
   "metadata": {
    "id": "DqPstivsYckk"
   },
   "source": [
    "<h1 align=\"center\">სავარჯიშოს დასასრული</h1>"
   ]
  }
 ],
 "metadata": {
  "colab": {
   "collapsed_sections": [],
   "name": "Example for ex_21.ipynb",
   "provenance": [
    {
     "file_id": "1gA41PQJ9EnKxnFPmClTRFD5RcQUVHfzr",
     "timestamp": 1601916899165
    },
    {
     "file_id": "https://github.com/stsiskaridze/ISU/blob/master/R527/ex_02.ipynb",
     "timestamp": 1601912049891
    }
   ]
  },
  "kernelspec": {
   "display_name": "Python 3",
   "language": "python",
   "name": "python3"
  },
  "language_info": {
   "codemirror_mode": {
    "name": "ipython",
    "version": 3
   },
   "file_extension": ".py",
   "mimetype": "text/x-python",
   "name": "python",
   "nbconvert_exporter": "python",
   "pygments_lexer": "ipython3",
   "version": "3.7.3"
  }
 },
 "nbformat": 4,
 "nbformat_minor": 1
}
