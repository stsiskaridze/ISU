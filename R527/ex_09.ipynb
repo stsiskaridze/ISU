{
 "cells": [
  {
   "cell_type": "markdown",
   "metadata": {
    "id": "WDDFQrf4Ycht"
   },
   "source": [
    "**R527 - დაპროგრამება პითონში**\n",
    "<br>\n",
    "თარიღი: **9 ოქტომბერი 2020**\n",
    "<br>\n",
    "\n",
    "სათაური: **სავარჯიშო 9**\n",
    "<br>\n",
    "მომხსენებელი: **შოთა ცისკარიძე**\n",
    "\n",
    "\n",
    "ბიბლიოგრაფია:\n",
    "<br> \n",
    " **სავარჯიშო 9.** Zed Shaw, *Learn Python 3 the Hard Way*, Addison Wesley (Verlag), 2017"
   ]
  },
  {
   "cell_type": "markdown",
   "metadata": {
    "id": "fYkwmIWkYchw"
   },
   "source": [
    "<h1 align=\"center\">სავარჯიშო 9: პრინტი, პრინტი, პრინტი</h1>"
   ]
  },
  {
   "cell_type": "markdown",
   "metadata": {
    "id": "sRM4k6-aYch3"
   },
   "source": [
    "როგორც უკვე მიხვდებოდით, ჯერ დავალებით გაძლევთ ახალ ინფორმაციას, ხოლო შემდეგი დავალებები ახალი მასალის და კონცეპტების უკეთ გაგებას  ემსახურება. \n",
    "\n",
    "თუნდაც რამე გაუგებარი რჩება დავალების შესრულების შემდეგ, მეტი სავარჯიშოების კეთება უნდა განაგრძოთ და საბოლოოდ ყველაფერი ნათეი გახდება.\n"
   ]
  },
  {
   "cell_type": "code",
   "execution_count": 1,
   "metadata": {
    "colab": {
     "base_uri": "https://localhost:8080/",
     "height": 272
    },
    "executionInfo": {
     "elapsed": 1474,
     "status": "ok",
     "timestamp": 1601973347878,
     "user": {
      "displayName": "Veronika Tsiskaridze",
      "photoUrl": "",
      "userId": "14609060841114149670"
     },
     "user_tz": -240
    },
    "id": "CV4H7To9Ych_",
    "outputId": "eeb634e2-33ed-4963-8cd6-62465f1a09a6"
   },
   "outputs": [
    {
     "name": "stdout",
     "output_type": "stream",
     "text": [
      "Here are the days:  Mon Tue Wed Thu Fri Sat Sun\n",
      "Here are the months:  Jan\n",
      "Fen\n",
      "Mar\n",
      "Apr\n",
      "May\n",
      "Jun\n",
      "Jul\n",
      "Aug\n",
      "\n",
      "აქ რაღაც ხდება.\n",
      "რაღაც უცნაური ამ სამ ორმაგ ბრჭყალებთანაა დაკავშირებული.\n",
      "ჩვენ სურვილისამებრ შეგვიძლია დავბეჭდოთ ხაზები.\n",
      "გინდ 4 ხაზიც, გინდ 5 და 6.\n",
      "\n"
     ]
    }
   ],
   "source": [
    "# ქვემოთ მოყვანილია ახალი უცნაური მასალა. გახსოვდეთ, ზუსტად გადმოიწეროთ ის, რაც წერია..\n",
    "\n",
    "days = \"Mon Tue Wed Thu Fri Sat Sun\"\n",
    "months = \"Jan\\nFen\\nMar\\nApr\\nMay\\nJun\\nJul\\nAug\"\n",
    "\n",
    "print(\"Here are the days: \", days)\n",
    "print(\"Here are the months: \", months)\n",
    "\n",
    "print(\"\"\"\n",
    "აქ რაღაც ხდება.\n",
    "რაღაც უცნაური ამ სამ ორმაგ ბრჭყალებთანაა დაკავშირებული.\n",
    "ჩვენ სურვილისამებრ შეგვიძლია დავბეჭდოთ ხაზები.\n",
    "გინდ 4 ხაზიც, გინდ 5 და 6.\n",
    "\"\"\")"
   ]
  },
  {
   "cell_type": "markdown",
   "metadata": {
    "id": "K6vmKEXBYcis"
   },
   "source": [
    "<h2 align=\"center\">რუბრიკა \"ბოროტი მანტიორი\"</h2>\n",
    "\n",
    "- ჩვენ ხშირად შევცვლით კოდს, რომ დავადგინოთ მისი გაშვების საზღვრები.\n",
    "\n",
    "\n",
    "- ქვევით მოყვანილია **კოდის მაგალითები** რომლებიც **არ კომპილირდება** და **იძლევა შეცდომას**. \n",
    "\n",
    "\n",
    "- **გაარჩიეთ** თითოეული მათგანი და **გაასწორეთ შეცდომები**!"
   ]
  },
  {
   "cell_type": "code",
   "execution_count": null,
   "metadata": {
    "id": "b8sU2mdaYcit"
   },
   "outputs": [],
   "source": []
  },
  {
   "cell_type": "code",
   "execution_count": null,
   "metadata": {
    "id": "YTh7X9wNYcj_"
   },
   "outputs": [],
   "source": []
  },
  {
   "cell_type": "markdown",
   "metadata": {
    "id": "4gGrOISaYckh"
   },
   "source": [
    "<h2 align=\"center\">სამუშაო დავალება</h2>\n",
    "\n",
    "<h4>იგივეა, რაც წინა დავალებისთვის:</h4>\n",
    "\n",
    "\n",
    "1. გაჰყევით ამ კოდს და მიაწერეთ კომენტარი თითოეულ სტრიქონს.\n",
    "\n",
    "2. წაიკითხეთ ხმამაღლა თითო სტრიქონი ბოლოდან და იპოვეთ შეცდომები.\n",
    "\n",
    "3. ამ დავალებიდან და სამომავლოდ, ჩამოწერეთ ქაღალდზე, თუ რა ტიპის შეცდომა დაუშვით.\n",
    "\n",
    "4. შემდეგ დავალებაზე გადასვლისას დახედეთ ამ ფურცელს და შეეცადეთ, თავი აარიდოთ მსგავსი შეცდომების დაშვებას.\n",
    "\n",
    "5. დაიმახსოვრეთ: ყველას მოსდის შეცდომები, პროგრამისტებსაც კი."
   ]
  },
  {
   "cell_type": "markdown",
   "metadata": {
    "id": "1e5Jtm36Ycki"
   },
   "source": [
    "<h2 align=\"center\">ხშირად დასმული კითხვები</h2>\n",
    "\n",
    "- ქვევით მოყვანილია კითხვები, რომლებიც გაუჩნდათ რეალურ სტუდენტებს ამ სავარჯიშოს შესრულებისას:\n",
    "\n",
    "\n",
    "1. რატომ მიგდებს შეცდომას, როცა ადგილს ვტოვენ სამ ორმაგ ბრრჭყალებს შორის? \n",
    "\n",
    "   თქვენ ისინი ერთად უნდა დაწეროთ `\"\"\"` და არა ცალკ-ცალკე `\" \" \"`.\n",
    "   \n",
    "   \n",
    "2. თვეების სია ახალი ხაზიდან როგორ დავბეჭდო?\n",
    "\n",
    "   თქვენ უბრალოდ გამოიყენებდით `\\n`-ს იანვრის წინ შემდეგნაირად: `\"\\nJan\\nFeb\\nMar\\nApr\\nMay\\nKun\\nAug\"`\n",
    "\n",
    "\n",
    "3. ცუდია, რომ ჩემი შეცდომები ძირითადად არასწორად აკრეფის გამოა?\n",
    "\n",
    "  პროგრამების უმეტესი შეცდომები, მით უმეტეს დამწყებების კოდში, აკრეფის დროს პატარა უზუსტობებს  წარმოადგენენ. \n",
    "\n"
   ]
  },
  {
   "cell_type": "markdown",
   "metadata": {
    "id": "DqPstivsYckk"
   },
   "source": [
    "<h1 align=\"center\">სავარჯიშოს დასასრული</h1>"
   ]
  }
 ],
 "metadata": {
  "colab": {
   "collapsed_sections": [],
   "name": "Example for ex_09.ipynb",
   "provenance": [
    {
     "file_id": "1gA41PQJ9EnKxnFPmClTRFD5RcQUVHfzr",
     "timestamp": 1601916899165
    },
    {
     "file_id": "https://github.com/stsiskaridze/ISU/blob/master/R527/ex_02.ipynb",
     "timestamp": 1601912049891
    }
   ]
  },
  "kernelspec": {
   "display_name": "Python 3",
   "language": "python",
   "name": "python3"
  },
  "language_info": {
   "codemirror_mode": {
    "name": "ipython",
    "version": 3
   },
   "file_extension": ".py",
   "mimetype": "text/x-python",
   "name": "python",
   "nbconvert_exporter": "python",
   "pygments_lexer": "ipython3",
   "version": "3.7.3"
  }
 },
 "nbformat": 4,
 "nbformat_minor": 1
}
