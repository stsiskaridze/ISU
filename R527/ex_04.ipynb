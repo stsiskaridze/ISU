{
 "cells": [
  {
   "cell_type": "markdown",
   "metadata": {
    "id": "WDDFQrf4Ycht"
   },
   "source": [
    "**R527 - დაპროგრამება პითონში**\n",
    "<br>\n",
    "თარიღი: **9 ოქტომბერი 2020**\n",
    "<br>\n",
    "\n",
    "სათაური: **სავარჯიშო 4**\n",
    "<br>\n",
    "მომხსენებელი: **შოთა ცისკარიძე**\n",
    "\n",
    "\n",
    "ბიბლიოგრაფია:\n",
    "<br> \n",
    " **სავარჯიშო 4.** Zed Shaw, *Learn Python 3 the Hard Way*, Addison Wesley (Verlag), 2017"
   ]
  },
  {
   "cell_type": "markdown",
   "metadata": {
    "id": "fYkwmIWkYchw"
   },
   "source": [
    "<h1 align=\"center\">სავარჯიშო 4: ცვლადები და სახელები</h1>"
   ]
  },
  {
   "cell_type": "markdown",
   "metadata": {},
   "source": [
    "<center><img src=\"images/Ex04_Name.jpg\" width=\"600\" alt=\"Example\" /></center>"
   ]
  },
  {
   "cell_type": "markdown",
   "metadata": {
    "id": "sRM4k6-aYch3"
   },
   "source": [
    "- ახლა უკვე შეგვიძლია გამოვიყენოთ ფუნქცია `print` და **გამოვთვალოთ** პითონში.\n",
    "\n",
    "\n",
    "- შემდეგი ნაბიჯია ვისწავლოთ **ცვლადები** გამოყენება.\n",
    "\n",
    "\n",
    "- პროგრამისტებს ცუდი მეხსიერება აქვთ, ამიტომ **ცვლადების** (იგივე, სახელების) **სწორედ შერჩევა** და გამოყენება **სასიცოცხლოდ მნიშვნელოვანია**.\n",
    "\n",
    "\n",
    "- ქვემოთ მოყვანილია **მაგალითები** თუ როგორ უნდა გამოიყენო ცვლადები `Python`-ში.\n",
    "\n",
    "\n",
    "- თუ სავარჯიშო გაგიჭირდათ, გამოიყენეთ ის ხრიკები, რომელიც აქამდე ვისწავლეთ:\n",
    "  1. თითო ხაზს დაუწერე განსამარტებელი კომენტარი;\n",
    "  2. წაიკითხე შენი ფაილი ბოლოდან;\n",
    "  3. ხმამაღლა წაიკითხე ფაილი, თითო ასოც, თუ საჭირო გახდა!"
   ]
  },
  {
   "cell_type": "code",
   "execution_count": 13,
   "metadata": {
    "colab": {
     "base_uri": "https://localhost:8080/",
     "height": 119
    },
    "executionInfo": {
     "elapsed": 1746,
     "status": "ok",
     "timestamp": 1601914016925,
     "user": {
      "displayName": "Veronika Tsiskaridze",
      "photoUrl": "",
      "userId": "14609060841114149670"
     },
     "user_tz": -240
    },
    "id": "CV4H7To9Ych_",
    "outputId": "1bdd79f0-450f-49ba-aee0-ae0a952b30d1"
   },
   "outputs": [
    {
     "name": "stdout",
     "output_type": "stream",
     "text": [
      "There are 100 cars available.\n",
      "There are only 30 drivers available.\n",
      "There will be 70 empty cars today.\n",
      "We can transport 120.0 people today.\n",
      "We have 90 to carpool today.\n",
      "We need to put about 3.0 in each car.\n"
     ]
    }
   ],
   "source": [
    "cars = 100\n",
    "space_in_a_car = 4.0\n",
    "drivers = 30\n",
    "passengers = 90\n",
    "cars_not_driven = cars - drivers\n",
    "cars_driven = drivers\n",
    "carpool_capacity = cars_driven * space_in_a_car\n",
    "average_passengers_per_car = passengers / cars_driven\n",
    "\n",
    "\n",
    "print(\"There are\", cars, \"cars available.\")\n",
    "print(\"There are only\", drivers, \"drivers available.\")\n",
    "print(\"There will be\", cars_not_driven, \"empty cars today.\")\n",
    "print(\"We can transport\", carpool_capacity, \"people today.\")\n",
    "print(\"We have\", passengers, \"to carpool today.\")\n",
    "print(\"We need to put about\", average_passengers_per_car, \"in each car.\")"
   ]
  },
  {
   "cell_type": "markdown",
   "metadata": {
    "id": "4SjQQabjhIol"
   },
   "source": [
    "- **შენიშვნა**: \n",
    "\n",
    "  ცვლად `space_in_a_car`-ში გამოყენებულ `_` -ს ეწოდება **ქვედატირე**, ინგლისურად **underscore character**. \n",
    "\n",
    "  **სფეისი** (**გამოტოვება**) **დაუშვებელია ცვლადებში**, ამიტომ მის ნაცვლად ქვედატირეს ვიყენებთ."
   ]
  },
  {
   "cell_type": "markdown",
   "metadata": {
    "id": "K6vmKEXBYcis"
   },
   "source": [
    "<h2 align=\"center\">რუბრიკა \"ბოროტი მანტიორი\"</h2>\n",
    "\n",
    "- ჩვენ ხშირად შევცვლით კოდს, რომ დავადგინოთ მისი გაშვების საზღვრები.\n",
    "\n",
    "\n",
    "- ქვევით მოყვანილია **კოდის მაგალითები** რომლებიც **არ კომპილირდება** და **იძლევა შეცდომას**. \n",
    "\n",
    "\n",
    "- **გაარჩიეთ** თითოეული მათგანი და **გაასწორეთ შეცდომები**!\n",
    "\n",
    "\n",
    "- **დაამატეთ** თქვენი ვარიანტები!"
   ]
  },
  {
   "cell_type": "code",
   "execution_count": 2,
   "metadata": {
    "colab": {
     "base_uri": "https://localhost:8080/",
     "height": 129
    },
    "executionInfo": {
     "elapsed": 1001,
     "status": "error",
     "timestamp": 1601914547260,
     "user": {
      "displayName": "Veronika Tsiskaridze",
      "photoUrl": "",
      "userId": "14609060841114149670"
     },
     "user_tz": -240
    },
    "id": "b8sU2mdaYcit",
    "outputId": "80b31702-e8d7-45a5-b9f5-d8f63d67af78",
    "scrolled": true
   },
   "outputs": [
    {
     "ename": "TypeError",
     "evalue": "can only concatenate str (not \"int\") to str",
     "output_type": "error",
     "traceback": [
      "\u001b[1;31m---------------------------------------------------------------------------\u001b[0m",
      "\u001b[1;31mTypeError\u001b[0m                                 Traceback (most recent call last)",
      "\u001b[1;32m<ipython-input-2-96af94af62e7>\u001b[0m in \u001b[0;36m<module>\u001b[1;34m\u001b[0m\n\u001b[1;32m----> 1\u001b[1;33m \u001b[0mprint\u001b[0m\u001b[1;33m(\u001b[0m\u001b[1;34m\"There are\"\u001b[0m \u001b[1;33m+\u001b[0m \u001b[0mcars\u001b[0m \u001b[1;33m+\u001b[0m \u001b[1;34m\"cars available.\"\u001b[0m\u001b[1;33m)\u001b[0m\u001b[1;33m\u001b[0m\u001b[1;33m\u001b[0m\u001b[0m\n\u001b[0m",
      "\u001b[1;31mTypeError\u001b[0m: can only concatenate str (not \"int\") to str"
     ]
    }
   ],
   "source": [
    "print(\"There are\" + cars + \"cars available.\")"
   ]
  },
  {
   "cell_type": "code",
   "execution_count": 3,
   "metadata": {
    "scrolled": true
   },
   "outputs": [
    {
     "ename": "SyntaxError",
     "evalue": "invalid syntax (<ipython-input-3-3a8c11b017b6>, line 1)",
     "output_type": "error",
     "traceback": [
      "\u001b[1;36m  File \u001b[1;32m\"<ipython-input-3-3a8c11b017b6>\"\u001b[1;36m, line \u001b[1;32m1\u001b[0m\n\u001b[1;33m    print(\"There are only\" drivers \"drivers available.\")\u001b[0m\n\u001b[1;37m                                 ^\u001b[0m\n\u001b[1;31mSyntaxError\u001b[0m\u001b[1;31m:\u001b[0m invalid syntax\n"
     ]
    }
   ],
   "source": [
    "print(\"There are only\" drivers \"drivers available.\")"
   ]
  },
  {
   "cell_type": "code",
   "execution_count": 4,
   "metadata": {},
   "outputs": [
    {
     "name": "stdout",
     "output_type": "stream",
     "text": [
      "There will be 70 empty cars today.\n"
     ]
    }
   ],
   "source": [
    "print(\"There will be\", cars_not_driven, \"empty cars today.\",)"
   ]
  },
  {
   "cell_type": "code",
   "execution_count": 7,
   "metadata": {
    "colab": {
     "base_uri": "https://localhost:8080/",
     "height": 129
    },
    "executionInfo": {
     "elapsed": 994,
     "status": "error",
     "timestamp": 1601914604859,
     "user": {
      "displayName": "Veronika Tsiskaridze",
      "photoUrl": "",
      "userId": "14609060841114149670"
     },
     "user_tz": -240
    },
    "id": "YTh7X9wNYcj_",
    "outputId": "9a0554ba-5c26-493b-e762-fb53f72d1b11"
   },
   "outputs": [
    {
     "ename": "SyntaxError",
     "evalue": "invalid syntax (<ipython-input-7-68befbd99431>, line 1)",
     "output_type": "error",
     "traceback": [
      "\u001b[1;36m  File \u001b[1;32m\"<ipython-input-7-68befbd99431>\"\u001b[1;36m, line \u001b[1;32m1\u001b[0m\n\u001b[1;33m    print(\"We can transport\", carpool capacity, \"people today.\")\u001b[0m\n\u001b[1;37m                                             ^\u001b[0m\n\u001b[1;31mSyntaxError\u001b[0m\u001b[1;31m:\u001b[0m invalid syntax\n"
     ]
    }
   ],
   "source": [
    "print(\"We can transport\", carpool capacity, \"people today.\")"
   ]
  },
  {
   "cell_type": "code",
   "execution_count": 8,
   "metadata": {
    "colab": {
     "base_uri": "https://localhost:8080/",
     "height": 129
    },
    "executionInfo": {
     "elapsed": 994,
     "status": "error",
     "timestamp": 1601914604859,
     "user": {
      "displayName": "Veronika Tsiskaridze",
      "photoUrl": "",
      "userId": "14609060841114149670"
     },
     "user_tz": -240
    },
    "id": "YTh7X9wNYcj_",
    "outputId": "9a0554ba-5c26-493b-e762-fb53f72d1b11"
   },
   "outputs": [
    {
     "ename": "NameError",
     "evalue": "name 'carpool' is not defined",
     "output_type": "error",
     "traceback": [
      "\u001b[1;31m---------------------------------------------------------------------------\u001b[0m",
      "\u001b[1;31mNameError\u001b[0m                                 Traceback (most recent call last)",
      "\u001b[1;32m<ipython-input-8-4753a96187ed>\u001b[0m in \u001b[0;36m<module>\u001b[1;34m\u001b[0m\n\u001b[1;32m----> 1\u001b[1;33m \u001b[0mprint\u001b[0m\u001b[1;33m(\u001b[0m\u001b[1;34m\"We can transport\"\u001b[0m\u001b[1;33m,\u001b[0m \u001b[0mcarpool\u001b[0m\u001b[1;33m,\u001b[0m \u001b[0mcapacity\u001b[0m\u001b[1;33m,\u001b[0m \u001b[1;34m\"people today.\"\u001b[0m\u001b[1;33m)\u001b[0m\u001b[1;33m\u001b[0m\u001b[1;33m\u001b[0m\u001b[0m\n\u001b[0m",
      "\u001b[1;31mNameError\u001b[0m: name 'carpool' is not defined"
     ]
    }
   ],
   "source": [
    "print(\"We can transport\", carpool, capacity, \"people today.\")"
   ]
  },
  {
   "cell_type": "code",
   "execution_count": 9,
   "metadata": {},
   "outputs": [
    {
     "name": "stdout",
     "output_type": "stream",
     "text": [
      "We have 90 to carpool today.\n"
     ]
    }
   ],
   "source": [
    "print(\"We have\", passengers, 'to carpool today.')"
   ]
  },
  {
   "cell_type": "code",
   "execution_count": 12,
   "metadata": {},
   "outputs": [
    {
     "name": "stdout",
     "output_type": "stream",
     "text": [
      "100 100\n"
     ]
    }
   ],
   "source": [
    "a = b = 100\n",
    "print(a, b)"
   ]
  },
  {
   "cell_type": "code",
   "execution_count": 19,
   "metadata": {},
   "outputs": [
    {
     "name": "stdout",
     "output_type": "stream",
     "text": [
      "7\n",
      "<class 'int'>\n",
      "ატამი\n",
      "<class 'str'>\n"
     ]
    }
   ],
   "source": [
    "ა = 7\n",
    "print(ა)\n",
    "print(type(ა))\n",
    "ა = \"ატამი\"\n",
    "print(ა)\n",
    "print(type(ა))"
   ]
  },
  {
   "cell_type": "code",
   "execution_count": 22,
   "metadata": {},
   "outputs": [
    {
     "name": "stdout",
     "output_type": "stream",
     "text": [
      "2 3\n"
     ]
    }
   ],
   "source": [
    "A = 2\n",
    "a = 3\n",
    "print(A, a)"
   ]
  },
  {
   "cell_type": "code",
   "execution_count": 23,
   "metadata": {},
   "outputs": [
    {
     "ename": "SyntaxError",
     "evalue": "invalid syntax (<ipython-input-23-e0fdb98b914e>, line 1)",
     "output_type": "error",
     "traceback": [
      "\u001b[1;36m  File \u001b[1;32m\"<ipython-input-23-e0fdb98b914e>\"\u001b[1;36m, line \u001b[1;32m1\u001b[0m\n\u001b[1;33m    1a = 3\u001b[0m\n\u001b[1;37m     ^\u001b[0m\n\u001b[1;31mSyntaxError\u001b[0m\u001b[1;31m:\u001b[0m invalid syntax\n"
     ]
    }
   ],
   "source": [
    "1a = 3\n",
    "print(1a)"
   ]
  },
  {
   "cell_type": "code",
   "execution_count": 28,
   "metadata": {},
   "outputs": [
    {
     "name": "stdout",
     "output_type": "stream",
     "text": [
      "2\n"
     ]
    }
   ],
   "source": [
    "_hello = 2\n",
    "print(_hello)"
   ]
  },
  {
   "cell_type": "code",
   "execution_count": 29,
   "metadata": {},
   "outputs": [
    {
     "name": "stdout",
     "output_type": "stream",
     "text": [
      "4\n"
     ]
    }
   ],
   "source": [
    "hello2 = 4\n",
    "print(hello2)"
   ]
  },
  {
   "cell_type": "markdown",
   "metadata": {
    "id": "1e5Jtm36Ycki"
   },
   "source": [
    "<h2 align=\"center\">ხშირად დასმული კითხვები</h2>\n",
    "\n",
    "- ქვევით მოყვანილია კითხვები, რომლებიც გაუჩნდათ რეალურ სტუდენტებს ამ სავარჯიშოს შესრულებისას:\n",
    "\n",
    "\n",
    "1. **რა განსხვავებაა `=` და `==`?**\n",
    "\n",
    "   `=` ერთი სიმბოლოთი ჩვენ ვაწერთ მარჯვენა მნიშვნელობას მარცხენა ცვლადს. \n",
    "   `==` - ეს ნიშანი კი ამოწმებს, აქვს თუ არა ორ გამოსახულებას ერთი და იგივე მნიშვნელობა.\n",
    "   \n",
    "   \n",
    "2. **თუ შეიძლება, რომ ტოლობა `x = 100` შემდეგნაირად დაიწეროს: `x=100`?** \n",
    "\n",
    "   კი, შეიძლება, მაგრამ ცუდია. ჯობია, რომ სფეისი დაამატო, რომ კოდი უფრო სწრაფად აღიქვა.\n",
    "   \n",
    "   \n",
    "3. **რა იგულისხმება ფრაზაში \"კოდი ბოლოდან წავიკითხოთ\"?**\n",
    "\n",
    "   წარმოიდგინეთ, რომ თქვენ ფაილს 16 სტრიქონი აქვს. დაიწყეთ მე-16 სტრიქონიდან, შემდეგ წაიკითხეთ მე-15 და ასე შემდეგ, 1-ლამდე.\n",
    "\n",
    "\n",
    "4. **მაინც რატომ გამოიყენეთ `4.0` ცვლადი `space_in_a_car`-ისთვის?**\n",
    "\n",
    "  იმისთვის, რომ შეგეკითხათ და გაგეგოთ მეტი float რიცხვების შესახებ."
   ]
  },
  {
   "cell_type": "markdown",
   "metadata": {
    "id": "4gGrOISaYckh"
   },
   "source": [
    "<h2 align=\"center\">სამუშაო დავალება</h2>\n",
    "\n",
    "1. ზემოთ მოყვანილ კოდში **კომენტარის** საშუალებით აღწერეთ თუ რას აკეთებს კოდის ესა თუ ის ფრაგმენტი.\n",
    "\n",
    "\n",
    "2. რატომ გამოვიყენეთ **4.0** უბრალო **4**-ის მაგივრად `space_in_a_car` ცვლადისთვის?\n",
    "\n",
    "\n",
    "3. შეეცადეთ გამოიყენოთ `Python`-ის **ტერმინალი** კალკულატორის სახით. \n",
    "\n",
    "   ამისათვის ისარგებლეთ **ცვლადებიითა** და **სახელებით**. \n",
    "   \n",
    "   **პოპულარული ცვლადები** მოდის სამეულებით:\n",
    "   \n",
    "   - a, b, c;\n",
    "   - i, j, k;\n",
    "   - l, m, n;\n",
    "   - p, q, r;\n",
    "   - u, v, w;\n",
    "   - x, y, z;\n",
    "   - $\\alpha$, $\\beta$, $\\gamma$;\n",
    "   - A, B, C;\n",
    "   - $\\phi$, $\\psi$, $\\chi$;\n",
    "   - $\\xi$, $\\eta$, $\\zeta$.\n",
    "   \n",
    "   \n",
    "4. **რა შემთხვევაში** გამოიყენებდით ამა თუ იმ **პოპულარი ცლვადების სამეულებს**?"
   ]
  },
  {
   "cell_type": "code",
   "execution_count": null,
   "metadata": {},
   "outputs": [],
   "source": [
    "a, b, c # სამკუთხედის გვერდები\n",
    "i, j, k # ცილკის ოპერატორებში\n",
    "l, m, n # მთელი რიცხვები\n",
    "p, q, r # ალბათობების აღსანიშნავად. მაგალითად ბერნულის განაწილებისთვის p და q = 1-p\n",
    "u, v, w # ვექტორებში\n",
    "x, y, z # კოორდინატები, უცნობი რიცხვები, ვექტორები\n",
    "alpha, beta, gamma # კუთხეები, სკალარები\n",
    "A, B, C # სამკუთხედის წვეროები, მატრიცები\n",
    "M, N, K # სამკუთხედის წვეროები, მატრიცები\n",
    "phi, psi, chi # კუთხეები, ფიზიკაში \n",
    "xi, eta, dzeta # სკალარები"
   ]
  },
  {
   "cell_type": "markdown",
   "metadata": {
    "id": "DqPstivsYckk"
   },
   "source": [
    "<h1 align=\"center\">სავარჯიშოს დასასრული</h1>"
   ]
  }
 ],
 "metadata": {
  "colab": {
   "collapsed_sections": [],
   "name": "Example for ex_04.ipynb",
   "provenance": [
    {
     "file_id": "https://github.com/stsiskaridze/ISU/blob/master/R527/ex_02.ipynb",
     "timestamp": 1601912049891
    }
   ]
  },
  "kernelspec": {
   "display_name": "Python 3",
   "language": "python",
   "name": "python3"
  },
  "language_info": {
   "codemirror_mode": {
    "name": "ipython",
    "version": 3
   },
   "file_extension": ".py",
   "mimetype": "text/x-python",
   "name": "python",
   "nbconvert_exporter": "python",
   "pygments_lexer": "ipython3",
   "version": "3.7.3"
  }
 },
 "nbformat": 4,
 "nbformat_minor": 1
}
