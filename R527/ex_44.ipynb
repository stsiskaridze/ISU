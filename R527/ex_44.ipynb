{
 "cells": [
  {
   "cell_type": "markdown",
   "metadata": {
    "id": "WDDFQrf4Ycht"
   },
   "source": [
    "**R527 - დაპროგრამება პითონში**\n",
    "<br>\n",
    "თარიღი: **4 დეკემბერი 2020**\n",
    "<br>\n",
    "\n",
    "სათაური: **სავარჯიშო 44**\n",
    "<br>\n",
    "მომხსენებელი: **შოთა ცისკარიძე**\n",
    "\n",
    "\n",
    "ბიბლიოგრაფია:\n",
    "<br> \n",
    " **სავარჯიშო 43.** Zed Shaw, *Learn Python 3 the Hard Way*, Addison Wesley (Verlag), 2017"
   ]
  },
  {
   "cell_type": "markdown",
   "metadata": {
    "id": "fYkwmIWkYchw"
   },
   "source": [
    "<h1 align=\"center\">სავარჯიშო 44: ბაზისური ოოპ ანალიზი და დიზაინი (სტრუქტურა) </h1>"
   ]
  },
  {
   "cell_type": "markdown",
   "metadata": {
    "slideshow": {
     "slide_type": "fragment"
    }
   },
   "source": [
    "<center><img src=\"images/Ex_43_Intro.jpg\" width=\"500\"alt=\"Example\" /></center>"
   ]
  },
  {
   "cell_type": "markdown",
   "metadata": {
    "id": "sRM4k6-aYch3"
   },
   "source": [
    "* ამ სავარჯიშოში მე შემოგთავაზებთ **გეგმას**, რომელიც უნდა გამოიყენოთ, თუ გსურთ დაწეროთ პროგრამა **ობიექტზე ორინტირებული პროგრამირების** გამოყენებით.\n",
    "\n",
    "\n",
    "* მე არ ვამბობ, რომ ყოველთვის დაგჭირდებათ თითოეული ქვემოთჩამოთვლილი ნაბიჯი, და არც იმას ვამბობ, რომ ისინი საკმარისია ნებისმიერი ამოცანის ამოსახსნელად.\n",
    "\n",
    "\n",
    "* პროცესი არის შემდეგი:\n",
    "\n",
    "    1. აღწერეთ ან დახატეთ ამოცანა.\n",
    "    2. პირველი პუნქტიდან ამოარჩიეთ საკვანძო კონცეპტები და გამოიკვლიეთ ისინი.\n",
    "    3. ამ კონცეპტებისთვის შექმენით კლასების იერარქია და ობიექტების რუკა.\n",
    "    4. დაწერეთ კლასების კოდი და ტესტური დავალება, რათა შეამოწმოთ მათი მუშაობა.\n",
    "    5. გაიმეორეთ და გააუმჯობესეთ.\n",
    "    \n",
    "    \n",
    "* მაგალითად, მე ვიწყებ ჩემს ამოცანაზე ფიქრით, შემიძლია აღვწერო მისი მუშაობა ტექსტის სახით, დავხატო დიაგრამა ან რუკა. ზოგი თავის თავს ი-მეილებსაც წერს, კონცეპტების აღწერით.\n",
    "\n",
    "\n",
    "* შემდეგ, ჩემი ნამუშევრიდან ამოვარჩევ საკვანძო საკითხებს და კონცეპტებს; შეიძლება ამოვიწერო ყველა *არსებითი სახელი* და *ზმნა*. აღვწერ მათ შორის **კავშირს**. ამით მივხვდები, რა დავარქვა კლასებს და ცვლადებს.\n",
    "\n",
    "\n",
    "* როგორც კი მექნება ეს ჩამონათვალი, ადვილად გავაკეთებ კონცეპტებისა და კლასების ურთიერთკავშირის მონახაზს/ხეს. კლასების **იერარქიაც** გამოჩნდება (მაგ., მშობელი კლასი)\n",
    "\n",
    "\n",
    "* ამის მერე, დავწერ სკრიპტის **ჩონჩხს**: მასში იქნება მხოლოდ კლასები და მათი ფუნციები. \n",
    "\n",
    "\n",
    "* დასაწერია რამდენიმე ტესტური კოდი, რომელიც შეამოწმებს ამ კლასების გამართულ მუშაობას. \n",
    "\n",
    "\n",
    "* და ბოლოს, ამ პროცესს გავიმეორებ თავიდან, დავხვეწავ იდეებს, უფრო გასაგებს გავხდი კოდს, მეტ ტესტურ შეტყობინებას დავწერ. თუ წავაწყდები სირთულეს, მირჩევნია **გამოვიკვლიო** საკითხი მანამ, **სანამ შემდეგ ეტაპზე გადავალ**."
   ]
  },
  {
   "cell_type": "markdown",
   "metadata": {
    "id": "fYkwmIWkYchw"
   },
   "source": [
    "<h3 align=\"center\">მარტივი თამაშის ძრავის ანალიზი</h3>"
   ]
  },
  {
   "cell_type": "markdown",
   "metadata": {
    "id": "sRM4k6-aYch3"
   },
   "source": [
    "* ამ სავარჯიშოში მინდა შევქმნა მინი თამაში სახელად \"Gothons from Planet Percal #25\"."
   ]
  },
  {
   "cell_type": "markdown",
   "metadata": {
    "id": "fYkwmIWkYchw"
   },
   "source": [
    "<h4 align=\"center\">43.1.1 აღწერეთ ან დახატეთ ამოცანა.</h4>"
   ]
  },
  {
   "cell_type": "markdown",
   "metadata": {},
   "source": [
    "* პატარა მონახაზი მოვამზადე:\n",
    "\n",
    "  \"უცხოპლანეტელები შეიჭრნენ კოსმოსურ ხომალდში და ჩვენმა გმირმა უნდა გაიაროს ლაბირინთში და დაამარცხოს ისინი, რათა მან თავის პლანეტაზე გაქცევა შეძლოს. თამაში უფრო წააგავს ზორკის ან სათავგადასავლო ტიპის თამაშს ტექსტური შეტყობინებებით და სიკვდილის სასაცილო გზებით. თამაშში ჩართული იქნება ძრავა, რომელიც აწარმოებს ოთახებით ან სიუჟეტებით სავსე რუკას. თითოეული ოთახი მოთამაშის შესვლისთანავე დაბეჭდავს თავის აღწერას, შემდეგ კი შეატყობინებს ჩვენს ძრავას, შემდეგი რომელი ოთახი უნდა ჩაიტვირთოს.”"
   ]
  },
  {
   "cell_type": "markdown",
   "metadata": {},
   "source": [
    "* ამ ეტაპისთვის ჩემი თამაში კარგად მაქვს წარმოდგენილი. მოდით გამოვყოთ ძირითადი კონცეპტები:\n",
    "\n",
    "**Death**. როდესაც მოთამაშე კვდება და ეს რაღაც სახალისო უნდა იყოს.\n",
    "\n",
    "**Central Corridor**. ეს არის თამაშის პირველი სცენა. ერთი გოთონი უკვე უშლის გზას ჩვენს მოთამაშეს. მხოლოდ კარგი ხუმრობით შეძლებს მოთამაშე მის დამარცხებას.\n",
    "\n",
    "**Laser Weapon Armory**. მოთამაშე ამ ეტაპზე მიიღებს ნეიტრონულ ბომბს, რათა ააფეთქოს ხომალდი მისგან თავის დაღწევის შემდეგ. მასზე პაროლი იქნება დადებული, რომელიც მოთამაშემ უდა ამოიცნოს. \n",
    "\n",
    "**The Bridge**. კიდევ ერთი შეტაკება გოთონთან, სადაც მომხარებელი ბომბს მოამზადებს ბოლო სცენისთვის.\n",
    "\n",
    "**Escape Pod**. სადაც მომხმარებელი შეძლებს თავის დაღწევას სწორი პაროლის ამოცნობის შემდეგ."
   ]
  },
  {
   "cell_type": "markdown",
   "metadata": {
    "id": "fYkwmIWkYchw"
   },
   "source": [
    "<h4 align=\"center\">43.1.2 საკვანძო კონცეპტების ამორჩევა და მათი კვლევა</h4>"
   ]
  },
  {
   "cell_type": "markdown",
   "metadata": {},
   "source": [
    "* უკვე საკმარისი ინფორმაცია მაქვს არსებითი სახელების ამოსარჩევად:\n",
    "\n",
    "    * Alien\n",
    "    * Player\n",
    "    * Ship\n",
    "    * Maze\n",
    "    * Room\n",
    "    * Scene\n",
    "    * Gothon\n",
    "    * Escape Pod\n",
    "    * Planet\n",
    "    * Map\n",
    "    * Engine\n",
    "    * Death\n",
    "    * Central Corridor\n",
    "    * Laser Weapon Armory\n",
    "    * The Bridge\n",
    "\n",
    "\n",
    "* კიდევ შეიძლებოდა ზმნების ამოწერა, მაგრამ ესენიც კმარა ამჯერად. \n",
    "\n",
    "* ამ ეტაპზე მე კვლევას ჩავატარებდი. მაგალითად, ამ ტიპის რამდენიმე თამაშს ვნახავდი, რათა დავრწმუნდე როგორ მუშაობენ ისინი. შეიძლება გამოვიკვლიო ხომალდების და ბომბების დიზაინი და ვიცოდე, როგორ მუშაობენ ისინი. \n",
    "\n",
    "* შესაძლებელია ტექნიკური მხარის კვლევაც: როგორ შევინახოთ თამაშის ეტაპები მონაცემთა ბაზაში და ა.შ."
   ]
  },
  {
   "cell_type": "markdown",
   "metadata": {
    "id": "fYkwmIWkYchw"
   },
   "source": [
    "<h4 align=\"center\">43.1.3 კონცეპტებისთვის კლასების იერარქიისა და ობიექტების რუკის შექმნა</h4>"
   ]
  },
  {
   "cell_type": "markdown",
   "metadata": {},
   "source": [
    "* დროა კლასის კონცეპტები იერარქიაში ვაქციოთ. \n",
    "\n",
    "* ჰკითხეთ თქვენს თავებს: **\"რა აქვს საერთო ამას სხვასთან?\" ან \"ეს და ის კონცეპტი ერთი და იგივე ხომ არაა?\"**\n",
    "\n",
    "* ეგრევე ვამჩნევ, რომ \"Room\" და \"Scene\" ერთსა და იმავე მიზანს ემსახურება. სკრიპტისთვის დავიტოვებ დასახელებას \"Scene\".\n",
    "\n",
    "* შემდეგ: ყველა სპეციფიკური ოთახი არის \"Scene\"-ის კონკრეტული შემთხვევა.\n",
    "\n",
    "* \"Maze\" და \"Map\"-ც ერთი და იგივეა. შევჯერდეთ \"Map\"-ზე. \n",
    "\n",
    "* გავფილტროთ და ჩამოვწეროთ იერარქია:\n",
    "\n",
    "    * Map\n",
    "    * Engine\n",
    "    * Scene\n",
    "        * Death\n",
    "        * Central Corridor\n",
    "        * Laser Weapon Armory\n",
    "        * The Bridge\n",
    "        * Escape Pod\n",
    "        \n",
    "* ახლა ჩამოვწეროთ ის მოქმედებები, რომელიც თითოეულ მათგან დასჭირდება გამომდინარე იმ ზმნებიდან, რაც ადრე გვქონდა ნახსენები:\n",
    "\n",
    "    * Map\n",
    "        - next_scene\n",
    "        - opening_scene\n",
    "    * Engine\n",
    "        - play\n",
    "    * Scene\n",
    "        - enter\n",
    "        * Death\n",
    "        * Central Corridor\n",
    "        * Laser Weapon Armory\n",
    "        * The Bridge\n",
    "        * Escape Pod"
   ]
  },
  {
   "cell_type": "markdown",
   "metadata": {
    "id": "fYkwmIWkYchw"
   },
   "source": [
    "<h4 align=\"center\">43.1.4 კლასის კოდის წერა და ტესტით შემოწმება</h4>"
   ]
  },
  {
   "cell_type": "markdown",
   "metadata": {},
   "source": [
    "* როგორც კი გვექნება მსგავსი ხე, შევძლებთ ნელ-ნელა ავაწყოთ ეს კლასები მათი ფუნქციებით.\n",
    "\n",
    "* ბოლოში დავურთოთ ტესტი:"
   ]
  },
  {
   "cell_type": "code",
   "execution_count": 1,
   "metadata": {},
   "outputs": [],
   "source": [
    "#ex43_classes.py\n",
    "\n",
    "class Scene(object):\n",
    "\n",
    "    def enter(self):\n",
    "        pass\n",
    "\n",
    "\n",
    "class Engine(object):\n",
    "\n",
    "    def __init__(self, scene_map):\n",
    "        pass\n",
    "\n",
    "    def play(self):\n",
    "        pass\n",
    "\n",
    "class Death(Scene):\n",
    "\n",
    "    def enter(self):\n",
    "        pass\n",
    "\n",
    "class CentralCorridor(Scene):\n",
    "\n",
    "    def enter(self):\n",
    "        pass\n",
    "\n",
    "class LaserWeaponArmory(Scene):\n",
    "\n",
    "    def enter(self):\n",
    "        pass\n",
    "\n",
    "class TheBridge(Scene):\n",
    "\n",
    "    def enter(self):\n",
    "        pass\n",
    "\n",
    "class EscapePod(Scene):\n",
    "\n",
    "    def enter(self):\n",
    "        pass\n",
    "\n",
    "\n",
    "class Map(object):\n",
    "\n",
    "    def __init__(self, start_scene):\n",
    "        pass\n",
    "\n",
    "    def next_scene(self, scene_name):\n",
    "        pass\n",
    "\n",
    "    def opening_scene(self):\n",
    "        pass\n",
    "\n",
    "\n",
    "a_map = Map('central_corridor')\n",
    "a_game = Engine(a_map)\n",
    "a_game.play()"
   ]
  },
  {
   "cell_type": "markdown",
   "metadata": {
    "id": "fYkwmIWkYchw"
   },
   "source": [
    "<h4 align=\"center\">43.1.5 გამეორება და გაუმჯობესება</h4>"
   ]
  },
  {
   "cell_type": "markdown",
   "metadata": {},
   "source": [
    "* კოდის წერა არის ციკლური პროცესი: შენ გადიხარ ამ ხუთ საფეხურს და ისევ პირველს უბუნდები.\n",
    "\n",
    "* ხანდახან, მაგალითად, მე-3 ნაბიჯზე გადასვლისას აღმოაჩენ, რომ 1-ლ და მე-2 პუნქტზე მეტი მუშაობაა საჭირო. **აუცილებელია დაუბრუნდე** და მათზე იმუშაო კიდევ."
   ]
  },
  {
   "cell_type": "markdown",
   "metadata": {
    "id": "fYkwmIWkYchw"
   },
   "source": [
    "<h3 align=\"center\">\"Gothons from Planet Percal #25\" თამაშის კოდი</h3>"
   ]
  },
  {
   "cell_type": "markdown",
   "metadata": {},
   "source": [
    "* მე ვაპირებ განახოთ ჩემი საბოლოო კოდი, მაგრამ არ მინდა, რომ პირდაპირ გადახვიდეთ მასზე და უბრალოდ გადმოიწეროთ.\n",
    "\n",
    "* ვაპირებ, ნაწილობრივ განახოთ კოდი და გიბიძგოთ ამოცანა ამოხსნათ თქვენით.\n",
    "\n",
    "* კოდს ვიწყებთ ჩვეულებრივი იმპორტებით:"
   ]
  },
  {
   "cell_type": "code",
   "execution_count": 2,
   "metadata": {},
   "outputs": [],
   "source": [
    "from sys import exit\n",
    "from random import randint\n",
    "from textwrap import dedent"
   ]
  },
  {
   "cell_type": "markdown",
   "metadata": {},
   "source": [
    "* თამაშისთვის ჩვეულებრივი იმპორტებია.\n",
    "\n",
    "* ახალია მხოლოდ `textwrap`-ის მოდულიდა აღებული ფუქცია `dedent`, რომელიც საშუალებას მოგვცემს შემდგომში გამოვიყენოთ **სამმაგი ბრჭყალები `\"\"\"`** სტრიქონებისთვის. სხვანაირად, სკრიპტის ეს ადიგლი შეცდომას ამაგდებს."
   ]
  },
  {
   "cell_type": "code",
   "execution_count": 3,
   "metadata": {},
   "outputs": [],
   "source": [
    "class Scene(object):\n",
    "    \n",
    "    def enter(self):\n",
    "        print(\"This scene is not yet configured.\")\n",
    "        print(\"Subclass it and implement enter()\")\n",
    "        exit(1)"
   ]
  },
  {
   "cell_type": "markdown",
   "metadata": {},
   "source": [
    "* არ დაგავიწყდეთ, რომ ეს მხოლოდ ჩონჩხია ჯერ."
   ]
  },
  {
   "cell_type": "code",
   "execution_count": 4,
   "metadata": {},
   "outputs": [],
   "source": [
    "class Engine(object):\n",
    "    \n",
    "    def __init__(self, scene_map):\n",
    "        self.scene_map = scene_map\n",
    "        \n",
    "    def play(self):\n",
    "        current_scene = self.scene_map.opening_scene()\n",
    "        last_scene = self.scene_map.next_scene('finished')\n",
    "        \n",
    "        while current_scene != last_scene:\n",
    "            next_scene_name = current_scene.enter()\n",
    "            current_scene = self.scene_map.next_scene(next_scene_name)\n",
    "        \n",
    "        #დარწმუნდით რომ ამ ბოლო სცენასაც ამობეჭდავთ\n",
    "        current_scene.enter()"
   ]
  },
  {
   "cell_type": "markdown",
   "metadata": {},
   "source": [
    "* უკვე გამოვიყენე ჩემი \"Engine\" კლასი და კარგი დაგეგმვის შედეგად ვივარაუდე, რომ დამჭირდება ასეთი ფუნქციები."
   ]
  },
  {
   "cell_type": "code",
   "execution_count": 12,
   "metadata": {},
   "outputs": [],
   "source": [
    "class Death(Scene):\n",
    "    \n",
    "    quips = [\"You died. You kinda suck at this.\",\n",
    "            \"Your Mom would be proud...if she were smarter.\",\n",
    "            \"Such a luser.\",\n",
    "            \"I have a small puppy that's better at this.\",\n",
    "            \"You're worse than your Dad's jokes.\"\n",
    "    ]\n",
    "    \n",
    "    def enter(self):\n",
    "        print(Death.quips[randint(0, len(self.quips)-1)])\n",
    "        exit(1)"
   ]
  },
  {
   "cell_type": "markdown",
   "metadata": {},
   "source": [
    "* ეს არის Death-ის უმარტივესი სცენის ტიპი."
   ]
  },
  {
   "cell_type": "code",
   "execution_count": 13,
   "metadata": {},
   "outputs": [],
   "source": [
    "class CentralCorridor(Scene):\n",
    "    \n",
    "    def enter(self):\n",
    "        print(dedent(\"\"\"\n",
    "            The Gothons of Planet Percal #25 have invaded your ship and \n",
    "            destroyed your entire crew. You are the last surviving\n",
    "            member and your last mission is to get the neutron destruct\n",
    "            bomb from the Weapons Armory, put it in the bridge, and\n",
    "            blow the ship up after getting into an escape pod.\n",
    "\n",
    "            You're running down the central corridor to the Weapons\n",
    "            Armory when a Gothon jumps out, red scaly skin, dark grimy\n",
    "            teeth, and evil clown costume flowing around his hate\n",
    "            filled body. He's blocking the door to the Armory and\n",
    "            about to pull a weapon to blast you.\n",
    "        \"\"\"))\n",
    "        \n",
    "        action = input(\"> \")\n",
    "        \n",
    "        if action == \"shoot!\":\n",
    "            print(dedent(\"\"\"\n",
    "                Quick on the draw you yank out your blaster and fire\n",
    "                it at the Gothon. His clown costume is flowing and\n",
    "                moving around his body, which throws off your aim.\n",
    "                Your laser hits his costume but misses him entirely.\n",
    "                This completely ruins his brand new costume his mother\n",
    "                bought him, which makes him fly into an insane rage\n",
    "                and blast you repeatedly in the face until you are\n",
    "                dead. Then he eats you.\n",
    "            \"\"\"))\n",
    "            return 'death'\n",
    "        \n",
    "        elif action == \"dodge!\":\n",
    "            print(dedent(\"\"\"\n",
    "                Like a world class boxer you dodge, weave, slip and\n",
    "                slide right as the Gothon's blaster cranks a laser\n",
    "                past your head. In the middle of your artful dodge\n",
    "                your foot slips and you bang your head on the metal\n",
    "                wall and pass out. You wake up shortly after only to\n",
    "                die as the Gothon stomps on your head and eats you.\n",
    "            \"\"\"))\n",
    "            return 'death'\n",
    "        \n",
    "        elif action == 'tell a joke':\n",
    "            print(dedent(\"\"\"\n",
    "                Lucky for you they made you learn Gothon insults in\n",
    "                the academy. You tell the one Gothon joke you know:\n",
    "                Lbhe zbgure vf fb sng, jura fur fvgf nebhaq gur ubhfr,\n",
    "                fur fvgf nebhaq gur ubhfr. The Gothon stops, tries\n",
    "                not to laugh, then busts out laughing and can't move.\n",
    "                While he's laughing you run up and shoot him square in\n",
    "                the head putting him down, then jump through the\n",
    "                Weapon Armory door.\n",
    "            \"\"\"))\n",
    "            return 'laser_weapon_armory'\n",
    "        \n",
    "        else:\n",
    "            print(\"DOES NOT COMPUTE!\")\n",
    "            return 'central_corridor'"
   ]
  },
  {
   "cell_type": "markdown",
   "metadata": {},
   "source": [
    "* ჩემი თამაშის პირველი სქენა შევქმენი.\n",
    "\n",
    "* როგორც ხედავთ, ჯერ შევქმნი ყველა ოთახს და მერე Map-ს, რადგან მათზე მითითება დამჭირდება.\n",
    "\n",
    "* ასევე შეამჩნევდით `dedent`-ს. შეეცადეთ ამოშალოთ ის და ნახეთ შედეგი."
   ]
  },
  {
   "cell_type": "code",
   "execution_count": 14,
   "metadata": {},
   "outputs": [],
   "source": [
    "class LaserWeaponArmory(Scene):\n",
    "    \n",
    "    def enter(self):\n",
    "        print(dedent(\"\"\"\n",
    "            You do a dive roll into the Weapon Armory, crouch and scan\n",
    "            the room for more Gothons that might be hiding. It's dead\n",
    "            quiet, too quiet. You stand up and run to the far side of\n",
    "            the room and find the neutron bomb in its container.\n",
    "            There's a keypad lock on the box and you need the code to\n",
    "            get the bomb out. If you get the code wrong 10 times then\n",
    "            the lock closes forever and you can't get the bomb. The\n",
    "            code is 3 digits.\n",
    "                \"\"\"))\n",
    "        \n",
    "        #code = f\"{randint(1,9)}{randint(1,9)}{randint(1,9)}\"\n",
    "        code = f\"{randint(1,9)}\"\n",
    "        guess = input(\"[keypad]> \")\n",
    "        guesses = 0\n",
    "\n",
    "        while guess != code and guesses < 10:\n",
    "            print(\"BZZZZEDDD!\")\n",
    "            guesses += 1\n",
    "            guess = input(\"[keypad]> \")\n",
    "\n",
    "        if guess == code:\n",
    "            print(dedent(\"\"\"\n",
    "            The container clicks open and the seal breaks, letting\n",
    "            gas out. You grab the neutron bomb and run as fast as\n",
    "            you can to the bridge where you must place it in the\n",
    "            right spot.\n",
    "            \"\"\"))\n",
    "            return 'the_bridge'\n",
    "        else:\n",
    "            print(dedent(\"\"\"\n",
    "            The lock buzzes one last time and then you hear a\n",
    "            sickening melting sound as the mechanism is fused\n",
    "            together. You decide to sit there, and finally the\n",
    "            Gothons blow up the ship from their ship and you die.\n",
    "            \"\"\"))\n",
    "            return 'death'\n",
    "        \n",
    "class TheBridge(Scene):\n",
    "\n",
    "    def enter(self):\n",
    "        print(dedent(\"\"\"\n",
    "            You burst onto the Bridge with the netron destruct bomb\n",
    "            under your arm and surprise 5 Gothons who are trying to\n",
    "            take control of the ship. Each of them has an even uglier\n",
    "            clown costume than the last. They haven't pulled their\n",
    "            weapons out yet, as they see the active bomb under your\n",
    "            arm and don't want to set it off.\n",
    "            \"\"\"))\n",
    "\n",
    "        action = input(\"> \")\n",
    "\n",
    "        if action == \"throw the bomb\":\n",
    "            print(dedent(\"\"\"\n",
    "                In a panic you throw the bomb at the group of Gothons\n",
    "                and make a leap for the door. Right as you drop it a\n",
    "                Gothon shoots you right in the back killing you. As\n",
    "                you die you see another Gothon frantically try to\n",
    "                disarm the bomb. You die knowing they will probably\n",
    "                blow up when it goes off.\n",
    "                \"\"\"))\n",
    "            return 'death'\n",
    "\n",
    "        elif action == \"slowly place the bomb\":\n",
    "            print(dedent(\"\"\"\n",
    "                You point your blaster at the bomb under your arm and\n",
    "                the Gothons put their hands up and start to sweat.\n",
    "                You inch backward to the door, open it, and then\n",
    "                carefully place the bomb on the floor, pointing your\n",
    "                blaster at it. You then jump back through the door,\n",
    "                punch the close button and blast the lock so the\n",
    "                Gothons can't get out. Now that the bomb is placed\n",
    "                you run to the escape pod to get off this tin can.\n",
    "            \"\"\"))\n",
    "\n",
    "            return 'escape_pod'\n",
    "        else:\n",
    "            print(\"DOES NOT COMPUTE!\")\n",
    "            return \"the_bridge\"\n",
    "\n",
    "\n",
    "class EscapePod(Scene):\n",
    "\n",
    "    def enter(self):\n",
    "        print(dedent(\"\"\"\n",
    "            You rush through the ship desperately trying to make it to\n",
    "            the escape pod before the whole ship explodes. It seems\n",
    "            like hardly any Gothons are on the ship, so your run is\n",
    "            clear of interference. You get to the chamber with the\n",
    "            escape pods, and now need to pick one to take. Some of\n",
    "            them could be damaged but you don't have time to look.\n",
    "            There's 5 pods, which one do you take?\n",
    "            \"\"\"))\n",
    "\n",
    "        good_pod = randint(1,5)\n",
    "        guess = input(\"[pod #]> \")\n",
    "\n",
    "        if int(guess) != good_pod:\n",
    "            print(dedent(\"\"\"\n",
    "                You jump into pod {guess} and hit the eject button.\n",
    "                The pod escapes out into the void of space, then\n",
    "                implodes as the hull ruptures, crushing your body into\n",
    "                jam jelly.\n",
    "                \"\"\"))\n",
    "            return 'death'\n",
    "        else:\n",
    "            print(dedent(\"\"\"\n",
    "                You jump into pod {guess} and hit the eject button.\n",
    "                The pod easily slides out into space heading to the\n",
    "                planet below. As it flies to the planet, you look\n",
    "                back and see your ship implode then explode like a\n",
    "                bright star, taking out the Gothon ship at the same\n",
    "                time. You won!\n",
    "                \"\"\"))\n",
    "\n",
    "            return 'finished'\n",
    "\n",
    "class Finished(Scene):\n",
    "\n",
    "    def enter(self):\n",
    "        print(\"You won! Good job.\")\n",
    "        return 'finished'"
   ]
  },
  {
   "cell_type": "markdown",
   "metadata": {},
   "source": [
    "* ეს არის თამაშის დანარჩენი სცენები.\n",
    "\n",
    "* რა თქმა უნდა, ერთბაშად ამხელა კოდს ვერ დავწერდი. მე მხოლოდ საბოლოო შედეგს განახებთ."
   ]
  },
  {
   "cell_type": "code",
   "execution_count": 15,
   "metadata": {},
   "outputs": [],
   "source": [
    "class Map(object):\n",
    "\n",
    "    scenes = {\n",
    "        'central_corridor': CentralCorridor(),\n",
    "        'laser_weapon_armory': LaserWeaponArmory(),\n",
    "        'the_bridge': TheBridge(),\n",
    "        'escape_pod': EscapePod(),\n",
    "        'death': Death(),\n",
    "        'finished': Finished(),\n",
    "    }\n",
    "\n",
    "    def __init__(self, start_scene):\n",
    "        self.start_scene = start_scene\n",
    "\n",
    "    def next_scene(self, scene_name):\n",
    "        val = Map.scenes.get(scene_name)\n",
    "        return val\n",
    "\n",
    "    def opening_scene(self):\n",
    "        return self.next_scene(self.start_scene)"
   ]
  },
  {
   "cell_type": "markdown",
   "metadata": {},
   "source": [
    "* ამის შემდეგ მე მაქვს ჩემი Map კლასი, და თქვენ ხედავთ, რომ თითოეულ სცენას ლექსიკონში მისი სახელით ვინახავ; მასზე წვდომა კი მაქვს ასე: `Map.scenes`."
   ]
  },
  {
   "cell_type": "code",
   "execution_count": 16,
   "metadata": {},
   "outputs": [
    {
     "name": "stdout",
     "output_type": "stream",
     "text": [
      "\n",
      "The Gothons of Planet Percal #25 have invaded your ship and \n",
      "destroyed your entire crew. You are the last surviving\n",
      "member and your last mission is to get the neutron destruct\n",
      "bomb from the Weapons Armory, put it in the bridge, and\n",
      "blow the ship up after getting into an escape pod.\n",
      "\n",
      "You're running down the central corridor to the Weapons\n",
      "Armory when a Gothon jumps out, red scaly skin, dark grimy\n",
      "teeth, and evil clown costume flowing around his hate\n",
      "filled body. He's blocking the door to the Armory and\n",
      "about to pull a weapon to blast you.\n",
      "\n",
      "> tell a joke\n",
      "\n",
      "Lucky for you they made you learn Gothon insults in\n",
      "the academy. You tell the one Gothon joke you know:\n",
      "Lbhe zbgure vf fb sng, jura fur fvgf nebhaq gur ubhfr,\n",
      "fur fvgf nebhaq gur ubhfr. The Gothon stops, tries\n",
      "not to laugh, then busts out laughing and can't move.\n",
      "While he's laughing you run up and shoot him square in\n",
      "the head putting him down, then jump through the\n",
      "Weapon Armory door.\n",
      "\n",
      "\n",
      "You do a dive roll into the Weapon Armory, crouch and scan\n",
      "the room for more Gothons that might be hiding. It's dead\n",
      "quiet, too quiet. You stand up and run to the far side of\n",
      "the room and find the neutron bomb in its container.\n",
      "There's a keypad lock on the box and you need the code to\n",
      "get the bomb out. If you get the code wrong 10 times then\n",
      "the lock closes forever and you can't get the bomb. The\n",
      "code is 3 digits.\n",
      "\n",
      "[keypad]> 0\n",
      "BZZZZEDDD!\n",
      "[keypad]> 1\n",
      "BZZZZEDDD!\n",
      "[keypad]> 2\n",
      "BZZZZEDDD!\n",
      "[keypad]> 3\n",
      "BZZZZEDDD!\n",
      "[keypad]> 4\n",
      "BZZZZEDDD!\n",
      "[keypad]> 5\n",
      "\n",
      "The container clicks open and the seal breaks, letting\n",
      "gas out. You grab the neutron bomb and run as fast as\n",
      "you can to the bridge where you must place it in the\n",
      "right spot.\n",
      "\n",
      "\n",
      "You burst onto the Bridge with the netron destruct bomb\n",
      "under your arm and surprise 5 Gothons who are trying to\n",
      "take control of the ship. Each of them has an even uglier\n",
      "clown costume than the last. They haven't pulled their\n",
      "weapons out yet, as they see the active bomb under your\n",
      "arm and don't want to set it off.\n",
      "\n",
      "> slowly place the bomb\n",
      "\n",
      "You point your blaster at the bomb under your arm and\n",
      "the Gothons put their hands up and start to sweat.\n",
      "You inch backward to the door, open it, and then\n",
      "carefully place the bomb on the floor, pointing your\n",
      "blaster at it. You then jump back through the door,\n",
      "punch the close button and blast the lock so the\n",
      "Gothons can't get out. Now that the bomb is placed\n",
      "you run to the escape pod to get off this tin can.\n",
      "\n",
      "\n",
      "You rush through the ship desperately trying to make it to\n",
      "the escape pod before the whole ship explodes. It seems\n",
      "like hardly any Gothons are on the ship, so your run is\n",
      "clear of interference. You get to the chamber with the\n",
      "escape pods, and now need to pick one to take. Some of\n",
      "them could be damaged but you don't have time to look.\n",
      "There's 5 pods, which one do you take?\n",
      "\n",
      "[pod #]> 2\n",
      "\n",
      "You jump into pod {guess} and hit the eject button.\n",
      "The pod escapes out into the void of space, then\n",
      "implodes as the hull ruptures, crushing your body into\n",
      "jam jelly.\n",
      "\n",
      "You're worse than your Dad's jokes.\n"
     ]
    },
    {
     "ename": "SystemExit",
     "evalue": "1",
     "output_type": "error",
     "traceback": [
      "An exception has occurred, use %tb to see the full traceback.\n",
      "\u001b[1;31mSystemExit\u001b[0m\u001b[1;31m:\u001b[0m 1\n"
     ]
    }
   ],
   "source": [
    "a_map = Map('central_corridor')\n",
    "a_game = Engine(a_map)\n",
    "a_game.play()"
   ]
  },
  {
   "cell_type": "markdown",
   "metadata": {},
   "source": [
    "* და ბოლოს, კოდი დავწერე, რომელიც გაუშვებს Map-ს, მერე გადასცემს მას Engine-ს `play`-ის გაშვებამდე, ყველაფერმა რომ იმუშაოს."
   ]
  },
  {
   "cell_type": "markdown",
   "metadata": {},
   "source": [
    "<h2 align=\"center\">რუბრიკა \"ბოროტი მანტიორი\"</h2>\n",
    "\n",
    "- ჩვენ ხშირად შევცვლით კოდს, რომ დავადგინოთ მისი გაშვების საზღვრები.\n",
    "\n",
    "\n",
    "- ქვევით მოყვანილია **კოდის მაგალითები** რომლებიც **არ კომპილირდება** და **იძლევა შეცდომას**. \n",
    "\n",
    "\n",
    "- **გაარჩიეთ** თითოეული მათგანი და **გაასწორეთ შეცდომები**!"
   ]
  },
  {
   "cell_type": "code",
   "execution_count": null,
   "metadata": {},
   "outputs": [],
   "source": []
  },
  {
   "cell_type": "code",
   "execution_count": null,
   "metadata": {},
   "outputs": [],
   "source": []
  },
  {
   "cell_type": "markdown",
   "metadata": {},
   "source": [
    "<h2 align=\"center\">ხშირად დასმული კითხვები</h2>\n",
    "\n",
    "- ქვევით მოყვანილია კითხვები, რომლებიც გაუჩნდათ რეალურ სტუდენტებს ამ სავარჯიშოს შესრულებისას:\n",
    "\n",
    "\n",
    "1. **სად შეიძლება ვიპოვო რამე ისტორიები ჩემი თამაშისთვის?**\n",
    "\n",
    "    შეგიძლია მოიფიქრო ისინი, ვითომ მეგობარს უყვები; ან წიგნიდან/ფილმიდან აიღო.\n",
    "   \n",
    "   "
   ]
  },
  {
   "cell_type": "markdown",
   "metadata": {},
   "source": [
    "<h2 align=\"center\">საშინაო დავალება</h2>\n",
    "\n",
    "\n",
    "1. შეცვალე ის თამაში! იქნებ ძალიან აგრესიული ეგჩვენება.\n",
    "\n",
    "2. ამ კოდში ბაგია. რატომ არის კარის პაროლის გმაოცნობა 11-ჯერ?\n",
    "\n",
    "3. ახსენი, როგორ მუშაობს return next room.\n",
    "\n",
    "4. დაამატე ჩიტ-კოდი, რათა უფრო ძნელი ოთახები გამოტოვე. მე ეს შემიძ₾ია მხოლოდ ორი სიტყვით ერთ ხაზზე. \n",
    "\n",
    "5. დაუბრუნდი ჩემს აღწერასა და ანალიზს და შეეცადა შეამატო ამ თამაშს მოთამაშისა და გოთონის შეტაკების სისტემა."
   ]
  },
  {
   "cell_type": "markdown",
   "metadata": {
    "id": "DqPstivsYckk"
   },
   "source": [
    "<h1 align=\"center\">სავარჯიშოს დასასრული</h1>"
   ]
  }
 ],
 "metadata": {
  "colab": {
   "collapsed_sections": [],
   "name": "Example for ex_10.ipynb",
   "provenance": [
    {
     "file_id": "1gA41PQJ9EnKxnFPmClTRFD5RcQUVHfzr",
     "timestamp": 1601916899165
    },
    {
     "file_id": "https://github.com/stsiskaridze/ISU/blob/master/R527/ex_02.ipynb",
     "timestamp": 1601912049891
    }
   ]
  },
  "kernelspec": {
   "display_name": "Python 3",
   "language": "python",
   "name": "python3"
  },
  "language_info": {
   "codemirror_mode": {
    "name": "ipython",
    "version": 3
   },
   "file_extension": ".py",
   "mimetype": "text/x-python",
   "name": "python",
   "nbconvert_exporter": "python",
   "pygments_lexer": "ipython3",
   "version": "3.7.3"
  }
 },
 "nbformat": 4,
 "nbformat_minor": 1
}
