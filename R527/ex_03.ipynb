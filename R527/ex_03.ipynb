{
 "cells": [
  {
   "cell_type": "markdown",
   "metadata": {
    "slideshow": {
     "slide_type": "slide"
    }
   },
   "source": [
    "**R527 - დაპროგრამება პითონში**\n",
    "<br>\n",
    "თარიღი: **2 ოქტომბერი 2020**\n",
    "<br>\n",
    "\n",
    "სათაური: **სავარჯიშო 3**\n",
    "<br>\n",
    "მომხსენებელი: **შოთა ცისკარიძე**\n",
    "\n",
    "\n",
    "ბიბლიოგრაფია:\n",
    "<br> \n",
    " **სავარჯიშო 3.** Zed Shaw, *Learn Python 3 the Hard Way*, Addison Wesley (Verlag), 2017"
   ]
  },
  {
   "cell_type": "markdown",
   "metadata": {
    "slideshow": {
     "slide_type": "slide"
    }
   },
   "source": [
    "<h1 align=\"center\">სავარჯიშო 3: Python-ი როგორც კალკულატორი</h1>"
   ]
  },
  {
   "cell_type": "markdown",
   "metadata": {},
   "source": [
    "<center><img src=\"images/Ex03_Calculator.jpg\" width=\"600\" alt=\"Example\" /></center>"
   ]
  },
  {
   "cell_type": "markdown",
   "metadata": {},
   "source": [
    "- ყველა პროგრამირების ენას აქვს რიცხვებისა და არითმეტიკული გამოთვლების შესრულების გარკვეული გზები.\n",
    "\n",
    "\n",
    "- ამ სავარჯიშოში თქვენ შეგხვდებათ უამრავი მათემატიკური სიმბოლო.\n",
    "\n",
    "\n",
    "- ქვემოთ მოყვანილია თითოეული სიმბოლოს **დასახელება**, რომ იცოდეთ რას უწოდებენ.\n",
    "\n",
    "  `+` plus\n",
    "\n",
    "  `-` minus\n",
    "  \n",
    "  `/` slash\n",
    "  \n",
    "  `*` asterisk\n",
    "  \n",
    "  `%` percent\n",
    "  \n",
    "  `<` less-than\n",
    "  \n",
    "  `>` greater-than\n",
    "  \n",
    "  `<=` less-than-equal\n",
    "  \n",
    "  `>=` greater-than-equal\n",
    "\n",
    "\n",
    "- **ყურადღება**: **Python**-ში ზოგიერთი მათემატიკური სიმბოლო არ შეესაბამება თავის დასახელებას!"
   ]
  },
  {
   "cell_type": "code",
   "execution_count": 1,
   "metadata": {},
   "outputs": [
    {
     "data": {
      "text/plain": [
       "4"
      ]
     },
     "execution_count": 1,
     "metadata": {},
     "output_type": "execute_result"
    }
   ],
   "source": [
    "2 + 2"
   ]
  },
  {
   "cell_type": "code",
   "execution_count": 2,
   "metadata": {},
   "outputs": [
    {
     "data": {
      "text/plain": [
       "4"
      ]
     },
     "execution_count": 2,
     "metadata": {},
     "output_type": "execute_result"
    }
   ],
   "source": [
    "2 * 2"
   ]
  },
  {
   "cell_type": "code",
   "execution_count": 3,
   "metadata": {},
   "outputs": [
    {
     "data": {
      "text/plain": [
       "2.5"
      ]
     },
     "execution_count": 3,
     "metadata": {},
     "output_type": "execute_result"
    }
   ],
   "source": [
    "5 / 2"
   ]
  },
  {
   "cell_type": "code",
   "execution_count": 4,
   "metadata": {},
   "outputs": [
    {
     "data": {
      "text/plain": [
       "2"
      ]
     },
     "execution_count": 4,
     "metadata": {},
     "output_type": "execute_result"
    }
   ],
   "source": [
    "5 // 2"
   ]
  },
  {
   "cell_type": "code",
   "execution_count": 5,
   "metadata": {},
   "outputs": [
    {
     "data": {
      "text/plain": [
       "1"
      ]
     },
     "execution_count": 5,
     "metadata": {},
     "output_type": "execute_result"
    }
   ],
   "source": [
    "5 % 2"
   ]
  },
  {
   "cell_type": "code",
   "execution_count": 6,
   "metadata": {
    "scrolled": true
   },
   "outputs": [
    {
     "name": "stdout",
     "output_type": "stream",
     "text": [
      "მოდით დავთვალოთ წიწილები!\n",
      "ყვითელი წიწილების რაოდენობაა 30.0\n",
      "თეთრი წიწილების რაოდენობაა  97\n",
      "მოდით ახლა დავთვალოთ ქათმის კვერცხების რაოდენობა!\n",
      "6.75\n",
      "მართალია თუ არა რომ 3 + 2 < 5 - 7?\n",
      "რისი ტოლია 3 + 2? 5\n",
      "რისი ტოლია 5 - 7? -2\n",
      "False\n",
      "არის თუ არა 5 მეტი 2-ზე? True\n",
      "არის თუ არა 5 მეტი ან ტოლი 2-ზე? True\n"
     ]
    }
   ],
   "source": [
    "# წიწილების დათვლის კოდი\n",
    "\n",
    "print(\"მოდით დავთვალოთ წიწილები!\")\n",
    "\n",
    "print(\"ყვითელი წიწილების რაოდენობაა\", 25 + 30 / 6)\n",
    "print(\"თეთრი წიწილების რაოდენობაა \", 100 - 25 * 3 % 4)\n",
    "\n",
    "print(\"მოდით ახლა დავთვალოთ ქათმის კვერცხების რაოდენობა!\")\n",
    "      \n",
    "print(3 + 2 + 1 - 5 + 4 % 2 - 1 / 4 + 6)\n",
    "\n",
    "print(\"მართალია თუ არა რომ 3 + 2 < 5 - 7?\")\n",
    "\n",
    "print(\"რისი ტოლია 3 + 2?\", 3 + 2)\n",
    "print(\"რისი ტოლია 5 - 7?\", 5 - 7)\n",
    "\n",
    "print(3 + 2 < 5 - 7)\n",
    "\n",
    "print(\"არის თუ არა 5 მეტი 2-ზე?\", 5 > 2)\n",
    "print(\"არის თუ არა 5 მეტი ან ტოლი 2-ზე?\", 5 >= -2)"
   ]
  },
  {
   "cell_type": "code",
   "execution_count": 7,
   "metadata": {
    "scrolled": true
   },
   "outputs": [
    {
     "data": {
      "text/plain": [
       "4"
      ]
     },
     "execution_count": 7,
     "metadata": {},
     "output_type": "execute_result"
    }
   ],
   "source": [
    "f = lambda x: x + 2\n",
    "f(2)"
   ]
  },
  {
   "cell_type": "markdown",
   "metadata": {},
   "source": [
    "<h2 align=\"center\">რუბრიკა \"ბოროტი მანტიორი\"</h2>\n",
    "\n",
    "- ჩვენ ხშირად შევცვლით კოდს, რომ დავადგინოთ მისი გაშვების საზღვრები.\n",
    "\n",
    "\n",
    "- ქვევით მოყვანილია **კოდის მაგალითები** რომლებიც **არ კომპილირდება** და **იძლევა შეცდომას**. \n",
    "\n",
    "\n",
    "- **გაარჩიეთ** თითოეული მათგანი და **გაასწორეთ შეცდომები**!"
   ]
  },
  {
   "cell_type": "code",
   "execution_count": 8,
   "metadata": {},
   "outputs": [
    {
     "data": {
      "text/plain": [
       "2.0"
      ]
     },
     "execution_count": 8,
     "metadata": {},
     "output_type": "execute_result"
    }
   ],
   "source": [
    "6/3"
   ]
  },
  {
   "cell_type": "code",
   "execution_count": 9,
   "metadata": {},
   "outputs": [
    {
     "data": {
      "text/plain": [
       "3"
      ]
     },
     "execution_count": 9,
     "metadata": {},
     "output_type": "execute_result"
    }
   ],
   "source": [
    "6//2"
   ]
  },
  {
   "cell_type": "code",
   "execution_count": 10,
   "metadata": {},
   "outputs": [
    {
     "data": {
      "text/plain": [
       "3"
      ]
     },
     "execution_count": 10,
     "metadata": {},
     "output_type": "execute_result"
    }
   ],
   "source": [
    "7//2"
   ]
  },
  {
   "cell_type": "code",
   "execution_count": 11,
   "metadata": {},
   "outputs": [
    {
     "data": {
      "text/plain": [
       "1.6666666666666667"
      ]
     },
     "execution_count": 11,
     "metadata": {},
     "output_type": "execute_result"
    }
   ],
   "source": [
    "5/3"
   ]
  },
  {
   "cell_type": "code",
   "execution_count": 12,
   "metadata": {},
   "outputs": [
    {
     "data": {
      "text/plain": [
       "0.5"
      ]
     },
     "execution_count": 12,
     "metadata": {},
     "output_type": "execute_result"
    }
   ],
   "source": [
    "2.5 % 1"
   ]
  },
  {
   "cell_type": "code",
   "execution_count": 13,
   "metadata": {
    "scrolled": true
   },
   "outputs": [
    {
     "data": {
      "text/plain": [
       "1.0"
      ]
     },
     "execution_count": 13,
     "metadata": {},
     "output_type": "execute_result"
    }
   ],
   "source": [
    "2.5 % 1.5"
   ]
  },
  {
   "cell_type": "code",
   "execution_count": 14,
   "metadata": {},
   "outputs": [
    {
     "data": {
      "text/plain": [
       "9"
      ]
     },
     "execution_count": 14,
     "metadata": {},
     "output_type": "execute_result"
    }
   ],
   "source": [
    "3**2"
   ]
  },
  {
   "cell_type": "code",
   "execution_count": 15,
   "metadata": {
    "scrolled": true
   },
   "outputs": [
    {
     "data": {
      "text/plain": [
       "11"
      ]
     },
     "execution_count": 15,
     "metadata": {},
     "output_type": "execute_result"
    }
   ],
   "source": [
    "2 + 3**2"
   ]
  },
  {
   "cell_type": "code",
   "execution_count": 16,
   "metadata": {
    "scrolled": true
   },
   "outputs": [
    {
     "data": {
      "text/plain": [
       "25"
      ]
     },
     "execution_count": 16,
     "metadata": {},
     "output_type": "execute_result"
    }
   ],
   "source": [
    "(2+3)**2"
   ]
  },
  {
   "cell_type": "code",
   "execution_count": 17,
   "metadata": {},
   "outputs": [
    {
     "ename": "TypeError",
     "evalue": "unsupported operand type(s) for ** or pow(): 'list' and 'int'",
     "output_type": "error",
     "traceback": [
      "\u001b[1;31m---------------------------------------------------------------------------\u001b[0m",
      "\u001b[1;31mTypeError\u001b[0m                                 Traceback (most recent call last)",
      "\u001b[1;32m<ipython-input-17-7a52612b032d>\u001b[0m in \u001b[0;36m<module>\u001b[1;34m\u001b[0m\n\u001b[1;32m----> 1\u001b[1;33m \u001b[1;33m[\u001b[0m\u001b[1;36m2\u001b[0m\u001b[1;33m+\u001b[0m\u001b[1;36m3\u001b[0m\u001b[1;33m]\u001b[0m\u001b[1;33m**\u001b[0m\u001b[1;36m2\u001b[0m\u001b[1;33m\u001b[0m\u001b[1;33m\u001b[0m\u001b[0m\n\u001b[0m",
      "\u001b[1;31mTypeError\u001b[0m: unsupported operand type(s) for ** or pow(): 'list' and 'int'"
     ]
    }
   ],
   "source": [
    "[2+3]**2"
   ]
  },
  {
   "cell_type": "code",
   "execution_count": 18,
   "metadata": {
    "scrolled": true
   },
   "outputs": [
    {
     "ename": "TypeError",
     "evalue": "unsupported operand type(s) for ** or pow(): 'set' and 'int'",
     "output_type": "error",
     "traceback": [
      "\u001b[1;31m---------------------------------------------------------------------------\u001b[0m",
      "\u001b[1;31mTypeError\u001b[0m                                 Traceback (most recent call last)",
      "\u001b[1;32m<ipython-input-18-0818b968a5b0>\u001b[0m in \u001b[0;36m<module>\u001b[1;34m\u001b[0m\n\u001b[1;32m----> 1\u001b[1;33m \u001b[1;33m{\u001b[0m\u001b[1;36m2\u001b[0m\u001b[1;33m+\u001b[0m\u001b[1;36m3\u001b[0m\u001b[1;33m}\u001b[0m\u001b[1;33m**\u001b[0m\u001b[1;36m2\u001b[0m\u001b[1;33m\u001b[0m\u001b[1;33m\u001b[0m\u001b[0m\n\u001b[0m",
      "\u001b[1;31mTypeError\u001b[0m: unsupported operand type(s) for ** or pow(): 'set' and 'int'"
     ]
    }
   ],
   "source": [
    "{2+3}**2"
   ]
  },
  {
   "cell_type": "markdown",
   "metadata": {},
   "source": [
    "<h2 align=\"center\">სამუშაო დავალება</h2>\n",
    "\n",
    "1. თავში მოყვანილი არითმეტიკული ოპერაციების სია **არ არის სრული**. **დაამატეთ** გამოტოვებული ოპერაციები.\n",
    "\n",
    "\n",
    "2. რა იქნება შემდეგი გამოსახულების შედეგი: `2 + 2/2*2**(2+2)`? აკრიფეთ და გაუშვით კოდი. აღწერეთ შედეგი!\n",
    "\n",
    "\n",
    "3. აღწერეთ რას აკეთებს `lambda` ფუნქცია. \n",
    "\n",
    "\n",
    "4. დაწერეთ ფუნქცია რომელიც ითვლის **ორი რიცხვის კვადრატების ჯამს**."
   ]
  },
  {
   "cell_type": "markdown",
   "metadata": {},
   "source": [
    "<h2 align=\"center\">ხშირად დასმული კითხვები</h2>\n",
    "\n",
    "- ქვევით მოყვანილია კითხვები, რომლებიც გაუჩნდათ რეალურ სტუდენტებს ამ სავარჯიშოს შესრულებისას:\n",
    "\n",
    "\n",
    "1. რატომ არის `%` სიმბოლო **მოდული არების ოპერაცია** და არა **პროცენტი**-ის?\n",
    "\n",
    "   უბრალოდ პითონის შემქმნელებმა სწორედ **ასე აირჩიეს** ამ სიმბოლოს გამოყენება. ჩვეულებრივ წერაში სწორია, რომ წაიკითხოთ როგორც **პროცენტი**.\n",
    "   \n",
    "   \n",
    "2. როგორ მუშაობს `%` ოპერაცია?\n",
    "\n",
    "   თუ ჩვენ გვაქვს ორი რიცხვი $a$ და $b$, მაშინ $(a \\mod b = c)$ აბრუნებს $a$ ნაშთს $b$-ე გაყოფისას.\n",
    "   \n",
    "   მაგალითად, $10 \\mod 3 = 1$. \n",
    "   \n",
    "   \n",
    "3. რა ოპერაცია რის შემდეგ გამოიყენება?\n",
    "\n",
    "   სტანდარტულად არითმეტიკაში გამოიყენება **PEMDAS**-ს სისტემა: \n",
    "   \n",
    "   **ფრჩხილები, ხარისხში აყვანა, გამრავლება, გაყოფა, დამატება, გამოკლება.**\n",
    "\n",
    "   **PEMDAS = Parentheses Exponents Multiplication Division Addition Subtraction**"
   ]
  },
  {
   "cell_type": "markdown",
   "metadata": {},
   "source": [
    "<h1 align=\"center\">სავარჯიშოს დასასრული</h1>"
   ]
  }
 ],
 "metadata": {
  "kernelspec": {
   "display_name": "Python 3",
   "language": "python",
   "name": "python3"
  },
  "language_info": {
   "codemirror_mode": {
    "name": "ipython",
    "version": 3
   },
   "file_extension": ".py",
   "mimetype": "text/x-python",
   "name": "python",
   "nbconvert_exporter": "python",
   "pygments_lexer": "ipython3",
   "version": "3.7.3"
  }
 },
 "nbformat": 4,
 "nbformat_minor": 2
}
