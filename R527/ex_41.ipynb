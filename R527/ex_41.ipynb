{
 "cells": [
  {
   "cell_type": "markdown",
   "metadata": {
    "id": "WDDFQrf4Ycht"
   },
   "source": [
    "**R527 - დაპროგრამება პითონში**\n",
    "<br>\n",
    "თარიღი: **27 ნოემბერი 2020**\n",
    "<br>\n",
    "\n",
    "სათაური: **სავარჯიშო 41**\n",
    "<br>\n",
    "მომხსენებელი: **შოთა ცისკარიძე**\n",
    "\n",
    "\n",
    "ბიბლიოგრაფია:\n",
    "<br> \n",
    " **სავარჯიშო 41.** Zed Shaw, *Learn Python 3 the Hard Way*, Addison Wesley (Verlag), 2017"
   ]
  },
  {
   "cell_type": "markdown",
   "metadata": {
    "id": "fYkwmIWkYchw"
   },
   "source": [
    "<h1 align=\"center\">სავარჯიშო 41: ოოპ-ს დამახასიათებელი ტერმინოლოგიები</h1>"
   ]
  },
  {
   "cell_type": "markdown",
   "metadata": {
    "slideshow": {
     "slide_type": "fragment"
    }
   },
   "source": [
    "<center><img src=\"images/Ex_41_Intro.png\" width=\"500\"alt=\"Example\" /></center>"
   ]
  },
  {
   "cell_type": "markdown",
   "metadata": {
    "id": "sRM4k6-aYch3"
   },
   "source": [
    "- ამ სავარჯიშოში **ობიექტზე ორიენტირებული პროგრამირებისთვის** დამახასიათებელ **ტერმინოლოგიას** და **მნიშვნელობებს** გავივლით.\n",
    "\n",
    "\n",
    "- **დაიმახსოვრეთ ისინი**, რათა შეგეძლოთ პროგრამირება.\n"
   ]
  },
  {
   "cell_type": "markdown",
   "metadata": {
    "id": "fYkwmIWkYchw"
   },
   "source": [
    "<h3 align=\"center\">სიტყვები</h3>"
   ]
  },
  {
   "cell_type": "markdown",
   "metadata": {
    "id": "sRM4k6-aYch3"
   },
   "source": [
    "**class**: ვეუბნებით Python-ს შექმნას ახალი კლასი.\n",
    "\n",
    "**object**: ორი მნიშვნელობა: რაღაცის ბაზისური ტიპი და ამ ტიპის ნებისმიერი შემთხვევა.\n",
    "\n",
    "**instance**: რასაც ვღებულობთ, როცა ვეუბნებით Python-ს შექმნას კლასი.\n",
    "\n",
    "**def**: ფუნქციის განსაზღვრა კლასის შიგნით.\n",
    "\n",
    "**self**: კლასში არსებული ფუნქციის შემადგენელია. მისი გამოყენებით კლასის სტრუტურაზე/ობიექტზე ვიღებთ წვდომას.\n",
    "\n",
    "**inheritance**: კონცეპცია, რომ კლასს შეუძლია მემკვიდრეობით მიიღოს თვისებები სხვა კლასისგან (როგორც ჩვენ ჩვენი მშობლებისგან).\n",
    "\n",
    "**composition**: კონცეპტი, რომ ერთი კლასი შეიძლება იყოს სხვა კლასების კომპოზიცია (როგორც, მაგალითად, მანქანას აქვს ბორბლები, კარები და ა.შ.)\n",
    "\n",
    "**attribute**: ის საკუთრება/თვისება რომელიც აქვთ კომპოზიციიდან შემდგარ კლასებს, და ის ჩვეულებრივ ცვლადია.\n",
    "\n",
    "**is-a**: ფრაზა, რომელიც გამოიყენება იმის სათქმელად, რომ რაღაცას მემკვიდრეობით იღებ სხვისგან (მაგალითად, \"ქაშაყი\" **არის** (**is-a**) \"თევზი\")\n",
    "\n",
    "**has-a**: ფრაზა, რომელიც გამოიყენება იმის სათქმელად, რომ რაღაცა სხვის თვისებებს შეიცავს (მაგალითად, \"ქაშაყს\" აქვს (**has-a**) \"თვალები\")."
   ]
  },
  {
   "cell_type": "markdown",
   "metadata": {
    "id": "fYkwmIWkYchw"
   },
   "source": [
    "<h3 align=\"center\">ფრაზები</h3>"
   ]
  },
  {
   "cell_type": "markdown",
   "metadata": {},
   "source": [
    "**class X(Y)**. შექმენი კლასი სახელად `X`, რომელიც *არის (is-a)* `Y`.\n",
    "\n",
    "**class X(object): def __init__ (self, J)**. კლასს `X` *აქვს (has-a)* `__init__`, რომელიც ღებულობს `self`-ს და `J`-ს პარამეტრებად.\n",
    "\n",
    "**class X(object): def M(self, J)**. კლასს `X` *აქვს (has-a)* ფუნქცია `M`, რომელიც ღებულობს `self`-ს და `J`-ს პარამეტრებად.\n",
    "\n",
    "**foo = X()**. *დავაწესოთ (instance)* `foo` კლასი `X`-ის შესაქმნელად.\n",
    "\n",
    "**foo.M(J)**. `foo`-დან აიღე ფუნქცია `M` და გამოიძახე ის `self` და `J` პარამეტრებით.\n",
    "\n",
    "**foo.K = Q**. `foo`-დან აიღე `K` ატრიბუტი და მიანიჭე `M`."
   ]
  },
  {
   "cell_type": "markdown",
   "metadata": {
    "id": "fYkwmIWkYchw"
   },
   "source": [
    "<h3 align=\"center\">კოდის კითხვის ტესტი</h3>"
   ]
  },
  {
   "cell_type": "markdown",
   "metadata": {},
   "source": [
    "- ახლა კი მოგიმზადეთ პატარა **Python**-ის კოდი, **რომელიც** ზემოთ მოცემული **სიტყვებისა** და **ფრაზების დამახსოვრებაში დაგეხმარებათ**.\n",
    "\n",
    "\n",
    "- ყველაფერი ცნობილია თქვენთვის, გარდა იმისა, რომ კოდი იყენებს ბიბლიოთეკას `urllib`, რათა გადმოიწეროს სიტყვების ჩამონავალი.\n",
    "\n",
    "\n",
    "- შეიყვანეთ ეს კოდი ფაილში სახელწოდებით `oop_test.py`:"
   ]
  },
  {
   "cell_type": "code",
   "execution_count": null,
   "metadata": {},
   "outputs": [],
   "source": [
    "import random\n",
    "from urllib.request import urlopen\n",
    "import sys\n",
    "\n",
    "WORD_URL = \"http://learncodethehardway.org/words.txt\"\n",
    "WORDS = []\n",
    "\n",
    "PHRASES = {\n",
    "    \"class %%%(%%%):\":                                 \"Make a class named %%% that is-a %%%.\",\n",
    "    \"class %%%(object):\\n\\tdef __init__(self, ***)\" :  \"class %%% has-a __init__ that takes self and *** params.\",\n",
    "    \"class %%%(object):\\n\\tdef ***(self, @@@)\":        \"class %%% has-a function *** that takes self and @@@ params.\",\n",
    "    \"*** = %%%()\":                                     \"Set *** to an instance of class %%%.\",\n",
    "    \"***.***(@@@)\":                                    \"From *** get the *** function, call it with params self, @@@.\",\n",
    "    \"***.*** = '***'\":                                 \"From *** get the *** attribute and set it to '***'.\"\n",
    "}\n",
    "\n",
    "# ჯერ ფრაზებით დავიწყოთ?\n",
    "if len(sys.argv) == 2 and sys.argv[1] == \"english\":\n",
    "    PHRASE_FIRST = True\n",
    "else:\n",
    "    PHRASE_FIRST = False\n",
    "\n",
    "# ვებ საიტიდან სიტყვების ჩატვირთვა\n",
    "for word in urlopen(WORD_URL).readlines():\n",
    "    WORDS.append(str(word.strip(), encoding=\"utf-8\"))\n",
    "\n",
    "\n",
    "def convert(snippet, phrase):\n",
    "    class_names = [w.capitalize() for w in random.sample(WORDS, snippet.count(\"%%%\"))]\n",
    "    other_names = random.sample(WORDS, snippet.count(\"***\"))\n",
    "    results = []\n",
    "    param_names = []\n",
    "\n",
    "    for i in range(0, snippet.count(\"@@@\")):\n",
    "        param_count = random.randint(1,3)\n",
    "        param_names.append(', '.join(\n",
    "            random.sample(WORDS, param_count)))\n",
    "\n",
    "    for sentence in snippet, phrase:\n",
    "        result = sentence[:]\n",
    "\n",
    "        # კლასების დასახელებები\n",
    "        for word in class_names:\n",
    "            result = result.replace(\"%%%\", word, 1)\n",
    "\n",
    "        # სხვა დასახელებები\n",
    "        for word in other_names:\n",
    "            result = result.replace(\"***\", word, 1)\n",
    "\n",
    "        # პარამეტრების ჩამონათვალი\n",
    "        for word in param_names:\n",
    "            result = result.replace(\"@@@\", word, 1)\n",
    "\n",
    "        results.append(result)\n",
    "       \n",
    "    return results\n",
    "\n",
    "# გააგრძელე, სანამ მომხმარებელი დააჭერს CTRL-C\n",
    "try:\n",
    "    while True:\n",
    "        snippets = list(PHRASES.keys())\n",
    "        random.shuffle(snippets)\n",
    "\n",
    "        for snippet in snippets:\n",
    "            phrase = PHRASES[snippet]\n",
    "            question, answer = convert(snippet, phrase)\n",
    "            if PHRASE_FIRST:\n",
    "                question, answer = answer, question\n",
    "\n",
    "            print(question)\n",
    "\n",
    "            input(\"> \")\n",
    "            print(f\"ANSWER: {answer}\\n\\n\")\n",
    "except EOFError:\n",
    "    print(\"\\nBye\")"
   ]
  },
  {
   "cell_type": "markdown",
   "metadata": {},
   "source": [
    "* გაუშვით ეს კოდი და შეეცადეთ ინგლისურად ახსნათ თქვენს წინ წარმოდგენილი კოდის ნაწილები. \n",
    "\n",
    "* სწორი პასუხი ნებისმიერ შემთხვევაში გამოჩნდება.\n",
    "\n",
    "- **დაიმახსოვრეთ**: ცვლადებისა და კლასებისთვის გამოყენებული სახელები შეიძლება სულაც არ იყოს კავშირში მათ მნიშვნელობებთან."
   ]
  },
  {
   "cell_type": "markdown",
   "metadata": {},
   "source": [
    "<h2 align=\"center\">რუბრიკა \"ბოროტი მანტიორი\"</h2>\n",
    "\n",
    "- ჩვენ ხშირად შევცვლით კოდს, რომ დავადგინოთ მისი გაშვების საზღვრები.\n",
    "\n",
    "\n",
    "- ქვევით მოყვანილია **კოდის მაგალითები** რომლებიც **არ კომპილირდება** და **იძლევა შეცდომას**. \n",
    "\n",
    "\n",
    "- **გაარჩიეთ** თითოეული მათგანი და **გაასწორეთ შეცდომები**!"
   ]
  },
  {
   "cell_type": "code",
   "execution_count": null,
   "metadata": {},
   "outputs": [],
   "source": []
  },
  {
   "cell_type": "code",
   "execution_count": null,
   "metadata": {},
   "outputs": [],
   "source": []
  },
  {
   "cell_type": "markdown",
   "metadata": {},
   "source": [
    "<h2 align=\"center\">ხშირად დასმული კითხვები</h2>\n",
    "\n",
    "- ქვევით მოყვანილია კითხვები, რომლებიც გაუჩნდათ რეალურ სტუდენტებს ამ სავარჯიშოს შესრულებისას:\n",
    "\n",
    "\n",
    "1. **რას აკეთებს კოდი `result = sentence[:]`?**\n",
    "\n",
    "    Python აკოპირებს ჩამონათვალს. \n",
    "    \n",
    "    ჩვენ ვიყენებთ ჩამოჭრის (slice) სინტაქსს `[:]`, რათა დავაკოპიროთ ჩამონათვალი პირველი ელემენტით დაწყებული ბოლო ელემენტის ჩათვლით.\n",
    "    \n",
    "\n",
    "\n",
    "2. **ეს სკრიპტი ძნელია გადმოსაწერად!**\n",
    "\n",
    "    ამ ეტაპისთვის თქვენ უნდა შეგეძლოთ ამის გადმოწერა და გაშვება. \n",
    "    \n",
    "    კი, კომპლექსური ადგილები აქვს აქა-იქ, მაგრამ არაფერია ძალიან დამაბნევებელი. \n",
    "    \n",
    "    უბრალოდ გაიხსენეთ ყველაფერი, რაც დებაგინგის შესახებ იწავლეთ. დაწერეთ ხაზი - დარწმუნდით, რომ ზუსტად იგივეა, რაც მე მიწერია. \n",
    "    \n",
    "    რაც არ გეცნობათ, მოძებნეთ ინტერნეტში.\n",
    "    \n",
    "\n",
    "3. **მაინც ძალიან ძნელია!**\n",
    "\n",
    "    თქვენ ამას შეძლებთ. თუ საჭიროა, დააკვირდი ყოველ ასოს და აკრიფე ზუსტად ის რაც სავარჯიშოშია დაწერილი.\n",
    "   "
   ]
  },
  {
   "cell_type": "markdown",
   "metadata": {
    "id": "DqPstivsYckk"
   },
   "source": [
    "<h1 align=\"center\">სავარჯიშოს დასასრული</h1>"
   ]
  }
 ],
 "metadata": {
  "colab": {
   "collapsed_sections": [],
   "name": "Example for ex_10.ipynb",
   "provenance": [
    {
     "file_id": "1gA41PQJ9EnKxnFPmClTRFD5RcQUVHfzr",
     "timestamp": 1601916899165
    },
    {
     "file_id": "https://github.com/stsiskaridze/ISU/blob/master/R527/ex_02.ipynb",
     "timestamp": 1601912049891
    }
   ]
  },
  "kernelspec": {
   "display_name": "Python 3",
   "language": "python",
   "name": "python3"
  },
  "language_info": {
   "codemirror_mode": {
    "name": "ipython",
    "version": 3
   },
   "file_extension": ".py",
   "mimetype": "text/x-python",
   "name": "python",
   "nbconvert_exporter": "python",
   "pygments_lexer": "ipython3",
   "version": "3.7.3"
  }
 },
 "nbformat": 4,
 "nbformat_minor": 1
}
