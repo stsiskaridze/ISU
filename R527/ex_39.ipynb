{
 "cells": [
  {
   "cell_type": "markdown",
   "metadata": {
    "id": "WDDFQrf4Ycht"
   },
   "source": [
    "**R527 - დაპროგრამება პითონში**\n",
    "<br>\n",
    "თარიღი: **20 ნოემბერი 2020**\n",
    "<br>\n",
    "\n",
    "სათაური: **სავარჯიშო 39**\n",
    "<br>\n",
    "მომხსენებელი: **შოთა ცისკარიძე**\n",
    "\n",
    "\n",
    "ბიბლიოგრაფია:\n",
    "<br> \n",
    " **სავარჯიშო 39.** Zed Shaw, *Learn Python 3 the Hard Way*, Addison Wesley (Verlag), 2017"
   ]
  },
  {
   "cell_type": "markdown",
   "metadata": {
    "id": "fYkwmIWkYchw"
   },
   "source": [
    "<h1 align=\"center\">სავარჯიშო 39: ლექსიკონი</h1>"
   ]
  },
  {
   "cell_type": "markdown",
   "metadata": {
    "slideshow": {
     "slide_type": "fragment"
    }
   },
   "source": [
    "<center><img src=\"images/Ex_39_Intro.jpg\" width=\"500\"alt=\"Example\" /></center>"
   ]
  },
  {
   "cell_type": "markdown",
   "metadata": {
    "id": "sRM4k6-aYch3"
   },
   "source": [
    "- ახლა ჩვენ ვისწავლით **Python**-ის მონაცემთა სტრუქტურას რომელსაც **ლექსიკონი** ეწოდება. \n",
    "\n",
    "\n",
    "- **ლექსიკონები** ძალიან **ჰგავს სიებს**, ერთის განსხვავებით, რომ მონაცემებზე წვდომისთვის ნებისმიერი ტიპის ინდექსის გამოყენება შეგვიძლია.\n",
    "\n",
    "\n",
    "- მოდით უფრო დეტალურად **შევადაროთ სიები** და **ლექსიკონები**. "
   ]
  },
  {
   "cell_type": "markdown",
   "metadata": {},
   "source": [
    "- მოდით ჯერ **გავნიხილოთ სიები**.\n",
    "\n",
    "\n",
    "- **სიის შესაქმნელად** გამოიყენება `[` და `]` ბრჭყალები:"
   ]
  },
  {
   "cell_type": "code",
   "execution_count": null,
   "metadata": {
    "scrolled": true
   },
   "outputs": [],
   "source": [
    "სია = ['ა', 'ბ', 'გ', 'დ', 'ე', 'ვ', 'ზ', 'თ']\n",
    "print(სია)"
   ]
  },
  {
   "cell_type": "markdown",
   "metadata": {},
   "source": [
    " - **სია** გაძლევს ელემენტზე წვდომის საშუალებას მხოლოდ **რიცხვითი ინდექსის** ან **დაჭრის**  გამოყენებით."
   ]
  },
  {
   "cell_type": "code",
   "execution_count": null,
   "metadata": {},
   "outputs": [],
   "source": [
    "print(სია[0])"
   ]
  },
  {
   "cell_type": "code",
   "execution_count": null,
   "metadata": {},
   "outputs": [],
   "source": [
    "print(სია[0:4])"
   ]
  },
  {
   "cell_type": "markdown",
   "metadata": {},
   "source": [
    "- მოდით ახლა ვისაუბროთ **ლექსიკონებზე**.\n",
    "\n",
    "- ლექსიკონის შესაქმნელად გამოიყენება `{` და `}` ბრჭყალები:"
   ]
  },
  {
   "cell_type": "code",
   "execution_count": null,
   "metadata": {},
   "outputs": [],
   "source": [
    "გმირი = {'სახელი': 'ტარიელი', 'ასაკი': 30, 'სიმაღლე': 199}\n",
    "print(გმირი)"
   ]
  },
  {
   "cell_type": "markdown",
   "metadata": {
    "id": "sRM4k6-aYch3"
   },
   "source": [
    "- **ლექსიკონები** გაძლევთ ელემენტზე წვდომის მისაღებად **ნებისმიერი ტიპის მონაცემი** გამოიყენოს საშუალებას."
   ]
  },
  {
   "cell_type": "code",
   "execution_count": null,
   "metadata": {
    "scrolled": true
   },
   "outputs": [],
   "source": [
    "print(გმირი['სახელი'])\n",
    "print(გმირი['ასაკი'])\n",
    "print(გმირი['სიმაღლე'])"
   ]
  },
  {
   "cell_type": "code",
   "execution_count": null,
   "metadata": {},
   "outputs": [],
   "source": [
    "გმირი['სამოსი'] = 'ვეფხვი'\n",
    "print(გმირი['სამოსი'])"
   ]
  },
  {
   "cell_type": "markdown",
   "metadata": {
    "id": "sRM4k6-aYch3"
   },
   "source": [
    "- როგორც ხედავთ, ჩვენ რიცხვების მაგივრად ჩავწერეთ სტრიქონები. ეს იმას არ ნიშნავს, რომ რიცხვებს ვერ გამოვიყენებთ:"
   ]
  },
  {
   "cell_type": "code",
   "execution_count": null,
   "metadata": {},
   "outputs": [],
   "source": [
    "გმირი[1] = 'ცხენი'\n",
    "print(გმირი[1])"
   ]
  },
  {
   "cell_type": "code",
   "execution_count": null,
   "metadata": {
    "scrolled": true
   },
   "outputs": [],
   "source": [
    "print(გმირი)"
   ]
  },
  {
   "cell_type": "markdown",
   "metadata": {},
   "source": [
    "- კოდის ამ ნაწილში, როგორც ხედავთ, ჩვენ გამოვიყენეთ რიცხვები ელემენტების ინდექსირებისთვის. \n",
    "\n",
    "\n",
    "- ანუ, ამ მომენტში ლექსიკონში გვაქვს ელემენტები, რომლის **გასაღებია** (ანუ მათზე წვდომისთვის ინდექსი) როგორც რიცხვები, ასევე სტრიქონები გამოიყენება.\n",
    "\n",
    "\n",
    "- ელემენტის წაშლისთვის ვიყენებთ `del`-ს:"
   ]
  },
  {
   "cell_type": "code",
   "execution_count": null,
   "metadata": {},
   "outputs": [],
   "source": [
    "del გმირი[1]\n",
    "del გმირი['სამოსი']\n",
    "print(გმირი)"
   ]
  },
  {
   "cell_type": "markdown",
   "metadata": {},
   "source": [
    "<h2 align=\"center\">ლექსიკონის მაგალითი</h2>\n",
    "\n",
    "- შემდეგი დავალება ძალიან ყურადღებით წაიკითხეთ და დაბეჭდეთ. შეეცადეთ გაიაზროთ კოდი.\n",
    "\n",
    "\n",
    "- ლექსიკონებთან მუშაობის თითოეული ნაბიჯი ჩაინიშნეთ (კომენტარებში ნახავთ მითითებებს).\n",
    "\n",
    "\n",
    "- დააკვირდით, როგორ იქმნება რუკა-ასოციაცია შტატების სრული სახელებით მათ აბრევიატურებთან და მერე აბრევიატურების ქალაქებთან."
   ]
  },
  {
   "cell_type": "code",
   "execution_count": null,
   "metadata": {},
   "outputs": [],
   "source": [
    "# ლექსიკონის შემქნა რომელიც საქართველოს რეგიონების მიანიჭებს შესაბამის აბრევიატურებს\n",
    "რეგიონები = {\n",
    "    'აჭარა': 'AJ',\n",
    "    'აფხაზეთი': 'AB',\n",
    "    'მცხეთა–მთიანეთი': 'MM',\n",
    "    'ქვემო ქართლი': 'KK',\n",
    "    'სამცხე-ჯავახეთი': 'SJ',\n",
    "    'გურია': 'GU',\n",
    "    'კახეთი': 'KA',\n",
    "    'სამეგრელო–ზემო სვანეთი': 'SS',\n",
    "    'შიდა ქართლი': 'SK',\n",
    "    'რაჭა-ლეჩხუმი': 'RL',\n",
    "    'იმერეთი': 'IM',\n",
    "    'თბილისი': 'TB',\n",
    "}\n",
    "\n",
    "# ლექსიკონის შექმნა რომელიც ყოველ აბრე-*+ტურას მიანიჭებს შესაბამის ქალაქს\n",
    "ქალაქები = {\n",
    "    'AJ': 'ბათუმი',\n",
    "    'AB': 'სოხუმი',\n",
    "    'MM': 'მცხეთა',\n",
    "    'KK': 'რუსთავი',\n",
    "    'SJ': 'ახალციხე',\n",
    "    'GU': 'ოზურგეთი',\n",
    "    'KA': 'თელავი',\n",
    "    'SS': 'ზუგდიდი',\n",
    "    'SK': 'გორი',\n",
    "    'RL': 'ონი',\n",
    "    'IM': 'ქუთაისი',\n",
    "    'TB': 'თბილისი',\n",
    "}"
   ]
  },
  {
   "cell_type": "code",
   "execution_count": null,
   "metadata": {},
   "outputs": [],
   "source": [
    "# ქალაქების ბეჭდვა\n",
    "print(\"აჭარაში არის ქალაქი\", ქალაქები['AJ'])"
   ]
  },
  {
   "cell_type": "code",
   "execution_count": null,
   "metadata": {},
   "outputs": [],
   "source": [
    "# ქალაქების ბეჭდვა\n",
    "print(\"აჭარაში არის ქალაქი\", ქალაქები[რეგიონები['აჭარა']])"
   ]
  },
  {
   "cell_type": "code",
   "execution_count": null,
   "metadata": {
    "scrolled": true
   },
   "outputs": [],
   "source": [
    "# ამოვბეჭდოთ ყველა აბრევიატურა\n",
    "for რეგიონი, აბრევიატურა in list(რეგიონები.items()):\n",
    "    print(f\"{რეგიონი}ს აბრივიატურაა {აბრევიატურა}!\")"
   ]
  },
  {
   "cell_type": "code",
   "execution_count": null,
   "metadata": {
    "scrolled": true
   },
   "outputs": [],
   "source": [
    "# როგორ მივიღოთ უსაფრთხოდ წვდომა ელემნტზე?!\n",
    "რეგიონი = რეგიონები.get('კვახეთი')\n",
    "if not რეგიონი:\n",
    "    print(\"მასეთი რეგიონი არ არსებობს!\")"
   ]
  },
  {
   "cell_type": "code",
   "execution_count": null,
   "metadata": {},
   "outputs": [],
   "source": [
    "# როგორ მივუთითოთ ელემნტის მნიშვნელობა განმარტების თანახმად?!\n",
    "ქალაქი = ქალაქები.get('KV', \"კვახეთი\")\n",
    "print(f\"განმარტების თანახმად თქვენი ქალაქია {ქალაქი}!\")"
   ]
  },
  {
   "cell_type": "markdown",
   "metadata": {},
   "source": [
    "<h2 align=\"center\">რა შეუძლიათ ლექსიკონებს</h2>\n",
    "\n",
    "\n",
    "- ლექსიკონი არის მონაცემთა სტრუქტურის სახეობა, რომლებსაც ასევე ძალიან ხშირად იყენებენ.\n",
    "\n",
    "\n",
    "- ლექსიკონი გამოიყენება რუკის სახით, სადაც მონაცემები ასოცირებულია მათზე წვდომისთვის გამოყენებულ გასაღებთან. \n",
    "\n",
    "\n",
    "- ჩათვალეთ, რომ ნამდვილ ლექსიკონთან მუშაობთ. \n",
    "\n",
    "  ვთქვათ, გინდათ იპოვოთ სიტყვა **შესაძლელობა**-ს მნიშვნელობა. \n",
    "  \n",
    "  თქვენ იცით, რომ სიტყვა იწყება **შ**-თი, ამიტომ გადაფურცლავთ ლექსიკონს ამ ასომდე, მერე დახედავთ მეორე ასოს და ა.შ. სიტყვას რომ მიაგნებთ, მის მნიშვნელობასაც იპოვით.\n",
    "\n",
    "\n",
    "- იმავეს აკეთებს **Python**-ის ლექსიკონიც. \n",
    "\n",
    "  სიტყვა-გასაღების საშუალებით ის წვდომას მოგცემთ ნანატრ მნიშვნელობაზე."
   ]
  },
  {
   "cell_type": "markdown",
   "metadata": {},
   "source": [
    "<h2 align=\"center\">რუბრიკა \"ბოროტი მანტიორი\"</h2>\n",
    "\n",
    "- ჩვენ ხშირად შევცვლით კოდს, რომ დავადგინოთ მისი გაშვების საზღვრები.\n",
    "\n",
    "\n",
    "- ქვევით მოყვანილია **კოდის მაგალითები** რომლებიც **არ კომპილირდება** და **იძლევა შეცდომას**. \n",
    "\n",
    "\n",
    "- **გაარჩიეთ** თითოეული მათგანი და **გაასწორეთ შეცდომები**!"
   ]
  },
  {
   "cell_type": "code",
   "execution_count": null,
   "metadata": {},
   "outputs": [],
   "source": [
    "სია = ['ა', 'ბ', 'გ', 'დ', 'ე', 'ვ', 'ზ', 'თ']"
   ]
  },
  {
   "cell_type": "code",
   "execution_count": null,
   "metadata": {
    "scrolled": false
   },
   "outputs": [],
   "source": [
    "print(სია[0::2])"
   ]
  },
  {
   "cell_type": "code",
   "execution_count": null,
   "metadata": {
    "scrolled": true
   },
   "outputs": [],
   "source": [
    "print(სია[0:::2])"
   ]
  },
  {
   "cell_type": "code",
   "execution_count": null,
   "metadata": {
    "scrolled": true
   },
   "outputs": [],
   "source": [
    "print(სია[1.0])"
   ]
  },
  {
   "cell_type": "code",
   "execution_count": null,
   "metadata": {},
   "outputs": [],
   "source": [
    "print(სია['1'])"
   ]
  },
  {
   "cell_type": "code",
   "execution_count": null,
   "metadata": {},
   "outputs": [],
   "source": [
    "print(სია[True])"
   ]
  },
  {
   "cell_type": "code",
   "execution_count": null,
   "metadata": {},
   "outputs": [],
   "source": [
    "სია[0] = 'A'\n",
    "print(სია)"
   ]
  },
  {
   "cell_type": "code",
   "execution_count": null,
   "metadata": {
    "scrolled": true
   },
   "outputs": [],
   "source": [
    "სია['0'] = 'A'\n",
    "print(სია)"
   ]
  },
  {
   "cell_type": "code",
   "execution_count": null,
   "metadata": {},
   "outputs": [],
   "source": [
    "გმირი = {'სახელი': 'ტარიელი', 'ასაკი': 30, 'სიმაღლე': 199}\n",
    "del გმირი[2]"
   ]
  },
  {
   "cell_type": "code",
   "execution_count": null,
   "metadata": {},
   "outputs": [],
   "source": [
    "რეგიონები = {\n",
    "    'აჭარა': 'AJ',\n",
    "    'აფხაზეთი': 'AB',\n",
    "    'მცხეთა–მთიანეთი': 'MM',\n",
    "    'ქვემო ქართლი': 'KK',\n",
    "    'სამცხე-ჯავახეთი': 'SJ',\n",
    "    'გურია': 'GU',\n",
    "    'კახეთი': 'KA',\n",
    "    'სამეგრელო–ზემო სვანეთი': 'SS',\n",
    "    'შიდა ქართლი': 'SK',\n",
    "    'რაჭა-ლეჩხუმი': 'RL',\n",
    "    'იმერეთი': 'IM',\n",
    "    'თბილისი': 'TB',\n",
    "}\n",
    "\n",
    "რეგიონი = რეგიონები.get('კვახეთი')\n",
    "type(რეგიონი)"
   ]
  },
  {
   "cell_type": "markdown",
   "metadata": {},
   "source": [
    "<h2 align=\"center\">ხშირად დასმული კითხვები</h2>\n",
    "\n",
    "- ქვემოთ მოყვანილია კითხვები, რომლებიც გაუჩნდათ რეალურ სტუდენტებს ამ სავარჯიშოს შესრულებისას:\n",
    "\n",
    "\n",
    "1. **რა განსხვავებაა სიებსა და ლექსიკონებს შორის?**\n",
    "\n",
    "    სია არის ელემენტების დანომრილი ჩამონათვალი. ლექსიკონი კი კავშირია ელემენტების (რომელსაც ვუწოდებთ **გასაღებს**) სხვა ელემენტებთან (რომელსაც ვეძახით **მნიშვნელობებს**).\n",
    "    \n",
    "    \n",
    "2. **რისთვის გამოვიყენებ ლექსიკონებს?**\n",
    "\n",
    "    როდესაც შენ იღებ ერთ მნიშვნელობას სხვა მნიშვნელობის საპოვნელად. \n",
    "    \n",
    "    \n",
    "3. **რისთვის გამოვიყენებ სიას?**\n",
    "\n",
    "    გამოიყენეთ მსგავსი ელემენტების დალაგებული მიმდევრობისთვის, სადაც მათზე წვდომისთვის რიცხვიც იქნება საკმარისი.\n",
    "    \n",
    "    \n",
    "4. **და რა იქნება, თუ მე მჭირდება ლექსიკონი, მაგრამ დალაგებული?**\n",
    "\n",
    "    შეისწავლეთ **კოლექციები (`collections`)**. `OrderedDict` მონაცემთა სტრუქტურა Python-ში. მასალა იპოვეთ ინტერნეტ-წყაროებში.\n",
    "   \n",
    "   "
   ]
  },
  {
   "cell_type": "markdown",
   "metadata": {},
   "source": [
    "<h2 align=\"center\">საშინაო დავალება</h2>\n",
    "\n",
    "1. გამოიყენეთ იგივე კოდი და მოარგეთ **თბილისის რაიონებს**.\n",
    "\n",
    "\n",
    "2. მოძებნეთ მეტი ინფორმაცია **Python**-ის **ლექსიკონებზე**.\n",
    "\n",
    "\n",
    "3. იპოვეთ, რისი გაკეთება **არ არის შესაძლებელი** ლექსიკონებთან მუშაობისას, ანუ რა ნაკლები გააჩნია ლექსიკონებს?"
   ]
  },
  {
   "cell_type": "markdown",
   "metadata": {
    "id": "DqPstivsYckk"
   },
   "source": [
    "<h1 align=\"center\">სავარჯიშოს დასასრული</h1>"
   ]
  }
 ],
 "metadata": {
  "colab": {
   "collapsed_sections": [],
   "name": "Example for ex_10.ipynb",
   "provenance": [
    {
     "file_id": "1gA41PQJ9EnKxnFPmClTRFD5RcQUVHfzr",
     "timestamp": 1601916899165
    },
    {
     "file_id": "https://github.com/stsiskaridze/ISU/blob/master/R527/ex_02.ipynb",
     "timestamp": 1601912049891
    }
   ]
  },
  "kernelspec": {
   "display_name": "Python 3",
   "language": "python",
   "name": "python3"
  },
  "language_info": {
   "codemirror_mode": {
    "name": "ipython",
    "version": 3
   },
   "file_extension": ".py",
   "mimetype": "text/x-python",
   "name": "python",
   "nbconvert_exporter": "python",
   "pygments_lexer": "ipython3",
   "version": "3.7.3"
  }
 },
 "nbformat": 4,
 "nbformat_minor": 1
}
