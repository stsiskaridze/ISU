{
 "cells": [
  {
   "cell_type": "markdown",
   "metadata": {
    "slideshow": {
     "slide_type": "slide"
    }
   },
   "source": [
    "კურსი: **R527 - დაპროგრამება პითონში**\n",
    "\n",
    "სათაური: **ინდივიდუალური დავალება**\n",
    "\n",
    "\n",
    "ჩაბარების ბოლო ვადა: **15 თებერვალი 2021**"
   ]
  },
  {
   "cell_type": "markdown",
   "metadata": {
    "slideshow": {
     "slide_type": "slide"
    }
   },
   "source": [
    "<h1 align=\"center\">Quests</h1>"
   ]
  },
  {
   "cell_type": "markdown",
   "metadata": {
    "slideshow": {
     "slide_type": "slide"
    }
   },
   "source": [
    "ბმული: <a href = \"https://spacerangers.gitlab.io/#/quests\">კოსმოსური რეინჯერები: ტექსტური კვესტები ონლაინ</a>\n",
    "\n",
    "კვესტები ხელმისაწვდომია **ინგლისურ** და **რუსულ** ენებზე.\n",
    "\n",
    "**ინგლისურ ენაზე გადასასვლელად** აირჩიეთ `Опции` -> `Язык/Language` -> `English` -> `Сохранить`."
   ]
  },
  {
   "cell_type": "markdown",
   "metadata": {},
   "source": [
    "|  № |      სტუდენტი      | ქვესტი|\n",
    "|:--:|:-------------------|--------|\n",
    "| 1  | აბუთიძე გვანცა     |        |\n",
    "| 2  | ბერძენიშვილი ვაჟა  |        |\n",
    "| 3  | ბოჭორიშვილი ელენე  |        |\n",
    "| 4  | გიორგაძე თორნიკე   |        |\n",
    "| 5  | გუგუციძე გიორგი    |        |\n",
    "| 6  | დარჩია ცოტნე       |        |\n",
    "| 7  | თოდუა დავით        |        |\n",
    "| 8  | კორძაია ირაკლი     |        |\n",
    "| 9  | კუპრაძე ნინო       |        |\n",
    "| 10 | კურცხალია მარიამ   |        |\n",
    "| 11 | მაისურაძე ანი      |        |\n",
    "| 12 | მანია საბა         |        |\n",
    "| 13 | მეძველია შალვა     |        |\n",
    "| 14 | ნადირაშვილი ნინო   |        |\n",
    "| 15 | სურმავა ანი        |        |\n",
    "| 16 | უტიაშვილი მერაბი   |        |\n",
    "| 17 | ფიცხელაური ანა     |        |\n",
    "| 18 | ფრუიძე ნინო        |        |\n",
    "| 19 | ქეთიშვილი ელგუჯა   |        |\n",
    "| 20 | ჯავახიშვილი გიორგი |        |"
   ]
  },
  {
   "cell_type": "markdown",
   "metadata": {
    "slideshow": {
     "slide_type": "slide"
    }
   },
   "source": [
    "<h1 align=\"center\">გისურვებთ წარმატებას!</h1>"
   ]
  }
 ],
 "metadata": {
  "kernelspec": {
   "display_name": "Python 3",
   "language": "python",
   "name": "python3"
  },
  "language_info": {
   "codemirror_mode": {
    "name": "ipython",
    "version": 3
   },
   "file_extension": ".py",
   "mimetype": "text/x-python",
   "name": "python",
   "nbconvert_exporter": "python",
   "pygments_lexer": "ipython3",
   "version": "3.8.5"
  }
 },
 "nbformat": 4,
 "nbformat_minor": 2
}
