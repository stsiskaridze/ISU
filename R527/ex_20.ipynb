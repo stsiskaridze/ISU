{
 "cells": [
  {
   "cell_type": "markdown",
   "metadata": {
    "id": "WDDFQrf4Ycht"
   },
   "source": [
    "**R527 - დაპროგრამება პითონში**\n",
    "<br>\n",
    "თარიღი: **23 ოქტომბერი 2020**\n",
    "<br>\n",
    "\n",
    "სათაური: **სავარჯიშო 20**\n",
    "<br>\n",
    "მომხსენებელი: **შოთა ცისკარიძე**\n",
    "\n",
    "\n",
    "ბიბლიოგრაფია:\n",
    "<br> \n",
    " **სავარჯიშო 20.** Zed Shaw, *Learn Python 3 the Hard Way*, Addison Wesley (Verlag), 2017"
   ]
  },
  {
   "cell_type": "markdown",
   "metadata": {
    "id": "fYkwmIWkYchw"
   },
   "source": [
    "<h1 align=\"center\">სავარჯიშო 20: ფუნქციები და ფაილები</h1>"
   ]
  },
  {
   "cell_type": "markdown",
   "metadata": {
    "slideshow": {
     "slide_type": "fragment"
    }
   },
   "source": [
    "<center><img src=\"images/Ex_20_Intro.jpg\" width=\"500\"alt=\"Example\" /></center>"
   ]
  },
  {
   "cell_type": "markdown",
   "metadata": {
    "id": "sRM4k6-aYch3"
   },
   "source": [
    "- გახსოვთ, ჩეკლისტი რომ შევქმენით? \n",
    "\n",
    "\n",
    "- ახლა გააკეთეთ წინამდებარე სავარჯიშო და ყურადღება მიაქციეთ, თუ როგორ ურთიერთქმედებენ ერთად ფუნქციები და ფაილები.\n",
    "\n",
    "\n",
    "- შექმენით **test.txt** და ჩაწერეთ მასში სამი ხაზი: \n",
    " \n",
    "  `პირველი ხაზი.`<br>\n",
    "  `მეორე გაზი.`<br>\n",
    "  `მესამე ხაზი.`\n",
    " \n",
    " \n",
    "- შემდეგ, **command line**-დან გაუშვით `python ex_20.py test.txt`"
   ]
  },
  {
   "cell_type": "code",
   "execution_count": null,
   "metadata": {
    "colab": {
     "base_uri": "https://localhost:8080/",
     "height": 204
    },
    "executionInfo": {
     "elapsed": 721,
     "status": "ok",
     "timestamp": 1601975235429,
     "user": {
      "displayName": "Veronika Tsiskaridze",
      "photoUrl": "",
      "userId": "14609060841114149670"
     },
     "user_tz": -240
    },
    "id": "ES2yhvD-KCEH",
    "outputId": "a43bbdfc-2e09-4b18-8652-41abdd152c07",
    "scrolled": false
   },
   "outputs": [],
   "source": [
    "from sys import argv\n",
    "\n",
    "script, input_file = argv\n",
    "\n",
    "def print_all(f):\n",
    "    print(f.read())\n",
    "    \n",
    "def rewind(f):\n",
    "    f.seek(0)\n",
    "    \n",
    "def print_a_line(line_count, f):\n",
    "    print(line_count, f.readline())\n",
    "    \n",
    "current_file = open(input_file, encoding=\"utf8\")\n",
    "\n",
    "print(\"მოდით ჯერ დავბეჭდოთ ფაილი მთლიანად:\\n\")\n",
    "\n",
    "print_all(current_file)\n",
    "\n",
    "print(\"მოდით ახლა გადავახვიოთ ფაილი უკან, ერთგვარი ლენტური კასეტასავით.\")\n",
    "\n",
    "rewind(current_file)\n",
    "\n",
    "print(\"და სათითაოდ დავბეჭდოთ ფაილის ყოველივე სტრიქონი:\")\n",
    "\n",
    "current_line = 1\n",
    "print_a_line(current_line, current_file)\n",
    "\n",
    "current_line = current_line + 1\n",
    "print_a_line(current_line, current_file)\n",
    "\n",
    "current_line += 1\n",
    "print_a_line(current_line, current_file)"
   ]
  },
  {
   "cell_type": "markdown",
   "metadata": {
    "id": "K6vmKEXBYcis"
   },
   "source": [
    "<h2 align=\"center\">რუბრიკა \"ბოროტი მანტიორი\"</h2>\n",
    "\n",
    "- ჩვენ ხშირად შევცვლით კოდს, რომ დავადგინოთ მისი გაშვების საზღვრები.\n",
    "\n",
    "\n",
    "- ქვევით მოყვანილია **კოდის მაგალითები** რომლებიც **არ კომპილირდება** და **იძლევა შეცდომას**. \n",
    "\n",
    "\n",
    "- **გაარჩიეთ** თითოეული მათგანი და **გაასწორეთ შეცდომები**!"
   ]
  },
  {
   "cell_type": "code",
   "execution_count": 5,
   "metadata": {
    "id": "YTh7X9wNYcj_"
   },
   "outputs": [],
   "source": [
    "# გააფუჭე რამე!"
   ]
  },
  {
   "cell_type": "markdown",
   "metadata": {
    "id": "1e5Jtm36Ycki"
   },
   "source": [
    "<h2 align=\"center\">ხშირად დასმული კითხვები</h2>\n",
    "\n",
    "- ქვევით მოყვანილია კითხვები, რომლებიც გაუჩნდათ რეალურ სტუდენტებს ამ სავარჯიშოს შესრულებისას:\n",
    "\n",
    "\n",
    "1. **რა არის `f` ფუნქცია `print_all`-ში და სხვა ფუნქციებშიც?**\n",
    "\n",
    "   `f` არის ცვლადი, ზუსტად ისეთივე, როგორც სავარჯიშო 18-ში. ერთადერთი განსხვავებაა ის, რომ ამჯერად ცვლადში ფაილი შევინახეთ. \n",
    "   \n",
    "   **Python**-ში ფაილი ძველი კასეტის მსგავსია. \n",
    "   \n",
    "   თავაკის საჭირო ადგილზე მოსათავსებლად ჩვენ ვიყენებთ ფუნქციას `f.seek()`. ფუნქცია `f.seek(0)` თავაკს ამ ფაილის დასაწყისში დააყენებს. \n",
    "   \n",
    "   ფუნქცია `f.readline()` კითხულობს იმ ფაილის ერთ ხაზს და თავაკს შემდეგი ხაზის დასაწყისში აყენებს.\n",
    "   \n",
    "   \n",
    "2. **რატომ არის, რომ ფუნქცია `seek(0)`-ის გამოყენება `current_line`-ს არ ანიჭებს ნოლს?**\n",
    "\n",
    "   პირველი, ფუნქცია `seek()` მუშაობს **ბაიტებში** და არა **ხაზებში**. ფუნქცია `seek(0)` თავაკს ნულოვან ბაიტზე აყენებს. \n",
    "   \n",
    "   მეორე, `current_line` არის მხოლოდ ცვლადი და ფაილთან რეალურად არანაირი კავშირი არ აქვს. \n",
    "   \n",
    "   ჩვენ ამ ცვლადსა და ფაილს ხელოვნურად ვაკავშირებთ.\n",
    "   \n",
    "\n",
    "3. **რას ნიშნავს `+=`?**\n",
    "\n",
    "   ეს არის მოკლე ჩაწერა. `x = x + y` მოკლედ ჩაიწერება როგორც `x += y`. \n",
    "   \n",
    "   \n",
    "4. **როგორ ხვდება ფუნქცია `readline()`, სადაა თითოეული ხაზი?**\n",
    "\n",
    "   `readline()` ასკანირებს კოდის ყველა ბაიტს, სანამ არ წააწყდება `\\n`-ს. \n",
    "   \n",
    "   ამ დროს ის წყვეტს ფაილის კითხვას და გვიბრუნებს აქამდე მიღებულ ინფორმაციას. \n",
    "   \n",
    "   ფაილი `f` პასუხისმგებელია, შეინახოს, სად გაჩერდა კითხვის თავაკი.\n",
    "   \n",
    "   \n",
    "5. **რატო არის გამოტოვებული ხაზები ფაილის ამობეჭდილში (ბოლოში)?**\n",
    "\n",
    "   `readline()` ბოლოში გვიბრუნებს ასევე `\\n`-ს, ამიტო ხდება ხაზის გამოტოვება. \n",
    "   \n",
    "   დაუმატეთ `print`-ის ბოლოს `end =\"\"` , რათა თავიდან აიცილოთ ორი გამოტოვება."
   ]
  },
  {
   "cell_type": "markdown",
   "metadata": {
    "id": "4gGrOISaYckh"
   },
   "source": [
    "<h2 align=\"center\">საშინაო დავალება</h2>\n",
    "\n",
    "\n",
    "1. დაუბრუნდით სკრიპტს და თითოეულ ხაზს მიუწერეთ კომენტარის სახით, თუ რას აკეთებს ის.\n",
    "\n",
    "\n",
    "2. ფუნქცია `print_a_line` გაშვებისას, თქვენ გადასცემთ მას ცვლადს `current_line`. \n",
    "\n",
    "   ამ ფუნქციის ყოველ გამოძახებაზე მიუწერეთ, თუ რას უდრის `current_line`, გააყოლეთ თვალი როგორ გაუტლდება `line_count`-ს. \n",
    "\n",
    "\n",
    "3. გადაამოწმეთ თითოეული ფუნქციის `def`, დარწმუნდით, რომ სწორ არგუმენტებს გადასცემთ.\n",
    "\n",
    "\n",
    "4. მოძებნეთ მეტი ინფორმაცია `seek()` ფუნქციაზე.\n",
    "\n",
    "\n",
    "5. გამოიკვლიეთ მოკლე მათემატიკური ჩაწერები, მაგალითად `+=`, გადმოიწერეთ მოცემული სკრიპტი მათი გამოყენებით.\n",
    "\n",
    "\n",
    "6. გადმოიწერეთ მოცემული სკრიპტი ფუნქციების ქართული სახელების გამოყენებით."
   ]
  },
  {
   "cell_type": "markdown",
   "metadata": {
    "id": "DqPstivsYckk"
   },
   "source": [
    "<h1 align=\"center\">სავარჯიშოს დასასრული</h1>"
   ]
  }
 ],
 "metadata": {
  "colab": {
   "collapsed_sections": [],
   "name": "Example for ex_20.ipynb",
   "provenance": [
    {
     "file_id": "1gA41PQJ9EnKxnFPmClTRFD5RcQUVHfzr",
     "timestamp": 1601916899165
    },
    {
     "file_id": "https://github.com/stsiskaridze/ISU/blob/master/R527/ex_02.ipynb",
     "timestamp": 1601912049891
    }
   ]
  },
  "kernelspec": {
   "display_name": "Python 3",
   "language": "python",
   "name": "python3"
  },
  "language_info": {
   "codemirror_mode": {
    "name": "ipython",
    "version": 3
   },
   "file_extension": ".py",
   "mimetype": "text/x-python",
   "name": "python",
   "nbconvert_exporter": "python",
   "pygments_lexer": "ipython3",
   "version": "3.7.3"
  }
 },
 "nbformat": 4,
 "nbformat_minor": 1
}
