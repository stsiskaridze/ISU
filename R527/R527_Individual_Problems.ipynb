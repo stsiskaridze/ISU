{
 "cells": [
  {
   "cell_type": "markdown",
   "metadata": {
    "slideshow": {
     "slide_type": "slide"
    }
   },
   "source": [
    "**R527 - დაპროგრამება პითონში**\n",
    "<br>\n",
    "თარიღი: **5 თებერვალი 2021**\n",
    "<br>\n",
    "\n",
    "სათაური: **ინდივიდუალური დავალებები**\n",
    "ჩაბარების ბოლო ვადა: **19 თებერვალი 2021**"
   ]
  },
  {
   "cell_type": "markdown",
   "metadata": {
    "slideshow": {
     "slide_type": "slide"
    }
   },
   "source": [
    "<h1 align=\"center\">Quests</h1>"
   ]
  },
  {
   "cell_type": "markdown",
   "metadata": {
    "slideshow": {
     "slide_type": "slide"
    }
   },
   "source": [
    "ბმული: <a href = \"https://spacerangers.gitlab.io/#/quests\">კოსმოსური რეინჯერები: ტექსტური კვესტები ონლაინ</a>\n",
    "\n",
    "კვესტები ხელმისაწვდომია **ინგლისურ** და **რუსულ** ენებზე.\n",
    "\n",
    "**ინგლისურ ენაზე გადასასვლელად** აირჩიეთ `Опции` -> `Язык/Language` -> `English` -> `Сохранить`."
   ]
  },
  {
   "cell_type": "markdown",
   "metadata": {},
   "source": [
    "| №  | გვარი         | სახელი   | ამოცანა |\n",
    "|----|:--------------|:---------|:-------:|\n",
    "| 1  | აბაშიძე       | გიორგი   |         |\n",
    "| 2  | ამოევი        | ნანა     |         |\n",
    "| 3  | ბარბაქაძე     | ნინო     |         |\n",
    "| 4  | ბიტკაში       | აშშურ    |         |\n",
    "| 5  | გახარია       | საბა     |         |\n",
    "| 6  | გობიანიძე     | ვიქტორია |         |\n",
    "| 7  | გუჯეჯიანი     | კახა     |         |\n",
    "| 8  | დათუნაშვილი   | დავითი   |         |\n",
    "| 9  | დანელია       | ოთარი    |         |\n",
    "| 10 | ვასაძე        | მერაბი   |         |\n",
    "| 11 | ვიბლიანი      | სალომე   | Boat    |\n",
    "| 12 | კომახიძე      | ნანა     | Pharaon |\n",
    "| 13 | ნასყიდაშვილი  | არჩილი   | Tomb    |\n",
    "| 14 | ნინიკელაშვილი | ნინო     |         |\n",
    "| 15 | პარფენოვი     | რომან    | Shashki |\n",
    "| 16 | ჭეიშვილი      | ნიკა     |         |\n",
    "| 17 | ხარებაშვილი   | ირაკლი   |         |\n",
    "| 18 | ჯიბლაძე       | საბა     |         |"
   ]
  },
  {
   "cell_type": "markdown",
   "metadata": {
    "slideshow": {
     "slide_type": "slide"
    }
   },
   "source": [
    "<h1 align=\"center\">გისურვებთ წარმატებას!</h1>"
   ]
  }
 ],
 "metadata": {
  "kernelspec": {
   "display_name": "Python 3",
   "language": "python",
   "name": "python3"
  },
  "language_info": {
   "codemirror_mode": {
    "name": "ipython",
    "version": 3
   },
   "file_extension": ".py",
   "mimetype": "text/x-python",
   "name": "python",
   "nbconvert_exporter": "python",
   "pygments_lexer": "ipython3",
   "version": "3.8.5"
  }
 },
 "nbformat": 4,
 "nbformat_minor": 2
}
