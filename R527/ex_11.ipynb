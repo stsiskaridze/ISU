{
 "cells": [
  {
   "cell_type": "markdown",
   "metadata": {
    "id": "WDDFQrf4Ycht"
   },
   "source": [
    "**R527 - დაპროგრამება პითონში**\n",
    "<br>\n",
    "თარიღი: **9 ოქტომბერი 2020**\n",
    "<br>\n",
    "\n",
    "სათაური: **სავარჯიშო 11**\n",
    "<br>\n",
    "მომხსენებელი: **შოთა ცისკარიძე**\n",
    "\n",
    "\n",
    "ბიბლიოგრაფია:\n",
    "<br> \n",
    " **სავარჯიშო 11.** Zed Shaw, *Learn Python 3 the Hard Way*, Addison Wesley (Verlag), 2017"
   ]
  },
  {
   "cell_type": "markdown",
   "metadata": {
    "id": "fYkwmIWkYchw"
   },
   "source": [
    "<h1 align=\"center\">სავარჯიშო 11: იკითხა კაცო იკითხა!</h1>"
   ]
  },
  {
   "cell_type": "markdown",
   "metadata": {
    "id": "sRM4k6-aYch3"
   },
   "source": [
    "ჩვენ უკვე ბევრი ვივარჯიშეთ ამ უბრალო სავარჯიშოებზე.\n",
    "\n",
    "მოდით გადავიდეთ უფრო საინტერესო ეტაპზე. მოდით შევიყვანოთ საჭირო ინფორმაცია თქვენს კოდში გარედან. ამჯერად, შეიძლება ცოტა დაიბნეთ, მაგრამ რამდენიმე სავარჯიშოში თქვენ ალღოს აიღებთ."
   ]
  },
  {
   "cell_type": "markdown",
   "metadata": {
    "id": "IZaYmLmzJQrV"
   },
   "source": [
    "სოფტების უმრავლესობა მუშაობს ამგვარად:\n",
    " - ადამიანისგან იღებს ინპუტს;\n",
    " - ცვლის მას;\n",
    " - რაღაცა ამოაქვს პრინტის საშუალებით, რათა აჩვენოს, როგორ შეიცვალა ინპუტი."
   ]
  },
  {
   "cell_type": "markdown",
   "metadata": {
    "id": "IZaYmLmzJQrV"
   },
   "source": [
    "აქამდე ჩვენს კოდს ინპუტის საშუალება აქ ჰქონდა. შეიძლება, ახლაც არ გესმის ზუსტად ეს რას ნიშნავს, მაგრამ, როგორც ყოველთვის, ზუსტად გადმოიტანეთ ქვემოთ მოცემული კოდი თქვენთან:"
   ]
  },
  {
   "cell_type": "code",
   "execution_count": 2,
   "metadata": {
    "colab": {
     "base_uri": "https://localhost:8080/",
     "height": 204
    },
    "executionInfo": {
     "elapsed": 721,
     "status": "ok",
     "timestamp": 1601975235429,
     "user": {
      "displayName": "Veronika Tsiskaridze",
      "photoUrl": "",
      "userId": "14609060841114149670"
     },
     "user_tz": -240
    },
    "id": "ES2yhvD-KCEH",
    "outputId": "a43bbdfc-2e09-4b18-8652-41abdd152c07",
    "scrolled": true
   },
   "outputs": [
    {
     "name": "stdout",
     "output_type": "stream",
     "text": [
      "რამდენი წლის ხარ? 35\n",
      "რა სიმაღლის ხარ? 35\n",
      "რამდენს კილოგრამს იწონი? 35\n",
      "ანუ, შენ ხარ 35 წლის, შენი სიმაღლეა 35 და შენი იწონი 35 კილოგრამს.\n"
     ]
    }
   ],
   "source": [
    "print(\"რამდენი წლის ხარ?\", end=' ')\n",
    "age = input()\n",
    "print(\"რა სიმაღლის ხარ?\", end=' ')\n",
    "height = input()\n",
    "print(\"რამდენს კილოგრამს იწონი?\", end=' ')\n",
    "weight = input()\n",
    "\n",
    "print(f\"ანუ, შენ ხარ {age} წლის, შენი სიმაღლეა {height} და შენი იწონი {weight} კილოგრამს.\")"
   ]
  },
  {
   "cell_type": "markdown",
   "metadata": {},
   "source": [
    "**შენიშვნა**: `print`-ის ბოლოს `end=' '` ეუბნება, რომ დაამთავროს ხაზი \"ახალი ხაზის\" ელემენტით."
   ]
  },
  {
   "cell_type": "markdown",
   "metadata": {
    "id": "K6vmKEXBYcis"
   },
   "source": [
    "<h2 align=\"center\">რუბრიკა \"ბოროტი მანტიორი\"</h2>\n",
    "\n",
    "- ჩვენ ხშირად შევცვლით კოდს, რომ დავადგინოთ მისი გაშვების საზღვრები.\n",
    "\n",
    "\n",
    "- ქვევით მოყვანილია **კოდის მაგალითები** რომლებიც **არ კომპილირდება** და **იძლევა შეცდომას**. \n",
    "\n",
    "\n",
    "- **გაარჩიეთ** თითოეული მათგანი და **გაასწორეთ შეცდომები**!"
   ]
  },
  {
   "cell_type": "code",
   "execution_count": null,
   "metadata": {
    "id": "b8sU2mdaYcit"
   },
   "outputs": [],
   "source": []
  },
  {
   "cell_type": "code",
   "execution_count": null,
   "metadata": {
    "id": "YTh7X9wNYcj_"
   },
   "outputs": [],
   "source": []
  },
  {
   "cell_type": "markdown",
   "metadata": {
    "id": "4gGrOISaYckh"
   },
   "source": [
    "<h2 align=\"center\">სამუშაო დავალება</h2>\n",
    "\n",
    "\n",
    "1. ინტერნეტში მოძებნეთ მეტი ინფორმაცია ფუნქციაზე `input()`.\n",
    "\n",
    "2. მისი გამოყენების სხვა მეთოდებს თუ იპოვით? გამოსცადეთ ნაპოვნი მაგალითებიც.\n",
    "\n",
    "3. მოიფიქრეთ მსგავსი ფორმა, რომ გამოჰკითხოთ სხვა ადამიანი."
   ]
  },
  {
   "cell_type": "markdown",
   "metadata": {
    "id": "1e5Jtm36Ycki"
   },
   "source": [
    "<h2 align=\"center\">ხშირად დასმული კითხვები</h2>\n",
    "\n",
    "- ქვევით მოყვანილია კითხვები, რომლებიც გაუჩნდათ რეალურ სტუდენტებს ამ სავარჯიშოს შესრულებისას:\n",
    "\n",
    "\n",
    "1. როგორ გამოვიტანო რიცხვი პასუხიდან ისე, რომ მისი გამოყენება შემეძლოს მათემატიკურ გამოთვლებში?\n",
    "\n",
    "   ეს უკვე შემდეგი ნაბიჯია, მაგრამ შეგიძლია შემდეგნაირად დაწერო `x = int(input())`, რომელიც აიღებს რიცხვს ინპუტიდან და ინტეჯერში დააკონვერტირებს ფუნქცია `int()`-ის გამოყენებით.\n",
    "   \n",
    "   \n",
    "2. ჩემი სიმაღლე პირდაპირ შემყავს კოდში `input(175)`, მაგრამ ის არ მუშაობს.\n",
    "\n",
    "   სიმაღლე აქ კი არ უნდა შეიყვანოთ, არამედ პირდაპირ ტერმინალში. პირველ რიგში, ზუსტად გადმოიწერე ჩემი კოდი. შემდეგ, გაუშვი სკრიპტი და, როცა ის დაპაუზდება, შეიყვანე შენი სიმაღლე კლავიატურის მეშვეობით. ესაა და ეს."
   ]
  },
  {
   "cell_type": "markdown",
   "metadata": {
    "id": "DqPstivsYckk"
   },
   "source": [
    "<h1 align=\"center\">სავარჯიშოს დასასრული</h1>"
   ]
  }
 ],
 "metadata": {
  "colab": {
   "collapsed_sections": [],
   "name": "Example for ex_10.ipynb",
   "provenance": [
    {
     "file_id": "1gA41PQJ9EnKxnFPmClTRFD5RcQUVHfzr",
     "timestamp": 1601916899165
    },
    {
     "file_id": "https://github.com/stsiskaridze/ISU/blob/master/R527/ex_02.ipynb",
     "timestamp": 1601912049891
    }
   ]
  },
  "kernelspec": {
   "display_name": "Python 3",
   "language": "python",
   "name": "python3"
  },
  "language_info": {
   "codemirror_mode": {
    "name": "ipython",
    "version": 3
   },
   "file_extension": ".py",
   "mimetype": "text/x-python",
   "name": "python",
   "nbconvert_exporter": "python",
   "pygments_lexer": "ipython3",
   "version": "3.7.3"
  }
 },
 "nbformat": 4,
 "nbformat_minor": 1
}
