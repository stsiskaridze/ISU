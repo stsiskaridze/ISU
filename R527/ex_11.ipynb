{
 "cells": [
  {
   "cell_type": "markdown",
   "metadata": {
    "id": "WDDFQrf4Ycht"
   },
   "source": [
    "**R527 - დაპროგრამება პითონში**\n",
    "<br>\n",
    "თარიღი: **16 ოქტომბერი 2020**\n",
    "<br>\n",
    "\n",
    "სათაური: **სავარჯიშო 11**\n",
    "<br>\n",
    "მომხსენებელი: **შოთა ცისკარიძე**\n",
    "\n",
    "\n",
    "ბიბლიოგრაფია:\n",
    "<br> \n",
    " **სავარჯიშო 11.** Zed Shaw, *Learn Python 3 the Hard Way*, Addison Wesley (Verlag), 2017"
   ]
  },
  {
   "cell_type": "markdown",
   "metadata": {
    "id": "fYkwmIWkYchw"
   },
   "source": [
    "<h1 align=\"center\">სავარჯიშო 11: იკითხა კაცო იკითხა!</h1>"
   ]
  },
  {
   "cell_type": "markdown",
   "metadata": {
    "slideshow": {
     "slide_type": "fragment"
    }
   },
   "source": [
    "<center><img src=\"images/Ex_11_Just_Asked.jpg\" width=\"500\"alt=\"Example\" /></center>"
   ]
  },
  {
   "cell_type": "markdown",
   "metadata": {
    "id": "sRM4k6-aYch3"
   },
   "source": [
    "- ჩვენ უკვე ბევრი ვივარჯიშეთ მარტივი ტექსტების ბეჭდვაზე, რაც უკვე დამღლელია.\n",
    "\n",
    "\n",
    "- მოდით გადავიდეთ უფრო საინტერესო თემაზე. მოდით შევიყვანოთ საჭირო ინფორმაცია თქვენს კოდში გარედან. \n",
    "\n",
    "\n",
    "- ამჯერად, შეიძლება ცოტა დაიბნეთ, მაგრამ რამოდენიმე სავარჯიშოს გაკეთებით თქვენ ალღოს აიღებთ."
   ]
  },
  {
   "cell_type": "markdown",
   "metadata": {
    "id": "IZaYmLmzJQrV"
   },
   "source": [
    "- **პროგრამული უზრუნველყოფის** უმრავლესობა მუშაობს ამგვარად:\n",
    "  - **ღებულობს** გარკვეული სახის ინფორმაცია ადამიანისგან;\n",
    "  - **ცვლის** მას;\n",
    "  - **ბეჭდავს** რამეს, რათა აჩვენოს, როგორ შეიცვალა შემომავალი ინფორმაცია."
   ]
  },
  {
   "cell_type": "markdown",
   "metadata": {
    "id": "IZaYmLmzJQrV"
   },
   "source": [
    "- აქამდე ჩვენს კოდს შემომავალი ინფორმაციის მიღების საშუალება არ ჰქონდა. \n",
    "\n",
    "\n",
    "- შეიძლება, ახლაც არ გესმის ზუსტად ეს რას ნიშნავს, მაგრამ, როგორც ყოველთვის, ზუსტად გადმოიტანეთ ქვემოთ მოცემული კოდი თქვენთან:"
   ]
  },
  {
   "cell_type": "code",
   "execution_count": null,
   "metadata": {
    "colab": {
     "base_uri": "https://localhost:8080/",
     "height": 204
    },
    "executionInfo": {
     "elapsed": 721,
     "status": "ok",
     "timestamp": 1601975235429,
     "user": {
      "displayName": "Veronika Tsiskaridze",
      "photoUrl": "",
      "userId": "14609060841114149670"
     },
     "user_tz": -240
    },
    "id": "ES2yhvD-KCEH",
    "outputId": "a43bbdfc-2e09-4b18-8652-41abdd152c07",
    "scrolled": true
   },
   "outputs": [],
   "source": [
    "print(\"რამდენი წლის ხარ?\", end=' ')\n",
    "age = input()\n",
    "print(\"რა სიმაღლის ხარ?\", end=' ')\n",
    "height = input()\n",
    "print(\"რამდენს კილოგრამს იწონი?\", end=' ')\n",
    "weight = input()\n",
    "\n",
    "print(f\"ანუ, შენ ხარ {age} წლის, შენი სიმაღლეა {height} და შენ იწონი {weight} კილოგრამს.\")"
   ]
  },
  {
   "cell_type": "markdown",
   "metadata": {},
   "source": [
    "- **შენიშვნა**: `print`-ის ბოლოს `end=' '` ეუბნება, რომ დაამთავროს ხაზი \"ახალი ხაზის\" ელემენტით."
   ]
  },
  {
   "cell_type": "markdown",
   "metadata": {
    "id": "K6vmKEXBYcis"
   },
   "source": [
    "<h2 align=\"center\">რუბრიკა \"ბოროტი მანტიორი\"</h2>\n",
    "\n",
    "- ჩვენ ხშირად შევცვლით კოდს, რომ დავადგინოთ მისი **გაშვების საზღვრები**.\n",
    "\n",
    "\n",
    "- ქვევით მოყვანილია **კოდის მაგალითები** რომლებიც **არ კომპილირდება** და **იძლევა შეცდომას**. \n",
    "\n",
    "\n",
    "- **გაარჩიეთ** თითოეული მათგანი და **გაასწორეთ შეცდომები**!"
   ]
  },
  {
   "cell_type": "code",
   "execution_count": null,
   "metadata": {},
   "outputs": [],
   "source": [
    "input()"
   ]
  },
  {
   "cell_type": "code",
   "execution_count": null,
   "metadata": {},
   "outputs": [],
   "source": [
    "age = input()\n",
    "type(age)"
   ]
  },
  {
   "cell_type": "code",
   "execution_count": null,
   "metadata": {
    "id": "b8sU2mdaYcit"
   },
   "outputs": [],
   "source": [
    "age, height, weight = input()\n",
    "print(age, height, weight)"
   ]
  },
  {
   "cell_type": "code",
   "execution_count": null,
   "metadata": {},
   "outputs": [],
   "source": [
    "age =''\n",
    "age.input(20)"
   ]
  },
  {
   "cell_type": "markdown",
   "metadata": {
    "id": "1e5Jtm36Ycki"
   },
   "source": [
    "<h2 align=\"center\">ხშირად დასმული კითხვები</h2>\n",
    "\n",
    "- ქვევით მოყვანილია კითხვები, რომლებიც გაუჩნდათ რეალურ სტუდენტებს ამ სავარჯიშოს შესრულებისას:\n",
    "\n",
    "\n",
    "1. **როგორ გამოვიტანო რიცხვი პასუხიდან ისე, რომ მისი გამოყენება შემეძლოს მათემატიკურ გამოთვლებში?**\n",
    "\n",
    "   ეს უკვე შემდეგი ნაბიჯია, მაგრამ შეგიძლია შემდეგნაირად დაწერო `x = int(input())`, რომელიც აიღებს შემომავალ რიცხვს და, ფუნქცია `int()`-ის გამოყენებით, ინტეჯერი ტიპის ცვლადში გადაიყვანს .\n",
    "   \n",
    "   \n",
    "2. **ჩემი სიმაღლე პირდაპირ შემყავს კოდში `input(175)`, მაგრამ ის არ მუშაობს.**\n",
    "\n",
    "   სიმაღლე აქ კი არ უნდა იყოს შეყვანილი, არამედ პირდაპირ ტერმინალში. \n",
    "   \n",
    "   პირველ რიგში, ზუსტად გადმოიწერეთ კოდი. \n",
    "   \n",
    "   შემდეგ, გაუშვით სკრიპტი ტერმინალში და, როცა ის *დაპაუზდება*, შეიყვანეთ თქვენი სიმაღლე კლავიატურის მეშვეობით."
   ]
  },
  {
   "cell_type": "markdown",
   "metadata": {
    "id": "4gGrOISaYckh"
   },
   "source": [
    "<h2 align=\"center\">სამუშაო დავალება</h2>\n",
    "\n",
    "\n",
    "1. ინტერნეტში მოძებნეთ მეტი ინფორმაცია `input()` **ჩაშენებული ფუნქციის** შესახებ. დაასახელეთ კიდევ რაიმე სხვა ჩაშენებული ფუნქცია.\n",
    "\n",
    "\n",
    "2. მისი გამოყენების სხვა მეთოდებს თუ იპოვით? გამოსცადეთ ნაპოვნი მაგალითებიც.\n",
    "\n",
    "\n",
    "3. მოიფიქრეთ მსგავსი ფორმა, რომ გამოჰკითხოთ სხვა ადამიანი.\n",
    "\n",
    "  **მინიშნება**: მაგალითად შეეკითხეთ ადამიანს რომელ წელს და რიცხვში არის ის დაბადებული."
   ]
  },
  {
   "cell_type": "markdown",
   "metadata": {
    "id": "DqPstivsYckk"
   },
   "source": [
    "<h1 align=\"center\">სავარჯიშოს დასასრული</h1>"
   ]
  }
 ],
 "metadata": {
  "colab": {
   "collapsed_sections": [],
   "name": "Example for ex_10.ipynb",
   "provenance": [
    {
     "file_id": "1gA41PQJ9EnKxnFPmClTRFD5RcQUVHfzr",
     "timestamp": 1601916899165
    },
    {
     "file_id": "https://github.com/stsiskaridze/ISU/blob/master/R527/ex_02.ipynb",
     "timestamp": 1601912049891
    }
   ]
  },
  "kernelspec": {
   "display_name": "Python 3",
   "language": "python",
   "name": "python3"
  },
  "language_info": {
   "codemirror_mode": {
    "name": "ipython",
    "version": 3
   },
   "file_extension": ".py",
   "mimetype": "text/x-python",
   "name": "python",
   "nbconvert_exporter": "python",
   "pygments_lexer": "ipython3",
   "version": "3.7.3"
  }
 },
 "nbformat": 4,
 "nbformat_minor": 1
}
