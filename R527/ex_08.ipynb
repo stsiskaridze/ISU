{
 "cells": [
  {
   "cell_type": "markdown",
   "metadata": {
    "id": "WDDFQrf4Ycht"
   },
   "source": [
    "**R527 - დაპროგრამება პითონში**\n",
    "<br>\n",
    "თარიღი: **9 ოქტომბერი 2020**\n",
    "<br>\n",
    "\n",
    "სათაური: **სავარჯიშო 8**\n",
    "<br>\n",
    "მომხსენებელი: **შოთა ცისკარიძე**\n",
    "\n",
    "\n",
    "ბიბლიოგრაფია:\n",
    "<br> \n",
    " **სავარჯიშო 8.** Zed Shaw, *Learn Python 3 the Hard Way*, Addison Wesley (Verlag), 2017"
   ]
  },
  {
   "cell_type": "markdown",
   "metadata": {
    "id": "fYkwmIWkYchw"
   },
   "source": [
    "<h1 align=\"center\">სავარჯიშო : პრინტი, პრინტი</h1>"
   ]
  },
  {
   "cell_type": "markdown",
   "metadata": {
    "id": "sRM4k6-aYch3"
   },
   "source": [
    "- ამ სავარჯიშოში ჩვენ სტრიქონის ოდნავ უფრო რთულ ფორმატირების გზას გავნიხილავთ.\n",
    "\n",
    "\n",
    "- თუმცა, თუ კომენტარს მიაწერთ  თითო სტრიქონს, ყველაფერი ნათელი გახდება!\n"
   ]
  },
  {
   "cell_type": "code",
   "execution_count": 3,
   "metadata": {
    "colab": {
     "base_uri": "https://localhost:8080/",
     "height": 102
    },
    "executionInfo": {
     "elapsed": 1581,
     "status": "ok",
     "timestamp": 1601971632124,
     "user": {
      "displayName": "Veronika Tsiskaridze",
      "photoUrl": "",
      "userId": "14609060841114149670"
     },
     "user_tz": -240
    },
    "id": "CV4H7To9Ych_",
    "outputId": "bfbbeeeb-6d8c-49ac-dfdb-08d72d0cb2cb"
   },
   "outputs": [
    {
     "name": "stdout",
     "output_type": "stream",
     "text": [
      "1 2 3 4\n",
      "one two three four\n",
      "True False False True\n",
      "{} {} {} {} {} {} {} {} {} {} {} {} {} {} {} {}\n",
      "Try your Own text here Maybe a poem Or a song about fear\n"
     ]
    }
   ],
   "source": [
    "formatter = \"{} {} {} {}\"\n",
    "\n",
    "print(formatter.format(1, 2, 3, 4))\n",
    "print(formatter.format(\"one\", \"two\", \"three\", \"four\"))\n",
    "print(formatter.format(True, False, False, True))\n",
    "print(formatter.format(formatter, formatter, formatter, formatter))\n",
    "print(formatter.format(\n",
    "    \"Try your\",\n",
    "    \"Own text here\",\n",
    "    \"Maybe a poem\",\n",
    "    \"Or a song about fear\"\n",
    "))"
   ]
  },
  {
   "cell_type": "markdown",
   "metadata": {
    "id": "CgO-e9e_84ZV"
   },
   "source": [
    "ამ დავალებაში ჩვენ გამოვიყენეთ ე.წ. **ფუნქცია**, რომ ჩვენი ცვლადი `formatter` გვექცია სხვა სტრინგებად.\n",
    "\n",
    "`formatter.format(...)` შემდეგნაირად აღიქმება:\n",
    "1. ჩვენ ვეუბნებით პითონს აიღოს ხაზ 1-ლში მყოფი ცვლადი `formatter`;\n",
    "\n",
    "2. ვიძახებთ ფუნქციას `format()`;\n",
    "\n",
    "3. ვაძლევთ ამ ფუნქციას 4 მნიშვნელობას, ცვლადისთვის მინიჭებული თითო ფიგურული ბრჭყალისთვის `{}`;\n",
    "\n",
    "4. შედეგად, გვექნება ახალი სტრინგი, რომელიც შედგება 4 სხვადასხვა სტრინგისგან. ესეც იბეჭდება `print()` ფუნქციით.\n"
   ]
  },
  {
   "cell_type": "markdown",
   "metadata": {
    "id": "K6vmKEXBYcis"
   },
   "source": [
    "<h2 align=\"center\">რუბრიკა \"ბოროტი მანტიორი\"</h2>\n",
    "\n",
    "- ჩვენ ხშირად შევცვლით კოდს, რომ დავადგინოთ მისი გაშვების საზღვრები.\n",
    "\n",
    "\n",
    "- ქვევით მოყვანილია **კოდის მაგალითები** რომლებიც **არ კომპილირდება** და **იძლევა შეცდომას**. \n",
    "\n",
    "\n",
    "- **გაარჩიეთ** თითოეული მათგანი და **გაასწორეთ შეცდომები**!"
   ]
  },
  {
   "cell_type": "code",
   "execution_count": null,
   "metadata": {
    "id": "b8sU2mdaYcit"
   },
   "outputs": [],
   "source": []
  },
  {
   "cell_type": "code",
   "execution_count": null,
   "metadata": {
    "id": "YTh7X9wNYcj_"
   },
   "outputs": [],
   "source": []
  },
  {
   "cell_type": "markdown",
   "metadata": {
    "id": "4gGrOISaYckh"
   },
   "source": [
    "<h2 align=\"center\">სამუშაო დავალება</h2>\n",
    "\n",
    "<h4>იგივეა, რაც წინა დავალებისთვის:</h4>\n",
    "\n",
    "\n",
    "1. გაჰყევით ამ კოდს და მიაწერეთ კომენტარი თითოეულ სტრიქონს.\n",
    "\n",
    "2. წაიკითხეთ ხმამაღლა თითო სტრიქონი ბოლოდან და იპოვეთ შეცდომები.\n",
    "\n",
    "3. ამ დავალებიდან და სამომავლოდ, ჩამოწერეთ ქაღალდზე, თუ რა ტიპის შეცდომა დაუშვით.\n",
    "\n",
    "4. შემდეგ დავალებაზე გადასვლისას დახედეთ ამ ფურცელს და შეეცადეთ, თავი აარიდოთ მსგავსი შეცდომების დაშვებას.\n",
    "\n",
    "5. დაიმახსოვრეთ: ყველას მოსდის შეცდომები, პროგრამისტებსაც კი."
   ]
  },
  {
   "cell_type": "markdown",
   "metadata": {
    "id": "1e5Jtm36Ycki"
   },
   "source": [
    "<h2 align=\"center\">ხშირად დასმული კითხვები</h2>\n",
    "\n",
    "- ქვევით მოყვანილია კითხვები, რომლებიც გაუჩნდათ რეალურ სტუდენტებს ამ სავარჯიშოს შესრულებისას:\n",
    "\n",
    "\n",
    "1. რატომ ვიყენებთ ბრჭყალებს სიტყვა `'one'`-თვის და არა `False` და `True`-თან? \n",
    "\n",
    "   `Pyhton` სიტყვებს `False` და `True`-ს აღიქვამს, როგორც მართალის და მცდარის კონცეპტს. თუ მათ ბრჭყალებში მოაქცევთ, კოდი მას სტრინგად აღიქვამს. ამის შესახებ მოგვიანებით ვისწავლით.\n",
    "   \n",
    "   \n",
    "2. თუ შეიძლება, რომ პროგრამა IDLE-ში ავამუშაოთ?\n",
    "\n",
    "   არა, თქვენ **command line**-ის გამოყენება უნდა ისწავლოთ. IDLE-ის გამოყენება მხოლოდ ხელს შეგიშლით.\n",
    "\n"
   ]
  },
  {
   "cell_type": "markdown",
   "metadata": {
    "id": "DqPstivsYckk"
   },
   "source": [
    "<h1 align=\"center\">სავარჯიშოს დასასრული</h1>"
   ]
  }
 ],
 "metadata": {
  "colab": {
   "collapsed_sections": [],
   "name": "Example for ex_08.ipynb",
   "provenance": [
    {
     "file_id": "1gA41PQJ9EnKxnFPmClTRFD5RcQUVHfzr",
     "timestamp": 1601916899165
    },
    {
     "file_id": "https://github.com/stsiskaridze/ISU/blob/master/R527/ex_02.ipynb",
     "timestamp": 1601912049891
    }
   ]
  },
  "kernelspec": {
   "display_name": "Python 3",
   "language": "python",
   "name": "python3"
  },
  "language_info": {
   "codemirror_mode": {
    "name": "ipython",
    "version": 3
   },
   "file_extension": ".py",
   "mimetype": "text/x-python",
   "name": "python",
   "nbconvert_exporter": "python",
   "pygments_lexer": "ipython3",
   "version": "3.7.3"
  }
 },
 "nbformat": 4,
 "nbformat_minor": 1
}
