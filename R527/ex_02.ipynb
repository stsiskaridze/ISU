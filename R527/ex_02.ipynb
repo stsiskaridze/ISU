{
 "cells": [
  {
   "cell_type": "markdown",
   "metadata": {
    "slideshow": {
     "slide_type": "slide"
    }
   },
   "source": [
    "**R527 - დაპროგრამება პითონში**\n",
    "<br>\n",
    "თარიღი: **2 ოქტომბერი 2020**\n",
    "<br>\n",
    "\n",
    "სათაური: **სავარჯიშო 2**\n",
    "<br>\n",
    "მომხსენებელი: **შოთა ცისკარიძე**\n",
    "\n",
    "\n",
    "ბიბლიოგრაფია:\n",
    "<br> \n",
    " **სავარჯიშო 2.** Zed Shaw, *Learn Python 3 the Hard Way*, Addison Wesley (Verlag), 2017"
   ]
  },
  {
   "cell_type": "markdown",
   "metadata": {
    "slideshow": {
     "slide_type": "slide"
    }
   },
   "source": [
    "<h1 align=\"center\">სავარჯიშო 2: კომენტარი</h1>"
   ]
  },
  {
   "cell_type": "markdown",
   "metadata": {},
   "source": [
    "\n",
    "# - რა კომენტარი?\n",
    "\n",
    "<br>\n",
    "\n",
    "<center><img src=\"images/Ex02_Comments.png\" width=\"600\" alt=\"Example\" /></center>"
   ]
  },
  {
   "cell_type": "markdown",
   "metadata": {},
   "source": [
    "- პროგრამებში **კომენტარების გამოყენება** ძალიან **მნიშვნელოვანია**.\n",
    "\n",
    "\n",
    "- კომენტარები **გამოიყენება** პროგრამის ნაწილების **გამოსართავად**, თუ გჭირდებათ მათი დროებით ამოღება.\n",
    "\n",
    "\n",
    "- კომენტარი ასევე **გამოიყენება** იმის **აღსაწერად** თუ რას აკეთებს **კოდი ცალკეული ფრაგმენტი**.\n",
    "\n",
    "\n",
    "- კომენტარი შეიძლება იყოს **ერთხაზიანი**, `#`, და **მრავალხაზიანი**, `\"\"\" \"\"\"`.\n",
    "\n",
    "\n",
    "- ქვემოთ მოყვანილია **მაგალითები** თუ როგორ უნდა კომენტარებს გამოყენება `Python`-ში:"
   ]
  },
  {
   "cell_type": "code",
   "execution_count": 1,
   "metadata": {},
   "outputs": [
    {
     "name": "stdout",
     "output_type": "stream",
     "text": [
      "Hello Students!\n"
     ]
    }
   ],
   "source": [
    "# ეს ხაზი დაბეჭდავს: Hello Students!\n",
    "print(\"Hello Students!\")"
   ]
  },
  {
   "cell_type": "code",
   "execution_count": 2,
   "metadata": {},
   "outputs": [
    {
     "name": "stdout",
     "output_type": "stream",
     "text": [
      "My name is Konstantin.\n"
     ]
    }
   ],
   "source": [
    "\"\"\"\n",
    "ესე იწერება ვრცელი კომენტარი.\n",
    "ის გამოიყენება კოდის ფრაგმენტის დეტალური აღწერისთვის. \n",
    "ქვედა ხაზი დაბეჭდავს: My name is Konstantin.\n",
    "\"\"\"\n",
    "print(\"My name is Konstantin.\")"
   ]
  },
  {
   "cell_type": "code",
   "execution_count": 3,
   "metadata": {},
   "outputs": [
    {
     "name": "stdout",
     "output_type": "stream",
     "text": [
      "Hello Students!\n",
      "I like Python.\n",
      "Let's try to learn it together!\n"
     ]
    }
   ],
   "source": [
    "print(\"Hello Students!\") # კომენტარები გამოიყენება პროგრამის ნაწილების გამოსართავად\n",
    "#print(\"My name is Konstantin.\")\n",
    "print(\"I like Python.\")\n",
    "\"\"\"\n",
    "print(\"Python is easy!\")\n",
    "#print('Hooray!')\n",
    "\"\"\"\n",
    "print(\"Let's try to learn it together!\")\n"
   ]
  },
  {
   "cell_type": "markdown",
   "metadata": {},
   "source": [
    "<h2 align=\"center\">რუბრიკა \"ბოროტი მანტიორი\"</h2>\n",
    "\n",
    "- ჩვენ ხშირად შევცვლით კოდს, რომ დავადგინოთ მისი გაშვების საზღვრები.\n",
    "\n",
    "\n",
    "- ქვევით მოყვანილია **კოდის მაგალითები** რომლებიც **არ კომპილირდება** და **იძლევა შეცდომას**. \n",
    "\n",
    "\n",
    "- **გაარჩიეთ** თითოეული მათგანი და **გაასწორეთ შეცდომები**!"
   ]
  },
  {
   "cell_type": "code",
   "execution_count": 4,
   "metadata": {},
   "outputs": [
    {
     "ename": "SyntaxError",
     "evalue": "EOF while scanning triple-quoted string literal (<ipython-input-4-23a7edf0d5d3>, line 4)",
     "output_type": "error",
     "traceback": [
      "\u001b[1;36m  File \u001b[1;32m\"<ipython-input-4-23a7edf0d5d3>\"\u001b[1;36m, line \u001b[1;32m4\u001b[0m\n\u001b[1;33m    print(\"I like Python.\")\u001b[0m\n\u001b[1;37m                           \n^\u001b[0m\n\u001b[1;31mSyntaxError\u001b[0m\u001b[1;31m:\u001b[0m EOF while scanning triple-quoted string literal\n"
     ]
    }
   ],
   "source": [
    "\"\"\"\n",
    "print(\"Hello Students!\")\n",
    "print(\"My name is Konstantin.\")\n",
    "print(\"I like Python.\")"
   ]
  },
  {
   "cell_type": "code",
   "execution_count": 5,
   "metadata": {},
   "outputs": [
    {
     "name": "stdout",
     "output_type": "stream",
     "text": [
      "# Hello Students!\n"
     ]
    }
   ],
   "source": [
    "print(\"# Hello Students!\")"
   ]
  },
  {
   "cell_type": "code",
   "execution_count": 6,
   "metadata": {},
   "outputs": [
    {
     "ename": "SyntaxError",
     "evalue": "unexpected EOF while parsing (<ipython-input-6-8d0ac4d6c51c>, line 1)",
     "output_type": "error",
     "traceback": [
      "\u001b[1;36m  File \u001b[1;32m\"<ipython-input-6-8d0ac4d6c51c>\"\u001b[1;36m, line \u001b[1;32m1\u001b[0m\n\u001b[1;33m    print(#\" Hello Students!\")\u001b[0m\n\u001b[1;37m                              ^\u001b[0m\n\u001b[1;31mSyntaxError\u001b[0m\u001b[1;31m:\u001b[0m unexpected EOF while parsing\n"
     ]
    }
   ],
   "source": [
    "print(#\" Hello Students!\")"
   ]
  },
  {
   "cell_type": "code",
   "execution_count": 7,
   "metadata": {},
   "outputs": [
    {
     "name": "stdout",
     "output_type": "stream",
     "text": [
      " # Hello Students! \n"
     ]
    }
   ],
   "source": [
    "print(\"\"\" # Hello Students! \"\"\")"
   ]
  },
  {
   "cell_type": "markdown",
   "metadata": {},
   "source": [
    "<h2 align=\"center\">სამუშაო დავალება</h2>\n",
    "\n",
    "1. დაწერეთო კოდი და **კომენტარის** საშუალებით არწერეთ თუ რას აკეთებს კოდის ესა თუ ის ფრაგმენტი.\n",
    "\n",
    "\n",
    "2. რა განსხვავებაა `print(\"# Hello Students!\")` და `print(#\" Hello Students!\")` შორის? აკრიფეთ და გაუშვით კოდი.\n",
    "\n",
    "\n",
    "3. შეეცადეთ **მოიყვანოთ მაგალითო**, როდესაც **კომენატრის** სიმბოლო არასწორედ არის გამოყენებული და კოდი **იძლევა შეცდომას**. "
   ]
  },
  {
   "cell_type": "markdown",
   "metadata": {},
   "source": [
    "<h2 align=\"center\">ხშირად დასმული კითხვები</h2>\n",
    "\n",
    "- ქვევით მოყვანილია კითხვები, რომლებიც გაუჩნდათ რეალურ სტუდენტებს ამ სავარჯიშოს შესრულებისას:\n",
    "\n",
    "\n",
    "1. ზევით მოყვანილ კოდში `print(\"#Hello Students\")` რატომ არ ხდება ტექსტის გათიშვა? \n",
    "\n",
    "   `#` სიმბოლო არის სტრიქონის შიგნით და აღიქვება როგორც სტრიქონის ნაქილი და არა პითონის კოდის ნაწილი.\n",
    "   \n",
    "   \n",
    "2. ზევით მოყვანილ კოდში `print(\"\"\"#Hello Students\"\"\")` რატომ არ ხდება ტექსტის გათიშვა? \n",
    "\n",
    "   პითონის აღიქვამს `print`-ის შიგნით მყოფ ტექსტს `\"\"\"#Hello Students\"\"\"` როგორც `\"\" \"#Hello Students\" \"\"`.\n",
    "   \n",
    "   \n",
    "3. შეიძლება თუ არა დავაკომენტირო რამოდენიმე ხაზი მხოლოდ `#` დიეზის გამოყენებით?\n",
    "\n",
    "   რათქმაუნდა. ხშირ შემთხვევაში მასე აკეთებენ."
   ]
  },
  {
   "cell_type": "markdown",
   "metadata": {},
   "source": [
    "<h1 align=\"center\">სავარჯიშოს დასასრული</h1>"
   ]
  }
 ],
 "metadata": {
  "kernelspec": {
   "display_name": "Python 3",
   "language": "python",
   "name": "python3"
  },
  "language_info": {
   "codemirror_mode": {
    "name": "ipython",
    "version": 3
   },
   "file_extension": ".py",
   "mimetype": "text/x-python",
   "name": "python",
   "nbconvert_exporter": "python",
   "pygments_lexer": "ipython3",
   "version": "3.7.3"
  }
 },
 "nbformat": 4,
 "nbformat_minor": 2
}
