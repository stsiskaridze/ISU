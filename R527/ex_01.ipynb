{
 "cells": [
  {
   "cell_type": "markdown",
   "metadata": {
    "slideshow": {
     "slide_type": "slide"
    }
   },
   "source": [
    "**R527 - დაპროგრამება პითონში**\n",
    "<br>\n",
    "თარიღი: **2 ოქტომბერი 2020**\n",
    "<br>\n",
    "\n",
    "სათაური: **სავარჯიშო 1**\n",
    "<br>\n",
    "მომხსენებელი: **შოთა ცისკარიძე**\n",
    "\n",
    "\n",
    "ბიბლიოგრაფია:\n",
    "<br> \n",
    " **სავარჯიშო 1.** Zed Shaw, *Learn Python 3 the Hard Way*, Addison Wesley (Verlag), 2017"
   ]
  },
  {
   "cell_type": "markdown",
   "metadata": {
    "slideshow": {
     "slide_type": "slide"
    }
   },
   "source": [
    "<h1 align=\"center\">სავარჯიშო 1: ჩემი პირველი პროგრამა</h1>"
   ]
  },
  {
   "cell_type": "markdown",
   "metadata": {},
   "source": [
    "<center><img src=\"images/Ex01_My_First_Code.png\" width=\"600\" alt=\"Example\" /></center>"
   ]
  },
  {
   "cell_type": "markdown",
   "metadata": {},
   "source": [
    "- შექმენით ახალი ფაილი `Visual Studio Code`-ის საშუალებით, დაარქვით სახელი `ex_01.py` და  ჩაწერეთ თქვენს ლოკალურ გარემოში.\n",
    "\n",
    "\n",
    "- აკრიფეთ ქვევით მოყვანილი ტექსტი კოდის სახით.\n",
    "\n",
    "\n",
    "- გაუშვით კოდი `Run and Debug`-ის ღილაკის დაჭერით, ან პირდაპირ `Ctrl+F5`.\n",
    "\n",
    "\n",
    "- ჩამოშლილ ველში `Select a debug configuration` აირჩიეთ `Python File`.\n",
    "\n",
    "\n",
    "- **ყურადღება**: ტექსტი უნდა იყოს აკრეფილი **კოპირების** გამოყენების **გარეშე**!"
   ]
  },
  {
   "cell_type": "code",
   "execution_count": 1,
   "metadata": {
    "scrolled": true
   },
   "outputs": [],
   "source": [
    "print(\"Hello Students!\")\n",
    "print(\"My name is Konstantin.\")\n",
    "print(\"I like Python.\")\n",
    "print(\"Python is easy!\")\n",
    "print('Hooray!')\n",
    "print(\"Let's try to learn it together!\")"
   ]
  },
  {
   "cell_type": "markdown",
   "metadata": {},
   "source": [
    "- თქვენი `Visual Studio Code` ტექსტური რედაქტორი ყველა პლატფორმაზე დაახლოებით ასე უნდა გამოიყურებოდეს:\n",
    "\n",
    "<center><img src=\"images/Ex01_VSC_output_1.png\" alt=\"Example\" /></center>\n",
    "\n",
    "\n",
    "- **ყურადღება**: დირექტორიის სახელი შეიძლება განსხვავდებოდეს!"
   ]
  },
  {
   "cell_type": "markdown",
   "metadata": {},
   "source": [
    "<h2 align=\"center\">რუბრიკა \"ბოროტი მანტიორი\"</h2>\n",
    "\n",
    "- ჩვენ ხშირად შევცვლით კოდს, რომ დავადგინოთ მისი გაშვების საზღვრები.\n",
    "\n",
    "\n",
    "- ქვევით მოყვანილია **კოდის მაგალითები** რომლებიც **არ კომპილირდება** და **იძლევა შეცდომას**. \n",
    "\n",
    "\n",
    "- **გაარჩიეთ** თითოეული მათგანი და **გაასწორეთ შეცდომები**!"
   ]
  },
  {
   "cell_type": "code",
   "execution_count": 2,
   "metadata": {},
   "outputs": [
    {
     "ename": "SyntaxError",
     "evalue": "EOL while scanning string literal (<ipython-input-2-df308b54f611>, line 1)",
     "output_type": "error",
     "traceback": [
      "\u001b[1;36m  File \u001b[1;32m\"<ipython-input-2-df308b54f611>\"\u001b[1;36m, line \u001b[1;32m1\u001b[0m\n\u001b[1;33m    print(\"Hello Students!)\u001b[0m\n\u001b[1;37m                           ^\u001b[0m\n\u001b[1;31mSyntaxError\u001b[0m\u001b[1;31m:\u001b[0m EOL while scanning string literal\n"
     ]
    }
   ],
   "source": [
    "print(\"Hello Students!)"
   ]
  },
  {
   "cell_type": "code",
   "execution_count": 3,
   "metadata": {},
   "outputs": [
    {
     "ename": "SyntaxError",
     "evalue": "EOL while scanning string literal (<ipython-input-3-b10e7f1b8523>, line 1)",
     "output_type": "error",
     "traceback": [
      "\u001b[1;36m  File \u001b[1;32m\"<ipython-input-3-b10e7f1b8523>\"\u001b[1;36m, line \u001b[1;32m1\u001b[0m\n\u001b[1;33m    print(\"Hello\u001b[0m\n\u001b[1;37m                 ^\u001b[0m\n\u001b[1;31mSyntaxError\u001b[0m\u001b[1;31m:\u001b[0m EOL while scanning string literal\n"
     ]
    }
   ],
   "source": [
    "print(\"Hello \n",
    "      Students!\")"
   ]
  },
  {
   "cell_type": "code",
   "execution_count": 4,
   "metadata": {
    "scrolled": true
   },
   "outputs": [
    {
     "name": "stdout",
     "output_type": "stream",
     "text": [
      "My name is Konstantin.\n"
     ]
    }
   ],
   "source": [
    "    print(\"My name is Konstantin.\")"
   ]
  },
  {
   "cell_type": "code",
   "execution_count": 5,
   "metadata": {
    "scrolled": true
   },
   "outputs": [
    {
     "ename": "IndentationError",
     "evalue": "unexpected indent (<ipython-input-5-ac874a3e6380>, line 2)",
     "output_type": "error",
     "traceback": [
      "\u001b[1;36m  File \u001b[1;32m\"<ipython-input-5-ac874a3e6380>\"\u001b[1;36m, line \u001b[1;32m2\u001b[0m\n\u001b[1;33m    print(\"My name is Konstantin.\")\u001b[0m\n\u001b[1;37m    ^\u001b[0m\n\u001b[1;31mIndentationError\u001b[0m\u001b[1;31m:\u001b[0m unexpected indent\n"
     ]
    }
   ],
   "source": [
    "print(\"Hello Students!\")\n",
    "    print(\"My name is Konstantin.\")"
   ]
  },
  {
   "cell_type": "code",
   "execution_count": 6,
   "metadata": {
    "scrolled": false
   },
   "outputs": [
    {
     "ename": "SyntaxError",
     "evalue": "invalid syntax (<ipython-input-6-b7b131063f12>, line 1)",
     "output_type": "error",
     "traceback": [
      "\u001b[1;36m  File \u001b[1;32m\"<ipython-input-6-b7b131063f12>\"\u001b[1;36m, line \u001b[1;32m1\u001b[0m\n\u001b[1;33m    print(\"\"Hello Students!\"\")\u001b[0m\n\u001b[1;37m                ^\u001b[0m\n\u001b[1;31mSyntaxError\u001b[0m\u001b[1;31m:\u001b[0m invalid syntax\n"
     ]
    }
   ],
   "source": [
    "print(\"\"Hello Students!\"\")"
   ]
  },
  {
   "cell_type": "code",
   "execution_count": 7,
   "metadata": {},
   "outputs": [
    {
     "name": "stdout",
     "output_type": "stream",
     "text": [
      "Hello Students!\n"
     ]
    }
   ],
   "source": [
    "print(\"\"\"Hello Students!\"\"\")"
   ]
  },
  {
   "cell_type": "markdown",
   "metadata": {},
   "source": [
    "<h2 align=\"center\">სამუშაო დავალება</h2>\n",
    "\n",
    "1. დაბეჭდეთ **კიდევ ერთი სტრიქონი**.\n",
    "\n",
    "\n",
    "2. დაბეჭდეთ სტრიქონი რომელიც **შეიცავს ბრჭყალებს**, მაგალითად: **\"Hello Students!\"**\n",
    "\n",
    "\n",
    "3. რა განსხვავებაა `print(\"'Hello Students!'\")` და `print('\"Hello Students!\"')` შორის? აკრიფეთ და გაუშვით კოდი.\n",
    "\n",
    "\n",
    "4. წაშლის გარეშე შეცვალეთ კოდი ტექსტი ისე, რომ თქვენმა კოდმა **მხოლოდ ერთი სტრიქონი დაბეჭდოს**.\n",
    "\n",
    "\n",
    "5. დაამატეთ **დიეზის სიმბოლო # (octothorpe)** სტრიქონის დასაწყისში. რა შედეგს ღებულობთ?"
   ]
  },
  {
   "cell_type": "markdown",
   "metadata": {},
   "source": [
    "<h2 align=\"center\">ხშირად დასმული კითხვები</h2>\n",
    "\n",
    "- ქვევით მოყვანილია კითხვები, რომლებიც გაუჩნდათ რეალურ სტუდენტებს ამ სავარჯიშოს შესრულებისას:\n",
    "\n",
    "\n",
    "1. როდის გამოვიყენოთ `'  '` და როდის `\"  \"`?\n",
    "\n",
    "   თუ **სტრიქონი** შედგება **ერთი სიტყვისაგან**, მაშინ, შეთანხმების თანახმად, გამოიყენება `'  '`.\n",
    "  \n",
    "   თუ **სტრიქონი** შედგება **წინადადებისგან**, მაშინ, შეთანხმების თანახმად, გამოიყენება `\"  \"`.\n",
    "\n",
    "\n",
    "2. როგორ მივიღოთ **ფერადი ტექსტი** ჩვენს რედაქტორში?\n",
    "\n",
    "   ჩაწერეთ თქვენი ფაილი `*.py` ფორმატში და თქვენ მიიღებთ **ფერად** კოდს.\n",
    "   \n",
    "\n",
    "3. შემიძლია თუ არა **გამოვიყენოთ** `IDLE`?\n",
    "\n",
    "   **არ გირჩევთ**. ყველაზე კარგი იქნება თუ თქვენ გაუშვებთ თქვენს კოდს `Terminal`-ს **MacOS**-ზე და `PowerShell`-ს **Windows**-ზე შესაბამისი სკრიპტის გამოყენებით: `python ex_01.py`\n",
    "   \n",
    "\n",
    "4. ჩემი ფაილი **არ მუშაობს**, ის არაფერს არ აბრუნებს უკან. \n",
    "\n",
    "   თქვენ ფაილი სუზტად უნდა ემთხვეოდეს მოყვანილ ტექსტს, **სიტყვასიტყვით**!\n",
    "   \n",
    "   თუ თქვენ მხოლოდ `\"Hello Students!\"` აკრეფთ, ის არ იმუშავებს!"
   ]
  },
  {
   "cell_type": "markdown",
   "metadata": {},
   "source": [
    "<h1 align=\"center\">სავარჯიშოს დასასრული</h1>"
   ]
  }
 ],
 "metadata": {
  "kernelspec": {
   "display_name": "Python 3",
   "language": "python",
   "name": "python3"
  },
  "language_info": {
   "codemirror_mode": {
    "name": "ipython",
    "version": 3
   },
   "file_extension": ".py",
   "mimetype": "text/x-python",
   "name": "python",
   "nbconvert_exporter": "python",
   "pygments_lexer": "ipython3",
   "version": "3.7.3"
  }
 },
 "nbformat": 4,
 "nbformat_minor": 2
}
