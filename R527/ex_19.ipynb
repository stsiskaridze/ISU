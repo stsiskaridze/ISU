{
 "cells": [
  {
   "cell_type": "markdown",
   "metadata": {
    "id": "WDDFQrf4Ycht"
   },
   "source": [
    "**R527 - დაპროგრამება პითონში**\n",
    "<br>\n",
    "თარიღი: **23 ოქტომბერი 2020**\n",
    "<br>\n",
    "\n",
    "სათაური: **სავარჯიშო 19**\n",
    "<br>\n",
    "მომხსენებელი: **შოთა ცისკარიძე**\n",
    "\n",
    "\n",
    "ბიბლიოგრაფია:\n",
    "<br> \n",
    " **სავარჯიშო 19.** Zed Shaw, *Learn Python 3 the Hard Way*, Addison Wesley (Verlag), 2017"
   ]
  },
  {
   "cell_type": "markdown",
   "metadata": {
    "id": "fYkwmIWkYchw"
   },
   "source": [
    "<h1 align=\"center\">სავარჯიშო 19: ფუნქციები და ცვლადები</h1>"
   ]
  },
  {
   "cell_type": "markdown",
   "metadata": {
    "slideshow": {
     "slide_type": "fragment"
    }
   },
   "source": [
    "<center><img src=\"images/Ex_19_Intro.jpg\" width=\"500\"alt=\"Example\" /></center>"
   ]
  },
  {
   "cell_type": "markdown",
   "metadata": {
    "id": "sRM4k6-aYch3"
   },
   "source": [
    "- რა თქმა უნდა, ფუნქციები - უკვე დიდი ნაბიჯია **Python**-ის ათვისებაში. \n",
    "\n",
    "\n",
    "- თუმცა, ალბათ, ერთი წვრილმანის შეხსენება გამოგვრჩა: **ფუნქციაში გამოყენებული ცვლადები ძირითად კოდთან დაკავშირებული არაა**. "
   ]
  },
  {
   "cell_type": "code",
   "execution_count": null,
   "metadata": {
    "colab": {
     "base_uri": "https://localhost:8080/",
     "height": 204
    },
    "executionInfo": {
     "elapsed": 721,
     "status": "ok",
     "timestamp": 1601975235429,
     "user": {
      "displayName": "Veronika Tsiskaridze",
      "photoUrl": "",
      "userId": "14609060841114149670"
     },
     "user_tz": -240
    },
    "id": "ES2yhvD-KCEH",
    "outputId": "a43bbdfc-2e09-4b18-8652-41abdd152c07",
    "scrolled": false
   },
   "outputs": [],
   "source": [
    "def cheese_and_crackers(cheese_count, boxes_of_crackers):\n",
    "    print(f\"You have {cheese_count} cheeses!\")\n",
    "    print(f\"You have {boxes_of_crackers} boxes of crackers!\")\n",
    "    print(\"Man that's enough for a party!\")\n",
    "    print(\"Get a blanket.\\n\")\n",
    "    \n",
    "    \n",
    "print(\"We can just give the function numbers directly:\")\n",
    "cheese_and_crackers(20,30)\n",
    "\n",
    "\n",
    "print(\"OR, we can use variables from our script:\")\n",
    "amount_of_cheese = 10\n",
    "amount_of_crackers = 50\n",
    "\n",
    "cheese_and_crackers(amount_of_cheese, amount_of_crackers)\n",
    "\n",
    "\n",
    "print(\"We can even do math inside too:\")\n",
    "cheese_and_crackers(10 + 20, 5 + 6)\n",
    "\n",
    "\n",
    "print(\"And we can combine the two, variables and math:\")\n",
    "cheese_and_crackers(amount_of_cheese + 100, amount_of_crackers + 1000)"
   ]
  },
  {
   "cell_type": "markdown",
   "metadata": {},
   "source": [
    "ზემოთ ნაჩვენებია ის მრავალფეროვნება, თუ როგორ შეგვიძლია მივაწოდოთ ჩვენს ფუნქციას `cheese_and_crackers` საჭრო არგუმენტები:\n",
    "\n",
    "- შეგვიძლია მივცეთ ზუსტად რიცხვები; \n",
    "- შეგვიძლია მივცეთ ცვლადები; \n",
    "- შეგვიძლია მივცეთ მათემატიკური გამოსახულება; \n",
    "- ჩვენ შეგვიძლია კიდეც ცვლადებისა და მათემატიკური გამოსახულების კომბინაცია მივაწოდოთ.\n",
    "\n",
    "იფიქრეთ, რომ ფუნქციებისთვის არგუმენტები იგივეა, რაც `=` ეს ნიშანი, როცა ცვლადს ვანიჭებთ მნიშვნელობას. \n"
   ]
  },
  {
   "cell_type": "markdown",
   "metadata": {
    "id": "K6vmKEXBYcis"
   },
   "source": [
    "<h2 align=\"center\">რუბრიკა \"ბოროტი მანტიორი\"</h2>\n",
    "\n",
    "- ჩვენ ხშირად შევცვლით კოდს, რომ დავადგინოთ მისი გაშვების საზღვრები.\n",
    "\n",
    "\n",
    "- ქვევით მოყვანილია **კოდის მაგალითები** რომლებიც **არ კომპილირდება** და **იძლევა შეცდომას**. \n",
    "\n",
    "\n",
    "- **გაარჩიეთ** თითოეული მათგანი და **გაასწორეთ შეცდომები**!"
   ]
  },
  {
   "cell_type": "code",
   "execution_count": null,
   "metadata": {},
   "outputs": [],
   "source": [
    "def function(a):\n",
    "    print(a + a)\n",
    "    \n",
    "function()"
   ]
  },
  {
   "cell_type": "code",
   "execution_count": null,
   "metadata": {},
   "outputs": [],
   "source": [
    "def function(a = 1):\n",
    "    print(a + a)\n",
    "    \n",
    "function()"
   ]
  },
  {
   "cell_type": "code",
   "execution_count": null,
   "metadata": {},
   "outputs": [],
   "source": [
    "def function(a, b = 1):\n",
    "    print(a + b)\n",
    "    \n",
    "function(1)"
   ]
  },
  {
   "cell_type": "code",
   "execution_count": null,
   "metadata": {},
   "outputs": [],
   "source": [
    "def function(a):\n",
    "    print(a + a)\n",
    "    \n",
    "function(1.0)"
   ]
  },
  {
   "cell_type": "code",
   "execution_count": null,
   "metadata": {
    "scrolled": true
   },
   "outputs": [],
   "source": [
    "def function(a):\n",
    "    print(a + a)\n",
    "    \n",
    "function(\"ტუკი \")"
   ]
  },
  {
   "cell_type": "code",
   "execution_count": null,
   "metadata": {},
   "outputs": [],
   "source": [
    "def function(a):\n",
    "    print(a + a)\n",
    "    \n",
    "function(\"2\")"
   ]
  },
  {
   "cell_type": "code",
   "execution_count": null,
   "metadata": {},
   "outputs": [],
   "source": [
    "def function(a):\n",
    "    print(int(a) + int(a))\n",
    "    \n",
    "function(\"2\")"
   ]
  },
  {
   "cell_type": "code",
   "execution_count": null,
   "metadata": {},
   "outputs": [],
   "source": [
    "def function( int(a) ):\n",
    "    print(a + a)\n",
    "    \n",
    "function(\"2\")"
   ]
  },
  {
   "cell_type": "code",
   "execution_count": null,
   "metadata": {},
   "outputs": [],
   "source": [
    "def function(a):\n",
    "    print(a + a)\n",
    "    \n",
    "function(\"2\")"
   ]
  },
  {
   "cell_type": "code",
   "execution_count": null,
   "metadata": {},
   "outputs": [],
   "source": [
    "def function(a, a):\n",
    "    print(a + a)\n",
    "    \n",
    "function(1)"
   ]
  },
  {
   "cell_type": "code",
   "execution_count": null,
   "metadata": {
    "scrolled": false
   },
   "outputs": [],
   "source": [
    "def function(a, b):\n",
    "    print(a + a)\n",
    "    print(b + b)\n",
    "    \n",
    "function(1, \"ტუკი \")"
   ]
  },
  {
   "cell_type": "code",
   "execution_count": null,
   "metadata": {},
   "outputs": [],
   "source": [
    "def function(a, b):\n",
    "    print(a + a)\n",
    "    print(a + b)    \n",
    "    print(b + b)\n",
    "    \n",
    "function(1, \"ტუკი \")"
   ]
  },
  {
   "cell_type": "code",
   "execution_count": null,
   "metadata": {},
   "outputs": [],
   "source": [
    "def function(a, b):\n",
    "    print(a + a)\n",
    "    \n",
    "function(1, )"
   ]
  },
  {
   "cell_type": "code",
   "execution_count": null,
   "metadata": {},
   "outputs": [],
   "source": [
    "def function (a, b):\n",
    "    print(a + a)\n",
    "    \n",
    "function(1)"
   ]
  },
  {
   "cell_type": "code",
   "execution_count": null,
   "metadata": {
    "scrolled": true
   },
   "outputs": [],
   "source": [
    "def function(a, b):\n",
    "    print(a + a)\n",
    "    \n",
    "function(1, 2, 3)"
   ]
  },
  {
   "cell_type": "code",
   "execution_count": null,
   "metadata": {
    "scrolled": true
   },
   "outputs": [],
   "source": [
    "def function(a):\n",
    "    print(a)\n",
    "    function(a + 1)\n",
    "    \n",
    "function(1)"
   ]
  },
  {
   "cell_type": "code",
   "execution_count": null,
   "metadata": {},
   "outputs": [],
   "source": [
    "def function(a):\n",
    "    function(a + 1)\n",
    "    print(a)\n",
    "    \n",
    "function(1)"
   ]
  },
  {
   "cell_type": "markdown",
   "metadata": {
    "id": "1e5Jtm36Ycki"
   },
   "source": [
    "<h2 align=\"center\">ხშირად დასმული კითხვები</h2>\n",
    "\n",
    "- ქვევით მოყვანილია კითხვები, რომლებიც გაუჩნდათ რეალურ სტუდენტებს ამ სავარჯიშოს შესრულებისას:\n",
    "\n",
    "\n",
    "1. **რანაირად შეიძლება, რომ ფუნქციის გაშვების მრავალი ხერხი არსებობდეს?**\n",
    "\n",
    "   გინდათ არ დაიჯეროთ, მაგრამ ფუნქციის გამოძახების უამრავი გზა არსებობს. \n",
    "   \n",
    "   ცვლადებთან, ფუნქციებთან, მომხმარებლისგან მოწოდებული მონაცემებთან თამაშით შეამოწმეთ თქვენი შემოქმედითობა.\n",
    "   \n",
    "   \n",
    "2. **როგორ შეიძლება უკეთესად გავერკვეთ ფუნქციებში, რა ხერხს მივმართოთ?**\n",
    "\n",
    "   სხვადასხვა გზა არსებობს, მაგრამ შეეცადეთ კომენტარის სახით მიუწეროთ ხაზებს, თუ რას ასრულებენ ისინი. \n",
    "   \n",
    "   კიდევ ერთი ხერხია, ხმამაღლა წაიკითხოთ კოდი.\n",
    "   \n",
    "\n",
    "3. **და თუ მინდა, რომ მომხმარებლისგან მივიღო რიცხვის ტიპის? მონაცემები**\n",
    "\n",
    "   გამოიყენეთ ფუნქცია `int()`.\n",
    "   \n",
    "   \n",
    "4. **ცვლის თუ არა ცვლადი `amount_of_cheese` ფუნქციაში არსებულ ცვლადს `cheese_count`?**\n",
    "\n",
    "   არა, ის ფუნქციისგან დამოუკიდებლად არსებობს და მისი მნიშვნელობა მერე გადაეცემა ფუნქციას დროებით შექმნილი ცვლადის სახით (რომელიც იარსებებს მხოლოდ ფუნქციის მუშაობის/გაშვების დროს).\n",
    "   \n",
    "   \n",
    "5. **ცუდია, როცა გლობალური ცვლადების დასახელება ემთხვევა ფუნქციაში არსებულს (როგორც `amount_of_cheese`-ის შემთხვევაში)?**\n",
    "\n",
    "   კი, ცუდია. მი უმეტეს, ჯერ არ ხართ მთლად დარწმუნებული ფუნქციებში. თავი აარიდეთ შეძლებისამებრ.\n",
    "   \n",
    "\n",
    "6. **არსებობს თუ არა ფუნქციების არგუმენტების ლიმიტი, მაქსიმალურად რამდენი შეიძლება გამოიყენო?**\n",
    "\n",
    "   ეს დამოკიდებულია Python- ის ვერსიასა და თქვენს კომპიუტერზე, თუმცა ეს რიცხვი საკმაოდ დიდია.\n",
    "   \n",
    "   \n",
    "7. **შეგიძლია ფუნქციაში ფუნქცია გამოიძახო?**\n",
    "\n",
    "   კი, ერთ-ერთი სავარჯიშო მაგაზე იქნება აგებული."
   ]
  },
  {
   "cell_type": "markdown",
   "metadata": {
    "id": "4gGrOISaYckh"
   },
   "source": [
    "<h2 align=\"center\">საშინაო დავალება</h2>\n",
    "\n",
    "\n",
    "1. დაუბრუნდით სკრიპტს და თითოეულ ხაზს მიუწერეთ კომენტარის სახით, თუ რას აკეთებს ის.\n",
    "\n",
    "\n",
    "2. დაიწყეთ ბოლოდან და წაიკითხეთ თითოეული ხაზი ბოლოდან, გამოყავით მნიშვნელოვანი ნაწილები.\n",
    "\n",
    "\n",
    "3. შექმენით მინიმუმ ერთი ფუნქცია და გაუშვით ის 10 გახნსხავებული მეთოდით.\n",
    "\n",
    "\n",
    "4. ამ ბმულზე შეგიძლიათ იპოვოთ **Python**-ის <a href=\"https://docs.python.org/3/library/functions.html\">ჩაშენებული ფუნქციების სია</a>.\n",
    "\n",
    "   გაარჩიეთ თითოეული მათგანი და გაარკვიეთ რას აკეთებს და რისთვის გამოიყენება.\n",
    "   \n",
    "   **მოიყვენეთ თითოეული მათგანის გამოყენების მაგალითი!**"
   ]
  },
  {
   "cell_type": "markdown",
   "metadata": {
    "id": "DqPstivsYckk"
   },
   "source": [
    "<h1 align=\"center\">სავარჯიშოს დასასრული</h1>"
   ]
  }
 ],
 "metadata": {
  "colab": {
   "collapsed_sections": [],
   "name": "Example for ex_10.ipynb",
   "provenance": [
    {
     "file_id": "1gA41PQJ9EnKxnFPmClTRFD5RcQUVHfzr",
     "timestamp": 1601916899165
    },
    {
     "file_id": "https://github.com/stsiskaridze/ISU/blob/master/R527/ex_02.ipynb",
     "timestamp": 1601912049891
    }
   ]
  },
  "kernelspec": {
   "display_name": "Python 3",
   "language": "python",
   "name": "python3"
  },
  "language_info": {
   "codemirror_mode": {
    "name": "ipython",
    "version": 3
   },
   "file_extension": ".py",
   "mimetype": "text/x-python",
   "name": "python",
   "nbconvert_exporter": "python",
   "pygments_lexer": "ipython3",
   "version": "3.7.3"
  }
 },
 "nbformat": 4,
 "nbformat_minor": 1
}
