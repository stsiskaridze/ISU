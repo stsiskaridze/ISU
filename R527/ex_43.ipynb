{
 "cells": [
  {
   "cell_type": "markdown",
   "metadata": {
    "id": "WDDFQrf4Ycht"
   },
   "source": [
    "**R527 - დაპროგრამება პითონში**\n",
    "<br>\n",
    "თარიღი: **4 დეკემბერი 2020**\n",
    "<br>\n",
    "\n",
    "სათაური: **სავარჯიშო 43**\n",
    "<br>\n",
    "მომხსენებელი: **შოთა ცისკარიძე**\n",
    "\n",
    "\n",
    "ბიბლიოგრაფია:\n",
    "<br> \n",
    " **სავარჯიშო 44.** Zed Shaw, *Learn Python 3 the Hard Way*, Addison Wesley (Verlag), 2017"
   ]
  },
  {
   "cell_type": "markdown",
   "metadata": {
    "id": "fYkwmIWkYchw"
   },
   "source": [
    "<h1 align=\"center\">სავარჯიშო 43: მემკვიდრეობითობა VS კომპოზიცია </h1>"
   ]
  },
  {
   "cell_type": "markdown",
   "metadata": {
    "slideshow": {
     "slide_type": "fragment"
    }
   },
   "source": [
    "<center><img src=\"images/Ex_44_Intro.jpg\" width=\"500\"alt=\"Example\" /></center>"
   ]
  },
  {
   "cell_type": "markdown",
   "metadata": {
    "id": "sRM4k6-aYch3"
   },
   "source": [
    "- ამ სავარჯიშოში ჩვენ ვისწავლით მემკვიდრეობითობასა და კომპოზიციას.\n",
    "\n",
    "\n",
    "- აქვე უნდა აღვნიშნო, რომ მემკვიდრეობითობის პრინციპი არის ძალიან კომპლექსური; ძირითადად მისი შეცვლა კომპოზიციით და გამარტივება შესაძლებელია და **რეკომენდირებული**."
   ]
  },
  {
   "cell_type": "markdown",
   "metadata": {
    "id": "fYkwmIWkYchw"
   },
   "source": [
    "<h3 align=\"center\">რა არის მემკვიდრეობითობა?</h3>"
   ]
  },
  {
   "cell_type": "markdown",
   "metadata": {
    "id": "sRM4k6-aYch3"
   },
   "source": [
    "- მემკვიდრეობითობა გამოიყენება იმის აღსანიშნად, რომ ერთი კლასი მისი **მშობელი კლასისგან უმეტეს ან ყველა თვისებას** მიიღებს.\n",
    "\n",
    "\n",
    "- ეს ხდება დაფარულად, ნაგულისხმევად, როცა წერ `class Foo(Bar)` - \"შექმენი კლასი Foo, რომელიც მემკვიდრეობით მიიღებს თვისებებს Bar-ისგან\".\n",
    "\n",
    "\n",
    "- ნებისმიერი ქმედება, რომელიც მოხდება Foo-ს გამოყენებით, იგივე შედეგს მოგვცემს, თუ გამოვიყენებთ Bar-ს. \n",
    "\n",
    "\n",
    "- ასე, Bar-ში მოვაავსებთ უფრო ზოგად ფუნქციონალობას, რომელიც მიიღებს კონკრეტიკას უკვე Foo-ს კლასში.\n",
    "\n",
    "\n",
    "- მაგგვარი კოდის შედეგად კლასების ინტერაქციის 3 გზა არსებობს:\n",
    "\n",
    "    1. შვილზე მოქმედებები გულისხმობს მოქმედებას მშობელზე.\n",
    "    2. შვილზე მოქმედებები უგულებელყოფს მშობელზე მოქმედებას.\n",
    "    3. შვილზე მოქმედებები ცვლის მოქმედებას მშობელზე.\n",
    "    \n",
    "    \n",
    "- ვნახოთ ეს სამი შემთხვევა."
   ]
  },
  {
   "cell_type": "markdown",
   "metadata": {
    "id": "fYkwmIWkYchw"
   },
   "source": [
    "<h3 align=\"center\">იმპლიცისტური მემკვიდრეობითობა</h3>"
   ]
  },
  {
   "cell_type": "markdown",
   "metadata": {},
   "source": [
    "- რა ხდება ფარულად, როცა ფუნქციას განსაზღვრავ მშობელში, მაგრამ შვილში - არა."
   ]
  },
  {
   "cell_type": "code",
   "execution_count": 1,
   "metadata": {},
   "outputs": [
    {
     "name": "stdout",
     "output_type": "stream",
     "text": [
      "PARENT implicit()\n",
      "PARENT implicit()\n"
     ]
    }
   ],
   "source": [
    "class Parent(object):\n",
    "\n",
    "    def implicit(self):\n",
    "        print(\"PARENT implicit()\")\n",
    "\n",
    "class Child(Parent):\n",
    "    pass\n",
    "\n",
    "dad = Parent()\n",
    "son = Child()\n",
    "\n",
    "dad.implicit()\n",
    "son.implicit()"
   ]
  },
  {
   "cell_type": "markdown",
   "metadata": {},
   "source": [
    "- კლასში Child `pass`-ის გამოყენებით, ჩვენ ვეუბნებით Python-ს, რომ ცარიელი ბლოკი გვინდა. \n",
    "\n",
    "\n",
    "- ანუ იქნება ახალი კლასი სახელად Child, რომელშიც არაფერი ახალი განსასაზღვრებელი არ არის, ამიტომ მასში მხოლოდ მისი მშობლის თვისებები იქნება."
   ]
  },
  {
   "cell_type": "markdown",
   "metadata": {},
   "source": [
    "- თუნდაც მე ვიძახებ ბოლო ხაზზე `son`-ს, რომელსაც არ აქვს არაფერი განსაზღვრული, ის მაინც ბეჭდავს სტრიქონს.\n",
    "\n",
    "\n",
    "- ანუ, მშობელ კლასში კოდის ჩაწერით მათ მემკვიდრეობით მიიღებენ მისი საბ-კლასები. "
   ]
  },
  {
   "cell_type": "markdown",
   "metadata": {
    "id": "fYkwmIWkYchw"
   },
   "source": [
    "<h3 align=\"center\">შვილზე მოქმედებები უგულებელყოფს მშობელზე მოქმედებას.</h3>"
   ]
  },
  {
   "cell_type": "markdown",
   "metadata": {},
   "source": [
    "- ზოგჯერ გვჭირდება, რომ შვილმა მშობლისგან განსხვავებულად იმოქმედოს. \n",
    "\n",
    "\n",
    "- ამ დროს, ჩვენ უნდა გადავაწეროთ კოდი, შევცვალოთ რა ეფექტურად მისი ფუნქციონალობა.\n",
    "\n",
    "\n",
    "- მაგალითი:"
   ]
  },
  {
   "cell_type": "code",
   "execution_count": 2,
   "metadata": {},
   "outputs": [
    {
     "name": "stdout",
     "output_type": "stream",
     "text": [
      "PARENT override()\n",
      "CHILD override()\n"
     ]
    }
   ],
   "source": [
    "class Parent(object):\n",
    "\n",
    "    def override(self):\n",
    "        print(\"PARENT override()\")\n",
    "\n",
    "class Child(Parent):\n",
    "\n",
    "    def override(self):\n",
    "        print(\"CHILD override()\")\n",
    "\n",
    "dad = Parent()\n",
    "son = Child()\n",
    "\n",
    "dad.override()\n",
    "son.override()"
   ]
  },
  {
   "cell_type": "markdown",
   "metadata": {},
   "source": [
    "- ამ მაგალითში ჩვენ ორივე კლასში გვაქვს ფუნქცია `override`.\n",
    "\n",
    "\n",
    "- როგორც ხედავთ, ხაზი 14 აამუშავებს ფუნქციას `Parent.override`, რადგან ცვლადი (`dad`) არის `Parent`.\n",
    "\n",
    "\n",
    "- მაგრამ ხაზი 15 დაბეჭდავს `Child override()`, რადგან `son` ცვლადი არის `Child`, ხოლო `Child` გადაწერს მისი მშობლისგან მიღებულ ფუნქციას და თავის ვერსიას შემოგვთავაზებს. "
   ]
  },
  {
   "cell_type": "markdown",
   "metadata": {
    "id": "fYkwmIWkYchw"
   },
   "source": [
    "<h3 align=\"center\">კოდის გადაწერა (შეცვლა) მშობელი კლასის გაშვებამდე თუ მას შემდეგ </h3>"
   ]
  },
  {
   "cell_type": "markdown",
   "metadata": {},
   "source": [
    "- მშობლისა და შვილი კლასის ურთიერთკავშირის მესამე სახეობის გამოყენება დამოკიდებულია იმაზე, თუ როდის გინდა კლასების მოქცევის შეცვლა: **მშობელი** კლასის მოქმედების **შემდეგ** თუ **მანამდე**. \n",
    "\n",
    "\n",
    "- პირველ რიგში, ჩვენ გადავაწერთ ფუნციას ისევე, როგორც წინა მაგალითში, შემდეგ კი გამოვიძახებთ Python-ში ჩაშენებულ ფუნქციას `super`, რათა მშობლის ვერსია გმაოვიძახოთ.\n",
    "\n",
    "\n",
    "- მაგალითი:"
   ]
  },
  {
   "cell_type": "code",
   "execution_count": 3,
   "metadata": {},
   "outputs": [
    {
     "name": "stdout",
     "output_type": "stream",
     "text": [
      "PARENT altered()\n",
      "CHILD, BEFORE PARENT altered()\n",
      "PARENT altered()\n",
      "CHILD, AFTER PARENT altered()\n"
     ]
    }
   ],
   "source": [
    "class Parent(object):\n",
    "\n",
    "    def altered(self):\n",
    "        print(\"PARENT altered()\")\n",
    "\n",
    "class Child(Parent):\n",
    "\n",
    "    def altered(self):\n",
    "        print(\"CHILD, BEFORE PARENT altered()\")\n",
    "        super(Child, self).altered()\n",
    "        print(\"CHILD, AFTER PARENT altered()\")\n",
    "\n",
    "dad = Parent()\n",
    "son = Child()\n",
    "\n",
    "dad.altered()\n",
    "son.altered()"
   ]
  },
  {
   "cell_type": "markdown",
   "metadata": {},
   "source": [
    "* ყველაზე მნიშვნელოვანი **ხაზებია 9-11**, სადაც `Child` იძახაბს ფუნქციას `son.altered()`:\n",
    "\n",
    "    1. იმიტომ რომ მე შევცვალე მშობლისგან მიღებული ფუნქცია, ხაზი 9 მუშაობს ისე, როგორც ჩვენ ველით ამას;\n",
    "    \n",
    "    2. ხაზი 10 იძახებს ფუნქციას `super`, რათა მივიღოთ ეს ფუნქცია ისე, როგორც მშობელს აქვს განსაზღვრული;\n",
    "    \n",
    "    3. ხაზი 10 ასე უნდა წავიკითხოთ: \"გამოიძახე ფუქნცია `super` არგუმენტებით `Child` და `self`, მერე გამოიძახე ფუნქცია `altered` იქიდან, რასაც დაგიბრუნებს ფუნქცია `super`\";\n",
    "    \n",
    "    4. ამ მომენტზე გაიშვება ფუნქცია `Parent.altered()` და დაიბეჭდება შესაბამისი მესიჯი;\n",
    "    \n",
    "    5. შემდეგ ის დაუბრუნდება `Child`-ს და გაუშვებს ბოლო `print`-ს."
   ]
  },
  {
   "cell_type": "markdown",
   "metadata": {
    "id": "fYkwmIWkYchw"
   },
   "source": [
    "<h3 align=\"center\">სამივეს კომბინაცია</h3>"
   ]
  },
  {
   "cell_type": "markdown",
   "metadata": {},
   "source": [
    "- სამივე ინტერაქციის სადემონსტრაციოდ მე მოგიმზადეთ შემდეგი კოდი ერთ ფაილში:"
   ]
  },
  {
   "cell_type": "code",
   "execution_count": 4,
   "metadata": {},
   "outputs": [
    {
     "name": "stdout",
     "output_type": "stream",
     "text": [
      "PARENT implicit()\n",
      "PARENT implicit()\n",
      "PARENT override()\n",
      "CHILD override()\n",
      "PARENT altered()\n",
      "CHILD, BEFORE PARENT altered()\n",
      "PARENT altered()\n",
      "CHILD, AFTER PARENT altered()\n"
     ]
    }
   ],
   "source": [
    "class Parent(object):\n",
    "\n",
    "    def override(self):\n",
    "        print(\"PARENT override()\")\n",
    "\n",
    "    def implicit(self):\n",
    "        print(\"PARENT implicit()\")\n",
    "\n",
    "    def altered(self):\n",
    "        print(\"PARENT altered()\")\n",
    "\n",
    "class Child(Parent):\n",
    "\n",
    "    def override(self):\n",
    "        print(\"CHILD override()\")\n",
    "\n",
    "    def altered(self):\n",
    "        print(\"CHILD, BEFORE PARENT altered()\")\n",
    "        super(Child, self).altered()\n",
    "        print(\"CHILD, AFTER PARENT altered()\")\n",
    "\n",
    "dad = Parent()\n",
    "son = Child()\n",
    "\n",
    "dad.implicit()\n",
    "son.implicit()\n",
    "\n",
    "dad.override()\n",
    "son.override()\n",
    "\n",
    "dad.altered()\n",
    "son.altered()"
   ]
  },
  {
   "cell_type": "markdown",
   "metadata": {},
   "source": [
    "* დააკვირდით კოდს და მიაწერეთ კომენტარები, თუ რას აკეთებს თითოეული ხაზი, გადააწერს კოდს თუ არა."
   ]
  },
  {
   "cell_type": "markdown",
   "metadata": {
    "id": "fYkwmIWkYchw"
   },
   "source": [
    "<h3 align=\"center\">ფუნქცია super()-ის გამოყენების მიზეზი</h3>"
   ]
  },
  {
   "cell_type": "markdown",
   "metadata": {},
   "source": [
    "- თითქოს ეს გასაგებია, მაგრამ ჩვენ ე.წ.**მრავალი მემკვიდრეობითობის** პრობლემას ვაწყდებით.\n",
    "\n",
    "\n",
    "- მრავალი მემკვიდრეობითობა ჩნდება მაშინ, როცა კლასის განსაზღვრისას ის მემკვიდრეობს ერთზე მეტი კლასისგან:"
   ]
  },
  {
   "cell_type": "code",
   "execution_count": null,
   "metadata": {},
   "outputs": [],
   "source": [
    "class SuperFun(Child, BadStuff):\n",
    "    pass"
   ]
  },
  {
   "cell_type": "markdown",
   "metadata": {},
   "source": [
    "- ანუ, Python-ს ვეუბნებით, შექმენი კლასი `SuperFun`, რომელიც მემკვიდრეობს კლასებისგან `Child` და `BadStuff` ერთდროულად.\n",
    "\n",
    "\n",
    "- ამ შემთხვევაში, `SuperFun`-ში ჩაწერილი ფუნქციის გაშვებამდე Python ჯერ მშობელ კლასებს შეამოწმებს შეამოწმებს, თანმიმდევრული წესით.\n",
    "\n",
    "\n",
    "- სწორად მუშაობისთვის Python იყენებს \"მეთოდის რეზოლუციის წესრიგს\" (MRO) და ალგორითმს, სახელწოდებით C3.\n",
    "\n",
    "\n",
    "- Python-ი MRO ალგორითმზე წვდომას არ გვაძლევს, თუმცა გვთავაზობს მის ალტეერნატივას - ფუნქცია `super()`."
   ]
  },
  {
   "cell_type": "markdown",
   "metadata": {
    "id": "fYkwmIWkYchw"
   },
   "source": [
    "<h3 align=\"center\">ფუნქცია super()-ის გამოყენება __init__-თან ერთად</h3>"
   ]
  },
  {
   "cell_type": "markdown",
   "metadata": {},
   "source": [
    "- `super` ფუნქცია ყველზე ხშირად გამოიყენება `__init__`-თან ბაზისურ კლასებში.\n",
    "\n",
    "\n",
    "- აი ერთ-ერთი მაგალითი:"
   ]
  },
  {
   "cell_type": "code",
   "execution_count": 6,
   "metadata": {},
   "outputs": [],
   "source": [
    "def __init__(self, stuff):\n",
    "    self.stuff = stuff\n",
    "    super(Child, self).__init__()"
   ]
  },
  {
   "cell_type": "markdown",
   "metadata": {},
   "source": [
    "- ეს ჰგავს `Child.altered`-ის მაგალითს იმ განსხვავებით, რომ ახლა განვსაზღვრეთ ცვლადები `__init__`-ში **მანამ, სანამ** კლასი `Parent`-ი განსაზღვრავდა მათ თავისი `Parent.__init__`-ით."
   ]
  },
  {
   "cell_type": "markdown",
   "metadata": {
    "id": "fYkwmIWkYchw"
   },
   "source": [
    "<h3 align=\"center\">კომპოზიცია</h3>"
   ]
  },
  {
   "cell_type": "markdown",
   "metadata": {},
   "source": [
    "- მემკვიდრეობითობა ძალიან გამოსადეგია, თუმცა იგივეს გაკეთება **სხვა გზებითაც** არის შესაძლებელი.\n",
    "\n",
    "\n",
    "- მაგალითად, სხვა კლასებისა და მოდულების გამოყენება უფრო გასაგები და აშკარა იქნება, ვიდრე იმპლიცისტური მემკვიდრეობა. \n",
    "\n",
    "\n",
    "- თუ გადავხედავთ იმ 3 ურთიერთქმედების გზას, სამიდან ორში მაინც გვიწევს ახალი კოდის დაწერა, რათა შევცვალოთ მემკვიდრეობით მიღებული ფუნქციონალობა.\n",
    "\n",
    "\n",
    "- ამისი უფრო მარტივი ამოხსნა იქნება მოდულიდან ფუნქციების გამოძახება.\n",
    "\n",
    "\n",
    "- მაგალითად:"
   ]
  },
  {
   "cell_type": "code",
   "execution_count": 7,
   "metadata": {},
   "outputs": [
    {
     "name": "stdout",
     "output_type": "stream",
     "text": [
      "OTHER implicit()\n",
      "CHILD override()\n",
      "CHILD, BEFORE OTHER altered()\n",
      "OTHER altered()\n",
      "CHILD, AFTER OTHER altered()\n"
     ]
    }
   ],
   "source": [
    "class Other(object):\n",
    "    \n",
    "    def override(self):\n",
    "        print(\"OTHER override()\")\n",
    "\n",
    "    def implicit(self):\n",
    "        print(\"OTHER implicit()\")\n",
    "\n",
    "    def altered(self):\n",
    "        print(\"OTHER altered()\")\n",
    "\n",
    "class Child(object):\n",
    "\n",
    "    def __init__(self):\n",
    "        self.other = Other()\n",
    "\n",
    "    def implicit(self):\n",
    "        self.other.implicit()\n",
    "\n",
    "    def override(self):\n",
    "        print(\"CHILD override()\")\n",
    "\n",
    "    def altered(self):\n",
    "        print(\"CHILD, BEFORE OTHER altered()\")\n",
    "        self.other.altered()\n",
    "        print(\"CHILD, AFTER OTHER altered()\")\n",
    "\n",
    "son = Child()\n",
    "\n",
    "son.implicit()\n",
    "son.override()\n",
    "son.altered()"
   ]
  },
  {
   "cell_type": "markdown",
   "metadata": {},
   "source": [
    "- ამ კოდში მე არ ვიყენებ სახელს `Parent`, რადგან არ არსებობს მშობელი-შვილის ურთიერთობა. \n",
    "\n",
    "\n",
    "- ეს არის ურთიერთობა, სადაც ბავშვს აქვს `Other`, რომელსაც იყენებს სამუშაოს შესასრულებლად. \n",
    "\n",
    "\n",
    "- ამიტომაც მივიღეთ ისეთი შედეგი.\n",
    "\n",
    "\n",
    "- თქვენ ხედავთ, რომ კოდის უმეტესი ნაწილი `Child`-სა and `Other`– ში იგივეა იგივეს შესასრულებლად. \n",
    "\n",
    "\n",
    "- ერთადერთი **განსხვავება** ისაა, რომ მე უნდა განვსაზღვრო `Child.implicit` ფუნქცია, რომ გავაკეთო ეს ერთი მოქმედება. \n",
    "\n",
    "\n",
    "- შემდეგ უნდა ვკითხოთ ჩვენ თავებს, გვჭირდება თუ არა, რომ `Other` იყოს კლასი, თ ჯობია მოდულად ვაქციოთ და შევარქვათ `other.py`?"
   ]
  },
  {
   "cell_type": "markdown",
   "metadata": {
    "id": "fYkwmIWkYchw"
   },
   "source": [
    "\n",
    "<h3 align=\"center\">როდის გამოვიყენოთ მემკვიდრეობითობა თუ კომპოზიცია</h3>"
   ]
  },
  {
   "cell_type": "markdown",
   "metadata": {},
   "source": [
    "- **მემკვიდრეობა VS კომპოზიციის** საკითხი დადის კოდის მრავალჯერადი გამოყენების პრობლემის გადაჭრის მცდელობამდე. \n",
    "\n",
    "\n",
    "- თქვენ არ გინდათ დუბლირებული კოდი გქონდეთ მთელ თქვენს პროგრამაში, რადგან ეს არც ეფექტურია და არც ლამაზი. \n",
    "\n",
    "\n",
    "- **მემკვიდრეობა** წყვეტს ამ პრობლემას იმით, რომ საბაზო კლასში თანმოყრის საჭირო მახასიათებლებს. \n",
    "\n",
    "\n",
    "- **კომპოზიცია** ხსნის მას მოდულების და სხვა კლასებში ფუნქციების გამოძახების შესაძლებლობით.\n",
    "\n",
    "\n",
    "- მაგრამ თუ ორივე წყვეტს კოდის მრავალჯერადი გამოყენების პრობლემას, მაშ რომელია **უკეთესი**?\n",
    "\n",
    "\n",
    "- პასუხი ძალიან სუბიექტურია, მაგრამ 3 გაიდლაინი შემიძლია შემოგთავაზოთ:\n",
    "\n",
    "  1. ნებისმიერი ხერხით თავიდა აიცილეთ მრავალი მემკვიდრეობითობა, ის ძალიან კომპლექსურია და ნაკლებად საიმედოა. თუ მაინცდამაინც გჭირდებათ, მაშინ მოემზადეთ ეს საკითხი საფუძვლიანად გამოიკვლიოთ და ისწავლოთ კლასების იერარქიის წესები.\n",
    "  \n",
    "  2. გამოოიყენეთ კომპოზიცია ისეთი კოდის მოდულებში შესაკრავად, რომელსაც მერე პროგრამის სხვადასხვა ურთიერთდამოუკიდებელ სიტუაციაში დაგჭირდება.\n",
    "  \n",
    "  3. გამოიყენეთ მემკვიდრეობა მხოლოდ მაშინ, როდესაც არსებობს აშკარად დაკავშირებული მრავალჯერადი გამოყენების კოდის ნაწილები, რომლებიც ჯდება ერთი საერთო კონცეფციის ქვეშ, ან თუ ამის გაკეთება გჭირდებათ იმის გამო, რასაც იყენებთ.\n",
    "    \n",
    "    \n",
    "- ეს წესები არ არის სავალდებული.\n",
    "\n",
    "\n",
    "- **დაიმახსოვრეთ**: ოოპ არის პროგრამისტების მიერ შექმნილი სოციალური კონვენცია კოდის გაზიარების მიზნით. თუმცა მისი გამოყენება მთლიანად თქვენს წინაშე არსებულ ამოცანაზეა დამოკიდებული. აქედან გამომდინარე, შეიძლება მოგიწიოთ ამ რჩევა/წესების უგულებელყოფა: ყოველთვის მნიშვნელოვანია სიტუაციასთან **ადაპტირება** შეგეძლოთ.  "
   ]
  },
  {
   "cell_type": "markdown",
   "metadata": {},
   "source": [
    "<h2 align=\"center\">რუბრიკა \"ბოროტი მანტიორი\"</h2>\n",
    "\n",
    "- ჩვენ ხშირად შევცვლით კოდს, რომ დავადგინოთ მისი გაშვების საზღვრები.\n",
    "\n",
    "\n",
    "- ქვევით მოყვანილია **კოდის მაგალითები** რომლებიც **არ კომპილირდება** და **იძლევა შეცდომას**. \n",
    "\n",
    "\n",
    "- **გაარჩიეთ** თითოეული მათგანი და **გაასწორეთ შეცდომები**!"
   ]
  },
  {
   "cell_type": "code",
   "execution_count": null,
   "metadata": {},
   "outputs": [],
   "source": []
  },
  {
   "cell_type": "markdown",
   "metadata": {},
   "source": [
    "<h2 align=\"center\">ხშირად დასმული კითხვები</h2>\n",
    "\n",
    "- ქვევით მოყვანილია კითხვები, რომლებიც გაუჩნდათ რეალურ სტუდენტებს ამ სავარჯიშოს შესრულებისას:\n",
    "\n",
    "\n",
    "1. **როგორ შემიძლია უკეთესად გადავჭრა პრობლემები, რომლებიც აქამდე არ მინახავს?**\n",
    "\n",
    "   პრობლემების უკეთ გადაჭრის ერთადერთი გზაა რაც შეიძლება მეტი პრობლემის გადაჭრა.\n",
    "   \n",
    "   როგორც წესი, როდესაც ადამიანები რთულ ამოცანას წააწყდება ის გარბის პასუხების მოსაძებნად. \n",
    "   \n",
    "   ეს ნორმალური ქცევაა, მაგრამ თუ თქვენ გაქვთ დრო, ჯობია თავად ამოხსნათ ამოცანა\n",
    "   \n",
    "   თუ დაიღლებით, გაჩერდით და როცა ამოცანაზე ფიქრს უკვე დაანებებს ტვინი თავს, თავიდან შეუდეგქით საქმეს.\n",
    "   \n",
    "   \n",
    "2. **ობიექტები მხოლოდ კლასების ასლები არ არის?**\n",
    "\n",
    "   ზოგიერთ ენაში (მაგალითად, **JavaScript**) ეს ასეა. \n",
    "   \n",
    "   მათ პროტოტიპულ ენებს უწოდებენ და გამოყენების გარდა, ობიექტებსა და კლასებს შორის სხვაობა არ არსებობს. \n",
    "   \n",
    "   მაგრამ, **Python**-ში კლასები მოქმედებს, როგორც შაბლონები, მორლის მიხედვითაც **იქმენბა** ახალ ობიექტები."
   ]
  },
  {
   "cell_type": "markdown",
   "metadata": {},
   "source": [
    "<h2 align=\"center\">საშინაო დავალება</h2>\n",
    "\n",
    "\n",
    "1. გადადით შემდეგ ბმულზე: <a href=\"https://www.python.org/dev/peps/pep-0008/\">Python კოდის სტილის სახელმძღვანელო</a>. შეეცადეთ გაარჩიოთ და აითვისოთ ის."
   ]
  },
  {
   "cell_type": "markdown",
   "metadata": {
    "id": "DqPstivsYckk"
   },
   "source": [
    "<h1 align=\"center\">სავარჯიშოს დასასრული</h1>"
   ]
  }
 ],
 "metadata": {
  "colab": {
   "collapsed_sections": [],
   "name": "Example for ex_10.ipynb",
   "provenance": [
    {
     "file_id": "1gA41PQJ9EnKxnFPmClTRFD5RcQUVHfzr",
     "timestamp": 1601916899165
    },
    {
     "file_id": "https://github.com/stsiskaridze/ISU/blob/master/R527/ex_02.ipynb",
     "timestamp": 1601912049891
    }
   ]
  },
  "kernelspec": {
   "display_name": "Python 3",
   "language": "python",
   "name": "python3"
  },
  "language_info": {
   "codemirror_mode": {
    "name": "ipython",
    "version": 3
   },
   "file_extension": ".py",
   "mimetype": "text/x-python",
   "name": "python",
   "nbconvert_exporter": "python",
   "pygments_lexer": "ipython3",
   "version": "3.7.3"
  }
 },
 "nbformat": 4,
 "nbformat_minor": 1
}
