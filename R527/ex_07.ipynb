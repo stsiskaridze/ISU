{
 "cells": [
  {
   "cell_type": "markdown",
   "metadata": {
    "id": "WDDFQrf4Ycht"
   },
   "source": [
    "**R527 - დაპროგრამება პითონში**\n",
    "<br>\n",
    "თარიღი: **9 ოქტომბერი 2020**\n",
    "<br>\n",
    "\n",
    "სათაური: **სავარჯიშო 7**\n",
    "<br>\n",
    "მომხსენებელი: **შოთა ცისკარიძე**\n",
    "\n",
    "\n",
    "ბიბლიოგრაფია:\n",
    "<br> \n",
    " **სავარჯიშო 7.** Zed Shaw, *Learn Python 3 the Hard Way*, Addison Wesley (Verlag), 2017"
   ]
  },
  {
   "cell_type": "markdown",
   "metadata": {
    "id": "fYkwmIWkYchw"
   },
   "source": [
    "<h1 align=\"center\">სავარჯიშო 7: მეტი პრინტი</h1>"
   ]
  },
  {
   "cell_type": "markdown",
   "metadata": {
    "id": "sRM4k6-aYch3"
   },
   "source": [
    "- შემდეგი რამდენიმე დავალების მიზანი იქნება თქვენი გავარჯიშება კოდის წერაში.\n",
    "\n",
    "\n",
    "- დამატებითი ახსნა არაა საჭირო.\n",
    "\n",
    "- არ დაგავიწყდეთ ჩვენი წესები:\n",
    " - არ გამოტოვოთ!\n",
    " - არ დააკოპიროთ!\n"
   ]
  },
  {
   "cell_type": "code",
   "execution_count": null,
   "metadata": {
    "colab": {
     "base_uri": "https://localhost:8080/",
     "height": 102
    },
    "executionInfo": {
     "elapsed": 1084,
     "status": "ok",
     "timestamp": 1601922340032,
     "user": {
      "displayName": "Veronika Tsiskaridze",
      "photoUrl": "",
      "userId": "14609060841114149670"
     },
     "user_tz": -240
    },
    "id": "CV4H7To9Ych_",
    "outputId": "dc84bff5-be0b-46ee-cbec-72c1dda438ab"
   },
   "outputs": [
    {
     "name": "stdout",
     "output_type": "stream",
     "text": [
      "Mary had a little lamb.\n",
      "Its fleece was white as snow.\n",
      "And everywhere that Mary went.\n",
      "..........\n",
      "Cheese Burger\n"
     ]
    }
   ],
   "source": [
    "print(\"Mary had a little lamb.\")\n",
    "print(\"Its fleece was white as {}\".format('snow.'))\n",
    "print(\"And everywhere that Mary went.\")\n",
    "print(\".\" * 10) # აქ რა გავაკეთეთ?\n",
    "\n",
    "end1 = \"C\"\n",
    "end2 = \"h\"\n",
    "end3 = \"e\"\n",
    "end4 = \"e\"\n",
    "end5 = \"s\"\n",
    "end6 = \"e\"\n",
    "end7 = \"B\"\n",
    "end8 = \"u\"\n",
    "end9 = \"r\"\n",
    "end10 = \"g\"\n",
    "end11 = \"e\"\n",
    "end12 = \"r\"\n",
    "\n",
    "# დააკვირდით იმ მძიმეს ქვედა სტრიქონის ბოლოში. შეეცადეთ წაშალოთ ის და დააკვირდით შედეგს\n",
    "print(end1 + end2 + end3 + end4 + end5 + end6, end=' ')\n",
    "print(end7 + end8 + end9 + end10 + end11 + end12)"
   ]
  },
  {
   "cell_type": "markdown",
   "metadata": {
    "id": "K6vmKEXBYcis"
   },
   "source": [
    "<h2 align=\"center\">რუბრიკა \"ბოროტი მანტიორი\"</h2>\n",
    "\n",
    "- ჩვენ ხშირად შევცვლით კოდს, რომ დავადგინოთ მისი გაშვების საზღვრები.\n",
    "\n",
    "\n",
    "- ქვევით მოყვანილია **კოდის მაგალითები** რომლებიც **არ კომპილირდება** და **იძლევა შეცდომას**. \n",
    "\n",
    "\n",
    "- **გაარჩიეთ** თითოეული მათგანი და **გაასწორეთ შეცდომები**!"
   ]
  },
  {
   "cell_type": "code",
   "execution_count": null,
   "metadata": {
    "id": "b8sU2mdaYcit"
   },
   "outputs": [],
   "source": []
  },
  {
   "cell_type": "code",
   "execution_count": null,
   "metadata": {
    "id": "YTh7X9wNYcj_"
   },
   "outputs": [],
   "source": []
  },
  {
   "cell_type": "markdown",
   "metadata": {
    "id": "4gGrOISaYckh"
   },
   "source": [
    "<h2 align=\"center\">სამუშაო დავალება</h2>\n",
    "\n",
    "1. გაჰყევით ამ კოდს და მიაწერეთ კომენტარი თითოეულ სტრიქონს.\n",
    "\n",
    "2. წაიკითხეთ ხმამაღლა თითო სტრიქონი ბოლოდან და იპოვეთ შეცდომები.\n",
    "\n",
    "3. ამ დავალებიდან და სამომავლოდ, ჩამოწერეთ ქაღალდზე, თუ რა ტიპის შეცდომა დაუშვით.\n",
    "\n",
    "4. შემდეგ დავალებაზე გადასვლისას დახედეთ ამ ფურცელს და შეეცადეთ, თავი აარიდოთ მსგავსი შეცდომების დაშვებას.\n",
    "\n",
    "5. დაიმახსოვრეთ: ყველას მოსდის შეცდომები, პროგრამისტებსაც კი."
   ]
  },
  {
   "cell_type": "code",
   "execution_count": null,
   "metadata": {
    "id": "rri2nkGe9wES"
   },
   "outputs": [],
   "source": []
  },
  {
   "cell_type": "markdown",
   "metadata": {
    "id": "1e5Jtm36Ycki"
   },
   "source": [
    "<h2 align=\"center\">ხშირად დასმული კითხვები</h2>\n",
    "\n",
    "- ქვევით მოყვანილია კითხვები, რომლებიც გაუჩნდათ რეალურ სტუდენტებს ამ სავარჯიშოს შესრულებისას:\n",
    "\n",
    "\n",
    "1. რატომ გამოიყენეთ ცვლადი `'snow'`? \n",
    "\n",
    "   სინამდვილეში, ეს ცვლადი არაა: ეს მხოლოდ სტრინგია სიტყვა 'snow'-ით. ცვლადი ცალ ბრჭყალებში მოქცეული არ იქნებოდა.\n",
    "   \n",
    "   \n",
    "2. ყველა სტრიქონისთვის კომენტარის მიწერა გამოიყენება თუ არა რეალურ პრაქტიკაში?\n",
    "\n",
    "   არა, პრაქტიკაში კომენტარები გამოიყენება მარტო კოდის რთულად გასაგებ ადგილებში. \n",
    "   \n",
    "   აკომენტარებენ, თუ **როგორ*** მუშაობს კოდი და **რატომ** გამოიყენეს ეს გზა.\n",
    "   \n",
    "   ხშირად **რატომ** - უფრო მნიშვნელოვანია. ამიტომაც მიზანშეწონილია, რომ ახლა ვივარჯიშოთ და თითო სტრიქონს მივაწეროთ კომენტარი.\n",
    "   \n",
    "\n",
    "3. შეიძლება, რომ ცალი ბრჭყალები გამოვიყენო ორმაგის მაგივრად, თუ მათ სხვადასხვა ფუნქციონალი აქვთ?\n",
    "\n",
    "  `Python`-ში სტრინგის აღსანიშნად ორივე მეთოდი მისაღებია, თუმცა ზოგადად ცალ ბრჭყალებში მოკლე სტრინგებს აქცევენ, ისეთებს, როგორებიცაა: `'a' და 'snow'`."
   ]
  },
  {
   "cell_type": "markdown",
   "metadata": {
    "id": "DqPstivsYckk"
   },
   "source": [
    "<h1 align=\"center\">სავარჯიშოს დასასრული</h1>"
   ]
  }
 ],
 "metadata": {
  "colab": {
   "collapsed_sections": [],
   "name": "Example for ex_07.ipynb",
   "provenance": [
    {
     "file_id": "1gA41PQJ9EnKxnFPmClTRFD5RcQUVHfzr",
     "timestamp": 1601916899165
    },
    {
     "file_id": "https://github.com/stsiskaridze/ISU/blob/master/R527/ex_02.ipynb",
     "timestamp": 1601912049891
    }
   ]
  },
  "kernelspec": {
   "display_name": "Python 3",
   "language": "python",
   "name": "python3"
  },
  "language_info": {
   "codemirror_mode": {
    "name": "ipython",
    "version": 3
   },
   "file_extension": ".py",
   "mimetype": "text/x-python",
   "name": "python",
   "nbconvert_exporter": "python",
   "pygments_lexer": "ipython3",
   "version": "3.7.3"
  }
 },
 "nbformat": 4,
 "nbformat_minor": 1
}
