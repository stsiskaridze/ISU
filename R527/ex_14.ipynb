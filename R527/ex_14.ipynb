{
 "cells": [
  {
   "cell_type": "markdown",
   "metadata": {
    "id": "WDDFQrf4Ycht"
   },
   "source": [
    "**R527 - დაპროგრამება პითონში**\n",
    "<br>\n",
    "თარიღი: **16 ოქტომბერი 2020**\n",
    "<br>\n",
    "\n",
    "სათაური: **სავარჯიშო 14**\n",
    "<br>\n",
    "მომხსენებელი: **შოთა ცისკარიძე**\n",
    "\n",
    "\n",
    "ბიბლიოგრაფია:\n",
    "<br> \n",
    " **სავარჯიშო 14.** Zed Shaw, *Learn Python 3 the Hard Way*, Addison Wesley (Verlag), 2017"
   ]
  },
  {
   "cell_type": "markdown",
   "metadata": {
    "id": "fYkwmIWkYchw"
   },
   "source": [
    "<h1 align=\"center\">სავარჯიშო 14: მითითება და გადაცემა</h1>"
   ]
  },
  {
   "cell_type": "markdown",
   "metadata": {
    "slideshow": {
     "slide_type": "fragment"
    }
   },
   "source": [
    "<center><img src=\"images/Ex_14_Intro.jpg\" width=\"500\"alt=\"Example\" /></center>"
   ]
  },
  {
   "cell_type": "markdown",
   "metadata": {
    "id": "sRM4k6-aYch3"
   },
   "source": [
    "- ამ სავარჯიშოში ჩვენ გამოვიყენებთ `argv`-ს და `input`-ს, რათა მომხმარებელს სპეციფიკური ინფორმაცია ვკითხოთ. \n",
    "\n",
    "- ამჯერად, მითითებისთვის გამოვიყენებთ უბრალო სიმბოლოს `'>'`.\n"
   ]
  },
  {
   "cell_type": "code",
   "execution_count": null,
   "metadata": {
    "colab": {
     "base_uri": "https://localhost:8080/",
     "height": 204
    },
    "executionInfo": {
     "elapsed": 721,
     "status": "ok",
     "timestamp": 1601975235429,
     "user": {
      "displayName": "Veronika Tsiskaridze",
      "photoUrl": "",
      "userId": "14609060841114149670"
     },
     "user_tz": -240
    },
    "id": "ES2yhvD-KCEH",
    "outputId": "a43bbdfc-2e09-4b18-8652-41abdd152c07",
    "scrolled": false
   },
   "outputs": [],
   "source": [
    "from sys import argv\n",
    "\n",
    "script, user_name = argv\n",
    "prompt = '> '\n",
    "\n",
    "print(f\"გამარჯობა ბატონო {user_name}! მე ვარ თქვენი სკრიპტი სახელად {script}!\")\n",
    "print(\"მინდა დაგისვა რამოდენიმე შეკითხვა?\")\n",
    "print(f\"ბატონო {user_name}, მოგწონვართ?\")\n",
    "likes = input(prompt)\n",
    "\n",
    "print(f\"ბატონო {user_name}, სად ცხოვრობთ?\")\n",
    "lives - input(prompt)\n",
    "\n",
    "print(\"და რა კომპიუტერს იყენებთ?\")\n",
    "computer = input(prompt)\n",
    "\n",
    "print(f\"\"\"\n",
    "ანუ, მე როგორც გავიგე, თქვენ ჩემს პირველ კითხვაზე უპასეხეთ {likes}, არც ვიცი რა გიპასუხოთ.\n",
    "თქვენ ცხოვრობთ {lives}. თუმცა, არამგონია ვიცოდე სად არის ეს.\n",
    "და თქვენი კომპიუტერია {computer}. რამე უკეთესი გეშოვნათ არ ჯობდა?!\n",
    "\"\"\")"
   ]
  },
  {
   "cell_type": "markdown",
   "metadata": {},
   "source": [
    "- ჩვენ ვიყენებთ ცვლადს `prompt`, რათა ყველა `input()`-თან არ დავწეროთ ერთი და იგივე. \n",
    "\n",
    "\n",
    "- ამ `prompt` სიმბოლოს მაგივრად თუ რაიმე სხვა სიმბოლოს ჩაწერის სურვილი გაგვიჩნდა, ჩვენ კოდის მხოლოდ მცირე ნაწილის შეცვლა მოგვიწევს. \n",
    "\n",
    "  ძალიან მოსახერხებელია, რას იტყით?"
   ]
  },
  {
   "cell_type": "markdown",
   "metadata": {
    "id": "K6vmKEXBYcis"
   },
   "source": [
    "<h2 align=\"center\">რუბრიკა \"ბოროტი მანტიორი\"</h2>\n",
    "\n",
    "- ჩვენ ხშირად შევცვლით კოდს, რომ დავადგინოთ მისი გაშვების საზღვრები.\n",
    "\n",
    "\n",
    "- ქვევით მოყვანილია **კოდის მაგალითები** რომლებიც **არ კომპილირდება** და **იძლევა შეცდომას**. \n",
    "\n",
    "\n",
    "- **გაარჩიეთ** თითოეული მათგანი და **გაასწორეთ შეცდომები**!"
   ]
  },
  {
   "cell_type": "code",
   "execution_count": null,
   "metadata": {
    "id": "b8sU2mdaYcit"
   },
   "outputs": [],
   "source": [
    "from sys import argv\n",
    "\n",
    "script, user_name = argv\n",
    "prompt = '> '\n",
    "\n",
    "print(f\"გამარჯობა ბატონო {user_name}! როგორ ბრძანდებით?\")\n",
    "print(\"თუ თქვენ გსურთ სახელის შეცვლა, მითხარით, როგორ გიწოდოთ?\")\n",
    "\n",
    "user_name = input(prompt)\n",
    "\n",
    "print(f\"ნახვამდის ბატონო {user_name}!\")"
   ]
  },
  {
   "cell_type": "markdown",
   "metadata": {
    "id": "1e5Jtm36Ycki"
   },
   "source": [
    "<h2 align=\"center\">ხშირად დასმული კითხვები</h2>\n",
    "\n",
    "- ქვევით მოყვანილია კითხვები, რომლებიც გაუჩნდათ რეალურ სტუდენტებს ამ სავარჯიშოს შესრულებისას:\n",
    "\n",
    "\n",
    "1. **შეიძლება ორმაგი ბრჭყალების გამოყენება `prompt` ცვლადისთვის.**\n",
    "\n",
    "   კი, შეგიძლია. გამოსცადეთ.\n",
    "   \n",
    "   \n",
    "2. **მე მიგდებს შეცდომას: `NameError: name 'prompt' is not defined`.**\n",
    "\n",
    "   თქვენ ან არასწორად შეიყანეთ ცვლადის დასახელება, ან საერთოდ გამოგრჩათ ეგ სტრიქონი. \n",
    "   \n",
    "   დაუბრუნდით კოდს და გადაამოწმეთ კოდის თითოეული  სტრიქონი."
   ]
  },
  {
   "cell_type": "markdown",
   "metadata": {
    "id": "4gGrOISaYckh"
   },
   "source": [
    "<h2 align=\"center\">სამუშაო დავალება</h2>\n",
    "\n",
    "\n",
    "1. შეცვალეთ `prompt`-ის ცვლადი საერთოდ სხვა რამეზე.\n",
    "\n",
    "2. დაამატეთ კიდევ ერთი არგუმენტი, რომელსაც სკრიპტში გამოიყენებთ. \n",
    "\n",
    "   **მინიშნება**: შეგიძლიათ წინა დავალებაში ჩაიხედოთ (`first, second = argv`).\n",
    "\n",
    "3. დარწმუნდით, რომ გესმით, როგორ დავაკომბინირეთ `format` და **სამი ორმაგი ბრჭყალი** სკრიპტის ბოლო `print()`-ში. \n"
   ]
  },
  {
   "cell_type": "markdown",
   "metadata": {
    "id": "DqPstivsYckk"
   },
   "source": [
    "<h1 align=\"center\">სავარჯიშოს დასასრული</h1>"
   ]
  }
 ],
 "metadata": {
  "colab": {
   "collapsed_sections": [],
   "name": "Example for ex_10.ipynb",
   "provenance": [
    {
     "file_id": "1gA41PQJ9EnKxnFPmClTRFD5RcQUVHfzr",
     "timestamp": 1601916899165
    },
    {
     "file_id": "https://github.com/stsiskaridze/ISU/blob/master/R527/ex_02.ipynb",
     "timestamp": 1601912049891
    }
   ]
  },
  "kernelspec": {
   "display_name": "Python 3",
   "language": "python",
   "name": "python3"
  },
  "language_info": {
   "codemirror_mode": {
    "name": "ipython",
    "version": 3
   },
   "file_extension": ".py",
   "mimetype": "text/x-python",
   "name": "python",
   "nbconvert_exporter": "python",
   "pygments_lexer": "ipython3",
   "version": "3.7.3"
  }
 },
 "nbformat": 4,
 "nbformat_minor": 1
}
