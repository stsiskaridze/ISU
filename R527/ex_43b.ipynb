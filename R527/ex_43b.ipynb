{
 "cells": [
  {
   "cell_type": "markdown",
   "metadata": {
    "id": "WDDFQrf4Ycht"
   },
   "source": [
    "**R527 - დაპროგრამება პითონში**\n",
    "<br>\n",
    "თარიღი: **4 დეკემბერი 2020**\n",
    "<br>\n",
    "\n",
    "სათაური: **სავარჯიშო 43ბ**\n",
    "<br>\n",
    "მომხსენებელი: **შოთა ცისკარიძე**"
   ]
  },
  {
   "cell_type": "markdown",
   "metadata": {
    "id": "fYkwmIWkYchw"
   },
   "source": [
    "<h1 align=\"center\">სავარჯიშო 43ბ: ოქროს საწმისი</h1>"
   ]
  },
  {
   "cell_type": "code",
   "execution_count": 68,
   "metadata": {},
   "outputs": [],
   "source": [
    "from sys import exit\n",
    "from random import randint\n",
    "from textwrap import dedent"
   ]
  },
  {
   "cell_type": "code",
   "execution_count": 96,
   "metadata": {},
   "outputs": [],
   "source": [
    "region_Map = {\n",
    "            'თბილისი': ['მცხეთა-მთიანეთი', 'ქვემო-ქართლი'],\n",
    "            'ქვემო-ქართლი': ['თბილისი', 'შიდა-ქართლი', 'სამცხე-ჯავახეთი', 'კახეთი'],\n",
    "            'მცხეთა-მთიანეთი': ['თბილისი', 'შიდა-ქართლი', 'ქვემო-ქართლი', 'კახეთი'],\n",
    "            'კახეთი': ['თბილისი', 'მცხეთა-მთიანეთი'],\n",
    "            'შიდა-ქართლი': ['რაჭა-ლეჩხუმი', 'მცხეთა-მთიანეთი', 'სამცხე-ჯავახეთი', 'იმერეთი', 'ქვემო-ქართლი'],\n",
    "            'იმერეთი': ['გურია', 'სამეგრელო', 'რაჭა-ლეჩხუმი', 'სამცხე-ჯავახეთი', 'შიდა-ქართლი'],\n",
    "            'აჭარა': ['გურია', 'სამცხე-ჯავახეთი'],\n",
    "            'აბხაზეთი': ['სამეგრელო'],\n",
    "            'სამეგრელო': ['აბხაზეთი', 'გურია', 'რაჭა-ლეჩხუმი', 'იმერეთი'],\n",
    "            'რაჭა-ლეჩხუმი': ['სამეგრელო', 'იმერეთი', 'შიდა-ქართლი'],\n",
    "            }\n",
    "\n",
    "global tries\n",
    "tries = 0"
   ]
  },
  {
   "cell_type": "code",
   "execution_count": 97,
   "metadata": {},
   "outputs": [
    {
     "name": "stdout",
     "output_type": "stream",
     "text": [
      "მცხეთა-მთიანეთი\n",
      "ქვემო-ქართლი\n"
     ]
    }
   ],
   "source": [
    "for i in region_Map['თბილისი']:\n",
    "    print(i)"
   ]
  },
  {
   "cell_type": "code",
   "execution_count": 98,
   "metadata": {},
   "outputs": [],
   "source": [
    "class Region(object):\n",
    "    \n",
    "    global tries\n",
    "\n",
    "    def enter(self):\n",
    "        pass"
   ]
  },
  {
   "cell_type": "code",
   "execution_count": 99,
   "metadata": {},
   "outputs": [],
   "source": [
    "class Engine(object):\n",
    "    \n",
    "    def __init__(self, region_map):\n",
    "        self.region_map = region_map\n",
    "        \n",
    "    def play(self):\n",
    "        current_region = self.region_map.opening()\n",
    "        \n",
    "        while current_region:\n",
    "            next_region_name = current_region.enter()\n",
    "            current_region = self.region_map.next_region(next_region_name)"
   ]
  },
  {
   "cell_type": "code",
   "execution_count": 100,
   "metadata": {},
   "outputs": [],
   "source": [
    "class Timeout(Region):\n",
    "\n",
    "    def enter(self):\n",
    "        print(\"თქვენი დრო ამოიწურა! მოგვიანებით ისევ სცადეთ!\")\n",
    "        exit(1)"
   ]
  },
  {
   "cell_type": "code",
   "execution_count": 101,
   "metadata": {},
   "outputs": [],
   "source": [
    "class Victory(Region):\n",
    "\n",
    "    def enter(self):\n",
    "        print(\"ვაშაა, თქვენ იპოვეთ ოქროს საწმისი!\")\n",
    "        exit(1)"
   ]
  },
  {
   "cell_type": "code",
   "execution_count": 102,
   "metadata": {},
   "outputs": [],
   "source": [
    "class Tbilisi(Region):\n",
    "\n",
    "    def enter(self):\n",
    "        print(\"თქვენ იმყოფებით თბილისში. საქართველოს დედაქალაქში!\")\n",
    "        print(\"თბილისიდან თქვენ შეგიძლიათ გადახვიდეთ:\")\n",
    "        for i in region_Map['თბილისი']:\n",
    "            print(i)\n",
    "        \n",
    "        action = input(\"გსურთ აქ ეძებოთ ოქროს საწმისი?> \")\n",
    "        \n",
    "        if action == \"კი\":\n",
    "            golden_rune = randint(1,10)\n",
    "            if golden_rune == 1:\n",
    "                return 'ვაშაა'\n",
    "            elif tries == 10:\n",
    "                return 'დრო-ამოიწურა'\n",
    "            else: \n",
    "                tries += 1\n",
    "        else:\n",
    "            pass                \n",
    "    \n",
    "        action = input(\"საით გინდათ წახვიდეთ?> \")\n",
    "        \n",
    "        if action == \"მცხეთა-მთიანეთი\":\n",
    "            print(\"გიურვებთ ბედნიერ მგზავრობას!\")\n",
    "            return 'მცხეთა-მთიანეთი'\n",
    "        \n",
    "        elif action == \"ქვემო-ქართლი\":\n",
    "            print(\"გიურვებთ ბედნიერ მგზავრობას!\")\n",
    "            return 'ქვემო-ქართლი'"
   ]
  },
  {
   "cell_type": "code",
   "execution_count": 103,
   "metadata": {},
   "outputs": [],
   "source": [
    "class Mtskheta_Mtianeti(Region):\n",
    "\n",
    "    def enter(self):\n",
    "        print(dedent(\"\"\"\n",
    "            მცხეთა-მთიანეთის მხარე აღმოსავლეთ საქართველოში მდებარეობს.\n",
    "            ის მოიცავს შემდეგ ისტორიულ-გეოგრაფიულ პროვინციებს: \n",
    "            ხევი, ერწო–თიანეთი, ფშავი, ხევსურეთი, მთიულეთი, გუდამაყარი და ნაწილობრივ ქსნისხევი. \n",
    "        \"\"\"))      \n",
    "        print(\"მცხეთა-მთიანეთიდან თქვენ შეგიძლიათ გადახვიდეთ:\")\n",
    "        for i in region_Map['მცხეთა-მთიანეთი']:\n",
    "            print(i)\n",
    "        \n",
    "        action = input(\"გსურთ აქ ეძებოთ ოქროს საწმისი?> \")\n",
    "        \n",
    "        if action == \"კი\":\n",
    "            golden_rune = randint(1,10)\n",
    "            if golden_rune == 1:\n",
    "                return 'ვაშაა'\n",
    "            elif tries > 5:\n",
    "                return 'დრო-ამოიწურა'\n",
    "            else: \n",
    "                tries += 1\n",
    "        else:\n",
    "            pass                \n",
    "    \n",
    "        action = input(\"საით გინდათ წახვიდეთ?> \")\n",
    "        \n",
    "        if action == \"თბილისი\":\n",
    "            print(\"გიურვებთ ბედნიერ მგზავრობას!\")\n",
    "            return 'თბილისი'\n",
    "        \n",
    "        elif action == \"ქვემო-ქართლი\":\n",
    "            print(\"გიურვებთ ბედნიერ მგზავრობას!\")\n",
    "            return 'ქვემო-ქართლი'"
   ]
  },
  {
   "cell_type": "code",
   "execution_count": 104,
   "metadata": {},
   "outputs": [],
   "source": [
    "class Kvemo_Kartli(Region):\n",
    "\n",
    "    def enter(self):\n",
    "        print(dedent(\"\"\"\n",
    "            ქვემო ქართლის რეგიონი საქართველოს სამხრეთ-აღმოსავლეთ ნაწილში მდებარეობს.\n",
    "        \"\"\"))      \n",
    "        print(\"ქვემო-ქართლდან თქვენ შეგიძლიათ გადახვიდეთ:\")\n",
    "        for i in region_Map['ქვემო-ქართლი']:\n",
    "            print(i)\n",
    "        \n",
    "        action = input(\"გსურთ აქ ეძებოთ ოქროს საწმისი?> \")\n",
    "        \n",
    "        if action == \"კი\":\n",
    "            golden_rune = randint(1,10)\n",
    "            if golden_rune == 1:\n",
    "                return 'ვაშაა'\n",
    "            elif tries == 10:\n",
    "                return 'დრო-ამოიწურა'\n",
    "            else: \n",
    "                tries += 1\n",
    "        else:\n",
    "            pass                \n",
    "    \n",
    "        action = input(\"საით გინდათ წახვიდეთ?> \")\n",
    "        \n",
    "        if action == \"თბილისი\":\n",
    "            print(\"გიურვებთ ბედნიერ მგზავრობას!\")\n",
    "            return 'თბილისი'\n",
    "        \n",
    "        elif action == \"მცხეთა-მთიანეთი\":\n",
    "            print(\"გიურვებთ ბედნიერ მგზავრობას!\")\n",
    "            return 'მცხეთა-მთიანეთი'"
   ]
  },
  {
   "cell_type": "code",
   "execution_count": 105,
   "metadata": {},
   "outputs": [],
   "source": [
    "class Map(object):\n",
    "\n",
    "    regions = {\n",
    "        'თბილისი': Tbilisi(),\n",
    "        'მცხეთა-მთიანეთი': Mtskheta_Mtianeti(),\n",
    "        'ქვემო-ქართლი': Kvemo_Kartli(),\n",
    "        #'კახეთი': Kakheti(),\n",
    "        #'შიდა-ქართლი': Shida_Kartli(),\n",
    "        #'იმერეთი': Imereti(),\n",
    "        #'სამცხე-ჯავახეთი': Samckhe_Javakheti(),\n",
    "        #'რაჭა-ლეჩხუმი': Racha_Lechkhumi(),\n",
    "        #'გურია': Guria(),\n",
    "        #'აჭარა': Adchara(),\n",
    "        #'სამეგრელო': Samegrelo(),\n",
    "        #'აფხაზეთი': Apkhazeti(),\n",
    "        'დრო-ამოიწურა': Timeout(),\n",
    "        'ვაშაა': Victory()\n",
    "    }\n",
    "\n",
    "    def __init__(self, start_region):\n",
    "        self.start_region = start_region\n",
    "\n",
    "    def next_region(self, start_region):\n",
    "        reg = Map.regions.get(start_region)\n",
    "        return reg\n",
    "\n",
    "    def opening(self):\n",
    "        return self.next_region(self.start_region)"
   ]
  },
  {
   "cell_type": "code",
   "execution_count": 107,
   "metadata": {
    "scrolled": false
   },
   "outputs": [
    {
     "name": "stdout",
     "output_type": "stream",
     "text": [
      "თქვენ იმყოფებით თბილისში. საქართველოს დედაქალაქში!\n",
      "თბილისიდან თქვენ შეგიძლიათ გადახვიდეთ:\n",
      "მცხეთა-მთიანეთი\n",
      "ქვემო-ქართლი\n",
      "გსურთ აქ ეძებოთ ოქროს საწმისი?> კი\n"
     ]
    },
    {
     "ename": "UnboundLocalError",
     "evalue": "local variable 'tries' referenced before assignment",
     "output_type": "error",
     "traceback": [
      "\u001b[1;31m---------------------------------------------------------------------------\u001b[0m",
      "\u001b[1;31mUnboundLocalError\u001b[0m                         Traceback (most recent call last)",
      "\u001b[1;32m<ipython-input-107-997408ba4ebd>\u001b[0m in \u001b[0;36m<module>\u001b[1;34m\u001b[0m\n\u001b[0;32m      1\u001b[0m \u001b[0mreg\u001b[0m \u001b[1;33m=\u001b[0m \u001b[0mMap\u001b[0m\u001b[1;33m(\u001b[0m\u001b[1;34m'თბილისი'\u001b[0m\u001b[1;33m)\u001b[0m\u001b[1;33m\u001b[0m\u001b[1;33m\u001b[0m\u001b[0m\n\u001b[0;32m      2\u001b[0m \u001b[0mgame\u001b[0m \u001b[1;33m=\u001b[0m \u001b[0mEngine\u001b[0m\u001b[1;33m(\u001b[0m\u001b[0mreg\u001b[0m\u001b[1;33m)\u001b[0m\u001b[1;33m\u001b[0m\u001b[1;33m\u001b[0m\u001b[0m\n\u001b[1;32m----> 3\u001b[1;33m \u001b[0mgame\u001b[0m\u001b[1;33m.\u001b[0m\u001b[0mplay\u001b[0m\u001b[1;33m(\u001b[0m\u001b[1;33m)\u001b[0m\u001b[1;33m\u001b[0m\u001b[1;33m\u001b[0m\u001b[0m\n\u001b[0m",
      "\u001b[1;32m<ipython-input-99-052bf310f43e>\u001b[0m in \u001b[0;36mplay\u001b[1;34m(self)\u001b[0m\n\u001b[0;32m      8\u001b[0m \u001b[1;33m\u001b[0m\u001b[0m\n\u001b[0;32m      9\u001b[0m         \u001b[1;32mwhile\u001b[0m \u001b[0mcurrent_region\u001b[0m\u001b[1;33m:\u001b[0m\u001b[1;33m\u001b[0m\u001b[1;33m\u001b[0m\u001b[0m\n\u001b[1;32m---> 10\u001b[1;33m             \u001b[0mnext_region_name\u001b[0m \u001b[1;33m=\u001b[0m \u001b[0mcurrent_region\u001b[0m\u001b[1;33m.\u001b[0m\u001b[0menter\u001b[0m\u001b[1;33m(\u001b[0m\u001b[1;33m)\u001b[0m\u001b[1;33m\u001b[0m\u001b[1;33m\u001b[0m\u001b[0m\n\u001b[0m\u001b[0;32m     11\u001b[0m             \u001b[0mcurrent_region\u001b[0m \u001b[1;33m=\u001b[0m \u001b[0mself\u001b[0m\u001b[1;33m.\u001b[0m\u001b[0mregion_map\u001b[0m\u001b[1;33m.\u001b[0m\u001b[0mnext_region\u001b[0m\u001b[1;33m(\u001b[0m\u001b[0mnext_region_name\u001b[0m\u001b[1;33m)\u001b[0m\u001b[1;33m\u001b[0m\u001b[1;33m\u001b[0m\u001b[0m\n",
      "\u001b[1;32m<ipython-input-102-c2b00951d4d5>\u001b[0m in \u001b[0;36menter\u001b[1;34m(self)\u001b[0m\n\u001b[0;32m     13\u001b[0m             \u001b[1;32mif\u001b[0m \u001b[0mgolden_rune\u001b[0m \u001b[1;33m==\u001b[0m \u001b[1;36m1\u001b[0m\u001b[1;33m:\u001b[0m\u001b[1;33m\u001b[0m\u001b[1;33m\u001b[0m\u001b[0m\n\u001b[0;32m     14\u001b[0m                 \u001b[1;32mreturn\u001b[0m \u001b[1;34m'ვაშაა'\u001b[0m\u001b[1;33m\u001b[0m\u001b[1;33m\u001b[0m\u001b[0m\n\u001b[1;32m---> 15\u001b[1;33m             \u001b[1;32melif\u001b[0m \u001b[0mtries\u001b[0m \u001b[1;33m==\u001b[0m \u001b[1;36m10\u001b[0m\u001b[1;33m:\u001b[0m\u001b[1;33m\u001b[0m\u001b[1;33m\u001b[0m\u001b[0m\n\u001b[0m\u001b[0;32m     16\u001b[0m                 \u001b[1;32mreturn\u001b[0m \u001b[1;34m'დრო-ამოიწურა'\u001b[0m\u001b[1;33m\u001b[0m\u001b[1;33m\u001b[0m\u001b[0m\n\u001b[0;32m     17\u001b[0m             \u001b[1;32melse\u001b[0m\u001b[1;33m:\u001b[0m\u001b[1;33m\u001b[0m\u001b[1;33m\u001b[0m\u001b[0m\n",
      "\u001b[1;31mUnboundLocalError\u001b[0m: local variable 'tries' referenced before assignment"
     ]
    }
   ],
   "source": [
    "reg = Map('თბილისი')\n",
    "game = Engine(reg)\n",
    "game.play()"
   ]
  },
  {
   "cell_type": "markdown",
   "metadata": {
    "id": "DqPstivsYckk"
   },
   "source": [
    "<h1 align=\"center\">სავარჯიშოს დასასრული</h1>"
   ]
  }
 ],
 "metadata": {
  "colab": {
   "collapsed_sections": [],
   "name": "Example for ex_10.ipynb",
   "provenance": [
    {
     "file_id": "1gA41PQJ9EnKxnFPmClTRFD5RcQUVHfzr",
     "timestamp": 1601916899165
    },
    {
     "file_id": "https://github.com/stsiskaridze/ISU/blob/master/R527/ex_02.ipynb",
     "timestamp": 1601912049891
    }
   ]
  },
  "kernelspec": {
   "display_name": "Python 3",
   "language": "python",
   "name": "python3"
  },
  "language_info": {
   "codemirror_mode": {
    "name": "ipython",
    "version": 3
   },
   "file_extension": ".py",
   "mimetype": "text/x-python",
   "name": "python",
   "nbconvert_exporter": "python",
   "pygments_lexer": "ipython3",
   "version": "3.7.3"
  }
 },
 "nbformat": 4,
 "nbformat_minor": 1
}
