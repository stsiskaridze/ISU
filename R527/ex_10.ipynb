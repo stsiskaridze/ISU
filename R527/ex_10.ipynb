{
 "cells": [
  {
   "cell_type": "markdown",
   "metadata": {
    "id": "WDDFQrf4Ycht"
   },
   "source": [
    "**R527 - დაპროგრამება პითონში**\n",
    "<br>\n",
    "თარიღი: **9 ოქტომბერი 2020**\n",
    "<br>\n",
    "\n",
    "სათაური: **სავარჯიშო 10**\n",
    "<br>\n",
    "მომხსენებელი: **შოთა ცისკარიძე**\n",
    "\n",
    "\n",
    "ბიბლიოგრაფია:\n",
    "<br> \n",
    " **სავარჯიშო 10.** Zed Shaw, *Learn Python 3 the Hard Way*, Addison Wesley (Verlag), 2017"
   ]
  },
  {
   "cell_type": "markdown",
   "metadata": {
    "id": "fYkwmIWkYchw"
   },
   "source": [
    "<h1 align=\"center\">სავარჯიშო 10: დედა რა იყო ეს?</h1>"
   ]
  },
  {
   "cell_type": "markdown",
   "metadata": {
    "id": "sRM4k6-aYch3"
   },
   "source": [
    "- სავარჯიშო 9-ში ჩვენ შემოვიღეთ ახალი მასალა: ვნახეთ ორი მეთოდი, თუ როგორც დავბეჭდოთ ჩვენი სტრინგი რამდენიმე ხაზზე.\n",
    "\n",
    "\n",
    "- ჩვენ შემოვიტანეთ `\\n` (backslash n) თვეების დასახელებებს შორის. ეს ორი ელემენტი **ახალ ხაზს** ამატებს სტრინგენში.\n",
    "\n",
    "\n",
    "- ბექსლეში `\\` საშუალებას გვაძლებს, თავი დავაღწიოთ სტრინგს და ჩავსვათ მასში კოდის ნაწილი. ამ მეთოდს ეწოდება **escape sequence**. \n",
    "\n",
    "  escape sequence-ის მნიშვნელოვანი გამოყენებაა, როდესაც ჩვენ გვინდა დავბეჭდოთ ბრჭყალება ჩვენი სტრინგის ნაწილად:\n",
    "\n",
    "\n",
    "- თუ დავბეჭდავთ პირდაპირ `\"მე \"მესმის\" შენი\"`, *მესმის* გარშემო ბრჭყალს `Python` აღიქვამს, როგორც სტრინგის დასასრულს და ბოლოს ამოაგდებს სინტაქსის შეცდომას.\n",
    "\n",
    "**პირველი მეთოდია**, გამოვიყენოთ escape sequence:\n",
    " - \"ჩვენი კურსის დასახელებაა `\\`\"დაპროგრამება პითონში`\\`\".\"\n",
    " - 'ცალი ბრჭყალი `\\`'ასე .' "
   ]
  },
  {
   "cell_type": "code",
   "execution_count": 4,
   "metadata": {
    "colab": {
     "base_uri": "https://localhost:8080/",
     "height": 51
    },
    "executionInfo": {
     "elapsed": 818,
     "status": "ok",
     "timestamp": 1601974969364,
     "user": {
      "displayName": "Veronika Tsiskaridze",
      "photoUrl": "",
      "userId": "14609060841114149670"
     },
     "user_tz": -240
    },
    "id": "CV4H7To9Ych_",
    "outputId": "793f0aff-19eb-43c9-aa2b-fd1459a5ed10"
   },
   "outputs": [
    {
     "name": "stdout",
     "output_type": "stream",
     "text": [
      "ჩვენი კურსის დასახელებაა \"დაპროგრამება პითონში\".\n",
      "ცალი ბრჭყალი 'ასე .\n"
     ]
    }
   ],
   "source": [
    "print(\"ჩვენი კურსის დასახელებაა \\\"დაპროგრამება პითონში\\\".\")  #ჩვენ ვაესქეიფებთ ორმაგ ბრჭყალებს სტრინგში\n",
    "print('ცალი ბრჭყალი \\'ასე .' )                               #ჩვენ ვაესქეიფებთ ცალ ბრჭყალებს სტრინგში"
   ]
  },
  {
   "cell_type": "markdown",
   "metadata": {
    "id": "IZaYmLmzJQrV"
   },
   "source": [
    "**მეორე მეთოდია**, გამოვიყენოთ სამი ორმაგი ბრჭყალი `\"\"\"`. : ის ასევე სტრინგად იმუშავებს, მაგრამ იმდენი ხაზის დაბეჭდვა შეგვეძლება, რამდენიც გვინდა."
   ]
  },
  {
   "cell_type": "markdown",
   "metadata": {
    "id": "xoZxxqKUJ03B"
   },
   "source": [
    "<h4> ახლა კი გავარჩიოთ სავარჯოშო 10: </h4>"
   ]
  },
  {
   "cell_type": "code",
   "execution_count": 6,
   "metadata": {
    "colab": {
     "base_uri": "https://localhost:8080/",
     "height": 204
    },
    "executionInfo": {
     "elapsed": 721,
     "status": "ok",
     "timestamp": 1601975235429,
     "user": {
      "displayName": "Veronika Tsiskaridze",
      "photoUrl": "",
      "userId": "14609060841114149670"
     },
     "user_tz": -240
    },
    "id": "ES2yhvD-KCEH",
    "outputId": "a43bbdfc-2e09-4b18-8652-41abdd152c07",
    "scrolled": false
   },
   "outputs": [
    {
     "name": "stdout",
     "output_type": "stream",
     "text": [
      "\tI'm tabben in.\n",
      "I'm split\n",
      "on a line.\n",
      "I'm \\ a \\ cat.\n",
      "\n",
      "I'll do a list:\n",
      "\t* Cat food\n",
      "\t* Fishes\n",
      "\t* Catnip\n",
      "\t* Grass\n",
      "\n"
     ]
    }
   ],
   "source": [
    "tabby_cat = \"\\tI'm tabbed in.\"\n",
    "persian_cat = \"I'm split\\non a line.\"\n",
    "backslash_cat = \"I'm \\\\ a \\\\ cat.\"\n",
    "\n",
    "fat_cat = \"\"\"\n",
    "I'll do a list:\n",
    "\\t* Cat food\n",
    "\\t* Fishes\n",
    "\\t* Catnip\\n\\t* Grass\n",
    "\"\"\"\n",
    "\n",
    "print(tabby_cat)\n",
    "print(persian_cat)\n",
    "print(backslash_cat)\n",
    "print(fat_cat)"
   ]
  },
  {
   "cell_type": "markdown",
   "metadata": {
    "id": "sRM4k6-aYch3"
   },
   "source": [
    "- ქვემოთ მოცემულია ყველაზე პოპულარული escape-ების ჩამონათვალი. შეეცადეთ დაიმახსოვროთ ისინი.\n",
    "\n",
    "\n",
    "| Escape-ი   | რას აკეთებს?                                        |\n",
    "|:----------:|:------------------------------------------------------------|\n",
    "| \\\\         | Backslash (\\)                                               |\n",
    "| \\'         | Single-quote (’)                                            |\n",
    "| \\\"         | Double-quote (”)                                            |\n",
    "| \\a         | ASCII bell (BEL)                                            |\n",
    "| \\b         | ASCII backspace (BS)                                        |\n",
    "| \\f         | ASCII formfeed (FF)                                         |\n",
    "| \\n         | ASCII linefeed (LF)                                         |\n",
    "| \\N{name}   | Character named name in the Unicode database (Unicode only) |\n",
    "| \\r         | Carriage Return (CR)                                        |\n",
    "| \\t         | Horizontal Tab (TAB)                                        |\n",
    "| \\uxxxx     | Character with 16-bit hex value xxxx                        |\n",
    "| \\Uxxxxxxxx | Character with 32-bit hex value xxxxxxxx                    |\n",
    "| \\v         | ASCII vertical tab (VT)                                     |\n",
    "| \\ooo       | Character with octal value ooo                              |\n",
    "| \\xhh       | Character with hex value hh                                 |\n",
    "\n",
    "\n",
    "- **განმარტება**: **ASCII** stands for **A**merican **S**tandard **C**ode for **I**nformation **I**nterchange. "
   ]
  },
  {
   "cell_type": "markdown",
   "metadata": {
    "id": "K6vmKEXBYcis"
   },
   "source": [
    "<h2 align=\"center\">რუბრიკა \"ბოროტი მანტიორი\"</h2>\n",
    "\n",
    "- ჩვენ ხშირად შევცვლით კოდს, რომ დავადგინოთ მისი გაშვების საზღვრები.\n",
    "\n",
    "\n",
    "- ქვევით მოყვანილია **კოდის მაგალითები** რომლებიც **არ კომპილირდება** და **იძლევა შეცდომას**. \n",
    "\n",
    "\n",
    "- **გაარჩიეთ** თითოეული მათგანი და **გაასწორეთ შეცდომები**!"
   ]
  },
  {
   "cell_type": "code",
   "execution_count": null,
   "metadata": {
    "id": "b8sU2mdaYcit"
   },
   "outputs": [],
   "source": []
  },
  {
   "cell_type": "code",
   "execution_count": null,
   "metadata": {
    "id": "YTh7X9wNYcj_"
   },
   "outputs": [],
   "source": []
  },
  {
   "cell_type": "markdown",
   "metadata": {
    "id": "4gGrOISaYckh"
   },
   "source": [
    "<h2 align=\"center\">სამუშაო დავალება</h2>\n",
    "\n",
    "\n",
    "1. დაიმახსოვრეთ ყველა escape.\n",
    "\n",
    "2. გამოიყენეთ სამმაგი ცალი ბრჭყალი ორმაგის მაგივრად `'''`. შეგიძლიათ თქვათ, თუ რა შემთხვევაში ამჯობინებთ მათ გამოყენებას?\n",
    "\n",
    "3. გამოიყენეთ ერთად escape და format სტრინგები, რათა შექმნათ უფრო კომპლექსური გამოსახულებები."
   ]
  },
  {
   "cell_type": "markdown",
   "metadata": {
    "id": "1e5Jtm36Ycki"
   },
   "source": [
    "<h2 align=\"center\">ხშირად დასმული კითხვები</h2>\n",
    "\n",
    "- ქვევით მოყვანილია კითხვები, რომლებიც გაუჩნდათ რეალურ სტუდენტებს ამ სავარჯიშოს შესრულებისას:\n",
    "\n",
    "\n",
    "1. ბოლო დავალება ჯერ კიდევ არ მესმის კარგად. აქვს თუ არა აზრი გავაგრძელო?\n",
    "\n",
    "   კი, არ გაჩერდეთ. ჯობია, რომ ჩამოწერო გაუგებარი საკითხები და პერიოდულად დაუბრუნდე ამ სიას, გადახედო, იქნებ უკვე ხვდები გამოსავალს.  წინა სავარჯიშოებში დაბრუნებაც შეიძლება დაგჭირდეს ხანდახან.\n",
    "   \n",
    "   \n",
    "2. რატომ არის `\\\\` განსაკუთრებული?\n",
    "\n",
    "   განსაკუთრებული არაა, უბრალოდ გზაა, როგორ დავწეროთ `\\` ჩვენს სტრინგში. დაფიქრდით, სად შეიძლება დაგჭირდეთ ეს სიმბოლო.\n",
    "\n",
    "\n",
    "3. როცა ვწერ `//` ან `/n`, კოდი არ მუშაობს.\n",
    "\n",
    "   ეს იმიტომაა, რომ სხვა სლეშია. ისინი სხვადასსხვა სიმბოლოებია განსხვავებული შინაარსის მატარებელით.\n",
    "   \n",
    "   \n",
    "4. მე არ მესმის მესამე საშინაო დავალებაში, როგორ გამოვიყენო ერთად escape და  format?\n",
    "\n",
    "    ერთი კონცეპტი, რომელიც მინდა გასწავლოთ, არის ის, რომ არის შესაძლებელი ამ ყველა დავალების კომბინირება ახალი საკითხის გადასაჭრელად. გამოიყენეთ თქვენი ცოდნა format-ის შესახებ ახალი კოდის დასაწერად და ასევე ჩასვით escape-ის მაგალითებიც, რომელიც ამ სავარჯიშოში ისწავლეთ.\n",
    "    \n",
    "\n",
    "5. რომელია უკეთესი: `\"\"\"` თუ `'''`?\n",
    "    \n",
    "    ეს დამოკიდებული თქვენს სტილზე. ამჯერად გამოიყენეთ `'''`, მაგრამ იყავით მზად გადაერთოთ.\n",
    "\n"
   ]
  },
  {
   "cell_type": "markdown",
   "metadata": {
    "id": "DqPstivsYckk"
   },
   "source": [
    "<h1 align=\"center\">სავარჯიშოს დასასრული</h1>"
   ]
  }
 ],
 "metadata": {
  "colab": {
   "collapsed_sections": [],
   "name": "Example for ex_10.ipynb",
   "provenance": [
    {
     "file_id": "1gA41PQJ9EnKxnFPmClTRFD5RcQUVHfzr",
     "timestamp": 1601916899165
    },
    {
     "file_id": "https://github.com/stsiskaridze/ISU/blob/master/R527/ex_02.ipynb",
     "timestamp": 1601912049891
    }
   ]
  },
  "kernelspec": {
   "display_name": "Python 3",
   "language": "python",
   "name": "python3"
  },
  "language_info": {
   "codemirror_mode": {
    "name": "ipython",
    "version": 3
   },
   "file_extension": ".py",
   "mimetype": "text/x-python",
   "name": "python",
   "nbconvert_exporter": "python",
   "pygments_lexer": "ipython3",
   "version": "3.7.3"
  }
 },
 "nbformat": 4,
 "nbformat_minor": 1
}
