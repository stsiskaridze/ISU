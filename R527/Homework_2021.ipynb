{
 "cells": [
  {
   "cell_type": "markdown",
   "metadata": {
    "slideshow": {
     "slide_type": "slide"
    }
   },
   "source": [
    "კურსი: **R527 - დაპროგრამება პითონში**\n",
    "\n",
    "სათაური: **საშინაო დავალება**\n",
    "\n",
    "\n",
    "ჩაბარების ბოლო ვადა: **15 თებერვალი 2021**\n",
    "\n",
    "\n",
    "საშინაო დავალება შედგება **10 ამოცანისაგან** და ფასდება **30 ქულით**.\n",
    "<br>\n",
    "თითოეული ამოცანა ფასდება **3 ქულით**."
   ]
  },
  {
   "cell_type": "markdown",
   "metadata": {
    "id": "nd-sTS9LIPJB"
   },
   "source": [
    "<h2 align=\"center\">ამოცანა 1: უნიკალური ელემენტები</h2>\n",
    "\n",
    "\n",
    "- მოცემულია მთელი რიცხვების სია. \n",
    "\n",
    "\n",
    "- დაწერეთ **პითონის კოდი**, რომელიც ღებულობს ამ სიას და აბრუნებს ამ სიის უნიკალურ ელემენტებისგან შემდგარ სიას.\n",
    "\n",
    "  $\\begin{matrix}\n",
    "  \\text{Input: } & [1,2,3,1,2,3,4,5,3,2,1,4]\\\\ \n",
    "  \\text{ Output:} & [1, 2, 3, 4, 5] \n",
    "  \\end{matrix}$"
   ]
  },
  {
   "cell_type": "code",
   "execution_count": 2,
   "metadata": {
    "id": "RLyBn_v_Ksl_"
   },
   "outputs": [],
   "source": [
    "# ამოხსნა 1"
   ]
  },
  {
   "cell_type": "markdown",
   "metadata": {
    "id": "529bm4m1K-Bv"
   },
   "source": [
    "<h2 align=\"center\">ამოცანა 2: განსხვავებული ელემენტები</h2>\n",
    "\n",
    "\n",
    "- მოცემულია ორი სია. \n",
    "\n",
    "\n",
    "- დაწერეთ **პითონის კოდი**, რომელიც ღებულობს ამ სიებს და აბრუმებს განსხვავებას ამ ომ სიას შორის (ისეთ ელემენტებს, რომლებიც ერთდროულად არ გხვდება ამ ორ სიაში): \n",
    "\n",
    "  $\\begin{matrix}\n",
    "  \\text{Input: } & list1 = [1,2,31,42,21]\\\\ \n",
    "                 & list2 = [1,2,433,21,41,42,43]\\\\ \n",
    "  \\text{ Output:} & [31, 433, 41, 43] \n",
    "  \\end{matrix}$"
   ]
  },
  {
   "cell_type": "code",
   "execution_count": 3,
   "metadata": {
    "id": "FUu_Ywj4LkZZ"
   },
   "outputs": [],
   "source": [
    "# ამოხსნა 2"
   ]
  },
  {
   "cell_type": "markdown",
   "metadata": {
    "id": "P9DjNOUSLnoB"
   },
   "source": [
    "<h2 align=\"center\">ამოცანა 3: უგრძელესი ელემენტი</h2>\n",
    "\n",
    "\n",
    "- მოცემულია სტრიქონებიდან შემდგარი სია.\n",
    "\n",
    "\n",
    "- დაწერეთ **პითონის კოდი**, რომელიც ღებულობს ამ სიას და აბრუმებს პირველ შემხვედრ ყველაზე გრძელ (სიმბოლოების რაოდენობის თვალსაზრისით) სტრიქონის ინდექს, მნიშვნელობას და სიგრძეს:\n",
    "\n",
    "  $\\begin{matrix}\n",
    "  \\text{Input: } & \\text{['ანა', 'ნანა', 'მანანა', 'ვარდოვნანა']}\\\\\n",
    "  \\text{ Output:} & \\text{3, 'ვარდოვნანა', 10}\n",
    "  \\end{matrix}$"
   ]
  },
  {
   "cell_type": "code",
   "execution_count": 4,
   "metadata": {
    "id": "tWSf8XlhM66S"
   },
   "outputs": [],
   "source": [
    "# ამოხსნა 3"
   ]
  },
  {
   "cell_type": "markdown",
   "metadata": {
    "id": "Kc4gFN9EM8Cm"
   },
   "source": [
    "<h2 align=\"center\">ამოცანა 4: დუბლირებული ჩანაწერი</h2>\n",
    "\n",
    "\n",
    "- მოცემულია ლექსიკონი, რომელშიც ორჯერ გვხვდება ერთი და იგივე პიროვნება, თუმცა არ ვიცით ვინ არის ის. \n",
    "\n",
    "\n",
    "- დაწერეთ **პითონის კოდი**, რომლეიც ღებულობს ამ ლექსიკონს და აბრუნებს დუბლირებულ პიროვნებას და გაასაჯაროებს მასზე ინფორმაციას."
   ]
  },
  {
   "cell_type": "code",
   "execution_count": 5,
   "metadata": {
    "id": "lkfPyW-gNc19"
   },
   "outputs": [],
   "source": [
    "პიროვნებები = {'1':\n",
    "  {'სახელი': ['ირაკლი'],\n",
    "   'ენები':['Python,C++.Java']\n",
    "  },\n",
    "'2':\n",
    " {'სახელი': ['ლევანი'],\n",
    "   'ენები': ['english, math, science']\n",
    "  },\n",
    "'3':\n",
    "   {'სახელი': ['ირაკლი'],\n",
    "   'ენები': ['Python,C++.Java']\n",
    "  },\n",
    "'4':\n",
    "  {'სახელი': ['გიორგი'],\n",
    "   'ენები': ['english, math, science']\n",
    "  },\n",
    "}"
   ]
  },
  {
   "cell_type": "code",
   "execution_count": 6,
   "metadata": {
    "colab": {
     "base_uri": "https://localhost:8080/",
     "height": 183
    },
    "executionInfo": {
     "elapsed": 286,
     "status": "error",
     "timestamp": 1638900733945,
     "user": {
      "displayName": "Shota Tsiskaridze",
      "photoUrl": "https://lh3.googleusercontent.com/a-/AOh14GjRPXf6C9vBsJQzBL7O3CLZ5vh2vwI2uUb2kDRI=s64",
      "userId": "02343106803913432273"
     },
     "user_tz": -240
    },
    "id": "2uOI8n3JOef5",
    "outputId": "73de54f4-42ed-4ac0-9c9e-37a7cbef91be"
   },
   "outputs": [],
   "source": [
    "# ამოხსნა 4"
   ]
  },
  {
   "cell_type": "markdown",
   "metadata": {
    "id": "4e4GzxToNuww"
   },
   "source": [
    "<h2 align=\"center\">ამოცანა 5: მნიშვნელობების ჯამი</h2>\n",
    "\n",
    "\n",
    "- მოცემულია ლექსიკონი. \n",
    "\n",
    "\n",
    "- დაწერეთ **პითონის კოდი**, რომლეიც ღებულობს ამ ლექსიკონს და აბრუნებს მოცემულ ლექსიკონში ყველა მნიშვნელობების ჯამს.\n",
    "\n",
    "  $\\begin{matrix}\n",
    "  \\text{Input: } & \\{'1':100,'2':-54,'3':247\\}\\\\\n",
    "  \\text{ Output:} & 293\n",
    "  \\end{matrix}$"
   ]
  },
  {
   "cell_type": "markdown",
   "metadata": {
    "id": "4e4GzxToNuww"
   },
   "source": [
    "<h2 align=\"center\">ამოცანა 6: არის თუ არა ეს სამკუთხედი?!</h2>\n",
    "\n",
    "- **ჯოსერს**, ძველი ეგვიპტის ფარაონს, სურს გაარკვიოს შესაძლებელია თუ არა მოცემული სამი მონაკვეთით სამკუთხედის აგება.\n",
    "\n",
    "\n",
    "- ამისთვის, მან სურს შექმნას კლასი `პირამიდა` (მისი წამოწყებულია \"პირამიდობანა\"), რომელსაც შეუძლია **მხოლოდ დადებითი რიცხვების მიღება** და რომელსაც გააჩნია მეთოდი `სამკუთხედი`, რომელიც (**სიტუაციიდან გამომდინარე**) ამბრუნებს შემდეგ მნიშვნელობებს:\n",
    "\n",
    "  - `დიახ, სამკუთხედის აგება შესაძლებელია!`\n",
    "  - `არა, მონაკვეთების სიგრძეები არათავსებადია!`\n",
    "  - `სამწუხაროდ უარყოფითი რიცხვები ჯერ არ მოუფიქრებიათ!`\n",
    "  - `არარიცხვებიდან სამკუთხედს ვერ ააგებ!`\n",
    "\n",
    "\n",
    "- დაეხმარეთ ფარაონს აღწერილი კლასის აშენებაში.\n",
    "\n",
    "\n",
    "- **მითითება**: ამოცანის ამოსახსნელად თქვენ შეგიძლიათ გამოიყენოთ **სამკუთხედის უტოლობა**."
   ]
  },
  {
   "cell_type": "code",
   "execution_count": 7,
   "metadata": {
    "id": "RLyBn_v_Ksl_"
   },
   "outputs": [],
   "source": [
    "# ამოხსნა 6"
   ]
  },
  {
   "cell_type": "markdown",
   "metadata": {
    "id": "529bm4m1K-Bv"
   },
   "source": [
    "<h2 align=\"center\">ამოცანა 7: პოპიდან ოოპამდე</h2>\n",
    "\n",
    "- მოცემულია მეთოდი, რომელიც ხსნის კვადრატულ განტოლებას **პროცედურებზე ორიენტირებული პროგრამირების** (**პოპ**) გამოეყენბით.\n",
    "\n",
    "\n",
    "- დაწერეთ **პითონის კოდი**, რომელიც აკეთებს იგივეს ოღონდ **ობიექტზე ორიენტირებული პროგრამირების** (**ოოპ**) გამოყენებით."
   ]
  },
  {
   "cell_type": "code",
   "execution_count": 8,
   "metadata": {
    "colab": {
     "base_uri": "https://localhost:8080/"
    },
    "executionInfo": {
     "elapsed": 253,
     "status": "ok",
     "timestamp": 1638342892570,
     "user": {
      "displayName": "Shota Tsiskaridze",
      "photoUrl": "https://lh3.googleusercontent.com/a-/AOh14GjRPXf6C9vBsJQzBL7O3CLZ5vh2vwI2uUb2kDRI=s64",
      "userId": "02343106803913432273"
     },
     "user_tz": -240
    },
    "id": "0PWIrhgj0nP3",
    "outputId": "b6672b52-b150-45b5-b4d9-4aa0513dabd6"
   },
   "outputs": [
    {
     "name": "stdout",
     "output_type": "stream",
     "text": [
      "(1.0, 2.0)\n"
     ]
    }
   ],
   "source": [
    "# ამოცანა 7\n",
    "\n",
    "import math #საჭიროა ფესვის ამოსაღებად\n",
    "\n",
    "def განტოლება(a,  b, c):\n",
    "    '''\n",
    "    ფუნქცია ღებულობს კვადრატული განტოლების ax^2 + bx + c = 0 კოეფიციენტებს, a, b, c;\n",
    "    ფუნქცია აბრუნებს კვადრატული განტოლების ფესვებს არსებობის შემთხვევაში;\n",
    "    ფესვების არარსებობის შემთხვევაში აბრუნებს შესაბამის შეტყობინებას.\n",
    "    '''\n",
    "    try:\n",
    "        sqrtD = math.sqrt(b*b - 4 * a * c)\n",
    "        x1 = (-b - sqrtD)/(2*a)\n",
    "        x2 = (-b + sqrtD)/(2*a)\n",
    "    except:\n",
    "        return \"განტოლებას არ გააჩნია ფესვი!\"\n",
    "    return x1, x2\n",
    "\n",
    "a, b, c = 1, -3, 2 # \n",
    "print(განტოლება(a, b, c))"
   ]
  },
  {
   "cell_type": "code",
   "execution_count": 9,
   "metadata": {
    "id": "FUu_Ywj4LkZZ"
   },
   "outputs": [],
   "source": [
    "# ამოხსნა 7"
   ]
  },
  {
   "cell_type": "markdown",
   "metadata": {
    "id": "P9DjNOUSLnoB"
   },
   "source": [
    "<h2 align=\"center\">ამოცანა 8: ბებია ბებია, რატომ გაქვს ასეთი დიდი თვალები?</h2>\n",
    "\n",
    "- მოცემულია ტრადიციული ქართული \"ოჯახის\" კლასების.\n",
    "\n",
    "\n",
    "- დაეხმარეთ ელისაბედს `super(class, self).function()`-ს გამოყენებით მოიპოვოს შესაბამისად: წითელი, სტაფილოსფერი, ყვითელი, მწვანე, ცისფერი და ლურჯი ბურთები.\n",
    "\n",
    "\n",
    "- აღწერეთ თუ როგორ (რა მიმდევრობით) არის ორგანიზებული **მეთოდის რეზოლუციის წესრიგი** (**MRO**).\n",
    "\n",
    "\n",
    "- **შენიშვნა**: `class`-ის იგულისხმება: **დედა, მამა, დედისდედა, დედისმამა, მამისდედა, მამისმამა**.\n",
    "\n"
   ]
  },
  {
   "cell_type": "code",
   "execution_count": 10,
   "metadata": {
    "colab": {
     "base_uri": "https://localhost:8080/"
    },
    "executionInfo": {
     "elapsed": 4,
     "status": "ok",
     "timestamp": 1638635014507,
     "user": {
      "displayName": "Shota Tsiskaridze",
      "photoUrl": "https://lh3.googleusercontent.com/a-/AOh14GjRPXf6C9vBsJQzBL7O3CLZ5vh2vwI2uUb2kDRI=s64",
      "userId": "02343106803913432273"
     },
     "user_tz": -240
    },
    "id": "tWSf8XlhM66S",
    "outputId": "9964fc5b-af37-480a-f434-1ac9683c1efb"
   },
   "outputs": [
    {
     "name": "stdout",
     "output_type": "stream",
     "text": [
      "მე მაქვს ყვითელი ბურთი!\n",
      "ალბათ იასამნისფერი ბურთი უნდა მქონოდა, მაგრამ მე არ მაქვს არცერთი ბურთი!\n"
     ]
    }
   ],
   "source": [
    "# ამოცანა 8\n",
    "\n",
    "class დედისდედა(object):\n",
    "    def ბურთი(self):\n",
    "        print(\"მე მაქვს წითელი ბურთი!\")\n",
    "\n",
    "class დედისმამა(object):\n",
    "    def ბურთი(self):\n",
    "        print(\"მე მაქვს სტაფილოსფერი ბურთი!\")\n",
    "\n",
    "class მამისდედა(object):\n",
    "    def ბურთი(self):\n",
    "        print(\"მე მაქვს ყვითელი ბურთი!\")\n",
    "\n",
    "class მამისმამა(object):\n",
    "    def ბურთი(self):\n",
    "        print(\"მე მაქვს მწვანე ბურთი!\")\n",
    "\n",
    "class დედა(დედისდედა, დედისმამა):\n",
    "    def ბურთი(self):\n",
    "        print(\"მე მაქვს ცისფერი ბურთი!\")\n",
    "\n",
    "class მამა(მამისდედა, მამისმამა):\n",
    "    def ბურთი(self):\n",
    "        print(\"მე მაქვს ლურჯი ბურთი!\")        \n",
    "        \n",
    "class შვილი(დედა, მამა):\n",
    "    def ბურთი(self):\n",
    "        super(მამა, self).ბურთი()\n",
    "        print(\"ალბათ იასამნისფერი ბურთი უნდა მქონოდა, მაგრამ მე არ მაქვს არცერთი ბურთი!\")\n",
    "\n",
    "ელისაბედი = შვილი()\n",
    "ელისაბედი.ბურთი()"
   ]
  },
  {
   "cell_type": "code",
   "execution_count": 11,
   "metadata": {},
   "outputs": [],
   "source": [
    "# ამოხსნა 8"
   ]
  },
  {
   "cell_type": "markdown",
   "metadata": {
    "id": "Kc4gFN9EM8Cm"
   },
   "source": [
    "<h2 align=\"center\">ამოცანა 9: ზოოპარკი</h2>\n",
    "\n",
    "- მოცემულია პითონის კოდი, სადაც მემკვიდრეობის გამოყენებით შექმნილია კლასები Animals, Falcon, Parrot და Zoo.\n",
    "\n",
    "\n",
    "- შეეცვალეთ კოდი ისე, რომ მემკვიდრეობის გამოყენბა არ დაგჭირდეთ.\n",
    "\n",
    "\n",
    "- **მითითება**: გამოიყენეთ **კომპოზიცია**."
   ]
  },
  {
   "cell_type": "code",
   "execution_count": 12,
   "metadata": {
    "colab": {
     "base_uri": "https://localhost:8080/"
    },
    "executionInfo": {
     "elapsed": 440,
     "status": "ok",
     "timestamp": 1638394310263,
     "user": {
      "displayName": "Shota Tsiskaridze",
      "photoUrl": "https://lh3.googleusercontent.com/a-/AOh14GjRPXf6C9vBsJQzBL7O3CLZ5vh2vwI2uUb2kDRI=s64",
      "userId": "02343106803913432273"
     },
     "user_tz": -240
    },
    "id": "lkfPyW-gNc19",
    "outputId": "cc9a338a-690d-446c-e4fd-1dcc2f48224f"
   },
   "outputs": [
    {
     "name": "stdout",
     "output_type": "stream",
     "text": [
      "{'Falcon': 'birds', 'Parrots': 'birds'}\n",
      "2\n"
     ]
    }
   ],
   "source": [
    "# ამოცანა 9\n",
    "\n",
    "class Animal:\n",
    "    name = \"\"\n",
    "    category = \"\"\n",
    "    \n",
    "    def __init__(self, name):\n",
    "        self.name = name\n",
    "    \n",
    "    def set_category(self, category):\n",
    "        self.category = category\n",
    "\n",
    "class Falcon(Animal):\n",
    "    category = \"birds\"\n",
    "\n",
    "class Parrots(Animal):\n",
    "    category = \"birds\"\n",
    "\n",
    "class Zoo:\n",
    "    def __init__(self):\n",
    "        self.current_animals = {}\n",
    "    \n",
    "    def add_animal(self, animal):\n",
    "        self.current_animals[animal.name] = animal.category\n",
    "    \n",
    "    def total_of_category(self, category):\n",
    "        result = 0\n",
    "        for animal in self.current_animals.values():\n",
    "            if animal == category:\n",
    "                result += 1\n",
    "        return result\n",
    "        \n",
    "zoo = Zoo()\n",
    "\n",
    "falcon = Falcon(\"Falcon\")             #create an instance of the Falcon class\n",
    "parrots = Parrots(\"Parrots\")          #create an instance of the Parrots class\n",
    "\n",
    "zoo.add_animal(falcon)\n",
    "zoo.add_animal(parrots)\n",
    "\n",
    "print(zoo.current_animals)            #how many animals are in zoo\n",
    "print(zoo.total_of_category(\"birds\")) #how many zoo animal types in the birds category\n"
   ]
  },
  {
   "cell_type": "code",
   "execution_count": null,
   "metadata": {
    "id": "2uOI8n3JOef5"
   },
   "outputs": [],
   "source": [
    "# ამოხსნა 9"
   ]
  },
  {
   "cell_type": "markdown",
   "metadata": {
    "id": "nd-sTS9LIPJB"
   },
   "source": [
    "<h2 align=\"center\">ამოცანა 10: შექმენი შენი ბიბლიოეკა</h2>\n",
    "\n",
    "- შექმენით თქვენი საკუთარი ბიბლიოთეკა პითონში სახელად `mypythonlib`, რომელსაც ექნება მეთოდი `myfunctions` და სადაც იქნება ფუნქცია `area`, რომელიც მიიღებს წრეწირის  რადიუსს როგორც პარამეტრს `r`-ს და დააბრუნებს ამ წერწირის ფართობს.\n",
    "\n",
    "\n",
    "- ამ დავალების შესასრულებლად შეგიძლიათ გამოიყენოთ შემდეგი <a href=\"https://medium.com/analytics-vidhya/how-to-create-a-python-library-7d5aea80cc3f\">წყარო</a>.\n",
    "\n",
    "\n",
    "- **ყურადღება**: არ დაგავიწყდეთ ბიბლიოთეკის შექმნის შემდეგ მისი დაყენება (`install`)."
   ]
  },
  {
   "cell_type": "code",
   "execution_count": null,
   "metadata": {
    "id": "2uOI8n3JOef5"
   },
   "outputs": [],
   "source": [
    "# ამოხსნა 10"
   ]
  }
 ],
 "metadata": {
  "kernelspec": {
   "display_name": "Python 3",
   "language": "python",
   "name": "python3"
  },
  "language_info": {
   "codemirror_mode": {
    "name": "ipython",
    "version": 3
   },
   "file_extension": ".py",
   "mimetype": "text/x-python",
   "name": "python",
   "nbconvert_exporter": "python",
   "pygments_lexer": "ipython3",
   "version": "3.8.5"
  }
 },
 "nbformat": 4,
 "nbformat_minor": 4
}
