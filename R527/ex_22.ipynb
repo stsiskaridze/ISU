{
 "cells": [
  {
   "cell_type": "markdown",
   "metadata": {
    "id": "WDDFQrf4Ycht"
   },
   "source": [
    "**R527 - დაპროგრამება პითონში**\n",
    "<br>\n",
    "თარიღი: **23 ოქტომბერი 2020**\n",
    "<br>\n",
    "\n",
    "სათაური: **სავარჯიშო 22**\n",
    "<br>\n",
    "მომხსენებელი: **შოთა ცისკარიძე**\n",
    "\n",
    "\n",
    "ბიბლიოგრაფია:\n",
    "<br> \n",
    " **სავარჯიშო 22.** Zed Shaw, *Learn Python 3 the Hard Way*, Addison Wesley (Verlag), 2017"
   ]
  },
  {
   "cell_type": "markdown",
   "metadata": {
    "id": "fYkwmIWkYchw"
   },
   "source": [
    "<h1 align=\"center\">სავარჯიშო 22: რა ვისწავლეთ აქამდე?</h1>"
   ]
  },
  {
   "cell_type": "markdown",
   "metadata": {
    "slideshow": {
     "slide_type": "fragment"
    }
   },
   "source": [
    "<center><img src=\"images/Ex_22_Intro.jpg\" width=\"500\"alt=\"Example\" /></center>"
   ]
  },
  {
   "cell_type": "markdown",
   "metadata": {
    "id": "sRM4k6-aYch3"
   },
   "source": [
    "- **ამ სავარჯიშოში კოდი არ იქნება**! თუმცა... უნდა გადავიმეოროთ ყველაფერი, რაც აქამდე ვისწავლეთ.\n",
    "\n",
    "\n",
    "- პირველი, გადახედეთ ყველა სავარჯიშოს და გამოიწერეთ ყველა ის სიტყვა და სიმბოლო, რაც გამოგვიყენებია ოდესმე. \n",
    "\n",
    "  **დარწმუნდით, რომ თქვენი სია სრულია!**\n",
    "\n",
    "\n",
    "- შემდეგ, მიაწერეთ ყველა სიტყვასა და სიმბოლოს მათი დასახელება და ფუნქცია (რისთვის გამოიყენება).\n",
    "\n",
    "  **საჭიროებისამებრ მიმართეთ ინტერნეტ-წყაროებს!**\n",
    "\n",
    "\n",
    "- გადმოიწერეთ რამდენჯერმე ეს სია, გაიმეორეთ თითოეული ხაზი. \n",
    "\n",
    "\n",
    "- რამდენიმე ხნის შემდეგ შეეცადეთ დაწეროთ ისე, როგორც დაიმახსომრეთ, **არ ჩაიხედოთ!**\n",
    "\n",
    "  გაიმეორეთ ეს სავარჯიშო მანამ, სანამ იდეალური ნაშრომი არ გექნებათ.\n",
    "\n",
    "\n",
    "- **არ გადაღალოთ ტვინი!**\n",
    "\n",
    "  უმჯობესია, 15-წუთიანი **მიდგომები** გქონდეთ, შემდეგ მცირე შესვენება, შემდეგ ისევ ვარჯიში."
   ]
  },
  {
   "cell_type": "markdown",
   "metadata": {
    "id": "DqPstivsYckk"
   },
   "source": [
    "<h1 align=\"center\">სავარჯიშოს დასასრული</h1>"
   ]
  }
 ],
 "metadata": {
  "colab": {
   "collapsed_sections": [],
   "name": "Example for ex_10.ipynb",
   "provenance": [
    {
     "file_id": "1gA41PQJ9EnKxnFPmClTRFD5RcQUVHfzr",
     "timestamp": 1601916899165
    },
    {
     "file_id": "https://github.com/stsiskaridze/ISU/blob/master/R527/ex_02.ipynb",
     "timestamp": 1601912049891
    }
   ]
  },
  "kernelspec": {
   "display_name": "Python 3",
   "language": "python",
   "name": "python3"
  },
  "language_info": {
   "codemirror_mode": {
    "name": "ipython",
    "version": 3
   },
   "file_extension": ".py",
   "mimetype": "text/x-python",
   "name": "python",
   "nbconvert_exporter": "python",
   "pygments_lexer": "ipython3",
   "version": "3.7.3"
  }
 },
 "nbformat": 4,
 "nbformat_minor": 1
}
