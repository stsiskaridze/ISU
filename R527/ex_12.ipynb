{
 "cells": [
  {
   "cell_type": "markdown",
   "metadata": {
    "id": "WDDFQrf4Ycht"
   },
   "source": [
    "**R527 - დაპროგრამება პითონში**\n",
    "<br>\n",
    "თარიღი: **9 ოქტომბერი 2020**\n",
    "<br>\n",
    "\n",
    "სათაური: **სავარჯიშო 12**\n",
    "<br>\n",
    "მომხსენებელი: **შოთა ცისკარიძე**\n",
    "\n",
    "\n",
    "ბიბლიოგრაფია:\n",
    "<br> \n",
    " **სავარჯიშო 12.** Zed Shaw, *Learn Python 3 the Hard Way*, Addison Wesley (Verlag), 2017"
   ]
  },
  {
   "cell_type": "markdown",
   "metadata": {
    "id": "fYkwmIWkYchw"
   },
   "source": [
    "<h1 align=\"center\">სავარჯიშო 12: უკარნახე ხალხს</h1>"
   ]
  },
  {
   "cell_type": "markdown",
   "metadata": {
    "id": "sRM4k6-aYch3"
   },
   "source": [
    "ფუნქციის არგუმენტები მოქცეულია `(` და `)` სიმბოლოებს შორის. მათ ჰქვია ფრჩხილები, ინგლისურად კი - parenthesis.\n",
    "\n",
    "`input` ფუნქციის გამოყენებისას შენ შეგიძლია უკარნახო ადამიანს, რა ინფორმაციის მიღება გსურს, შემდეგნაირად: `y = input(\"თქვენი სახელი? \")`\n",
    "\n",
    "ამ ფუნქციას გამოაქვს ადამიანის პასუხი და ის დამახსოვრებული იქნება ცვლადში `y`.\n",
    "ასე შეგიძლიათ დასვათ კითხა და მიიღოთ პასუხი."
   ]
  },
  {
   "cell_type": "markdown",
   "metadata": {
    "id": "IZaYmLmzJQrV"
   },
   "source": [
    "გამოდის, რომ წინა სავარჯიშო შეიძლება ასე გადმოვიწეროთ:"
   ]
  },
  {
   "cell_type": "code",
   "execution_count": 2,
   "metadata": {
    "colab": {
     "base_uri": "https://localhost:8080/",
     "height": 204
    },
    "executionInfo": {
     "elapsed": 721,
     "status": "ok",
     "timestamp": 1601975235429,
     "user": {
      "displayName": "Veronika Tsiskaridze",
      "photoUrl": "",
      "userId": "14609060841114149670"
     },
     "user_tz": -240
    },
    "id": "ES2yhvD-KCEH",
    "outputId": "a43bbdfc-2e09-4b18-8652-41abdd152c07",
    "scrolled": true
   },
   "outputs": [
    {
     "name": "stdout",
     "output_type": "stream",
     "text": [
      "რამდენი წლის ხარ? 24\n",
      "სიმაღლეში რამდენი ხარ? 151სმ\n",
      "რამდენი კილოგრამი ხარ? 51 კგ\n",
      "ანუ, შენ ხარ 24 წლის, შენი სიმაღლეა 151სმ და შენი წონაა 51 კგ.\n"
     ]
    }
   ],
   "source": [
    "age = input(\"რამდენი წლის ხარ? \")\n",
    "height = input(\"სიმაღლეში რამდენი ხარ? \")\n",
    "weight = input(\"რამდენი კილოგრამი ხარ? \")\n",
    "\n",
    "print(f\"ანუ, შენ ხარ {age} წლის, შენი სიმაღლეა {height} და შენი წონაა {weight}.\")"
   ]
  },
  {
   "cell_type": "markdown",
   "metadata": {
    "id": "K6vmKEXBYcis"
   },
   "source": [
    "<h2 align=\"center\">რუბრიკა \"ბოროტი მანტიორი\"</h2>\n",
    "\n",
    "- ჩვენ ხშირად შევცვლით კოდს, რომ დავადგინოთ მისი გაშვების საზღვრები.\n",
    "\n",
    "\n",
    "- ქვევით მოყვანილია **კოდის მაგალითები** რომლებიც **არ კომპილირდება** და **იძლევა შეცდომას**. \n",
    "\n",
    "\n",
    "- **გაარჩიეთ** თითოეული მათგანი და **გაასწორეთ შეცდომები**!"
   ]
  },
  {
   "cell_type": "code",
   "execution_count": null,
   "metadata": {
    "id": "b8sU2mdaYcit"
   },
   "outputs": [],
   "source": []
  },
  {
   "cell_type": "code",
   "execution_count": null,
   "metadata": {
    "id": "YTh7X9wNYcj_"
   },
   "outputs": [],
   "source": []
  },
  {
   "cell_type": "markdown",
   "metadata": {
    "id": "4gGrOISaYckh"
   },
   "source": [
    "<h2 align=\"center\">სამუშაო დავალება</h2>\n",
    "\n",
    "\n",
    "1. შეიყვანეთ ტერმინალში შემდეგი ტექსტი `pydoc input`. თუ Windows-ს იყენებთ, მაშინ ეს ტექსტი - `-m pydoc input` . წაიკითხეთ ის ინფორმაცია.\n",
    "\n",
    "2. გამოდით `pydoc`-დან ბრძანებით `q`.\n",
    "\n",
    "3. ინტერნეტში მოძებნეთ, თუ რისთვის გამოიყენება `pydoc`.\n",
    "\n",
    "4. გამოიყენეთ `pydoc`, რომ ასევე წაიკითხოთ `open`, `file`, `os` და `sys` შესახებ. არაუშავს, თუ ისინი არ გესმით; წაიკითხეთ ინფორმაცია და ჩამოწერეთ საინტერესო ფაქტები მათ შესახებ."
   ]
  },
  {
   "cell_type": "markdown",
   "metadata": {
    "id": "1e5Jtm36Ycki"
   },
   "source": [
    "<h2 align=\"center\">ხშირად დასმული კითხვები</h2>\n",
    "\n",
    "- ქვევით მოყვანილია კითხვები, რომლებიც გაუჩნდათ რეალურ სტუდენტებს ამ სავარჯიშოს შესრულებისას:\n",
    "\n",
    "\n",
    "1. `pydoc`-ის გაშვებისას მიჩვენებს შეცდომას `SyntaxError: invalid syntax`.\n",
    "\n",
    "   სავარაუდოდ, შენ გაუშვი `pydoc`-ი `python3.6`-დან და არა `command line`-დან. ჯერ გამოდი\n",
    "   \n",
    "   \n",
    "2. `pydoc`-ის გაშვებისას შეცდომას მიგდებს `more is not recognized as an internal`\n",
    "\n",
    "   Windows-ის ზოგ ვერსიას არ გააჩნია ზემოაღნიშნული ბრძანება, ამიტომ თქვენ შეგიძლიათ გამოტოვოთ ეს დავალება.\n",
    "   \n",
    "   \n",
    "3. რატომ არ შეიძლება დავწერო `print(\"How old are you?\", input())`?\n",
    "\n",
    "    შეგიძლია, მაგრამ `input()`-ის შედეგი არასოდეს შეინახება ცვლადში, და კოდი უცნაურად იმუშავებს. სცადეთ და ამოაპრინტეთ შედეგი."
   ]
  },
  {
   "cell_type": "markdown",
   "metadata": {
    "id": "DqPstivsYckk"
   },
   "source": [
    "<h1 align=\"center\">სავარჯიშოს დასასრული</h1>"
   ]
  }
 ],
 "metadata": {
  "colab": {
   "collapsed_sections": [],
   "name": "Example for ex_10.ipynb",
   "provenance": [
    {
     "file_id": "1gA41PQJ9EnKxnFPmClTRFD5RcQUVHfzr",
     "timestamp": 1601916899165
    },
    {
     "file_id": "https://github.com/stsiskaridze/ISU/blob/master/R527/ex_02.ipynb",
     "timestamp": 1601912049891
    }
   ]
  },
  "kernelspec": {
   "display_name": "Python 3",
   "language": "python",
   "name": "python3"
  },
  "language_info": {
   "codemirror_mode": {
    "name": "ipython",
    "version": 3
   },
   "file_extension": ".py",
   "mimetype": "text/x-python",
   "name": "python",
   "nbconvert_exporter": "python",
   "pygments_lexer": "ipython3",
   "version": "3.7.3"
  }
 },
 "nbformat": 4,
 "nbformat_minor": 1
}
