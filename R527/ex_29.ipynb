{
 "cells": [
  {
   "cell_type": "markdown",
   "metadata": {
    "id": "WDDFQrf4Ycht"
   },
   "source": [
    "**R527 - დაპროგრამება პითონში**\n",
    "<br>\n",
    "თარიღი: **30 ოქტომბერი 2020**\n",
    "<br>\n",
    "\n",
    "სათაური: **სავარჯიშო 29**\n",
    "<br>\n",
    "მომხსენებელი: **შოთა ცისკარიძე**\n",
    "\n",
    "\n",
    "ბიბლიოგრაფია:\n",
    "<br> \n",
    " **სავარჯიშო 29.** Zed Shaw, *Learn Python 3 the Hard Way*, Addison Wesley (Verlag), 2017"
   ]
  },
  {
   "cell_type": "markdown",
   "metadata": {
    "id": "fYkwmIWkYchw"
   },
   "source": [
    "<h1 align=\"center\">სავარჯიშო 29: თუ! (if)</h1>"
   ]
  },
  {
   "cell_type": "markdown",
   "metadata": {
    "slideshow": {
     "slide_type": "fragment"
    }
   },
   "source": [
    "<center><img src=\"images/Ex_29_Intro.png\" width=\"500\"alt=\"Example\" /></center>"
   ]
  },
  {
   "cell_type": "markdown",
   "metadata": {
    "id": "sRM4k6-aYch3"
   },
   "source": [
    "- ახლა ვისწავლოთ `if`- ბრძანება. \n",
    "\n",
    "- გადმოიწერეთ ქვემოთ მოცემული კოდი:"
   ]
  },
  {
   "cell_type": "code",
   "execution_count": null,
   "metadata": {
    "id": "7u24-zY58UeD",
    "outputId": "38cb7fe3-19aa-4b41-ceeb-92cd6e5ca585"
   },
   "outputs": [],
   "source": [
    "people = 20\n",
    "cats = 30\n",
    "dogs = 15\n",
    "\n",
    "\n",
    "if people < cats:\n",
    "    print(\"Too many cats! The world is doomed!\")\n",
    "    \n",
    "if people > cats:\n",
    "    print(\"Not too many cats! The world is saved!\")\n",
    "    \n",
    "if people < dogs:\n",
    "    print(\"The world is drooled on!\")\n",
    "    \n",
    "if people > dogs:\n",
    "    print(\"The world is dry!\")\n",
    "    \n",
    "\n",
    "dogs += 5\n",
    "\n",
    "if people >= dogs:\n",
    "    print(\"People are greater than or equal to dogs.\")\n",
    "    \n",
    "if people <= dogs: \n",
    "    print(\"People are less than or equal to dogs.\")\n",
    "    \n",
    "if people == dogs:\n",
    "    print(\"People are dogs.\")\n",
    "    "
   ]
  },
  {
   "cell_type": "markdown",
   "metadata": {
    "id": "Iq_eC5w58UeJ"
   },
   "source": [
    "<h2 align=\"center\">რუბრიკა \"ბოროტი მანტიორი\"</h2>\n",
    "\n",
    "- ჩვენ ხშირად შევცვლით კოდს, რომ დავადგინოთ მისი გაშვების საზღვრები.\n",
    "\n",
    "\n",
    "- ქვევით მოყვანილია **კოდის მაგალითები** რომლებიც **არ კომპილირდება** და **იძლევა შეცდომას**. \n",
    "\n",
    "\n",
    "- **გაარჩიეთ** თითოეული მათგანი და **გაასწორეთ შეცდომები**!"
   ]
  },
  {
   "cell_type": "code",
   "execution_count": null,
   "metadata": {},
   "outputs": [],
   "source": [
    "if True:\n",
    "    print(\"True\")"
   ]
  },
  {
   "cell_type": "code",
   "execution_count": null,
   "metadata": {},
   "outputs": [],
   "source": [
    "if True:\n",
    "    print(იხვი)    "
   ]
  },
  {
   "cell_type": "code",
   "execution_count": null,
   "metadata": {},
   "outputs": [],
   "source": [
    "if not True:\n",
    "    print(იხვი)    "
   ]
  },
  {
   "cell_type": "code",
   "execution_count": null,
   "metadata": {
    "id": "FxOB3WylGtel"
   },
   "outputs": [],
   "source": [
    "if True: print(\"იხვი\") "
   ]
  },
  {
   "cell_type": "code",
   "execution_count": null,
   "metadata": {},
   "outputs": [],
   "source": [
    "if True:\n",
    "print(\"იხვი\") "
   ]
  },
  {
   "cell_type": "code",
   "execution_count": null,
   "metadata": {},
   "outputs": [],
   "source": [
    "if True:\n",
    "  print(\"იხვი\") "
   ]
  },
  {
   "cell_type": "code",
   "execution_count": null,
   "metadata": {},
   "outputs": [],
   "source": [
    "if True:\n",
    "      print(\"იხვი\") "
   ]
  },
  {
   "cell_type": "code",
   "execution_count": null,
   "metadata": {},
   "outputs": [],
   "source": [
    "if 1:\n",
    "    print(\"იხვი\") "
   ]
  },
  {
   "cell_type": "code",
   "execution_count": null,
   "metadata": {},
   "outputs": [],
   "source": [
    "if 0:\n",
    "    print(\"ბონდო\") "
   ]
  },
  {
   "cell_type": "code",
   "execution_count": null,
   "metadata": {
    "id": "aSIeJ2PN8UeO",
    "scrolled": true
   },
   "outputs": [],
   "source": [
    "my_age = 35\n",
    "my_job = \"პრეზიდენტი\"\n",
    "\n",
    "def check_me(age, job):\n",
    "    if age >= 35 and job == \"პრეზიდენტი\":\n",
    "        print(\"მოგესალმებით ბატონო პრეზიდენტო!\")\n",
    "\n",
    "check_me(my_age, my_job)"
   ]
  },
  {
   "cell_type": "code",
   "execution_count": null,
   "metadata": {},
   "outputs": [],
   "source": [
    "my_age = 35\n",
    "my_job = \"პრეზიდენტი\"\n",
    "\n",
    "def check_me(age, job): \n",
    "    if age >= 35 and job == \"პრეზიდენტი\": print(\"მოგესალმებით ბატონო პრეზიდენტო!\")\n",
    "\n",
    "check_me(my_age, my_job)"
   ]
  },
  {
   "cell_type": "code",
   "execution_count": null,
   "metadata": {},
   "outputs": [],
   "source": [
    "my_age = 35\n",
    "my_job = \"პრეზიდენტი\"\n",
    "\n",
    "def check_me(age, job): if age >= 35 and job == \"პრეზიდენტი\": print(\"მოგესალმებით ბატონო პრეზიდენტო!\")\n",
    "\n",
    "check_me(my_age, my_job)"
   ]
  },
  {
   "cell_type": "code",
   "execution_count": null,
   "metadata": {},
   "outputs": [],
   "source": [
    "my_age = 35\n",
    "my_job = \"პრეზიდენტი\"\n",
    "\n",
    "def check_me(age, job): if age >= 35 and job == \"პრეზიდენტი\": \n",
    "        print(\"მოგესალმებით ბატონო პრეზიდენტო!\")\n",
    "\n",
    "check_me(my_age, my_job)"
   ]
  },
  {
   "cell_type": "code",
   "execution_count": null,
   "metadata": {},
   "outputs": [],
   "source": [
    "a = 3\n",
    "if a > 0:\n",
    "    if a > 1:\n",
    "        if a > 2:\n",
    "            print(\"იხვი\")"
   ]
  },
  {
   "cell_type": "markdown",
   "metadata": {
    "id": "ktM6dCg58UeY"
   },
   "source": [
    "<h2 align=\"center\">ხშირად დასმული კითხვები</h2>\n",
    "\n",
    "- ქვევით მოყვანილია კითხვები, რომლებიც გაუჩნდათ რეალურ სტუდენტებს ამ სავარჯიშოს შესრულებისას:\n",
    "\n",
    "\n",
    "1. **რას ნიშნავს `+=`?**\n",
    "\n",
    "   ეს არის მოკლე ჩაწერა. `x = x + y` მოკლედ ჩაიწერება როგორც `x += y`. იგივენაირად შეგიძლია დაწერო `x -= y`, ანუ `x = x - y`.\n",
    "   \n",
    "   "
   ]
  },
  {
   "cell_type": "markdown",
   "metadata": {
    "id": "62Po_meR8UeZ"
   },
   "source": [
    "<h2 align=\"center\">საშინაო დავალება</h2>\n",
    "\n",
    "\n",
    "- ამ დავალებაში შეეცადეთ ამოიცნოთ, რაც აკეთებს `if`-ბრძანება. უპასუხეთ შემდეგ კითხვებს: \n",
    "\n",
    "\n",
    "1. როგორ ფიქრობთ, რას უშვება `if`-ბრძანება მასში ჩასმულ კოდს?\n",
    "\n",
    "\n",
    "2. რატომ სჭირდება `if`-ბრძანების ქვეშ დაწერილ კოდს 4 გამოტოვება მარცხნიდან?\n",
    "\n",
    "\n",
    "3. რა მოხდება, თუ ამ კოდს არ შევწევთ?\n",
    "\n",
    "\n",
    "4. შეგიძლიათ თუ არა სავარჯიშო 27-დან სხვა ბულიან-გამოსახულებები ჩაწეროთ `if`-ბრძანების შიგნით?\n",
    "\n",
    "\n",
    "5. რა მოხდება, თუ თანდაპირველ მნიშვნელობებს შეუცვლი ცვლადებს `people`, `cats` და `dogs`-ს?"
   ]
  },
  {
   "cell_type": "markdown",
   "metadata": {
    "id": "DqPstivsYckk"
   },
   "source": [
    "<h1 align=\"center\">სავარჯიშოს დასასრული</h1>"
   ]
  }
 ],
 "metadata": {
  "colab": {
   "collapsed_sections": [],
   "name": "ex_29.ipynb",
   "provenance": [
    {
     "file_id": "1gA41PQJ9EnKxnFPmClTRFD5RcQUVHfzr",
     "timestamp": 1601916899165
    },
    {
     "file_id": "https://github.com/stsiskaridze/ISU/blob/master/R527/ex_02.ipynb",
     "timestamp": 1601912049891
    }
   ]
  },
  "kernelspec": {
   "display_name": "Python 3",
   "language": "python",
   "name": "python3"
  },
  "language_info": {
   "codemirror_mode": {
    "name": "ipython",
    "version": 3
   },
   "file_extension": ".py",
   "mimetype": "text/x-python",
   "name": "python",
   "nbconvert_exporter": "python",
   "pygments_lexer": "ipython3",
   "version": "3.7.3"
  }
 },
 "nbformat": 4,
 "nbformat_minor": 1
}
