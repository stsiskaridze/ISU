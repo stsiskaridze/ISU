{
 "cells": [
  {
   "cell_type": "markdown",
   "metadata": {
    "id": "WDDFQrf4Ycht"
   },
   "source": [
    "**R527 - დაპროგრამება პითონში**\n",
    "<br>\n",
    "თარიღი: **16 ოქტომბერი 2020**\n",
    "<br>\n",
    "\n",
    "სათაური: **სავარჯიშო 17**\n",
    "<br>\n",
    "მომხსენებელი: **შოთა ცისკარიძე**\n",
    "\n",
    "\n",
    "ბიბლიოგრაფია:\n",
    "<br> \n",
    " **სავარჯიშო 17.** Zed Shaw, *Learn Python 3 the Hard Way*, Addison Wesley (Verlag), 2017"
   ]
  },
  {
   "cell_type": "markdown",
   "metadata": {
    "id": "fYkwmIWkYchw"
   },
   "source": [
    "<h1 align=\"center\">სავარჯიშო 17: მეტი ფაილები</h1>"
   ]
  },
  {
   "cell_type": "markdown",
   "metadata": {},
   "source": [
    "<center><img src=\"images/Ex_17_Intro.jpeg\" width=\"500\"alt=\"Example\" /></center>"
   ]
  },
  {
   "cell_type": "markdown",
   "metadata": {
    "id": "sRM4k6-aYch3"
   },
   "source": [
    "- მოდით ახლა მეტი ვითამაშოთ ფაილებთან. \n",
    "\n",
    "\n",
    "- ამჯერად ჩვენ ჩავაკოპირებთ ერთ ფაილს მეორეში. \n",
    "\n",
    "\n",
    "- სკრიპტი მოკლეა, მაგრამ აღნიშნული მანიპულაციების საერთო იდეას მოგცემთ."
   ]
  },
  {
   "cell_type": "code",
   "execution_count": null,
   "metadata": {
    "colab": {
     "base_uri": "https://localhost:8080/",
     "height": 204
    },
    "executionInfo": {
     "elapsed": 721,
     "status": "ok",
     "timestamp": 1601975235429,
     "user": {
      "displayName": "Veronika Tsiskaridze",
      "photoUrl": "",
      "userId": "14609060841114149670"
     },
     "user_tz": -240
    },
    "id": "ES2yhvD-KCEH",
    "outputId": "a43bbdfc-2e09-4b18-8652-41abdd152c07",
    "scrolled": false
   },
   "outputs": [],
   "source": [
    "from sys import argv\n",
    "from os.path import exists\n",
    "\n",
    "script, from_file, to_file = argv\n",
    "\n",
    "print(f\"მიმდინარეობს {from_file} ფაილიდან {to_file} ფაილში კოპირება.\")\n",
    "\n",
    "# შემდეგი ორი ბრძანება შეგვეძლო დავწერა ერთ სტრიქონად. როგორ?\n",
    "in_file = open(from_file, encoding=\"utf8\")\n",
    "indata = in_file.read()\n",
    "\n",
    "print(f\"შემომავალ ფაილი შედგება {len(indata)} ბიტისაგან.\")\n",
    "\n",
    "print(f\"შევამოწმოთ, არსებუბს თუ არა ჩასაწერი ფაილი? {exists(to_file)}\")\n",
    "print(\"მზად ვარ! თუ გადაიფიქრე დააჭირე CTRL-C, თუ არა და, მიაწექ მაროუ!\")\n",
    "input()\n",
    "\n",
    "out_file = open(to_file, 'w', encoding=\"utf8\")\n",
    "out_file.write(indata)\n",
    "\n",
    "print(\"შენ დაწყნარდი, მე ყველაფერი მოვაგვარე!\")\n",
    "\n",
    "out_file.close()\n",
    "in_file.close()"
   ]
  },
  {
   "cell_type": "markdown",
   "metadata": {},
   "source": [
    "- **ყურადღება**: კოდის გასაშვებად შევქმნათ ტექსტურ ფაილს და ჩავწერთ მასში რაიმე ინფორმაცია. \n",
    "  \n",
    "  მაგალითად: `test.txt > მწვანე კატა`.\n",
    "\n",
    "  **ტერმინალში** აკრიფეთ ორი არგუმენტი, **პირველი** - ჩვენ მიერ შექმნილი ფაილი, და **მეორე** - ახალი ფაილის დასახელება. \n",
    "  \n",
    "  მაგალითად: `python ex_17.py test.txt new_test.txt`\n",
    "\n",
    "\n",
    "- **ყურადღება**: კოდი იმუშავებს ნებისმიერ ფაილთან, ამიტომ ფრთხილად! **არ წაგეშალოთ მნიშვნელოვანი ინფორმაცია**.\n"
   ]
  },
  {
   "cell_type": "markdown",
   "metadata": {},
   "source": [
    "- თქვენ შეამჩნევდით, რომ ჩვენ დავაიმპორტეთ კიდევ ერთი სასარგებლო ბრძანება `exists`. \n",
    "\n",
    "  ის გვიბრუნებს `True`-ს, თუ აღნიშნული ფაილი არსებობს და `False`-ს, თუ ის არ არსებობს.\n",
    "\n",
    "\n",
    "- საერთოდ, `import`-ის გამოყენება საშუალებას გაძლევთ, თავისუფალ სივრცეში არსებული უამრავი კოდი გამოიყენოთ თქვენს სკრიპტში, რათა არ მოგიწიოთ მათი ახლიდან მოფიქრება/დაწერა. როგორც წესი, ხელმისაწვომი კოდები ძალიან დახვეწილია და შექმნილია, უმეტეს შემთხვევაში, პროფესიონალი პროგრამისტების მიერ.~"
   ]
  },
  {
   "cell_type": "markdown",
   "metadata": {
    "id": "K6vmKEXBYcis"
   },
   "source": [
    "<h2 align=\"center\">რუბრიკა \"ბოროტი მანტიორი\"</h2>\n",
    "\n",
    "- ჩვენ ხშირად შევცვლით კოდს, რომ დავადგინოთ მისი გაშვების საზღვრები.\n",
    "\n",
    "\n",
    "- ქვევით მოყვანილია **კოდის მაგალითები** რომლებიც **არ კომპილირდება** და **იძლევა შეცდომას**. \n",
    "\n",
    "\n",
    "- **გაარჩიეთ** თითოეული მათგანი და **გაასწორეთ შეცდომები**!"
   ]
  },
  {
   "cell_type": "code",
   "execution_count": null,
   "metadata": {
    "id": "b8sU2mdaYcit"
   },
   "outputs": [],
   "source": []
  },
  {
   "cell_type": "markdown",
   "metadata": {
    "id": "1e5Jtm36Ycki"
   },
   "source": [
    "<h2 align=\"center\">ხშირად დასმული კითხვები</h2>\n",
    "\n",
    "- ქვევით მოყვანილია კითხვები, რომლებიც გაუჩნდათ რეალურ სტუდენტებს ამ სავარჯიშოს შესრულებისას:\n",
    "\n",
    "\n",
    "1. **რატომ ვაქცევთ `'w'`-ს ცალ ბრჭყალებში?**\n",
    "\n",
    "   რადგან ის **სტრიქონის** ტიპისაა. დარწმუნდით, რომ გესმით, რა არის **სტრიქონი** (**tring**).\n",
    "   \n",
    "   \n",
    "2. **არ არსებობოს, რომ კოდი დაწეროთ ერთ ხაზად!**\n",
    "\n",
    "   ეს დამოკიდებულია იმაზე, თუ ; რა ; იგულისხმება ; ერთ ; ხაზში.\n",
    "   \n",
    "\n",
    "3. **ნორმალურია, რომ ეს სავარჯიშო ძალიან რთულად მიმაჩნია?**\n",
    "\n",
    "   სავსებით ნორმალურია. პროგრამირება არ ნიშნავს, რომ უცბად 37-ე სავარჯიშოს გაკეთება შეგეძლებათ. მაგრამ, თუ საკმარის დროსა და ენერგიას დაახარჯავთ, ყველაფერი გამოგივათ. არ გაჩერდეთ.\n",
    "   \n",
    "   \n",
    "4. **რას აკეთებს ფუნქცია `len()`?**\n",
    "\n",
    "   ის მიწოდებულის სტრიქონის სიგრძეს არკვევს და გვაქვდის რიცხვის სახით. წაითამაშეთ ამ ფუნქციით.\n",
    "   \n",
    "   \n",
    "5. **როდესაც კოდს ვამოკლებ, შეცდომას მიჩვენებს ფუნქცია `close()`-ზე.**\n",
    "\n",
    "   თქვენ ალბათ დაწერეთ შემდეგი რამ: `indata = open(from_file_.read()`, რაც იმას ნიშნავს რომ `in_file.close()` აღარაა საჭირო. Python მას თვითონ დახურავს იმ ხაზის გაშვების შემდეგ.\n",
    "   \n",
    "   \n",
    "6. **შეცდომას მიჩვენებს `Syntax:EOL while scanning string literal`.**\n",
    "\n",
    "   თქვენ სტრიქონის სწორად დახურვა დაგავიწყდათ ბრჭყალების გამოყენებით. კარგად შეხედეთ იმ ხაზს."
   ]
  },
  {
   "cell_type": "markdown",
   "metadata": {
    "id": "4gGrOISaYckh"
   },
   "source": [
    "<h2 align=\"center\">სამუშაო დავალება</h2>\n",
    "\n",
    "\n",
    "1. ჩვენი სკრიპტი ძალიან გამაღიზიანებელია. \n",
    "\n",
    "   არ არის საჭირო, რომ გვკითხოს, სანამ კოპიას გააკეთებს, და ისედაც ბევრ ინფორმაციას ბეჭდავს ეკრანზე. \n",
    "   \n",
    "   შეეცადეთ შეამოკლოთ კოდი.\n",
    "\n",
    "\n",
    "2. შეეცადეთ რაც შეიძლება მოკლედ დაწეროთ თქვენი კოდი. მე შემიძლია ჩავატიო ის მხოლოდ ერთ სტრიქონში.\n",
    "\n",
    "\n",
    "3. გაარკვიეთ, რატო უნდა გამოიყენოთ `out_file.close()` თქვენს სკრიპტში."
   ]
  },
  {
   "cell_type": "markdown",
   "metadata": {
    "id": "DqPstivsYckk"
   },
   "source": [
    "<h1 align=\"center\">სავარჯიშოს დასასრული</h1>"
   ]
  }
 ],
 "metadata": {
  "colab": {
   "collapsed_sections": [],
   "name": "Example for ex_10.ipynb",
   "provenance": [
    {
     "file_id": "1gA41PQJ9EnKxnFPmClTRFD5RcQUVHfzr",
     "timestamp": 1601916899165
    },
    {
     "file_id": "https://github.com/stsiskaridze/ISU/blob/master/R527/ex_02.ipynb",
     "timestamp": 1601912049891
    }
   ]
  },
  "kernelspec": {
   "display_name": "Python 3",
   "language": "python",
   "name": "python3"
  },
  "language_info": {
   "codemirror_mode": {
    "name": "ipython",
    "version": 3
   },
   "file_extension": ".py",
   "mimetype": "text/x-python",
   "name": "python",
   "nbconvert_exporter": "python",
   "pygments_lexer": "ipython3",
   "version": "3.7.3"
  }
 },
 "nbformat": 4,
 "nbformat_minor": 1
}
