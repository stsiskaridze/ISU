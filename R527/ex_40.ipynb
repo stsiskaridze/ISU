{
 "cells": [
  {
   "cell_type": "markdown",
   "metadata": {
    "id": "WDDFQrf4Ycht"
   },
   "source": [
    "**R527 - დაპროგრამება პითონში**\n",
    "<br>\n",
    "თარიღი: **27 ნოემბერი 2020**\n",
    "<br>\n",
    "\n",
    "სათაური: **სავარჯიშო 40**\n",
    "<br>\n",
    "მომხსენებელი: **შოთა ცისკარიძე**\n",
    "\n",
    "\n",
    "ბიბლიოგრაფია:\n",
    "<br> \n",
    " **სავარჯიშო 40.** Zed Shaw, *Learn Python 3 the Hard Way*, Addison Wesley (Verlag), 2017"
   ]
  },
  {
   "cell_type": "markdown",
   "metadata": {
    "id": "fYkwmIWkYchw"
   },
   "source": [
    "<h1 align=\"center\">სავარჯიშო 40: მოდულები, კლასები და ობიექტები</h1>"
   ]
  },
  {
   "cell_type": "markdown",
   "metadata": {
    "slideshow": {
     "slide_type": "fragment"
    }
   },
   "source": [
    "<center><img src=\"images/Ex_40_Intro.png\" width=\"500\"alt=\"Example\" /></center>"
   ]
  },
  {
   "cell_type": "markdown",
   "metadata": {
    "id": "sRM4k6-aYch3"
   },
   "source": [
    "- Python-ს **ობიექტზე ორიენტირებულ პროგრამირების (ოოპ)** ენას უწოდებენ.\n",
    "\n",
    "\n",
    "- ანუ, Python-ში არსებობს **კლასი**, რომელიც საშუალებას იძლევა პროგრამული უზრუნველყოფა რაღაც კონკრეტული გზით ააწყო.\n",
    "\n",
    "\n",
    "- **კლასების** გამოყენება თქვენს პროგრამას **თანმიმდევრულობას** შეჰმატებს და სხვა პროგრამისტებისთვის უფრო გასაგებს გახდის.\n",
    "\n",
    "\n",
    "- ახლა ვისწავლით ობიექტზე ორიენტირებულ პროგრამირების საწყისებს, კლასებს და ობიექტებს, რომლებიც ჩვენთვის უკვე ნაცნობ ლექსიკონებსა და მოდულებს გამოიყენებენ."
   ]
  },
  {
   "cell_type": "markdown",
   "metadata": {
    "id": "fYkwmIWkYchw"
   },
   "source": [
    "<h3 align=\"center\">მოდულები ჰგავს ლექსიკონებს</h3>"
   ]
  },
  {
   "cell_type": "markdown",
   "metadata": {
    "id": "sRM4k6-aYch3"
   },
   "source": [
    "- ჩვენ ვიცით, როგორ იქმნება და გამოიყენება **ლექსიკონი**. \n",
    "\n",
    "\n",
    "- ასევე ვიცით, რომ ლექსიკონი ინახავს **რუკას** გასაღებიდან მნიშვნელობამდე.\n",
    "\n",
    "\n",
    "- თუ ჩვენ გვჭირდება **სახლი**-ს გასაღები, ჩვენ დავწერთ შემდეგს კოდს:"
   ]
  },
  {
   "cell_type": "code",
   "execution_count": 1,
   "metadata": {},
   "outputs": [
    {
     "name": "stdout",
     "output_type": "stream",
     "text": [
      "ქვის ქვეშ შევინახე!\n"
     ]
    }
   ],
   "source": [
    "mystuff = {'სახლი': \"ქვის ქვეშ შევინახე!\"}\n",
    "print(mystuff['სახლი'])"
   ]
  },
  {
   "cell_type": "markdown",
   "metadata": {
    "id": "sRM4k6-aYch3"
   },
   "source": [
    "- თავში წარმოიდგინეთ სტრუქტურა: **X-სგან მივიღო Y**.\n",
    "\n",
    "\n",
    "- **მოდულებს** მსგავსი სტრუქტურა აქვთ. \n",
    "\n",
    "  ჩვენ მოდულები უკვე აქამდე  შეგვიქმნია, ამიტო საერთო სურათი უნდა შეგქმნოდათ თუ რას წარმოადგენს მოდული:\n",
    "\n",
    "  1. Python-ის ფაილი, რომელიც შეიცავს რაიმე ცვლადებს ან ფუნქციებს;\n",
    " \n",
    "  2. ამ ფაილს ვაიმპორტირებთ.\n",
    " \n",
    "  3. წერტილის ოპერატორის (`.`) გამოყენებით ჩვენ ვახორციელებთ წვდომას ამ ფაილის ცვლადებსა თუ ფუნქციებზე.\n",
    "    \n",
    "    \n",
    "- წარმოიგინეთ, რომ მე მაქვს მოდული სახელად `mystuff.py` და მასში შევინახავ ფუნქციას `apple`:"
   ]
  },
  {
   "cell_type": "code",
   "execution_count": 2,
   "metadata": {},
   "outputs": [],
   "source": [
    "# mystuff.py\n",
    "def apple():\n",
    "    print(\"მე ვარ ვაშლი!\")"
   ]
  },
  {
   "cell_type": "markdown",
   "metadata": {},
   "source": [
    "* როგორც კი ეს კოდი გვექნება, ჩვენ ამ **ფაილის იმპორტირებას** და მასში ჩაწერილი **ფუნქციის** გამოყენებას შევძლებთ:"
   ]
  },
  {
   "cell_type": "code",
   "execution_count": 1,
   "metadata": {},
   "outputs": [
    {
     "name": "stdout",
     "output_type": "stream",
     "text": [
      "მე ვარ ვაშლი!\n"
     ]
    }
   ],
   "source": [
    "import mystuff\n",
    "mystuff.apple()"
   ]
  },
  {
   "cell_type": "markdown",
   "metadata": {},
   "source": [
    "* ასევე შემიძლია **ცვლადებზე** წვდომაც მივიღო:"
   ]
  },
  {
   "cell_type": "code",
   "execution_count": 2,
   "metadata": {},
   "outputs": [],
   "source": [
    "# mystuff.py\n",
    "def apple():\n",
    "    print(\"მე ვარ ვაშლი!\")\n",
    "    \n",
    "# ეს უბრალო ცვლადია\n",
    "hello = (\"ეჰეი, სამშოლბო!\")"
   ]
  },
  {
   "cell_type": "code",
   "execution_count": 2,
   "metadata": {},
   "outputs": [
    {
     "name": "stdout",
     "output_type": "stream",
     "text": [
      "ეჰეი, სამშოლბო!\n",
      "მე ვარ ვაშლი!\n"
     ]
    }
   ],
   "source": [
    "import mystuff\n",
    "\n",
    "print(mystuff.hello)\n",
    "mystuff.apple()"
   ]
  },
  {
   "cell_type": "markdown",
   "metadata": {},
   "source": [
    "- ეს ძალიან ჰგავს ლექსიკონის გამოყენებას, მაგრამ სინტაქსი განსხვავებულია.\n",
    "\n",
    "\n",
    "- მოდით შევადაროთ:"
   ]
  },
  {
   "cell_type": "code",
   "execution_count": null,
   "metadata": {},
   "outputs": [],
   "source": [
    "mystuff['apple'] #ელემენტის აღება ლექსიკონიდან\n",
    "mystuff.apple()  #ფუნქციის აღება მოდულიდან\n",
    "mystuff.hello    #ცვლადის აღება მოდულიდან"
   ]
  },
  {
   "cell_type": "markdown",
   "metadata": {},
   "source": [
    "- გამოდის, რომ **Python**-ში ძალიან **გავრცელებული სქემაა**:\n",
    "\n",
    "    1. ვიღებთ **გასაღები = მნიშვნელობა (key = value)** კონტეინერს.\n",
    "    \n",
    "    2. რაღაცა ვიღებთ ამ **გასაღების გამოყენებით**.\n",
    " \n",
    " \n",
    "- **ლექსიკონის** შემთხვევაში სინტაქსია `[გასაღები]`.\n",
    "\n",
    "\n",
    "- **მოდულის** შემთხვევაში გასაღები იდენტიფიკატორია, და სინტაქსია `.გასაღები`."
   ]
  },
  {
   "cell_type": "markdown",
   "metadata": {
    "id": "fYkwmIWkYchw"
   },
   "source": [
    "<h3 align=\"center\">40.1.1 კლასები მოდულის მსგავსია</h3>"
   ]
  },
  {
   "cell_type": "markdown",
   "metadata": {},
   "source": [
    "- თქვენ შეგიძლიათ აღიქვათ **მოდული** როგორც სპეციალიზირებული ლექსიკონი, რომელიც შეიცავს **Python**-ის კოდს, და მასზე გაქვთ წვდომა.\n",
    "\n",
    "\n",
    "- **Python**-ს კიდევ ერთი მსგავსი დანიშნულების სტრუქტურა აქვს სახელად **კლასი**.\n",
    "\n",
    "\n",
    "- **კლასი** არის კონტეინერივით რომელშიც დაჯგუფებულია **ფუნქციები** და **მონაცემები**, ხოლო წვდომის მისაღებად გამოიყენება წერტილი `(.)`. "
   ]
  },
  {
   "cell_type": "code",
   "execution_count": 5,
   "metadata": {},
   "outputs": [],
   "source": [
    "class MyStuff(object):\n",
    "    \n",
    "    def __init__(self):\n",
    "        self.hello = \"ეჰეი, სამშობლო!\"\n",
    "        \n",
    "    def apple(self):\n",
    "        print(\"მე ვარ ვაშლი!\")"
   ]
  },
  {
   "cell_type": "markdown",
   "metadata": {},
   "source": [
    "- პირველი შეხედვით **კლასი უფრო კომპლექსურად გამოიყურება**. \n",
    "\n",
    "\n",
    "- მაგრამ თუ კარგად დააკვირდით, დაინახავთ როგორ ჰგავს **კლასი** ჩვენს **მინი-მოდულს** `mystuff.py`.\n",
    "\n",
    "\n",
    "- ალბათ ცოტა დამაბნევებელია ფუნქცია `__init__`, ამაზე მოგვიანებით გავამახვილებთ ყურადღებას.\n",
    "\n",
    "\n",
    "- **რითი ჯობია კლასი მოდულს**?\n",
    "\n",
    "  თქვენ შეგიძლიათ შექმნათ **მილიონობით კლასი** და ერთსა და იმავე სკრიპტში გამოიყენოთ ისე, რომ არც **ერთი არ შეუშლის მეორეს**.\n",
    "\n",
    "  იმ დროს, როდესაც მთელ პროგრამაში მხოლოდ **ერთი მოდულის** იმპორირებას თუ შეძლებთ. \n",
    "  \n",
    "  ბევრი მოდულის იმპორტირებისთვის რაღაც ურჩხულ-ჰაკინგი დაგჭირდებათ.\n",
    "\n",
    "\n",
    "- ახლა კი გავარკვიოთ, რას ნიშნავს **ობიექტი** და როგორ ვიმუშაოთ მასთან."
   ]
  },
  {
   "cell_type": "markdown",
   "metadata": {
    "id": "fYkwmIWkYchw"
   },
   "source": [
    "<h3 align=\"center\">40.1.2 ობიექტები იმპორტის მსგავსია</h3>"
   ]
  },
  {
   "cell_type": "markdown",
   "metadata": {},
   "source": [
    "- თუ **კლასი ჰგავს მინი-მოდულს**, მაშინ იგივე კონცეპტი უდა არსებობდეს **იმპორტისთვისაც**, მაგრამ კლასებისთვის.\n",
    "\n",
    "\n",
    "- ამ კონცეპტია **instantiate** ჰქვია, რაც უბრალო ენით რომ ვთქვათ, **შექმნას** ნიშნავს. \n",
    "\n",
    "\n",
    "- თქვენ ქმინთ კლასს მისი ფუნქციისმაგვარი გამოძახებით:"
   ]
  },
  {
   "cell_type": "code",
   "execution_count": 6,
   "metadata": {},
   "outputs": [
    {
     "name": "stdout",
     "output_type": "stream",
     "text": [
      "მე ვარ ვაშლი!\n",
      "ეჰეი, სამშობლო!\n"
     ]
    }
   ],
   "source": [
    "thing = MyStuff()\n",
    "thing.apple()\n",
    "print(thing.hello)"
   ]
  },
  {
   "cell_type": "markdown",
   "metadata": {},
   "source": [
    "- პირველი ხაზი არის **შექმნის** ოპერაცია, რაც ფუნქციის გამოძახების მსგავსია.\n",
    "\n",
    "\n",
    "- თუმცა **Python**-ი ოდნავ სხვანაირ ნაბიჯებს დგამს კოდის წაკითხვისას:\n",
    "\n",
    "  1. **Python**-ი ეძებს `MyStuff()`-ს და ხედავს, რომ თქვენ განსაზღვრეთ კლასი.\n",
    "  \n",
    "  2. **Python**-ი ქმნის ობიექტს ყველა იმ ფუნქციით, რომელიც გაქვს მითითებული კლასში `def`-ის გამოყენებით.\n",
    "  \n",
    "  3. **Python**-ი მერე ამოწმებს, თუ შექმენი ეს **ჯადოსნური ფუნქცია** `__init__` და თუ კი, მაშინ **Python**-ი ამ ახალი ცარიელი ობიექტის ინიციალიზაციისთვის იძახებს აღნიშნულ ფუნქციას.\n",
    "  \n",
    "  4. შემდეგ, ამ `MyStuff`-ის ფუნქციიდან `__init__` ჩვენ ვიღებთ დამატებით ცვლადს `self`-ს, რომელიც ზუსტად ის **Python**-ის მიერ ჩვენთვის შექმნილი ცარიელი ობიექტია. ახლა შეგვეძლება დავაწესოთ ცვლადები, ზუსტად იგივე ნაირად, როგორც მოდულებში, ლექსიკონებსა თუ სხვა ობიექტებში.\n",
    "  \n",
    "  5. ჩვენს შემთხვევაში, ჩვენ ვანიჭებთ ცნობილ სტიქონს ცვლადს `self.hello`, რაც ნიშნავს, რომ **მოხდა ობიექტის ინიციალიზაცია**.\n",
    "  \n",
    "  6. ახლა **Python**-ს შეუძლია ეს ახლადშექმნილი ობიექტი მიანიჭოს ცვლად `thing`-ს, რომ ჩვენ მისი გამოყენება შევძლოთ."
   ]
  },
  {
   "cell_type": "markdown",
   "metadata": {
    "id": "fYkwmIWkYchw"
   },
   "source": [
    "<h3 align=\"center\">40.1.3 რაღაცეების ამოღება რაღაცეებიდან</h3>"
   ]
  },
  {
   "cell_type": "markdown",
   "metadata": {},
   "source": [
    "* ამჯერად ჩვენ **3 ხერხი** გვაქვს, **როგორ ამოვიღოთ რაღაცა რაღაციდან**:"
   ]
  },
  {
   "cell_type": "code",
   "execution_count": null,
   "metadata": {},
   "outputs": [],
   "source": [
    "# ლექსიკონი\n",
    "mystuff['apples']\n",
    "\n",
    "# მოდული \n",
    "mystuff.apples()\n",
    "print(mystuff.hello)\n",
    "\n",
    "# კლასი\n",
    "thing = MyStuff()\n",
    "thing.apples()\n",
    "print(thing.hello)"
   ]
  },
  {
   "cell_type": "markdown",
   "metadata": {
    "id": "fYkwmIWkYchw"
   },
   "source": [
    "<h3 align=\"center\">40.1.4 კლასის პირველი მაგალითი</h3>"
   ]
  },
  {
   "cell_type": "markdown",
   "metadata": {},
   "source": [
    "- ამ ეტაპზე ამ 3 ხერხს შორის მსგავსობებს უკვე უნდა ვხედავდეთ. \n",
    "\n",
    "\n",
    "- აკრიფეთ შემდეგი სავარჯიშო:"
   ]
  },
  {
   "cell_type": "code",
   "execution_count": 7,
   "metadata": {},
   "outputs": [
    {
     "name": "stdout",
     "output_type": "stream",
     "text": [
      "Happy birthday to you\n",
      "I don't want to get sued\n",
      "So I'll stop right there\n",
      "They rally around tha family\n",
      "With the pockets full of shells\n"
     ]
    }
   ],
   "source": [
    "class Song(object):\n",
    "    \n",
    "    def __init__(self, lyrics):\n",
    "        self.lyrics = lyrics\n",
    "        \n",
    "    def sing_me_a_song(self):\n",
    "        for line in self.lyrics:\n",
    "            print(line)\n",
    "            \n",
    "happy_bday = Song([\"Happy birthday to you\",\n",
    "                   \"I don't want to get sued\",\n",
    "                   \"So I'll stop right there\"])\n",
    "\n",
    "bulls_on_parade = Song([\"They rally around tha family\",\n",
    "                       \"With the pockets full of shells\"])\n",
    "\n",
    "happy_bday.sing_me_a_song()\n",
    "\n",
    "bulls_on_parade.sing_me_a_song()"
   ]
  },
  {
   "cell_type": "markdown",
   "metadata": {},
   "source": [
    "<h2 align=\"center\">რუბრიკა \"ბოროტი მანტიორი\"</h2>\n",
    "\n",
    "- ჩვენ ხშირად შევცვლით კოდს, რომ დავადგინოთ მისი გაშვების საზღვრები.\n",
    "\n",
    "\n",
    "- ქვევით მოყვანილია **კოდის მაგალითები** რომლებიც **არ კომპილირდება** და **იძლევა შეცდომას**. \n",
    "\n",
    "\n",
    "- **გაარჩიეთ** თითოეული მათგანი და **გაასწორეთ შეცდომები**!"
   ]
  },
  {
   "cell_type": "code",
   "execution_count": null,
   "metadata": {},
   "outputs": [],
   "source": []
  },
  {
   "cell_type": "code",
   "execution_count": null,
   "metadata": {},
   "outputs": [],
   "source": []
  },
  {
   "cell_type": "markdown",
   "metadata": {},
   "source": [
    "<h2 align=\"center\">ხშირად დასმული კითხვები</h2>\n",
    "\n",
    "- ქვევით მოყვანილია კითხვები, რომლებიც გაუჩნდათ რეალურ სტუდენტებს ამ სავარჯიშოს შესრულებისას:\n",
    "\n",
    "\n",
    "1. **რისთვის არის საჭირო `self` ფუნქცია `__init__`-ის შექმნისას ან კლასის სხვა ფუნქციებისთვის?**\n",
    "\n",
    "    თუ არ გამოვიყენებთ `self`-ს, მაშინ კოდი `cheese = 'Frank'` იქნება ორაზროვანი. \n",
    "    \n",
    "    ამ კოდიდან ვერ მივხვდებით, `cheese` იგულისხმება კლასის შემადგენლობაში არსებული ატრიბუტია, თუ ლოკალურად შექმნილი ცვლადია. \n",
    "    \n",
    "    მაგრამ თუ დაწერთ `self.cheese = 'Frank'`, გასაგებია იქნება, რომ კლასის ატრიბუტი `self.cheese` გაქვთ მხედველობაში."
   ]
  },
  {
   "cell_type": "markdown",
   "metadata": {},
   "source": [
    "<h2 align=\"center\">საშინაო დავალება</h2>\n",
    "\n",
    "\n",
    "1. დაწერეთ სხვა სიმღერებიც. იმედია, დაინახეთ, რომ სტრიქონების ჩამონათვალს ვაწვდით.\n",
    "\n",
    "\n",
    "2. სიმღერის ტექსტი მიანიჭეთ ცვლადებს და შემდეგ ეს ცვლადები გადაეცით კლასს.\n",
    "\n",
    "\n",
    "3. შეეცადეთ კოდი შეცვალოთ ისე, რომ უფრო მეტის გაკეთება შეგეძლოთ. არ ინერვიულოთ, თუ ჯერ არ იცით როგორ. სცადეთ, გააფუჭეთ კოდი ...\n",
    "\n",
    "\n",
    "4. ინტერნეტ-წყაროებში დაძებდეთ \"ობიექტზე ორიენტირებული პროგრამირება\" (object-oriented programming) და გატენეთ ტქვენი ტვინი ახალი ინფორმაციით. ნუ შეგეშინდებათ, მეც ბევრი რამე ჯერ არ მესმის."
   ]
  },
  {
   "cell_type": "markdown",
   "metadata": {
    "id": "DqPstivsYckk"
   },
   "source": [
    "<h1 align=\"center\">სავარჯიშოს დასასრული</h1>"
   ]
  }
 ],
 "metadata": {
  "colab": {
   "collapsed_sections": [],
   "name": "Example for ex_10.ipynb",
   "provenance": [
    {
     "file_id": "1gA41PQJ9EnKxnFPmClTRFD5RcQUVHfzr",
     "timestamp": 1601916899165
    },
    {
     "file_id": "https://github.com/stsiskaridze/ISU/blob/master/R527/ex_02.ipynb",
     "timestamp": 1601912049891
    }
   ]
  },
  "kernelspec": {
   "display_name": "Python 3",
   "language": "python",
   "name": "python3"
  },
  "language_info": {
   "codemirror_mode": {
    "name": "ipython",
    "version": 3
   },
   "file_extension": ".py",
   "mimetype": "text/x-python",
   "name": "python",
   "nbconvert_exporter": "python",
   "pygments_lexer": "ipython3",
   "version": "3.7.3"
  }
 },
 "nbformat": 4,
 "nbformat_minor": 1
}
