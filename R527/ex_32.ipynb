{
 "cells": [
  {
   "cell_type": "markdown",
   "metadata": {
    "id": "WDDFQrf4Ycht"
   },
   "source": [
    "**R527 - დაპროგრამება პითონში**\n",
    "<br>\n",
    "თარიღი: **13 ნოემბერი 2020**\n",
    "<br>\n",
    "\n",
    "სათაური: **სავარჯიშო 32**\n",
    "<br>\n",
    "მომხსენებელი: **შოთა ცისკარიძე**\n",
    "\n",
    "\n",
    "ბიბლიოგრაფია:\n",
    "<br> \n",
    " **სავარჯიშო 32.** Zed Shaw, *Learn Python 3 the Hard Way*, Addison Wesley (Verlag), 2017"
   ]
  },
  {
   "cell_type": "markdown",
   "metadata": {
    "id": "fYkwmIWkYchw"
   },
   "source": [
    "<h1 align=\"center\">სავარჯიშო 32: სიები და ციკლები</h1>"
   ]
  },
  {
   "cell_type": "markdown",
   "metadata": {
    "slideshow": {
     "slide_type": "fragment"
    }
   },
   "source": [
    "<center><img src=\"images/Ex_32_Intro.png\" width=\"500\"alt=\"Example\" /></center>"
   ]
  },
  {
   "cell_type": "markdown",
   "metadata": {
    "id": "sRM4k6-aYch3"
   },
   "source": [
    "- პირველ გამოცდილებასთან შედარებით, `if` ბრძანებებმა ჩვენი ახლანდელი პროგრამები ძალიან საინტერესო გახადა.\n",
    "\n",
    "\n",
    "- ახლა ჩვენ უნდა ვისწავლოთ, როგორ გავაკეთებიოთ კოდს ბევრი განმეორებადი მოქმედება. \n",
    "\n",
    "\n",
    "- განმეორებითი შედეგების შესანახად საუკეთესო საშუალებაა **სიები** (ინგლ. - lists). \n",
    "\n",
    "\n",
    "- სახელწოდება *სია* პირდაპირი მნიშვნელობითაა გამოყენებული - ეს არის *კონტეინერი*, რომელშიც ყველა ობიექტი დანომრილია. \n",
    "\n",
    "\n",
    "- აი, როგორ გამოიყურება სიები:\n",
    "\n",
    "  `თმა = ['ბრუნეტი', 'ბლონდინი', 'წითური']`<br>\n",
    "  `თვალები = ['თაფლისფერი', 'ცისფერი', 'მწვანე']`<br>\n",
    "  `ზომა = [1, 2, 3, 4]`\n",
    "\n",
    "\n",
    "- სია განისაზღვრება **კვადრატური ფრჩხილებით** `[...]`, და მისი **ელემენტები** ერთმანეთისგან **მძიმითაა გამოყოფილი**.\n",
    "\n",
    "- **ყურადღება**: სიის ელემენტად შეიძლება ისევ სია იყოს. \n",
    "\n",
    "  თუ სტრუქტურა დაგაბნევთ, ჯობია ის ფურცელზე გადმოიწეროთ. როგორც წესი, ხელით დაწერისას კოდი უფრო ნათელი ხდება.\n",
    "\n",
    "\n",
    "- მოდით ახლა შევქმნათ სიები **`for`-ის ციკლის** გამოყენებით."
   ]
  },
  {
   "cell_type": "code",
   "execution_count": 72,
   "metadata": {},
   "outputs": [
    {
     "name": "stdout",
     "output_type": "stream",
     "text": [
      "ეს არის თვლა 1\n",
      "ეს არის თვლა 2\n",
      "ეს არის თვლა 3\n",
      "ეს არის თვლა 4\n",
      "ეს არის თვლა 5\n",
      "ხილის ტიპი: ვაშლი\n",
      "ხილის ტიპი: ფორთოხალი\n",
      "ხილის ტიპი: მსხალი\n",
      "ხილის ტიპი: გარგარი\n",
      "მე მაქვს 1\n",
      "მე მაქვს 10-თეთრიანი\n",
      "მე მაქვს 2\n",
      "მე მაქვს 20-თეთრიანი\n",
      "მე მაქვს 3\n",
      "მე მაქვს 50-თეთრიანი\n",
      "სიას ვუმატებთ 0-ს.\n",
      "სიას ვუმატებთ 1-ს.\n",
      "სიას ვუმატებთ 2-ს.\n",
      "სიას ვუმატებთ 3-ს.\n",
      "სიას ვუმატებთ 4-ს.\n",
      "სიას ვუმატებთ 5-ს.\n",
      "ეს ელემენტია: 0\n",
      "ეს ელემენტია: 1\n",
      "ეს ელემენტია: 2\n",
      "ეს ელემენტია: 3\n",
      "ეს ელემენტია: 4\n",
      "ეს ელემენტია: 5\n"
     ]
    }
   ],
   "source": [
    "the_count = [1, 2, 3, 4, 5]\n",
    "fruits = ['ვაშლი', 'ფორთოხალი', 'მსხალი', 'გარგარი']\n",
    "change = [1, '10-თეთრიანი', 2, '20-თეთრიანი', 3, '50-თეთრიანი']\n",
    "\n",
    "# for-ციკლის ეს მაგალითი სია the_count-ში ყველა ელემენტს ჩამოივლის\n",
    "for number in the_count:\n",
    "    print(f\"ეს არის თვლა {number}\")\n",
    "    \n",
    "# იგივეა რაც ზემოთ\n",
    "for fruit in fruits:\n",
    "    print(f\"ხილის ტიპი: {fruit}\")\n",
    "    \n",
    "# მუშაობს ასევე შერეულ სიებზეც\n",
    "# დააკვირდით, რომ მრგვალ ბრჭყალებს ვიყენებთ\n",
    "for i in change:\n",
    "    print(f\"მე მაქვს {i}\")\n",
    "    \n",
    "# ჩვენ სიის შექმნაც შეგვიძლია. თავიდან ცარიელით ვიწყებთ\n",
    "elements = []\n",
    "\n",
    "# შემდეგ ვიყენებთ range-ფუნქციას, რომ 0-დან 5-მდე დაგვითვალოს\n",
    "for i in range (0, 6):\n",
    "    print(f\"სიას ვუმატებთ {i}-ს.\")\n",
    "    #append-ფუნქცია სიისთვის გამოიყენება\n",
    "    elements.append(i)\n",
    "    \n",
    "# ახლა კი ამ ელემენტების ამობეჭდვაც შეგვიძლია\n",
    "for i in elements:\n",
    "    print(f\"ეს ელემენტია: {i}\")"
   ]
  },
  {
   "cell_type": "markdown",
   "metadata": {},
   "source": [
    "<h2 align=\"center\">რუბრიკა \"ბოროტი მანტიორი\"</h2>\n",
    "\n",
    "- ჩვენ ხშირად შევცვლით კოდს, რომ დავადგინოთ მისი გაშვების საზღვრები.\n",
    "\n",
    "\n",
    "- ქვევით მოყვანილია **კოდის მაგალითები** რომლებიც **არ კომპილირდება** და **იძლევა შეცდომას**. \n",
    "\n",
    "\n",
    "- **გაარჩიეთ** თითოეული მათგანი და **გაასწორეთ შეცდომები**!"
   ]
  },
  {
   "cell_type": "code",
   "execution_count": 73,
   "metadata": {},
   "outputs": [
    {
     "name": "stdout",
     "output_type": "stream",
     "text": [
      "[0, 1]\n"
     ]
    }
   ],
   "source": [
    "a = [0] + [1]\n",
    "print(a)"
   ]
  },
  {
   "cell_type": "code",
   "execution_count": 74,
   "metadata": {},
   "outputs": [
    {
     "name": "stdout",
     "output_type": "stream",
     "text": [
      "[0, 'zero']\n"
     ]
    }
   ],
   "source": [
    "a = [0] + [\"zero\"]\n",
    "print(a)"
   ]
  },
  {
   "cell_type": "code",
   "execution_count": 75,
   "metadata": {},
   "outputs": [
    {
     "ename": "TypeError",
     "evalue": "unsupported operand type(s) for -: 'list' and 'list'",
     "output_type": "error",
     "traceback": [
      "\u001b[1;31m---------------------------------------------------------------------------\u001b[0m",
      "\u001b[1;31mTypeError\u001b[0m                                 Traceback (most recent call last)",
      "\u001b[1;32m<ipython-input-75-99fce6784120>\u001b[0m in \u001b[0;36m<module>\u001b[1;34m\u001b[0m\n\u001b[1;32m----> 1\u001b[1;33m \u001b[0ma\u001b[0m \u001b[1;33m=\u001b[0m \u001b[1;33m[\u001b[0m\u001b[1;36m0\u001b[0m\u001b[1;33m,\u001b[0m \u001b[1;36m0\u001b[0m\u001b[1;33m]\u001b[0m \u001b[1;33m-\u001b[0m \u001b[1;33m[\u001b[0m\u001b[1;36m0\u001b[0m\u001b[1;33m]\u001b[0m\u001b[1;33m\u001b[0m\u001b[1;33m\u001b[0m\u001b[0m\n\u001b[0m\u001b[0;32m      2\u001b[0m \u001b[0mprint\u001b[0m\u001b[1;33m(\u001b[0m\u001b[0ma\u001b[0m\u001b[1;33m)\u001b[0m\u001b[1;33m\u001b[0m\u001b[1;33m\u001b[0m\u001b[0m\n",
      "\u001b[1;31mTypeError\u001b[0m: unsupported operand type(s) for -: 'list' and 'list'"
     ]
    }
   ],
   "source": [
    "a = [0, 0] - [0]\n",
    "print(a)"
   ]
  },
  {
   "cell_type": "code",
   "execution_count": 76,
   "metadata": {},
   "outputs": [
    {
     "name": "stdout",
     "output_type": "stream",
     "text": [
      "[0, 0, 0, 0, 0]\n"
     ]
    }
   ],
   "source": [
    "a = [0] * 5\n",
    "print(a)"
   ]
  },
  {
   "cell_type": "code",
   "execution_count": 77,
   "metadata": {},
   "outputs": [
    {
     "ename": "TypeError",
     "evalue": "can't multiply sequence by non-int of type 'list'",
     "output_type": "error",
     "traceback": [
      "\u001b[1;31m---------------------------------------------------------------------------\u001b[0m",
      "\u001b[1;31mTypeError\u001b[0m                                 Traceback (most recent call last)",
      "\u001b[1;32m<ipython-input-77-9250f5fbb1ad>\u001b[0m in \u001b[0;36m<module>\u001b[1;34m\u001b[0m\n\u001b[1;32m----> 1\u001b[1;33m \u001b[0ma\u001b[0m \u001b[1;33m=\u001b[0m \u001b[1;33m[\u001b[0m\u001b[1;36m0\u001b[0m\u001b[1;33m]\u001b[0m \u001b[1;33m*\u001b[0m \u001b[1;33m[\u001b[0m\u001b[1;36m1\u001b[0m\u001b[1;33m]\u001b[0m\u001b[1;33m\u001b[0m\u001b[1;33m\u001b[0m\u001b[0m\n\u001b[0m\u001b[0;32m      2\u001b[0m \u001b[0mprint\u001b[0m\u001b[1;33m(\u001b[0m\u001b[0ma\u001b[0m\u001b[1;33m)\u001b[0m\u001b[1;33m\u001b[0m\u001b[1;33m\u001b[0m\u001b[0m\n",
      "\u001b[1;31mTypeError\u001b[0m: can't multiply sequence by non-int of type 'list'"
     ]
    }
   ],
   "source": [
    "a = [0] * [1]\n",
    "print(a)"
   ]
  },
  {
   "cell_type": "code",
   "execution_count": 78,
   "metadata": {
    "scrolled": true
   },
   "outputs": [
    {
     "ename": "TypeError",
     "evalue": "unsupported operand type(s) for /: 'list' and 'int'",
     "output_type": "error",
     "traceback": [
      "\u001b[1;31m---------------------------------------------------------------------------\u001b[0m",
      "\u001b[1;31mTypeError\u001b[0m                                 Traceback (most recent call last)",
      "\u001b[1;32m<ipython-input-78-e2797a14c18f>\u001b[0m in \u001b[0;36m<module>\u001b[1;34m\u001b[0m\n\u001b[1;32m----> 1\u001b[1;33m \u001b[0ma\u001b[0m \u001b[1;33m=\u001b[0m \u001b[1;33m[\u001b[0m\u001b[1;36m0\u001b[0m\u001b[1;33m,\u001b[0m \u001b[1;36m0\u001b[0m\u001b[1;33m,\u001b[0m \u001b[1;36m0\u001b[0m\u001b[1;33m,\u001b[0m \u001b[1;36m0\u001b[0m\u001b[1;33m]\u001b[0m \u001b[1;33m/\u001b[0m \u001b[1;36m2\u001b[0m\u001b[1;33m\u001b[0m\u001b[1;33m\u001b[0m\u001b[0m\n\u001b[0m\u001b[0;32m      2\u001b[0m \u001b[0mprint\u001b[0m\u001b[1;33m(\u001b[0m\u001b[0ma\u001b[0m\u001b[1;33m)\u001b[0m\u001b[1;33m\u001b[0m\u001b[1;33m\u001b[0m\u001b[0m\n",
      "\u001b[1;31mTypeError\u001b[0m: unsupported operand type(s) for /: 'list' and 'int'"
     ]
    }
   ],
   "source": [
    "a = [0, 0, 0, 0] / 2\n",
    "print(a)"
   ]
  },
  {
   "cell_type": "code",
   "execution_count": 79,
   "metadata": {
    "scrolled": false
   },
   "outputs": [
    {
     "ename": "TypeError",
     "evalue": "'int' object is not iterable",
     "output_type": "error",
     "traceback": [
      "\u001b[1;31m---------------------------------------------------------------------------\u001b[0m",
      "\u001b[1;31mTypeError\u001b[0m                                 Traceback (most recent call last)",
      "\u001b[1;32m<ipython-input-79-162df1f93e32>\u001b[0m in \u001b[0;36m<module>\u001b[1;34m\u001b[0m\n\u001b[0;32m      1\u001b[0m \u001b[0melements\u001b[0m \u001b[1;33m=\u001b[0m \u001b[1;36m2\u001b[0m\u001b[1;33m\u001b[0m\u001b[1;33m\u001b[0m\u001b[0m\n\u001b[1;32m----> 2\u001b[1;33m \u001b[1;32mfor\u001b[0m \u001b[0mi\u001b[0m \u001b[1;32min\u001b[0m \u001b[0melements\u001b[0m\u001b[1;33m:\u001b[0m\u001b[1;33m\u001b[0m\u001b[1;33m\u001b[0m\u001b[0m\n\u001b[0m\u001b[0;32m      3\u001b[0m     \u001b[0mprint\u001b[0m\u001b[1;33m(\u001b[0m\u001b[0mi\u001b[0m\u001b[1;33m)\u001b[0m\u001b[1;33m\u001b[0m\u001b[1;33m\u001b[0m\u001b[0m\n",
      "\u001b[1;31mTypeError\u001b[0m: 'int' object is not iterable"
     ]
    }
   ],
   "source": [
    "elements = 2\n",
    "for i in elements:\n",
    "    print(i)"
   ]
  },
  {
   "cell_type": "code",
   "execution_count": 80,
   "metadata": {
    "scrolled": true
   },
   "outputs": [
    {
     "ename": "TypeError",
     "evalue": "'float' object is not iterable",
     "output_type": "error",
     "traceback": [
      "\u001b[1;31m---------------------------------------------------------------------------\u001b[0m",
      "\u001b[1;31mTypeError\u001b[0m                                 Traceback (most recent call last)",
      "\u001b[1;32m<ipython-input-80-6b00a780cd25>\u001b[0m in \u001b[0;36m<module>\u001b[1;34m\u001b[0m\n\u001b[0;32m      1\u001b[0m \u001b[0melements\u001b[0m \u001b[1;33m=\u001b[0m \u001b[1;36m2.0\u001b[0m\u001b[1;33m\u001b[0m\u001b[1;33m\u001b[0m\u001b[0m\n\u001b[1;32m----> 2\u001b[1;33m \u001b[1;32mfor\u001b[0m \u001b[0mi\u001b[0m \u001b[1;32min\u001b[0m \u001b[0melements\u001b[0m\u001b[1;33m:\u001b[0m\u001b[1;33m\u001b[0m\u001b[1;33m\u001b[0m\u001b[0m\n\u001b[0m\u001b[0;32m      3\u001b[0m     \u001b[0mprint\u001b[0m\u001b[1;33m(\u001b[0m\u001b[0mi\u001b[0m\u001b[1;33m)\u001b[0m\u001b[1;33m\u001b[0m\u001b[1;33m\u001b[0m\u001b[0m\n",
      "\u001b[1;31mTypeError\u001b[0m: 'float' object is not iterable"
     ]
    }
   ],
   "source": [
    "elements = 2.0\n",
    "for i in elements:\n",
    "    print(i)"
   ]
  },
  {
   "cell_type": "code",
   "execution_count": 81,
   "metadata": {},
   "outputs": [
    {
     "ename": "TypeError",
     "evalue": "'bool' object is not iterable",
     "output_type": "error",
     "traceback": [
      "\u001b[1;31m---------------------------------------------------------------------------\u001b[0m",
      "\u001b[1;31mTypeError\u001b[0m                                 Traceback (most recent call last)",
      "\u001b[1;32m<ipython-input-81-06226162e598>\u001b[0m in \u001b[0;36m<module>\u001b[1;34m\u001b[0m\n\u001b[0;32m      1\u001b[0m \u001b[0melements\u001b[0m \u001b[1;33m=\u001b[0m \u001b[1;32mTrue\u001b[0m\u001b[1;33m\u001b[0m\u001b[1;33m\u001b[0m\u001b[0m\n\u001b[1;32m----> 2\u001b[1;33m \u001b[1;32mfor\u001b[0m \u001b[0mi\u001b[0m \u001b[1;32min\u001b[0m \u001b[0melements\u001b[0m\u001b[1;33m:\u001b[0m\u001b[1;33m\u001b[0m\u001b[1;33m\u001b[0m\u001b[0m\n\u001b[0m\u001b[0;32m      3\u001b[0m     \u001b[0mprint\u001b[0m\u001b[1;33m(\u001b[0m\u001b[0mi\u001b[0m\u001b[1;33m)\u001b[0m\u001b[1;33m\u001b[0m\u001b[1;33m\u001b[0m\u001b[0m\n",
      "\u001b[1;31mTypeError\u001b[0m: 'bool' object is not iterable"
     ]
    }
   ],
   "source": [
    "elements = True\n",
    "for i in elements:\n",
    "    print(i)"
   ]
  },
  {
   "cell_type": "code",
   "execution_count": 83,
   "metadata": {
    "scrolled": true
   },
   "outputs": [
    {
     "name": "stdout",
     "output_type": "stream",
     "text": [
      "მელია კუდაგრძელია!"
     ]
    }
   ],
   "source": [
    "elements = \"მელია კუდაგრძელია!\"\n",
    "for i in elements:\n",
    "    print(i, end=\"\")"
   ]
  },
  {
   "cell_type": "code",
   "execution_count": 86,
   "metadata": {},
   "outputs": [
    {
     "name": "stdout",
     "output_type": "stream",
     "text": [
      "მ\n",
      "ე\n",
      "ლ\n",
      "ი\n",
      "ა\n",
      " \n",
      "კ\n",
      "უ\n",
      "დ\n",
      "ა\n",
      "გ\n",
      "რ\n",
      "ძ\n",
      "ე\n",
      "ლ\n",
      "ი\n",
      "ა\n",
      "!\n"
     ]
    }
   ],
   "source": [
    "i = \"იხვი\"\n",
    "for i in elements:\n",
    "    print(i)"
   ]
  },
  {
   "cell_type": "code",
   "execution_count": 89,
   "metadata": {},
   "outputs": [
    {
     "name": "stdout",
     "output_type": "stream",
     "text": [
      "!\n"
     ]
    }
   ],
   "source": [
    "i = \"იხვი\"\n",
    "for i in elements:\n",
    "    a = 2\n",
    "print(i)"
   ]
  },
  {
   "cell_type": "code",
   "execution_count": 91,
   "metadata": {},
   "outputs": [
    {
     "name": "stdout",
     "output_type": "stream",
     "text": [
      "მელია კუდაგრძელია!!\n"
     ]
    }
   ],
   "source": [
    "for w in elements:\n",
    "    print(w, end=\"\")\n",
    "print(w)"
   ]
  },
  {
   "cell_type": "code",
   "execution_count": 92,
   "metadata": {},
   "outputs": [
    {
     "name": "stdout",
     "output_type": "stream",
     "text": [
      "[0, 1, 2, 3, 4, 5, 6]\n"
     ]
    }
   ],
   "source": [
    "elements = [0, 1, 2, 3, 4, 5]\n",
    "elements.append(6)\n",
    "print(elements)"
   ]
  },
  {
   "cell_type": "code",
   "execution_count": 94,
   "metadata": {
    "scrolled": true
   },
   "outputs": [
    {
     "ename": "TypeError",
     "evalue": "append() takes exactly one argument (2 given)",
     "output_type": "error",
     "traceback": [
      "\u001b[1;31m---------------------------------------------------------------------------\u001b[0m",
      "\u001b[1;31mTypeError\u001b[0m                                 Traceback (most recent call last)",
      "\u001b[1;32m<ipython-input-94-b2d5be39378f>\u001b[0m in \u001b[0;36m<module>\u001b[1;34m\u001b[0m\n\u001b[0;32m      1\u001b[0m \u001b[0melements\u001b[0m \u001b[1;33m=\u001b[0m \u001b[1;33m[\u001b[0m\u001b[1;36m0\u001b[0m\u001b[1;33m,\u001b[0m \u001b[1;36m1\u001b[0m\u001b[1;33m,\u001b[0m \u001b[1;36m2\u001b[0m\u001b[1;33m,\u001b[0m \u001b[1;36m3\u001b[0m\u001b[1;33m,\u001b[0m \u001b[1;36m4\u001b[0m\u001b[1;33m,\u001b[0m \u001b[1;36m5\u001b[0m\u001b[1;33m]\u001b[0m\u001b[1;33m\u001b[0m\u001b[1;33m\u001b[0m\u001b[0m\n\u001b[1;32m----> 2\u001b[1;33m \u001b[0melements\u001b[0m\u001b[1;33m.\u001b[0m\u001b[0mappend\u001b[0m\u001b[1;33m(\u001b[0m\u001b[1;36m6\u001b[0m\u001b[1;33m,\u001b[0m\u001b[1;36m7\u001b[0m\u001b[1;33m)\u001b[0m\u001b[1;33m\u001b[0m\u001b[1;33m\u001b[0m\u001b[0m\n\u001b[0m\u001b[0;32m      3\u001b[0m \u001b[0mprint\u001b[0m\u001b[1;33m(\u001b[0m\u001b[0melements\u001b[0m\u001b[1;33m)\u001b[0m\u001b[1;33m\u001b[0m\u001b[1;33m\u001b[0m\u001b[0m\n",
      "\u001b[1;31mTypeError\u001b[0m: append() takes exactly one argument (2 given)"
     ]
    }
   ],
   "source": [
    "elements = [0, 1, 2, 3, 4, 5]\n",
    "elements.append(6,7)\n",
    "print(elements)"
   ]
  },
  {
   "cell_type": "code",
   "execution_count": 95,
   "metadata": {},
   "outputs": [
    {
     "name": "stdout",
     "output_type": "stream",
     "text": [
      "[0, 1, 2, 3, 4, 5, [6, 7]]\n"
     ]
    }
   ],
   "source": [
    "elements = [0, 1, 2, 3, 4, 5]\n",
    "elements.append([6,7])\n",
    "print(elements)"
   ]
  },
  {
   "cell_type": "code",
   "execution_count": 99,
   "metadata": {
    "scrolled": true
   },
   "outputs": [
    {
     "name": "stdout",
     "output_type": "stream",
     "text": [
      "[0, 1, 2, 3, 4, 5, 6, 7]\n"
     ]
    }
   ],
   "source": [
    "elements = [0, 1, 2, 3, 4, 5]\n",
    "elements.extend([6,7])\n",
    "print(elements)"
   ]
  },
  {
   "cell_type": "code",
   "execution_count": 100,
   "metadata": {},
   "outputs": [
    {
     "name": "stdout",
     "output_type": "stream",
     "text": [
      "[5, 4, 3, 2, 1, 0]\n"
     ]
    }
   ],
   "source": [
    "elements = [0, 1, 2, 3, 4, 5]\n",
    "elements.reverse()\n",
    "print(elements)"
   ]
  },
  {
   "cell_type": "code",
   "execution_count": 106,
   "metadata": {},
   "outputs": [
    {
     "name": "stdout",
     "output_type": "stream",
     "text": [
      "['ერთი', 'ოთხი', 'ორი', 'სამი']\n"
     ]
    }
   ],
   "source": [
    "elements = [\"ერთი\", \"ორი\", \"სამი\", \"ოთხი\"]\n",
    "elements.sort()\n",
    "print(elements)"
   ]
  },
  {
   "cell_type": "code",
   "execution_count": 102,
   "metadata": {},
   "outputs": [
    {
     "name": "stdout",
     "output_type": "stream",
     "text": [
      "[['ა', 'ბ', 'გ', 'დ'], [1, 2, 3, 4]]\n"
     ]
    }
   ],
   "source": [
    "ასოები = [\"ა\", \"ბ\", \"გ\", \"დ\"]\n",
    "რიცხვები = [1, 2, 3, 4]\n",
    "combo = [ასოები, რიცხვები]\n",
    "print(combo)"
   ]
  },
  {
   "cell_type": "code",
   "execution_count": 103,
   "metadata": {
    "scrolled": true
   },
   "outputs": [
    {
     "name": "stdout",
     "output_type": "stream",
     "text": [
      "ბ\n"
     ]
    }
   ],
   "source": [
    "print(combo[0][1])"
   ]
  },
  {
   "cell_type": "code",
   "execution_count": 104,
   "metadata": {
    "scrolled": true
   },
   "outputs": [
    {
     "name": "stdout",
     "output_type": "stream",
     "text": [
      "['ბ', 'გ', 'დ']\n"
     ]
    }
   ],
   "source": [
    "print(combo[0][1:])"
   ]
  },
  {
   "cell_type": "code",
   "execution_count": 110,
   "metadata": {},
   "outputs": [
    {
     "name": "stdout",
     "output_type": "stream",
     "text": [
      "ერთი\n",
      "ორი\n",
      "სამი\n",
      "ოთხი\n"
     ]
    }
   ],
   "source": [
    "elements = [\"ერთი\", \"ორი\", \"სამი\", \"ოთხი\"]\n",
    "for i in range(len(elements)):\n",
    "    print(elements[i])"
   ]
  },
  {
   "cell_type": "code",
   "execution_count": 109,
   "metadata": {},
   "outputs": [
    {
     "name": "stdout",
     "output_type": "stream",
     "text": [
      "ერთი\n",
      "ორი\n",
      "სამი\n",
      "ოთხი\n"
     ]
    }
   ],
   "source": [
    "elements = [\"ერთი\", \"ორი\", \"სამი\", \"ოთხი\"]\n",
    "for i in elements:\n",
    "    print(i)"
   ]
  },
  {
   "cell_type": "code",
   "execution_count": 111,
   "metadata": {},
   "outputs": [
    {
     "data": {
      "text/plain": [
       "1"
      ]
     },
     "execution_count": 111,
     "metadata": {},
     "output_type": "execute_result"
    }
   ],
   "source": [
    "elements.count(\"ორი\")"
   ]
  },
  {
   "cell_type": "code",
   "execution_count": 112,
   "metadata": {
    "scrolled": true
   },
   "outputs": [
    {
     "data": {
      "text/plain": [
       "0"
      ]
     },
     "execution_count": 112,
     "metadata": {},
     "output_type": "execute_result"
    }
   ],
   "source": [
    "elements.count(\"ხუთი\")"
   ]
  },
  {
   "cell_type": "markdown",
   "metadata": {},
   "source": [
    "<h2 align=\"center\">ხშირად დასმული კითხვები</h2>\n",
    "\n",
    "- ქვევით მოყვანილია კითხვები, რომლებიც გაუჩნდათ რეალურ სტუდენტებს ამ სავარჯიშოს შესრულებისას:\n",
    "\n",
    "\n",
    "1. **როგორ შევქმნათ ორგანზომილებიანი სია?**\n",
    "\n",
    "   აი ასე: `[[1, 2, 3], [4, 5, 6]]`.\n",
    "   \n",
    "   \n",
    "2. **სია და მასივი ერთი და იგივე არაა?**\n",
    "   \n",
    "   ეს დამოკიდებულია ენაზე და იმპლემენტაციაზე მასში. \n",
    "   \n",
    "   კლასიკურად, ისინი ძალიან განსხვავდება ერთმანეთისგან იმპლემენტაციის კუთხით. \n",
    "   \n",
    "   მაგალითად, Ruby-ში ამ ყველაფერს უწოდებენ მასივს. \n",
    "   \n",
    "   Python-ში ჩვენ ამათ სიას ვეძახით. \n",
    "   \n",
    "   ამიერიდან მოდით შევთანხმდეთ, რომ ჩვენ ვეძახით მათ სიას, რადგან Python-ში ვმუშაობთ.\n",
    "   \n",
    "   \n",
    "3. **როგორ შეუძლია `for`-ის ციკლს გამოიყენოს ცვლადები, რომელიც აქამდე არ გვქონდა განსაზღვრული?**\n",
    "   \n",
    "   `for`-ის ციკლს თვითონ შემოაქვს ის ციკლის დასაწყისში და ეს ცვლადი გამოიყენება მანამ, სანამ ციკლი მუშაობს.\n",
    "   \n",
    "\n",
    "4. **რატომ მუშაობს ციკლი `for i in range (1, 3):` მხოლოდ  2-ჯერ და არა 3-ჯერ?**\n",
    "\n",
    "    `range()`-ის ფუნქცია ითვლის რიცხვებს პირველიდან ბოლო რიცხვის ჩაუთვლელად.\n",
    "    \n",
    "    \n",
    "5. **რას აკეთებს ფუნქცია `elements.append()`?**\n",
    "\n",
    "    append - ქართ., დამატება. ეს ფუნქცია უბრალოდ ამატებს ელემენეტს სიის ბოლოში. \n",
    "   \n",
    "   "
   ]
  },
  {
   "cell_type": "markdown",
   "metadata": {},
   "source": [
    "<h2 align=\"center\">საშინაო დავალება</h2>\n",
    "\n",
    "1. დააკვირდით, როგორ გამოვიყენეთ ფუნქცია `range()`. მოძებნეთ ამ ფუნქციის შესახებ მეტი ინტერნეტ-წყაროებში. \n",
    "\n",
    "\n",
    "2. შეგეძლოთ თუ არა ხაზ 22-ზე საერთოდ არ გამოგეყენებინათ `for`-ის ციკლი და ისე მიგეწერათ `range(0, 6)`?\n",
    "\n",
    "\n",
    "3. გაარკვიეთ, სვა რა ტიპის ობიექტები არის იტერირებადი.\n",
    "\n",
    "\n",
    "4. მოძებნეთ მეტი ინფორმაცია სიების ჩაშენებულ ფუნქციებზე: \n",
    "\n",
    "  `append`, `clear`, `count`, `extend`, `index`, `insert`, `pop`, `remove`, `reverse`, `sort`.\n",
    "  \n",
    "  დაწერეთ კოდი ყოველივე მათგანის გამოყენებით.\n",
    "  \n"
   ]
  },
  {
   "cell_type": "markdown",
   "metadata": {
    "id": "DqPstivsYckk"
   },
   "source": [
    "<h1 align=\"center\">სავარჯიშოს დასასრული</h1>"
   ]
  }
 ],
 "metadata": {
  "colab": {
   "collapsed_sections": [],
   "name": "Example for ex_10.ipynb",
   "provenance": [
    {
     "file_id": "1gA41PQJ9EnKxnFPmClTRFD5RcQUVHfzr",
     "timestamp": 1601916899165
    },
    {
     "file_id": "https://github.com/stsiskaridze/ISU/blob/master/R527/ex_02.ipynb",
     "timestamp": 1601912049891
    }
   ]
  },
  "kernelspec": {
   "display_name": "Python 3",
   "language": "python",
   "name": "python3"
  },
  "language_info": {
   "codemirror_mode": {
    "name": "ipython",
    "version": 3
   },
   "file_extension": ".py",
   "mimetype": "text/x-python",
   "name": "python",
   "nbconvert_exporter": "python",
   "pygments_lexer": "ipython3",
   "version": "3.7.3"
  }
 },
 "nbformat": 4,
 "nbformat_minor": 1
}
