{
 "cells": [
  {
   "cell_type": "markdown",
   "metadata": {
    "id": "WDDFQrf4Ycht"
   },
   "source": [
    "**R527 - დაპროგრამება პითონში**\n",
    "<br>\n",
    "თარიღი: **30 ოქტომბერი 2020**\n",
    "<br>\n",
    "\n",
    "სათაური: **სავარჯიშო 28**\n",
    "<br>\n",
    "მომხსენებელი: **შოთა ცისკარიძე**\n",
    "\n",
    "\n",
    "ბიბლიოგრაფია:\n",
    "<br> \n",
    " **სავარჯიშო 28.** Zed Shaw, *Learn Python 3 the Hard Way*, Addison Wesley (Verlag), 2017"
   ]
  },
  {
   "cell_type": "markdown",
   "metadata": {
    "id": "fYkwmIWkYchw"
   },
   "source": [
    "<h1 align=\"center\">სავარჯიშო 28: პრაქტიკა</h1>"
   ]
  },
  {
   "cell_type": "markdown",
   "metadata": {
    "slideshow": {
     "slide_type": "fragment"
    }
   },
   "source": [
    "<center><img src=\"images/Ex_28_Intro.jpg\" width=\"500\"alt=\"Example\" /></center>"
   ]
  },
  {
   "cell_type": "markdown",
   "metadata": {
    "id": "sRM4k6-aYch3"
   },
   "source": [
    "- წინა სავარჯიშოში მოყვანილ გამოსახულებებს ეწოდება **ბულის გამოსახულებები** (**Boolean**) და კოდის წერის დროს მათ ხშირად იყენებენ.\n",
    "\n",
    "\n",
    "- ქვემოთ მოყვანილია **ბულის**-ტიპის გამოსახულებები.\n",
    "\n",
    "\n",
    "- აკრიფეთ ისინი **Python**-ში და შეამოწმეთ თქვენი ცოდნა, რამდენად სწორად უპასუხებთ მათ.\n"
   ]
  },
  {
   "cell_type": "markdown",
   "metadata": {},
   "source": [
    "<style type=\"text/css\">\n",
    ".tg  {border-collapse:collapse;border-spacing:0;}\n",
    ".tg td{border-color:black;border-style:solid;border-width:1px;font-family:Arial, sans-serif;font-size:14px;\n",
    "  overflow:hidden;padding:10px 5px;word-break:normal;}\n",
    ".tg th{border-color:black;border-style:solid;border-width:1px;font-family:Arial, sans-serif;font-size:14px;\n",
    "  font-weight:normal;overflow:hidden;padding:10px 5px;word-break:normal;}\n",
    ".tg .tg-0lax{text-align:left;vertical-align:top}\n",
    "</style>\n",
    "<table class=\"tg\">\n",
    "<thead>\n",
    "  <tr>\n",
    "    <th class=\"tg-0lax\">NOT</th>\n",
    "    <th class=\"tg-0lax\">True?</th>\n",
    "  </tr>\n",
    "</thead>\n",
    "<tbody>\n",
    "  <tr>\n",
    "    <td class=\"tg-0lax\">not False</td>\n",
    "    <td class=\"tg-0lax\">True</td>\n",
    "  </tr>\n",
    "  <tr>\n",
    "    <td class=\"tg-0lax\">not True</td>\n",
    "    <td class=\"tg-0lax\">False</td>\n",
    "  </tr>\n",
    "</tbody>\n",
    "</table>"
   ]
  },
  {
   "cell_type": "code",
   "execution_count": null,
   "metadata": {},
   "outputs": [],
   "source": [
    "not False"
   ]
  },
  {
   "cell_type": "code",
   "execution_count": null,
   "metadata": {
    "scrolled": true
   },
   "outputs": [],
   "source": [
    "not True"
   ]
  },
  {
   "cell_type": "markdown",
   "metadata": {},
   "source": [
    "<style type=\"text/css\">\n",
    ".tg  {border-collapse:collapse;border-spacing:0;}\n",
    ".tg td{border-color:black;border-style:solid;border-width:1px;font-family:Arial, sans-serif;font-size:14px;\n",
    "  overflow:hidden;padding:10px 5px;word-break:normal;}\n",
    ".tg th{border-color:black;border-style:solid;border-width:1px;font-family:Arial, sans-serif;font-size:14px;\n",
    "  font-weight:normal;overflow:hidden;padding:10px 5px;word-break:normal;}\n",
    ".tg .tg-0lax{text-align:left;vertical-align:top}\n",
    "</style>\n",
    "<table class=\"tg\">\n",
    "<thead>\n",
    "  <tr>\n",
    "    <th class=\"tg-0lax\">AND</th>\n",
    "    <th class=\"tg-0lax\">True?</th>\n",
    "  </tr>\n",
    "</thead>\n",
    "<tbody>\n",
    "  <tr>\n",
    "    <td class=\"tg-0lax\">True or True</td>\n",
    "    <td class=\"tg-0lax\">True</td>\n",
    "  </tr>\n",
    "  <tr>\n",
    "    <td class=\"tg-0lax\">True or False</td>\n",
    "    <td class=\"tg-0lax\">False</td>\n",
    "  </tr>\n",
    "  <tr>\n",
    "    <td class=\"tg-0lax\">False or True</td>\n",
    "    <td class=\"tg-0lax\">False</td>\n",
    "  </tr>\n",
    "  <tr>\n",
    "    <td class=\"tg-0lax\">False or False</td>\n",
    "    <td class=\"tg-0lax\">False</td>\n",
    "  </tr>\n",
    "</tbody>\n",
    "</table>"
   ]
  },
  {
   "cell_type": "code",
   "execution_count": null,
   "metadata": {},
   "outputs": [],
   "source": [
    "True and True"
   ]
  },
  {
   "cell_type": "code",
   "execution_count": null,
   "metadata": {},
   "outputs": [],
   "source": [
    "True and False"
   ]
  },
  {
   "cell_type": "code",
   "execution_count": null,
   "metadata": {},
   "outputs": [],
   "source": [
    "True and True"
   ]
  },
  {
   "cell_type": "code",
   "execution_count": null,
   "metadata": {},
   "outputs": [],
   "source": [
    "False and False"
   ]
  },
  {
   "cell_type": "markdown",
   "metadata": {},
   "source": [
    "<style type=\"text/css\">\n",
    ".tg  {border-collapse:collapse;border-spacing:0;}\n",
    ".tg td{border-color:black;border-style:solid;border-width:1px;font-family:Arial, sans-serif;font-size:14px;\n",
    "  overflow:hidden;padding:10px 5px;word-break:normal;}\n",
    ".tg th{border-color:black;border-style:solid;border-width:1px;font-family:Arial, sans-serif;font-size:14px;\n",
    "  font-weight:normal;overflow:hidden;padding:10px 5px;word-break:normal;}\n",
    ".tg .tg-0lax{text-align:left;vertical-align:top}\n",
    "</style>\n",
    "<table class=\"tg\">\n",
    "<thead>\n",
    "  <tr>\n",
    "    <th class=\"tg-0lax\">OR</th>\n",
    "    <th class=\"tg-0lax\">True?</th>\n",
    "  </tr>\n",
    "</thead>\n",
    "<tbody>\n",
    "  <tr>\n",
    "    <td class=\"tg-0lax\">True or True</td>\n",
    "    <td class=\"tg-0lax\">True</td>\n",
    "  </tr>\n",
    "  <tr>\n",
    "    <td class=\"tg-0lax\">True or False</td>\n",
    "    <td class=\"tg-0lax\">True</td>\n",
    "  </tr>\n",
    "  <tr>\n",
    "    <td class=\"tg-0lax\">False or True</td>\n",
    "    <td class=\"tg-0lax\">True</td>\n",
    "  </tr>\n",
    "  <tr>\n",
    "    <td class=\"tg-0lax\">False or False</td>\n",
    "    <td class=\"tg-0lax\">False</td>\n",
    "  </tr>\n",
    "</tbody>\n",
    "</table>"
   ]
  },
  {
   "cell_type": "code",
   "execution_count": null,
   "metadata": {},
   "outputs": [],
   "source": [
    "True or True"
   ]
  },
  {
   "cell_type": "code",
   "execution_count": null,
   "metadata": {},
   "outputs": [],
   "source": [
    "True or False"
   ]
  },
  {
   "cell_type": "code",
   "execution_count": null,
   "metadata": {},
   "outputs": [],
   "source": [
    "False or True"
   ]
  },
  {
   "cell_type": "code",
   "execution_count": null,
   "metadata": {
    "scrolled": true
   },
   "outputs": [],
   "source": [
    "False or False"
   ]
  },
  {
   "cell_type": "markdown",
   "metadata": {},
   "source": [
    "<style type=\"text/css\">\n",
    ".tg  {border-collapse:collapse;border-spacing:0;}\n",
    ".tg td{border-color:black;border-style:solid;border-width:1px;font-family:Arial, sans-serif;font-size:14px;\n",
    "  overflow:hidden;padding:10px 5px;word-break:normal;}\n",
    ".tg th{border-color:black;border-style:solid;border-width:1px;font-family:Arial, sans-serif;font-size:14px;\n",
    "  font-weight:normal;overflow:hidden;padding:10px 5px;word-break:normal;}\n",
    ".tg .tg-0lax{text-align:left;vertical-align:top}\n",
    "</style>\n",
    "<table class=\"tg\">\n",
    "<thead>\n",
    "  <tr>\n",
    "    <th class=\"tg-0lax\">OR</th>\n",
    "    <th class=\"tg-0lax\">True?</th>\n",
    "  </tr>\n",
    "</thead>\n",
    "<tbody>\n",
    "  <tr>\n",
    "    <td class=\"tg-0lax\">True or True</td>\n",
    "    <td class=\"tg-0lax\">True</td>\n",
    "  </tr>\n",
    "  <tr>\n",
    "    <td class=\"tg-0lax\">True or False</td>\n",
    "    <td class=\"tg-0lax\">True</td>\n",
    "  </tr>\n",
    "  <tr>\n",
    "    <td class=\"tg-0lax\">False or True</td>\n",
    "    <td class=\"tg-0lax\">True</td>\n",
    "  </tr>\n",
    "  <tr>\n",
    "    <td class=\"tg-0lax\">False or False</td>\n",
    "    <td class=\"tg-0lax\">False</td>\n",
    "  </tr>\n",
    "</tbody>\n",
    "</table>"
   ]
  },
  {
   "cell_type": "markdown",
   "metadata": {
    "id": "5VNgPbtP7Kx4"
   },
   "source": [
    "- ახლა გადავიდეთ **შედარების ოპერატორებზე**:"
   ]
  },
  {
   "cell_type": "code",
   "execution_count": null,
   "metadata": {
    "id": "_Wo8WBui7KyI"
   },
   "outputs": [],
   "source": [
    "1 == 1"
   ]
  },
  {
   "cell_type": "code",
   "execution_count": null,
   "metadata": {},
   "outputs": [],
   "source": [
    "2 != 2"
   ]
  },
  {
   "cell_type": "code",
   "execution_count": null,
   "metadata": {},
   "outputs": [],
   "source": [
    "1 == 1 or 2 != 1"
   ]
  },
  {
   "cell_type": "code",
   "execution_count": null,
   "metadata": {
    "id": "nfwhcA1L7Kx-",
    "scrolled": true
   },
   "outputs": [],
   "source": [
    "\"ტესტი\" == \"ტესტი\""
   ]
  },
  {
   "cell_type": "code",
   "execution_count": null,
   "metadata": {
    "id": "fr9YAK1F7Kyh"
   },
   "outputs": [],
   "source": [
    "\"ტესტი\" == \"ტესტირება\""
   ]
  },
  {
   "cell_type": "code",
   "execution_count": null,
   "metadata": {
    "id": "qLyzykt47Kyq"
   },
   "outputs": [],
   "source": [
    "\"ტესტი\" != \"ტესტირება\""
   ]
  },
  {
   "cell_type": "code",
   "execution_count": null,
   "metadata": {
    "id": "EMb3EaQX7Kyw"
   },
   "outputs": [],
   "source": [
    "\"ტესტი\" == 1"
   ]
  },
  {
   "cell_type": "code",
   "execution_count": null,
   "metadata": {
    "id": "DoaGhfh77KyP"
   },
   "outputs": [],
   "source": [
    "True and 1 == 1"
   ]
  },
  {
   "cell_type": "code",
   "execution_count": null,
   "metadata": {
    "id": "Xuy6xaR27KyT"
   },
   "outputs": [],
   "source": [
    "False and 0 != 0"
   ]
  },
  {
   "cell_type": "code",
   "execution_count": null,
   "metadata": {
    "id": "E9CEd6o-7Ky8"
   },
   "outputs": [],
   "source": [
    "not (1 == 1 and 0 != 1)"
   ]
  },
  {
   "cell_type": "code",
   "execution_count": null,
   "metadata": {
    "id": "QiRBf3Fg7KzH"
   },
   "outputs": [],
   "source": [
    "not (10 == 1 or 1000 == 1000)"
   ]
  },
  {
   "cell_type": "code",
   "execution_count": null,
   "metadata": {
    "id": "N4IfTSG-7KzM"
   },
   "outputs": [],
   "source": [
    "not (1 != 10 or 3 == 4)"
   ]
  },
  {
   "cell_type": "code",
   "execution_count": null,
   "metadata": {
    "id": "PVGnjoNf7KzP"
   },
   "outputs": [],
   "source": [
    "not (\"ტესტირება\" == \"ტესტირება\" and \"Zed\" == \"Cool Guy\")"
   ]
  },
  {
   "cell_type": "code",
   "execution_count": null,
   "metadata": {
    "id": "UwJAcucL7KzU"
   },
   "outputs": [],
   "source": [
    "1 == 1 and (not (\"ტესტირება\" == 1 or 1 == 0))"
   ]
  },
  {
   "cell_type": "code",
   "execution_count": null,
   "metadata": {
    "id": "p0fLrrpV7KzZ"
   },
   "outputs": [],
   "source": [
    "\"ცხიმიანი\" == \"ბეკონი\" and (not (3 == 4 or 3 == 3))"
   ]
  },
  {
   "cell_type": "code",
   "execution_count": null,
   "metadata": {
    "id": "WNgSgrjh7Kzf"
   },
   "outputs": [],
   "source": [
    "3 == 3 and (not (\"ტესტირება\" == \"ტესტირება\" or \"Python\" == \"fun\"))"
   ]
  },
  {
   "cell_type": "markdown",
   "metadata": {
    "id": "5VNgPbtP7Kx4"
   },
   "source": [
    "- ისევე როგორც **მთელი რიცხვებისთვის** არსებობს `int` ტიპის ცვლადები და **სტრიქონებისთვის** არსებობს `str` ცვლადები, **ბულის ალგებრის  ელემენტებისთვისაც** არსებობს `bool`-ის ტიპის ცვლადი და შესაბამისი **ტიპის შეცვლის ოპერატორი** `bool()`:"
   ]
  },
  {
   "cell_type": "code",
   "execution_count": null,
   "metadata": {},
   "outputs": [],
   "source": [
    "type(False)"
   ]
  },
  {
   "cell_type": "code",
   "execution_count": null,
   "metadata": {
    "scrolled": true
   },
   "outputs": [],
   "source": [
    "type(True)"
   ]
  },
  {
   "cell_type": "code",
   "execution_count": null,
   "metadata": {},
   "outputs": [],
   "source": [
    "type(1 == 1)"
   ]
  },
  {
   "cell_type": "code",
   "execution_count": null,
   "metadata": {},
   "outputs": [],
   "source": [
    "bool(None)"
   ]
  },
  {
   "cell_type": "code",
   "execution_count": null,
   "metadata": {
    "scrolled": true
   },
   "outputs": [],
   "source": [
    "bool(False)"
   ]
  },
  {
   "cell_type": "code",
   "execution_count": null,
   "metadata": {
    "scrolled": true
   },
   "outputs": [],
   "source": [
    "bool(0)"
   ]
  },
  {
   "cell_type": "code",
   "execution_count": null,
   "metadata": {
    "scrolled": true
   },
   "outputs": [],
   "source": [
    "bool(0.0)"
   ]
  },
  {
   "cell_type": "code",
   "execution_count": null,
   "metadata": {
    "scrolled": true
   },
   "outputs": [],
   "source": [
    "bool(\"\")"
   ]
  },
  {
   "cell_type": "code",
   "execution_count": null,
   "metadata": {},
   "outputs": [],
   "source": [
    "bool([])"
   ]
  },
  {
   "cell_type": "code",
   "execution_count": null,
   "metadata": {
    "scrolled": true
   },
   "outputs": [],
   "source": [
    "bool(1)"
   ]
  },
  {
   "cell_type": "code",
   "execution_count": null,
   "metadata": {
    "scrolled": true
   },
   "outputs": [],
   "source": [
    "a = []\n",
    "bool(a)"
   ]
  },
  {
   "cell_type": "code",
   "execution_count": null,
   "metadata": {
    "scrolled": true
   },
   "outputs": [],
   "source": [
    "bool(10)"
   ]
  },
  {
   "cell_type": "code",
   "execution_count": null,
   "metadata": {},
   "outputs": [],
   "source": [
    "bool(-1)"
   ]
  },
  {
   "cell_type": "code",
   "execution_count": null,
   "metadata": {
    "scrolled": true
   },
   "outputs": [],
   "source": [
    "bool('იხვი')"
   ]
  },
  {
   "cell_type": "code",
   "execution_count": null,
   "metadata": {},
   "outputs": [],
   "source": [
    "bool([0])"
   ]
  },
  {
   "cell_type": "code",
   "execution_count": null,
   "metadata": {},
   "outputs": [],
   "source": [
    "bool([False])"
   ]
  },
  {
   "cell_type": "code",
   "execution_count": null,
   "metadata": {},
   "outputs": [],
   "source": [
    "bool([1, 1.0, '1'])"
   ]
  },
  {
   "cell_type": "code",
   "execution_count": null,
   "metadata": {},
   "outputs": [],
   "source": [
    "bool([[]])"
   ]
  },
  {
   "cell_type": "code",
   "execution_count": null,
   "metadata": {},
   "outputs": [],
   "source": [
    "bool(int)"
   ]
  },
  {
   "cell_type": "code",
   "execution_count": null,
   "metadata": {
    "scrolled": true
   },
   "outputs": [],
   "source": [
    "bool(str)"
   ]
  },
  {
   "cell_type": "code",
   "execution_count": null,
   "metadata": {},
   "outputs": [],
   "source": [
    "bool(bool)"
   ]
  },
  {
   "cell_type": "markdown",
   "metadata": {
    "id": "l8THTYde7Kzk"
   },
   "source": [
    "- **პატარა რჩევასაც** მოგცემთ. \n",
    "\n",
    "\n",
    "- ბულიანის ტიპის ლოგიკური გამოსახულებების ამოსახსნელად მიყევით ამ მარტივ ნაბიჯებს:\n",
    "  1. პირველ რიგში, იპოვეთ `==` ან `!=`, და ჩაწერეთ შესაბამისი პასუხი (მართალია თუ მცდარი);\n",
    "  2. შემდეგ გადადით ფრჩხილებში მოქცეულ გამოსახულებებზე და ამოხსენით `and` და `or`;\n",
    "  3. იპოვეთ ყველა `not` და შეცვალეთ გამოსახულება (ანუ `True` თუ იყო, დაწერეთ `False` და პირიქით);\n",
    "  4. იპოვეთ დარჩენილი `and` და `or` და ამოხსენით;\n",
    "  5. მე-4 ნაბიჯის შესრულებისას უკვე გექნებათ საბოლოო პასუხი."
   ]
  },
  {
   "cell_type": "markdown",
   "metadata": {
    "id": "q5Z1Zl3G7Kzl"
   },
   "source": [
    "- **ყურედღება**: ყველაზე კომპლექსური დავალება შეიძლება ძალიან რთულად მოგეჩვენოთ თავიდან, მაგრამ ფარ-ხმალი არ დაყაროთ. \n",
    "\n",
    "  ეს **ოგიკური ვარჯიშები** უზრუნველყოფს თქვენს გაგებასა და ცოდნას. \n",
    "\n",
    "\n",
    "- **დამიჯერეთ!** ცოტა ხანში უკან რომ **მოიხედებით** (ან **მოიხოდებით**), ძალიან ადვილად ამოხსნით თითოეულ მათგანს. კენწეროში გატკბილდება :)"
   ]
  },
  {
   "cell_type": "markdown",
   "metadata": {
    "id": "OOlfXd4j7Kzn"
   },
   "source": [
    "<h2 align=\"center\">ხშირად დასმული კითხვები</h2>\n",
    "\n",
    "- ქვევით მოყვანილია კითხვები, რომლებიც გაუჩნდათ რეალურ სტუდენტებს ამ სავარჯიშოს შესრულებისას:\n",
    "\n",
    "\n",
    "1. **იმის მაგივრად, რომ `True` დამიბრუნოს, Python-ი ბეჭდავს `\"ტესტი\"`-ს ან `1`-ს შემდეგი კოდების გაშვებისას: `\"ტესტი\" == \"ტესტი\"` და `1 and 1`.**\n",
    "\n",
    "   Python-ს, სხვა ენების მსგავსად, ხანდახან ურჩევნია გამოსახულების ერთ-ერთი ნაწილი დააბრუნოს უბრალო `True` ან `False`-ის მაგივრად. მაგალითად, თუ თქვენ დაწერთ `False and 1`, Python-ი დაგიბრუნებთ `False`-ს ანუ პირველ ოპერანდს, ხოლო თუ დაწერთ `True and 1`, ის დააბრუნებს `1`-ს, ანუ მეორე ოპერანდს. ცოტათი წაითამაშეთ.\n",
    "   \n",
    "\n",
    "2. **არსებობს რამე განსხვავება `!=`-სა და `<>`-ს შორის?**\n",
    "   \n",
    "   მეორე გამოსახულება მოძველებულია, ამიტომ გამოიყენეთ `!=`.\n",
    "   \n",
    "   \n",
    "3. **რამე მოკლე გზა არ არსებობს?**\n",
    "\n",
    "   კი, არსებობს. ნებისმიერი `and` გამოსახულება არის მცდარი, თუ ერთ-ერთი ოპერანდი `False`-ია; ნებისმიერი `or` გამოსახულება არის მართალი, თუ ერთ-ერთი ოპერანდი `True`-ა.  \n",
    "   "
   ]
  },
  {
   "cell_type": "markdown",
   "metadata": {
    "id": "ZCzIo3U47Kzn"
   },
   "source": [
    "<h2 align=\"center\">საშინაო დავალება</h2>\n",
    "\n",
    "1. ამ სავარჯიშოში ჩვენ დავბეჭდეთ მნიშვნელობები `not`, `and` და `or` ცხრილებისთვის. \n",
    "\n",
    "   დაბეჭდეთ მნიშვნელობები დანარჩენ ცხრილების:"
   ]
  },
  {
   "cell_type": "markdown",
   "metadata": {},
   "source": [
    "<style type=\"text/css\">\n",
    ".tg  {border-collapse:collapse;border-spacing:0;}\n",
    ".tg td{border-color:black;border-style:solid;border-width:1px;font-family:Arial, sans-serif;font-size:14px;\n",
    "  overflow:hidden;padding:10px 5px;word-break:normal;}\n",
    ".tg th{border-color:black;border-style:solid;border-width:1px;font-family:Arial, sans-serif;font-size:14px;\n",
    "  font-weight:normal;overflow:hidden;padding:10px 5px;word-break:normal;}\n",
    ".tg .tg-0lax{text-align:left;vertical-align:top}\n",
    "</style>\n",
    "<table class=\"tg\">\n",
    "<thead>\n",
    "  <tr>\n",
    "    <th class=\"tg-0lax\">NOT OR</th>\n",
    "    <th class=\"tg-0lax\">True?</th>\n",
    "  </tr>\n",
    "</thead>\n",
    "<tbody>\n",
    "  <tr>\n",
    "    <td class=\"tg-0lax\">not (True or True)</td>\n",
    "    <td class=\"tg-0lax\">False</td>\n",
    "  </tr>\n",
    "  <tr>\n",
    "    <td class=\"tg-0lax\">not (True or False)</td>\n",
    "    <td class=\"tg-0lax\">False</td>\n",
    "  </tr>\n",
    "  <tr>\n",
    "    <td class=\"tg-0lax\">not (False or True)</td>\n",
    "    <td class=\"tg-0lax\">False</td>\n",
    "  </tr>\n",
    "  <tr>\n",
    "    <td class=\"tg-0lax\">not (False or False)</td>\n",
    "    <td class=\"tg-0lax\">True</td>\n",
    "  </tr>\n",
    "</tbody>\n",
    "</table>\n",
    "\n",
    "\n",
    "<style type=\"text/css\">\n",
    ".tg  {border-collapse:collapse;border-spacing:0;}\n",
    ".tg td{border-color:black;border-style:solid;border-width:1px;font-family:Arial, sans-serif;font-size:14px;\n",
    "  overflow:hidden;padding:10px 5px;word-break:normal;}\n",
    ".tg th{border-color:black;border-style:solid;border-width:1px;font-family:Arial, sans-serif;font-size:14px;\n",
    "  font-weight:normal;overflow:hidden;padding:10px 5px;word-break:normal;}\n",
    ".tg .tg-0lax{text-align:left;vertical-align:top}\n",
    "</style>\n",
    "<table class=\"tg\">\n",
    "<thead>\n",
    "  <tr>\n",
    "    <th class=\"tg-0lax\">NOT AND</th>\n",
    "    <th class=\"tg-0lax\">True?</th>\n",
    "  </tr>\n",
    "</thead>\n",
    "<tbody>\n",
    "  <tr>\n",
    "    <td class=\"tg-0lax\">not (True and True)</td>\n",
    "    <td class=\"tg-0lax\">False</td>\n",
    "  </tr>\n",
    "  <tr>\n",
    "    <td class=\"tg-0lax\">not (True and False)</td>\n",
    "    <td class=\"tg-0lax\">True</td>\n",
    "  </tr>\n",
    "  <tr>\n",
    "    <td class=\"tg-0lax\">not (False and True)</td>\n",
    "    <td class=\"tg-0lax\">True</td>\n",
    "  </tr>\n",
    "  <tr>\n",
    "    <td class=\"tg-0lax\">not (False and False)</td>\n",
    "    <td class=\"tg-0lax\">True</td>\n",
    "  </tr>\n",
    "</tbody>\n",
    "</table>\n",
    "\n",
    "\n",
    "<style type=\"text/css\">\n",
    ".tg  {border-collapse:collapse;border-spacing:0;}\n",
    ".tg td{border-color:black;border-style:solid;border-width:1px;font-family:Arial, sans-serif;font-size:14px;\n",
    "  overflow:hidden;padding:10px 5px;word-break:normal;}\n",
    ".tg th{border-color:black;border-style:solid;border-width:1px;font-family:Arial, sans-serif;font-size:14px;\n",
    "  font-weight:normal;overflow:hidden;padding:10px 5px;word-break:normal;}\n",
    ".tg .tg-0lax{text-align:left;vertical-align:top}\n",
    "</style>\n",
    "<table class=\"tg\">\n",
    "<thead>\n",
    "  <tr>\n",
    "    <th class=\"tg-0lax\">!=</th>\n",
    "    <th class=\"tg-0lax\">True?</th>\n",
    "  </tr>\n",
    "</thead>\n",
    "<tbody>\n",
    "  <tr>\n",
    "    <td class=\"tg-0lax\">1 != 0</td>\n",
    "    <td class=\"tg-0lax\">True</td>\n",
    "  </tr>\n",
    "  <tr>\n",
    "    <td class=\"tg-0lax\">1 != 1</td>\n",
    "    <td class=\"tg-0lax\">False</td>\n",
    "  </tr>\n",
    "  <tr>\n",
    "    <td class=\"tg-0lax\">0 != 1</td>\n",
    "    <td class=\"tg-0lax\">True</td>\n",
    "  </tr>\n",
    "  <tr>\n",
    "    <td class=\"tg-0lax\">0 != 0</td>\n",
    "    <td class=\"tg-0lax\">False</td>\n",
    "  </tr>\n",
    "</tbody>\n",
    "</table>\n",
    "\n",
    "\n",
    "<style type=\"text/css\">\n",
    ".tg  {border-collapse:collapse;border-spacing:0;}\n",
    ".tg td{border-color:black;border-style:solid;border-width:1px;font-family:Arial, sans-serif;font-size:14px;\n",
    "  overflow:hidden;padding:10px 5px;word-break:normal;}\n",
    ".tg th{border-color:black;border-style:solid;border-width:1px;font-family:Arial, sans-serif;font-size:14px;\n",
    "  font-weight:normal;overflow:hidden;padding:10px 5px;word-break:normal;}\n",
    ".tg .tg-0lax{text-align:left;vertical-align:top}\n",
    "</style>\n",
    "<table class=\"tg\">\n",
    "<thead>\n",
    "  <tr>\n",
    "    <th class=\"tg-0lax\">==</th>\n",
    "    <th class=\"tg-0lax\">True?</th>\n",
    "  </tr>\n",
    "</thead>\n",
    "<tbody>\n",
    "  <tr>\n",
    "    <td class=\"tg-0lax\">1 == 0</td>\n",
    "    <td class=\"tg-0lax\">False</td>\n",
    "  </tr>\n",
    "  <tr>\n",
    "    <td class=\"tg-0lax\">1 == 1</td>\n",
    "    <td class=\"tg-0lax\">True</td>\n",
    "  </tr>\n",
    "  <tr>\n",
    "    <td class=\"tg-0lax\">0 == 1</td>\n",
    "    <td class=\"tg-0lax\">False</td>\n",
    "  </tr>\n",
    "  <tr>\n",
    "    <td class=\"tg-0lax\">0 == 0</td>\n",
    "    <td class=\"tg-0lax\">True</td>\n",
    "  </tr>\n",
    "</tbody>\n",
    "</table>"
   ]
  },
  {
   "cell_type": "markdown",
   "metadata": {},
   "source": [
    "\n",
    "2. **Python**-ში ძალიან ბევრი **შედარების ოპერატორი** გვაქვს, მაგალითად: `!=`, `==`, `<`, `<=`. \n",
    "\n",
    "   გამოიყენეთ ინტერნეტ-რესურსი და გაარკვიეთ მათი გამოყენების წესი.\n",
    "   \n",
    "   მოიყვანეთ მაგალითები ყოველივე მათგანისთვის!\n",
    "\n",
    "\n",
    "3. მოიფიქრეთ რამე გამოსახულებები ახალი ოპერატორების გამოყენებით და შეეცადეთ გამოიცნოთ პასუხი სანამ გაუშვებდეთ კოდს. "
   ]
  },
  {
   "cell_type": "markdown",
   "metadata": {
    "id": "DqPstivsYckk"
   },
   "source": [
    "<h1 align=\"center\">სავარჯიშოს დასასრული</h1>"
   ]
  }
 ],
 "metadata": {
  "colab": {
   "collapsed_sections": [],
   "name": "ex_28.ipynb",
   "provenance": [
    {
     "file_id": "1gA41PQJ9EnKxnFPmClTRFD5RcQUVHfzr",
     "timestamp": 1601916899165
    },
    {
     "file_id": "https://github.com/stsiskaridze/ISU/blob/master/R527/ex_02.ipynb",
     "timestamp": 1601912049891
    }
   ]
  },
  "kernelspec": {
   "display_name": "Python 3",
   "language": "python",
   "name": "python3"
  },
  "language_info": {
   "codemirror_mode": {
    "name": "ipython",
    "version": 3
   },
   "file_extension": ".py",
   "mimetype": "text/x-python",
   "name": "python",
   "nbconvert_exporter": "python",
   "pygments_lexer": "ipython3",
   "version": "3.7.3"
  }
 },
 "nbformat": 4,
 "nbformat_minor": 1
}
