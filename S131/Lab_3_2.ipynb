{
 "cells": [
  {
   "cell_type": "markdown",
   "metadata": {
    "slideshow": {
     "slide_type": "notes"
    }
   },
   "source": [
    "**მონაცემთა ანალიზი პითონის გამოყენებით**\n",
    "<br>\n",
    "თარიღი: **2021 წლის 10 ივნისი**\n",
    "<br>\n",
    "\n",
    "სათაური: **ლაბორატორიული №3: Pandas-ის ბიბლიოთეკა**"
   ]
  },
  {
   "cell_type": "markdown",
   "metadata": {},
   "source": [
    "# სავარჯიშო 2.  მონაცემთა გაფილტვრა და დახარისხება"
   ]
  },
  {
   "cell_type": "markdown",
   "metadata": {},
   "source": [
    "#### ნაბიჯი 1. მოახდინეთ საჭირო ბიბლიოთეკების იმპორტირება"
   ]
  },
  {
   "cell_type": "code",
   "execution_count": null,
   "metadata": {},
   "outputs": [],
   "source": []
  },
  {
   "cell_type": "markdown",
   "metadata": {},
   "source": [
    "#### ნაბიჯი 2. შექმენით ბმული, რომელიც მომდევნოდ გამოიყენება შემდეგი მონაცემების <a href = \"https://raw.githubusercontent.com/guipsamora/pandas_exercises/master/02_Filtering_%26_Sorting/Euro12/Euro_2012_stats_TEAM.csv\">გადმოსაწერად</a>. "
   ]
  },
  {
   "cell_type": "code",
   "execution_count": null,
   "metadata": {},
   "outputs": [],
   "source": [
    "url = "
   ]
  },
  {
   "cell_type": "markdown",
   "metadata": {},
   "source": [
    "#### ნაბიჯი 3. მოახდინეთ მონაცემების იმპორტირება `url` ბმულიდან `pandas`-ს მეთოდების გამოყენებით"
   ]
  },
  {
   "cell_type": "code",
   "execution_count": null,
   "metadata": {},
   "outputs": [],
   "source": [
    "df = "
   ]
  },
  {
   "cell_type": "markdown",
   "metadata": {},
   "source": [
    "#### ნაბიჯი 4. აირჩიეთ მხოლოდ მიზნის (`Goals`) სვეტი."
   ]
  },
  {
   "cell_type": "code",
   "execution_count": null,
   "metadata": {},
   "outputs": [],
   "source": []
  },
  {
   "cell_type": "markdown",
   "metadata": {},
   "source": [
    "#### ნაბიჯი 5. რამდენი გუნდი მონაწილეობდა `Euro2012`- ში?"
   ]
  },
  {
   "cell_type": "code",
   "execution_count": null,
   "metadata": {},
   "outputs": [],
   "source": []
  },
  {
   "cell_type": "markdown",
   "metadata": {},
   "source": [
    "#### ნაბიჯი 6. რა არის სვეტების რაოდენობა მონაცემთა ნაკრებში?"
   ]
  },
  {
   "cell_type": "code",
   "execution_count": null,
   "metadata": {},
   "outputs": [],
   "source": []
  },
  {
   "cell_type": "markdown",
   "metadata": {},
   "source": [
    "#### ნაბიჯი 7. აჩვენეთ მხოლოდ სვეტები `Team`, `Yellow Cards` და `Red Cards`, და მიანიჭეთ ისინი მონაცემთა ჩარჩოს, რომელსაც ეწოდება `discipline`"
   ]
  },
  {
   "cell_type": "code",
   "execution_count": null,
   "metadata": {},
   "outputs": [],
   "source": []
  },
  {
   "cell_type": "markdown",
   "metadata": {},
   "source": [
    "#### ნაბიჯი 8. დაალაგეთ გუნდები წითელი ბარათების (`Red Cards`), შემდეგ კი ყვითელი ბარათების (`Yellow Cards`) მიხედვით"
   ]
  },
  {
   "cell_type": "code",
   "execution_count": null,
   "metadata": {},
   "outputs": [],
   "source": []
  },
  {
   "cell_type": "markdown",
   "metadata": {},
   "source": [
    "#### ნაბიჯი 9. გამოთვალეთ ყვითელი ბარათები საშუალო მნიშვნელობა ყოველი გუნდისთვის"
   ]
  },
  {
   "cell_type": "code",
   "execution_count": null,
   "metadata": {},
   "outputs": [],
   "source": []
  },
  {
   "cell_type": "markdown",
   "metadata": {},
   "source": [
    "#### ნაბიჯი 10. გაფილტრეთ გუნდები, რომლებმაც 6 გოლზე მეტი გაიტანეს"
   ]
  },
  {
   "cell_type": "code",
   "execution_count": null,
   "metadata": {},
   "outputs": [],
   "source": []
  },
  {
   "cell_type": "markdown",
   "metadata": {},
   "source": [
    "#### ნაბიჯი 11. შეარჩიეთ გუნდები, რომლებიც იწყებენ G-ით"
   ]
  },
  {
   "cell_type": "code",
   "execution_count": null,
   "metadata": {},
   "outputs": [],
   "source": []
  },
  {
   "cell_type": "markdown",
   "metadata": {},
   "source": [
    "#### ნაბიჯი 12. შეარჩიეთ პირველი 7 სვეტი"
   ]
  },
  {
   "cell_type": "code",
   "execution_count": null,
   "metadata": {},
   "outputs": [],
   "source": []
  },
  {
   "cell_type": "markdown",
   "metadata": {},
   "source": [
    "#### ნაბიჯი 13. შეარჩიეთ ყველა სვეტი, გარდა ბოლო 3-ისა."
   ]
  },
  {
   "cell_type": "code",
   "execution_count": null,
   "metadata": {},
   "outputs": [],
   "source": []
  },
  {
   "cell_type": "markdown",
   "metadata": {},
   "source": [
    "#### ნაბიჯი 14. აჩვენეთ მხოლოდ დარტყმების სიზუსტე ინგლისისთვის, იტალიისთვის და საფრანგეთისთვის"
   ]
  },
  {
   "cell_type": "code",
   "execution_count": null,
   "metadata": {},
   "outputs": [],
   "source": []
  }
 ],
 "metadata": {
  "celltoolbar": "Slideshow",
  "kernelspec": {
   "display_name": "Python 3",
   "language": "python",
   "name": "python3"
  },
  "language_info": {
   "codemirror_mode": {
    "name": "ipython",
    "version": 3
   },
   "file_extension": ".py",
   "mimetype": "text/x-python",
   "name": "python",
   "nbconvert_exporter": "python",
   "pygments_lexer": "ipython3",
   "version": "3.8.5"
  }
 },
 "nbformat": 4,
 "nbformat_minor": 2
}
