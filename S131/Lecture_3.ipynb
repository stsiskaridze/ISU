{
 "cells": [
  {
   "cell_type": "markdown",
   "metadata": {
    "slideshow": {
     "slide_type": "notes"
    }
   },
   "source": [
    "**მონაცემთა ანალიზი პითონის გამოყენებით**\n",
    "<br>\n",
    "\n",
    "სათაური: **ლექცია №4: SciPy: სამეცნიერო ინსტრუმენტები**\n",
    "<br>\n",
    "მომხსენებელი: **შოთა ცისკარიძე**"
   ]
  },
  {
   "cell_type": "markdown",
   "metadata": {
    "slideshow": {
     "slide_type": "slide"
    }
   },
   "source": [
    "<h1 align=\"center\">SciPy: სამეცნიერო ინსტრუმენტები</h1>"
   ]
  },
  {
   "cell_type": "markdown",
   "metadata": {
    "slideshow": {
     "slide_type": "slide"
    }
   },
   "source": [
    "<h3 align=\"center\">რა არის SciPy?</h3>\n",
    "\n",
    "- **SciPy** არის მათემატიკური ალგორითმების და დამხმარე ფუნქციების ნაკრები, რომელიც აგებულია **NumPy** მონაცემთა სტრუქტურებზე: \n",
    "\n",
    "  http://www.scipy.org/\n",
    "\n",
    "\n",
    "- **SciPy** საშუალებით შესაძლებელია მონაცემთა დამუშავება და პროტოტიპური გარემოს შექმნა, რომელიც კონკურენციას უწევს **MATLAB**-ს;\n",
    "\n",
    "\n",
    "- **SciPy** ორგანიზებულია ქვეპაკეტებში (**Submodules**), რომლებიც მოიცავს სხვადასხვა დარგის სამეცნიერო გამოთვლებს. \n",
    "<br> მოდულების სრული დოკუმენტაციაში შეგიძლიათ იხილოთ აქ: \n",
    "\n",
    "  http://docs.scipy.org/doc/scipy/reference/\n",
    "\n",
    "\n",
    "- **SciPy**-ის ყველაზე ცნობილი მოდულებია:\n",
    "  - **სპეციალური ფუნქციები (scipy.special)**\n",
    "  - **წრფივი ალგებრა (scipy.linalg)**\n",
    "  - **ოპტიმიზაცია (scipy.optimize)**\n",
    "  - **ინტერპოლაცია (scipy.interpolate)**\n",
    "  - **ინტეგრირება (scipy.integrate)**\n",
    "  - ფურიეს ტრანსფორმაციები (scipy.fftpack)\n",
    "  - სიგნალის დამუშავება (scipy.signal)\n",
    "  - **სტატისტიკა (scipy.stats)**\n",
    "  - სურათის მრავალგანზომილებიანი დამუშავება (scipy.ndimage)\n",
    "  - File IO (scipy.io)  \n",
    "  - Და მეტი...\n"
   ]
  },
  {
   "cell_type": "code",
   "execution_count": 20,
   "metadata": {},
   "outputs": [],
   "source": [
    "import numpy as np\n",
    "import scipy as sp\n",
    "import matplotlib.pyplot as plt"
   ]
  },
  {
   "cell_type": "markdown",
   "metadata": {
    "slideshow": {
     "slide_type": "slide"
    }
   },
   "source": [
    "<h3 align=\"center\">$\\texttt{scipy.special}$ - სპეციალური ფუნქციები</h3>\n",
    "\n",
    "- $\\texttt{scipy.special}$ მოდულის მთავარი მახასიათებელია მათემატიკური ფიზიკის მრავალი განსაკუთრებული ფუნქციის განსაზღვრა.\n",
    "\n",
    "\n",
    "- განვიხილოთ, მაგალითად, **ბესელის ფუნქციები**, რომლებიც წარმოადგენენ ბესელის დიფერენციალურ განტოლების ამოხსნების ოჯახს რეალურ ან კომპლექსურ $\\alpha$ მნიშვნელობებისთვის: \n",
    "\n",
    "$$x^2 \\frac{d^2y}{dx^2} + x \\frac{dy}{dx} + (x^2 - \\alpha^2) y = 0$$\n",
    "\n",
    "- $\\texttt{scipy.special}$-ი იძლევა ბასელის ფუნქციების პირდაპირ შემოღების საშუალებას."
   ]
  },
  {
   "cell_type": "code",
   "execution_count": 21,
   "metadata": {},
   "outputs": [
    {
     "name": "stdout",
     "output_type": "stream",
     "text": [
      "Using matplotlib backend: Qt5Agg\n"
     ]
    }
   ],
   "source": [
    "%matplotlib"
   ]
  },
  {
   "cell_type": "code",
   "execution_count": 22,
   "metadata": {},
   "outputs": [],
   "source": [
    "from scipy import special\n",
    "\n",
    "def drumhead_height(n, k, distance, angle, t):\n",
    "    kth_zero = special.jn_zeros(n, k)[-1]\n",
    "    return np.cos(t) * np.cos(n*angle) * special.jn(n, distance*kth_zero)\n",
    "\n",
    "theta  = np.r_[0:2*np.pi:50j]\n",
    "radius = np.r_[0:1:50j]\n",
    "x = np.array([r * np.cos(theta) for r in radius])\n",
    "y = np.array([r * np.sin(theta) for r in radius])\n",
    "z = np.array([drumhead_height(1, 1, r, theta, 0.5) for r in radius])\n",
    "\n",
    "from mpl_toolkits.mplot3d import Axes3D #იძლევა ბაზური 3D გრაფიკების აგების საშუალებას\n",
    "from matplotlib import cm\n",
    "fig = plt.figure(figsize=(12, 10))\n",
    "ax = Axes3D(fig)\n",
    "ax.plot_surface(x, y, z, rstride=1, cstride=1, cmap=cm.jet)\n",
    "ax.set_xlabel('X')\n",
    "ax.set_ylabel('Y')\n",
    "ax.set_zlabel('Z')\n",
    "plt.show()"
   ]
  },
  {
   "cell_type": "code",
   "execution_count": 23,
   "metadata": {},
   "outputs": [
    {
     "ename": "SyntaxError",
     "evalue": "invalid syntax (<ipython-input-23-7219a7da2805>, line 4)",
     "output_type": "error",
     "traceback": [
      "\u001b[1;36m  File \u001b[1;32m\"<ipython-input-23-7219a7da2805>\"\u001b[1;36m, line \u001b[1;32m4\u001b[0m\n\u001b[1;33m    special.\u001b[0m\n\u001b[1;37m            ^\u001b[0m\n\u001b[1;31mSyntaxError\u001b[0m\u001b[1;31m:\u001b[0m invalid syntax\n"
     ]
    }
   ],
   "source": [
    "a = 24\n",
    "b = 6\n",
    "\n",
    "special."
   ]
  },
  {
   "cell_type": "markdown",
   "metadata": {
    "slideshow": {
     "slide_type": "slide"
    }
   },
   "source": [
    "<h3 align=\"center\">$\\texttt{scipy.linalg}$ - წრფივი ალგებრის მოდული</h3>\n",
    "\n",
    "- $\\texttt{scipy.linalg}$ მოდული $\\texttt{numpy.linalg}$ მოდულის ყველა ფუნქციას შეიცავს;\n",
    "\n",
    "\n",
    "- $\\texttt{scipy.linalg}$ მოდულის ფუნქციები შეიძლება უფრო სწრაფად მუშაობდეს, ვიდრე $\\texttt{numpy.linalg}$, რადგან ისინი ყოველთვის იყენებენ წრფივი ალგებრის ძალიან ეფექტურ $\\texttt{BLAS/LAPACK}$ ბიბლიოთეკას.\n"
   ]
  },
  {
   "cell_type": "markdown",
   "metadata": {
    "slideshow": {
     "slide_type": "subslide"
    }
   },
   "source": [
    "<h3 align=\"center\">მატრიცა</h3>\n",
    "\n",
    "- სკალარების სიმრავლეს $\\alpha_{ij}$ ($i,j = 1, ..., n$), რომელიც არის ინდექსირებული ორმაგი ინდექსით $i$, $j$, ეწოდება მატრიცა და აღინიშნება როგორც $[A]$:\n",
    "\n",
    "  მატრიცა ჩვეულებრივ იწერება როგორც კვადრატული მასივი:\n",
    "\n",
    "  $$[A] = \\begin{bmatrix}\n",
    "\\alpha_{11} & \\alpha_{12} & \\cdots  & \\alpha_{1n} \\\\ \n",
    "\\alpha_{21} & \\alpha_{11} & \\cdots  & \\alpha_{2n} \\\\ \n",
    "\\vdots & \\vdots & \\ddots  & \\vdots \\\\ \n",
    "\\alpha_{n1} & \\alpha_{11} & \\cdots  & \\alpha_{nn} \n",
    "\\end{bmatrix};$$\n",
    "\n",
    "  სკალარები $(\\alpha_{i1}, ... , \\alpha_{in})$ ქმნიან მატრიცის სტრიქონებს, \n",
    "  <br> ხოლო სკალარები $(\\alpha_{1j}, ... , \\alpha_{nj})$ ქმნიან მატრიცის სვეტებს.\n",
    "  \n",
    "\n",
    "- Python-ში არსებობს მატრიცის შემოღების ორი მეთოდი $\\texttt{numpy.array}$ და $\\texttt{numpy.mat}$."
   ]
  },
  {
   "cell_type": "markdown",
   "metadata": {
    "slideshow": {
     "slide_type": "subslide"
    }
   },
   "source": [
    "- $\\texttt{numpy.array}$-სთვის მატრიცების გამრავლების ოპერაცია ხორციელდება ელემენტრულად:"
   ]
  },
  {
   "cell_type": "code",
   "execution_count": 24,
   "metadata": {
    "scrolled": true,
    "slideshow": {
     "slide_type": "-"
    }
   },
   "outputs": [
    {
     "name": "stdout",
     "output_type": "stream",
     "text": [
      "[[ 1  4]\n",
      " [ 9 16]]\n"
     ]
    }
   ],
   "source": [
    "A = np.array([ [1, 2], [3, 4] ])\n",
    "B = np.array([ [1, 2], [3, 4] ])\n",
    "print(A*B)"
   ]
  },
  {
   "cell_type": "markdown",
   "metadata": {
    "slideshow": {
     "slide_type": "-"
    }
   },
   "source": [
    "- $\\texttt{numpy.mat}$-სთვის მატრიცების გამრავლების ოპერაცია ხორციელდება მატრიცების ალგებრის წესების შესაბამისად:"
   ]
  },
  {
   "cell_type": "code",
   "execution_count": 25,
   "metadata": {
    "slideshow": {
     "slide_type": "-"
    }
   },
   "outputs": [
    {
     "name": "stdout",
     "output_type": "stream",
     "text": [
      "[[ 7 10]\n",
      " [15 22]]\n"
     ]
    }
   ],
   "source": [
    "A = np.mat([ [1, 2], [3, 4] ])\n",
    "B = np.mat([ [1, 2], [3, 4] ])\n",
    "print(A*B)"
   ]
  },
  {
   "cell_type": "markdown",
   "metadata": {
    "slideshow": {
     "slide_type": "subslide"
    }
   },
   "source": [
    "<h3 align=\"center\">მატრიცების გადამრავლება</h3>\n",
    "\n",
    "<img src=\"images/Matrix_multiplication.png\" width=\"1000\" height=\"1000\" alt=\"Example\"  align=\"center\"/>"
   ]
  },
  {
   "cell_type": "markdown",
   "metadata": {
    "slideshow": {
     "slide_type": "subslide"
    }
   },
   "source": [
    "- გახსოვდეთ, რომ ორი მატრიქსის ზომები უნდა იყოს თავსებადი:\n",
    "\n"
   ]
  },
  {
   "cell_type": "code",
   "execution_count": 26,
   "metadata": {},
   "outputs": [
    {
     "ename": "ValueError",
     "evalue": "shapes (2,2) and (1,2) not aligned: 2 (dim 1) != 1 (dim 0)",
     "output_type": "error",
     "traceback": [
      "\u001b[1;31m---------------------------------------------------------------------------\u001b[0m",
      "\u001b[1;31mValueError\u001b[0m                                Traceback (most recent call last)",
      "\u001b[1;32m<ipython-input-26-648a2c48c519>\u001b[0m in \u001b[0;36m<module>\u001b[1;34m\u001b[0m\n\u001b[0;32m      1\u001b[0m \u001b[0mA\u001b[0m \u001b[1;33m=\u001b[0m \u001b[0mnp\u001b[0m\u001b[1;33m.\u001b[0m\u001b[0mmat\u001b[0m\u001b[1;33m(\u001b[0m\u001b[1;33m[\u001b[0m \u001b[1;33m[\u001b[0m\u001b[1;36m1\u001b[0m\u001b[1;33m,\u001b[0m \u001b[1;36m2\u001b[0m\u001b[1;33m]\u001b[0m\u001b[1;33m,\u001b[0m \u001b[1;33m[\u001b[0m\u001b[1;36m3\u001b[0m\u001b[1;33m,\u001b[0m \u001b[1;36m4\u001b[0m\u001b[1;33m]\u001b[0m \u001b[1;33m]\u001b[0m\u001b[1;33m)\u001b[0m\u001b[1;33m\u001b[0m\u001b[1;33m\u001b[0m\u001b[0m\n\u001b[0;32m      2\u001b[0m \u001b[0mb\u001b[0m \u001b[1;33m=\u001b[0m \u001b[0mnp\u001b[0m\u001b[1;33m.\u001b[0m\u001b[0mmat\u001b[0m\u001b[1;33m(\u001b[0m\u001b[1;33m[\u001b[0m \u001b[1;33m[\u001b[0m\u001b[1;36m1\u001b[0m\u001b[1;33m,\u001b[0m \u001b[1;36m2\u001b[0m\u001b[1;33m]\u001b[0m \u001b[1;33m]\u001b[0m\u001b[1;33m)\u001b[0m\u001b[1;33m\u001b[0m\u001b[1;33m\u001b[0m\u001b[0m\n\u001b[1;32m----> 3\u001b[1;33m \u001b[0mA\u001b[0m\u001b[1;33m*\u001b[0m\u001b[0mb\u001b[0m\u001b[1;33m\u001b[0m\u001b[1;33m\u001b[0m\u001b[0m\n\u001b[0m",
      "\u001b[1;32mC:\\Anaconda3\\lib\\site-packages\\numpy\\matrixlib\\defmatrix.py\u001b[0m in \u001b[0;36m__mul__\u001b[1;34m(self, other)\u001b[0m\n\u001b[0;32m    216\u001b[0m         \u001b[1;32mif\u001b[0m \u001b[0misinstance\u001b[0m\u001b[1;33m(\u001b[0m\u001b[0mother\u001b[0m\u001b[1;33m,\u001b[0m \u001b[1;33m(\u001b[0m\u001b[0mN\u001b[0m\u001b[1;33m.\u001b[0m\u001b[0mndarray\u001b[0m\u001b[1;33m,\u001b[0m \u001b[0mlist\u001b[0m\u001b[1;33m,\u001b[0m \u001b[0mtuple\u001b[0m\u001b[1;33m)\u001b[0m\u001b[1;33m)\u001b[0m \u001b[1;33m:\u001b[0m\u001b[1;33m\u001b[0m\u001b[1;33m\u001b[0m\u001b[0m\n\u001b[0;32m    217\u001b[0m             \u001b[1;31m# This promotes 1-D vectors to row vectors\u001b[0m\u001b[1;33m\u001b[0m\u001b[1;33m\u001b[0m\u001b[1;33m\u001b[0m\u001b[0m\n\u001b[1;32m--> 218\u001b[1;33m             \u001b[1;32mreturn\u001b[0m \u001b[0mN\u001b[0m\u001b[1;33m.\u001b[0m\u001b[0mdot\u001b[0m\u001b[1;33m(\u001b[0m\u001b[0mself\u001b[0m\u001b[1;33m,\u001b[0m \u001b[0masmatrix\u001b[0m\u001b[1;33m(\u001b[0m\u001b[0mother\u001b[0m\u001b[1;33m)\u001b[0m\u001b[1;33m)\u001b[0m\u001b[1;33m\u001b[0m\u001b[1;33m\u001b[0m\u001b[0m\n\u001b[0m\u001b[0;32m    219\u001b[0m         \u001b[1;32mif\u001b[0m \u001b[0misscalar\u001b[0m\u001b[1;33m(\u001b[0m\u001b[0mother\u001b[0m\u001b[1;33m)\u001b[0m \u001b[1;32mor\u001b[0m \u001b[1;32mnot\u001b[0m \u001b[0mhasattr\u001b[0m\u001b[1;33m(\u001b[0m\u001b[0mother\u001b[0m\u001b[1;33m,\u001b[0m \u001b[1;34m'__rmul__'\u001b[0m\u001b[1;33m)\u001b[0m \u001b[1;33m:\u001b[0m\u001b[1;33m\u001b[0m\u001b[1;33m\u001b[0m\u001b[0m\n\u001b[0;32m    220\u001b[0m             \u001b[1;32mreturn\u001b[0m \u001b[0mN\u001b[0m\u001b[1;33m.\u001b[0m\u001b[0mdot\u001b[0m\u001b[1;33m(\u001b[0m\u001b[0mself\u001b[0m\u001b[1;33m,\u001b[0m \u001b[0mother\u001b[0m\u001b[1;33m)\u001b[0m\u001b[1;33m\u001b[0m\u001b[1;33m\u001b[0m\u001b[0m\n",
      "\u001b[1;32m<__array_function__ internals>\u001b[0m in \u001b[0;36mdot\u001b[1;34m(*args, **kwargs)\u001b[0m\n",
      "\u001b[1;31mValueError\u001b[0m: shapes (2,2) and (1,2) not aligned: 2 (dim 1) != 1 (dim 0)"
     ]
    }
   ],
   "source": [
    "A = np.mat([ [1, 2], [3, 4] ])\n",
    "b = np.mat([ [1, 2] ])\n",
    "A*b"
   ]
  },
  {
   "cell_type": "markdown",
   "metadata": {
    "slideshow": {
     "slide_type": "subslide"
    }
   },
   "source": [
    "- თქვენ ასევე შეგიძლიათ მატრიცა გაამრავლოთ ვექტორზე:"
   ]
  },
  {
   "cell_type": "code",
   "execution_count": 27,
   "metadata": {
    "slideshow": {
     "slide_type": "-"
    }
   },
   "outputs": [
    {
     "name": "stdout",
     "output_type": "stream",
     "text": [
      "[[ 5]\n",
      " [11]]\n",
      "[[ 5]\n",
      " [11]]\n"
     ]
    }
   ],
   "source": [
    "A = np.mat([ [1, 2], [3, 4] ])\n",
    "b = np.mat([ [1, 2] ])\n",
    "\n",
    "print(A*b.T)\n",
    "#ან\n",
    "A = np.mat([ [1, 2], [3, 4] ])\n",
    "b = np.mat([ [   1], [   2] ])\n",
    "print(A*b)"
   ]
  },
  {
   "cell_type": "markdown",
   "metadata": {
    "slideshow": {
     "slide_type": "subslide"
    }
   },
   "source": [
    "<h3 align=\"center\">მატრიცის დეტერმინანტი</h3>\n",
    "\n",
    "- $2 \\times 2$ მატრიცის დეტერმინანტი გამოითვლება **ლეიბნიცის** ფორმულით:\n",
    "$$|A| = \\begin{vmatrix}\n",
    "a & b\\\\ \n",
    "c & d\n",
    "\\end{vmatrix}\n",
    "= ad - bc.\n",
    "$$\n",
    "\n",
    "- $3 \\times 3$ მატრიცის დეტერმინანტი გამოითვლება **ლაპლასის** ფორმულით:\n",
    "\n",
    "$$|A| =\n",
    "\\begin{vmatrix}\n",
    "a & b & c\\\\\n",
    "d & e & f\\\\\n",
    "g & h & i\n",
    "\\end{vmatrix}\n",
    "=\n",
    "a \\cdot\n",
    "\\begin{vmatrix}\n",
    "e & f \\\\\n",
    "h & i\n",
    "\\end{vmatrix}\n",
    "- b \\cdot\n",
    "\\begin{vmatrix}\n",
    "d & f \\\\\n",
    "g & i\n",
    "\\end{vmatrix}\n",
    "+ c \\cdot\n",
    "\\begin{vmatrix}\n",
    "d & e \\\\\n",
    "g & h\n",
    "\\end{vmatrix}\n",
    "= aei + bfg + cdh - ceg - bdi - afh.\n",
    "$$\n",
    "\n",
    "- $n \\times n$ მატრიცის დეტერმინანტი გამოითვლება **ლეიბნიცის** ფორმულით:\n",
    "\n",
    "  $$|A| = \\sum_{\\sigma \\in S_n} \\left ( sign(\\sigma)\\prod_{i=1}^{n} \\alpha_{i\\sigma_i} \\right ),$$\n",
    "\n",
    "  სადაც $\\sigma$ არის $S_n= \\{1, 2, ..., n\\}$ სიმრავლის ყველანაირი გადანაცლება.\n",
    "  \n",
    "  <img src=\"images/determinant_as_scaling_factor.gif\" width=\"700\" height=\"1000\" alt=\"Example\"  align=\"center\"/>"
   ]
  },
  {
   "cell_type": "code",
   "execution_count": 28,
   "metadata": {
    "slideshow": {
     "slide_type": "-"
    }
   },
   "outputs": [
    {
     "name": "stdout",
     "output_type": "stream",
     "text": [
      "Wall time: 22.9 ms\n",
      "Wall time: 5.98 ms\n"
     ]
    },
    {
     "name": "stderr",
     "output_type": "stream",
     "text": [
      "C:\\Anaconda3\\lib\\site-packages\\numpy\\linalg\\linalg.py:2159: RuntimeWarning: overflow encountered in det\n",
      "  r = _umath_linalg.det(a, signature=signature)\n"
     ]
    }
   ],
   "source": [
    "#მატრიცის დეტერმინანტის გამოთვლა\n",
    "A = np.random.randn(1000, 1000)\n",
    "\n",
    "%time detA = np.linalg.det(A)\n",
    "%time detA = sp.linalg.det(A)"
   ]
  },
  {
   "cell_type": "markdown",
   "metadata": {
    "slideshow": {
     "slide_type": "subslide"
    }
   },
   "source": [
    "<h3 align=\"center\">მატრიცის შებრუნებული</h3>\n",
    "\n",
    "- $B$ მატრიცას ეწოდება $A$ მატრიცის შებრუნებული, და აღინიშნება როგორც $B = A^{-1}$, თუ:\n",
    "\n",
    "  $$A^{-1} A = A A^{-1} = I$$\n"
   ]
  },
  {
   "cell_type": "code",
   "execution_count": 33,
   "metadata": {
    "slideshow": {
     "slide_type": "-"
    }
   },
   "outputs": [
    {
     "name": "stdout",
     "output_type": "stream",
     "text": [
      "Wall time: 20 ms\n",
      "Wall time: 19.9 ms\n"
     ]
    }
   ],
   "source": [
    "#მატრიცის შებრუნებულის პოვნა\n",
    "A = np.random.randn(1000, 1000)\n",
    "\n",
    "%time invA = np.linalg.inv(A)\n",
    "%time inva = sp.linalg.inv(A)"
   ]
  },
  {
   "cell_type": "markdown",
   "metadata": {
    "slideshow": {
     "slide_type": "subslide"
    }
   },
   "source": [
    "<h3 align=\"center\">მატრიცის საკუთრივი მნიშნველობები და საკუთრივი ვექტორები</h3>\n",
    "\n",
    "- საკუთრივი ვექტორი არის ვექტორი, რომლეიც $A$ მატრიცაზე გამრავლებისას იძლევა კოლინარულ ვექტორს, ანუ იგივე ვექტორი გამრავლებული $\\lambda$ სკალარზე, რომელსაც, თავისმხრივ, ეწოდება $A$ მატრიცის საკუთრივი მნიშვნელობა:\n",
    "\n",
    "  $$A \\cdot x = \\lambda x$$\n",
    "  \n",
    "    <img src=\"images/eigenvalues_and_vectors.gif\" width=\"700\" height=\"1000\" alt=\"Example\"  align=\"center\"/>\n"
   ]
  },
  {
   "cell_type": "code",
   "execution_count": 9,
   "metadata": {},
   "outputs": [
    {
     "name": "stdout",
     "output_type": "stream",
     "text": [
      "[-0.37228132  5.37228132] \n",
      "\n",
      "[-0.82456484 -0.41597356]\n",
      "[ 0.56576746 -0.90937671]\n"
     ]
    }
   ],
   "source": [
    "A = np.array([ [1, 2], [3, 4] ])\n",
    "lamb, v = np.linalg.eig(A)\n",
    "print(lamb, '\\n')\n",
    "print(v[0])\n",
    "print(v[1])"
   ]
  },
  {
   "cell_type": "code",
   "execution_count": 2,
   "metadata": {},
   "outputs": [
    {
     "ename": "NameError",
     "evalue": "name 'np' is not defined",
     "output_type": "error",
     "traceback": [
      "\u001b[1;31m---------------------------------------------------------------------------\u001b[0m",
      "\u001b[1;31mNameError\u001b[0m                                 Traceback (most recent call last)",
      "\u001b[1;32m<ipython-input-2-942b9717002a>\u001b[0m in \u001b[0;36m<module>\u001b[1;34m\u001b[0m\n\u001b[1;32m----> 1\u001b[1;33m \u001b[0mA\u001b[0m \u001b[1;33m=\u001b[0m \u001b[0mnp\u001b[0m\u001b[1;33m.\u001b[0m\u001b[0mrandom\u001b[0m\u001b[1;33m.\u001b[0m\u001b[0mrandn\u001b[0m\u001b[1;33m(\u001b[0m\u001b[1;36m1000\u001b[0m\u001b[1;33m,\u001b[0m \u001b[1;36m1000\u001b[0m\u001b[1;33m)\u001b[0m\u001b[1;33m\u001b[0m\u001b[1;33m\u001b[0m\u001b[0m\n\u001b[0m\u001b[0;32m      2\u001b[0m \u001b[1;33m\u001b[0m\u001b[0m\n\u001b[0;32m      3\u001b[0m \u001b[0mget_ipython\u001b[0m\u001b[1;33m(\u001b[0m\u001b[1;33m)\u001b[0m\u001b[1;33m.\u001b[0m\u001b[0mrun_line_magic\u001b[0m\u001b[1;33m(\u001b[0m\u001b[1;34m'time'\u001b[0m\u001b[1;33m,\u001b[0m \u001b[1;34m'lamb, v = np.linalg.eig(A)'\u001b[0m\u001b[1;33m)\u001b[0m\u001b[1;33m\u001b[0m\u001b[1;33m\u001b[0m\u001b[0m\n\u001b[0;32m      4\u001b[0m \u001b[0mget_ipython\u001b[0m\u001b[1;33m(\u001b[0m\u001b[1;33m)\u001b[0m\u001b[1;33m.\u001b[0m\u001b[0mrun_line_magic\u001b[0m\u001b[1;33m(\u001b[0m\u001b[1;34m'time'\u001b[0m\u001b[1;33m,\u001b[0m \u001b[1;34m'lamb, v = sp.linalg.eig(A)'\u001b[0m\u001b[1;33m)\u001b[0m\u001b[1;33m\u001b[0m\u001b[1;33m\u001b[0m\u001b[0m\n",
      "\u001b[1;31mNameError\u001b[0m: name 'np' is not defined"
     ]
    }
   ],
   "source": [
    "A = np.random.randn(1000, 1000)\n",
    "\n",
    "%time lamb, v = np.linalg.eig(A)\n",
    "%time lamb, v = sp.linalg.eig(A)"
   ]
  },
  {
   "cell_type": "markdown",
   "metadata": {
    "slideshow": {
     "slide_type": "subslide"
    }
   },
   "source": [
    "<h3 align=\"center\">წრფივ განტოლებათა სისტემის ამოხსნა</h3>\n",
    "\n",
    "- წრფივი $n$-უცნობიანი $m$-განტოლებათა სისტემის ზოგადად ფორმაა:\n",
    "\n",
    "  $$\\begin{matrix}\n",
    "\\alpha_{11} x_1 + \\alpha_{12} x_2 + \\cdots + \\alpha_{1n} x_n = b_1\\\\ \n",
    "\\alpha_{21} x_1 + \\alpha_{22} x_2 + \\cdots + \\alpha_{2n} x_n = b_2\\\\  \n",
    "\\vdots \\\\\n",
    "\\alpha_{m1} x_1 + \\alpha_{12} x_2 + \\cdots + \\alpha_{mn} x_n = b_m\n",
    "\\end{matrix}$$\n",
    "\n",
    "  სადაც $x_1, ..., x_n$ არის უნცობ ცვალდებს, $\\alpha_{11}, ..., \\alpha_{mn}$ წარმოადგენენ სისტემის კოეფიციენტებს, ხოლო $b_1, ..., b_m$ აროს მუდმივი წევრები.\n",
    "\n",
    "\n",
    "- წრფივ განტოლებათა სისტემა შეიძლება ჩაიწეროს ეკვივალენტურ მატრიცულ ფორმით:\n",
    "\n",
    "  $$Ax = b,$$\n",
    "  $$\\text{სადაც } A = \n",
    "\\begin{bmatrix}\n",
    "\\alpha_{11} & \\alpha_{12} & \\cdots  & \\alpha_{1n} \\\\ \n",
    "\\alpha_{21} & \\alpha_{11} & \\cdots  & \\alpha_{2n} \\\\ \n",
    "\\vdots & \\vdots & \\ddots  & \\vdots \\\\ \n",
    "\\alpha_{n1} & \\alpha_{11} & \\cdots  & \\alpha_{nn} \n",
    "\\end{bmatrix}\n",
    "\\text{, }\n",
    "x = \n",
    "\\begin{bmatrix}\n",
    "x_1 \\\\ x_2 \\\\ \\vdots \\\\ x_n \\\\\n",
    "\\end{bmatrix}\n",
    "\\text{ და }\n",
    "b = \n",
    "\\begin{bmatrix}\n",
    "b_1 \\\\ b_2 \\\\ \\vdots \\\\ b_m \\\\\n",
    "\\end{bmatrix}\n",
    "$$\n",
    "\n",
    "- თუ $A^{-1}$ არის $A$ მატრიცის შებრუნებული მატრიცა, მაშინ:\n",
    "\n",
    "  $$x = I \\cdot x = (A^{-1} A) \\cdot x = A^{-1} \\cdot (A x) = A^{-1} b.$$\n",
    "  \n",
    "  ანუ წრფივ განტოლებათა სისტემის ამოხსნა დადის $A$ მატრიცის შებრუნებულის პოვნაზე."
   ]
  },
  {
   "cell_type": "markdown",
   "metadata": {
    "slideshow": {
     "slide_type": "subslide"
    }
   },
   "source": [
    "<h3 align=\"center\">მაგალითი</h3>\n",
    "\n",
    "- განვიხილოთ წრფივი სამუცნობიანი განთოლებათა სისტემა:\n",
    "\n",
    "  $$\n",
    "\\left\\{\\begin{matrix}\n",
    "x_1 + x_3 & = 1\\\\ \n",
    "2 x_1 - x_2 + x_3 & = 3 \\\\ \n",
    "x_1 + 3 x_2 - x_3 & = 5\n",
    "\\end{matrix}\\right.\n",
    "$$\n",
    "\n",
    "- სისტემის ეკვივალენტური მატრიცული ფორმა იქნება:\n",
    "\n",
    "  $$A x = b$$\n",
    "  \n",
    "  სადაც\n",
    "  \n",
    "  $$A = \\begin{bmatrix}\n",
    "1 &  0 & 2 \\\\\n",
    "2 & -1 & 1 \\\\\n",
    "1 &  3 & -1 \\\\\n",
    "\\end{bmatrix}\n",
    "\\text{, }\n",
    "x = \n",
    "\\begin{bmatrix}\n",
    "x_1 \\\\ x_2 \\\\ x_3 \\\\\n",
    "\\end{bmatrix}\n",
    "\\text{ ხოლო }\n",
    "b = \n",
    "\\begin{bmatrix}\n",
    "1 \\\\ 3 \\\\ 5\n",
    "\\end{bmatrix}\n",
    "$$"
   ]
  },
  {
   "cell_type": "code",
   "execution_count": 40,
   "metadata": {
    "slideshow": {
     "slide_type": "-"
    }
   },
   "outputs": [
    {
     "name": "stdout",
     "output_type": "stream",
     "text": [
      "[[ 3.5]\n",
      " [-1.5]\n",
      " [ 0.5]]\n",
      "Wall time: 0 ns\n",
      "Wall time: 0 ns\n",
      "[[ 3.5]\n",
      " [-1.5]\n",
      " [ 0.5]]\n"
     ]
    }
   ],
   "source": [
    "A = np.mat([ [1, 2, 1], [0, -1, 3], [2, 1, -1] ])\n",
    "b = np.mat([ [1], [3], [5] ])\n",
    "\n",
    "invA = sp.linalg.inv(A)\n",
    "x = invA.dot(b)\n",
    "print(x)\n",
    "%time x = sp.linalg.inv(A).dot(b)           \n",
    "%time x = sp.linalg.solve(A,b)\n",
    "print(x)\n",
    "#print(A, '\\n\\n', invA, '\\n\\n', x, '\\n\\n', A*x,'\\n\\n', b)"
   ]
  },
  {
   "cell_type": "code",
   "execution_count": 43,
   "metadata": {
    "scrolled": false,
    "slideshow": {
     "slide_type": "-"
    }
   },
   "outputs": [
    {
     "name": "stdout",
     "output_type": "stream",
     "text": [
      "Wall time: 106 ms\n",
      "Wall time: 94.3 ms\n"
     ]
    }
   ],
   "source": [
    "A = np.random.randn(2000, 2000)\n",
    "b = np.random.randn(2000)\n",
    "\n",
    "\n",
    "%time x = sp.linalg.inv(A).dot(b)           \n",
    "%time x = sp.linalg.solve(A,b)"
   ]
  },
  {
   "cell_type": "markdown",
   "metadata": {
    "slideshow": {
     "slide_type": "slide"
    }
   },
   "source": [
    "<h3 align=\"center\">$\\texttt{scipy.interpolate}$ - ინტერპოლაცია</h3>\n",
    "\n",
    "\n",
    "- **ინტერპოლაცია** (გამოთვლით მათემატიკაში) წარმოადგენს შუალედური მნიშვნელობების პოვნის მეთოდს ცნობილი დისრკეტული მნიშვნელობების გამოყენებით.\n",
    "\n",
    "\n",
    "- შემდგომ მაგალითებში ნაჩვენებია **წრფივი** და **კუბური** ინტერპოლაციები."
   ]
  },
  {
   "cell_type": "code",
   "execution_count": 13,
   "metadata": {
    "scrolled": true
   },
   "outputs": [
    {
     "name": "stdout",
     "output_type": "stream",
     "text": [
      "[ 0.  1.  2.  3.  4.  5.  6.  7.  8.  9. 10.] \n",
      " [-0.         -0.11088263 -0.42995636 -0.84147098 -0.9786557  -0.35584199\n",
      "  0.7568025   0.7438021  -0.73652996 -0.41211849  0.99333304]\n"
     ]
    }
   ],
   "source": [
    "x = np.linspace(0, 10, num=11, endpoint=True)\n",
    "y = np.sin(-x**2/9)\n",
    "\n",
    "print(x, '\\n', y)"
   ]
  },
  {
   "cell_type": "code",
   "execution_count": 44,
   "metadata": {},
   "outputs": [
    {
     "name": "stdout",
     "output_type": "stream",
     "text": [
      "0.6931471805599453\n"
     ]
    }
   ],
   "source": [
    "from scipy.interpolate import interp1d\n",
    "f1 = interp1d(x,y)\n",
    "\n",
    "print(f1(2.0))"
   ]
  },
  {
   "cell_type": "code",
   "execution_count": 15,
   "metadata": {
    "scrolled": true
   },
   "outputs": [
    {
     "data": {
      "text/plain": [
       "<matplotlib.legend.Legend at 0x1faa88db588>"
      ]
     },
     "execution_count": 15,
     "metadata": {},
     "output_type": "execute_result"
    },
    {
     "data": {
      "image/png": "[encoded data removed]",
      "text/plain": [
       "<Figure size 1152x288 with 3 Axes>"
      ]
     },
     "metadata": {
      "needs_background": "light"
     },
     "output_type": "display_data"
    }
   ],
   "source": [
    "plt.figure(figsize=(16, 4))  # სურათის ზომის განსაზღვრა\n",
    "plt.subplot(131)             # ნაკვეთის არჩევა 131 = 1 სვეტი + 3 სტრიქონი + 1-ი პოზიცია\n",
    "plt.plot(x, y, \"o\")\n",
    "\n",
    "plt.subplot(132)             # ნაკვეთის არჩევა 131 = 1 სვეტი + 3 სტრიქონი + 2-ი პოზიცია\n",
    "plt.plot(x, y, \"-\")\n",
    "\n",
    "plt.subplot(133)             # ნაკვეთის არჩევა 131 = 1 სვეტი + 3 სტრიქონი + 3-ი პოზიცია\n",
    "xnew = np.linspace(0, 10, num=41, endpoint=True)\n",
    "plt.plot(x, y, \"o\", xnew, f1(xnew), '-')\n",
    "plt.legend([\"ცხრილი\", \"წრფივი ინტერპოლაცია\"], loc='best')"
   ]
  },
  {
   "cell_type": "code",
   "execution_count": 16,
   "metadata": {},
   "outputs": [
    {
     "data": {
      "text/plain": [
       "<matplotlib.legend.Legend at 0x1faa8b42b70>"
      ]
     },
     "execution_count": 16,
     "metadata": {},
     "output_type": "execute_result"
    },
    {
     "data": {
      "image/png": "[encoded data removed]",
      "text/plain": [
       "<Figure size 432x288 with 1 Axes>"
      ]
     },
     "metadata": {
      "needs_background": "light"
     },
     "output_type": "display_data"
    }
   ],
   "source": [
    "plt.clf()    # სურათის გაწმენდა\n",
    "\n",
    "f3 = interp1d(x,y, kind = 'cubic')\n",
    "xnew = np.linspace(0, 10, num=41, endpoint=True)\n",
    "plt.plot(x, y, \"o\", xnew, f3(xnew), '-')\n",
    "plt.legend([\"ცხრილი\", \"კუბური ინტერპოლაცია\"], loc='best')"
   ]
  },
  {
   "cell_type": "markdown",
   "metadata": {
    "slideshow": {
     "slide_type": "slide"
    }
   },
   "source": [
    "<h3 align=\"center\">$\\texttt{scipy.optimize}$ - ოპტიმიზაცია</h3>\n",
    "\n",
    "- **ოპტიმიზაცია** არის საუკეთესო ელემენტის არჩევის პროცესი (გარკვეული კრიტერიუმის გათვალისწინებით) ხელმისაწვდომი ალტერნატივების გარკვეული სიმრავლიდან;\n",
    "\n",
    "- ოპტიმიზაციის ამოცანებს მიეკუთვნება, მაგალითად, განტოლების ფესვების პოვნის ამოცანები."
   ]
  },
  {
   "cell_type": "markdown",
   "metadata": {
    "slideshow": {
     "slide_type": "slide"
    }
   },
   "source": [
    "<h3 align=\"center\">$\\texttt{scipy.optimize.minimize}$ - მინიმუმის პოვნა</h3>\n",
    "\n",
    "- განვიხილოთ შუქის სხივის მოძრაობის ამოცანა:\n",
    "\n",
    "  <img src=\"images/Optimization.png\" width=\"300\" alt=\"Example\"  align=\"center\"/>\n",
    "  \n",
    "  შუქის სხივის მოძრაობა წყალში არის უფრო ნაკლები ვიდრე ჰაერში:\n",
    "\n",
    "  $$v_2 < v_1, \\text{ } n = \\frac{v_1}{v_2}$$\n",
    "  \n",
    "- საპოვნელია ოპტიმალური გზა $A$-წერტილიდან $B$-წერტილამდე:\n",
    "  \n",
    "  $$t_{AB} = \\left | \\frac{\\overrightarrow{AO}}{v_1} \\right | + \\left | \\frac{\\overrightarrow{OB}}{v_2} \\right | \\rightarrow \\min$$\n",
    "  \n",
    "- მოძრაობის საერთო დრო ტოლია:\n",
    "\n",
    "  $$t_{AB} = \\frac{\\sqrt{x^2 + a^2}}{v_1} + \\frac{\\sqrt{(h-x)^2 + b^2}}{v_2}$$\n",
    "  \n",
    "  <img src=\"images/Optimization2.png\" width=\"300\" alt=\"Example\"  align=\"center\"/>\n"
   ]
  },
  {
   "cell_type": "code",
   "execution_count": 47,
   "metadata": {},
   "outputs": [
    {
     "name": "stdout",
     "output_type": "stream",
     "text": [
      "True [7.00534492] 8.271791334231404\n"
     ]
    }
   ],
   "source": [
    "from scipy.optimize import minimize\n",
    "\n",
    "def t_AB(x, a, b, h, v1, v2):\n",
    "    La = np.sqrt(x**2 + a**2)\n",
    "    Lb = np.sqrt((h-x)**2 + b**2)\n",
    "    result = La / v1 + Lb / v2 \n",
    "    return result\n",
    "\n",
    "x0 = 1 #მეთოდის საწყისი მნიშვნელობა\n",
    "min_time = minimize(t_AB, x0, args = (10, 10, 10, 4, 2))\n",
    "\n",
    "print(min_time.success, min_time.x, min_time.fun)"
   ]
  },
  {
   "cell_type": "markdown",
   "metadata": {
    "slideshow": {
     "slide_type": "subslide"
    }
   },
   "source": [
    "<h3 align=\"center\">$\\texttt{scipy.optimize.root}$ - განტოლებების ფესვის პოვნა</h3>\n",
    "\n",
    "- დავუშვათ მოცემული გვაქვს განტოლება:\n",
    "\n",
    "  $$x + 5 \\cos(x) = 0,$$\n",
    "  \n",
    "  ან ეკვივალენტური განტოლება:\n",
    "  \n",
    "  $$5 \\cos(x) = -x.$$\n",
    "  \n",
    "  როგორ ვიპოვოთ ამ განტოლების ფესვები?  "
   ]
  },
  {
   "cell_type": "code",
   "execution_count": 53,
   "metadata": {
    "scrolled": true,
    "slideshow": {
     "slide_type": "-"
    }
   },
   "outputs": [
    {
     "data": {
      "text/plain": [
       "<matplotlib.legend.Legend at 0x1faa9341828>"
      ]
     },
     "execution_count": 53,
     "metadata": {},
     "output_type": "execute_result"
    },
    {
     "data": {
      "image/png": "[encoded data removed]",
      "text/plain": [
       "<Figure size 432x288 with 1 Axes>"
      ]
     },
     "metadata": {
      "needs_background": "light"
     },
     "output_type": "display_data"
    }
   ],
   "source": [
    "x = np.linspace(-6, 6)\n",
    "y1 = -x\n",
    "y2 = 5 * np.cos(x)\n",
    "plt.plot(x, y1, \"-\", x, y2, \"-\")\n",
    "plt.legend([\"y(x) = -x\", \"y(x) = 5cos(x)\"], loc='best')"
   ]
  },
  {
   "cell_type": "code",
   "execution_count": 55,
   "metadata": {
    "scrolled": true,
    "slideshow": {
     "slide_type": "-"
    }
   },
   "outputs": [
    {
     "data": {
      "text/plain": [
       "<matplotlib.legend.Legend at 0x1faa93f9f28>"
      ]
     },
     "execution_count": 55,
     "metadata": {},
     "output_type": "execute_result"
    },
    {
     "data": {
      "image/png": "[encoded data removed]",
      "text/plain": [
       "<Figure size 432x288 with 1 Axes>"
      ]
     },
     "metadata": {
      "needs_background": "light"
     },
     "output_type": "display_data"
    }
   ],
   "source": [
    "x = np.linspace(-6, 6)\n",
    "y1 = 5 * np.cos(x) + x\n",
    "y2 = 0 * x\n",
    "plt.plot(x, y1, \"-\", x, y2, \"-\")\n",
    "plt.legend([\"y(x) = -x\", \"y(x) = 5cos(x)\"], loc='best')"
   ]
  },
  {
   "cell_type": "code",
   "execution_count": 56,
   "metadata": {
    "slideshow": {
     "slide_type": "-"
    }
   },
   "outputs": [
    {
     "name": "stdout",
     "output_type": "stream",
     "text": [
      "True [-1.30644001]\n"
     ]
    }
   ],
   "source": [
    "from scipy.optimize import root\n",
    "\n",
    "def f(x):\n",
    "    return x + 5 * np.cos(x)\n",
    "\n",
    "x0 = -2 #მეთოდის საწყისი მნიშვნელობა\n",
    "solution = root(f, x0)\n",
    "\n",
    "print(solution.success, solution.x)"
   ]
  },
  {
   "cell_type": "code",
   "execution_count": 57,
   "metadata": {
    "slideshow": {
     "slide_type": "-"
    }
   },
   "outputs": [
    {
     "name": "stdout",
     "output_type": "stream",
     "text": [
      "True [1.97738303]\n"
     ]
    }
   ],
   "source": [
    "x0 = 2 #მეთოდის საწყისი მნიშვნელობა\n",
    "solution = root(f, x0)\n",
    "\n",
    "print(solution.success, solution.x)"
   ]
  },
  {
   "cell_type": "code",
   "execution_count": 58,
   "metadata": {
    "slideshow": {
     "slide_type": "-"
    }
   },
   "outputs": [
    {
     "name": "stdout",
     "output_type": "stream",
     "text": [
      "True [3.83746711]\n"
     ]
    }
   ],
   "source": [
    "x0 = 4 #მეთოდის საწყისი მნიშვნელობა\n",
    "solution = root(f, x0)\n",
    "\n",
    "print(solution.success, solution.x)"
   ]
  },
  {
   "cell_type": "code",
   "execution_count": 59,
   "metadata": {
    "slideshow": {
     "slide_type": "-"
    }
   },
   "outputs": [
    {
     "name": "stdout",
     "output_type": "stream",
     "text": [
      "False [-6.08202762]\n"
     ]
    }
   ],
   "source": [
    "x0 = -6 #მეთოდის საწყისი მნიშვნელობა\n",
    "solution = root(f, x0)\n",
    "\n",
    "print(solution.success, solution.x)"
   ]
  },
  {
   "cell_type": "markdown",
   "metadata": {
    "slideshow": {
     "slide_type": "subslide"
    }
   },
   "source": [
    "<h3 align=\"center\">$\\texttt{scipy.optimize.root}$ - განტოლებათა სისტემის ფესვის პოვნა</h3>\n",
    "\n",
    "- დავუშვათ მოცემული გვაქვს განტოლებათა სისტემა:\n",
    "\n",
    "  $$\n",
    "\\left\\{\\begin{matrix}\n",
    "x_1 \\cdot \\cos(x_2) & = 4\\\\ \n",
    "x_1 \\cdot x_2 - x_2 & = 5\n",
    "\\end{matrix}\\right.\n",
    "$$\n",
    "  \n",
    "  როგორ ვიპოვოთ ამ განტოლებათა სისტემის ფესვვები?  "
   ]
  },
  {
   "cell_type": "code",
   "execution_count": 23,
   "metadata": {
    "slideshow": {
     "slide_type": "-"
    }
   },
   "outputs": [
    {
     "name": "stdout",
     "output_type": "stream",
     "text": [
      "True [6.50409711 0.90841421]\n"
     ]
    }
   ],
   "source": [
    "def f2(x):\n",
    "    f = [ x[0] * np.cos(x[1]) - 4, \n",
    "          x[0] * x[1] - x[1] - 5 ]\n",
    "    return f\n",
    "\n",
    "z0 = [1, 1]\n",
    "solution = root(f2, z0)\n",
    "print(solution.success, solution.x)"
   ]
  },
  {
   "cell_type": "markdown",
   "metadata": {
    "slideshow": {
     "slide_type": "slide"
    }
   },
   "source": [
    "<h3 align=\"center\">$\\texttt{scipy.integrate}$ - ინტეგრირება და დიფერენცირება</h3>"
   ]
  },
  {
   "cell_type": "markdown",
   "metadata": {
    "slideshow": {
     "slide_type": "slide"
    }
   },
   "source": [
    "<h3 align=\"center\">$\\texttt{scipy.integrate.integrate}$ - განსაზღვრული ინტეგრალი</h3>\n",
    "\n",
    "- დავუშვათ მოცემული გვაქვს განსაზღვრული ინტეგრალი:\n",
    "\n",
    "  $$ J = \\int_{x_0}^{x_1} f(x) dx = \\int_{0}^{1} x + 5 \\cos(x) dx.$$\n",
    "  \n",
    "  როგორ გამოვთვალოთ მისი მნიშვნელობა?"
   ]
  },
  {
   "cell_type": "code",
   "execution_count": 24,
   "metadata": {
    "slideshow": {
     "slide_type": "-"
    }
   },
   "outputs": [
    {
     "name": "stdout",
     "output_type": "stream",
     "text": [
      "(4.707354924039483, 5.2262138217512387e-14)\n"
     ]
    }
   ],
   "source": [
    "import scipy.integrate as integrate\n",
    "\n",
    "def f(x):\n",
    "    return x + 5 * np.cos(x)\n",
    "\n",
    "x0 = 0.0\n",
    "x1 = 1.0\n",
    "result = integrate.quad(f, x0, x1)\n",
    "print(result)"
   ]
  },
  {
   "cell_type": "markdown",
   "metadata": {
    "slideshow": {
     "slide_type": "-"
    }
   },
   "source": [
    "- პირველი მნიშვნელობა არის ინტეგრალის მნიშვნელობა, ხოლო მეორე არის გამოთვლის სიზუსტე."
   ]
  },
  {
   "cell_type": "code",
   "execution_count": 25,
   "metadata": {},
   "outputs": [
    {
     "name": "stdout",
     "output_type": "stream",
     "text": [
      "(0.17709857491700906, 1.9661891550116667e-15)\n"
     ]
    }
   ],
   "source": [
    "def f(x, n):\n",
    "    return (x**n) * np.sin(x)\n",
    "\n",
    "result = integrate.quad(f, 0.0, 1.0, args = (3,))\n",
    "print(result)"
   ]
  },
  {
   "cell_type": "markdown",
   "metadata": {
    "slideshow": {
     "slide_type": "subslide"
    }
   },
   "source": [
    "- დავუშვათ მოცემული გვაქვს ორპარამეტრიანი განსაზღვრული ინტეგრალი:\n",
    "\n",
    "  $$ J = \\int_{y_0}^{y_1} \\int_{x_0}^{x_1} f(x,y) dx dy = \n",
    "         \\int_{y=0}^{y=1/2} \\int_{x = 0}^{1-2y} f(x,y) dx dy$$\n",
    "  \n",
    "  როგორ გამოვთვალოთ მისი მნიშვნელობა?"
   ]
  },
  {
   "cell_type": "code",
   "execution_count": 26,
   "metadata": {},
   "outputs": [
    {
     "name": "stdout",
     "output_type": "stream",
     "text": [
      "(0.010416666666666668, 4.101620128472366e-16)\n"
     ]
    }
   ],
   "source": [
    "import scipy.integrate as integrate\n",
    "\n",
    "def f(x,y):\n",
    "    return x*y\n",
    "\n",
    "y0 = 0.0\n",
    "y1 = 0.5\n",
    "result = integrate.dblquad(f, y0, y1, lambda x: 0, lambda x: 1 - 2*x)\n",
    "print(result)"
   ]
  },
  {
   "cell_type": "markdown",
   "metadata": {
    "slideshow": {
     "slide_type": "subslide"
    }
   },
   "source": [
    "<h3 align=\"center\">$\\texttt{scipy.integrate.simps}$ - ინტეგრირება სიმპსონის წესით</h3>\n",
    "\n",
    "- დავუშვათ მოცემული გვაქვს ფუნქცია ცხილის სახით:\n",
    "\n",
    "  $$(x_1, y_1) = (1, log(1))$$\n",
    "  $$(x_2, y_2) = (2, log(2))$$\n",
    "  $$(x_3, y_3) = (3, log(3))$$\n",
    "  $$(x_4, y_4) = (4, log(4))$$\n",
    "  $$(x_5, y_5) = (5, log(5))$$\n",
    "  $$(x_6, y_6) = (6, log(6))$$\n",
    "  \n",
    "  როგორ გამოვთვალოთ ამ ფუნქციის ინტეგრალი სიმპსონის წესით?"
   ]
  },
  {
   "cell_type": "code",
   "execution_count": 27,
   "metadata": {},
   "outputs": [
    {
     "name": "stdout",
     "output_type": "stream",
     "text": [
      "5.725940279376572\n"
     ]
    },
    {
     "data": {
      "image/png": "[encoded data removed]",
      "text/plain": [
       "<Figure size 432x288 with 1 Axes>"
      ]
     },
     "metadata": {
      "needs_background": "light"
     },
     "output_type": "display_data"
    }
   ],
   "source": [
    "from scipy.integrate import simps\n",
    "\n",
    "x = np.array([ 1., 2., 3., 4., 5., 6.])\n",
    "y = np.array([ np.log(1), np.log(2), np.log(3), np.log(4), np.log(5), np.log(6)])\n",
    "plt.plot(x, y, \"-\")\n",
    "\n",
    "l1 = simps(y,x)\n",
    "print(l1)"
   ]
  },
  {
   "cell_type": "markdown",
   "metadata": {
    "slideshow": {
     "slide_type": "subslide"
    }
   },
   "source": [
    "<h3 align=\"center\">$\\texttt{scipy.integrate.odient}$ - ჩვეულებრივი დიფერენციალური განტოლებების ამოხსნა</h3>\n",
    "\n",
    "- ჩვეულებრივი დიფერენციალური განტოლებების ზოგადი სახეა:\n",
    "\n",
    "  $$\\frac{dy}{dx} = f(y, x) \\text{,   } y(x_0) = y_0.$$"
   ]
  },
  {
   "cell_type": "markdown",
   "metadata": {},
   "source": [
    "- დავუშვათ მოცემული გვაქვს ქანარის განტოლება:\n",
    "\n",
    "  $$m\\frac{d^2y}{dt^2} + k\\frac{dy}{dt} + cy = 0,$$\n",
    "  \n",
    "  სადაც $k> 0$, $c>0$.\n",
    "\n",
    "  <img src=\"images/L2_ODE.png\" width=\"300\" alt=\"Example\"  align=\"center\"/>\n",
    "\n",
    "- ეს განტოლება წარმოადგენს მეორე რიგის წრფივ დიფერენციალურ განტოლებას. საწყისი პირობებია:\n",
    "\n",
    "  $$y(0) = 1, \\text{ } {y}'(0) = 0.$$\n",
    "  \n",
    "- მეორე რიგის დიფერენციალური განტოლება შეგვიძლია დავიყვანოთ პირველი რიგირს დიფერენციალურ განტოლებათა სისტემაზე:\n",
    "\n",
    "  $$m\\frac{d^2y}{dt^2} + k\\frac{d^y}{dt} + cy = 0 \\equiv\n",
    "\\left\\{\\begin{matrix}\n",
    "\\frac{dy}{dt} = &v \\\\ \n",
    "\\frac{dy}{dt} = & -(kv +cy)/m \\\\ \n",
    "\\end{matrix}\\right.\n",
    "$$\n",
    "\n",
    "  "
   ]
  },
  {
   "cell_type": "code",
   "execution_count": 28,
   "metadata": {},
   "outputs": [
    {
     "data": {
      "text/plain": [
       "<matplotlib.legend.Legend at 0x1faa8e5b6d8>"
      ]
     },
     "execution_count": 28,
     "metadata": {},
     "output_type": "execute_result"
    },
    {
     "data": {
      "image/png": "[encoded data removed]",
      "text/plain": [
       "<Figure size 432x288 with 1 Axes>"
      ]
     },
     "metadata": {
      "needs_background": "light"
     },
     "output_type": "display_data"
    }
   ],
   "source": [
    "def right_side(z,t): # z[0] = y; z[1] = v\n",
    "    m = 1.0\n",
    "    c = 10.0\n",
    "    k = 0.5\n",
    "    \n",
    "    dzdt = [ z[1], -(k*z[1] + c * z[0])/m]\n",
    "    return dzdt\n",
    "\n",
    "from scipy.integrate import odeint\n",
    "\n",
    "t = np.arange(0, 10.0, 0.01)\n",
    "y0 = [1.0, 0]\n",
    "z = odeint(right_side, y0, t)\n",
    "\n",
    "plt.plot(t, z[:,0], '-', t, z[:,1], '--')\n",
    "plt.xlabel('t [წამი]')\n",
    "plt.ylabel('y [მეტრი];    v [მეტრი/წამზე]')\n",
    "plt.legend(['ადგილმდებარეობა', 'სიჩქარე'], loc='best')\n",
    "\n"
   ]
  },
  {
   "cell_type": "markdown",
   "metadata": {
    "slideshow": {
     "slide_type": "subslide"
    }
   },
   "source": [
    "<h3 align=\"center\">$\\texttt{scipy.stats}$ - ჩვეულებრივი დიფერენციალური განტოლებების ამოხსნა</h3>\n",
    "\n",
    "- $\\texttt{scipy.stats}$ მოდული შეიცავს მათემატიკური სტატისტიკის მრავალფეროვან ინსტრუმენტებს.\n",
    "\n",
    "\n",
    "- განვიხილოთ ამოცანა რომელიც შედგება შემდეგი პუნქტებიდან:\n",
    "  - განაწილების ფუნქციის განსაზღვრა (ჩვენს შემთხევაში გაუსის განაწილება);\n",
    "  - განსაზღვირს არის არჩევა;\n",
    "  - მონაცემების გენერაცია (ჩვენს შემთხვევაში 1000 მონაცემის);\n",
    "  - გაუსის ხმაურის დამატება;\n",
    "  - ბინის არჩევა და ჰისტოგრამის აგება (ჩვენს შემთხვევაში ბინის რაოდენობაა 20);\n",
    "  - ჰისტოგრამის ნორმალიზაცია;\n",
    "  - მიღებული ჰისტოგრამის ფიტირება;\n",
    "  - საბოლოო გრაფიკის აგება, რომელიც აჩვენებს: \n",
    "    - თავდაპირველ განაწილებას;\n",
    "    - დაკვირვების შედეგად მიღებულ ჰისტოგრამას\n",
    "    - ფიტირებულ განაწილებას.\n"
   ]
  },
  {
   "cell_type": "code",
   "execution_count": 65,
   "metadata": {},
   "outputs": [
    {
     "data": {
      "text/plain": [
       "<matplotlib.legend.Legend at 0x1fab5784e10>"
      ]
     },
     "execution_count": 65,
     "metadata": {},
     "output_type": "execute_result"
    },
    {
     "data": {
      "image/png": "[encoded data removed]",
      "text/plain": [
       "<Figure size 1152x864 with 4 Axes>"
      ]
     },
     "metadata": {
      "needs_background": "light"
     },
     "output_type": "display_data"
    }
   ],
   "source": [
    "import numpy as np\n",
    "import scipy.stats as stats\n",
    "import matplotlib.pyplot as plt\n",
    "\n",
    "\n",
    "dof = 9\n",
    "raw = np.random.standard_t(dof, [1000])\n",
    "noise = np.random.normal(0, 0.5, size = [1000])\n",
    "lnspc = np.linspace(-5, 5, 1000)\n",
    "\n",
    "data = raw + noise\n",
    "\n",
    "plt.figure(figsize=(16, 12)) \n",
    "\n",
    "plt.subplot(221)    # ნაკვეთის არჩევა 221 = 2 სვეტი + 2 სტრიქონი + 1-ი პოზიცია\n",
    "pdf_g = stats.t.pdf(lnspc, p[0], p[1], p[2])\n",
    "plt.plot(lnspc, pdf_g, linewidth = 3, label='True dist.') \n",
    "plt.xlabel('შემთხვევითი სიდიდე')\n",
    "plt.ylabel('ალბათობა')\n",
    "plt.title('თავდაპირველი განაწილება')\n",
    "plt.legend()\n",
    "\n",
    "plt.subplot(222)    # ნაკვეთის არჩევა 221 = 2 სვეტი + 2 სტრიქონი + 2-ი პოზიცია  \n",
    "plt.hist(raw, bins = 20, range=[-5, 5], density = True, label='True hist.')\n",
    "pdf_g = stats.t.pdf(lnspc, p[0], p[1], p[2])\n",
    "plt.plot(lnspc, pdf_g, linewidth = 3, label='True dist.') \n",
    "plt.xlabel('შემთხვევითი სიდიდე')\n",
    "plt.ylabel('ალბათობა')\n",
    "plt.title('1000 მოვლენა')\n",
    "plt.legend()\n",
    "\n",
    "plt.subplot(223)    # ნაკვეთის არჩევა 221 = 2 სვეტი + 2 სტრიქონი + 3-ი პოზიცია  \n",
    "hist = plt.hist(data, bins = 20, range=[-5, 5], density = True, label='Observed hist.')\n",
    "plt.plot(lnspc, pdf_g, linewidth = 3, label='True dist.') \n",
    "plt.xlabel('შემთხვევითი სიდიდე')\n",
    "plt.ylabel('ალბათობა')\n",
    "plt.title('ხმაურის დამატება')\n",
    "plt.legend()\n",
    "\n",
    "plt.subplot(224)    # ნაკვეთის არჩევა 221 = 2 სვეტი + 2 სტრიქონი + 4-ი პოზიცია  \n",
    "hist = plt.hist(data, bins = 20, range=[-5, 5], density = True, label='Observed hist.')\n",
    "p = stats.t.fit(raw, dof)\n",
    "pdf_g = stats.t.pdf(lnspc, p[0], p[1], p[2])\n",
    "plt.plot(lnspc, pdf_g, linewidth = 3, label='True dist.') \n",
    "p_noised = stats.t.fit(data, dof)\n",
    "pdf_g_noised = stats.t.pdf(lnspc, p_noised[0], p_noised[1], p_noised[2])\n",
    "plt.plot(lnspc, pdf_g_noised, linewidth = 3, label='Fitted hist.')\n",
    "plt.xlabel('შემთხვევითი სიდიდე')\n",
    "plt.ylabel('ალბათობა')\n",
    "plt.title('ფიტირებული ჰისტოგრამა')\n",
    "plt.legend()"
   ]
  },
  {
   "cell_type": "markdown",
   "metadata": {
    "slideshow": {
     "slide_type": "slide"
    }
   },
   "source": [
    "<h1 align=\"center\">ლექციის დასასრული</h1>"
   ]
  }
 ],
 "metadata": {
  "celltoolbar": "Slideshow",
  "kernelspec": {
   "display_name": "Python 3",
   "language": "python",
   "name": "python3"
  },
  "language_info": {
   "codemirror_mode": {
    "name": "ipython",
    "version": 3
   },
   "file_extension": ".py",
   "mimetype": "text/x-python",
   "name": "python",
   "nbconvert_exporter": "python",
   "pygments_lexer": "ipython3",
   "version": "3.8.5"
  }
 },
 "nbformat": 4,
 "nbformat_minor": 2
}
