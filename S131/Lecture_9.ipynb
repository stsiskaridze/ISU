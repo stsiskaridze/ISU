{
 "cells": [
  {
   "cell_type": "markdown",
   "metadata": {
    "slideshow": {
     "slide_type": "notes"
    }
   },
   "source": [
    "**მონაცემთა ანალიზი პითონის გამოყენებით**\n",
    "<br>\n",
    "Date: **2021 წლის 25 ივნისი**\n",
    "<br>\n",
    "\n",
    "სათაური: **ლექცია №9: Scikit-learn: მანქანური სწავლების ბიბლიოთეკა**\n",
    "<br>\n",
    "მომხსენებელი: **შოთა ცისკარიძე**"
   ]
  },
  {
   "cell_type": "markdown",
   "metadata": {
    "slideshow": {
     "slide_type": "slide"
    }
   },
   "source": [
    "<h1 align=\"center\">Scikit-learn: მანქანური სწავლების ბიბლიოთეკა</h1>"
   ]
  },
  {
   "cell_type": "markdown",
   "metadata": {},
   "source": [
    "<img src=\"images/L9_Scikit.png\" width=\"1000\" height=\"1000\" alt=\"Example\"  align=\"center\"/>"
   ]
  },
  {
   "cell_type": "markdown",
   "metadata": {
    "slideshow": {
     "slide_type": "slide"
    }
   },
   "source": [
    "<h2 align=\"center\">რა არის Scikit-learn?</h2>\n",
    "\n",
    "- [`Scikit-learn`](https://scikit-learn.org/stable/) არის მანქანების შემსწავლელი ბიბლიოთეკა `Python` პროგრამირების ენისთვის.\n",
    " \n",
    "\n",
    "- `Scikit-learn` დაფუძნებულია `NumPy`, `SciPy` და `matplotlib` ბიბლიოთეკებზე.\n",
    "\n",
    "\n",
    "- `Scikit-learn`-ი ძირითადად გამოიყენება შემდეგი ტიპის ამოცანების ამოსახსნელად:\n",
    "  - კლასიფიკაციის ამოცანა;\n",
    "  - რეგრესიული ამოცანა;\n",
    "  - კლასტერიზაციის ამოცანა;\n",
    "  - განზომილების დაწევა;"
   ]
  },
  {
   "cell_type": "code",
   "execution_count": null,
   "metadata": {},
   "outputs": [],
   "source": []
  },
  {
   "cell_type": "markdown",
   "metadata": {
    "slideshow": {
     "slide_type": "slide"
    }
   },
   "source": [
    "<h1 align=\"center\">ლექციის დასასრული</h1>"
   ]
  }
 ],
 "metadata": {
  "kernelspec": {
   "display_name": "Python 3",
   "language": "python",
   "name": "python3"
  },
  "language_info": {
   "codemirror_mode": {
    "name": "ipython",
    "version": 3
   },
   "file_extension": ".py",
   "mimetype": "text/x-python",
   "name": "python",
   "nbconvert_exporter": "python",
   "pygments_lexer": "ipython3",
   "version": "3.8.5"
  }
 },
 "nbformat": 4,
 "nbformat_minor": 2
}
