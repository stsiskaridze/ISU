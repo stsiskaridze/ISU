{
 "cells": [
  {
   "cell_type": "markdown",
   "metadata": {
    "slideshow": {
     "slide_type": "notes"
    }
   },
   "source": [
    "**მონაცემთა ანალიზი პითონის გამოყენებით**\n",
    "<br>\n",
    "თარიღი: **2021 წლის 10 ივნისი**\n",
    "<br>\n",
    "\n",
    "სათაური: **ლაბორატორიული №3: Pandas-ის ბიბლიოთეკა**"
   ]
  },
  {
   "cell_type": "markdown",
   "metadata": {},
   "source": [
    "# სავარჯიშო 1.  მონაცემების შესწავლა"
   ]
  },
  {
   "cell_type": "markdown",
   "metadata": {},
   "source": [
    "#### ნაბიჯი 1. მოახდინეთ საჭირო ბიბლიოთეკების იმპორტირება"
   ]
  },
  {
   "cell_type": "code",
   "execution_count": null,
   "metadata": {},
   "outputs": [],
   "source": []
  },
  {
   "cell_type": "markdown",
   "metadata": {},
   "source": [
    "#### ნაბიჯი 2. შექმენით ბმული, რომელიც მომდევნოდ გამოიყენება შემდეგი მონაცემების <a href = \"https://raw.githubusercontent.com/justmarkham/DAT8/master/data/chipotle.tsv\">გადმოსაწერად</a>. "
   ]
  },
  {
   "cell_type": "code",
   "execution_count": null,
   "metadata": {},
   "outputs": [],
   "source": [
    "url = "
   ]
  },
  {
   "cell_type": "markdown",
   "metadata": {},
   "source": [
    "#### ნაბიჯი 3. მოახდინეთ მონაცემების იმპორტირება `url` ბმულიდან `pandas`-ს მეთოდების გამოყენებით"
   ]
  },
  {
   "cell_type": "code",
   "execution_count": null,
   "metadata": {},
   "outputs": [],
   "source": [
    "df = "
   ]
  },
  {
   "cell_type": "markdown",
   "metadata": {},
   "source": [
    "#### ნაბიჯი 4. აჩვენეთ მიღებული მონაცემთა ნაკრების პირველი 10 ჩანაწერი"
   ]
  },
  {
   "cell_type": "code",
   "execution_count": null,
   "metadata": {},
   "outputs": [],
   "source": []
  },
  {
   "cell_type": "markdown",
   "metadata": {},
   "source": [
    "#### ნაბიჯი 5. აჩვენეთ რამდენია დაკვირვებების რა რაოდენობას შეიცავს ეს მონაცემთა ნაკრები"
   ]
  },
  {
   "cell_type": "code",
   "execution_count": null,
   "metadata": {},
   "outputs": [],
   "source": []
  },
  {
   "cell_type": "markdown",
   "metadata": {},
   "source": [
    "#### ნაბიჯი 6. აჩვენეთ, რამდენ სვეტს შეიცავს მონაცემთა ნაკრები"
   ]
  },
  {
   "cell_type": "code",
   "execution_count": null,
   "metadata": {},
   "outputs": [],
   "source": []
  },
  {
   "cell_type": "markdown",
   "metadata": {},
   "source": [
    "#### ნაბიჯი 7. ამობეჭდეთ ყველა სვეტის სახელი"
   ]
  },
  {
   "cell_type": "code",
   "execution_count": null,
   "metadata": {},
   "outputs": [],
   "source": []
  },
  {
   "cell_type": "markdown",
   "metadata": {},
   "source": [
    "#### ნაბიჯი 8. აჩვენეთ, როგორ არის მონაცემთა ნაკრები ინდექსირებული"
   ]
  },
  {
   "cell_type": "code",
   "execution_count": null,
   "metadata": {},
   "outputs": [],
   "source": []
  },
  {
   "cell_type": "markdown",
   "metadata": {},
   "source": [
    "#### ნაბიჯი 9. აჩვენეთ, რომელი ნივთი იყო ყველაზე ხშირად შეკვეთილი"
   ]
  },
  {
   "cell_type": "code",
   "execution_count": null,
   "metadata": {},
   "outputs": [],
   "source": []
  },
  {
   "cell_type": "markdown",
   "metadata": {},
   "source": [
    "#### ნაბიჯი 10. აჩვენეთ, რამდენი საქონლის შეკვეთა მოხდა ყველაზე შეკვეთილი ნივთისთვის"
   ]
  },
  {
   "cell_type": "code",
   "execution_count": null,
   "metadata": {},
   "outputs": [],
   "source": []
  },
  {
   "cell_type": "markdown",
   "metadata": {},
   "source": [
    "#### ნაბიჯი 11. აჩვენეთ, რომელი იყო ყველაზე შეკვეთილი ნივთი `choice_description` სვეტში"
   ]
  },
  {
   "cell_type": "code",
   "execution_count": null,
   "metadata": {},
   "outputs": [],
   "source": []
  },
  {
   "cell_type": "markdown",
   "metadata": {},
   "source": [
    "#### ნაბიჯი 12. სულ რამდენი საქონლის შეკვეთა მოხდა?"
   ]
  },
  {
   "cell_type": "code",
   "execution_count": null,
   "metadata": {},
   "outputs": [],
   "source": []
  },
  {
   "cell_type": "markdown",
   "metadata": {},
   "source": [
    "#### ნაბიჯი 13. შეამოწმეთ ნივთის ფასის ტიპი"
   ]
  },
  {
   "cell_type": "code",
   "execution_count": null,
   "metadata": {},
   "outputs": [],
   "source": []
  },
  {
   "cell_type": "markdown",
   "metadata": {},
   "source": [
    "#### ნაბიჯი 14. შექმენით `lambda` ფუნქცია და შეცვალეთ ნივთის ფასი"
   ]
  },
  {
   "cell_type": "code",
   "execution_count": null,
   "metadata": {},
   "outputs": [],
   "source": []
  },
  {
   "cell_type": "markdown",
   "metadata": {},
   "source": [
    "#### ნაბიჯი 15. გადაამოწმეთ ნივთის ფასის ტიპი "
   ]
  },
  {
   "cell_type": "code",
   "execution_count": null,
   "metadata": {},
   "outputs": [],
   "source": []
  },
  {
   "cell_type": "markdown",
   "metadata": {},
   "source": [
    "#### ნაბიჯი 16. აჩვენეთ, რამდენი იყო ჯამური შემოსავალი"
   ]
  },
  {
   "cell_type": "code",
   "execution_count": null,
   "metadata": {},
   "outputs": [],
   "source": []
  },
  {
   "cell_type": "markdown",
   "metadata": {},
   "source": [
    "#### ნაბიჯი 17. აჩვენეთ სულ რამდენი შეკვეთა გაკეთდა"
   ]
  },
  {
   "cell_type": "code",
   "execution_count": null,
   "metadata": {},
   "outputs": [],
   "source": []
  },
  {
   "cell_type": "markdown",
   "metadata": {},
   "source": [
    "#### ნაბიჯი 18. აჩვენეთ რისი ტოლია შემოსავლის საშუალო მნიშვნელობა თითო შეკვეთისთვის"
   ]
  },
  {
   "cell_type": "code",
   "execution_count": null,
   "metadata": {},
   "outputs": [],
   "source": []
  },
  {
   "cell_type": "markdown",
   "metadata": {},
   "source": [
    "#### ნაბიჯი 19.  აჩვენეთ რამდენი განსხვავებული ნივთი იყო გაყიდული"
   ]
  },
  {
   "cell_type": "code",
   "execution_count": null,
   "metadata": {},
   "outputs": [],
   "source": []
  }
 ],
 "metadata": {
  "celltoolbar": "Slideshow",
  "kernelspec": {
   "display_name": "Python 3",
   "language": "python",
   "name": "python3"
  },
  "language_info": {
   "codemirror_mode": {
    "name": "ipython",
    "version": 3
   },
   "file_extension": ".py",
   "mimetype": "text/x-python",
   "name": "python",
   "nbconvert_exporter": "python",
   "pygments_lexer": "ipython3",
   "version": "3.8.5"
  }
 },
 "nbformat": 4,
 "nbformat_minor": 2
}
