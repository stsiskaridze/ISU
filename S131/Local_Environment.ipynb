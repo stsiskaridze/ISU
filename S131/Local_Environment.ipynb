{
 "cells": [
  {
   "cell_type": "markdown",
   "metadata": {
    "slideshow": {
     "slide_type": "slide"
    }
   },
   "source": [
    "**S131 - მონაცემთა ანალიზი პითონის გამოყენებით**\n",
    "\n",
    "\n",
    "სათაური: **სამუშაო გარემოს გამართვა**\n",
    "\n",
    "\n",
    "პედაგოგი: **შოთა ცისკარიძე**"
   ]
  },
  {
   "cell_type": "markdown",
   "metadata": {
    "slideshow": {
     "slide_type": "slide"
    }
   },
   "source": [
    "<h1 align=\"center\">სამუშაო გარემოს გამართვა</h1>\n",
    "\n",
    "- ჩვენ გამოვიყენებთ **Python**-ის ფაილებთან მუშაობის **3 განსხვავებულ** მიდგომას:\n",
    "  - `Google Colab`;\n",
    "  - `JupyterLab`;\n",
    "  - `Visual Studio Code`."
   ]
  },
  {
   "cell_type": "markdown",
   "metadata": {
    "slideshow": {
     "slide_type": "slide"
    }
   },
   "source": [
    "<h2 align=\"center\">Googe Colab</h2>\n",
    "\n",
    "- ყველა სტუდენტისთვის შექმნილი იქნება ინდივიდუალური სამუშაო სივრცე **Google Drive**-ზე. \n",
    "\n",
    "\n",
    "- ამისთვის გამოყენებული იქნება სტუდენტების ილიას სახელმწიფო უნივერსიტეტის ელექტრონული ფოსტის მისამართები.\n",
    "\n",
    "\n",
    "- სამუშაო სივრცეზე წვდომა ექნება მხოლოდ ლექტორს და (არჩეულ) სტუდენტს.\n",
    "\n",
    "\n",
    "- სამუშაო ფაილების ფორმატი იქნება `*.ipynb`.\n",
    "\n",
    "\n",
    "- ფაილის გასახსნელად **Google Colab**-ში დააყენეთ **Colaboratory**, ამისთვის:\n",
    "  - აირჩიეთ ნებისმიერი `*.ipynb` ფაილი და დააჭრეთ mouse-ის მარჯვენა ღილაკს და აირჩიეთ `Open with -> Connect more apps`.\n",
    "  - მოძებნეთ **Colaboratory**-ი და დააჭირეთ ინსტალაციას `Install`.\n",
    "  - ამის შემდეგ, ნებისმიერი ფაილის ორჯერ დაჭერით\n"
   ]
  },
  {
   "cell_type": "markdown",
   "metadata": {
    "slideshow": {
     "slide_type": "slide"
    }
   },
   "source": [
    "<h2 align=\"center\">JupyterLab</h2>\n",
    "\n",
    "### Download\n",
    "\n",
    "- **Python**-ის ჩამოტვირთვა შეგვიძლია შემდეგი საიტიდან:\n",
    "\n",
    "https://www.anaconda.com/distribution/\n",
    "\n",
    "\n",
    "- თუ Windows-ის მომხმარებელი ხართ, უნდა ჩამოვტვირთოთ **Python 3.8** ვერსია ვინდოუსისთვის \n",
    "\n",
    "\n",
    "### Installation\n",
    "\n",
    "- დასაყენებლად, გაუშვათ ჩამოტვირთული ფაილი და მიყვეთ ინსტრუქციას.\n",
    "\n",
    "\n",
    "- დაყენებული პროგრამის გასაშვებად სტარტიდან მოძებნეთ **Anaconda Navigator** (გახსნას დაჭრდება გარკვეული დრო) და გახსენით **JupyterLab**. \n",
    "\n",
    "  ეს არის დაპროგრამების ინტერაქტიული გარემო.\n",
    "\n",
    "\n",
    "- კოდის დასაწერად შეგიძლიათ გამოიყენოთ განსხვავებული ტექსტის რედაქტორი, მაგალითად:\n",
    "\n",
    "  - `notepad++`: https://notepad\n",
    "  - `plus`: plus.org/downloads/\n",
    "  - `PyCharm`: https://www.jetbrains.com/pycharm/download/download-thanks.html?platform=windows&code=PCC\n",
    "  \n",
    "  - ან **Visual Studio Code**, რომლის დაყენებაც ქვევით არის ახსნილი."
   ]
  },
  {
   "cell_type": "markdown",
   "metadata": {
    "slideshow": {
     "slide_type": "slide"
    }
   },
   "source": [
    "<h2 align=\"center\">Visual Studio Code</h2>\n",
    "\n",
    "### Download\n",
    "\n",
    "- **Visual Studio Code** - A lightweight and powerful code editor (<a href = \"https://code.visualstudio.com/?wt.mc_id=vscom_downloads \">Links to an external site</a>).\n",
    "\n",
    "\n",
    "- **Python** - For Python support (<a href=\"https://www.python.org/downloads/\">Links to an external site</a>).\n",
    "  \n",
    "  \n",
    "- You will need to install the following **Visual Studio Code extension** \n",
    "(<a href=\"https://marketplace.visualstudio.com/items?itemName=ms-python.python \">Links to an external site</a>).\n",
    "  \n",
    "  \n",
    " \n",
    "### Installation\n",
    "\n",
    "- Installation of **Visual Studio Code** is a very straightforward process - just follow the instructions.\n",
    "\n",
    "- When installing **Python**, you should check the Add **Python 3.8** to PATH checkbox:\n",
    "\n",
    "<center><img src=\"images/L1_VSC_Installation.png\" alt=\"Example\" /></center>"
   ]
  }
 ],
 "metadata": {
  "kernelspec": {
   "display_name": "Python 3",
   "language": "python",
   "name": "python3"
  },
  "language_info": {
   "codemirror_mode": {
    "name": "ipython",
    "version": 3
   },
   "file_extension": ".py",
   "mimetype": "text/x-python",
   "name": "python",
   "nbconvert_exporter": "python",
   "pygments_lexer": "ipython3",
   "version": "3.8.5"
  }
 },
 "nbformat": 4,
 "nbformat_minor": 2
}
