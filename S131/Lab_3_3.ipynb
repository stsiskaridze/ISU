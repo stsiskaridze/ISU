{
 "cells": [
  {
   "cell_type": "markdown",
   "metadata": {
    "slideshow": {
     "slide_type": "notes"
    }
   },
   "source": [
    "**მონაცემთა ანალიზი პითონის გამოყენებით**\n",
    "<br>\n",
    "თარიღი: **2021 წლის 10 ივნისი**\n",
    "<br>\n",
    "\n",
    "სათაური: **ლაბორატორიული №3: Pandas-ის ბიბლიოთეკა**"
   ]
  },
  {
   "cell_type": "markdown",
   "metadata": {},
   "source": [
    "# სავარჯიშო 3.  მონაცემთა დაჯგუფება"
   ]
  },
  {
   "cell_type": "markdown",
   "metadata": {},
   "source": [
    "#### ნაბიჯი 1. მოახდინეთ საჭირო ბიბლიოთეკების იმპორტირება"
   ]
  },
  {
   "cell_type": "code",
   "execution_count": null,
   "metadata": {},
   "outputs": [],
   "source": []
  },
  {
   "cell_type": "markdown",
   "metadata": {},
   "source": [
    "#### ნაბიჯი 2. შექმენით ბმული, რომელიც მომდევნოდ გამოიყენება შემდეგი მონაცემების <a href = \"https://raw.githubusercontent.com/justmarkham/DAT8/master/data/drinks.csv\">გადმოსაწერად</a>. "
   ]
  },
  {
   "cell_type": "code",
   "execution_count": null,
   "metadata": {},
   "outputs": [],
   "source": [
    "url = "
   ]
  },
  {
   "cell_type": "markdown",
   "metadata": {},
   "source": [
    "#### ნაბიჯი 3. მოახდინეთ მონაცემების იმპორტირება `url` ბმულიდან `pandas`-ს მეთოდების გამოყენებით"
   ]
  },
  {
   "cell_type": "code",
   "execution_count": null,
   "metadata": {},
   "outputs": [],
   "source": [
    "df = "
   ]
  },
  {
   "cell_type": "markdown",
   "metadata": {},
   "source": [
    "#### ნაბიჯი 4. რომელი კონტინენტი სვამს მეტ ლუდს საშუალოდ?"
   ]
  },
  {
   "cell_type": "code",
   "execution_count": null,
   "metadata": {},
   "outputs": [],
   "source": []
  },
  {
   "cell_type": "markdown",
   "metadata": {},
   "source": [
    "#### ნაბიჯი 5. დაბეჭდეთ ღვინის მოხმარების სტატისტიკა თითოეული კონტინენტისთვის"
   ]
  },
  {
   "cell_type": "code",
   "execution_count": null,
   "metadata": {},
   "outputs": [],
   "source": []
  },
  {
   "cell_type": "markdown",
   "metadata": {},
   "source": [
    "#### ნაბიჯი 6. ამობეჭდეთ ალკოჰოლის საშუალო მოხმარება თითოეულ კონტინენტზე თითოეული სვეტისთვის"
   ]
  },
  {
   "cell_type": "code",
   "execution_count": null,
   "metadata": {},
   "outputs": [],
   "source": []
  },
  {
   "cell_type": "markdown",
   "metadata": {},
   "source": [
    "#### ნაბიჯი 7. ამობეჭდეთ ალკოჰოლის საშუალო მოხმარება თითოეულ კონტინენტზე ყველა სვეტისთვის"
   ]
  },
  {
   "cell_type": "code",
   "execution_count": null,
   "metadata": {},
   "outputs": [],
   "source": []
  },
  {
   "cell_type": "markdown",
   "metadata": {},
   "source": [
    "#### ნაბიჯი 8. დაბეჭდეთ საშუალო, მინიმალური და მაქსიმალური მნიშვნელობები სულით მოხმარებისთვის."
   ]
  },
  {
   "cell_type": "code",
   "execution_count": null,
   "metadata": {},
   "outputs": [],
   "source": []
  }
 ],
 "metadata": {
  "celltoolbar": "Slideshow",
  "kernelspec": {
   "display_name": "Python 3",
   "language": "python",
   "name": "python3"
  },
  "language_info": {
   "codemirror_mode": {
    "name": "ipython",
    "version": 3
   },
   "file_extension": ".py",
   "mimetype": "text/x-python",
   "name": "python",
   "nbconvert_exporter": "python",
   "pygments_lexer": "ipython3",
   "version": "3.8.5"
  }
 },
 "nbformat": 4,
 "nbformat_minor": 2
}
