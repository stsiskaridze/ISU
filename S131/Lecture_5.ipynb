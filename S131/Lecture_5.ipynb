{
 "cells": [
  {
   "cell_type": "markdown",
   "metadata": {
    "slideshow": {
     "slide_type": "notes"
    }
   },
   "source": [
    "**მონაცემთა ანალიზი პითონის გამოყენებით**\n",
    "<br>\n",
    "\n",
    "სათაური: **ლექცია №5: Pandas: მონაცემთა ანალიზის ბიბლიოთეკა**\n",
    "<br>\n",
    "მომხსენებელი: **შოთა ცისკარიძე**"
   ]
  },
  {
   "cell_type": "markdown",
   "metadata": {
    "slideshow": {
     "slide_type": "slide"
    }
   },
   "source": [
    "<h1 align=\"center\">Pandas: მონაცემთა დამუშავებისა და ანალიზის ბიბლიოთეკა</h1>"
   ]
  },
  {
   "cell_type": "markdown",
   "metadata": {
    "slideshow": {
     "slide_type": "slide"
    }
   },
   "source": [
    "<h3 align=\"center\">რა არის Pandas?</h3>\n",
    "\n",
    "- **Pandas** არის Python ბიბლიოთეკა მონაცემთა დამუშავებისა და ანალიზისთვის:\n",
    "\n",
    "  https://pandas.pydata.org/\n",
    "\n",
    "\n",
    "- **Pandas** სახელი მოდის ეკონომეტრიული ტერმინიდან \"**პანელის მონაცემები**\" (**Panel Data**), რომელიც გამოიყენება ინფორმაციის მრავალგანზომილებიანი სტრუქტურირებული ნაკრების აღწერისთვის. \n",
    "\n",
    "\n",
    "- **Pandas** სთავაზობს მომხმარებელს მონაცემთა სპეციალურ სტრუქტურას და ოპერაციებს რიცხვით ცხრილებისა და დროის სერიების მანიპულირებისთვის."
   ]
  },
  {
   "cell_type": "code",
   "execution_count": 1,
   "metadata": {},
   "outputs": [],
   "source": [
    "import numpy as np\n",
    "import pandas as pd\n",
    "import matplotlib.pyplot as plt"
   ]
  },
  {
   "cell_type": "markdown",
   "metadata": {
    "slideshow": {
     "slide_type": "slide"
    }
   },
   "source": [
    "<h3 align=\"center\">Pandas-ს ძირითადი ობიექტები: $\\texttt{panda.Series}$ (1D)</h3>\n",
    "\n",
    "- $\\texttt{panda.Series}$ წარმოადგენს ერთგანზომილებიანი ndarray მონაცემებს თავისი ინდექსებით.\n",
    "\n",
    "\n",
    "- $\\texttt{panda.Series}$ მხარს უჭერს როგორც მთელი ასევე იარლიყზე დაფუძნებულ ინდექსაციას.\n",
    "\n",
    "\n",
    "- $\\texttt{panda.Series}$ უზრუნველყოფილია უამრავი მეთოდით განსხვავებული ოპერაციის შესასრულებლად, რომელიც მოიცავს ინდექსს. \n",
    "\n",
    "\n",
    "- $\\texttt{ndarray}$– ის სტატისტიკური მეთოდები იქნა გამოყენებული დაკარგული მონაცემების ავტომატურად გამორიცხვის მიზნით (ამჟამად წარმოდგენილია როგორც $\\texttt{NaN}$).\n",
    "\n",
    "\n",
    "- იხილეთ უფრო დაწვრილებითი ინფორმაციისთვის:\n",
    "\n",
    "  https://pandas.pydata.org/pandas-docs/stable/reference/api/pandas.Series.html\n"
   ]
  },
  {
   "cell_type": "code",
   "execution_count": 7,
   "metadata": {},
   "outputs": [
    {
     "data": {
      "text/plain": [
       "0    1.071555\n",
       "1    0.976839\n",
       "2   -0.878640\n",
       "3   -1.425159\n",
       "4   -0.005111\n",
       "dtype: float64"
      ]
     },
     "execution_count": 7,
     "metadata": {},
     "output_type": "execute_result"
    }
   ],
   "source": [
    "s = pd.Series(np.random.randn(5))\n",
    "s"
   ]
  },
  {
   "cell_type": "code",
   "execution_count": 19,
   "metadata": {
    "scrolled": true,
    "slideshow": {
     "slide_type": "subslide"
    }
   },
   "outputs": [
    {
     "name": "stdout",
     "output_type": "stream",
     "text": [
      "a    1.567954\n",
      "b   -1.076961\n",
      "c    0.089726\n",
      "d   -1.124641\n",
      "e    0.659750\n",
      "dtype: float64\n"
     ]
    }
   ],
   "source": [
    "# სერიის შექმნა\n",
    "s = pd.Series(np.random.randn(5), index=['a', 'b', 'c', 'd', 'e'])\n",
    "print(s)"
   ]
  },
  {
   "cell_type": "code",
   "execution_count": 20,
   "metadata": {},
   "outputs": [],
   "source": [
    "s2 = pd.Series(np.random.randn(5), index=['b', 'c', 'd', 'e','f'])\n"
   ]
  },
  {
   "cell_type": "code",
   "execution_count": 21,
   "metadata": {
    "scrolled": true
   },
   "outputs": [
    {
     "data": {
      "text/plain": [
       "b   -0.668534\n",
       "c    0.335517\n",
       "d    1.057969\n",
       "e    0.522172\n",
       "f    1.791827\n",
       "dtype: float64"
      ]
     },
     "execution_count": 21,
     "metadata": {},
     "output_type": "execute_result"
    }
   ],
   "source": [
    "s2"
   ]
  },
  {
   "cell_type": "code",
   "execution_count": 22,
   "metadata": {},
   "outputs": [
    {
     "data": {
      "text/plain": [
       "a         NaN\n",
       "b   -1.745496\n",
       "c    0.425243\n",
       "d   -0.066672\n",
       "e    1.181922\n",
       "f         NaN\n",
       "dtype: float64"
      ]
     },
     "execution_count": 22,
     "metadata": {},
     "output_type": "execute_result"
    }
   ],
   "source": [
    "s+s2"
   ]
  },
  {
   "cell_type": "code",
   "execution_count": 9,
   "metadata": {},
   "outputs": [
    {
     "name": "stdout",
     "output_type": "stream",
     "text": [
      "0.9391256648514633\n"
     ]
    }
   ],
   "source": [
    "# გავს ლექსიკონს (dict)\n",
    "print(s['b'])"
   ]
  },
  {
   "cell_type": "code",
   "execution_count": 11,
   "metadata": {},
   "outputs": [
    {
     "data": {
      "text/plain": [
       "0.9391256648514633"
      ]
     },
     "execution_count": 11,
     "metadata": {},
     "output_type": "execute_result"
    }
   ],
   "source": [
    "s[1]"
   ]
  },
  {
   "cell_type": "code",
   "execution_count": 14,
   "metadata": {},
   "outputs": [
    {
     "data": {
      "text/plain": [
       "b    0.939126\n",
       "c    0.266941\n",
       "d   -0.109871\n",
       "e    0.407395\n",
       "dtype: float64"
      ]
     },
     "execution_count": 14,
     "metadata": {},
     "output_type": "execute_result"
    }
   ],
   "source": [
    "s[1:]"
   ]
  },
  {
   "cell_type": "code",
   "execution_count": 12,
   "metadata": {},
   "outputs": [
    {
     "name": "stdout",
     "output_type": "stream",
     "text": [
      "a         NaN\n",
      "b    1.878251\n",
      "c    0.533882\n",
      "d   -0.219742\n",
      "e    0.814789\n",
      "dtype: float64\n"
     ]
    }
   ],
   "source": [
    "# ავტომატური გასწორება ინდექსის მიხედვით\n",
    "print(s+s[1:])"
   ]
  },
  {
   "cell_type": "markdown",
   "metadata": {
    "slideshow": {
     "slide_type": "slide"
    }
   },
   "source": [
    "<h3 align=\"center\">Pandas-ს ძირითადი ობიექტები: $\\texttt{panda.DataFrame}$ (2D)</h3>\n",
    "\n",
    "\n",
    "- $\\texttt{panda.DataFrame}$ წარმოადგენს ორგანზომილებიანი ტაბულურ მონაცემებს.\n",
    "\n",
    "<img src=\"images/pandas-data-structure.svg\" width=\"1200\" height=\"1000\" alt=\"Example\"  align=\"center\"/>\n",
    "\n",
    "\n",
    "- $\\texttt{panda.DataFrame}$ შეიძლება წარმოიდგინოთ, როგორც სერიის ობიექტების კონტეინერი.\n",
    "\n",
    "\n",
    "- $\\texttt{panda.DataFrame}$ უზრუნველყოფილია უამრავი არითმეტიკული ოპერაციებით ორივე რიგის და სვეტის იარლიყებისთვის.\n",
    "\n",
    "\n",
    "- იხილეთ უფრო დაწვრილებითი ინფორმაციისთვის:\n",
    "\n",
    "  https://pandas.pydata.org/pandas-docs/stable/reference/api/pandas.DataFrame.html\n",
    "\n",
    "\n"
   ]
  },
  {
   "cell_type": "code",
   "execution_count": 23,
   "metadata": {
    "slideshow": {
     "slide_type": "subslide"
    }
   },
   "outputs": [
    {
     "name": "stdout",
     "output_type": "stream",
     "text": [
      "   col1  col2\n",
      "0     1     3\n",
      "1     2     4\n"
     ]
    }
   ],
   "source": [
    "# DataFrame-ის შექმნა ლექსიკონის (dict) გამოყენებით\n",
    "d = {'col1': [1, 2], 'col2': [3, 4]}\n",
    "df = pd.DataFrame(data=d)\n",
    "print(df)"
   ]
  },
  {
   "cell_type": "code",
   "execution_count": 25,
   "metadata": {},
   "outputs": [
    {
     "name": "stdout",
     "output_type": "stream",
     "text": [
      "   a  b  c\n",
      "a  1  2  3\n",
      "b  4  5  6\n",
      "c  7  8  9\n"
     ]
    }
   ],
   "source": [
    "# DataFrame-ის შექმნა ndarray-ის გამოყენებით\n",
    "df = pd.DataFrame(np.array([[1, 2, 3], [4, 5, 6], [7, 8, 9]]), columns=['a', 'b', 'c'], index = ['a', 'b', 'c'])\n",
    "print(df)"
   ]
  },
  {
   "cell_type": "code",
   "execution_count": 27,
   "metadata": {},
   "outputs": [
    {
     "name": "stdout",
     "output_type": "stream",
     "text": [
      "                   A         B         C\n",
      "2000-01-01  0.526363 -0.738979  0.027118\n",
      "2000-01-02 -0.535212 -0.915391  0.180079\n",
      "2000-01-03  1.880489 -0.227689  0.110262\n",
      "2000-01-04  1.195225 -0.197479 -0.279946\n",
      "2000-01-05 -0.661959  0.478450  0.599740\n",
      "2000-01-06 -0.100004  1.620633  0.237134\n",
      "2000-01-07  1.317384  0.049652 -0.775946\n",
      "2000-01-08 -0.298101 -0.528752  0.213287\n"
     ]
    }
   ],
   "source": [
    "df = pd.DataFrame(np.random.randn(8, 3), index=pd.date_range('1/1/2000', periods=8), columns=['A', 'B', 'C'])\n",
    "print(df)"
   ]
  },
  {
   "cell_type": "markdown",
   "metadata": {
    "slideshow": {
     "slide_type": "slide"
    }
   },
   "source": [
    "<h3 align=\"center\">Pandas-ს ძირითადი ობიექტები: $\\texttt{panda.Panel}$ (3D)</h3>\n",
    "\n",
    "- $\\texttt{panda.Panel}$ წარმოადგენს ფართო ფორმატის პანელის (**wide panel format**) მონაცემებს და ინახება როგორც 3-განზომილებიანი მასივი.\n",
    "\n",
    "- იხილეთ უფრო დაწვრილებითი ინფორმაციისთვის:\n",
    "\n",
    "  https://pandas.pydata.org/pandas-docs/version/0.23.4/generated/pandas.Panel.html\n"
   ]
  },
  {
   "cell_type": "code",
   "execution_count": 29,
   "metadata": {},
   "outputs": [
    {
     "name": "stderr",
     "output_type": "stream",
     "text": [
      "<ipython-input-29-2cef653560c4>:1: FutureWarning: The Panel class is removed from pandas. Accessing it from the top-level namespace will also be removed in the next version\n",
      "  wp = pd.Panel(np.random.randn(2, 3, 4), items = ['Item1', 'Item2'], major_axis=pd.date_range('1/1/2000', periods=3), minor_axis=['A', 'B', 'C', 'D'])\n"
     ]
    },
    {
     "ename": "TypeError",
     "evalue": "Panel() takes no arguments",
     "output_type": "error",
     "traceback": [
      "\u001b[1;31m---------------------------------------------------------------------------\u001b[0m",
      "\u001b[1;31mTypeError\u001b[0m                                 Traceback (most recent call last)",
      "\u001b[1;32m<ipython-input-29-2cef653560c4>\u001b[0m in \u001b[0;36m<module>\u001b[1;34m\u001b[0m\n\u001b[1;32m----> 1\u001b[1;33m \u001b[0mwp\u001b[0m \u001b[1;33m=\u001b[0m \u001b[0mpd\u001b[0m\u001b[1;33m.\u001b[0m\u001b[0mPanel\u001b[0m\u001b[1;33m(\u001b[0m\u001b[0mnp\u001b[0m\u001b[1;33m.\u001b[0m\u001b[0mrandom\u001b[0m\u001b[1;33m.\u001b[0m\u001b[0mrandn\u001b[0m\u001b[1;33m(\u001b[0m\u001b[1;36m2\u001b[0m\u001b[1;33m,\u001b[0m \u001b[1;36m3\u001b[0m\u001b[1;33m,\u001b[0m \u001b[1;36m4\u001b[0m\u001b[1;33m)\u001b[0m\u001b[1;33m,\u001b[0m \u001b[0mitems\u001b[0m \u001b[1;33m=\u001b[0m \u001b[1;33m[\u001b[0m\u001b[1;34m'Item1'\u001b[0m\u001b[1;33m,\u001b[0m \u001b[1;34m'Item2'\u001b[0m\u001b[1;33m]\u001b[0m\u001b[1;33m,\u001b[0m \u001b[0mmajor_axis\u001b[0m\u001b[1;33m=\u001b[0m\u001b[0mpd\u001b[0m\u001b[1;33m.\u001b[0m\u001b[0mdate_range\u001b[0m\u001b[1;33m(\u001b[0m\u001b[1;34m'1/1/2000'\u001b[0m\u001b[1;33m,\u001b[0m \u001b[0mperiods\u001b[0m\u001b[1;33m=\u001b[0m\u001b[1;36m3\u001b[0m\u001b[1;33m)\u001b[0m\u001b[1;33m,\u001b[0m \u001b[0mminor_axis\u001b[0m\u001b[1;33m=\u001b[0m\u001b[1;33m[\u001b[0m\u001b[1;34m'A'\u001b[0m\u001b[1;33m,\u001b[0m \u001b[1;34m'B'\u001b[0m\u001b[1;33m,\u001b[0m \u001b[1;34m'C'\u001b[0m\u001b[1;33m,\u001b[0m \u001b[1;34m'D'\u001b[0m\u001b[1;33m]\u001b[0m\u001b[1;33m)\u001b[0m\u001b[1;33m\u001b[0m\u001b[1;33m\u001b[0m\u001b[0m\n\u001b[0m\u001b[0;32m      2\u001b[0m \u001b[0mprint\u001b[0m\u001b[1;33m(\u001b[0m\u001b[0mwp\u001b[0m\u001b[1;33m)\u001b[0m\u001b[1;33m\u001b[0m\u001b[1;33m\u001b[0m\u001b[0m\n",
      "\u001b[1;31mTypeError\u001b[0m: Panel() takes no arguments"
     ]
    }
   ],
   "source": [
    "wp = pd.Panel(np.random.randn(2, 3, 4), items = ['Item1', 'Item2'], major_axis=pd.date_range('1/1/2000', periods=3), minor_axis=['A', 'B', 'C', 'D'])\n",
    "print(wp)"
   ]
  },
  {
   "cell_type": "code",
   "execution_count": 30,
   "metadata": {},
   "outputs": [
    {
     "name": "stdout",
     "output_type": "stream",
     "text": [
      "1.1.3\n"
     ]
    }
   ],
   "source": [
    "print(pd.__version__)"
   ]
  },
  {
   "cell_type": "markdown",
   "metadata": {
    "slideshow": {
     "slide_type": "slide"
    }
   },
   "source": [
    "<h3 align=\"center\">ამინდის პროგნოზი</h3>\n",
    "\n",
    "- შემდგომ, მაგალითისთვის ხშირად განვიხილავთ მიმდინარე კვირის თბილისის ამინდის პროგნოზს:\n",
    "\n",
    "|     Date     | Temperature [C] |         Outlook        | Precipitation [%] | Humidity [%] | Wind [km/h] |\n",
    "|:------------:|:---------------:|:----------------------:|:-----------------:|:------------:|:-----------:|\n",
    "| 14-June-2020 |        33       | Isolated thunderstorms |         60        |      43      |      10     |\n",
    "| 15-June-2020 |        33       |      Partly cloudy     |         10        |      34      |      14     |\n",
    "| 16-June-2020 |        34       |      Mostly sunny      |         0         |      29      |      19     |\n",
    "| 17-June-2020 |        33       |      Partly cloudy     |         10        |      36      |      16     |\n",
    "| 18-June-2020 |        32       |      Partly cloudy     |         20        |      35      |      21     |\n",
    "| 19-June-2020 |        31       |      Mostly sunny      |         20        |      32      |      19     |\n",
    "| 20-June-2020 |        32       |      Mostly sunny      |         10        |      29      |      19     |\n",
    "\n"
   ]
  },
  {
   "cell_type": "code",
   "execution_count": 55,
   "metadata": {
    "slideshow": {
     "slide_type": "subslide"
    }
   },
   "outputs": [
    {
     "data": {
      "text/html": [
       "<div>\n",
       "<style scoped>\n",
       "    .dataframe tbody tr th:only-of-type {\n",
       "        vertical-align: middle;\n",
       "    }\n",
       "\n",
       "    .dataframe tbody tr th {\n",
       "        vertical-align: top;\n",
       "    }\n",
       "\n",
       "    .dataframe thead th {\n",
       "        text-align: right;\n",
       "    }\n",
       "</style>\n",
       "<table border=\"1\" class=\"dataframe\">\n",
       "  <thead>\n",
       "    <tr style=\"text-align: right;\">\n",
       "      <th></th>\n",
       "      <th>Temperature [C]</th>\n",
       "      <th>Outlook</th>\n",
       "      <th>Precipitation [%]</th>\n",
       "      <th>Humidity [%]</th>\n",
       "      <th>Wind [km/h]</th>\n",
       "    </tr>\n",
       "  </thead>\n",
       "  <tbody>\n",
       "    <tr>\n",
       "      <th>2020-06-14</th>\n",
       "      <td>33</td>\n",
       "      <td>Isolated thunderstorms</td>\n",
       "      <td>60</td>\n",
       "      <td>43</td>\n",
       "      <td>10</td>\n",
       "    </tr>\n",
       "    <tr>\n",
       "      <th>2020-06-15</th>\n",
       "      <td>33</td>\n",
       "      <td>Partly cloudy</td>\n",
       "      <td>10</td>\n",
       "      <td>34</td>\n",
       "      <td>14</td>\n",
       "    </tr>\n",
       "    <tr>\n",
       "      <th>2020-06-16</th>\n",
       "      <td>34</td>\n",
       "      <td>Mostly sunny</td>\n",
       "      <td>0</td>\n",
       "      <td>29</td>\n",
       "      <td>19</td>\n",
       "    </tr>\n",
       "    <tr>\n",
       "      <th>2020-06-17</th>\n",
       "      <td>33</td>\n",
       "      <td>Partly cloudy</td>\n",
       "      <td>10</td>\n",
       "      <td>36</td>\n",
       "      <td>16</td>\n",
       "    </tr>\n",
       "    <tr>\n",
       "      <th>2020-06-18</th>\n",
       "      <td>32</td>\n",
       "      <td>Partly cloudy</td>\n",
       "      <td>20</td>\n",
       "      <td>35</td>\n",
       "      <td>21</td>\n",
       "    </tr>\n",
       "    <tr>\n",
       "      <th>2020-06-19</th>\n",
       "      <td>31</td>\n",
       "      <td>Mostly sunny</td>\n",
       "      <td>20</td>\n",
       "      <td>32</td>\n",
       "      <td>19</td>\n",
       "    </tr>\n",
       "    <tr>\n",
       "      <th>2020-06-20</th>\n",
       "      <td>32</td>\n",
       "      <td>Mostly sunny</td>\n",
       "      <td>10</td>\n",
       "      <td>29</td>\n",
       "      <td>19</td>\n",
       "    </tr>\n",
       "  </tbody>\n",
       "</table>\n",
       "</div>"
      ],
      "text/plain": [
       "            Temperature [C]                 Outlook  Precipitation [%]  \\\n",
       "2020-06-14               33  Isolated thunderstorms                 60   \n",
       "2020-06-15               33           Partly cloudy                 10   \n",
       "2020-06-16               34            Mostly sunny                  0   \n",
       "2020-06-17               33           Partly cloudy                 10   \n",
       "2020-06-18               32           Partly cloudy                 20   \n",
       "2020-06-19               31            Mostly sunny                 20   \n",
       "2020-06-20               32            Mostly sunny                 10   \n",
       "\n",
       "            Humidity [%]  Wind [km/h]  \n",
       "2020-06-14            43           10  \n",
       "2020-06-15            34           14  \n",
       "2020-06-16            29           19  \n",
       "2020-06-17            36           16  \n",
       "2020-06-18            35           21  \n",
       "2020-06-19            32           19  \n",
       "2020-06-20            29           19  "
      ]
     },
     "execution_count": 55,
     "metadata": {},
     "output_type": "execute_result"
    }
   ],
   "source": [
    "df = pd.DataFrame({'Temperature [C]' :   [33, 33, 34, 33, 32, 31, 32],\n",
    "                   'Outlook' : pd.Categorical([\"Isolated thunderstorms\", \"Partly cloudy\", \"Mostly sunny\", \"Partly cloudy\", \"Partly cloudy\", \"Mostly sunny\", \"Mostly sunny\"]),\n",
    "                   'Precipitation [%]' : np.array([60, 10, 0, 10, 20, 20, 10]),\n",
    "                   'Humidity [%]' :      np.array([43, 34, 29, 36, 35, 32, 29]),\n",
    "                   'Wind [km/h]' :       np.array([10, 14, 19, 16, 21, 19, 19])},\n",
    "                    index=pd.period_range('14-June-2020', periods=7, freq='D'))\n",
    "df"
   ]
  },
  {
   "cell_type": "markdown",
   "metadata": {
    "slideshow": {
     "slide_type": "slide"
    }
   },
   "source": [
    "<h3 align=\"center\">მონაცემების დათვალიერება / შემოწმება</h3>\n",
    "\n",
    "|              მეთოდი             |                აღწერა                                      |\n",
    "|:---------------------------------|:-----------------------------------------------------------|\n",
    "| DataFrame.head(n)                       | აბრუნებს ობიექტის პირველ $n$ სტრიქონს |\n",
    "| DataFrame.tail(n)                       | აბრუნებს ობიექტის ბოლო $n$ სტრიქონს |\n",
    "| DataFrame.shape                         | აბრუნებს სტრიქონების და სვეტების რაოდენობას |\n",
    "| DataFrame.info()                        | აბრუნებს ინფორმაციას ინდექსის, მონაცემთა ტიპის და მეხსიერების შესახებ |\n",
    "| DataFrame.describe()                    | აბრუნებს რიცხვითი სვეტების შემაჯამებელ სტატისტიკას |\n",
    "| DataFrame.nunique()                     | აბრუნებს უნიკალური მნიშვნელობების რაოდენობას |\n",
    "| DataFrame.index                         | აბრუნებს ობიექტის სტრიქონს იარლიყებს (ინდექსებს) |\n",
    "| DataFrame.columns                       | აბრუნებს ობიექტის სვეტების იარლიყებს |\n",
    "| DataFrame.values                        | აბრუნებს ობიექტის NumPy-ის წარმოდგენას |\n"
   ]
  },
  {
   "cell_type": "code",
   "execution_count": 56,
   "metadata": {
    "slideshow": {
     "slide_type": "subslide"
    }
   },
   "outputs": [
    {
     "data": {
      "text/html": [
       "<div>\n",
       "<style scoped>\n",
       "    .dataframe tbody tr th:only-of-type {\n",
       "        vertical-align: middle;\n",
       "    }\n",
       "\n",
       "    .dataframe tbody tr th {\n",
       "        vertical-align: top;\n",
       "    }\n",
       "\n",
       "    .dataframe thead th {\n",
       "        text-align: right;\n",
       "    }\n",
       "</style>\n",
       "<table border=\"1\" class=\"dataframe\">\n",
       "  <thead>\n",
       "    <tr style=\"text-align: right;\">\n",
       "      <th></th>\n",
       "      <th>Temperature [C]</th>\n",
       "      <th>Outlook</th>\n",
       "      <th>Precipitation [%]</th>\n",
       "      <th>Humidity [%]</th>\n",
       "      <th>Wind [km/h]</th>\n",
       "    </tr>\n",
       "  </thead>\n",
       "  <tbody>\n",
       "    <tr>\n",
       "      <th>2020-06-14</th>\n",
       "      <td>33</td>\n",
       "      <td>Isolated thunderstorms</td>\n",
       "      <td>60</td>\n",
       "      <td>43</td>\n",
       "      <td>10</td>\n",
       "    </tr>\n",
       "    <tr>\n",
       "      <th>2020-06-15</th>\n",
       "      <td>33</td>\n",
       "      <td>Partly cloudy</td>\n",
       "      <td>10</td>\n",
       "      <td>34</td>\n",
       "      <td>14</td>\n",
       "    </tr>\n",
       "    <tr>\n",
       "      <th>2020-06-16</th>\n",
       "      <td>34</td>\n",
       "      <td>Mostly sunny</td>\n",
       "      <td>0</td>\n",
       "      <td>29</td>\n",
       "      <td>19</td>\n",
       "    </tr>\n",
       "  </tbody>\n",
       "</table>\n",
       "</div>"
      ],
      "text/plain": [
       "            Temperature [C]                 Outlook  Precipitation [%]  \\\n",
       "2020-06-14               33  Isolated thunderstorms                 60   \n",
       "2020-06-15               33           Partly cloudy                 10   \n",
       "2020-06-16               34            Mostly sunny                  0   \n",
       "\n",
       "            Humidity [%]  Wind [km/h]  \n",
       "2020-06-14            43           10  \n",
       "2020-06-15            34           14  \n",
       "2020-06-16            29           19  "
      ]
     },
     "execution_count": 56,
     "metadata": {},
     "output_type": "execute_result"
    }
   ],
   "source": [
    "# DataFrame.head(n)\n",
    "# აბრუნებს ობიექტის პირველ n სტრიქონს\n",
    "df.head(3)"
   ]
  },
  {
   "cell_type": "code",
   "execution_count": 57,
   "metadata": {
    "scrolled": false,
    "slideshow": {
     "slide_type": "subslide"
    }
   },
   "outputs": [
    {
     "data": {
      "text/html": [
       "<div>\n",
       "<style scoped>\n",
       "    .dataframe tbody tr th:only-of-type {\n",
       "        vertical-align: middle;\n",
       "    }\n",
       "\n",
       "    .dataframe tbody tr th {\n",
       "        vertical-align: top;\n",
       "    }\n",
       "\n",
       "    .dataframe thead th {\n",
       "        text-align: right;\n",
       "    }\n",
       "</style>\n",
       "<table border=\"1\" class=\"dataframe\">\n",
       "  <thead>\n",
       "    <tr style=\"text-align: right;\">\n",
       "      <th></th>\n",
       "      <th>Temperature [C]</th>\n",
       "      <th>Outlook</th>\n",
       "      <th>Precipitation [%]</th>\n",
       "      <th>Humidity [%]</th>\n",
       "      <th>Wind [km/h]</th>\n",
       "    </tr>\n",
       "  </thead>\n",
       "  <tbody>\n",
       "    <tr>\n",
       "      <th>2020-06-18</th>\n",
       "      <td>32</td>\n",
       "      <td>Partly cloudy</td>\n",
       "      <td>20</td>\n",
       "      <td>35</td>\n",
       "      <td>21</td>\n",
       "    </tr>\n",
       "    <tr>\n",
       "      <th>2020-06-19</th>\n",
       "      <td>31</td>\n",
       "      <td>Mostly sunny</td>\n",
       "      <td>20</td>\n",
       "      <td>32</td>\n",
       "      <td>19</td>\n",
       "    </tr>\n",
       "    <tr>\n",
       "      <th>2020-06-20</th>\n",
       "      <td>32</td>\n",
       "      <td>Mostly sunny</td>\n",
       "      <td>10</td>\n",
       "      <td>29</td>\n",
       "      <td>19</td>\n",
       "    </tr>\n",
       "  </tbody>\n",
       "</table>\n",
       "</div>"
      ],
      "text/plain": [
       "            Temperature [C]        Outlook  Precipitation [%]  Humidity [%]  \\\n",
       "2020-06-18               32  Partly cloudy                 20            35   \n",
       "2020-06-19               31   Mostly sunny                 20            32   \n",
       "2020-06-20               32   Mostly sunny                 10            29   \n",
       "\n",
       "            Wind [km/h]  \n",
       "2020-06-18           21  \n",
       "2020-06-19           19  \n",
       "2020-06-20           19  "
      ]
     },
     "execution_count": 57,
     "metadata": {},
     "output_type": "execute_result"
    }
   ],
   "source": [
    "# DataFrame.tail(n)\n",
    "# აბრუნებს ობიექტის ბოლო n სტრიქონს\n",
    "df.tail(3)"
   ]
  },
  {
   "cell_type": "code",
   "execution_count": 58,
   "metadata": {
    "slideshow": {
     "slide_type": "subslide"
    }
   },
   "outputs": [
    {
     "data": {
      "text/plain": [
       "tuple"
      ]
     },
     "execution_count": 58,
     "metadata": {},
     "output_type": "execute_result"
    }
   ],
   "source": [
    "# DataFrame.shape\n",
    "# აბრუნებს სტრიქონების და სვეტების რაოდენობას\n",
    "type(df.shape)"
   ]
  },
  {
   "cell_type": "code",
   "execution_count": 59,
   "metadata": {},
   "outputs": [
    {
     "data": {
      "text/plain": [
       "5"
      ]
     },
     "execution_count": 59,
     "metadata": {},
     "output_type": "execute_result"
    }
   ],
   "source": [
    "df.shape[1]"
   ]
  },
  {
   "cell_type": "code",
   "execution_count": 60,
   "metadata": {
    "scrolled": true,
    "slideshow": {
     "slide_type": "subslide"
    }
   },
   "outputs": [
    {
     "name": "stdout",
     "output_type": "stream",
     "text": [
      "<class 'pandas.core.frame.DataFrame'>\n",
      "PeriodIndex: 7 entries, 2020-06-14 to 2020-06-20\n",
      "Freq: D\n",
      "Data columns (total 5 columns):\n",
      " #   Column             Non-Null Count  Dtype   \n",
      "---  ------             --------------  -----   \n",
      " 0   Temperature [C]    7 non-null      int64   \n",
      " 1   Outlook            7 non-null      category\n",
      " 2   Precipitation [%]  7 non-null      int32   \n",
      " 3   Humidity [%]       7 non-null      int32   \n",
      " 4   Wind [km/h]        7 non-null      int32   \n",
      "dtypes: category(1), int32(3), int64(1)\n",
      "memory usage: 307.0 bytes\n"
     ]
    }
   ],
   "source": [
    "# DataFrame.info()\n",
    "# აბრუნებს ინფორმაციას ინდექსის, მონაცემთა ტიპის და მეხსიერების შესახებ\n",
    "df.info()"
   ]
  },
  {
   "cell_type": "code",
   "execution_count": 61,
   "metadata": {
    "scrolled": true,
    "slideshow": {
     "slide_type": "subslide"
    }
   },
   "outputs": [
    {
     "data": {
      "text/html": [
       "<div>\n",
       "<style scoped>\n",
       "    .dataframe tbody tr th:only-of-type {\n",
       "        vertical-align: middle;\n",
       "    }\n",
       "\n",
       "    .dataframe tbody tr th {\n",
       "        vertical-align: top;\n",
       "    }\n",
       "\n",
       "    .dataframe thead th {\n",
       "        text-align: right;\n",
       "    }\n",
       "</style>\n",
       "<table border=\"1\" class=\"dataframe\">\n",
       "  <thead>\n",
       "    <tr style=\"text-align: right;\">\n",
       "      <th></th>\n",
       "      <th>Temperature [C]</th>\n",
       "      <th>Precipitation [%]</th>\n",
       "      <th>Humidity [%]</th>\n",
       "      <th>Wind [km/h]</th>\n",
       "    </tr>\n",
       "  </thead>\n",
       "  <tbody>\n",
       "    <tr>\n",
       "      <th>count</th>\n",
       "      <td>7.000000</td>\n",
       "      <td>7.000000</td>\n",
       "      <td>7.000000</td>\n",
       "      <td>7.000000</td>\n",
       "    </tr>\n",
       "    <tr>\n",
       "      <th>mean</th>\n",
       "      <td>32.571429</td>\n",
       "      <td>18.571429</td>\n",
       "      <td>34.000000</td>\n",
       "      <td>16.857143</td>\n",
       "    </tr>\n",
       "    <tr>\n",
       "      <th>std</th>\n",
       "      <td>0.975900</td>\n",
       "      <td>19.518001</td>\n",
       "      <td>4.830459</td>\n",
       "      <td>3.804759</td>\n",
       "    </tr>\n",
       "    <tr>\n",
       "      <th>min</th>\n",
       "      <td>31.000000</td>\n",
       "      <td>0.000000</td>\n",
       "      <td>29.000000</td>\n",
       "      <td>10.000000</td>\n",
       "    </tr>\n",
       "    <tr>\n",
       "      <th>25%</th>\n",
       "      <td>32.000000</td>\n",
       "      <td>10.000000</td>\n",
       "      <td>30.500000</td>\n",
       "      <td>15.000000</td>\n",
       "    </tr>\n",
       "    <tr>\n",
       "      <th>50%</th>\n",
       "      <td>33.000000</td>\n",
       "      <td>10.000000</td>\n",
       "      <td>34.000000</td>\n",
       "      <td>19.000000</td>\n",
       "    </tr>\n",
       "    <tr>\n",
       "      <th>75%</th>\n",
       "      <td>33.000000</td>\n",
       "      <td>20.000000</td>\n",
       "      <td>35.500000</td>\n",
       "      <td>19.000000</td>\n",
       "    </tr>\n",
       "    <tr>\n",
       "      <th>max</th>\n",
       "      <td>34.000000</td>\n",
       "      <td>60.000000</td>\n",
       "      <td>43.000000</td>\n",
       "      <td>21.000000</td>\n",
       "    </tr>\n",
       "  </tbody>\n",
       "</table>\n",
       "</div>"
      ],
      "text/plain": [
       "       Temperature [C]  Precipitation [%]  Humidity [%]  Wind [km/h]\n",
       "count         7.000000           7.000000      7.000000     7.000000\n",
       "mean         32.571429          18.571429     34.000000    16.857143\n",
       "std           0.975900          19.518001      4.830459     3.804759\n",
       "min          31.000000           0.000000     29.000000    10.000000\n",
       "25%          32.000000          10.000000     30.500000    15.000000\n",
       "50%          33.000000          10.000000     34.000000    19.000000\n",
       "75%          33.000000          20.000000     35.500000    19.000000\n",
       "max          34.000000          60.000000     43.000000    21.000000"
      ]
     },
     "execution_count": 61,
     "metadata": {},
     "output_type": "execute_result"
    }
   ],
   "source": [
    "# DataFrame.describe()\n",
    "# აბრუნებს რიცხვითი სვეტების შემაჯამებელ სტატისტიკას\n",
    "df.describe()"
   ]
  },
  {
   "cell_type": "code",
   "execution_count": 62,
   "metadata": {
    "scrolled": false,
    "slideshow": {
     "slide_type": "subslide"
    }
   },
   "outputs": [
    {
     "data": {
      "text/plain": [
       "Temperature [C]      4\n",
       "Outlook              3\n",
       "Precipitation [%]    4\n",
       "Humidity [%]         6\n",
       "Wind [km/h]          5\n",
       "dtype: int64"
      ]
     },
     "execution_count": 62,
     "metadata": {},
     "output_type": "execute_result"
    }
   ],
   "source": [
    "# DataFrame.nunique()\n",
    "# აბრუნებს უნიკალური მნიშვნელობების რაოდენობას\n",
    "df.nunique()"
   ]
  },
  {
   "cell_type": "code",
   "execution_count": 63,
   "metadata": {},
   "outputs": [
    {
     "data": {
      "text/plain": [
       "PeriodIndex(['2020-06-14', '2020-06-15', '2020-06-16', '2020-06-17',\n",
       "             '2020-06-18', '2020-06-19', '2020-06-20'],\n",
       "            dtype='period[D]', freq='D')"
      ]
     },
     "execution_count": 63,
     "metadata": {},
     "output_type": "execute_result"
    }
   ],
   "source": [
    "# DataFrame.index\n",
    "# აბრუნებს ობიექტის სტრიქონს იარლიყებს (ინდექსებს)\n",
    "df.index"
   ]
  },
  {
   "cell_type": "code",
   "execution_count": 64,
   "metadata": {},
   "outputs": [
    {
     "data": {
      "text/plain": [
       "Index(['Temperature [C]', 'Outlook', 'Precipitation [%]', 'Humidity [%]',\n",
       "       'Wind [km/h]'],\n",
       "      dtype='object')"
      ]
     },
     "execution_count": 64,
     "metadata": {},
     "output_type": "execute_result"
    }
   ],
   "source": [
    "# DataFrame.columns\n",
    "# აბრუნებს ობიექტის სვეტების იარლიყებს\n",
    "df.columns"
   ]
  },
  {
   "cell_type": "code",
   "execution_count": 73,
   "metadata": {
    "scrolled": true
   },
   "outputs": [],
   "source": [
    "# DataFrame.values\n",
    "# აბრუნებს ობიექტის numpy.array-ის წარმოდგენას\n",
    "d = df.values"
   ]
  },
  {
   "cell_type": "code",
   "execution_count": 75,
   "metadata": {},
   "outputs": [
    {
     "data": {
      "text/plain": [
       "array([[33, 'Isolated thunderstorms', 60, 43, 10],\n",
       "       [33, 'Partly cloudy', 10, 34, 14],\n",
       "       [34, 'Mostly sunny', 0, 29, 19],\n",
       "       [33, 'Partly cloudy', 10, 36, 16],\n",
       "       [32, 'Partly cloudy', 20, 35, 21],\n",
       "       [31, 'Mostly sunny', 20, 32, 19],\n",
       "       [32, 'Mostly sunny', 10, 29, 19]], dtype=object)"
      ]
     },
     "execution_count": 75,
     "metadata": {},
     "output_type": "execute_result"
    }
   ],
   "source": [
    "d"
   ]
  },
  {
   "cell_type": "code",
   "execution_count": 74,
   "metadata": {},
   "outputs": [
    {
     "data": {
      "text/plain": [
       "numpy.ndarray"
      ]
     },
     "execution_count": 74,
     "metadata": {},
     "output_type": "execute_result"
    }
   ],
   "source": [
    "type(d)"
   ]
  },
  {
   "cell_type": "markdown",
   "metadata": {
    "slideshow": {
     "slide_type": "slide"
    }
   },
   "source": [
    "<h3 align=\"center\">მონაცემთა ამორჩევა</h3>\n",
    "\n",
    "| მეთოდი                   | აღწერა                                  |\n",
    "|:--------------------------|:----------------------------------------|\n",
    "| DataFrame[col]            | აბრუნებს სვეტს იარლიყით **col** როგორც Series ობიეტს|\n",
    "| Serial.iloc[0]            | აბრუნებს ელემენტის მნიშნველობას პოზიციის მიხედვით |\n",
    "| Serial.loc['index_one']   | აბრუნებს ელემენტის მნიშნველობას ინდექსის მიხედვით |\n",
    "| DataFrame[[col1, col2]]   | აბრუნებს სვეტებს იარლიყებით **col, col2**  როგორც DataFrame ობიეტს |\n",
    "| DataFrame.iloc[0,:]          | აბრუნებს მწკრივს ნომერის მიხედვით |\n",
    "| DataFrame.iloc[m,n]          | აბრუნებს $n$-სვეტის $m$-ელემენტს|\n"
   ]
  },
  {
   "cell_type": "code",
   "execution_count": 85,
   "metadata": {
    "scrolled": false,
    "slideshow": {
     "slide_type": "subslide"
    }
   },
   "outputs": [],
   "source": [
    "# DataFrame[col]\n",
    "# აბრუნებს სვეტს იარლიყით col როგორც Series ობიეტს\n",
    "a = df[\"Outlook\"]"
   ]
  },
  {
   "cell_type": "code",
   "execution_count": 86,
   "metadata": {},
   "outputs": [],
   "source": [
    "b = df[\"Temperature [C]\"]"
   ]
  },
  {
   "cell_type": "code",
   "execution_count": 77,
   "metadata": {},
   "outputs": [
    {
     "data": {
      "text/plain": [
       "2020-06-14    Isolated thunderstorms\n",
       "2020-06-15             Partly cloudy\n",
       "2020-06-16              Mostly sunny\n",
       "2020-06-17             Partly cloudy\n",
       "2020-06-18             Partly cloudy\n",
       "2020-06-19              Mostly sunny\n",
       "2020-06-20              Mostly sunny\n",
       "Freq: D, Name: Outlook, dtype: category\n",
       "Categories (3, object): ['Isolated thunderstorms', 'Mostly sunny', 'Partly cloudy']"
      ]
     },
     "execution_count": 77,
     "metadata": {},
     "output_type": "execute_result"
    }
   ],
   "source": [
    "s3"
   ]
  },
  {
   "cell_type": "code",
   "execution_count": 78,
   "metadata": {},
   "outputs": [
    {
     "data": {
      "text/plain": [
       "pandas.core.series.Series"
      ]
     },
     "execution_count": 78,
     "metadata": {},
     "output_type": "execute_result"
    }
   ],
   "source": [
    "type(s3)"
   ]
  },
  {
   "cell_type": "code",
   "execution_count": 83,
   "metadata": {
    "slideshow": {
     "slide_type": "subslide"
    }
   },
   "outputs": [
    {
     "data": {
      "text/plain": [
       "'Partly cloudy'"
      ]
     },
     "execution_count": 83,
     "metadata": {},
     "output_type": "execute_result"
    }
   ],
   "source": [
    "# Serial.iloc[0]\n",
    "# აბრუნებს ელემენტის მნიშნველობას პოზიციის მიხედვით\n",
    "s3 = df[\"Outlook\"]\n",
    "s3.iloc[1]"
   ]
  },
  {
   "cell_type": "code",
   "execution_count": 84,
   "metadata": {
    "slideshow": {
     "slide_type": "subslide"
    }
   },
   "outputs": [
    {
     "data": {
      "text/plain": [
       "'Partly cloudy'"
      ]
     },
     "execution_count": 84,
     "metadata": {},
     "output_type": "execute_result"
    }
   ],
   "source": [
    "# Serial.loc['index_one']\n",
    "# აბრუნებს ელემენტის მნიშნველობას ინდეხის მიხედვით\n",
    "s = df[\"Outlook\"]\n",
    "s.loc['2020-06-15']"
   ]
  },
  {
   "cell_type": "code",
   "execution_count": 79,
   "metadata": {
    "scrolled": true,
    "slideshow": {
     "slide_type": "subslide"
    }
   },
   "outputs": [],
   "source": [
    "# DataFrame[[col1, col2]]\n",
    "# აბრუნებს სვეტებს იარლიყებით col, col2 როგორც DataFrame ობიეტს\n",
    "df2 = df[[\"Temperature [C]\",\"Outlook\"]]"
   ]
  },
  {
   "cell_type": "code",
   "execution_count": 80,
   "metadata": {},
   "outputs": [
    {
     "data": {
      "text/html": [
       "<div>\n",
       "<style scoped>\n",
       "    .dataframe tbody tr th:only-of-type {\n",
       "        vertical-align: middle;\n",
       "    }\n",
       "\n",
       "    .dataframe tbody tr th {\n",
       "        vertical-align: top;\n",
       "    }\n",
       "\n",
       "    .dataframe thead th {\n",
       "        text-align: right;\n",
       "    }\n",
       "</style>\n",
       "<table border=\"1\" class=\"dataframe\">\n",
       "  <thead>\n",
       "    <tr style=\"text-align: right;\">\n",
       "      <th></th>\n",
       "      <th>Temperature [C]</th>\n",
       "      <th>Outlook</th>\n",
       "    </tr>\n",
       "  </thead>\n",
       "  <tbody>\n",
       "    <tr>\n",
       "      <th>2020-06-14</th>\n",
       "      <td>33</td>\n",
       "      <td>Isolated thunderstorms</td>\n",
       "    </tr>\n",
       "    <tr>\n",
       "      <th>2020-06-15</th>\n",
       "      <td>33</td>\n",
       "      <td>Partly cloudy</td>\n",
       "    </tr>\n",
       "    <tr>\n",
       "      <th>2020-06-16</th>\n",
       "      <td>34</td>\n",
       "      <td>Mostly sunny</td>\n",
       "    </tr>\n",
       "    <tr>\n",
       "      <th>2020-06-17</th>\n",
       "      <td>33</td>\n",
       "      <td>Partly cloudy</td>\n",
       "    </tr>\n",
       "    <tr>\n",
       "      <th>2020-06-18</th>\n",
       "      <td>32</td>\n",
       "      <td>Partly cloudy</td>\n",
       "    </tr>\n",
       "    <tr>\n",
       "      <th>2020-06-19</th>\n",
       "      <td>31</td>\n",
       "      <td>Mostly sunny</td>\n",
       "    </tr>\n",
       "    <tr>\n",
       "      <th>2020-06-20</th>\n",
       "      <td>32</td>\n",
       "      <td>Mostly sunny</td>\n",
       "    </tr>\n",
       "  </tbody>\n",
       "</table>\n",
       "</div>"
      ],
      "text/plain": [
       "            Temperature [C]                 Outlook\n",
       "2020-06-14               33  Isolated thunderstorms\n",
       "2020-06-15               33           Partly cloudy\n",
       "2020-06-16               34            Mostly sunny\n",
       "2020-06-17               33           Partly cloudy\n",
       "2020-06-18               32           Partly cloudy\n",
       "2020-06-19               31            Mostly sunny\n",
       "2020-06-20               32            Mostly sunny"
      ]
     },
     "execution_count": 80,
     "metadata": {},
     "output_type": "execute_result"
    }
   ],
   "source": [
    "df2"
   ]
  },
  {
   "cell_type": "code",
   "execution_count": 82,
   "metadata": {},
   "outputs": [
    {
     "data": {
      "text/plain": [
       "pandas.core.frame.DataFrame"
      ]
     },
     "execution_count": 82,
     "metadata": {},
     "output_type": "execute_result"
    }
   ],
   "source": [
    "type(df2)"
   ]
  },
  {
   "cell_type": "code",
   "execution_count": 91,
   "metadata": {
    "slideshow": {
     "slide_type": "subslide"
    }
   },
   "outputs": [
    {
     "data": {
      "text/plain": [
       "Temperature [C]                        33\n",
       "Outlook            Isolated thunderstorms\n",
       "Name: 2020-06-14, dtype: object"
      ]
     },
     "execution_count": 91,
     "metadata": {},
     "output_type": "execute_result"
    }
   ],
   "source": [
    "# DataFrame.iloc[0,:]\n",
    "# აბრუნებს მწკრივს ნომერის მიხედვით\n",
    "df2.iloc[0,:]"
   ]
  },
  {
   "cell_type": "code",
   "execution_count": 95,
   "metadata": {
    "scrolled": false,
    "slideshow": {
     "slide_type": "subslide"
    }
   },
   "outputs": [
    {
     "data": {
      "text/plain": [
       "str"
      ]
     },
     "execution_count": 95,
     "metadata": {},
     "output_type": "execute_result"
    }
   ],
   "source": [
    "# DataFrame.iloc[m,n]\n",
    "# აბრუნებს  𝑛 -სვეტის  𝑚 -ელემენტს\n",
    "type(df.iloc[0,1])"
   ]
  },
  {
   "cell_type": "code",
   "execution_count": 99,
   "metadata": {},
   "outputs": [
    {
     "data": {
      "text/plain": [
       "pandas.core.frame.DataFrame"
      ]
     },
     "execution_count": 99,
     "metadata": {},
     "output_type": "execute_result"
    }
   ],
   "source": [
    "type(df.isnull())"
   ]
  },
  {
   "cell_type": "code",
   "execution_count": 101,
   "metadata": {},
   "outputs": [
    {
     "data": {
      "text/html": [
       "<div>\n",
       "<style scoped>\n",
       "    .dataframe tbody tr th:only-of-type {\n",
       "        vertical-align: middle;\n",
       "    }\n",
       "\n",
       "    .dataframe tbody tr th {\n",
       "        vertical-align: top;\n",
       "    }\n",
       "\n",
       "    .dataframe thead th {\n",
       "        text-align: right;\n",
       "    }\n",
       "</style>\n",
       "<table border=\"1\" class=\"dataframe\">\n",
       "  <thead>\n",
       "    <tr style=\"text-align: right;\">\n",
       "      <th></th>\n",
       "      <th>Temperature [C]</th>\n",
       "      <th>Outlook</th>\n",
       "      <th>Precipitation [%]</th>\n",
       "      <th>Humidity [%]</th>\n",
       "      <th>Wind [km/h]</th>\n",
       "    </tr>\n",
       "  </thead>\n",
       "  <tbody>\n",
       "    <tr>\n",
       "      <th>2020-06-14</th>\n",
       "      <td>True</td>\n",
       "      <td>True</td>\n",
       "      <td>True</td>\n",
       "      <td>True</td>\n",
       "      <td>True</td>\n",
       "    </tr>\n",
       "    <tr>\n",
       "      <th>2020-06-15</th>\n",
       "      <td>True</td>\n",
       "      <td>True</td>\n",
       "      <td>True</td>\n",
       "      <td>True</td>\n",
       "      <td>True</td>\n",
       "    </tr>\n",
       "    <tr>\n",
       "      <th>2020-06-16</th>\n",
       "      <td>True</td>\n",
       "      <td>True</td>\n",
       "      <td>True</td>\n",
       "      <td>True</td>\n",
       "      <td>True</td>\n",
       "    </tr>\n",
       "    <tr>\n",
       "      <th>2020-06-17</th>\n",
       "      <td>True</td>\n",
       "      <td>True</td>\n",
       "      <td>True</td>\n",
       "      <td>True</td>\n",
       "      <td>True</td>\n",
       "    </tr>\n",
       "    <tr>\n",
       "      <th>2020-06-18</th>\n",
       "      <td>True</td>\n",
       "      <td>True</td>\n",
       "      <td>True</td>\n",
       "      <td>True</td>\n",
       "      <td>True</td>\n",
       "    </tr>\n",
       "    <tr>\n",
       "      <th>2020-06-19</th>\n",
       "      <td>True</td>\n",
       "      <td>True</td>\n",
       "      <td>True</td>\n",
       "      <td>True</td>\n",
       "      <td>True</td>\n",
       "    </tr>\n",
       "    <tr>\n",
       "      <th>2020-06-20</th>\n",
       "      <td>True</td>\n",
       "      <td>True</td>\n",
       "      <td>True</td>\n",
       "      <td>True</td>\n",
       "      <td>True</td>\n",
       "    </tr>\n",
       "  </tbody>\n",
       "</table>\n",
       "</div>"
      ],
      "text/plain": [
       "            Temperature [C]  Outlook  Precipitation [%]  Humidity [%]  \\\n",
       "2020-06-14             True     True               True          True   \n",
       "2020-06-15             True     True               True          True   \n",
       "2020-06-16             True     True               True          True   \n",
       "2020-06-17             True     True               True          True   \n",
       "2020-06-18             True     True               True          True   \n",
       "2020-06-19             True     True               True          True   \n",
       "2020-06-20             True     True               True          True   \n",
       "\n",
       "            Wind [km/h]  \n",
       "2020-06-14         True  \n",
       "2020-06-15         True  \n",
       "2020-06-16         True  \n",
       "2020-06-17         True  \n",
       "2020-06-18         True  \n",
       "2020-06-19         True  \n",
       "2020-06-20         True  "
      ]
     },
     "execution_count": 101,
     "metadata": {},
     "output_type": "execute_result"
    }
   ],
   "source": [
    "df.notnull()"
   ]
  },
  {
   "cell_type": "markdown",
   "metadata": {
    "slideshow": {
     "slide_type": "slide"
    }
   },
   "source": [
    "<h3 align=\"center\">მონაცემთა გაწმენდა</h3>\n",
    "\n",
    "| მეთოდი                                             | აღწერა                                              |\n",
    "|:----------------------------------------------------|:----------------------------------------------------|\n",
    "| DataFrame.columns = ['A','B','C']                   | გადაარქმევს სვეტებს სახელებს |\n",
    "| DataFrame.isnull()                                  | ამოწმებს ცარიელ მნიშვნელობებზე, აბრუნებს boolean-ტიპის მასივს |\n",
    "| DataFrame.notnull()                                 | ამოწმებს არაცარიელ მნიშვნელობებზე, აბრუნებს boolean-ტიპის მასივს |\n",
    "| DataFrame.dropna()                                  | აბრუნებს ობიექტის კოპიას, სადაც ამოყრილია ყველა რიგი, რომლებიც შეიცავს ცარიელ მნიშვნელობებს |\n",
    "| DataFrame.dropna(axis=1)                            | აბრუნებს ობიექტის კოპიას, სადაც ამოყრილია ყველა სვეტი, რომლებიც შეიცავს ცარიელ მნიშვნელობებს |\n",
    "| DataFrame.dropna(axis=1,thresh=n)                   | აბრუნებს ობიექტის კოპიას, სადაც ამოყრილია ყველა რიგი, რომლებიც შეიცავს $n$-ზე ნაკლებ ცარიელ მნიშვნელობებს |\n",
    "| DataFrame.fillna(x)                                 | აბრუნებს series-ის კოპიას, სადაც ჩაანაცვლებულია ყველა ცარიელ მნიშნველობებს $x$-ით |\n",
    "| DataFrame.ffill(x)                                 | აბრუნებს series-ის კოპიას, სადაც ჩაანაცვლებულია ყველა ცარიელ მნიშნველობებს წინა უახლოესი მნიშვნელობით |\n",
    "| Serial.fillna(Serial.mean())                        | აბრუნებს series-ის კოპიას, სადაც ჩაანაცვლებულია ყველა ცარიელი მნიშნველობები საშუალო მნიშვნელობით |\n",
    "| Serial.astype(float)                                | აბრუნებს series-ის კოპიას, სადაც  დააკონვერტირებულია series-ის მონაცემთა ტიპები float-ში |\n",
    "| Serial.replace(1,'one')                             | აბრუნებს series-ის კოპიას, სადაც ჩაანაცვლებულია ყველა **1** მნიშვნელობა **one** მნიშვნელობით |\n",
    "| Serial.replace([2,3],['two', 'three'])              | აბრუნებს series-ის კოპიას, სადაც ჩაანაცვლებულია ყველა **2** და **3** მნიშვნელობები შესაბამისად **two** და **three** მნიშვნელობებით |\n",
    "| DataFrame.set_index('column_name')                  |  აბრუნებს ობიექტის კოპიას, სადაც მიუთითებს ინდექსად **column_name** სვეტს |\n",
    "| DataFrame.rename(columns={'old': 'new'})            | აბრუნებს ობიექტის კოპიას, სადაც სვეტს **old** გადაარქმევს სახელს **new**|\n",
    "\n",
    "- **შენიშვნა**: ცარიელი $\\equiv$ **NaN** $\\equiv$ **Null**."
   ]
  },
  {
   "cell_type": "code",
   "execution_count": 103,
   "metadata": {
    "slideshow": {
     "slide_type": "subslide"
    }
   },
   "outputs": [
    {
     "data": {
      "text/html": [
       "<div>\n",
       "<style scoped>\n",
       "    .dataframe tbody tr th:only-of-type {\n",
       "        vertical-align: middle;\n",
       "    }\n",
       "\n",
       "    .dataframe tbody tr th {\n",
       "        vertical-align: top;\n",
       "    }\n",
       "\n",
       "    .dataframe thead th {\n",
       "        text-align: right;\n",
       "    }\n",
       "</style>\n",
       "<table border=\"1\" class=\"dataframe\">\n",
       "  <thead>\n",
       "    <tr style=\"text-align: right;\">\n",
       "      <th></th>\n",
       "      <th>ა</th>\n",
       "      <th>ბ</th>\n",
       "      <th>გ</th>\n",
       "      <th>დ</th>\n",
       "    </tr>\n",
       "  </thead>\n",
       "  <tbody>\n",
       "    <tr>\n",
       "      <th>0</th>\n",
       "      <td>NaN</td>\n",
       "      <td>2.0</td>\n",
       "      <td>NaN</td>\n",
       "      <td>0</td>\n",
       "    </tr>\n",
       "    <tr>\n",
       "      <th>1</th>\n",
       "      <td>3.0</td>\n",
       "      <td>4.0</td>\n",
       "      <td>5.0</td>\n",
       "      <td>1</td>\n",
       "    </tr>\n",
       "    <tr>\n",
       "      <th>2</th>\n",
       "      <td>NaN</td>\n",
       "      <td>NaN</td>\n",
       "      <td>NaN</td>\n",
       "      <td>5</td>\n",
       "    </tr>\n",
       "    <tr>\n",
       "      <th>3</th>\n",
       "      <td>NaN</td>\n",
       "      <td>3.0</td>\n",
       "      <td>NaN</td>\n",
       "      <td>4</td>\n",
       "    </tr>\n",
       "  </tbody>\n",
       "</table>\n",
       "</div>"
      ],
      "text/plain": [
       "     ა    ბ    გ  დ\n",
       "0  NaN  2.0  NaN  0\n",
       "1  3.0  4.0  5.0  1\n",
       "2  NaN  NaN  NaN  5\n",
       "3  NaN  3.0  NaN  4"
      ]
     },
     "execution_count": 103,
     "metadata": {},
     "output_type": "execute_result"
    }
   ],
   "source": [
    "df2 = pd.DataFrame([[np.nan, 2, np.nan, 0],\n",
    "                   [3, 4, 5, 1],\n",
    "                   [np.nan, np.nan, np.nan, 5],\n",
    "                   [np.nan, 3, np.nan, 4]],\n",
    "                  columns=list('აბგდ'))\n",
    "df2"
   ]
  },
  {
   "cell_type": "code",
   "execution_count": 104,
   "metadata": {
    "slideshow": {
     "slide_type": "subslide"
    }
   },
   "outputs": [
    {
     "data": {
      "text/html": [
       "<div>\n",
       "<style scoped>\n",
       "    .dataframe tbody tr th:only-of-type {\n",
       "        vertical-align: middle;\n",
       "    }\n",
       "\n",
       "    .dataframe tbody tr th {\n",
       "        vertical-align: top;\n",
       "    }\n",
       "\n",
       "    .dataframe thead th {\n",
       "        text-align: right;\n",
       "    }\n",
       "</style>\n",
       "<table border=\"1\" class=\"dataframe\">\n",
       "  <thead>\n",
       "    <tr style=\"text-align: right;\">\n",
       "      <th></th>\n",
       "      <th>A</th>\n",
       "      <th>B</th>\n",
       "      <th>C</th>\n",
       "      <th>D</th>\n",
       "    </tr>\n",
       "  </thead>\n",
       "  <tbody>\n",
       "    <tr>\n",
       "      <th>0</th>\n",
       "      <td>NaN</td>\n",
       "      <td>2.0</td>\n",
       "      <td>NaN</td>\n",
       "      <td>0</td>\n",
       "    </tr>\n",
       "    <tr>\n",
       "      <th>1</th>\n",
       "      <td>3.0</td>\n",
       "      <td>4.0</td>\n",
       "      <td>5.0</td>\n",
       "      <td>1</td>\n",
       "    </tr>\n",
       "    <tr>\n",
       "      <th>2</th>\n",
       "      <td>NaN</td>\n",
       "      <td>NaN</td>\n",
       "      <td>NaN</td>\n",
       "      <td>5</td>\n",
       "    </tr>\n",
       "    <tr>\n",
       "      <th>3</th>\n",
       "      <td>NaN</td>\n",
       "      <td>3.0</td>\n",
       "      <td>NaN</td>\n",
       "      <td>4</td>\n",
       "    </tr>\n",
       "  </tbody>\n",
       "</table>\n",
       "</div>"
      ],
      "text/plain": [
       "     A    B    C  D\n",
       "0  NaN  2.0  NaN  0\n",
       "1  3.0  4.0  5.0  1\n",
       "2  NaN  NaN  NaN  5\n",
       "3  NaN  3.0  NaN  4"
      ]
     },
     "execution_count": 104,
     "metadata": {},
     "output_type": "execute_result"
    }
   ],
   "source": [
    "# DataFrame.columns = ['A','B','C']\n",
    "# გადაარქმევს სვეტებს სახელებს\n",
    "df2.columns = ['A', 'B', 'C', 'D']\n",
    "df2"
   ]
  },
  {
   "cell_type": "code",
   "execution_count": 105,
   "metadata": {
    "scrolled": false,
    "slideshow": {
     "slide_type": "subslide"
    }
   },
   "outputs": [
    {
     "data": {
      "text/html": [
       "<div>\n",
       "<style scoped>\n",
       "    .dataframe tbody tr th:only-of-type {\n",
       "        vertical-align: middle;\n",
       "    }\n",
       "\n",
       "    .dataframe tbody tr th {\n",
       "        vertical-align: top;\n",
       "    }\n",
       "\n",
       "    .dataframe thead th {\n",
       "        text-align: right;\n",
       "    }\n",
       "</style>\n",
       "<table border=\"1\" class=\"dataframe\">\n",
       "  <thead>\n",
       "    <tr style=\"text-align: right;\">\n",
       "      <th></th>\n",
       "      <th>A</th>\n",
       "      <th>B</th>\n",
       "      <th>C</th>\n",
       "      <th>D</th>\n",
       "    </tr>\n",
       "  </thead>\n",
       "  <tbody>\n",
       "    <tr>\n",
       "      <th>0</th>\n",
       "      <td>True</td>\n",
       "      <td>False</td>\n",
       "      <td>True</td>\n",
       "      <td>False</td>\n",
       "    </tr>\n",
       "    <tr>\n",
       "      <th>1</th>\n",
       "      <td>False</td>\n",
       "      <td>False</td>\n",
       "      <td>False</td>\n",
       "      <td>False</td>\n",
       "    </tr>\n",
       "    <tr>\n",
       "      <th>2</th>\n",
       "      <td>True</td>\n",
       "      <td>True</td>\n",
       "      <td>True</td>\n",
       "      <td>False</td>\n",
       "    </tr>\n",
       "    <tr>\n",
       "      <th>3</th>\n",
       "      <td>True</td>\n",
       "      <td>False</td>\n",
       "      <td>True</td>\n",
       "      <td>False</td>\n",
       "    </tr>\n",
       "  </tbody>\n",
       "</table>\n",
       "</div>"
      ],
      "text/plain": [
       "       A      B      C      D\n",
       "0   True  False   True  False\n",
       "1  False  False  False  False\n",
       "2   True   True   True  False\n",
       "3   True  False   True  False"
      ]
     },
     "execution_count": 105,
     "metadata": {},
     "output_type": "execute_result"
    }
   ],
   "source": [
    "# DataFrame.isnull()\n",
    "# ამოწმებს ცარიელ მნიშვნელობებზე, აბრუნებს boolean-ტიპის მასივს\n",
    "df2.isnull()"
   ]
  },
  {
   "cell_type": "code",
   "execution_count": 106,
   "metadata": {
    "scrolled": true,
    "slideshow": {
     "slide_type": "subslide"
    }
   },
   "outputs": [
    {
     "data": {
      "text/html": [
       "<div>\n",
       "<style scoped>\n",
       "    .dataframe tbody tr th:only-of-type {\n",
       "        vertical-align: middle;\n",
       "    }\n",
       "\n",
       "    .dataframe tbody tr th {\n",
       "        vertical-align: top;\n",
       "    }\n",
       "\n",
       "    .dataframe thead th {\n",
       "        text-align: right;\n",
       "    }\n",
       "</style>\n",
       "<table border=\"1\" class=\"dataframe\">\n",
       "  <thead>\n",
       "    <tr style=\"text-align: right;\">\n",
       "      <th></th>\n",
       "      <th>A</th>\n",
       "      <th>B</th>\n",
       "      <th>C</th>\n",
       "      <th>D</th>\n",
       "    </tr>\n",
       "  </thead>\n",
       "  <tbody>\n",
       "    <tr>\n",
       "      <th>0</th>\n",
       "      <td>False</td>\n",
       "      <td>True</td>\n",
       "      <td>False</td>\n",
       "      <td>True</td>\n",
       "    </tr>\n",
       "    <tr>\n",
       "      <th>1</th>\n",
       "      <td>True</td>\n",
       "      <td>True</td>\n",
       "      <td>True</td>\n",
       "      <td>True</td>\n",
       "    </tr>\n",
       "    <tr>\n",
       "      <th>2</th>\n",
       "      <td>False</td>\n",
       "      <td>False</td>\n",
       "      <td>False</td>\n",
       "      <td>True</td>\n",
       "    </tr>\n",
       "    <tr>\n",
       "      <th>3</th>\n",
       "      <td>False</td>\n",
       "      <td>True</td>\n",
       "      <td>False</td>\n",
       "      <td>True</td>\n",
       "    </tr>\n",
       "  </tbody>\n",
       "</table>\n",
       "</div>"
      ],
      "text/plain": [
       "       A      B      C     D\n",
       "0  False   True  False  True\n",
       "1   True   True   True  True\n",
       "2  False  False  False  True\n",
       "3  False   True  False  True"
      ]
     },
     "execution_count": 106,
     "metadata": {},
     "output_type": "execute_result"
    }
   ],
   "source": [
    "# DataFrame.isnull()\n",
    "# ამოწმებს არაცარიელ მნიშვნელობებზე, აბრუნებს boolean-ტიპის მასივს\n",
    "df2.notnull()"
   ]
  },
  {
   "cell_type": "code",
   "execution_count": 107,
   "metadata": {
    "slideshow": {
     "slide_type": "subslide"
    }
   },
   "outputs": [
    {
     "data": {
      "text/html": [
       "<div>\n",
       "<style scoped>\n",
       "    .dataframe tbody tr th:only-of-type {\n",
       "        vertical-align: middle;\n",
       "    }\n",
       "\n",
       "    .dataframe tbody tr th {\n",
       "        vertical-align: top;\n",
       "    }\n",
       "\n",
       "    .dataframe thead th {\n",
       "        text-align: right;\n",
       "    }\n",
       "</style>\n",
       "<table border=\"1\" class=\"dataframe\">\n",
       "  <thead>\n",
       "    <tr style=\"text-align: right;\">\n",
       "      <th></th>\n",
       "      <th>A</th>\n",
       "      <th>B</th>\n",
       "      <th>C</th>\n",
       "      <th>D</th>\n",
       "    </tr>\n",
       "  </thead>\n",
       "  <tbody>\n",
       "    <tr>\n",
       "      <th>1</th>\n",
       "      <td>3.0</td>\n",
       "      <td>4.0</td>\n",
       "      <td>5.0</td>\n",
       "      <td>1</td>\n",
       "    </tr>\n",
       "  </tbody>\n",
       "</table>\n",
       "</div>"
      ],
      "text/plain": [
       "     A    B    C  D\n",
       "1  3.0  4.0  5.0  1"
      ]
     },
     "execution_count": 107,
     "metadata": {},
     "output_type": "execute_result"
    }
   ],
   "source": [
    "# DataFrame.dropna()\n",
    "# აბრუნებს ობიექტის კოპიას, სადაც ამოყრილია ყველა რიგი, რომლებიც შეიცავს ცარიელ მნიშვნელობებს\n",
    "df2.dropna()"
   ]
  },
  {
   "cell_type": "code",
   "execution_count": 108,
   "metadata": {
    "scrolled": false,
    "slideshow": {
     "slide_type": "subslide"
    }
   },
   "outputs": [
    {
     "data": {
      "text/html": [
       "<div>\n",
       "<style scoped>\n",
       "    .dataframe tbody tr th:only-of-type {\n",
       "        vertical-align: middle;\n",
       "    }\n",
       "\n",
       "    .dataframe tbody tr th {\n",
       "        vertical-align: top;\n",
       "    }\n",
       "\n",
       "    .dataframe thead th {\n",
       "        text-align: right;\n",
       "    }\n",
       "</style>\n",
       "<table border=\"1\" class=\"dataframe\">\n",
       "  <thead>\n",
       "    <tr style=\"text-align: right;\">\n",
       "      <th></th>\n",
       "      <th>D</th>\n",
       "    </tr>\n",
       "  </thead>\n",
       "  <tbody>\n",
       "    <tr>\n",
       "      <th>0</th>\n",
       "      <td>0</td>\n",
       "    </tr>\n",
       "    <tr>\n",
       "      <th>1</th>\n",
       "      <td>1</td>\n",
       "    </tr>\n",
       "    <tr>\n",
       "      <th>2</th>\n",
       "      <td>5</td>\n",
       "    </tr>\n",
       "    <tr>\n",
       "      <th>3</th>\n",
       "      <td>4</td>\n",
       "    </tr>\n",
       "  </tbody>\n",
       "</table>\n",
       "</div>"
      ],
      "text/plain": [
       "   D\n",
       "0  0\n",
       "1  1\n",
       "2  5\n",
       "3  4"
      ]
     },
     "execution_count": 108,
     "metadata": {},
     "output_type": "execute_result"
    }
   ],
   "source": [
    "# DataFrame.dropna(axis=1)\n",
    "# აბრუნებს ობიექტის კოპიას, სადაც ამოყრილია ყველა სვეტი, რომლებიც შეიცავს ცარიელ მნიშვნელობებს\n",
    "df2.dropna(axis=1)"
   ]
  },
  {
   "cell_type": "code",
   "execution_count": 109,
   "metadata": {
    "scrolled": true,
    "slideshow": {
     "slide_type": "subslide"
    }
   },
   "outputs": [
    {
     "data": {
      "text/html": [
       "<div>\n",
       "<style scoped>\n",
       "    .dataframe tbody tr th:only-of-type {\n",
       "        vertical-align: middle;\n",
       "    }\n",
       "\n",
       "    .dataframe tbody tr th {\n",
       "        vertical-align: top;\n",
       "    }\n",
       "\n",
       "    .dataframe thead th {\n",
       "        text-align: right;\n",
       "    }\n",
       "</style>\n",
       "<table border=\"1\" class=\"dataframe\">\n",
       "  <thead>\n",
       "    <tr style=\"text-align: right;\">\n",
       "      <th></th>\n",
       "      <th>B</th>\n",
       "      <th>D</th>\n",
       "    </tr>\n",
       "  </thead>\n",
       "  <tbody>\n",
       "    <tr>\n",
       "      <th>0</th>\n",
       "      <td>2.0</td>\n",
       "      <td>0</td>\n",
       "    </tr>\n",
       "    <tr>\n",
       "      <th>1</th>\n",
       "      <td>4.0</td>\n",
       "      <td>1</td>\n",
       "    </tr>\n",
       "    <tr>\n",
       "      <th>2</th>\n",
       "      <td>NaN</td>\n",
       "      <td>5</td>\n",
       "    </tr>\n",
       "    <tr>\n",
       "      <th>3</th>\n",
       "      <td>3.0</td>\n",
       "      <td>4</td>\n",
       "    </tr>\n",
       "  </tbody>\n",
       "</table>\n",
       "</div>"
      ],
      "text/plain": [
       "     B  D\n",
       "0  2.0  0\n",
       "1  4.0  1\n",
       "2  NaN  5\n",
       "3  3.0  4"
      ]
     },
     "execution_count": 109,
     "metadata": {},
     "output_type": "execute_result"
    }
   ],
   "source": [
    "# DataFrame.dropna(axis=1,thresh=n)\n",
    "# აბრუნებს ობიექტის კოპიას, სადაც ამოყრილია ყველა რიგი, რომლებიც შეიცავს 𝑛-ზე ნაკლებ ცარიელ მნიშვნელობებს\n",
    "df2.dropna(axis=1,thresh=2)"
   ]
  },
  {
   "cell_type": "code",
   "execution_count": 110,
   "metadata": {
    "scrolled": false,
    "slideshow": {
     "slide_type": "subslide"
    }
   },
   "outputs": [
    {
     "data": {
      "text/html": [
       "<div>\n",
       "<style scoped>\n",
       "    .dataframe tbody tr th:only-of-type {\n",
       "        vertical-align: middle;\n",
       "    }\n",
       "\n",
       "    .dataframe tbody tr th {\n",
       "        vertical-align: top;\n",
       "    }\n",
       "\n",
       "    .dataframe thead th {\n",
       "        text-align: right;\n",
       "    }\n",
       "</style>\n",
       "<table border=\"1\" class=\"dataframe\">\n",
       "  <thead>\n",
       "    <tr style=\"text-align: right;\">\n",
       "      <th></th>\n",
       "      <th>A</th>\n",
       "      <th>B</th>\n",
       "      <th>C</th>\n",
       "      <th>D</th>\n",
       "    </tr>\n",
       "  </thead>\n",
       "  <tbody>\n",
       "    <tr>\n",
       "      <th>0</th>\n",
       "      <td>0.0</td>\n",
       "      <td>2.0</td>\n",
       "      <td>0.0</td>\n",
       "      <td>0</td>\n",
       "    </tr>\n",
       "    <tr>\n",
       "      <th>1</th>\n",
       "      <td>3.0</td>\n",
       "      <td>4.0</td>\n",
       "      <td>5.0</td>\n",
       "      <td>1</td>\n",
       "    </tr>\n",
       "    <tr>\n",
       "      <th>2</th>\n",
       "      <td>0.0</td>\n",
       "      <td>0.0</td>\n",
       "      <td>0.0</td>\n",
       "      <td>5</td>\n",
       "    </tr>\n",
       "    <tr>\n",
       "      <th>3</th>\n",
       "      <td>0.0</td>\n",
       "      <td>3.0</td>\n",
       "      <td>0.0</td>\n",
       "      <td>4</td>\n",
       "    </tr>\n",
       "  </tbody>\n",
       "</table>\n",
       "</div>"
      ],
      "text/plain": [
       "     A    B    C  D\n",
       "0  0.0  2.0  0.0  0\n",
       "1  3.0  4.0  5.0  1\n",
       "2  0.0  0.0  0.0  5\n",
       "3  0.0  3.0  0.0  4"
      ]
     },
     "execution_count": 110,
     "metadata": {},
     "output_type": "execute_result"
    }
   ],
   "source": [
    "# DataFrame.fillna(x)\n",
    "# ჩაანაცვლებს ყველა ცარიელ მნიშნველობებს  𝑥 -ით\n",
    "df2.fillna(value=0.0)"
   ]
  },
  {
   "cell_type": "code",
   "execution_count": 111,
   "metadata": {
    "scrolled": true,
    "slideshow": {
     "slide_type": "subslide"
    }
   },
   "outputs": [
    {
     "data": {
      "text/html": [
       "<div>\n",
       "<style scoped>\n",
       "    .dataframe tbody tr th:only-of-type {\n",
       "        vertical-align: middle;\n",
       "    }\n",
       "\n",
       "    .dataframe tbody tr th {\n",
       "        vertical-align: top;\n",
       "    }\n",
       "\n",
       "    .dataframe thead th {\n",
       "        text-align: right;\n",
       "    }\n",
       "</style>\n",
       "<table border=\"1\" class=\"dataframe\">\n",
       "  <thead>\n",
       "    <tr style=\"text-align: right;\">\n",
       "      <th></th>\n",
       "      <th>A</th>\n",
       "      <th>B</th>\n",
       "      <th>C</th>\n",
       "      <th>D</th>\n",
       "    </tr>\n",
       "  </thead>\n",
       "  <tbody>\n",
       "    <tr>\n",
       "      <th>0</th>\n",
       "      <td>NaN</td>\n",
       "      <td>2.0</td>\n",
       "      <td>NaN</td>\n",
       "      <td>0</td>\n",
       "    </tr>\n",
       "    <tr>\n",
       "      <th>1</th>\n",
       "      <td>3.0</td>\n",
       "      <td>4.0</td>\n",
       "      <td>5.0</td>\n",
       "      <td>1</td>\n",
       "    </tr>\n",
       "    <tr>\n",
       "      <th>2</th>\n",
       "      <td>3.0</td>\n",
       "      <td>4.0</td>\n",
       "      <td>5.0</td>\n",
       "      <td>5</td>\n",
       "    </tr>\n",
       "    <tr>\n",
       "      <th>3</th>\n",
       "      <td>3.0</td>\n",
       "      <td>3.0</td>\n",
       "      <td>5.0</td>\n",
       "      <td>4</td>\n",
       "    </tr>\n",
       "  </tbody>\n",
       "</table>\n",
       "</div>"
      ],
      "text/plain": [
       "     A    B    C  D\n",
       "0  NaN  2.0  NaN  0\n",
       "1  3.0  4.0  5.0  1\n",
       "2  3.0  4.0  5.0  5\n",
       "3  3.0  3.0  5.0  4"
      ]
     },
     "execution_count": 111,
     "metadata": {},
     "output_type": "execute_result"
    }
   ],
   "source": [
    "# DataFrame.ffill()\n",
    "# ჩაანაცვლებს ყველა ცარიელ მნიშნველობებს წინა უახლოესი მნიშვნელობით\n",
    "df2.ffill()"
   ]
  },
  {
   "cell_type": "code",
   "execution_count": 115,
   "metadata": {
    "scrolled": false,
    "slideshow": {
     "slide_type": "subslide"
    }
   },
   "outputs": [
    {
     "data": {
      "text/plain": [
       "0    2.0\n",
       "1    4.0\n",
       "2    3.0\n",
       "3    3.0\n",
       "Name: B, dtype: float64"
      ]
     },
     "execution_count": 115,
     "metadata": {},
     "output_type": "execute_result"
    }
   ],
   "source": [
    "# Serial.fillna(Serial.mean())\n",
    "# აბრუნებს series-ის კოპიას, სადაც ჩაანაცვლებულია ყველა ცარიელი მნიშნველობები საშუალო მნიშვნელობით\n",
    "df2['B'].fillna(df2['B'].mean())"
   ]
  },
  {
   "cell_type": "code",
   "execution_count": 114,
   "metadata": {},
   "outputs": [
    {
     "data": {
      "text/html": [
       "<div>\n",
       "<style scoped>\n",
       "    .dataframe tbody tr th:only-of-type {\n",
       "        vertical-align: middle;\n",
       "    }\n",
       "\n",
       "    .dataframe tbody tr th {\n",
       "        vertical-align: top;\n",
       "    }\n",
       "\n",
       "    .dataframe thead th {\n",
       "        text-align: right;\n",
       "    }\n",
       "</style>\n",
       "<table border=\"1\" class=\"dataframe\">\n",
       "  <thead>\n",
       "    <tr style=\"text-align: right;\">\n",
       "      <th></th>\n",
       "      <th>A</th>\n",
       "      <th>B</th>\n",
       "      <th>C</th>\n",
       "      <th>D</th>\n",
       "    </tr>\n",
       "  </thead>\n",
       "  <tbody>\n",
       "    <tr>\n",
       "      <th>0</th>\n",
       "      <td>NaN</td>\n",
       "      <td>2.0</td>\n",
       "      <td>NaN</td>\n",
       "      <td>0</td>\n",
       "    </tr>\n",
       "    <tr>\n",
       "      <th>1</th>\n",
       "      <td>3.0</td>\n",
       "      <td>4.0</td>\n",
       "      <td>5.0</td>\n",
       "      <td>1</td>\n",
       "    </tr>\n",
       "    <tr>\n",
       "      <th>2</th>\n",
       "      <td>NaN</td>\n",
       "      <td>NaN</td>\n",
       "      <td>NaN</td>\n",
       "      <td>5</td>\n",
       "    </tr>\n",
       "    <tr>\n",
       "      <th>3</th>\n",
       "      <td>NaN</td>\n",
       "      <td>3.0</td>\n",
       "      <td>NaN</td>\n",
       "      <td>4</td>\n",
       "    </tr>\n",
       "  </tbody>\n",
       "</table>\n",
       "</div>"
      ],
      "text/plain": [
       "     A    B    C  D\n",
       "0  NaN  2.0  NaN  0\n",
       "1  3.0  4.0  5.0  1\n",
       "2  NaN  NaN  NaN  5\n",
       "3  NaN  3.0  NaN  4"
      ]
     },
     "execution_count": 114,
     "metadata": {},
     "output_type": "execute_result"
    }
   ],
   "source": [
    "df2"
   ]
  },
  {
   "cell_type": "code",
   "execution_count": 35,
   "metadata": {
    "scrolled": true,
    "slideshow": {
     "slide_type": "subslide"
    }
   },
   "outputs": [
    {
     "data": {
      "text/plain": [
       "0    0.0\n",
       "1    1.0\n",
       "2    5.0\n",
       "3    4.0\n",
       "Name: D, dtype: float64"
      ]
     },
     "execution_count": 35,
     "metadata": {},
     "output_type": "execute_result"
    }
   ],
   "source": [
    "# Serial.astype(float)\n",
    "# აბრუნებს series-ის კოპიას, სადაც დააკონვერტირებულია series-ის მონაცემთა ტიპები float-ში\n",
    "df2['D'].astype(float)"
   ]
  },
  {
   "cell_type": "code",
   "execution_count": 36,
   "metadata": {
    "scrolled": true,
    "slideshow": {
     "slide_type": "subslide"
    }
   },
   "outputs": [
    {
     "data": {
      "text/plain": [
       "0      0\n",
       "1    one\n",
       "2      5\n",
       "3      4\n",
       "Name: D, dtype: object"
      ]
     },
     "execution_count": 36,
     "metadata": {},
     "output_type": "execute_result"
    }
   ],
   "source": [
    "# Serial.replace(1,'one')\n",
    "# აბრუნებს series-ის კოპიას, სადაც ჩაანაცვლებულია ყველა 1 მნიშვნელობა one მნიშვნელობით\n",
    "df2['D'].replace(1,'one')"
   ]
  },
  {
   "cell_type": "code",
   "execution_count": 37,
   "metadata": {
    "slideshow": {
     "slide_type": "subslide"
    }
   },
   "outputs": [
    {
     "data": {
      "text/plain": [
       "0      two\n",
       "1        4\n",
       "2      NaN\n",
       "3    three\n",
       "Name: B, dtype: object"
      ]
     },
     "execution_count": 37,
     "metadata": {},
     "output_type": "execute_result"
    }
   ],
   "source": [
    "# Serial.replace([2,3],['two', 'three'])\n",
    "# აბრუნებს series-ის კოპიას, სადაც ჩაანაცვლებულია ყველა 2 და 3 მნიშვნელობები შესაბამისად two და three მნიშვნელობებით\n",
    "df2['B'].replace([2,3],['two', 'three'])"
   ]
  },
  {
   "cell_type": "code",
   "execution_count": 38,
   "metadata": {
    "scrolled": true,
    "slideshow": {
     "slide_type": "subslide"
    }
   },
   "outputs": [
    {
     "data": {
      "text/html": [
       "<div>\n",
       "<style scoped>\n",
       "    .dataframe tbody tr th:only-of-type {\n",
       "        vertical-align: middle;\n",
       "    }\n",
       "\n",
       "    .dataframe tbody tr th {\n",
       "        vertical-align: top;\n",
       "    }\n",
       "\n",
       "    .dataframe thead th {\n",
       "        text-align: right;\n",
       "    }\n",
       "</style>\n",
       "<table border=\"1\" class=\"dataframe\">\n",
       "  <thead>\n",
       "    <tr style=\"text-align: right;\">\n",
       "      <th></th>\n",
       "      <th>A</th>\n",
       "      <th>C</th>\n",
       "      <th>D</th>\n",
       "    </tr>\n",
       "    <tr>\n",
       "      <th>B</th>\n",
       "      <th></th>\n",
       "      <th></th>\n",
       "      <th></th>\n",
       "    </tr>\n",
       "  </thead>\n",
       "  <tbody>\n",
       "    <tr>\n",
       "      <th>2.0</th>\n",
       "      <td>NaN</td>\n",
       "      <td>NaN</td>\n",
       "      <td>0</td>\n",
       "    </tr>\n",
       "    <tr>\n",
       "      <th>4.0</th>\n",
       "      <td>3.0</td>\n",
       "      <td>5.0</td>\n",
       "      <td>1</td>\n",
       "    </tr>\n",
       "    <tr>\n",
       "      <th>NaN</th>\n",
       "      <td>NaN</td>\n",
       "      <td>NaN</td>\n",
       "      <td>5</td>\n",
       "    </tr>\n",
       "    <tr>\n",
       "      <th>3.0</th>\n",
       "      <td>NaN</td>\n",
       "      <td>NaN</td>\n",
       "      <td>4</td>\n",
       "    </tr>\n",
       "  </tbody>\n",
       "</table>\n",
       "</div>"
      ],
      "text/plain": [
       "       A    C  D\n",
       "B               \n",
       "2.0  NaN  NaN  0\n",
       "4.0  3.0  5.0  1\n",
       "NaN  NaN  NaN  5\n",
       "3.0  NaN  NaN  4"
      ]
     },
     "execution_count": 38,
     "metadata": {},
     "output_type": "execute_result"
    }
   ],
   "source": [
    "# DataFrame.set_index('column_name')\n",
    "# აბრუნებს ობიექტის კოპიას, სადაც მიუთითებს ინდექსად column_name სვეტს\n",
    "df2.set_index('B')"
   ]
  },
  {
   "cell_type": "code",
   "execution_count": 39,
   "metadata": {
    "scrolled": true,
    "slideshow": {
     "slide_type": "subslide"
    }
   },
   "outputs": [
    {
     "data": {
      "text/html": [
       "<div>\n",
       "<style scoped>\n",
       "    .dataframe tbody tr th:only-of-type {\n",
       "        vertical-align: middle;\n",
       "    }\n",
       "\n",
       "    .dataframe tbody tr th {\n",
       "        vertical-align: top;\n",
       "    }\n",
       "\n",
       "    .dataframe thead th {\n",
       "        text-align: right;\n",
       "    }\n",
       "</style>\n",
       "<table border=\"1\" class=\"dataframe\">\n",
       "  <thead>\n",
       "    <tr style=\"text-align: right;\">\n",
       "      <th></th>\n",
       "      <th>ა</th>\n",
       "      <th>B</th>\n",
       "      <th>C</th>\n",
       "      <th>D</th>\n",
       "    </tr>\n",
       "  </thead>\n",
       "  <tbody>\n",
       "    <tr>\n",
       "      <th>0</th>\n",
       "      <td>NaN</td>\n",
       "      <td>2.0</td>\n",
       "      <td>NaN</td>\n",
       "      <td>0</td>\n",
       "    </tr>\n",
       "    <tr>\n",
       "      <th>1</th>\n",
       "      <td>3.0</td>\n",
       "      <td>4.0</td>\n",
       "      <td>5.0</td>\n",
       "      <td>1</td>\n",
       "    </tr>\n",
       "    <tr>\n",
       "      <th>2</th>\n",
       "      <td>NaN</td>\n",
       "      <td>NaN</td>\n",
       "      <td>NaN</td>\n",
       "      <td>5</td>\n",
       "    </tr>\n",
       "    <tr>\n",
       "      <th>3</th>\n",
       "      <td>NaN</td>\n",
       "      <td>3.0</td>\n",
       "      <td>NaN</td>\n",
       "      <td>4</td>\n",
       "    </tr>\n",
       "  </tbody>\n",
       "</table>\n",
       "</div>"
      ],
      "text/plain": [
       "     ა    B    C  D\n",
       "0  NaN  2.0  NaN  0\n",
       "1  3.0  4.0  5.0  1\n",
       "2  NaN  NaN  NaN  5\n",
       "3  NaN  3.0  NaN  4"
      ]
     },
     "execution_count": 39,
     "metadata": {},
     "output_type": "execute_result"
    }
   ],
   "source": [
    "# DataFrame.rename(columns={'old': 'new'})\n",
    "# აბრუნებს ობიექტის კოპიას, სადაც სვეტს old გადაარქმევს სახელს new\n",
    "df2.rename(columns={'A': 'ა'})"
   ]
  },
  {
   "cell_type": "markdown",
   "metadata": {
    "slideshow": {
     "slide_type": "slide"
    }
   },
   "source": [
    "<h3 align=\"center\">მონაცემთა ფილტრიცია, სორტირება და დაჯგუფება</h3>\n",
    "\n",
    "| მეთოდი                                                    | აღწერა                                              |\n",
    "|:-----------------------------------------------------------|:----------------------------------------------------|\n",
    "| DataFrame[DataFrame[col] > a]                                          | აბრუნებს სტრიქონებს, სადაც **col** სვეტის მნიშვნელობა მეტია $a$-ზე  |\n",
    "| DataFrame[(DataFrame[col] > a) & (DataFrame[col] < b)]                      | აბრუნებს სტრიქონებს, სადაც **col** სვეტის მნიშვნელობა მეტია $a$-ზე და ნაკლებია $b$-ზე |\n",
    "| DataFrame.sort_values(col)                                       | აბრუნებს სტრიქონებს დასორტირებულს **col** სვეტის მიხედვით აღმავალი თანმივდევრობით|\n",
    "| DataFrame.sort_values(col,ascending=False)                       | აბრუნებს სტრიქონებს დასორტირებულს **col** სვეტის მიხედვით დაღმავალი თანმივდევრობით |\n",
    "| DataFrame.sort_values([col1,col2],ascending=[True,False])         | აბრუნებს სტრიქონებს დასორტირებულს ჯერ **col1** სვეტის მიხედვით და მერე **col2** მიხედვით |\n",
    "| DataFrame.groupby(col)                                            | აბრუნებს **col** სვეტის მიხედვით დაჯგუფებულ ობიექტს |\n",
    "| DataFrame.groupby([col1,col2])                                    | აბრუნებს **col1** და **col2** სვეტების მიხედვით დაჯგუფებულ ობიექტს |\n",
    "| DataFrame.pivot_table(index=col1,values=[col2,col3],aggfunc=mean) | აბრუნებს შემაჯამებელ ცხრილს რომელიც დაჯგუფებულია **col1** სვეტის მიხედვით და ითვლის **col2** და **col3** სვეტების საშუალო მნიშვნელობებს |\n",
    "| DataFrame.apply(np.mean)                                          | მოდებს ფუნქცია np.mean () თითოეული სვეტს |\n",
    "| DataFrame.apply(np.max,axis=1)                                    | მოდებს ფუნქცია np.max () თითოეული სტრიქონს |                         |"
   ]
  },
  {
   "cell_type": "code",
   "execution_count": 117,
   "metadata": {},
   "outputs": [
    {
     "data": {
      "text/html": [
       "<div>\n",
       "<style scoped>\n",
       "    .dataframe tbody tr th:only-of-type {\n",
       "        vertical-align: middle;\n",
       "    }\n",
       "\n",
       "    .dataframe tbody tr th {\n",
       "        vertical-align: top;\n",
       "    }\n",
       "\n",
       "    .dataframe thead th {\n",
       "        text-align: right;\n",
       "    }\n",
       "</style>\n",
       "<table border=\"1\" class=\"dataframe\">\n",
       "  <thead>\n",
       "    <tr style=\"text-align: right;\">\n",
       "      <th></th>\n",
       "      <th>Temperature [C]</th>\n",
       "      <th>Outlook</th>\n",
       "      <th>Precipitation [%]</th>\n",
       "      <th>Humidity [%]</th>\n",
       "      <th>Wind [km/h]</th>\n",
       "    </tr>\n",
       "  </thead>\n",
       "  <tbody>\n",
       "    <tr>\n",
       "      <th>2020-06-14</th>\n",
       "      <td>33</td>\n",
       "      <td>Isolated thunderstorms</td>\n",
       "      <td>60</td>\n",
       "      <td>43</td>\n",
       "      <td>10</td>\n",
       "    </tr>\n",
       "    <tr>\n",
       "      <th>2020-06-15</th>\n",
       "      <td>33</td>\n",
       "      <td>Partly cloudy</td>\n",
       "      <td>10</td>\n",
       "      <td>34</td>\n",
       "      <td>14</td>\n",
       "    </tr>\n",
       "    <tr>\n",
       "      <th>2020-06-16</th>\n",
       "      <td>34</td>\n",
       "      <td>Mostly sunny</td>\n",
       "      <td>0</td>\n",
       "      <td>29</td>\n",
       "      <td>19</td>\n",
       "    </tr>\n",
       "    <tr>\n",
       "      <th>2020-06-17</th>\n",
       "      <td>33</td>\n",
       "      <td>Partly cloudy</td>\n",
       "      <td>10</td>\n",
       "      <td>36</td>\n",
       "      <td>16</td>\n",
       "    </tr>\n",
       "    <tr>\n",
       "      <th>2020-06-18</th>\n",
       "      <td>32</td>\n",
       "      <td>Partly cloudy</td>\n",
       "      <td>20</td>\n",
       "      <td>35</td>\n",
       "      <td>21</td>\n",
       "    </tr>\n",
       "    <tr>\n",
       "      <th>2020-06-19</th>\n",
       "      <td>31</td>\n",
       "      <td>Mostly sunny</td>\n",
       "      <td>20</td>\n",
       "      <td>32</td>\n",
       "      <td>19</td>\n",
       "    </tr>\n",
       "    <tr>\n",
       "      <th>2020-06-20</th>\n",
       "      <td>32</td>\n",
       "      <td>Mostly sunny</td>\n",
       "      <td>10</td>\n",
       "      <td>29</td>\n",
       "      <td>19</td>\n",
       "    </tr>\n",
       "  </tbody>\n",
       "</table>\n",
       "</div>"
      ],
      "text/plain": [
       "            Temperature [C]                 Outlook  Precipitation [%]  \\\n",
       "2020-06-14               33  Isolated thunderstorms                 60   \n",
       "2020-06-15               33           Partly cloudy                 10   \n",
       "2020-06-16               34            Mostly sunny                  0   \n",
       "2020-06-17               33           Partly cloudy                 10   \n",
       "2020-06-18               32           Partly cloudy                 20   \n",
       "2020-06-19               31            Mostly sunny                 20   \n",
       "2020-06-20               32            Mostly sunny                 10   \n",
       "\n",
       "            Humidity [%]  Wind [km/h]  \n",
       "2020-06-14            43           10  \n",
       "2020-06-15            34           14  \n",
       "2020-06-16            29           19  \n",
       "2020-06-17            36           16  \n",
       "2020-06-18            35           21  \n",
       "2020-06-19            32           19  \n",
       "2020-06-20            29           19  "
      ]
     },
     "execution_count": 117,
     "metadata": {},
     "output_type": "execute_result"
    }
   ],
   "source": [
    "df"
   ]
  },
  {
   "cell_type": "code",
   "execution_count": 116,
   "metadata": {
    "scrolled": false,
    "slideshow": {
     "slide_type": "subslide"
    }
   },
   "outputs": [
    {
     "data": {
      "text/html": [
       "<div>\n",
       "<style scoped>\n",
       "    .dataframe tbody tr th:only-of-type {\n",
       "        vertical-align: middle;\n",
       "    }\n",
       "\n",
       "    .dataframe tbody tr th {\n",
       "        vertical-align: top;\n",
       "    }\n",
       "\n",
       "    .dataframe thead th {\n",
       "        text-align: right;\n",
       "    }\n",
       "</style>\n",
       "<table border=\"1\" class=\"dataframe\">\n",
       "  <thead>\n",
       "    <tr style=\"text-align: right;\">\n",
       "      <th></th>\n",
       "      <th>Temperature [C]</th>\n",
       "      <th>Outlook</th>\n",
       "      <th>Precipitation [%]</th>\n",
       "      <th>Humidity [%]</th>\n",
       "      <th>Wind [km/h]</th>\n",
       "    </tr>\n",
       "  </thead>\n",
       "  <tbody>\n",
       "    <tr>\n",
       "      <th>2020-06-14</th>\n",
       "      <td>33</td>\n",
       "      <td>Isolated thunderstorms</td>\n",
       "      <td>60</td>\n",
       "      <td>43</td>\n",
       "      <td>10</td>\n",
       "    </tr>\n",
       "    <tr>\n",
       "      <th>2020-06-15</th>\n",
       "      <td>33</td>\n",
       "      <td>Partly cloudy</td>\n",
       "      <td>10</td>\n",
       "      <td>34</td>\n",
       "      <td>14</td>\n",
       "    </tr>\n",
       "    <tr>\n",
       "      <th>2020-06-16</th>\n",
       "      <td>34</td>\n",
       "      <td>Mostly sunny</td>\n",
       "      <td>0</td>\n",
       "      <td>29</td>\n",
       "      <td>19</td>\n",
       "    </tr>\n",
       "    <tr>\n",
       "      <th>2020-06-17</th>\n",
       "      <td>33</td>\n",
       "      <td>Partly cloudy</td>\n",
       "      <td>10</td>\n",
       "      <td>36</td>\n",
       "      <td>16</td>\n",
       "    </tr>\n",
       "  </tbody>\n",
       "</table>\n",
       "</div>"
      ],
      "text/plain": [
       "            Temperature [C]                 Outlook  Precipitation [%]  \\\n",
       "2020-06-14               33  Isolated thunderstorms                 60   \n",
       "2020-06-15               33           Partly cloudy                 10   \n",
       "2020-06-16               34            Mostly sunny                  0   \n",
       "2020-06-17               33           Partly cloudy                 10   \n",
       "\n",
       "            Humidity [%]  Wind [km/h]  \n",
       "2020-06-14            43           10  \n",
       "2020-06-15            34           14  \n",
       "2020-06-16            29           19  \n",
       "2020-06-17            36           16  "
      ]
     },
     "execution_count": 116,
     "metadata": {},
     "output_type": "execute_result"
    }
   ],
   "source": [
    "# DataFrame[DataFrame[col] > a]\t\n",
    "# აბრუნებს სტრიქონებს, სადაც col სვეტის მნიშვნელობა მეტია  𝑎 -ზე\n",
    "df[df['Temperature [C]'] > 32]"
   ]
  },
  {
   "cell_type": "code",
   "execution_count": 41,
   "metadata": {
    "scrolled": true
   },
   "outputs": [
    {
     "data": {
      "text/html": [
       "<div>\n",
       "<style scoped>\n",
       "    .dataframe tbody tr th:only-of-type {\n",
       "        vertical-align: middle;\n",
       "    }\n",
       "\n",
       "    .dataframe tbody tr th {\n",
       "        vertical-align: top;\n",
       "    }\n",
       "\n",
       "    .dataframe thead th {\n",
       "        text-align: right;\n",
       "    }\n",
       "</style>\n",
       "<table border=\"1\" class=\"dataframe\">\n",
       "  <thead>\n",
       "    <tr style=\"text-align: right;\">\n",
       "      <th></th>\n",
       "      <th>Temperature [C]</th>\n",
       "      <th>Outlook</th>\n",
       "      <th>Precipitation [%]</th>\n",
       "      <th>Humidity [%]</th>\n",
       "      <th>Wind [km/h]</th>\n",
       "    </tr>\n",
       "  </thead>\n",
       "  <tbody>\n",
       "    <tr>\n",
       "      <th>2020-06-14</th>\n",
       "      <td>33</td>\n",
       "      <td>Isolated thunderstorms</td>\n",
       "      <td>60</td>\n",
       "      <td>43</td>\n",
       "      <td>10</td>\n",
       "    </tr>\n",
       "    <tr>\n",
       "      <th>2020-06-15</th>\n",
       "      <td>33</td>\n",
       "      <td>Partly cloudy</td>\n",
       "      <td>10</td>\n",
       "      <td>34</td>\n",
       "      <td>14</td>\n",
       "    </tr>\n",
       "    <tr>\n",
       "      <th>2020-06-16</th>\n",
       "      <td>34</td>\n",
       "      <td>Mostly sunny</td>\n",
       "      <td>0</td>\n",
       "      <td>29</td>\n",
       "      <td>19</td>\n",
       "    </tr>\n",
       "    <tr>\n",
       "      <th>2020-06-17</th>\n",
       "      <td>33</td>\n",
       "      <td>Partly cloudy</td>\n",
       "      <td>10</td>\n",
       "      <td>36</td>\n",
       "      <td>16</td>\n",
       "    </tr>\n",
       "    <tr>\n",
       "      <th>2020-06-18</th>\n",
       "      <td>32</td>\n",
       "      <td>Partly cloudy</td>\n",
       "      <td>20</td>\n",
       "      <td>35</td>\n",
       "      <td>21</td>\n",
       "    </tr>\n",
       "    <tr>\n",
       "      <th>2020-06-19</th>\n",
       "      <td>31</td>\n",
       "      <td>Mostly sunny</td>\n",
       "      <td>20</td>\n",
       "      <td>32</td>\n",
       "      <td>19</td>\n",
       "    </tr>\n",
       "    <tr>\n",
       "      <th>2020-06-20</th>\n",
       "      <td>32</td>\n",
       "      <td>Mostly sunny</td>\n",
       "      <td>10</td>\n",
       "      <td>29</td>\n",
       "      <td>19</td>\n",
       "    </tr>\n",
       "  </tbody>\n",
       "</table>\n",
       "</div>"
      ],
      "text/plain": [
       "            Temperature [C]                 Outlook  Precipitation [%]  \\\n",
       "2020-06-14               33  Isolated thunderstorms                 60   \n",
       "2020-06-15               33           Partly cloudy                 10   \n",
       "2020-06-16               34            Mostly sunny                  0   \n",
       "2020-06-17               33           Partly cloudy                 10   \n",
       "2020-06-18               32           Partly cloudy                 20   \n",
       "2020-06-19               31            Mostly sunny                 20   \n",
       "2020-06-20               32            Mostly sunny                 10   \n",
       "\n",
       "            Humidity [%]  Wind [km/h]  \n",
       "2020-06-14            43           10  \n",
       "2020-06-15            34           14  \n",
       "2020-06-16            29           19  \n",
       "2020-06-17            36           16  \n",
       "2020-06-18            35           21  \n",
       "2020-06-19            32           19  \n",
       "2020-06-20            29           19  "
      ]
     },
     "execution_count": 41,
     "metadata": {},
     "output_type": "execute_result"
    }
   ],
   "source": [
    "df"
   ]
  },
  {
   "cell_type": "code",
   "execution_count": 42,
   "metadata": {
    "scrolled": true,
    "slideshow": {
     "slide_type": "subslide"
    }
   },
   "outputs": [
    {
     "data": {
      "text/html": [
       "<div>\n",
       "<style scoped>\n",
       "    .dataframe tbody tr th:only-of-type {\n",
       "        vertical-align: middle;\n",
       "    }\n",
       "\n",
       "    .dataframe tbody tr th {\n",
       "        vertical-align: top;\n",
       "    }\n",
       "\n",
       "    .dataframe thead th {\n",
       "        text-align: right;\n",
       "    }\n",
       "</style>\n",
       "<table border=\"1\" class=\"dataframe\">\n",
       "  <thead>\n",
       "    <tr style=\"text-align: right;\">\n",
       "      <th></th>\n",
       "      <th>Temperature [C]</th>\n",
       "      <th>Outlook</th>\n",
       "      <th>Precipitation [%]</th>\n",
       "      <th>Humidity [%]</th>\n",
       "      <th>Wind [km/h]</th>\n",
       "    </tr>\n",
       "  </thead>\n",
       "  <tbody>\n",
       "    <tr>\n",
       "      <th>2020-06-14</th>\n",
       "      <td>33</td>\n",
       "      <td>Isolated thunderstorms</td>\n",
       "      <td>60</td>\n",
       "      <td>43</td>\n",
       "      <td>10</td>\n",
       "    </tr>\n",
       "    <tr>\n",
       "      <th>2020-06-18</th>\n",
       "      <td>32</td>\n",
       "      <td>Partly cloudy</td>\n",
       "      <td>20</td>\n",
       "      <td>35</td>\n",
       "      <td>21</td>\n",
       "    </tr>\n",
       "    <tr>\n",
       "      <th>2020-06-19</th>\n",
       "      <td>31</td>\n",
       "      <td>Mostly sunny</td>\n",
       "      <td>20</td>\n",
       "      <td>32</td>\n",
       "      <td>19</td>\n",
       "    </tr>\n",
       "  </tbody>\n",
       "</table>\n",
       "</div>"
      ],
      "text/plain": [
       "            Temperature [C]                 Outlook  Precipitation [%]  \\\n",
       "2020-06-14               33  Isolated thunderstorms                 60   \n",
       "2020-06-18               32           Partly cloudy                 20   \n",
       "2020-06-19               31            Mostly sunny                 20   \n",
       "\n",
       "            Humidity [%]  Wind [km/h]  \n",
       "2020-06-14            43           10  \n",
       "2020-06-18            35           21  \n",
       "2020-06-19            32           19  "
      ]
     },
     "execution_count": 42,
     "metadata": {},
     "output_type": "execute_result"
    }
   ],
   "source": [
    "# DataFrame[(DataFrame[col] > a) & (DataFrame[col] < b)]\n",
    "# აბრუნებს სტრიქონებს, სადაც col სვეტის მნიშვნელობა მეტია  𝑎 -ზე და ნაკლებია  𝑏 -ზე\n",
    "df[ (df['Precipitation [%]'] > 10) & (df['Humidity [%]'] > 30) ]\n"
   ]
  },
  {
   "cell_type": "code",
   "execution_count": 43,
   "metadata": {
    "scrolled": true
   },
   "outputs": [
    {
     "data": {
      "text/html": [
       "<div>\n",
       "<style scoped>\n",
       "    .dataframe tbody tr th:only-of-type {\n",
       "        vertical-align: middle;\n",
       "    }\n",
       "\n",
       "    .dataframe tbody tr th {\n",
       "        vertical-align: top;\n",
       "    }\n",
       "\n",
       "    .dataframe thead th {\n",
       "        text-align: right;\n",
       "    }\n",
       "</style>\n",
       "<table border=\"1\" class=\"dataframe\">\n",
       "  <thead>\n",
       "    <tr style=\"text-align: right;\">\n",
       "      <th></th>\n",
       "      <th>Temperature [C]</th>\n",
       "      <th>Outlook</th>\n",
       "      <th>Precipitation [%]</th>\n",
       "      <th>Humidity [%]</th>\n",
       "      <th>Wind [km/h]</th>\n",
       "    </tr>\n",
       "  </thead>\n",
       "  <tbody>\n",
       "    <tr>\n",
       "      <th>2020-06-14</th>\n",
       "      <td>33</td>\n",
       "      <td>Isolated thunderstorms</td>\n",
       "      <td>60</td>\n",
       "      <td>43</td>\n",
       "      <td>10</td>\n",
       "    </tr>\n",
       "    <tr>\n",
       "      <th>2020-06-15</th>\n",
       "      <td>33</td>\n",
       "      <td>Partly cloudy</td>\n",
       "      <td>10</td>\n",
       "      <td>34</td>\n",
       "      <td>14</td>\n",
       "    </tr>\n",
       "    <tr>\n",
       "      <th>2020-06-16</th>\n",
       "      <td>34</td>\n",
       "      <td>Mostly sunny</td>\n",
       "      <td>0</td>\n",
       "      <td>29</td>\n",
       "      <td>19</td>\n",
       "    </tr>\n",
       "    <tr>\n",
       "      <th>2020-06-17</th>\n",
       "      <td>33</td>\n",
       "      <td>Partly cloudy</td>\n",
       "      <td>10</td>\n",
       "      <td>36</td>\n",
       "      <td>16</td>\n",
       "    </tr>\n",
       "    <tr>\n",
       "      <th>2020-06-18</th>\n",
       "      <td>32</td>\n",
       "      <td>Partly cloudy</td>\n",
       "      <td>20</td>\n",
       "      <td>35</td>\n",
       "      <td>21</td>\n",
       "    </tr>\n",
       "    <tr>\n",
       "      <th>2020-06-19</th>\n",
       "      <td>31</td>\n",
       "      <td>Mostly sunny</td>\n",
       "      <td>20</td>\n",
       "      <td>32</td>\n",
       "      <td>19</td>\n",
       "    </tr>\n",
       "    <tr>\n",
       "      <th>2020-06-20</th>\n",
       "      <td>32</td>\n",
       "      <td>Mostly sunny</td>\n",
       "      <td>10</td>\n",
       "      <td>29</td>\n",
       "      <td>19</td>\n",
       "    </tr>\n",
       "  </tbody>\n",
       "</table>\n",
       "</div>"
      ],
      "text/plain": [
       "            Temperature [C]                 Outlook  Precipitation [%]  \\\n",
       "2020-06-14               33  Isolated thunderstorms                 60   \n",
       "2020-06-15               33           Partly cloudy                 10   \n",
       "2020-06-16               34            Mostly sunny                  0   \n",
       "2020-06-17               33           Partly cloudy                 10   \n",
       "2020-06-18               32           Partly cloudy                 20   \n",
       "2020-06-19               31            Mostly sunny                 20   \n",
       "2020-06-20               32            Mostly sunny                 10   \n",
       "\n",
       "            Humidity [%]  Wind [km/h]  \n",
       "2020-06-14            43           10  \n",
       "2020-06-15            34           14  \n",
       "2020-06-16            29           19  \n",
       "2020-06-17            36           16  \n",
       "2020-06-18            35           21  \n",
       "2020-06-19            32           19  \n",
       "2020-06-20            29           19  "
      ]
     },
     "execution_count": 43,
     "metadata": {},
     "output_type": "execute_result"
    }
   ],
   "source": [
    "df"
   ]
  },
  {
   "cell_type": "code",
   "execution_count": 118,
   "metadata": {
    "scrolled": false,
    "slideshow": {
     "slide_type": "subslide"
    }
   },
   "outputs": [
    {
     "data": {
      "text/html": [
       "<div>\n",
       "<style scoped>\n",
       "    .dataframe tbody tr th:only-of-type {\n",
       "        vertical-align: middle;\n",
       "    }\n",
       "\n",
       "    .dataframe tbody tr th {\n",
       "        vertical-align: top;\n",
       "    }\n",
       "\n",
       "    .dataframe thead th {\n",
       "        text-align: right;\n",
       "    }\n",
       "</style>\n",
       "<table border=\"1\" class=\"dataframe\">\n",
       "  <thead>\n",
       "    <tr style=\"text-align: right;\">\n",
       "      <th></th>\n",
       "      <th>Temperature [C]</th>\n",
       "      <th>Outlook</th>\n",
       "      <th>Precipitation [%]</th>\n",
       "      <th>Humidity [%]</th>\n",
       "      <th>Wind [km/h]</th>\n",
       "    </tr>\n",
       "  </thead>\n",
       "  <tbody>\n",
       "    <tr>\n",
       "      <th>2020-06-14</th>\n",
       "      <td>33</td>\n",
       "      <td>Isolated thunderstorms</td>\n",
       "      <td>60</td>\n",
       "      <td>43</td>\n",
       "      <td>10</td>\n",
       "    </tr>\n",
       "    <tr>\n",
       "      <th>2020-06-16</th>\n",
       "      <td>34</td>\n",
       "      <td>Mostly sunny</td>\n",
       "      <td>0</td>\n",
       "      <td>29</td>\n",
       "      <td>19</td>\n",
       "    </tr>\n",
       "    <tr>\n",
       "      <th>2020-06-19</th>\n",
       "      <td>31</td>\n",
       "      <td>Mostly sunny</td>\n",
       "      <td>20</td>\n",
       "      <td>32</td>\n",
       "      <td>19</td>\n",
       "    </tr>\n",
       "    <tr>\n",
       "      <th>2020-06-20</th>\n",
       "      <td>32</td>\n",
       "      <td>Mostly sunny</td>\n",
       "      <td>10</td>\n",
       "      <td>29</td>\n",
       "      <td>19</td>\n",
       "    </tr>\n",
       "    <tr>\n",
       "      <th>2020-06-15</th>\n",
       "      <td>33</td>\n",
       "      <td>Partly cloudy</td>\n",
       "      <td>10</td>\n",
       "      <td>34</td>\n",
       "      <td>14</td>\n",
       "    </tr>\n",
       "    <tr>\n",
       "      <th>2020-06-17</th>\n",
       "      <td>33</td>\n",
       "      <td>Partly cloudy</td>\n",
       "      <td>10</td>\n",
       "      <td>36</td>\n",
       "      <td>16</td>\n",
       "    </tr>\n",
       "    <tr>\n",
       "      <th>2020-06-18</th>\n",
       "      <td>32</td>\n",
       "      <td>Partly cloudy</td>\n",
       "      <td>20</td>\n",
       "      <td>35</td>\n",
       "      <td>21</td>\n",
       "    </tr>\n",
       "  </tbody>\n",
       "</table>\n",
       "</div>"
      ],
      "text/plain": [
       "            Temperature [C]                 Outlook  Precipitation [%]  \\\n",
       "2020-06-14               33  Isolated thunderstorms                 60   \n",
       "2020-06-16               34            Mostly sunny                  0   \n",
       "2020-06-19               31            Mostly sunny                 20   \n",
       "2020-06-20               32            Mostly sunny                 10   \n",
       "2020-06-15               33           Partly cloudy                 10   \n",
       "2020-06-17               33           Partly cloudy                 10   \n",
       "2020-06-18               32           Partly cloudy                 20   \n",
       "\n",
       "            Humidity [%]  Wind [km/h]  \n",
       "2020-06-14            43           10  \n",
       "2020-06-16            29           19  \n",
       "2020-06-19            32           19  \n",
       "2020-06-20            29           19  \n",
       "2020-06-15            34           14  \n",
       "2020-06-17            36           16  \n",
       "2020-06-18            35           21  "
      ]
     },
     "execution_count": 118,
     "metadata": {},
     "output_type": "execute_result"
    }
   ],
   "source": [
    "#DataFrame.sort_values(col)\n",
    "# აბრუნებს სტრიქონებს დასორტირებულს col სვეტის მიხედვით აღმავალი თანმივდევრობით\n",
    "df.sort_values('Outlook')"
   ]
  },
  {
   "cell_type": "code",
   "execution_count": 45,
   "metadata": {
    "scrolled": true,
    "slideshow": {
     "slide_type": "-"
    }
   },
   "outputs": [
    {
     "data": {
      "text/html": [
       "<div>\n",
       "<style scoped>\n",
       "    .dataframe tbody tr th:only-of-type {\n",
       "        vertical-align: middle;\n",
       "    }\n",
       "\n",
       "    .dataframe tbody tr th {\n",
       "        vertical-align: top;\n",
       "    }\n",
       "\n",
       "    .dataframe thead th {\n",
       "        text-align: right;\n",
       "    }\n",
       "</style>\n",
       "<table border=\"1\" class=\"dataframe\">\n",
       "  <thead>\n",
       "    <tr style=\"text-align: right;\">\n",
       "      <th></th>\n",
       "      <th>Temperature [C]</th>\n",
       "      <th>Outlook</th>\n",
       "      <th>Precipitation [%]</th>\n",
       "      <th>Humidity [%]</th>\n",
       "      <th>Wind [km/h]</th>\n",
       "    </tr>\n",
       "  </thead>\n",
       "  <tbody>\n",
       "    <tr>\n",
       "      <th>2020-06-14</th>\n",
       "      <td>33</td>\n",
       "      <td>Isolated thunderstorms</td>\n",
       "      <td>60</td>\n",
       "      <td>43</td>\n",
       "      <td>10</td>\n",
       "    </tr>\n",
       "    <tr>\n",
       "      <th>2020-06-15</th>\n",
       "      <td>33</td>\n",
       "      <td>Partly cloudy</td>\n",
       "      <td>10</td>\n",
       "      <td>34</td>\n",
       "      <td>14</td>\n",
       "    </tr>\n",
       "    <tr>\n",
       "      <th>2020-06-16</th>\n",
       "      <td>34</td>\n",
       "      <td>Mostly sunny</td>\n",
       "      <td>0</td>\n",
       "      <td>29</td>\n",
       "      <td>19</td>\n",
       "    </tr>\n",
       "    <tr>\n",
       "      <th>2020-06-17</th>\n",
       "      <td>33</td>\n",
       "      <td>Partly cloudy</td>\n",
       "      <td>10</td>\n",
       "      <td>36</td>\n",
       "      <td>16</td>\n",
       "    </tr>\n",
       "    <tr>\n",
       "      <th>2020-06-18</th>\n",
       "      <td>32</td>\n",
       "      <td>Partly cloudy</td>\n",
       "      <td>20</td>\n",
       "      <td>35</td>\n",
       "      <td>21</td>\n",
       "    </tr>\n",
       "    <tr>\n",
       "      <th>2020-06-19</th>\n",
       "      <td>31</td>\n",
       "      <td>Mostly sunny</td>\n",
       "      <td>20</td>\n",
       "      <td>32</td>\n",
       "      <td>19</td>\n",
       "    </tr>\n",
       "    <tr>\n",
       "      <th>2020-06-20</th>\n",
       "      <td>32</td>\n",
       "      <td>Mostly sunny</td>\n",
       "      <td>10</td>\n",
       "      <td>29</td>\n",
       "      <td>19</td>\n",
       "    </tr>\n",
       "  </tbody>\n",
       "</table>\n",
       "</div>"
      ],
      "text/plain": [
       "            Temperature [C]                 Outlook  Precipitation [%]  \\\n",
       "2020-06-14               33  Isolated thunderstorms                 60   \n",
       "2020-06-15               33           Partly cloudy                 10   \n",
       "2020-06-16               34            Mostly sunny                  0   \n",
       "2020-06-17               33           Partly cloudy                 10   \n",
       "2020-06-18               32           Partly cloudy                 20   \n",
       "2020-06-19               31            Mostly sunny                 20   \n",
       "2020-06-20               32            Mostly sunny                 10   \n",
       "\n",
       "            Humidity [%]  Wind [km/h]  \n",
       "2020-06-14            43           10  \n",
       "2020-06-15            34           14  \n",
       "2020-06-16            29           19  \n",
       "2020-06-17            36           16  \n",
       "2020-06-18            35           21  \n",
       "2020-06-19            32           19  \n",
       "2020-06-20            29           19  "
      ]
     },
     "execution_count": 45,
     "metadata": {},
     "output_type": "execute_result"
    }
   ],
   "source": [
    "df"
   ]
  },
  {
   "cell_type": "code",
   "execution_count": 119,
   "metadata": {
    "scrolled": true,
    "slideshow": {
     "slide_type": "subslide"
    }
   },
   "outputs": [
    {
     "data": {
      "text/html": [
       "<div>\n",
       "<style scoped>\n",
       "    .dataframe tbody tr th:only-of-type {\n",
       "        vertical-align: middle;\n",
       "    }\n",
       "\n",
       "    .dataframe tbody tr th {\n",
       "        vertical-align: top;\n",
       "    }\n",
       "\n",
       "    .dataframe thead th {\n",
       "        text-align: right;\n",
       "    }\n",
       "</style>\n",
       "<table border=\"1\" class=\"dataframe\">\n",
       "  <thead>\n",
       "    <tr style=\"text-align: right;\">\n",
       "      <th></th>\n",
       "      <th>Temperature [C]</th>\n",
       "      <th>Outlook</th>\n",
       "      <th>Precipitation [%]</th>\n",
       "      <th>Humidity [%]</th>\n",
       "      <th>Wind [km/h]</th>\n",
       "    </tr>\n",
       "  </thead>\n",
       "  <tbody>\n",
       "    <tr>\n",
       "      <th>2020-06-14</th>\n",
       "      <td>33</td>\n",
       "      <td>Isolated thunderstorms</td>\n",
       "      <td>60</td>\n",
       "      <td>43</td>\n",
       "      <td>10</td>\n",
       "    </tr>\n",
       "    <tr>\n",
       "      <th>2020-06-18</th>\n",
       "      <td>32</td>\n",
       "      <td>Partly cloudy</td>\n",
       "      <td>20</td>\n",
       "      <td>35</td>\n",
       "      <td>21</td>\n",
       "    </tr>\n",
       "    <tr>\n",
       "      <th>2020-06-19</th>\n",
       "      <td>31</td>\n",
       "      <td>Mostly sunny</td>\n",
       "      <td>20</td>\n",
       "      <td>32</td>\n",
       "      <td>19</td>\n",
       "    </tr>\n",
       "    <tr>\n",
       "      <th>2020-06-15</th>\n",
       "      <td>33</td>\n",
       "      <td>Partly cloudy</td>\n",
       "      <td>10</td>\n",
       "      <td>34</td>\n",
       "      <td>14</td>\n",
       "    </tr>\n",
       "    <tr>\n",
       "      <th>2020-06-17</th>\n",
       "      <td>33</td>\n",
       "      <td>Partly cloudy</td>\n",
       "      <td>10</td>\n",
       "      <td>36</td>\n",
       "      <td>16</td>\n",
       "    </tr>\n",
       "    <tr>\n",
       "      <th>2020-06-20</th>\n",
       "      <td>32</td>\n",
       "      <td>Mostly sunny</td>\n",
       "      <td>10</td>\n",
       "      <td>29</td>\n",
       "      <td>19</td>\n",
       "    </tr>\n",
       "    <tr>\n",
       "      <th>2020-06-16</th>\n",
       "      <td>34</td>\n",
       "      <td>Mostly sunny</td>\n",
       "      <td>0</td>\n",
       "      <td>29</td>\n",
       "      <td>19</td>\n",
       "    </tr>\n",
       "  </tbody>\n",
       "</table>\n",
       "</div>"
      ],
      "text/plain": [
       "            Temperature [C]                 Outlook  Precipitation [%]  \\\n",
       "2020-06-14               33  Isolated thunderstorms                 60   \n",
       "2020-06-18               32           Partly cloudy                 20   \n",
       "2020-06-19               31            Mostly sunny                 20   \n",
       "2020-06-15               33           Partly cloudy                 10   \n",
       "2020-06-17               33           Partly cloudy                 10   \n",
       "2020-06-20               32            Mostly sunny                 10   \n",
       "2020-06-16               34            Mostly sunny                  0   \n",
       "\n",
       "            Humidity [%]  Wind [km/h]  \n",
       "2020-06-14            43           10  \n",
       "2020-06-18            35           21  \n",
       "2020-06-19            32           19  \n",
       "2020-06-15            34           14  \n",
       "2020-06-17            36           16  \n",
       "2020-06-20            29           19  \n",
       "2020-06-16            29           19  "
      ]
     },
     "execution_count": 119,
     "metadata": {},
     "output_type": "execute_result"
    }
   ],
   "source": [
    "# DataFrame.sort_values(col,ascending=False)\n",
    "# აბრუნებს სტრიქონებს დასორტირებულს col სვეტის მიხედვით დაღმავალი თანმივდევრობით\n",
    "df.sort_values(['Precipitation [%]'], ascending=False)"
   ]
  },
  {
   "cell_type": "code",
   "execution_count": 120,
   "metadata": {},
   "outputs": [
    {
     "data": {
      "text/html": [
       "<div>\n",
       "<style scoped>\n",
       "    .dataframe tbody tr th:only-of-type {\n",
       "        vertical-align: middle;\n",
       "    }\n",
       "\n",
       "    .dataframe tbody tr th {\n",
       "        vertical-align: top;\n",
       "    }\n",
       "\n",
       "    .dataframe thead th {\n",
       "        text-align: right;\n",
       "    }\n",
       "</style>\n",
       "<table border=\"1\" class=\"dataframe\">\n",
       "  <thead>\n",
       "    <tr style=\"text-align: right;\">\n",
       "      <th></th>\n",
       "      <th>Temperature [C]</th>\n",
       "      <th>Outlook</th>\n",
       "      <th>Precipitation [%]</th>\n",
       "      <th>Humidity [%]</th>\n",
       "      <th>Wind [km/h]</th>\n",
       "    </tr>\n",
       "  </thead>\n",
       "  <tbody>\n",
       "    <tr>\n",
       "      <th>2020-06-14</th>\n",
       "      <td>33</td>\n",
       "      <td>Isolated thunderstorms</td>\n",
       "      <td>60</td>\n",
       "      <td>43</td>\n",
       "      <td>10</td>\n",
       "    </tr>\n",
       "    <tr>\n",
       "      <th>2020-06-15</th>\n",
       "      <td>33</td>\n",
       "      <td>Partly cloudy</td>\n",
       "      <td>10</td>\n",
       "      <td>34</td>\n",
       "      <td>14</td>\n",
       "    </tr>\n",
       "    <tr>\n",
       "      <th>2020-06-16</th>\n",
       "      <td>34</td>\n",
       "      <td>Mostly sunny</td>\n",
       "      <td>0</td>\n",
       "      <td>29</td>\n",
       "      <td>19</td>\n",
       "    </tr>\n",
       "    <tr>\n",
       "      <th>2020-06-17</th>\n",
       "      <td>33</td>\n",
       "      <td>Partly cloudy</td>\n",
       "      <td>10</td>\n",
       "      <td>36</td>\n",
       "      <td>16</td>\n",
       "    </tr>\n",
       "    <tr>\n",
       "      <th>2020-06-18</th>\n",
       "      <td>32</td>\n",
       "      <td>Partly cloudy</td>\n",
       "      <td>20</td>\n",
       "      <td>35</td>\n",
       "      <td>21</td>\n",
       "    </tr>\n",
       "    <tr>\n",
       "      <th>2020-06-19</th>\n",
       "      <td>31</td>\n",
       "      <td>Mostly sunny</td>\n",
       "      <td>20</td>\n",
       "      <td>32</td>\n",
       "      <td>19</td>\n",
       "    </tr>\n",
       "    <tr>\n",
       "      <th>2020-06-20</th>\n",
       "      <td>32</td>\n",
       "      <td>Mostly sunny</td>\n",
       "      <td>10</td>\n",
       "      <td>29</td>\n",
       "      <td>19</td>\n",
       "    </tr>\n",
       "  </tbody>\n",
       "</table>\n",
       "</div>"
      ],
      "text/plain": [
       "            Temperature [C]                 Outlook  Precipitation [%]  \\\n",
       "2020-06-14               33  Isolated thunderstorms                 60   \n",
       "2020-06-15               33           Partly cloudy                 10   \n",
       "2020-06-16               34            Mostly sunny                  0   \n",
       "2020-06-17               33           Partly cloudy                 10   \n",
       "2020-06-18               32           Partly cloudy                 20   \n",
       "2020-06-19               31            Mostly sunny                 20   \n",
       "2020-06-20               32            Mostly sunny                 10   \n",
       "\n",
       "            Humidity [%]  Wind [km/h]  \n",
       "2020-06-14            43           10  \n",
       "2020-06-15            34           14  \n",
       "2020-06-16            29           19  \n",
       "2020-06-17            36           16  \n",
       "2020-06-18            35           21  \n",
       "2020-06-19            32           19  \n",
       "2020-06-20            29           19  "
      ]
     },
     "execution_count": 120,
     "metadata": {},
     "output_type": "execute_result"
    }
   ],
   "source": [
    "df"
   ]
  },
  {
   "cell_type": "code",
   "execution_count": 47,
   "metadata": {
    "scrolled": true,
    "slideshow": {
     "slide_type": "-"
    }
   },
   "outputs": [
    {
     "data": {
      "text/html": [
       "<div>\n",
       "<style scoped>\n",
       "    .dataframe tbody tr th:only-of-type {\n",
       "        vertical-align: middle;\n",
       "    }\n",
       "\n",
       "    .dataframe tbody tr th {\n",
       "        vertical-align: top;\n",
       "    }\n",
       "\n",
       "    .dataframe thead th {\n",
       "        text-align: right;\n",
       "    }\n",
       "</style>\n",
       "<table border=\"1\" class=\"dataframe\">\n",
       "  <thead>\n",
       "    <tr style=\"text-align: right;\">\n",
       "      <th></th>\n",
       "      <th>Temperature [C]</th>\n",
       "      <th>Outlook</th>\n",
       "      <th>Precipitation [%]</th>\n",
       "      <th>Humidity [%]</th>\n",
       "      <th>Wind [km/h]</th>\n",
       "    </tr>\n",
       "  </thead>\n",
       "  <tbody>\n",
       "    <tr>\n",
       "      <th>2020-06-14</th>\n",
       "      <td>33</td>\n",
       "      <td>Isolated thunderstorms</td>\n",
       "      <td>60</td>\n",
       "      <td>43</td>\n",
       "      <td>10</td>\n",
       "    </tr>\n",
       "    <tr>\n",
       "      <th>2020-06-15</th>\n",
       "      <td>33</td>\n",
       "      <td>Partly cloudy</td>\n",
       "      <td>10</td>\n",
       "      <td>34</td>\n",
       "      <td>14</td>\n",
       "    </tr>\n",
       "    <tr>\n",
       "      <th>2020-06-16</th>\n",
       "      <td>34</td>\n",
       "      <td>Mostly sunny</td>\n",
       "      <td>0</td>\n",
       "      <td>29</td>\n",
       "      <td>19</td>\n",
       "    </tr>\n",
       "    <tr>\n",
       "      <th>2020-06-17</th>\n",
       "      <td>33</td>\n",
       "      <td>Partly cloudy</td>\n",
       "      <td>10</td>\n",
       "      <td>36</td>\n",
       "      <td>16</td>\n",
       "    </tr>\n",
       "    <tr>\n",
       "      <th>2020-06-18</th>\n",
       "      <td>32</td>\n",
       "      <td>Partly cloudy</td>\n",
       "      <td>20</td>\n",
       "      <td>35</td>\n",
       "      <td>21</td>\n",
       "    </tr>\n",
       "    <tr>\n",
       "      <th>2020-06-19</th>\n",
       "      <td>31</td>\n",
       "      <td>Mostly sunny</td>\n",
       "      <td>20</td>\n",
       "      <td>32</td>\n",
       "      <td>19</td>\n",
       "    </tr>\n",
       "    <tr>\n",
       "      <th>2020-06-20</th>\n",
       "      <td>32</td>\n",
       "      <td>Mostly sunny</td>\n",
       "      <td>10</td>\n",
       "      <td>29</td>\n",
       "      <td>19</td>\n",
       "    </tr>\n",
       "  </tbody>\n",
       "</table>\n",
       "</div>"
      ],
      "text/plain": [
       "            Temperature [C]                 Outlook  Precipitation [%]  \\\n",
       "2020-06-14               33  Isolated thunderstorms                 60   \n",
       "2020-06-15               33           Partly cloudy                 10   \n",
       "2020-06-16               34            Mostly sunny                  0   \n",
       "2020-06-17               33           Partly cloudy                 10   \n",
       "2020-06-18               32           Partly cloudy                 20   \n",
       "2020-06-19               31            Mostly sunny                 20   \n",
       "2020-06-20               32            Mostly sunny                 10   \n",
       "\n",
       "            Humidity [%]  Wind [km/h]  \n",
       "2020-06-14            43           10  \n",
       "2020-06-15            34           14  \n",
       "2020-06-16            29           19  \n",
       "2020-06-17            36           16  \n",
       "2020-06-18            35           21  \n",
       "2020-06-19            32           19  \n",
       "2020-06-20            29           19  "
      ]
     },
     "execution_count": 47,
     "metadata": {},
     "output_type": "execute_result"
    }
   ],
   "source": [
    "df"
   ]
  },
  {
   "cell_type": "code",
   "execution_count": 121,
   "metadata": {
    "scrolled": false,
    "slideshow": {
     "slide_type": "subslide"
    }
   },
   "outputs": [
    {
     "data": {
      "text/html": [
       "<div>\n",
       "<style scoped>\n",
       "    .dataframe tbody tr th:only-of-type {\n",
       "        vertical-align: middle;\n",
       "    }\n",
       "\n",
       "    .dataframe tbody tr th {\n",
       "        vertical-align: top;\n",
       "    }\n",
       "\n",
       "    .dataframe thead th {\n",
       "        text-align: right;\n",
       "    }\n",
       "</style>\n",
       "<table border=\"1\" class=\"dataframe\">\n",
       "  <thead>\n",
       "    <tr style=\"text-align: right;\">\n",
       "      <th></th>\n",
       "      <th>Temperature [C]</th>\n",
       "      <th>Outlook</th>\n",
       "      <th>Precipitation [%]</th>\n",
       "      <th>Humidity [%]</th>\n",
       "      <th>Wind [km/h]</th>\n",
       "    </tr>\n",
       "  </thead>\n",
       "  <tbody>\n",
       "    <tr>\n",
       "      <th>2020-06-14</th>\n",
       "      <td>33</td>\n",
       "      <td>Isolated thunderstorms</td>\n",
       "      <td>60</td>\n",
       "      <td>43</td>\n",
       "      <td>10</td>\n",
       "    </tr>\n",
       "    <tr>\n",
       "      <th>2020-06-16</th>\n",
       "      <td>34</td>\n",
       "      <td>Mostly sunny</td>\n",
       "      <td>0</td>\n",
       "      <td>29</td>\n",
       "      <td>19</td>\n",
       "    </tr>\n",
       "    <tr>\n",
       "      <th>2020-06-19</th>\n",
       "      <td>31</td>\n",
       "      <td>Mostly sunny</td>\n",
       "      <td>20</td>\n",
       "      <td>32</td>\n",
       "      <td>19</td>\n",
       "    </tr>\n",
       "    <tr>\n",
       "      <th>2020-06-20</th>\n",
       "      <td>32</td>\n",
       "      <td>Mostly sunny</td>\n",
       "      <td>10</td>\n",
       "      <td>29</td>\n",
       "      <td>19</td>\n",
       "    </tr>\n",
       "    <tr>\n",
       "      <th>2020-06-18</th>\n",
       "      <td>32</td>\n",
       "      <td>Partly cloudy</td>\n",
       "      <td>20</td>\n",
       "      <td>35</td>\n",
       "      <td>21</td>\n",
       "    </tr>\n",
       "    <tr>\n",
       "      <th>2020-06-17</th>\n",
       "      <td>33</td>\n",
       "      <td>Partly cloudy</td>\n",
       "      <td>10</td>\n",
       "      <td>36</td>\n",
       "      <td>16</td>\n",
       "    </tr>\n",
       "    <tr>\n",
       "      <th>2020-06-15</th>\n",
       "      <td>33</td>\n",
       "      <td>Partly cloudy</td>\n",
       "      <td>10</td>\n",
       "      <td>34</td>\n",
       "      <td>14</td>\n",
       "    </tr>\n",
       "  </tbody>\n",
       "</table>\n",
       "</div>"
      ],
      "text/plain": [
       "            Temperature [C]                 Outlook  Precipitation [%]  \\\n",
       "2020-06-14               33  Isolated thunderstorms                 60   \n",
       "2020-06-16               34            Mostly sunny                  0   \n",
       "2020-06-19               31            Mostly sunny                 20   \n",
       "2020-06-20               32            Mostly sunny                 10   \n",
       "2020-06-18               32           Partly cloudy                 20   \n",
       "2020-06-17               33           Partly cloudy                 10   \n",
       "2020-06-15               33           Partly cloudy                 10   \n",
       "\n",
       "            Humidity [%]  Wind [km/h]  \n",
       "2020-06-14            43           10  \n",
       "2020-06-16            29           19  \n",
       "2020-06-19            32           19  \n",
       "2020-06-20            29           19  \n",
       "2020-06-18            35           21  \n",
       "2020-06-17            36           16  \n",
       "2020-06-15            34           14  "
      ]
     },
     "execution_count": 121,
     "metadata": {},
     "output_type": "execute_result"
    }
   ],
   "source": [
    "# DataFrame.sort_values([col1,col2],ascending=[True,False])\n",
    "# აბრუნებს სტრიქონებს დასორტირებულს ჯერ col1 სვეტის მიხედვით და მერე col2 მიხედვით\n",
    "df.sort_values(['Outlook', 'Wind [km/h]'], ascending=[True,False])"
   ]
  },
  {
   "cell_type": "code",
   "execution_count": 49,
   "metadata": {
    "scrolled": false,
    "slideshow": {
     "slide_type": "-"
    }
   },
   "outputs": [
    {
     "data": {
      "text/html": [
       "<div>\n",
       "<style scoped>\n",
       "    .dataframe tbody tr th:only-of-type {\n",
       "        vertical-align: middle;\n",
       "    }\n",
       "\n",
       "    .dataframe tbody tr th {\n",
       "        vertical-align: top;\n",
       "    }\n",
       "\n",
       "    .dataframe thead th {\n",
       "        text-align: right;\n",
       "    }\n",
       "</style>\n",
       "<table border=\"1\" class=\"dataframe\">\n",
       "  <thead>\n",
       "    <tr style=\"text-align: right;\">\n",
       "      <th></th>\n",
       "      <th>Temperature [C]</th>\n",
       "      <th>Outlook</th>\n",
       "      <th>Precipitation [%]</th>\n",
       "      <th>Humidity [%]</th>\n",
       "      <th>Wind [km/h]</th>\n",
       "    </tr>\n",
       "  </thead>\n",
       "  <tbody>\n",
       "    <tr>\n",
       "      <th>2020-06-14</th>\n",
       "      <td>33</td>\n",
       "      <td>Isolated thunderstorms</td>\n",
       "      <td>60</td>\n",
       "      <td>43</td>\n",
       "      <td>10</td>\n",
       "    </tr>\n",
       "    <tr>\n",
       "      <th>2020-06-15</th>\n",
       "      <td>33</td>\n",
       "      <td>Partly cloudy</td>\n",
       "      <td>10</td>\n",
       "      <td>34</td>\n",
       "      <td>14</td>\n",
       "    </tr>\n",
       "    <tr>\n",
       "      <th>2020-06-16</th>\n",
       "      <td>34</td>\n",
       "      <td>Mostly sunny</td>\n",
       "      <td>0</td>\n",
       "      <td>29</td>\n",
       "      <td>19</td>\n",
       "    </tr>\n",
       "    <tr>\n",
       "      <th>2020-06-17</th>\n",
       "      <td>33</td>\n",
       "      <td>Partly cloudy</td>\n",
       "      <td>10</td>\n",
       "      <td>36</td>\n",
       "      <td>16</td>\n",
       "    </tr>\n",
       "    <tr>\n",
       "      <th>2020-06-18</th>\n",
       "      <td>32</td>\n",
       "      <td>Partly cloudy</td>\n",
       "      <td>20</td>\n",
       "      <td>35</td>\n",
       "      <td>21</td>\n",
       "    </tr>\n",
       "    <tr>\n",
       "      <th>2020-06-19</th>\n",
       "      <td>31</td>\n",
       "      <td>Mostly sunny</td>\n",
       "      <td>20</td>\n",
       "      <td>32</td>\n",
       "      <td>19</td>\n",
       "    </tr>\n",
       "    <tr>\n",
       "      <th>2020-06-20</th>\n",
       "      <td>32</td>\n",
       "      <td>Mostly sunny</td>\n",
       "      <td>10</td>\n",
       "      <td>29</td>\n",
       "      <td>19</td>\n",
       "    </tr>\n",
       "  </tbody>\n",
       "</table>\n",
       "</div>"
      ],
      "text/plain": [
       "            Temperature [C]                 Outlook  Precipitation [%]  \\\n",
       "2020-06-14               33  Isolated thunderstorms                 60   \n",
       "2020-06-15               33           Partly cloudy                 10   \n",
       "2020-06-16               34            Mostly sunny                  0   \n",
       "2020-06-17               33           Partly cloudy                 10   \n",
       "2020-06-18               32           Partly cloudy                 20   \n",
       "2020-06-19               31            Mostly sunny                 20   \n",
       "2020-06-20               32            Mostly sunny                 10   \n",
       "\n",
       "            Humidity [%]  Wind [km/h]  \n",
       "2020-06-14            43           10  \n",
       "2020-06-15            34           14  \n",
       "2020-06-16            29           19  \n",
       "2020-06-17            36           16  \n",
       "2020-06-18            35           21  \n",
       "2020-06-19            32           19  \n",
       "2020-06-20            29           19  "
      ]
     },
     "execution_count": 49,
     "metadata": {},
     "output_type": "execute_result"
    }
   ],
   "source": [
    "df"
   ]
  },
  {
   "cell_type": "code",
   "execution_count": 123,
   "metadata": {
    "scrolled": true,
    "slideshow": {
     "slide_type": "subslide"
    }
   },
   "outputs": [
    {
     "data": {
      "text/plain": [
       "<pandas.core.groupby.generic.DataFrameGroupBy object at 0x000001A168637430>"
      ]
     },
     "execution_count": 123,
     "metadata": {},
     "output_type": "execute_result"
    }
   ],
   "source": [
    "# DataFrame.groupby(col)\n",
    "# აბრუნებს col სვეტის მიხედვით დაჯგუფებულ ობიექტს\n",
    "groups = df.groupby('Temperature [C]')\n",
    "groups"
   ]
  },
  {
   "cell_type": "code",
   "execution_count": 124,
   "metadata": {},
   "outputs": [
    {
     "data": {
      "text/plain": [
       "<pandas.core.groupby.generic.DataFrameGroupBy object at 0x000001A168DE8130>"
      ]
     },
     "execution_count": 124,
     "metadata": {},
     "output_type": "execute_result"
    }
   ],
   "source": [
    "df.groupby('Temperature [C]')"
   ]
  },
  {
   "cell_type": "code",
   "execution_count": 135,
   "metadata": {
    "scrolled": true,
    "slideshow": {
     "slide_type": "-"
    }
   },
   "outputs": [
    {
     "data": {
      "text/html": [
       "<div>\n",
       "<style scoped>\n",
       "    .dataframe tbody tr th:only-of-type {\n",
       "        vertical-align: middle;\n",
       "    }\n",
       "\n",
       "    .dataframe tbody tr th {\n",
       "        vertical-align: top;\n",
       "    }\n",
       "\n",
       "    .dataframe thead th {\n",
       "        text-align: right;\n",
       "    }\n",
       "</style>\n",
       "<table border=\"1\" class=\"dataframe\">\n",
       "  <thead>\n",
       "    <tr style=\"text-align: right;\">\n",
       "      <th></th>\n",
       "      <th>Precipitation [%]</th>\n",
       "      <th>Humidity [%]</th>\n",
       "      <th>Wind [km/h]</th>\n",
       "    </tr>\n",
       "    <tr>\n",
       "      <th>Temperature [C]</th>\n",
       "      <th></th>\n",
       "      <th></th>\n",
       "      <th></th>\n",
       "    </tr>\n",
       "  </thead>\n",
       "  <tbody>\n",
       "    <tr>\n",
       "      <th>31</th>\n",
       "      <td>20.000000</td>\n",
       "      <td>32.000000</td>\n",
       "      <td>19.000000</td>\n",
       "    </tr>\n",
       "    <tr>\n",
       "      <th>32</th>\n",
       "      <td>15.000000</td>\n",
       "      <td>32.000000</td>\n",
       "      <td>20.000000</td>\n",
       "    </tr>\n",
       "    <tr>\n",
       "      <th>33</th>\n",
       "      <td>26.666667</td>\n",
       "      <td>37.666667</td>\n",
       "      <td>13.333333</td>\n",
       "    </tr>\n",
       "    <tr>\n",
       "      <th>34</th>\n",
       "      <td>0.000000</td>\n",
       "      <td>29.000000</td>\n",
       "      <td>19.000000</td>\n",
       "    </tr>\n",
       "  </tbody>\n",
       "</table>\n",
       "</div>"
      ],
      "text/plain": [
       "                 Precipitation [%]  Humidity [%]  Wind [km/h]\n",
       "Temperature [C]                                              \n",
       "31                       20.000000     32.000000    19.000000\n",
       "32                       15.000000     32.000000    20.000000\n",
       "33                       26.666667     37.666667    13.333333\n",
       "34                        0.000000     29.000000    19.000000"
      ]
     },
     "execution_count": 135,
     "metadata": {},
     "output_type": "execute_result"
    }
   ],
   "source": [
    "groups.mean()"
   ]
  },
  {
   "cell_type": "code",
   "execution_count": 136,
   "metadata": {},
   "outputs": [
    {
     "data": {
      "text/plain": [
       "26.666666666666668"
      ]
     },
     "execution_count": 136,
     "metadata": {},
     "output_type": "execute_result"
    }
   ],
   "source": [
    "80/3"
   ]
  },
  {
   "cell_type": "code",
   "execution_count": 128,
   "metadata": {},
   "outputs": [
    {
     "data": {
      "text/html": [
       "<div>\n",
       "<style scoped>\n",
       "    .dataframe tbody tr th:only-of-type {\n",
       "        vertical-align: middle;\n",
       "    }\n",
       "\n",
       "    .dataframe tbody tr th {\n",
       "        vertical-align: top;\n",
       "    }\n",
       "\n",
       "    .dataframe thead th {\n",
       "        text-align: right;\n",
       "    }\n",
       "</style>\n",
       "<table border=\"1\" class=\"dataframe\">\n",
       "  <thead>\n",
       "    <tr style=\"text-align: right;\">\n",
       "      <th></th>\n",
       "      <th>Temperature [C]</th>\n",
       "      <th>Outlook</th>\n",
       "      <th>Precipitation [%]</th>\n",
       "      <th>Humidity [%]</th>\n",
       "      <th>Wind [km/h]</th>\n",
       "    </tr>\n",
       "  </thead>\n",
       "  <tbody>\n",
       "    <tr>\n",
       "      <th>2020-06-14</th>\n",
       "      <td>33</td>\n",
       "      <td>Isolated thunderstorms</td>\n",
       "      <td>60</td>\n",
       "      <td>43</td>\n",
       "      <td>10</td>\n",
       "    </tr>\n",
       "    <tr>\n",
       "      <th>2020-06-15</th>\n",
       "      <td>33</td>\n",
       "      <td>Partly cloudy</td>\n",
       "      <td>10</td>\n",
       "      <td>34</td>\n",
       "      <td>14</td>\n",
       "    </tr>\n",
       "    <tr>\n",
       "      <th>2020-06-16</th>\n",
       "      <td>34</td>\n",
       "      <td>Mostly sunny</td>\n",
       "      <td>0</td>\n",
       "      <td>29</td>\n",
       "      <td>19</td>\n",
       "    </tr>\n",
       "    <tr>\n",
       "      <th>2020-06-17</th>\n",
       "      <td>33</td>\n",
       "      <td>Partly cloudy</td>\n",
       "      <td>10</td>\n",
       "      <td>36</td>\n",
       "      <td>16</td>\n",
       "    </tr>\n",
       "    <tr>\n",
       "      <th>2020-06-18</th>\n",
       "      <td>32</td>\n",
       "      <td>Partly cloudy</td>\n",
       "      <td>20</td>\n",
       "      <td>35</td>\n",
       "      <td>21</td>\n",
       "    </tr>\n",
       "    <tr>\n",
       "      <th>2020-06-19</th>\n",
       "      <td>31</td>\n",
       "      <td>Mostly sunny</td>\n",
       "      <td>20</td>\n",
       "      <td>32</td>\n",
       "      <td>19</td>\n",
       "    </tr>\n",
       "    <tr>\n",
       "      <th>2020-06-20</th>\n",
       "      <td>32</td>\n",
       "      <td>Mostly sunny</td>\n",
       "      <td>10</td>\n",
       "      <td>29</td>\n",
       "      <td>19</td>\n",
       "    </tr>\n",
       "  </tbody>\n",
       "</table>\n",
       "</div>"
      ],
      "text/plain": [
       "            Temperature [C]                 Outlook  Precipitation [%]  \\\n",
       "2020-06-14               33  Isolated thunderstorms                 60   \n",
       "2020-06-15               33           Partly cloudy                 10   \n",
       "2020-06-16               34            Mostly sunny                  0   \n",
       "2020-06-17               33           Partly cloudy                 10   \n",
       "2020-06-18               32           Partly cloudy                 20   \n",
       "2020-06-19               31            Mostly sunny                 20   \n",
       "2020-06-20               32            Mostly sunny                 10   \n",
       "\n",
       "            Humidity [%]  Wind [km/h]  \n",
       "2020-06-14            43           10  \n",
       "2020-06-15            34           14  \n",
       "2020-06-16            29           19  \n",
       "2020-06-17            36           16  \n",
       "2020-06-18            35           21  \n",
       "2020-06-19            32           19  \n",
       "2020-06-20            29           19  "
      ]
     },
     "execution_count": 128,
     "metadata": {},
     "output_type": "execute_result"
    }
   ],
   "source": [
    "df"
   ]
  },
  {
   "cell_type": "code",
   "execution_count": 53,
   "metadata": {
    "scrolled": true,
    "slideshow": {
     "slide_type": "subslide"
    }
   },
   "outputs": [
    {
     "data": {
      "text/html": [
       "<div>\n",
       "<style scoped>\n",
       "    .dataframe tbody tr th:only-of-type {\n",
       "        vertical-align: middle;\n",
       "    }\n",
       "\n",
       "    .dataframe tbody tr th {\n",
       "        vertical-align: top;\n",
       "    }\n",
       "\n",
       "    .dataframe thead th {\n",
       "        text-align: right;\n",
       "    }\n",
       "</style>\n",
       "<table border=\"1\" class=\"dataframe\">\n",
       "  <thead>\n",
       "    <tr style=\"text-align: right;\">\n",
       "      <th></th>\n",
       "      <th></th>\n",
       "      <th>Temperature [C]</th>\n",
       "      <th>Outlook</th>\n",
       "      <th>Wind [km/h]</th>\n",
       "    </tr>\n",
       "    <tr>\n",
       "      <th>Precipitation [%]</th>\n",
       "      <th>Humidity [%]</th>\n",
       "      <th></th>\n",
       "      <th></th>\n",
       "      <th></th>\n",
       "    </tr>\n",
       "  </thead>\n",
       "  <tbody>\n",
       "    <tr>\n",
       "      <th>0</th>\n",
       "      <th>29</th>\n",
       "      <td>1</td>\n",
       "      <td>1</td>\n",
       "      <td>1</td>\n",
       "    </tr>\n",
       "    <tr>\n",
       "      <th rowspan=\"3\" valign=\"top\">10</th>\n",
       "      <th>29</th>\n",
       "      <td>1</td>\n",
       "      <td>1</td>\n",
       "      <td>1</td>\n",
       "    </tr>\n",
       "    <tr>\n",
       "      <th>34</th>\n",
       "      <td>1</td>\n",
       "      <td>1</td>\n",
       "      <td>1</td>\n",
       "    </tr>\n",
       "    <tr>\n",
       "      <th>36</th>\n",
       "      <td>1</td>\n",
       "      <td>1</td>\n",
       "      <td>1</td>\n",
       "    </tr>\n",
       "    <tr>\n",
       "      <th rowspan=\"2\" valign=\"top\">20</th>\n",
       "      <th>32</th>\n",
       "      <td>1</td>\n",
       "      <td>1</td>\n",
       "      <td>1</td>\n",
       "    </tr>\n",
       "    <tr>\n",
       "      <th>35</th>\n",
       "      <td>1</td>\n",
       "      <td>1</td>\n",
       "      <td>1</td>\n",
       "    </tr>\n",
       "    <tr>\n",
       "      <th>60</th>\n",
       "      <th>43</th>\n",
       "      <td>1</td>\n",
       "      <td>1</td>\n",
       "      <td>1</td>\n",
       "    </tr>\n",
       "  </tbody>\n",
       "</table>\n",
       "</div>"
      ],
      "text/plain": [
       "                                Temperature [C]  Outlook  Wind [km/h]\n",
       "Precipitation [%] Humidity [%]                                       \n",
       "0                 29                          1        1            1\n",
       "10                29                          1        1            1\n",
       "                  34                          1        1            1\n",
       "                  36                          1        1            1\n",
       "20                32                          1        1            1\n",
       "                  35                          1        1            1\n",
       "60                43                          1        1            1"
      ]
     },
     "execution_count": 53,
     "metadata": {},
     "output_type": "execute_result"
    }
   ],
   "source": [
    "# DataFrame.groupby([col1,col2])\n",
    "# აბრუნებს col1 და col2 სვეტების მიხედვით დაჯგუფებულ ობიექტს\n",
    "groups = df.groupby(['Precipitation [%]', 'Humidity [%]'])\n",
    "groups.count()"
   ]
  },
  {
   "cell_type": "code",
   "execution_count": 54,
   "metadata": {
    "scrolled": true,
    "slideshow": {
     "slide_type": "-"
    }
   },
   "outputs": [
    {
     "data": {
      "text/html": [
       "<div>\n",
       "<style scoped>\n",
       "    .dataframe tbody tr th:only-of-type {\n",
       "        vertical-align: middle;\n",
       "    }\n",
       "\n",
       "    .dataframe tbody tr th {\n",
       "        vertical-align: top;\n",
       "    }\n",
       "\n",
       "    .dataframe thead th {\n",
       "        text-align: right;\n",
       "    }\n",
       "</style>\n",
       "<table border=\"1\" class=\"dataframe\">\n",
       "  <thead>\n",
       "    <tr style=\"text-align: right;\">\n",
       "      <th></th>\n",
       "      <th>Temperature [C]</th>\n",
       "      <th>Outlook</th>\n",
       "      <th>Precipitation [%]</th>\n",
       "      <th>Humidity [%]</th>\n",
       "      <th>Wind [km/h]</th>\n",
       "    </tr>\n",
       "  </thead>\n",
       "  <tbody>\n",
       "    <tr>\n",
       "      <th>2020-06-14</th>\n",
       "      <td>33</td>\n",
       "      <td>Isolated thunderstorms</td>\n",
       "      <td>60</td>\n",
       "      <td>43</td>\n",
       "      <td>10</td>\n",
       "    </tr>\n",
       "    <tr>\n",
       "      <th>2020-06-15</th>\n",
       "      <td>33</td>\n",
       "      <td>Partly cloudy</td>\n",
       "      <td>10</td>\n",
       "      <td>34</td>\n",
       "      <td>14</td>\n",
       "    </tr>\n",
       "    <tr>\n",
       "      <th>2020-06-16</th>\n",
       "      <td>34</td>\n",
       "      <td>Mostly sunny</td>\n",
       "      <td>0</td>\n",
       "      <td>29</td>\n",
       "      <td>19</td>\n",
       "    </tr>\n",
       "    <tr>\n",
       "      <th>2020-06-17</th>\n",
       "      <td>33</td>\n",
       "      <td>Partly cloudy</td>\n",
       "      <td>10</td>\n",
       "      <td>36</td>\n",
       "      <td>16</td>\n",
       "    </tr>\n",
       "    <tr>\n",
       "      <th>2020-06-18</th>\n",
       "      <td>32</td>\n",
       "      <td>Partly cloudy</td>\n",
       "      <td>20</td>\n",
       "      <td>35</td>\n",
       "      <td>21</td>\n",
       "    </tr>\n",
       "    <tr>\n",
       "      <th>2020-06-19</th>\n",
       "      <td>31</td>\n",
       "      <td>Mostly sunny</td>\n",
       "      <td>20</td>\n",
       "      <td>32</td>\n",
       "      <td>19</td>\n",
       "    </tr>\n",
       "    <tr>\n",
       "      <th>2020-06-20</th>\n",
       "      <td>32</td>\n",
       "      <td>Mostly sunny</td>\n",
       "      <td>10</td>\n",
       "      <td>29</td>\n",
       "      <td>19</td>\n",
       "    </tr>\n",
       "  </tbody>\n",
       "</table>\n",
       "</div>"
      ],
      "text/plain": [
       "            Temperature [C]                 Outlook  Precipitation [%]  \\\n",
       "2020-06-14               33  Isolated thunderstorms                 60   \n",
       "2020-06-15               33           Partly cloudy                 10   \n",
       "2020-06-16               34            Mostly sunny                  0   \n",
       "2020-06-17               33           Partly cloudy                 10   \n",
       "2020-06-18               32           Partly cloudy                 20   \n",
       "2020-06-19               31            Mostly sunny                 20   \n",
       "2020-06-20               32            Mostly sunny                 10   \n",
       "\n",
       "            Humidity [%]  Wind [km/h]  \n",
       "2020-06-14            43           10  \n",
       "2020-06-15            34           14  \n",
       "2020-06-16            29           19  \n",
       "2020-06-17            36           16  \n",
       "2020-06-18            35           21  \n",
       "2020-06-19            32           19  \n",
       "2020-06-20            29           19  "
      ]
     },
     "execution_count": 54,
     "metadata": {},
     "output_type": "execute_result"
    }
   ],
   "source": [
    "df"
   ]
  },
  {
   "cell_type": "code",
   "execution_count": 55,
   "metadata": {
    "scrolled": true,
    "slideshow": {
     "slide_type": "subslide"
    }
   },
   "outputs": [
    {
     "data": {
      "text/html": [
       "<div>\n",
       "<style scoped>\n",
       "    .dataframe tbody tr th:only-of-type {\n",
       "        vertical-align: middle;\n",
       "    }\n",
       "\n",
       "    .dataframe tbody tr th {\n",
       "        vertical-align: top;\n",
       "    }\n",
       "\n",
       "    .dataframe thead th {\n",
       "        text-align: right;\n",
       "    }\n",
       "</style>\n",
       "<table border=\"1\" class=\"dataframe\">\n",
       "  <thead>\n",
       "    <tr style=\"text-align: right;\">\n",
       "      <th></th>\n",
       "      <th>Humidity [%]</th>\n",
       "      <th>Precipitation [%]</th>\n",
       "    </tr>\n",
       "    <tr>\n",
       "      <th>Outlook</th>\n",
       "      <th></th>\n",
       "      <th></th>\n",
       "    </tr>\n",
       "  </thead>\n",
       "  <tbody>\n",
       "    <tr>\n",
       "      <th>Isolated thunderstorms</th>\n",
       "      <td>43</td>\n",
       "      <td>60.000000</td>\n",
       "    </tr>\n",
       "    <tr>\n",
       "      <th>Mostly sunny</th>\n",
       "      <td>30</td>\n",
       "      <td>10.000000</td>\n",
       "    </tr>\n",
       "    <tr>\n",
       "      <th>Partly cloudy</th>\n",
       "      <td>35</td>\n",
       "      <td>13.333333</td>\n",
       "    </tr>\n",
       "  </tbody>\n",
       "</table>\n",
       "</div>"
      ],
      "text/plain": [
       "                        Humidity [%]  Precipitation [%]\n",
       "Outlook                                                \n",
       "Isolated thunderstorms            43          60.000000\n",
       "Mostly sunny                      30          10.000000\n",
       "Partly cloudy                     35          13.333333"
      ]
     },
     "execution_count": 55,
     "metadata": {},
     "output_type": "execute_result"
    }
   ],
   "source": [
    "# DataFrame.pivot_table(index=col1,values=[col2,col3],aggfunc=mean)\n",
    "#აბრუნებს შემაჯამებელ ცხრილს რომელიც დაჯგუფებულია col1 სვეტის მიხედვით და ითვლის col2 და col3 სვეტების საშუალო მნიშვნელობებს\n",
    "df.pivot_table(index='Outlook',values=['Precipitation [%]', 'Humidity [%]'],aggfunc=np.mean)"
   ]
  },
  {
   "cell_type": "code",
   "execution_count": 56,
   "metadata": {
    "scrolled": true,
    "slideshow": {
     "slide_type": "-"
    }
   },
   "outputs": [
    {
     "data": {
      "text/html": [
       "<div>\n",
       "<style scoped>\n",
       "    .dataframe tbody tr th:only-of-type {\n",
       "        vertical-align: middle;\n",
       "    }\n",
       "\n",
       "    .dataframe tbody tr th {\n",
       "        vertical-align: top;\n",
       "    }\n",
       "\n",
       "    .dataframe thead th {\n",
       "        text-align: right;\n",
       "    }\n",
       "</style>\n",
       "<table border=\"1\" class=\"dataframe\">\n",
       "  <thead>\n",
       "    <tr style=\"text-align: right;\">\n",
       "      <th></th>\n",
       "      <th>Temperature [C]</th>\n",
       "      <th>Outlook</th>\n",
       "      <th>Precipitation [%]</th>\n",
       "      <th>Humidity [%]</th>\n",
       "      <th>Wind [km/h]</th>\n",
       "    </tr>\n",
       "  </thead>\n",
       "  <tbody>\n",
       "    <tr>\n",
       "      <th>2020-06-14</th>\n",
       "      <td>33</td>\n",
       "      <td>Isolated thunderstorms</td>\n",
       "      <td>60</td>\n",
       "      <td>43</td>\n",
       "      <td>10</td>\n",
       "    </tr>\n",
       "    <tr>\n",
       "      <th>2020-06-15</th>\n",
       "      <td>33</td>\n",
       "      <td>Partly cloudy</td>\n",
       "      <td>10</td>\n",
       "      <td>34</td>\n",
       "      <td>14</td>\n",
       "    </tr>\n",
       "    <tr>\n",
       "      <th>2020-06-16</th>\n",
       "      <td>34</td>\n",
       "      <td>Mostly sunny</td>\n",
       "      <td>0</td>\n",
       "      <td>29</td>\n",
       "      <td>19</td>\n",
       "    </tr>\n",
       "    <tr>\n",
       "      <th>2020-06-17</th>\n",
       "      <td>33</td>\n",
       "      <td>Partly cloudy</td>\n",
       "      <td>10</td>\n",
       "      <td>36</td>\n",
       "      <td>16</td>\n",
       "    </tr>\n",
       "    <tr>\n",
       "      <th>2020-06-18</th>\n",
       "      <td>32</td>\n",
       "      <td>Partly cloudy</td>\n",
       "      <td>20</td>\n",
       "      <td>35</td>\n",
       "      <td>21</td>\n",
       "    </tr>\n",
       "    <tr>\n",
       "      <th>2020-06-19</th>\n",
       "      <td>31</td>\n",
       "      <td>Mostly sunny</td>\n",
       "      <td>20</td>\n",
       "      <td>32</td>\n",
       "      <td>19</td>\n",
       "    </tr>\n",
       "    <tr>\n",
       "      <th>2020-06-20</th>\n",
       "      <td>32</td>\n",
       "      <td>Mostly sunny</td>\n",
       "      <td>10</td>\n",
       "      <td>29</td>\n",
       "      <td>19</td>\n",
       "    </tr>\n",
       "  </tbody>\n",
       "</table>\n",
       "</div>"
      ],
      "text/plain": [
       "            Temperature [C]                 Outlook  Precipitation [%]  \\\n",
       "2020-06-14               33  Isolated thunderstorms                 60   \n",
       "2020-06-15               33           Partly cloudy                 10   \n",
       "2020-06-16               34            Mostly sunny                  0   \n",
       "2020-06-17               33           Partly cloudy                 10   \n",
       "2020-06-18               32           Partly cloudy                 20   \n",
       "2020-06-19               31            Mostly sunny                 20   \n",
       "2020-06-20               32            Mostly sunny                 10   \n",
       "\n",
       "            Humidity [%]  Wind [km/h]  \n",
       "2020-06-14            43           10  \n",
       "2020-06-15            34           14  \n",
       "2020-06-16            29           19  \n",
       "2020-06-17            36           16  \n",
       "2020-06-18            35           21  \n",
       "2020-06-19            32           19  \n",
       "2020-06-20            29           19  "
      ]
     },
     "execution_count": 56,
     "metadata": {},
     "output_type": "execute_result"
    }
   ],
   "source": [
    "df"
   ]
  },
  {
   "cell_type": "code",
   "execution_count": 141,
   "metadata": {},
   "outputs": [
    {
     "data": {
      "text/plain": [
       "36.5"
      ]
     },
     "execution_count": 141,
     "metadata": {},
     "output_type": "execute_result"
    }
   ],
   "source": [
    "(33+60+43+10)/4"
   ]
  },
  {
   "cell_type": "code",
   "execution_count": 139,
   "metadata": {},
   "outputs": [],
   "source": [
    "df3 = df.drop('Outlook', axis=1)"
   ]
  },
  {
   "cell_type": "code",
   "execution_count": 142,
   "metadata": {},
   "outputs": [
    {
     "data": {
      "text/html": [
       "<div>\n",
       "<style scoped>\n",
       "    .dataframe tbody tr th:only-of-type {\n",
       "        vertical-align: middle;\n",
       "    }\n",
       "\n",
       "    .dataframe tbody tr th {\n",
       "        vertical-align: top;\n",
       "    }\n",
       "\n",
       "    .dataframe thead th {\n",
       "        text-align: right;\n",
       "    }\n",
       "</style>\n",
       "<table border=\"1\" class=\"dataframe\">\n",
       "  <thead>\n",
       "    <tr style=\"text-align: right;\">\n",
       "      <th></th>\n",
       "      <th>Temperature [C]</th>\n",
       "      <th>Precipitation [%]</th>\n",
       "      <th>Humidity [%]</th>\n",
       "      <th>Wind [km/h]</th>\n",
       "    </tr>\n",
       "  </thead>\n",
       "  <tbody>\n",
       "    <tr>\n",
       "      <th>2020-06-14</th>\n",
       "      <td>33</td>\n",
       "      <td>60</td>\n",
       "      <td>43</td>\n",
       "      <td>10</td>\n",
       "    </tr>\n",
       "    <tr>\n",
       "      <th>2020-06-15</th>\n",
       "      <td>33</td>\n",
       "      <td>10</td>\n",
       "      <td>34</td>\n",
       "      <td>14</td>\n",
       "    </tr>\n",
       "    <tr>\n",
       "      <th>2020-06-16</th>\n",
       "      <td>34</td>\n",
       "      <td>0</td>\n",
       "      <td>29</td>\n",
       "      <td>19</td>\n",
       "    </tr>\n",
       "    <tr>\n",
       "      <th>2020-06-17</th>\n",
       "      <td>33</td>\n",
       "      <td>10</td>\n",
       "      <td>36</td>\n",
       "      <td>16</td>\n",
       "    </tr>\n",
       "    <tr>\n",
       "      <th>2020-06-18</th>\n",
       "      <td>32</td>\n",
       "      <td>20</td>\n",
       "      <td>35</td>\n",
       "      <td>21</td>\n",
       "    </tr>\n",
       "    <tr>\n",
       "      <th>2020-06-19</th>\n",
       "      <td>31</td>\n",
       "      <td>20</td>\n",
       "      <td>32</td>\n",
       "      <td>19</td>\n",
       "    </tr>\n",
       "    <tr>\n",
       "      <th>2020-06-20</th>\n",
       "      <td>32</td>\n",
       "      <td>10</td>\n",
       "      <td>29</td>\n",
       "      <td>19</td>\n",
       "    </tr>\n",
       "  </tbody>\n",
       "</table>\n",
       "</div>"
      ],
      "text/plain": [
       "            Temperature [C]  Precipitation [%]  Humidity [%]  Wind [km/h]\n",
       "2020-06-14               33                 60            43           10\n",
       "2020-06-15               33                 10            34           14\n",
       "2020-06-16               34                  0            29           19\n",
       "2020-06-17               33                 10            36           16\n",
       "2020-06-18               32                 20            35           21\n",
       "2020-06-19               31                 20            32           19\n",
       "2020-06-20               32                 10            29           19"
      ]
     },
     "execution_count": 142,
     "metadata": {},
     "output_type": "execute_result"
    }
   ],
   "source": [
    "df3"
   ]
  },
  {
   "cell_type": "code",
   "execution_count": 143,
   "metadata": {
    "scrolled": true,
    "slideshow": {
     "slide_type": "subslide"
    }
   },
   "outputs": [
    {
     "data": {
      "text/plain": [
       "2020-06-14    36.50\n",
       "2020-06-15    22.75\n",
       "2020-06-16    20.50\n",
       "2020-06-17    23.75\n",
       "2020-06-18    27.00\n",
       "2020-06-19    25.50\n",
       "2020-06-20    22.50\n",
       "Freq: D, dtype: float64"
      ]
     },
     "execution_count": 143,
     "metadata": {},
     "output_type": "execute_result"
    }
   ],
   "source": [
    "# DataFrame.apply(np.mean)\n",
    "# მოდებს ფუნქცია np.mean () თითოეული \n",
    "df3.apply(np.mean, axis=1)"
   ]
  },
  {
   "cell_type": "code",
   "execution_count": 58,
   "metadata": {
    "scrolled": false,
    "slideshow": {
     "slide_type": "-"
    }
   },
   "outputs": [
    {
     "data": {
      "text/html": [
       "<div>\n",
       "<style scoped>\n",
       "    .dataframe tbody tr th:only-of-type {\n",
       "        vertical-align: middle;\n",
       "    }\n",
       "\n",
       "    .dataframe tbody tr th {\n",
       "        vertical-align: top;\n",
       "    }\n",
       "\n",
       "    .dataframe thead th {\n",
       "        text-align: right;\n",
       "    }\n",
       "</style>\n",
       "<table border=\"1\" class=\"dataframe\">\n",
       "  <thead>\n",
       "    <tr style=\"text-align: right;\">\n",
       "      <th></th>\n",
       "      <th>A</th>\n",
       "      <th>B</th>\n",
       "      <th>C</th>\n",
       "      <th>D</th>\n",
       "    </tr>\n",
       "  </thead>\n",
       "  <tbody>\n",
       "    <tr>\n",
       "      <th>0</th>\n",
       "      <td>NaN</td>\n",
       "      <td>2.0</td>\n",
       "      <td>NaN</td>\n",
       "      <td>0</td>\n",
       "    </tr>\n",
       "    <tr>\n",
       "      <th>1</th>\n",
       "      <td>3.0</td>\n",
       "      <td>4.0</td>\n",
       "      <td>5.0</td>\n",
       "      <td>1</td>\n",
       "    </tr>\n",
       "    <tr>\n",
       "      <th>2</th>\n",
       "      <td>NaN</td>\n",
       "      <td>NaN</td>\n",
       "      <td>NaN</td>\n",
       "      <td>5</td>\n",
       "    </tr>\n",
       "    <tr>\n",
       "      <th>3</th>\n",
       "      <td>NaN</td>\n",
       "      <td>3.0</td>\n",
       "      <td>NaN</td>\n",
       "      <td>4</td>\n",
       "    </tr>\n",
       "  </tbody>\n",
       "</table>\n",
       "</div>"
      ],
      "text/plain": [
       "     A    B    C  D\n",
       "0  NaN  2.0  NaN  0\n",
       "1  3.0  4.0  5.0  1\n",
       "2  NaN  NaN  NaN  5\n",
       "3  NaN  3.0  NaN  4"
      ]
     },
     "execution_count": 58,
     "metadata": {},
     "output_type": "execute_result"
    }
   ],
   "source": [
    "df2"
   ]
  },
  {
   "cell_type": "code",
   "execution_count": 59,
   "metadata": {
    "slideshow": {
     "slide_type": "subslide"
    }
   },
   "outputs": [
    {
     "data": {
      "text/plain": [
       "0    2.0\n",
       "1    5.0\n",
       "2    5.0\n",
       "3    4.0\n",
       "dtype: float64"
      ]
     },
     "execution_count": 59,
     "metadata": {},
     "output_type": "execute_result"
    }
   ],
   "source": [
    "# DataFrame.apply(np.max,axis=1)\n",
    "# მოდებს ფუნქცია np.max () თითოეული სტრიქონს\n",
    "df2.apply(np.max,axis=1)"
   ]
  },
  {
   "cell_type": "code",
   "execution_count": 60,
   "metadata": {
    "scrolled": true,
    "slideshow": {
     "slide_type": "-"
    }
   },
   "outputs": [
    {
     "data": {
      "text/html": [
       "<div>\n",
       "<style scoped>\n",
       "    .dataframe tbody tr th:only-of-type {\n",
       "        vertical-align: middle;\n",
       "    }\n",
       "\n",
       "    .dataframe tbody tr th {\n",
       "        vertical-align: top;\n",
       "    }\n",
       "\n",
       "    .dataframe thead th {\n",
       "        text-align: right;\n",
       "    }\n",
       "</style>\n",
       "<table border=\"1\" class=\"dataframe\">\n",
       "  <thead>\n",
       "    <tr style=\"text-align: right;\">\n",
       "      <th></th>\n",
       "      <th>A</th>\n",
       "      <th>B</th>\n",
       "      <th>C</th>\n",
       "      <th>D</th>\n",
       "    </tr>\n",
       "  </thead>\n",
       "  <tbody>\n",
       "    <tr>\n",
       "      <th>0</th>\n",
       "      <td>NaN</td>\n",
       "      <td>2.0</td>\n",
       "      <td>NaN</td>\n",
       "      <td>0</td>\n",
       "    </tr>\n",
       "    <tr>\n",
       "      <th>1</th>\n",
       "      <td>3.0</td>\n",
       "      <td>4.0</td>\n",
       "      <td>5.0</td>\n",
       "      <td>1</td>\n",
       "    </tr>\n",
       "    <tr>\n",
       "      <th>2</th>\n",
       "      <td>NaN</td>\n",
       "      <td>NaN</td>\n",
       "      <td>NaN</td>\n",
       "      <td>5</td>\n",
       "    </tr>\n",
       "    <tr>\n",
       "      <th>3</th>\n",
       "      <td>NaN</td>\n",
       "      <td>3.0</td>\n",
       "      <td>NaN</td>\n",
       "      <td>4</td>\n",
       "    </tr>\n",
       "  </tbody>\n",
       "</table>\n",
       "</div>"
      ],
      "text/plain": [
       "     A    B    C  D\n",
       "0  NaN  2.0  NaN  0\n",
       "1  3.0  4.0  5.0  1\n",
       "2  NaN  NaN  NaN  5\n",
       "3  NaN  3.0  NaN  4"
      ]
     },
     "execution_count": 60,
     "metadata": {},
     "output_type": "execute_result"
    }
   ],
   "source": [
    "df2"
   ]
  },
  {
   "cell_type": "markdown",
   "metadata": {
    "slideshow": {
     "slide_type": "slide"
    }
   },
   "source": [
    "<h3 align=\"center\">მონაცემთა შერწყმა, შეერთება და შეთანხმება</h3>\n",
    "\n",
    "| მეთოდი                                  | აღწერა                                              |\n",
    "|:-----------------------------------------|:----------------------------------------------------|\n",
    "| df1.append(df2)                          | უმატებს df1-ის სტრიქონებს df2-ის ბოლოს (სვეტები იდენტური უნდა იყოს)|\n",
    "| pandas.concat([df1, df2],axis=1)         | უმატებს df1-ის სვეტებს df2-ის ბოლოს (სტრიქონები იდენტური უნდა იყოს)|\n",
    "| df1.join(df2,on=col1, how='inner')       | უერთებს df1-ის სვეტებს df2-ის სვეტებს, სადაც სვეტების სტრიქონებს აქვთ იდენტური მნიშვნელობები. <br>პარამეტრი **how** შეიძლება აირჩეს: **left, right, outer** ან **inner** |"
   ]
  },
  {
   "cell_type": "code",
   "execution_count": 150,
   "metadata": {
    "slideshow": {
     "slide_type": "subslide"
    }
   },
   "outputs": [],
   "source": [
    "T1 = pd.DataFrame({'A': ['A0', 'A1', 'A2', 'A3'], 'B': ['B0', 'B1', 'B2', 'B3'], 'C': ['C0', 'C1', 'C2', 'C3'], 'D': ['D0', 'D1', 'D2', 'D3']},\n",
    "                   index=[0, 1, 2, 3])\n",
    "T2 = pd.DataFrame({'B': ['A4', 'A5', 'A6', 'A7'], 'C': ['B4', 'B5', 'B6', 'B7'], 'D': ['C4', 'C5', 'C6', 'C7'], 'E': ['D4', 'D5', 'D6', 'D7']},\n",
    "                   index=[4, 5, 6, 7])\n",
    "T3 = pd.DataFrame({'A': ['A8', 'A9', 'A10', 'A11'], 'B': ['B8', 'B9', 'B10', 'B11'], 'C': ['C8', 'C9', 'C10', 'C11'], 'D': ['D8', 'D9', 'D10', 'D11']},\n",
    "                   index=[8, 9, 10, 11])"
   ]
  },
  {
   "cell_type": "code",
   "execution_count": 145,
   "metadata": {},
   "outputs": [
    {
     "data": {
      "text/html": [
       "<div>\n",
       "<style scoped>\n",
       "    .dataframe tbody tr th:only-of-type {\n",
       "        vertical-align: middle;\n",
       "    }\n",
       "\n",
       "    .dataframe tbody tr th {\n",
       "        vertical-align: top;\n",
       "    }\n",
       "\n",
       "    .dataframe thead th {\n",
       "        text-align: right;\n",
       "    }\n",
       "</style>\n",
       "<table border=\"1\" class=\"dataframe\">\n",
       "  <thead>\n",
       "    <tr style=\"text-align: right;\">\n",
       "      <th></th>\n",
       "      <th>A</th>\n",
       "      <th>B</th>\n",
       "      <th>C</th>\n",
       "      <th>D</th>\n",
       "    </tr>\n",
       "  </thead>\n",
       "  <tbody>\n",
       "    <tr>\n",
       "      <th>0</th>\n",
       "      <td>A0</td>\n",
       "      <td>B0</td>\n",
       "      <td>C0</td>\n",
       "      <td>D0</td>\n",
       "    </tr>\n",
       "    <tr>\n",
       "      <th>1</th>\n",
       "      <td>A1</td>\n",
       "      <td>B1</td>\n",
       "      <td>C1</td>\n",
       "      <td>D1</td>\n",
       "    </tr>\n",
       "    <tr>\n",
       "      <th>2</th>\n",
       "      <td>A2</td>\n",
       "      <td>B2</td>\n",
       "      <td>C2</td>\n",
       "      <td>D2</td>\n",
       "    </tr>\n",
       "    <tr>\n",
       "      <th>3</th>\n",
       "      <td>A3</td>\n",
       "      <td>B3</td>\n",
       "      <td>C3</td>\n",
       "      <td>D3</td>\n",
       "    </tr>\n",
       "  </tbody>\n",
       "</table>\n",
       "</div>"
      ],
      "text/plain": [
       "    A   B   C   D\n",
       "0  A0  B0  C0  D0\n",
       "1  A1  B1  C1  D1\n",
       "2  A2  B2  C2  D2\n",
       "3  A3  B3  C3  D3"
      ]
     },
     "execution_count": 145,
     "metadata": {},
     "output_type": "execute_result"
    }
   ],
   "source": [
    "T1"
   ]
  },
  {
   "cell_type": "code",
   "execution_count": 146,
   "metadata": {},
   "outputs": [
    {
     "data": {
      "text/html": [
       "<div>\n",
       "<style scoped>\n",
       "    .dataframe tbody tr th:only-of-type {\n",
       "        vertical-align: middle;\n",
       "    }\n",
       "\n",
       "    .dataframe tbody tr th {\n",
       "        vertical-align: top;\n",
       "    }\n",
       "\n",
       "    .dataframe thead th {\n",
       "        text-align: right;\n",
       "    }\n",
       "</style>\n",
       "<table border=\"1\" class=\"dataframe\">\n",
       "  <thead>\n",
       "    <tr style=\"text-align: right;\">\n",
       "      <th></th>\n",
       "      <th>A</th>\n",
       "      <th>B</th>\n",
       "      <th>C</th>\n",
       "      <th>D</th>\n",
       "    </tr>\n",
       "  </thead>\n",
       "  <tbody>\n",
       "    <tr>\n",
       "      <th>4</th>\n",
       "      <td>A4</td>\n",
       "      <td>B4</td>\n",
       "      <td>C4</td>\n",
       "      <td>D4</td>\n",
       "    </tr>\n",
       "    <tr>\n",
       "      <th>5</th>\n",
       "      <td>A5</td>\n",
       "      <td>B5</td>\n",
       "      <td>C5</td>\n",
       "      <td>D5</td>\n",
       "    </tr>\n",
       "    <tr>\n",
       "      <th>6</th>\n",
       "      <td>A6</td>\n",
       "      <td>B6</td>\n",
       "      <td>C6</td>\n",
       "      <td>D6</td>\n",
       "    </tr>\n",
       "    <tr>\n",
       "      <th>7</th>\n",
       "      <td>A7</td>\n",
       "      <td>B7</td>\n",
       "      <td>C7</td>\n",
       "      <td>D7</td>\n",
       "    </tr>\n",
       "  </tbody>\n",
       "</table>\n",
       "</div>"
      ],
      "text/plain": [
       "    A   B   C   D\n",
       "4  A4  B4  C4  D4\n",
       "5  A5  B5  C5  D5\n",
       "6  A6  B6  C6  D6\n",
       "7  A7  B7  C7  D7"
      ]
     },
     "execution_count": 146,
     "metadata": {},
     "output_type": "execute_result"
    }
   ],
   "source": [
    "T2"
   ]
  },
  {
   "cell_type": "code",
   "execution_count": 147,
   "metadata": {},
   "outputs": [
    {
     "data": {
      "text/html": [
       "<div>\n",
       "<style scoped>\n",
       "    .dataframe tbody tr th:only-of-type {\n",
       "        vertical-align: middle;\n",
       "    }\n",
       "\n",
       "    .dataframe tbody tr th {\n",
       "        vertical-align: top;\n",
       "    }\n",
       "\n",
       "    .dataframe thead th {\n",
       "        text-align: right;\n",
       "    }\n",
       "</style>\n",
       "<table border=\"1\" class=\"dataframe\">\n",
       "  <thead>\n",
       "    <tr style=\"text-align: right;\">\n",
       "      <th></th>\n",
       "      <th>A</th>\n",
       "      <th>B</th>\n",
       "      <th>C</th>\n",
       "      <th>D</th>\n",
       "    </tr>\n",
       "  </thead>\n",
       "  <tbody>\n",
       "    <tr>\n",
       "      <th>8</th>\n",
       "      <td>A8</td>\n",
       "      <td>B8</td>\n",
       "      <td>C8</td>\n",
       "      <td>D8</td>\n",
       "    </tr>\n",
       "    <tr>\n",
       "      <th>9</th>\n",
       "      <td>A9</td>\n",
       "      <td>B9</td>\n",
       "      <td>C9</td>\n",
       "      <td>D9</td>\n",
       "    </tr>\n",
       "    <tr>\n",
       "      <th>10</th>\n",
       "      <td>A10</td>\n",
       "      <td>B10</td>\n",
       "      <td>C10</td>\n",
       "      <td>D10</td>\n",
       "    </tr>\n",
       "    <tr>\n",
       "      <th>11</th>\n",
       "      <td>A11</td>\n",
       "      <td>B11</td>\n",
       "      <td>C11</td>\n",
       "      <td>D11</td>\n",
       "    </tr>\n",
       "  </tbody>\n",
       "</table>\n",
       "</div>"
      ],
      "text/plain": [
       "      A    B    C    D\n",
       "8    A8   B8   C8   D8\n",
       "9    A9   B9   C9   D9\n",
       "10  A10  B10  C10  D10\n",
       "11  A11  B11  C11  D11"
      ]
     },
     "execution_count": 147,
     "metadata": {},
     "output_type": "execute_result"
    }
   ],
   "source": [
    "T3"
   ]
  },
  {
   "cell_type": "code",
   "execution_count": 152,
   "metadata": {
    "slideshow": {
     "slide_type": "subslide"
    }
   },
   "outputs": [
    {
     "data": {
      "text/html": [
       "<div>\n",
       "<style scoped>\n",
       "    .dataframe tbody tr th:only-of-type {\n",
       "        vertical-align: middle;\n",
       "    }\n",
       "\n",
       "    .dataframe tbody tr th {\n",
       "        vertical-align: top;\n",
       "    }\n",
       "\n",
       "    .dataframe thead th {\n",
       "        text-align: right;\n",
       "    }\n",
       "</style>\n",
       "<table border=\"1\" class=\"dataframe\">\n",
       "  <thead>\n",
       "    <tr style=\"text-align: right;\">\n",
       "      <th></th>\n",
       "      <th>A</th>\n",
       "      <th>B</th>\n",
       "      <th>C</th>\n",
       "      <th>D</th>\n",
       "      <th>E</th>\n",
       "    </tr>\n",
       "  </thead>\n",
       "  <tbody>\n",
       "    <tr>\n",
       "      <th>0</th>\n",
       "      <td>A0</td>\n",
       "      <td>B0</td>\n",
       "      <td>C0</td>\n",
       "      <td>D0</td>\n",
       "      <td>NaN</td>\n",
       "    </tr>\n",
       "    <tr>\n",
       "      <th>1</th>\n",
       "      <td>A1</td>\n",
       "      <td>B1</td>\n",
       "      <td>C1</td>\n",
       "      <td>D1</td>\n",
       "      <td>NaN</td>\n",
       "    </tr>\n",
       "    <tr>\n",
       "      <th>2</th>\n",
       "      <td>A2</td>\n",
       "      <td>B2</td>\n",
       "      <td>C2</td>\n",
       "      <td>D2</td>\n",
       "      <td>NaN</td>\n",
       "    </tr>\n",
       "    <tr>\n",
       "      <th>3</th>\n",
       "      <td>A3</td>\n",
       "      <td>B3</td>\n",
       "      <td>C3</td>\n",
       "      <td>D3</td>\n",
       "      <td>NaN</td>\n",
       "    </tr>\n",
       "    <tr>\n",
       "      <th>4</th>\n",
       "      <td>NaN</td>\n",
       "      <td>A4</td>\n",
       "      <td>B4</td>\n",
       "      <td>C4</td>\n",
       "      <td>D4</td>\n",
       "    </tr>\n",
       "    <tr>\n",
       "      <th>5</th>\n",
       "      <td>NaN</td>\n",
       "      <td>A5</td>\n",
       "      <td>B5</td>\n",
       "      <td>C5</td>\n",
       "      <td>D5</td>\n",
       "    </tr>\n",
       "    <tr>\n",
       "      <th>6</th>\n",
       "      <td>NaN</td>\n",
       "      <td>A6</td>\n",
       "      <td>B6</td>\n",
       "      <td>C6</td>\n",
       "      <td>D6</td>\n",
       "    </tr>\n",
       "    <tr>\n",
       "      <th>7</th>\n",
       "      <td>NaN</td>\n",
       "      <td>A7</td>\n",
       "      <td>B7</td>\n",
       "      <td>C7</td>\n",
       "      <td>D7</td>\n",
       "    </tr>\n",
       "  </tbody>\n",
       "</table>\n",
       "</div>"
      ],
      "text/plain": [
       "     A   B   C   D    E\n",
       "0   A0  B0  C0  D0  NaN\n",
       "1   A1  B1  C1  D1  NaN\n",
       "2   A2  B2  C2  D2  NaN\n",
       "3   A3  B3  C3  D3  NaN\n",
       "4  NaN  A4  B4  C4   D4\n",
       "5  NaN  A5  B5  C5   D5\n",
       "6  NaN  A6  B6  C6   D6\n",
       "7  NaN  A7  B7  C7   D7"
      ]
     },
     "execution_count": 152,
     "metadata": {},
     "output_type": "execute_result"
    }
   ],
   "source": [
    "# df1.append(df2)\n",
    "# უმატებს df2-ის სტრიქონებს df1-ის ბოლოს (სვეტები იდენტური უნდა იყოს)\n",
    "T1.append(T2)"
   ]
  },
  {
   "cell_type": "code",
   "execution_count": 151,
   "metadata": {},
   "outputs": [
    {
     "data": {
      "text/html": [
       "<div>\n",
       "<style scoped>\n",
       "    .dataframe tbody tr th:only-of-type {\n",
       "        vertical-align: middle;\n",
       "    }\n",
       "\n",
       "    .dataframe tbody tr th {\n",
       "        vertical-align: top;\n",
       "    }\n",
       "\n",
       "    .dataframe thead th {\n",
       "        text-align: right;\n",
       "    }\n",
       "</style>\n",
       "<table border=\"1\" class=\"dataframe\">\n",
       "  <thead>\n",
       "    <tr style=\"text-align: right;\">\n",
       "      <th></th>\n",
       "      <th>B</th>\n",
       "      <th>C</th>\n",
       "      <th>D</th>\n",
       "      <th>E</th>\n",
       "      <th>A</th>\n",
       "    </tr>\n",
       "  </thead>\n",
       "  <tbody>\n",
       "    <tr>\n",
       "      <th>4</th>\n",
       "      <td>A4</td>\n",
       "      <td>B4</td>\n",
       "      <td>C4</td>\n",
       "      <td>D4</td>\n",
       "      <td>NaN</td>\n",
       "    </tr>\n",
       "    <tr>\n",
       "      <th>5</th>\n",
       "      <td>A5</td>\n",
       "      <td>B5</td>\n",
       "      <td>C5</td>\n",
       "      <td>D5</td>\n",
       "      <td>NaN</td>\n",
       "    </tr>\n",
       "    <tr>\n",
       "      <th>6</th>\n",
       "      <td>A6</td>\n",
       "      <td>B6</td>\n",
       "      <td>C6</td>\n",
       "      <td>D6</td>\n",
       "      <td>NaN</td>\n",
       "    </tr>\n",
       "    <tr>\n",
       "      <th>7</th>\n",
       "      <td>A7</td>\n",
       "      <td>B7</td>\n",
       "      <td>C7</td>\n",
       "      <td>D7</td>\n",
       "      <td>NaN</td>\n",
       "    </tr>\n",
       "    <tr>\n",
       "      <th>0</th>\n",
       "      <td>B0</td>\n",
       "      <td>C0</td>\n",
       "      <td>D0</td>\n",
       "      <td>NaN</td>\n",
       "      <td>A0</td>\n",
       "    </tr>\n",
       "    <tr>\n",
       "      <th>1</th>\n",
       "      <td>B1</td>\n",
       "      <td>C1</td>\n",
       "      <td>D1</td>\n",
       "      <td>NaN</td>\n",
       "      <td>A1</td>\n",
       "    </tr>\n",
       "    <tr>\n",
       "      <th>2</th>\n",
       "      <td>B2</td>\n",
       "      <td>C2</td>\n",
       "      <td>D2</td>\n",
       "      <td>NaN</td>\n",
       "      <td>A2</td>\n",
       "    </tr>\n",
       "    <tr>\n",
       "      <th>3</th>\n",
       "      <td>B3</td>\n",
       "      <td>C3</td>\n",
       "      <td>D3</td>\n",
       "      <td>NaN</td>\n",
       "      <td>A3</td>\n",
       "    </tr>\n",
       "  </tbody>\n",
       "</table>\n",
       "</div>"
      ],
      "text/plain": [
       "    B   C   D    E    A\n",
       "4  A4  B4  C4   D4  NaN\n",
       "5  A5  B5  C5   D5  NaN\n",
       "6  A6  B6  C6   D6  NaN\n",
       "7  A7  B7  C7   D7  NaN\n",
       "0  B0  C0  D0  NaN   A0\n",
       "1  B1  C1  D1  NaN   A1\n",
       "2  B2  C2  D2  NaN   A2\n",
       "3  B3  C3  D3  NaN   A3"
      ]
     },
     "execution_count": 151,
     "metadata": {},
     "output_type": "execute_result"
    }
   ],
   "source": [
    "T2.append(T1)"
   ]
  },
  {
   "cell_type": "code",
   "execution_count": 153,
   "metadata": {
    "slideshow": {
     "slide_type": "subslide"
    }
   },
   "outputs": [
    {
     "data": {
      "text/html": [
       "<div>\n",
       "<style scoped>\n",
       "    .dataframe tbody tr th:only-of-type {\n",
       "        vertical-align: middle;\n",
       "    }\n",
       "\n",
       "    .dataframe tbody tr th {\n",
       "        vertical-align: top;\n",
       "    }\n",
       "\n",
       "    .dataframe thead th {\n",
       "        text-align: right;\n",
       "    }\n",
       "</style>\n",
       "<table border=\"1\" class=\"dataframe\">\n",
       "  <thead>\n",
       "    <tr style=\"text-align: right;\">\n",
       "      <th></th>\n",
       "      <th>A</th>\n",
       "      <th>B</th>\n",
       "      <th>C</th>\n",
       "      <th>D</th>\n",
       "      <th>E</th>\n",
       "    </tr>\n",
       "  </thead>\n",
       "  <tbody>\n",
       "    <tr>\n",
       "      <th>0</th>\n",
       "      <td>A0</td>\n",
       "      <td>B0</td>\n",
       "      <td>C0</td>\n",
       "      <td>D0</td>\n",
       "      <td>NaN</td>\n",
       "    </tr>\n",
       "    <tr>\n",
       "      <th>1</th>\n",
       "      <td>A1</td>\n",
       "      <td>B1</td>\n",
       "      <td>C1</td>\n",
       "      <td>D1</td>\n",
       "      <td>NaN</td>\n",
       "    </tr>\n",
       "    <tr>\n",
       "      <th>2</th>\n",
       "      <td>A2</td>\n",
       "      <td>B2</td>\n",
       "      <td>C2</td>\n",
       "      <td>D2</td>\n",
       "      <td>NaN</td>\n",
       "    </tr>\n",
       "    <tr>\n",
       "      <th>3</th>\n",
       "      <td>A3</td>\n",
       "      <td>B3</td>\n",
       "      <td>C3</td>\n",
       "      <td>D3</td>\n",
       "      <td>NaN</td>\n",
       "    </tr>\n",
       "    <tr>\n",
       "      <th>4</th>\n",
       "      <td>NaN</td>\n",
       "      <td>A4</td>\n",
       "      <td>B4</td>\n",
       "      <td>C4</td>\n",
       "      <td>D4</td>\n",
       "    </tr>\n",
       "    <tr>\n",
       "      <th>5</th>\n",
       "      <td>NaN</td>\n",
       "      <td>A5</td>\n",
       "      <td>B5</td>\n",
       "      <td>C5</td>\n",
       "      <td>D5</td>\n",
       "    </tr>\n",
       "    <tr>\n",
       "      <th>6</th>\n",
       "      <td>NaN</td>\n",
       "      <td>A6</td>\n",
       "      <td>B6</td>\n",
       "      <td>C6</td>\n",
       "      <td>D6</td>\n",
       "    </tr>\n",
       "    <tr>\n",
       "      <th>7</th>\n",
       "      <td>NaN</td>\n",
       "      <td>A7</td>\n",
       "      <td>B7</td>\n",
       "      <td>C7</td>\n",
       "      <td>D7</td>\n",
       "    </tr>\n",
       "    <tr>\n",
       "      <th>8</th>\n",
       "      <td>A8</td>\n",
       "      <td>B8</td>\n",
       "      <td>C8</td>\n",
       "      <td>D8</td>\n",
       "      <td>NaN</td>\n",
       "    </tr>\n",
       "    <tr>\n",
       "      <th>9</th>\n",
       "      <td>A9</td>\n",
       "      <td>B9</td>\n",
       "      <td>C9</td>\n",
       "      <td>D9</td>\n",
       "      <td>NaN</td>\n",
       "    </tr>\n",
       "    <tr>\n",
       "      <th>10</th>\n",
       "      <td>A10</td>\n",
       "      <td>B10</td>\n",
       "      <td>C10</td>\n",
       "      <td>D10</td>\n",
       "      <td>NaN</td>\n",
       "    </tr>\n",
       "    <tr>\n",
       "      <th>11</th>\n",
       "      <td>A11</td>\n",
       "      <td>B11</td>\n",
       "      <td>C11</td>\n",
       "      <td>D11</td>\n",
       "      <td>NaN</td>\n",
       "    </tr>\n",
       "  </tbody>\n",
       "</table>\n",
       "</div>"
      ],
      "text/plain": [
       "      A    B    C    D    E\n",
       "0    A0   B0   C0   D0  NaN\n",
       "1    A1   B1   C1   D1  NaN\n",
       "2    A2   B2   C2   D2  NaN\n",
       "3    A3   B3   C3   D3  NaN\n",
       "4   NaN   A4   B4   C4   D4\n",
       "5   NaN   A5   B5   C5   D5\n",
       "6   NaN   A6   B6   C6   D6\n",
       "7   NaN   A7   B7   C7   D7\n",
       "8    A8   B8   C8   D8  NaN\n",
       "9    A9   B9   C9   D9  NaN\n",
       "10  A10  B10  C10  D10  NaN\n",
       "11  A11  B11  C11  D11  NaN"
      ]
     },
     "execution_count": 153,
     "metadata": {},
     "output_type": "execute_result"
    }
   ],
   "source": [
    "# pandas.concat([df1, df2])\n",
    "# უმატებს df2-ის სტრიქონებს df1-ის ბოლოს (სტრიქონები იდენტური უნდა იყოს)\n",
    "pd.concat([T1, T2, T3])"
   ]
  },
  {
   "cell_type": "code",
   "execution_count": 67,
   "metadata": {
    "scrolled": true,
    "slideshow": {
     "slide_type": "subslide"
    }
   },
   "outputs": [
    {
     "data": {
      "text/html": [
       "<div>\n",
       "<style scoped>\n",
       "    .dataframe tbody tr th:only-of-type {\n",
       "        vertical-align: middle;\n",
       "    }\n",
       "\n",
       "    .dataframe tbody tr th {\n",
       "        vertical-align: top;\n",
       "    }\n",
       "\n",
       "    .dataframe thead th {\n",
       "        text-align: right;\n",
       "    }\n",
       "</style>\n",
       "<table border=\"1\" class=\"dataframe\">\n",
       "  <thead>\n",
       "    <tr style=\"text-align: right;\">\n",
       "      <th></th>\n",
       "      <th>A</th>\n",
       "      <th>B</th>\n",
       "      <th>C</th>\n",
       "      <th>D</th>\n",
       "      <th>A</th>\n",
       "      <th>B</th>\n",
       "      <th>C</th>\n",
       "      <th>D</th>\n",
       "      <th>A</th>\n",
       "      <th>B</th>\n",
       "      <th>C</th>\n",
       "      <th>D</th>\n",
       "    </tr>\n",
       "  </thead>\n",
       "  <tbody>\n",
       "    <tr>\n",
       "      <th>0</th>\n",
       "      <td>A0</td>\n",
       "      <td>B0</td>\n",
       "      <td>C0</td>\n",
       "      <td>D0</td>\n",
       "      <td>NaN</td>\n",
       "      <td>NaN</td>\n",
       "      <td>NaN</td>\n",
       "      <td>NaN</td>\n",
       "      <td>NaN</td>\n",
       "      <td>NaN</td>\n",
       "      <td>NaN</td>\n",
       "      <td>NaN</td>\n",
       "    </tr>\n",
       "    <tr>\n",
       "      <th>1</th>\n",
       "      <td>A1</td>\n",
       "      <td>B1</td>\n",
       "      <td>C1</td>\n",
       "      <td>D1</td>\n",
       "      <td>NaN</td>\n",
       "      <td>NaN</td>\n",
       "      <td>NaN</td>\n",
       "      <td>NaN</td>\n",
       "      <td>NaN</td>\n",
       "      <td>NaN</td>\n",
       "      <td>NaN</td>\n",
       "      <td>NaN</td>\n",
       "    </tr>\n",
       "    <tr>\n",
       "      <th>2</th>\n",
       "      <td>A2</td>\n",
       "      <td>B2</td>\n",
       "      <td>C2</td>\n",
       "      <td>D2</td>\n",
       "      <td>NaN</td>\n",
       "      <td>NaN</td>\n",
       "      <td>NaN</td>\n",
       "      <td>NaN</td>\n",
       "      <td>NaN</td>\n",
       "      <td>NaN</td>\n",
       "      <td>NaN</td>\n",
       "      <td>NaN</td>\n",
       "    </tr>\n",
       "    <tr>\n",
       "      <th>3</th>\n",
       "      <td>A3</td>\n",
       "      <td>B3</td>\n",
       "      <td>C3</td>\n",
       "      <td>D3</td>\n",
       "      <td>NaN</td>\n",
       "      <td>NaN</td>\n",
       "      <td>NaN</td>\n",
       "      <td>NaN</td>\n",
       "      <td>NaN</td>\n",
       "      <td>NaN</td>\n",
       "      <td>NaN</td>\n",
       "      <td>NaN</td>\n",
       "    </tr>\n",
       "    <tr>\n",
       "      <th>4</th>\n",
       "      <td>NaN</td>\n",
       "      <td>NaN</td>\n",
       "      <td>NaN</td>\n",
       "      <td>NaN</td>\n",
       "      <td>A4</td>\n",
       "      <td>B4</td>\n",
       "      <td>C4</td>\n",
       "      <td>D4</td>\n",
       "      <td>NaN</td>\n",
       "      <td>NaN</td>\n",
       "      <td>NaN</td>\n",
       "      <td>NaN</td>\n",
       "    </tr>\n",
       "    <tr>\n",
       "      <th>5</th>\n",
       "      <td>NaN</td>\n",
       "      <td>NaN</td>\n",
       "      <td>NaN</td>\n",
       "      <td>NaN</td>\n",
       "      <td>A5</td>\n",
       "      <td>B5</td>\n",
       "      <td>C5</td>\n",
       "      <td>D5</td>\n",
       "      <td>NaN</td>\n",
       "      <td>NaN</td>\n",
       "      <td>NaN</td>\n",
       "      <td>NaN</td>\n",
       "    </tr>\n",
       "    <tr>\n",
       "      <th>6</th>\n",
       "      <td>NaN</td>\n",
       "      <td>NaN</td>\n",
       "      <td>NaN</td>\n",
       "      <td>NaN</td>\n",
       "      <td>A6</td>\n",
       "      <td>B6</td>\n",
       "      <td>C6</td>\n",
       "      <td>D6</td>\n",
       "      <td>NaN</td>\n",
       "      <td>NaN</td>\n",
       "      <td>NaN</td>\n",
       "      <td>NaN</td>\n",
       "    </tr>\n",
       "    <tr>\n",
       "      <th>7</th>\n",
       "      <td>NaN</td>\n",
       "      <td>NaN</td>\n",
       "      <td>NaN</td>\n",
       "      <td>NaN</td>\n",
       "      <td>A7</td>\n",
       "      <td>B7</td>\n",
       "      <td>C7</td>\n",
       "      <td>D7</td>\n",
       "      <td>NaN</td>\n",
       "      <td>NaN</td>\n",
       "      <td>NaN</td>\n",
       "      <td>NaN</td>\n",
       "    </tr>\n",
       "    <tr>\n",
       "      <th>8</th>\n",
       "      <td>NaN</td>\n",
       "      <td>NaN</td>\n",
       "      <td>NaN</td>\n",
       "      <td>NaN</td>\n",
       "      <td>NaN</td>\n",
       "      <td>NaN</td>\n",
       "      <td>NaN</td>\n",
       "      <td>NaN</td>\n",
       "      <td>A8</td>\n",
       "      <td>B8</td>\n",
       "      <td>C8</td>\n",
       "      <td>D8</td>\n",
       "    </tr>\n",
       "    <tr>\n",
       "      <th>9</th>\n",
       "      <td>NaN</td>\n",
       "      <td>NaN</td>\n",
       "      <td>NaN</td>\n",
       "      <td>NaN</td>\n",
       "      <td>NaN</td>\n",
       "      <td>NaN</td>\n",
       "      <td>NaN</td>\n",
       "      <td>NaN</td>\n",
       "      <td>A9</td>\n",
       "      <td>B9</td>\n",
       "      <td>C9</td>\n",
       "      <td>D9</td>\n",
       "    </tr>\n",
       "    <tr>\n",
       "      <th>10</th>\n",
       "      <td>NaN</td>\n",
       "      <td>NaN</td>\n",
       "      <td>NaN</td>\n",
       "      <td>NaN</td>\n",
       "      <td>NaN</td>\n",
       "      <td>NaN</td>\n",
       "      <td>NaN</td>\n",
       "      <td>NaN</td>\n",
       "      <td>A10</td>\n",
       "      <td>B10</td>\n",
       "      <td>C10</td>\n",
       "      <td>D10</td>\n",
       "    </tr>\n",
       "    <tr>\n",
       "      <th>11</th>\n",
       "      <td>NaN</td>\n",
       "      <td>NaN</td>\n",
       "      <td>NaN</td>\n",
       "      <td>NaN</td>\n",
       "      <td>NaN</td>\n",
       "      <td>NaN</td>\n",
       "      <td>NaN</td>\n",
       "      <td>NaN</td>\n",
       "      <td>A11</td>\n",
       "      <td>B11</td>\n",
       "      <td>C11</td>\n",
       "      <td>D11</td>\n",
       "    </tr>\n",
       "  </tbody>\n",
       "</table>\n",
       "</div>"
      ],
      "text/plain": [
       "      A    B    C    D    A    B    C    D    A    B    C    D\n",
       "0    A0   B0   C0   D0  NaN  NaN  NaN  NaN  NaN  NaN  NaN  NaN\n",
       "1    A1   B1   C1   D1  NaN  NaN  NaN  NaN  NaN  NaN  NaN  NaN\n",
       "2    A2   B2   C2   D2  NaN  NaN  NaN  NaN  NaN  NaN  NaN  NaN\n",
       "3    A3   B3   C3   D3  NaN  NaN  NaN  NaN  NaN  NaN  NaN  NaN\n",
       "4   NaN  NaN  NaN  NaN   A4   B4   C4   D4  NaN  NaN  NaN  NaN\n",
       "5   NaN  NaN  NaN  NaN   A5   B5   C5   D5  NaN  NaN  NaN  NaN\n",
       "6   NaN  NaN  NaN  NaN   A6   B6   C6   D6  NaN  NaN  NaN  NaN\n",
       "7   NaN  NaN  NaN  NaN   A7   B7   C7   D7  NaN  NaN  NaN  NaN\n",
       "8   NaN  NaN  NaN  NaN  NaN  NaN  NaN  NaN   A8   B8   C8   D8\n",
       "9   NaN  NaN  NaN  NaN  NaN  NaN  NaN  NaN   A9   B9   C9   D9\n",
       "10  NaN  NaN  NaN  NaN  NaN  NaN  NaN  NaN  A10  B10  C10  D10\n",
       "11  NaN  NaN  NaN  NaN  NaN  NaN  NaN  NaN  A11  B11  C11  D11"
      ]
     },
     "execution_count": 67,
     "metadata": {},
     "output_type": "execute_result"
    }
   ],
   "source": [
    "# pandas.concat([df1, df2, df3])\n",
    "# უმატებს df2-ის და df3-ის სვეტებს df1-ის ბოლოს (სტრიქონები იდენტური უნდა იყოს)\n",
    "pd.concat([T1, T2, T3], axis=1)"
   ]
  },
  {
   "cell_type": "code",
   "execution_count": 155,
   "metadata": {
    "slideshow": {
     "slide_type": "subslide"
    }
   },
   "outputs": [],
   "source": [
    "# df1.join(df2,on=col1, how='inner')\n",
    "# უერთებს df1-ის სვეტებს df2-ის სვეტებს, სადაც სვეტების სტრიქონებს აქვთ იდენტური მნიშვნელობები.\n",
    "# პარამეტრი how შეიძლება აირჩეს: left, right, outer ან inner\n",
    "left  = pd.DataFrame({'A': ['A0', 'A1', 'A2'], 'B': ['B0', 'B1', 'B2']}, index=['K0', 'K1', 'K2'])\n",
    "right = pd.DataFrame({'C': ['C0', 'C2', 'C3'], 'D': ['D0', 'D2', 'D3']}, index=['K0', 'K2', 'K3'])"
   ]
  },
  {
   "cell_type": "code",
   "execution_count": 156,
   "metadata": {},
   "outputs": [
    {
     "data": {
      "text/html": [
       "<div>\n",
       "<style scoped>\n",
       "    .dataframe tbody tr th:only-of-type {\n",
       "        vertical-align: middle;\n",
       "    }\n",
       "\n",
       "    .dataframe tbody tr th {\n",
       "        vertical-align: top;\n",
       "    }\n",
       "\n",
       "    .dataframe thead th {\n",
       "        text-align: right;\n",
       "    }\n",
       "</style>\n",
       "<table border=\"1\" class=\"dataframe\">\n",
       "  <thead>\n",
       "    <tr style=\"text-align: right;\">\n",
       "      <th></th>\n",
       "      <th>A</th>\n",
       "      <th>B</th>\n",
       "    </tr>\n",
       "  </thead>\n",
       "  <tbody>\n",
       "    <tr>\n",
       "      <th>K0</th>\n",
       "      <td>A0</td>\n",
       "      <td>B0</td>\n",
       "    </tr>\n",
       "    <tr>\n",
       "      <th>K1</th>\n",
       "      <td>A1</td>\n",
       "      <td>B1</td>\n",
       "    </tr>\n",
       "    <tr>\n",
       "      <th>K2</th>\n",
       "      <td>A2</td>\n",
       "      <td>B2</td>\n",
       "    </tr>\n",
       "  </tbody>\n",
       "</table>\n",
       "</div>"
      ],
      "text/plain": [
       "     A   B\n",
       "K0  A0  B0\n",
       "K1  A1  B1\n",
       "K2  A2  B2"
      ]
     },
     "execution_count": 156,
     "metadata": {},
     "output_type": "execute_result"
    }
   ],
   "source": [
    "left"
   ]
  },
  {
   "cell_type": "code",
   "execution_count": 157,
   "metadata": {
    "scrolled": true
   },
   "outputs": [
    {
     "data": {
      "text/html": [
       "<div>\n",
       "<style scoped>\n",
       "    .dataframe tbody tr th:only-of-type {\n",
       "        vertical-align: middle;\n",
       "    }\n",
       "\n",
       "    .dataframe tbody tr th {\n",
       "        vertical-align: top;\n",
       "    }\n",
       "\n",
       "    .dataframe thead th {\n",
       "        text-align: right;\n",
       "    }\n",
       "</style>\n",
       "<table border=\"1\" class=\"dataframe\">\n",
       "  <thead>\n",
       "    <tr style=\"text-align: right;\">\n",
       "      <th></th>\n",
       "      <th>C</th>\n",
       "      <th>D</th>\n",
       "    </tr>\n",
       "  </thead>\n",
       "  <tbody>\n",
       "    <tr>\n",
       "      <th>K0</th>\n",
       "      <td>C0</td>\n",
       "      <td>D0</td>\n",
       "    </tr>\n",
       "    <tr>\n",
       "      <th>K2</th>\n",
       "      <td>C2</td>\n",
       "      <td>D2</td>\n",
       "    </tr>\n",
       "    <tr>\n",
       "      <th>K3</th>\n",
       "      <td>C3</td>\n",
       "      <td>D3</td>\n",
       "    </tr>\n",
       "  </tbody>\n",
       "</table>\n",
       "</div>"
      ],
      "text/plain": [
       "     C   D\n",
       "K0  C0  D0\n",
       "K2  C2  D2\n",
       "K3  C3  D3"
      ]
     },
     "execution_count": 157,
     "metadata": {},
     "output_type": "execute_result"
    }
   ],
   "source": [
    "right"
   ]
  },
  {
   "cell_type": "code",
   "execution_count": 158,
   "metadata": {
    "scrolled": true,
    "slideshow": {
     "slide_type": "-"
    }
   },
   "outputs": [
    {
     "data": {
      "text/html": [
       "<div>\n",
       "<style scoped>\n",
       "    .dataframe tbody tr th:only-of-type {\n",
       "        vertical-align: middle;\n",
       "    }\n",
       "\n",
       "    .dataframe tbody tr th {\n",
       "        vertical-align: top;\n",
       "    }\n",
       "\n",
       "    .dataframe thead th {\n",
       "        text-align: right;\n",
       "    }\n",
       "</style>\n",
       "<table border=\"1\" class=\"dataframe\">\n",
       "  <thead>\n",
       "    <tr style=\"text-align: right;\">\n",
       "      <th></th>\n",
       "      <th>A</th>\n",
       "      <th>B</th>\n",
       "      <th>C</th>\n",
       "      <th>D</th>\n",
       "    </tr>\n",
       "  </thead>\n",
       "  <tbody>\n",
       "    <tr>\n",
       "      <th>K0</th>\n",
       "      <td>A0</td>\n",
       "      <td>B0</td>\n",
       "      <td>C0</td>\n",
       "      <td>D0</td>\n",
       "    </tr>\n",
       "    <tr>\n",
       "      <th>K1</th>\n",
       "      <td>A1</td>\n",
       "      <td>B1</td>\n",
       "      <td>NaN</td>\n",
       "      <td>NaN</td>\n",
       "    </tr>\n",
       "    <tr>\n",
       "      <th>K2</th>\n",
       "      <td>A2</td>\n",
       "      <td>B2</td>\n",
       "      <td>C2</td>\n",
       "      <td>D2</td>\n",
       "    </tr>\n",
       "  </tbody>\n",
       "</table>\n",
       "</div>"
      ],
      "text/plain": [
       "     A   B    C    D\n",
       "K0  A0  B0   C0   D0\n",
       "K1  A1  B1  NaN  NaN\n",
       "K2  A2  B2   C2   D2"
      ]
     },
     "execution_count": 158,
     "metadata": {},
     "output_type": "execute_result"
    }
   ],
   "source": [
    "left.join(right) # how='left' "
   ]
  },
  {
   "cell_type": "code",
   "execution_count": 159,
   "metadata": {
    "slideshow": {
     "slide_type": "subslide"
    }
   },
   "outputs": [
    {
     "data": {
      "text/html": [
       "<div>\n",
       "<style scoped>\n",
       "    .dataframe tbody tr th:only-of-type {\n",
       "        vertical-align: middle;\n",
       "    }\n",
       "\n",
       "    .dataframe tbody tr th {\n",
       "        vertical-align: top;\n",
       "    }\n",
       "\n",
       "    .dataframe thead th {\n",
       "        text-align: right;\n",
       "    }\n",
       "</style>\n",
       "<table border=\"1\" class=\"dataframe\">\n",
       "  <thead>\n",
       "    <tr style=\"text-align: right;\">\n",
       "      <th></th>\n",
       "      <th>A</th>\n",
       "      <th>B</th>\n",
       "      <th>C</th>\n",
       "      <th>D</th>\n",
       "    </tr>\n",
       "  </thead>\n",
       "  <tbody>\n",
       "    <tr>\n",
       "      <th>K0</th>\n",
       "      <td>A0</td>\n",
       "      <td>B0</td>\n",
       "      <td>C0</td>\n",
       "      <td>D0</td>\n",
       "    </tr>\n",
       "    <tr>\n",
       "      <th>K1</th>\n",
       "      <td>A1</td>\n",
       "      <td>B1</td>\n",
       "      <td>NaN</td>\n",
       "      <td>NaN</td>\n",
       "    </tr>\n",
       "    <tr>\n",
       "      <th>K2</th>\n",
       "      <td>A2</td>\n",
       "      <td>B2</td>\n",
       "      <td>C2</td>\n",
       "      <td>D2</td>\n",
       "    </tr>\n",
       "  </tbody>\n",
       "</table>\n",
       "</div>"
      ],
      "text/plain": [
       "     A   B    C    D\n",
       "K0  A0  B0   C0   D0\n",
       "K1  A1  B1  NaN  NaN\n",
       "K2  A2  B2   C2   D2"
      ]
     },
     "execution_count": 159,
     "metadata": {},
     "output_type": "execute_result"
    }
   ],
   "source": [
    "left.join(right, how='left')"
   ]
  },
  {
   "cell_type": "code",
   "execution_count": 73,
   "metadata": {
    "slideshow": {
     "slide_type": "-"
    }
   },
   "outputs": [
    {
     "data": {
      "text/html": [
       "<div>\n",
       "<style scoped>\n",
       "    .dataframe tbody tr th:only-of-type {\n",
       "        vertical-align: middle;\n",
       "    }\n",
       "\n",
       "    .dataframe tbody tr th {\n",
       "        vertical-align: top;\n",
       "    }\n",
       "\n",
       "    .dataframe thead th {\n",
       "        text-align: right;\n",
       "    }\n",
       "</style>\n",
       "<table border=\"1\" class=\"dataframe\">\n",
       "  <thead>\n",
       "    <tr style=\"text-align: right;\">\n",
       "      <th></th>\n",
       "      <th>A</th>\n",
       "      <th>B</th>\n",
       "      <th>C</th>\n",
       "      <th>D</th>\n",
       "    </tr>\n",
       "  </thead>\n",
       "  <tbody>\n",
       "    <tr>\n",
       "      <th>K0</th>\n",
       "      <td>A0</td>\n",
       "      <td>B0</td>\n",
       "      <td>C0</td>\n",
       "      <td>D0</td>\n",
       "    </tr>\n",
       "    <tr>\n",
       "      <th>K2</th>\n",
       "      <td>A2</td>\n",
       "      <td>B2</td>\n",
       "      <td>C2</td>\n",
       "      <td>D2</td>\n",
       "    </tr>\n",
       "    <tr>\n",
       "      <th>K3</th>\n",
       "      <td>NaN</td>\n",
       "      <td>NaN</td>\n",
       "      <td>C3</td>\n",
       "      <td>D3</td>\n",
       "    </tr>\n",
       "  </tbody>\n",
       "</table>\n",
       "</div>"
      ],
      "text/plain": [
       "      A    B   C   D\n",
       "K0   A0   B0  C0  D0\n",
       "K2   A2   B2  C2  D2\n",
       "K3  NaN  NaN  C3  D3"
      ]
     },
     "execution_count": 73,
     "metadata": {},
     "output_type": "execute_result"
    }
   ],
   "source": [
    "left.join(right, how='right')"
   ]
  },
  {
   "cell_type": "code",
   "execution_count": 74,
   "metadata": {
    "slideshow": {
     "slide_type": "-"
    }
   },
   "outputs": [
    {
     "data": {
      "text/html": [
       "<div>\n",
       "<style scoped>\n",
       "    .dataframe tbody tr th:only-of-type {\n",
       "        vertical-align: middle;\n",
       "    }\n",
       "\n",
       "    .dataframe tbody tr th {\n",
       "        vertical-align: top;\n",
       "    }\n",
       "\n",
       "    .dataframe thead th {\n",
       "        text-align: right;\n",
       "    }\n",
       "</style>\n",
       "<table border=\"1\" class=\"dataframe\">\n",
       "  <thead>\n",
       "    <tr style=\"text-align: right;\">\n",
       "      <th></th>\n",
       "      <th>A</th>\n",
       "      <th>B</th>\n",
       "      <th>C</th>\n",
       "      <th>D</th>\n",
       "    </tr>\n",
       "  </thead>\n",
       "  <tbody>\n",
       "    <tr>\n",
       "      <th>K0</th>\n",
       "      <td>A0</td>\n",
       "      <td>B0</td>\n",
       "      <td>C0</td>\n",
       "      <td>D0</td>\n",
       "    </tr>\n",
       "    <tr>\n",
       "      <th>K2</th>\n",
       "      <td>A2</td>\n",
       "      <td>B2</td>\n",
       "      <td>C2</td>\n",
       "      <td>D2</td>\n",
       "    </tr>\n",
       "  </tbody>\n",
       "</table>\n",
       "</div>"
      ],
      "text/plain": [
       "     A   B   C   D\n",
       "K0  A0  B0  C0  D0\n",
       "K2  A2  B2  C2  D2"
      ]
     },
     "execution_count": 74,
     "metadata": {},
     "output_type": "execute_result"
    }
   ],
   "source": [
    "left.join(right, how='inner')"
   ]
  },
  {
   "cell_type": "code",
   "execution_count": 75,
   "metadata": {
    "scrolled": false,
    "slideshow": {
     "slide_type": "-"
    }
   },
   "outputs": [
    {
     "data": {
      "text/html": [
       "<div>\n",
       "<style scoped>\n",
       "    .dataframe tbody tr th:only-of-type {\n",
       "        vertical-align: middle;\n",
       "    }\n",
       "\n",
       "    .dataframe tbody tr th {\n",
       "        vertical-align: top;\n",
       "    }\n",
       "\n",
       "    .dataframe thead th {\n",
       "        text-align: right;\n",
       "    }\n",
       "</style>\n",
       "<table border=\"1\" class=\"dataframe\">\n",
       "  <thead>\n",
       "    <tr style=\"text-align: right;\">\n",
       "      <th></th>\n",
       "      <th>A</th>\n",
       "      <th>B</th>\n",
       "      <th>C</th>\n",
       "      <th>D</th>\n",
       "    </tr>\n",
       "  </thead>\n",
       "  <tbody>\n",
       "    <tr>\n",
       "      <th>K0</th>\n",
       "      <td>A0</td>\n",
       "      <td>B0</td>\n",
       "      <td>C0</td>\n",
       "      <td>D0</td>\n",
       "    </tr>\n",
       "    <tr>\n",
       "      <th>K1</th>\n",
       "      <td>A1</td>\n",
       "      <td>B1</td>\n",
       "      <td>NaN</td>\n",
       "      <td>NaN</td>\n",
       "    </tr>\n",
       "    <tr>\n",
       "      <th>K2</th>\n",
       "      <td>A2</td>\n",
       "      <td>B2</td>\n",
       "      <td>C2</td>\n",
       "      <td>D2</td>\n",
       "    </tr>\n",
       "    <tr>\n",
       "      <th>K3</th>\n",
       "      <td>NaN</td>\n",
       "      <td>NaN</td>\n",
       "      <td>C3</td>\n",
       "      <td>D3</td>\n",
       "    </tr>\n",
       "  </tbody>\n",
       "</table>\n",
       "</div>"
      ],
      "text/plain": [
       "      A    B    C    D\n",
       "K0   A0   B0   C0   D0\n",
       "K1   A1   B1  NaN  NaN\n",
       "K2   A2   B2   C2   D2\n",
       "K3  NaN  NaN   C3   D3"
      ]
     },
     "execution_count": 75,
     "metadata": {},
     "output_type": "execute_result"
    }
   ],
   "source": [
    "left.join(right, how='outer')"
   ]
  },
  {
   "cell_type": "markdown",
   "metadata": {
    "slideshow": {
     "slide_type": "slide"
    }
   },
   "source": [
    "<h3 align=\"center\">სტატისტიკის მეთოდები</h3>\n",
    "\n",
    "| მეთოდი              | აღწერა                                                         |\n",
    "|:---------------------|:---------------------------------------------------------------|\n",
    "| DataFrame.mean()     | აბრუნებს საშუალო მნიშვნელობებს ყოველივე სვეტისთვის |\n",
    "| DataFrame.corr()     | აბრუნებს სვეტებს შორის კორელაციის მნიშვნელობებს |\n",
    "| DataFrame.count()    | აბრუნებს არაცარიელ მნიშვნელობათა რაოდენობას თითოეულ სვეტისთვის|\n",
    "| DataFrame.max()      | აბრუნებს მაქსიმალურ მნიშვნელობას თითოეულ სვეტისთვის |\n",
    "| DataFrame.min()      | აბრუნებს მინიმალურ მნიშვნელობას თითოეულ სვეტისთვის |\n",
    "| DataFrame.median()   | აბრუნებს მედიანის მნიშვნელობას თითოეულ სვეტისთვის|\n",
    "| DataFrame.std()      | აბრუნებს საშუალო კვადრატული გადახრის მნიშვნელობას თითოეულ სვეტისთვის |"
   ]
  },
  {
   "cell_type": "code",
   "execution_count": 76,
   "metadata": {
    "scrolled": true,
    "slideshow": {
     "slide_type": "subslide"
    }
   },
   "outputs": [
    {
     "data": {
      "text/plain": [
       "Temperature [C]      32.571429\n",
       "Precipitation [%]    18.571429\n",
       "Humidity [%]         34.000000\n",
       "Wind [km/h]          16.857143\n",
       "dtype: float64"
      ]
     },
     "execution_count": 76,
     "metadata": {},
     "output_type": "execute_result"
    }
   ],
   "source": [
    "# DataFrame.mean()\n",
    "# აბრუნებს საშუალო მნიშვნელობებს ყოველივე სვეტისთვის\n",
    "df.mean()"
   ]
  },
  {
   "cell_type": "code",
   "execution_count": 77,
   "metadata": {
    "scrolled": false,
    "slideshow": {
     "slide_type": "-"
    }
   },
   "outputs": [
    {
     "data": {
      "text/html": [
       "<div>\n",
       "<style scoped>\n",
       "    .dataframe tbody tr th:only-of-type {\n",
       "        vertical-align: middle;\n",
       "    }\n",
       "\n",
       "    .dataframe tbody tr th {\n",
       "        vertical-align: top;\n",
       "    }\n",
       "\n",
       "    .dataframe thead th {\n",
       "        text-align: right;\n",
       "    }\n",
       "</style>\n",
       "<table border=\"1\" class=\"dataframe\">\n",
       "  <thead>\n",
       "    <tr style=\"text-align: right;\">\n",
       "      <th></th>\n",
       "      <th>Temperature [C]</th>\n",
       "      <th>Outlook</th>\n",
       "      <th>Precipitation [%]</th>\n",
       "      <th>Humidity [%]</th>\n",
       "      <th>Wind [km/h]</th>\n",
       "    </tr>\n",
       "  </thead>\n",
       "  <tbody>\n",
       "    <tr>\n",
       "      <th>2020-06-14</th>\n",
       "      <td>33</td>\n",
       "      <td>Isolated thunderstorms</td>\n",
       "      <td>60</td>\n",
       "      <td>43</td>\n",
       "      <td>10</td>\n",
       "    </tr>\n",
       "    <tr>\n",
       "      <th>2020-06-15</th>\n",
       "      <td>33</td>\n",
       "      <td>Partly cloudy</td>\n",
       "      <td>10</td>\n",
       "      <td>34</td>\n",
       "      <td>14</td>\n",
       "    </tr>\n",
       "    <tr>\n",
       "      <th>2020-06-16</th>\n",
       "      <td>34</td>\n",
       "      <td>Mostly sunny</td>\n",
       "      <td>0</td>\n",
       "      <td>29</td>\n",
       "      <td>19</td>\n",
       "    </tr>\n",
       "    <tr>\n",
       "      <th>2020-06-17</th>\n",
       "      <td>33</td>\n",
       "      <td>Partly cloudy</td>\n",
       "      <td>10</td>\n",
       "      <td>36</td>\n",
       "      <td>16</td>\n",
       "    </tr>\n",
       "    <tr>\n",
       "      <th>2020-06-18</th>\n",
       "      <td>32</td>\n",
       "      <td>Partly cloudy</td>\n",
       "      <td>20</td>\n",
       "      <td>35</td>\n",
       "      <td>21</td>\n",
       "    </tr>\n",
       "    <tr>\n",
       "      <th>2020-06-19</th>\n",
       "      <td>31</td>\n",
       "      <td>Mostly sunny</td>\n",
       "      <td>20</td>\n",
       "      <td>32</td>\n",
       "      <td>19</td>\n",
       "    </tr>\n",
       "    <tr>\n",
       "      <th>2020-06-20</th>\n",
       "      <td>32</td>\n",
       "      <td>Mostly sunny</td>\n",
       "      <td>10</td>\n",
       "      <td>29</td>\n",
       "      <td>19</td>\n",
       "    </tr>\n",
       "  </tbody>\n",
       "</table>\n",
       "</div>"
      ],
      "text/plain": [
       "            Temperature [C]                 Outlook  Precipitation [%]  \\\n",
       "2020-06-14               33  Isolated thunderstorms                 60   \n",
       "2020-06-15               33           Partly cloudy                 10   \n",
       "2020-06-16               34            Mostly sunny                  0   \n",
       "2020-06-17               33           Partly cloudy                 10   \n",
       "2020-06-18               32           Partly cloudy                 20   \n",
       "2020-06-19               31            Mostly sunny                 20   \n",
       "2020-06-20               32            Mostly sunny                 10   \n",
       "\n",
       "            Humidity [%]  Wind [km/h]  \n",
       "2020-06-14            43           10  \n",
       "2020-06-15            34           14  \n",
       "2020-06-16            29           19  \n",
       "2020-06-17            36           16  \n",
       "2020-06-18            35           21  \n",
       "2020-06-19            32           19  \n",
       "2020-06-20            29           19  "
      ]
     },
     "execution_count": 77,
     "metadata": {},
     "output_type": "execute_result"
    }
   ],
   "source": [
    "df"
   ]
  },
  {
   "cell_type": "code",
   "execution_count": 78,
   "metadata": {
    "scrolled": false,
    "slideshow": {
     "slide_type": "subslide"
    }
   },
   "outputs": [
    {
     "data": {
      "text/html": [
       "<div>\n",
       "<style scoped>\n",
       "    .dataframe tbody tr th:only-of-type {\n",
       "        vertical-align: middle;\n",
       "    }\n",
       "\n",
       "    .dataframe tbody tr th {\n",
       "        vertical-align: top;\n",
       "    }\n",
       "\n",
       "    .dataframe thead th {\n",
       "        text-align: right;\n",
       "    }\n",
       "</style>\n",
       "<table border=\"1\" class=\"dataframe\">\n",
       "  <thead>\n",
       "    <tr style=\"text-align: right;\">\n",
       "      <th></th>\n",
       "      <th>Temperature [C]</th>\n",
       "      <th>Precipitation [%]</th>\n",
       "      <th>Humidity [%]</th>\n",
       "      <th>Wind [km/h]</th>\n",
       "    </tr>\n",
       "  </thead>\n",
       "  <tbody>\n",
       "    <tr>\n",
       "      <th>Temperature [C]</th>\n",
       "      <td>1.000000</td>\n",
       "      <td>-0.125000</td>\n",
       "      <td>0.106066</td>\n",
       "      <td>-0.378330</td>\n",
       "    </tr>\n",
       "    <tr>\n",
       "      <th>Precipitation [%]</th>\n",
       "      <td>-0.125000</td>\n",
       "      <td>1.000000</td>\n",
       "      <td>0.866206</td>\n",
       "      <td>-0.676504</td>\n",
       "    </tr>\n",
       "    <tr>\n",
       "      <th>Humidity [%]</th>\n",
       "      <td>0.106066</td>\n",
       "      <td>0.866206</td>\n",
       "      <td>1.000000</td>\n",
       "      <td>-0.770819</td>\n",
       "    </tr>\n",
       "    <tr>\n",
       "      <th>Wind [km/h]</th>\n",
       "      <td>-0.378330</td>\n",
       "      <td>-0.676504</td>\n",
       "      <td>-0.770819</td>\n",
       "      <td>1.000000</td>\n",
       "    </tr>\n",
       "  </tbody>\n",
       "</table>\n",
       "</div>"
      ],
      "text/plain": [
       "                   Temperature [C]  Precipitation [%]  Humidity [%]  \\\n",
       "Temperature [C]           1.000000          -0.125000      0.106066   \n",
       "Precipitation [%]        -0.125000           1.000000      0.866206   \n",
       "Humidity [%]              0.106066           0.866206      1.000000   \n",
       "Wind [km/h]              -0.378330          -0.676504     -0.770819   \n",
       "\n",
       "                   Wind [km/h]  \n",
       "Temperature [C]      -0.378330  \n",
       "Precipitation [%]    -0.676504  \n",
       "Humidity [%]         -0.770819  \n",
       "Wind [km/h]           1.000000  "
      ]
     },
     "execution_count": 78,
     "metadata": {},
     "output_type": "execute_result"
    }
   ],
   "source": [
    "# DataFrame.corr()\n",
    "# აბრუნებს სვეტებს შორის კორელაციის მნიშვნელობებს\n",
    "df.corr()"
   ]
  },
  {
   "cell_type": "code",
   "execution_count": 79,
   "metadata": {
    "scrolled": true,
    "slideshow": {
     "slide_type": "-"
    }
   },
   "outputs": [
    {
     "data": {
      "text/html": [
       "<div>\n",
       "<style scoped>\n",
       "    .dataframe tbody tr th:only-of-type {\n",
       "        vertical-align: middle;\n",
       "    }\n",
       "\n",
       "    .dataframe tbody tr th {\n",
       "        vertical-align: top;\n",
       "    }\n",
       "\n",
       "    .dataframe thead th {\n",
       "        text-align: right;\n",
       "    }\n",
       "</style>\n",
       "<table border=\"1\" class=\"dataframe\">\n",
       "  <thead>\n",
       "    <tr style=\"text-align: right;\">\n",
       "      <th></th>\n",
       "      <th>Temperature [C]</th>\n",
       "      <th>Outlook</th>\n",
       "      <th>Precipitation [%]</th>\n",
       "      <th>Humidity [%]</th>\n",
       "      <th>Wind [km/h]</th>\n",
       "    </tr>\n",
       "  </thead>\n",
       "  <tbody>\n",
       "    <tr>\n",
       "      <th>2020-06-14</th>\n",
       "      <td>33</td>\n",
       "      <td>Isolated thunderstorms</td>\n",
       "      <td>60</td>\n",
       "      <td>43</td>\n",
       "      <td>10</td>\n",
       "    </tr>\n",
       "    <tr>\n",
       "      <th>2020-06-15</th>\n",
       "      <td>33</td>\n",
       "      <td>Partly cloudy</td>\n",
       "      <td>10</td>\n",
       "      <td>34</td>\n",
       "      <td>14</td>\n",
       "    </tr>\n",
       "    <tr>\n",
       "      <th>2020-06-16</th>\n",
       "      <td>34</td>\n",
       "      <td>Mostly sunny</td>\n",
       "      <td>0</td>\n",
       "      <td>29</td>\n",
       "      <td>19</td>\n",
       "    </tr>\n",
       "    <tr>\n",
       "      <th>2020-06-17</th>\n",
       "      <td>33</td>\n",
       "      <td>Partly cloudy</td>\n",
       "      <td>10</td>\n",
       "      <td>36</td>\n",
       "      <td>16</td>\n",
       "    </tr>\n",
       "    <tr>\n",
       "      <th>2020-06-18</th>\n",
       "      <td>32</td>\n",
       "      <td>Partly cloudy</td>\n",
       "      <td>20</td>\n",
       "      <td>35</td>\n",
       "      <td>21</td>\n",
       "    </tr>\n",
       "    <tr>\n",
       "      <th>2020-06-19</th>\n",
       "      <td>31</td>\n",
       "      <td>Mostly sunny</td>\n",
       "      <td>20</td>\n",
       "      <td>32</td>\n",
       "      <td>19</td>\n",
       "    </tr>\n",
       "    <tr>\n",
       "      <th>2020-06-20</th>\n",
       "      <td>32</td>\n",
       "      <td>Mostly sunny</td>\n",
       "      <td>10</td>\n",
       "      <td>29</td>\n",
       "      <td>19</td>\n",
       "    </tr>\n",
       "  </tbody>\n",
       "</table>\n",
       "</div>"
      ],
      "text/plain": [
       "            Temperature [C]                 Outlook  Precipitation [%]  \\\n",
       "2020-06-14               33  Isolated thunderstorms                 60   \n",
       "2020-06-15               33           Partly cloudy                 10   \n",
       "2020-06-16               34            Mostly sunny                  0   \n",
       "2020-06-17               33           Partly cloudy                 10   \n",
       "2020-06-18               32           Partly cloudy                 20   \n",
       "2020-06-19               31            Mostly sunny                 20   \n",
       "2020-06-20               32            Mostly sunny                 10   \n",
       "\n",
       "            Humidity [%]  Wind [km/h]  \n",
       "2020-06-14            43           10  \n",
       "2020-06-15            34           14  \n",
       "2020-06-16            29           19  \n",
       "2020-06-17            36           16  \n",
       "2020-06-18            35           21  \n",
       "2020-06-19            32           19  \n",
       "2020-06-20            29           19  "
      ]
     },
     "execution_count": 79,
     "metadata": {},
     "output_type": "execute_result"
    }
   ],
   "source": [
    "df"
   ]
  },
  {
   "cell_type": "code",
   "execution_count": 160,
   "metadata": {
    "slideshow": {
     "slide_type": "subslide"
    }
   },
   "outputs": [
    {
     "data": {
      "text/plain": [
       "A    1\n",
       "B    3\n",
       "C    1\n",
       "D    4\n",
       "dtype: int64"
      ]
     },
     "execution_count": 160,
     "metadata": {},
     "output_type": "execute_result"
    }
   ],
   "source": [
    "# DataFrame.count()\n",
    "# აბრუნებს არაცარიელ მნიშვნელობათა რაოდენობას თითოეულ სვეტისთვის\n",
    "df2.count()"
   ]
  },
  {
   "cell_type": "code",
   "execution_count": 81,
   "metadata": {
    "scrolled": true,
    "slideshow": {
     "slide_type": "-"
    }
   },
   "outputs": [
    {
     "data": {
      "text/html": [
       "<div>\n",
       "<style scoped>\n",
       "    .dataframe tbody tr th:only-of-type {\n",
       "        vertical-align: middle;\n",
       "    }\n",
       "\n",
       "    .dataframe tbody tr th {\n",
       "        vertical-align: top;\n",
       "    }\n",
       "\n",
       "    .dataframe thead th {\n",
       "        text-align: right;\n",
       "    }\n",
       "</style>\n",
       "<table border=\"1\" class=\"dataframe\">\n",
       "  <thead>\n",
       "    <tr style=\"text-align: right;\">\n",
       "      <th></th>\n",
       "      <th>Temperature [C]</th>\n",
       "      <th>Outlook</th>\n",
       "      <th>Precipitation [%]</th>\n",
       "      <th>Humidity [%]</th>\n",
       "      <th>Wind [km/h]</th>\n",
       "    </tr>\n",
       "  </thead>\n",
       "  <tbody>\n",
       "    <tr>\n",
       "      <th>2020-06-14</th>\n",
       "      <td>33</td>\n",
       "      <td>Isolated thunderstorms</td>\n",
       "      <td>60</td>\n",
       "      <td>43</td>\n",
       "      <td>10</td>\n",
       "    </tr>\n",
       "    <tr>\n",
       "      <th>2020-06-15</th>\n",
       "      <td>33</td>\n",
       "      <td>Partly cloudy</td>\n",
       "      <td>10</td>\n",
       "      <td>34</td>\n",
       "      <td>14</td>\n",
       "    </tr>\n",
       "    <tr>\n",
       "      <th>2020-06-16</th>\n",
       "      <td>34</td>\n",
       "      <td>Mostly sunny</td>\n",
       "      <td>0</td>\n",
       "      <td>29</td>\n",
       "      <td>19</td>\n",
       "    </tr>\n",
       "    <tr>\n",
       "      <th>2020-06-17</th>\n",
       "      <td>33</td>\n",
       "      <td>Partly cloudy</td>\n",
       "      <td>10</td>\n",
       "      <td>36</td>\n",
       "      <td>16</td>\n",
       "    </tr>\n",
       "    <tr>\n",
       "      <th>2020-06-18</th>\n",
       "      <td>32</td>\n",
       "      <td>Partly cloudy</td>\n",
       "      <td>20</td>\n",
       "      <td>35</td>\n",
       "      <td>21</td>\n",
       "    </tr>\n",
       "    <tr>\n",
       "      <th>2020-06-19</th>\n",
       "      <td>31</td>\n",
       "      <td>Mostly sunny</td>\n",
       "      <td>20</td>\n",
       "      <td>32</td>\n",
       "      <td>19</td>\n",
       "    </tr>\n",
       "    <tr>\n",
       "      <th>2020-06-20</th>\n",
       "      <td>32</td>\n",
       "      <td>Mostly sunny</td>\n",
       "      <td>10</td>\n",
       "      <td>29</td>\n",
       "      <td>19</td>\n",
       "    </tr>\n",
       "  </tbody>\n",
       "</table>\n",
       "</div>"
      ],
      "text/plain": [
       "            Temperature [C]                 Outlook  Precipitation [%]  \\\n",
       "2020-06-14               33  Isolated thunderstorms                 60   \n",
       "2020-06-15               33           Partly cloudy                 10   \n",
       "2020-06-16               34            Mostly sunny                  0   \n",
       "2020-06-17               33           Partly cloudy                 10   \n",
       "2020-06-18               32           Partly cloudy                 20   \n",
       "2020-06-19               31            Mostly sunny                 20   \n",
       "2020-06-20               32            Mostly sunny                 10   \n",
       "\n",
       "            Humidity [%]  Wind [km/h]  \n",
       "2020-06-14            43           10  \n",
       "2020-06-15            34           14  \n",
       "2020-06-16            29           19  \n",
       "2020-06-17            36           16  \n",
       "2020-06-18            35           21  \n",
       "2020-06-19            32           19  \n",
       "2020-06-20            29           19  "
      ]
     },
     "execution_count": 81,
     "metadata": {},
     "output_type": "execute_result"
    }
   ],
   "source": [
    "df"
   ]
  },
  {
   "cell_type": "code",
   "execution_count": 82,
   "metadata": {
    "scrolled": true,
    "slideshow": {
     "slide_type": "subslide"
    }
   },
   "outputs": [
    {
     "data": {
      "text/plain": [
       "Temperature [C]                 34\n",
       "Outlook              Partly cloudy\n",
       "Precipitation [%]               60\n",
       "Humidity [%]                    43\n",
       "Wind [km/h]                     21\n",
       "dtype: object"
      ]
     },
     "execution_count": 82,
     "metadata": {},
     "output_type": "execute_result"
    }
   ],
   "source": [
    "# DataFrame.max()\n",
    "# აბრუნებს მაქსიმალურ მნიშვნელობას თითოეულ სვეტისთვის\n",
    "df.max()"
   ]
  },
  {
   "cell_type": "code",
   "execution_count": 83,
   "metadata": {
    "scrolled": true,
    "slideshow": {
     "slide_type": "-"
    }
   },
   "outputs": [
    {
     "data": {
      "text/html": [
       "<div>\n",
       "<style scoped>\n",
       "    .dataframe tbody tr th:only-of-type {\n",
       "        vertical-align: middle;\n",
       "    }\n",
       "\n",
       "    .dataframe tbody tr th {\n",
       "        vertical-align: top;\n",
       "    }\n",
       "\n",
       "    .dataframe thead th {\n",
       "        text-align: right;\n",
       "    }\n",
       "</style>\n",
       "<table border=\"1\" class=\"dataframe\">\n",
       "  <thead>\n",
       "    <tr style=\"text-align: right;\">\n",
       "      <th></th>\n",
       "      <th>Temperature [C]</th>\n",
       "      <th>Outlook</th>\n",
       "      <th>Precipitation [%]</th>\n",
       "      <th>Humidity [%]</th>\n",
       "      <th>Wind [km/h]</th>\n",
       "    </tr>\n",
       "  </thead>\n",
       "  <tbody>\n",
       "    <tr>\n",
       "      <th>2020-06-14</th>\n",
       "      <td>33</td>\n",
       "      <td>Isolated thunderstorms</td>\n",
       "      <td>60</td>\n",
       "      <td>43</td>\n",
       "      <td>10</td>\n",
       "    </tr>\n",
       "    <tr>\n",
       "      <th>2020-06-15</th>\n",
       "      <td>33</td>\n",
       "      <td>Partly cloudy</td>\n",
       "      <td>10</td>\n",
       "      <td>34</td>\n",
       "      <td>14</td>\n",
       "    </tr>\n",
       "    <tr>\n",
       "      <th>2020-06-16</th>\n",
       "      <td>34</td>\n",
       "      <td>Mostly sunny</td>\n",
       "      <td>0</td>\n",
       "      <td>29</td>\n",
       "      <td>19</td>\n",
       "    </tr>\n",
       "    <tr>\n",
       "      <th>2020-06-17</th>\n",
       "      <td>33</td>\n",
       "      <td>Partly cloudy</td>\n",
       "      <td>10</td>\n",
       "      <td>36</td>\n",
       "      <td>16</td>\n",
       "    </tr>\n",
       "    <tr>\n",
       "      <th>2020-06-18</th>\n",
       "      <td>32</td>\n",
       "      <td>Partly cloudy</td>\n",
       "      <td>20</td>\n",
       "      <td>35</td>\n",
       "      <td>21</td>\n",
       "    </tr>\n",
       "    <tr>\n",
       "      <th>2020-06-19</th>\n",
       "      <td>31</td>\n",
       "      <td>Mostly sunny</td>\n",
       "      <td>20</td>\n",
       "      <td>32</td>\n",
       "      <td>19</td>\n",
       "    </tr>\n",
       "    <tr>\n",
       "      <th>2020-06-20</th>\n",
       "      <td>32</td>\n",
       "      <td>Mostly sunny</td>\n",
       "      <td>10</td>\n",
       "      <td>29</td>\n",
       "      <td>19</td>\n",
       "    </tr>\n",
       "  </tbody>\n",
       "</table>\n",
       "</div>"
      ],
      "text/plain": [
       "            Temperature [C]                 Outlook  Precipitation [%]  \\\n",
       "2020-06-14               33  Isolated thunderstorms                 60   \n",
       "2020-06-15               33           Partly cloudy                 10   \n",
       "2020-06-16               34            Mostly sunny                  0   \n",
       "2020-06-17               33           Partly cloudy                 10   \n",
       "2020-06-18               32           Partly cloudy                 20   \n",
       "2020-06-19               31            Mostly sunny                 20   \n",
       "2020-06-20               32            Mostly sunny                 10   \n",
       "\n",
       "            Humidity [%]  Wind [km/h]  \n",
       "2020-06-14            43           10  \n",
       "2020-06-15            34           14  \n",
       "2020-06-16            29           19  \n",
       "2020-06-17            36           16  \n",
       "2020-06-18            35           21  \n",
       "2020-06-19            32           19  \n",
       "2020-06-20            29           19  "
      ]
     },
     "execution_count": 83,
     "metadata": {},
     "output_type": "execute_result"
    }
   ],
   "source": [
    "df"
   ]
  },
  {
   "cell_type": "code",
   "execution_count": 84,
   "metadata": {
    "scrolled": true,
    "slideshow": {
     "slide_type": "subslide"
    }
   },
   "outputs": [
    {
     "data": {
      "text/plain": [
       "Temperature [C]                          31\n",
       "Outlook              Isolated thunderstorms\n",
       "Precipitation [%]                         0\n",
       "Humidity [%]                             29\n",
       "Wind [km/h]                              10\n",
       "dtype: object"
      ]
     },
     "execution_count": 84,
     "metadata": {},
     "output_type": "execute_result"
    }
   ],
   "source": [
    "# DataFrame.min()\n",
    "# აბრუნებს მინიმალურ მნიშვნელობას თითოეულ სვეტისთვის\n",
    "df.min()"
   ]
  },
  {
   "cell_type": "code",
   "execution_count": 85,
   "metadata": {
    "scrolled": true,
    "slideshow": {
     "slide_type": "-"
    }
   },
   "outputs": [
    {
     "data": {
      "text/html": [
       "<div>\n",
       "<style scoped>\n",
       "    .dataframe tbody tr th:only-of-type {\n",
       "        vertical-align: middle;\n",
       "    }\n",
       "\n",
       "    .dataframe tbody tr th {\n",
       "        vertical-align: top;\n",
       "    }\n",
       "\n",
       "    .dataframe thead th {\n",
       "        text-align: right;\n",
       "    }\n",
       "</style>\n",
       "<table border=\"1\" class=\"dataframe\">\n",
       "  <thead>\n",
       "    <tr style=\"text-align: right;\">\n",
       "      <th></th>\n",
       "      <th>Temperature [C]</th>\n",
       "      <th>Outlook</th>\n",
       "      <th>Precipitation [%]</th>\n",
       "      <th>Humidity [%]</th>\n",
       "      <th>Wind [km/h]</th>\n",
       "    </tr>\n",
       "  </thead>\n",
       "  <tbody>\n",
       "    <tr>\n",
       "      <th>2020-06-14</th>\n",
       "      <td>33</td>\n",
       "      <td>Isolated thunderstorms</td>\n",
       "      <td>60</td>\n",
       "      <td>43</td>\n",
       "      <td>10</td>\n",
       "    </tr>\n",
       "    <tr>\n",
       "      <th>2020-06-15</th>\n",
       "      <td>33</td>\n",
       "      <td>Partly cloudy</td>\n",
       "      <td>10</td>\n",
       "      <td>34</td>\n",
       "      <td>14</td>\n",
       "    </tr>\n",
       "    <tr>\n",
       "      <th>2020-06-16</th>\n",
       "      <td>34</td>\n",
       "      <td>Mostly sunny</td>\n",
       "      <td>0</td>\n",
       "      <td>29</td>\n",
       "      <td>19</td>\n",
       "    </tr>\n",
       "    <tr>\n",
       "      <th>2020-06-17</th>\n",
       "      <td>33</td>\n",
       "      <td>Partly cloudy</td>\n",
       "      <td>10</td>\n",
       "      <td>36</td>\n",
       "      <td>16</td>\n",
       "    </tr>\n",
       "    <tr>\n",
       "      <th>2020-06-18</th>\n",
       "      <td>32</td>\n",
       "      <td>Partly cloudy</td>\n",
       "      <td>20</td>\n",
       "      <td>35</td>\n",
       "      <td>21</td>\n",
       "    </tr>\n",
       "    <tr>\n",
       "      <th>2020-06-19</th>\n",
       "      <td>31</td>\n",
       "      <td>Mostly sunny</td>\n",
       "      <td>20</td>\n",
       "      <td>32</td>\n",
       "      <td>19</td>\n",
       "    </tr>\n",
       "    <tr>\n",
       "      <th>2020-06-20</th>\n",
       "      <td>32</td>\n",
       "      <td>Mostly sunny</td>\n",
       "      <td>10</td>\n",
       "      <td>29</td>\n",
       "      <td>19</td>\n",
       "    </tr>\n",
       "  </tbody>\n",
       "</table>\n",
       "</div>"
      ],
      "text/plain": [
       "            Temperature [C]                 Outlook  Precipitation [%]  \\\n",
       "2020-06-14               33  Isolated thunderstorms                 60   \n",
       "2020-06-15               33           Partly cloudy                 10   \n",
       "2020-06-16               34            Mostly sunny                  0   \n",
       "2020-06-17               33           Partly cloudy                 10   \n",
       "2020-06-18               32           Partly cloudy                 20   \n",
       "2020-06-19               31            Mostly sunny                 20   \n",
       "2020-06-20               32            Mostly sunny                 10   \n",
       "\n",
       "            Humidity [%]  Wind [km/h]  \n",
       "2020-06-14            43           10  \n",
       "2020-06-15            34           14  \n",
       "2020-06-16            29           19  \n",
       "2020-06-17            36           16  \n",
       "2020-06-18            35           21  \n",
       "2020-06-19            32           19  \n",
       "2020-06-20            29           19  "
      ]
     },
     "execution_count": 85,
     "metadata": {},
     "output_type": "execute_result"
    }
   ],
   "source": [
    "df"
   ]
  },
  {
   "cell_type": "code",
   "execution_count": 86,
   "metadata": {
    "scrolled": true,
    "slideshow": {
     "slide_type": "subslide"
    }
   },
   "outputs": [
    {
     "data": {
      "text/plain": [
       "Temperature [C]      33.0\n",
       "Precipitation [%]    10.0\n",
       "Humidity [%]         34.0\n",
       "Wind [km/h]          19.0\n",
       "dtype: float64"
      ]
     },
     "execution_count": 86,
     "metadata": {},
     "output_type": "execute_result"
    }
   ],
   "source": [
    "#DataFrame.median()\n",
    "# აბრუნებს მედიანის მნიშვნელობას თითოეულ სვეტისთვის\n",
    "df.median()"
   ]
  },
  {
   "cell_type": "code",
   "execution_count": 87,
   "metadata": {
    "scrolled": true,
    "slideshow": {
     "slide_type": "-"
    }
   },
   "outputs": [
    {
     "data": {
      "text/html": [
       "<div>\n",
       "<style scoped>\n",
       "    .dataframe tbody tr th:only-of-type {\n",
       "        vertical-align: middle;\n",
       "    }\n",
       "\n",
       "    .dataframe tbody tr th {\n",
       "        vertical-align: top;\n",
       "    }\n",
       "\n",
       "    .dataframe thead th {\n",
       "        text-align: right;\n",
       "    }\n",
       "</style>\n",
       "<table border=\"1\" class=\"dataframe\">\n",
       "  <thead>\n",
       "    <tr style=\"text-align: right;\">\n",
       "      <th></th>\n",
       "      <th>Temperature [C]</th>\n",
       "      <th>Outlook</th>\n",
       "      <th>Precipitation [%]</th>\n",
       "      <th>Humidity [%]</th>\n",
       "      <th>Wind [km/h]</th>\n",
       "    </tr>\n",
       "  </thead>\n",
       "  <tbody>\n",
       "    <tr>\n",
       "      <th>2020-06-14</th>\n",
       "      <td>33</td>\n",
       "      <td>Isolated thunderstorms</td>\n",
       "      <td>60</td>\n",
       "      <td>43</td>\n",
       "      <td>10</td>\n",
       "    </tr>\n",
       "    <tr>\n",
       "      <th>2020-06-15</th>\n",
       "      <td>33</td>\n",
       "      <td>Partly cloudy</td>\n",
       "      <td>10</td>\n",
       "      <td>34</td>\n",
       "      <td>14</td>\n",
       "    </tr>\n",
       "    <tr>\n",
       "      <th>2020-06-16</th>\n",
       "      <td>34</td>\n",
       "      <td>Mostly sunny</td>\n",
       "      <td>0</td>\n",
       "      <td>29</td>\n",
       "      <td>19</td>\n",
       "    </tr>\n",
       "    <tr>\n",
       "      <th>2020-06-17</th>\n",
       "      <td>33</td>\n",
       "      <td>Partly cloudy</td>\n",
       "      <td>10</td>\n",
       "      <td>36</td>\n",
       "      <td>16</td>\n",
       "    </tr>\n",
       "    <tr>\n",
       "      <th>2020-06-18</th>\n",
       "      <td>32</td>\n",
       "      <td>Partly cloudy</td>\n",
       "      <td>20</td>\n",
       "      <td>35</td>\n",
       "      <td>21</td>\n",
       "    </tr>\n",
       "    <tr>\n",
       "      <th>2020-06-19</th>\n",
       "      <td>31</td>\n",
       "      <td>Mostly sunny</td>\n",
       "      <td>20</td>\n",
       "      <td>32</td>\n",
       "      <td>19</td>\n",
       "    </tr>\n",
       "    <tr>\n",
       "      <th>2020-06-20</th>\n",
       "      <td>32</td>\n",
       "      <td>Mostly sunny</td>\n",
       "      <td>10</td>\n",
       "      <td>29</td>\n",
       "      <td>19</td>\n",
       "    </tr>\n",
       "  </tbody>\n",
       "</table>\n",
       "</div>"
      ],
      "text/plain": [
       "            Temperature [C]                 Outlook  Precipitation [%]  \\\n",
       "2020-06-14               33  Isolated thunderstorms                 60   \n",
       "2020-06-15               33           Partly cloudy                 10   \n",
       "2020-06-16               34            Mostly sunny                  0   \n",
       "2020-06-17               33           Partly cloudy                 10   \n",
       "2020-06-18               32           Partly cloudy                 20   \n",
       "2020-06-19               31            Mostly sunny                 20   \n",
       "2020-06-20               32            Mostly sunny                 10   \n",
       "\n",
       "            Humidity [%]  Wind [km/h]  \n",
       "2020-06-14            43           10  \n",
       "2020-06-15            34           14  \n",
       "2020-06-16            29           19  \n",
       "2020-06-17            36           16  \n",
       "2020-06-18            35           21  \n",
       "2020-06-19            32           19  \n",
       "2020-06-20            29           19  "
      ]
     },
     "execution_count": 87,
     "metadata": {},
     "output_type": "execute_result"
    }
   ],
   "source": [
    "df"
   ]
  },
  {
   "cell_type": "code",
   "execution_count": 88,
   "metadata": {
    "scrolled": true,
    "slideshow": {
     "slide_type": "subslide"
    }
   },
   "outputs": [
    {
     "data": {
      "text/plain": [
       "Temperature [C]       0.975900\n",
       "Precipitation [%]    19.518001\n",
       "Humidity [%]          4.830459\n",
       "Wind [km/h]           3.804759\n",
       "dtype: float64"
      ]
     },
     "execution_count": 88,
     "metadata": {},
     "output_type": "execute_result"
    }
   ],
   "source": [
    "# DataFrame.std()\n",
    "# აბრუნებს საშუალო კვადრატული გადახრის მნიშვნელობას თითოეულ სვეტისთვის\n",
    "df.std()\n"
   ]
  },
  {
   "cell_type": "code",
   "execution_count": 89,
   "metadata": {
    "scrolled": true,
    "slideshow": {
     "slide_type": "-"
    }
   },
   "outputs": [
    {
     "data": {
      "text/html": [
       "<div>\n",
       "<style scoped>\n",
       "    .dataframe tbody tr th:only-of-type {\n",
       "        vertical-align: middle;\n",
       "    }\n",
       "\n",
       "    .dataframe tbody tr th {\n",
       "        vertical-align: top;\n",
       "    }\n",
       "\n",
       "    .dataframe thead th {\n",
       "        text-align: right;\n",
       "    }\n",
       "</style>\n",
       "<table border=\"1\" class=\"dataframe\">\n",
       "  <thead>\n",
       "    <tr style=\"text-align: right;\">\n",
       "      <th></th>\n",
       "      <th>Temperature [C]</th>\n",
       "      <th>Outlook</th>\n",
       "      <th>Precipitation [%]</th>\n",
       "      <th>Humidity [%]</th>\n",
       "      <th>Wind [km/h]</th>\n",
       "    </tr>\n",
       "  </thead>\n",
       "  <tbody>\n",
       "    <tr>\n",
       "      <th>2020-06-14</th>\n",
       "      <td>33</td>\n",
       "      <td>Isolated thunderstorms</td>\n",
       "      <td>60</td>\n",
       "      <td>43</td>\n",
       "      <td>10</td>\n",
       "    </tr>\n",
       "    <tr>\n",
       "      <th>2020-06-15</th>\n",
       "      <td>33</td>\n",
       "      <td>Partly cloudy</td>\n",
       "      <td>10</td>\n",
       "      <td>34</td>\n",
       "      <td>14</td>\n",
       "    </tr>\n",
       "    <tr>\n",
       "      <th>2020-06-16</th>\n",
       "      <td>34</td>\n",
       "      <td>Mostly sunny</td>\n",
       "      <td>0</td>\n",
       "      <td>29</td>\n",
       "      <td>19</td>\n",
       "    </tr>\n",
       "    <tr>\n",
       "      <th>2020-06-17</th>\n",
       "      <td>33</td>\n",
       "      <td>Partly cloudy</td>\n",
       "      <td>10</td>\n",
       "      <td>36</td>\n",
       "      <td>16</td>\n",
       "    </tr>\n",
       "    <tr>\n",
       "      <th>2020-06-18</th>\n",
       "      <td>32</td>\n",
       "      <td>Partly cloudy</td>\n",
       "      <td>20</td>\n",
       "      <td>35</td>\n",
       "      <td>21</td>\n",
       "    </tr>\n",
       "    <tr>\n",
       "      <th>2020-06-19</th>\n",
       "      <td>31</td>\n",
       "      <td>Mostly sunny</td>\n",
       "      <td>20</td>\n",
       "      <td>32</td>\n",
       "      <td>19</td>\n",
       "    </tr>\n",
       "    <tr>\n",
       "      <th>2020-06-20</th>\n",
       "      <td>32</td>\n",
       "      <td>Mostly sunny</td>\n",
       "      <td>10</td>\n",
       "      <td>29</td>\n",
       "      <td>19</td>\n",
       "    </tr>\n",
       "  </tbody>\n",
       "</table>\n",
       "</div>"
      ],
      "text/plain": [
       "            Temperature [C]                 Outlook  Precipitation [%]  \\\n",
       "2020-06-14               33  Isolated thunderstorms                 60   \n",
       "2020-06-15               33           Partly cloudy                 10   \n",
       "2020-06-16               34            Mostly sunny                  0   \n",
       "2020-06-17               33           Partly cloudy                 10   \n",
       "2020-06-18               32           Partly cloudy                 20   \n",
       "2020-06-19               31            Mostly sunny                 20   \n",
       "2020-06-20               32            Mostly sunny                 10   \n",
       "\n",
       "            Humidity [%]  Wind [km/h]  \n",
       "2020-06-14            43           10  \n",
       "2020-06-15            34           14  \n",
       "2020-06-16            29           19  \n",
       "2020-06-17            36           16  \n",
       "2020-06-18            35           21  \n",
       "2020-06-19            32           19  \n",
       "2020-06-20            29           19  "
      ]
     },
     "execution_count": 89,
     "metadata": {},
     "output_type": "execute_result"
    }
   ],
   "source": [
    "df"
   ]
  },
  {
   "cell_type": "markdown",
   "metadata": {
    "slideshow": {
     "slide_type": "slide"
    }
   },
   "source": [
    "<h3 align=\"center\">მონაცემთა იმპორტირება</h3>\n",
    "\n",
    "- **Pandas** შეუძლია ჩატვირთოს პრაქტიკულად ყველა ტიპის ფორმატს მონაცემთა ფაილი:\n",
    "  1. Comma-separated values (CSV)\n",
    "  2. XLSX\n",
    "  4. Plain Text (txt)\n",
    "  5. JSON\n",
    "  6. XML\n",
    "  7. HTML\n",
    "  8. SQL\n",
    "  9. PDF\n",
    "  \n",
    "- იხილეთ უფრო დაწვრილებითი ინფორმაციისთვის:\n",
    "\n",
    "  https://pandas.pydata.org/pandas-docs/stable/reference/io.html"
   ]
  },
  {
   "cell_type": "code",
   "execution_count": 161,
   "metadata": {
    "scrolled": false,
    "slideshow": {
     "slide_type": "subslide"
    }
   },
   "outputs": [
    {
     "ename": "TypeError",
     "evalue": "read_excel() got an unexpected keyword argument 'encoding'",
     "output_type": "error",
     "traceback": [
      "\u001b[1;31m---------------------------------------------------------------------------\u001b[0m",
      "\u001b[1;31mTypeError\u001b[0m                                 Traceback (most recent call last)",
      "\u001b[1;32m<ipython-input-161-5e0e52220ecb>\u001b[0m in \u001b[0;36m<module>\u001b[1;34m\u001b[0m\n\u001b[0;32m      1\u001b[0m \u001b[1;31m# Excel-ის ფაილის იმპორტირება\u001b[0m\u001b[1;33m\u001b[0m\u001b[1;33m\u001b[0m\u001b[1;33m\u001b[0m\u001b[0m\n\u001b[1;32m----> 2\u001b[1;33m \u001b[0mexcel_df\u001b[0m \u001b[1;33m=\u001b[0m \u001b[0mpd\u001b[0m\u001b[1;33m.\u001b[0m\u001b[0mread_excel\u001b[0m\u001b[1;33m(\u001b[0m\u001b[1;34m'./Grades.xlsx'\u001b[0m\u001b[1;33m,\u001b[0m \u001b[0mencoding\u001b[0m\u001b[1;33m=\u001b[0m\u001b[1;34m'utf-8'\u001b[0m\u001b[1;33m,\u001b[0m \u001b[0msheet_name\u001b[0m\u001b[1;33m=\u001b[0m\u001b[1;34m'S131'\u001b[0m\u001b[1;33m)\u001b[0m\u001b[1;33m\u001b[0m\u001b[1;33m\u001b[0m\u001b[0m\n\u001b[0m\u001b[0;32m      3\u001b[0m \u001b[0mexcel_df\u001b[0m\u001b[1;33m\u001b[0m\u001b[1;33m\u001b[0m\u001b[0m\n",
      "\u001b[1;32mC:\\Anaconda3\\lib\\site-packages\\pandas\\util\\_decorators.py\u001b[0m in \u001b[0;36mwrapper\u001b[1;34m(*args, **kwargs)\u001b[0m\n\u001b[0;32m    294\u001b[0m                 )\n\u001b[0;32m    295\u001b[0m                 \u001b[0mwarnings\u001b[0m\u001b[1;33m.\u001b[0m\u001b[0mwarn\u001b[0m\u001b[1;33m(\u001b[0m\u001b[0mmsg\u001b[0m\u001b[1;33m,\u001b[0m \u001b[0mFutureWarning\u001b[0m\u001b[1;33m,\u001b[0m \u001b[0mstacklevel\u001b[0m\u001b[1;33m=\u001b[0m\u001b[0mstacklevel\u001b[0m\u001b[1;33m)\u001b[0m\u001b[1;33m\u001b[0m\u001b[1;33m\u001b[0m\u001b[0m\n\u001b[1;32m--> 296\u001b[1;33m             \u001b[1;32mreturn\u001b[0m \u001b[0mfunc\u001b[0m\u001b[1;33m(\u001b[0m\u001b[1;33m*\u001b[0m\u001b[0margs\u001b[0m\u001b[1;33m,\u001b[0m \u001b[1;33m**\u001b[0m\u001b[0mkwargs\u001b[0m\u001b[1;33m)\u001b[0m\u001b[1;33m\u001b[0m\u001b[1;33m\u001b[0m\u001b[0m\n\u001b[0m\u001b[0;32m    297\u001b[0m \u001b[1;33m\u001b[0m\u001b[0m\n\u001b[0;32m    298\u001b[0m         \u001b[1;32mreturn\u001b[0m \u001b[0mwrapper\u001b[0m\u001b[1;33m\u001b[0m\u001b[1;33m\u001b[0m\u001b[0m\n",
      "\u001b[1;31mTypeError\u001b[0m: read_excel() got an unexpected keyword argument 'encoding'"
     ]
    }
   ],
   "source": [
    "# Excel-ის ფაილის იმპორტირება\n",
    "excel_df = pd.read_excel('./Grades.xlsx', encoding='utf-8', sheet_name='S131')\n",
    "excel_df"
   ]
  },
  {
   "cell_type": "code",
   "execution_count": null,
   "metadata": {},
   "outputs": [],
   "source": [
    "pd.re"
   ]
  },
  {
   "cell_type": "code",
   "execution_count": 91,
   "metadata": {
    "scrolled": true,
    "slideshow": {
     "slide_type": "subslide"
    }
   },
   "outputs": [
    {
     "data": {
      "text/html": [
       "<div>\n",
       "<style scoped>\n",
       "    .dataframe tbody tr th:only-of-type {\n",
       "        vertical-align: middle;\n",
       "    }\n",
       "\n",
       "    .dataframe tbody tr th {\n",
       "        vertical-align: top;\n",
       "    }\n",
       "\n",
       "    .dataframe thead th {\n",
       "        text-align: right;\n",
       "    }\n",
       "</style>\n",
       "<table border=\"1\" class=\"dataframe\">\n",
       "  <thead>\n",
       "    <tr style=\"text-align: right;\">\n",
       "      <th></th>\n",
       "      <th>Berri 1</th>\n",
       "      <th>Brébeuf (données non disponibles)</th>\n",
       "      <th>Côte-Sainte-Catherine</th>\n",
       "      <th>Maisonneuve 1</th>\n",
       "      <th>Maisonneuve 2</th>\n",
       "      <th>du Parc</th>\n",
       "      <th>Pierre-Dupuy</th>\n",
       "      <th>Rachel1</th>\n",
       "      <th>St-Urbain (données non disponibles)</th>\n",
       "    </tr>\n",
       "    <tr>\n",
       "      <th>Date</th>\n",
       "      <th></th>\n",
       "      <th></th>\n",
       "      <th></th>\n",
       "      <th></th>\n",
       "      <th></th>\n",
       "      <th></th>\n",
       "      <th></th>\n",
       "      <th></th>\n",
       "      <th></th>\n",
       "    </tr>\n",
       "  </thead>\n",
       "  <tbody>\n",
       "    <tr>\n",
       "      <th>2012-01-01</th>\n",
       "      <td>35</td>\n",
       "      <td>NaN</td>\n",
       "      <td>0</td>\n",
       "      <td>38</td>\n",
       "      <td>51</td>\n",
       "      <td>26</td>\n",
       "      <td>10</td>\n",
       "      <td>16</td>\n",
       "      <td>NaN</td>\n",
       "    </tr>\n",
       "    <tr>\n",
       "      <th>2012-01-02</th>\n",
       "      <td>83</td>\n",
       "      <td>NaN</td>\n",
       "      <td>1</td>\n",
       "      <td>68</td>\n",
       "      <td>153</td>\n",
       "      <td>53</td>\n",
       "      <td>6</td>\n",
       "      <td>43</td>\n",
       "      <td>NaN</td>\n",
       "    </tr>\n",
       "    <tr>\n",
       "      <th>2012-01-03</th>\n",
       "      <td>135</td>\n",
       "      <td>NaN</td>\n",
       "      <td>2</td>\n",
       "      <td>104</td>\n",
       "      <td>248</td>\n",
       "      <td>89</td>\n",
       "      <td>3</td>\n",
       "      <td>58</td>\n",
       "      <td>NaN</td>\n",
       "    </tr>\n",
       "    <tr>\n",
       "      <th>2012-01-04</th>\n",
       "      <td>144</td>\n",
       "      <td>NaN</td>\n",
       "      <td>1</td>\n",
       "      <td>116</td>\n",
       "      <td>318</td>\n",
       "      <td>111</td>\n",
       "      <td>8</td>\n",
       "      <td>61</td>\n",
       "      <td>NaN</td>\n",
       "    </tr>\n",
       "    <tr>\n",
       "      <th>2012-01-05</th>\n",
       "      <td>197</td>\n",
       "      <td>NaN</td>\n",
       "      <td>2</td>\n",
       "      <td>124</td>\n",
       "      <td>330</td>\n",
       "      <td>97</td>\n",
       "      <td>13</td>\n",
       "      <td>95</td>\n",
       "      <td>NaN</td>\n",
       "    </tr>\n",
       "  </tbody>\n",
       "</table>\n",
       "</div>"
      ],
      "text/plain": [
       "            Berri 1  Brébeuf (données non disponibles)  Côte-Sainte-Catherine  \\\n",
       "Date                                                                            \n",
       "2012-01-01       35                                NaN                      0   \n",
       "2012-01-02       83                                NaN                      1   \n",
       "2012-01-03      135                                NaN                      2   \n",
       "2012-01-04      144                                NaN                      1   \n",
       "2012-01-05      197                                NaN                      2   \n",
       "\n",
       "            Maisonneuve 1  Maisonneuve 2  du Parc  Pierre-Dupuy  Rachel1  \\\n",
       "Date                                                                       \n",
       "2012-01-01             38             51       26            10       16   \n",
       "2012-01-02             68            153       53             6       43   \n",
       "2012-01-03            104            248       89             3       58   \n",
       "2012-01-04            116            318      111             8       61   \n",
       "2012-01-05            124            330       97            13       95   \n",
       "\n",
       "            St-Urbain (données non disponibles)  \n",
       "Date                                             \n",
       "2012-01-01                                  NaN  \n",
       "2012-01-02                                  NaN  \n",
       "2012-01-03                                  NaN  \n",
       "2012-01-04                                  NaN  \n",
       "2012-01-05                                  NaN  "
      ]
     },
     "execution_count": 91,
     "metadata": {},
     "output_type": "execute_result"
    }
   ],
   "source": [
    "csv_df = pd.read_csv('data/bikes.csv',\n",
    "                 sep=';', \n",
    "                 encoding='latin1',\n",
    "                 parse_dates=['Date'], \n",
    "                 dayfirst=True,\n",
    "                 index_col='Date')\n",
    "csv_df[:5]"
   ]
  },
  {
   "cell_type": "code",
   "execution_count": 92,
   "metadata": {
    "scrolled": true,
    "slideshow": {
     "slide_type": "subslide"
    }
   },
   "outputs": [
    {
     "data": {
      "text/plain": [
       "<matplotlib.axes._subplots.AxesSubplot at 0x2284995cdd8>"
      ]
     },
     "execution_count": 92,
     "metadata": {},
     "output_type": "execute_result"
    },
    {
     "data": {
      "image/png": "[encoded data removed]",
      "text/plain": [
       "<Figure size 432x288 with 1 Axes>"
      ]
     },
     "metadata": {
      "needs_background": "light"
     },
     "output_type": "display_data"
    }
   ],
   "source": [
    "csv_df['Berri 1'].plot()"
   ]
  },
  {
   "cell_type": "code",
   "execution_count": 93,
   "metadata": {
    "scrolled": false,
    "slideshow": {
     "slide_type": "subslide"
    }
   },
   "outputs": [
    {
     "data": {
      "text/plain": [
       "<matplotlib.axes._subplots.AxesSubplot at 0x22849a92940>"
      ]
     },
     "execution_count": 93,
     "metadata": {},
     "output_type": "execute_result"
    },
    {
     "data": {
      "image/png": "[encoded data removed]",
      "text/plain": [
       "<Figure size 1080x720 with 1 Axes>"
      ]
     },
     "metadata": {
      "needs_background": "light"
     },
     "output_type": "display_data"
    }
   ],
   "source": [
    "csv_df.plot(figsize=(15, 10))"
   ]
  },
  {
   "cell_type": "markdown",
   "metadata": {
    "slideshow": {
     "slide_type": "slide"
    }
   },
   "source": [
    "<h3 align=\"center\">მონაცემთა ექსპორტირება</h3>"
   ]
  },
  {
   "cell_type": "code",
   "execution_count": 94,
   "metadata": {
    "scrolled": true,
    "slideshow": {
     "slide_type": "-"
    }
   },
   "outputs": [],
   "source": [
    "data = {\n",
    "    'CHN': {'COUNTRY': 'China', 'POP': 1_398.72, 'AREA': 9_596.96, 'GDP': 12_234.78, 'CONT': 'Asia'},\n",
    "    'IND': {'COUNTRY': 'India', 'POP': 1_351.16, 'AREA': 3_287.26, 'GDP': 2_575.67, 'CONT': 'Asia', 'IND_DAY': '1947-08-15'},\n",
    "    'USA': {'COUNTRY': 'US', 'POP': 329.74, 'AREA': 9_833.52, 'GDP': 19_485.39, 'CONT': 'N.America', 'IND_DAY': '1776-07-04'},\n",
    "    'IDN': {'COUNTRY': 'Indonesia', 'POP': 268.07, 'AREA': 1_910.93, 'GDP': 1_015.54, 'CONT': 'Asia', 'IND_DAY': '1945-08-17'},\n",
    "    'BRA': {'COUNTRY': 'Brazil', 'POP': 210.32, 'AREA': 8_515.77, 'GDP': 2_055.51, 'CONT': 'S.America', 'IND_DAY': '1822-09-07'},\n",
    "    'PAK': {'COUNTRY': 'Pakistan', 'POP': 205.71, 'AREA': 881.91, 'GDP': 302.14, 'CONT': 'Asia', 'IND_DAY': '1947-08-14'},\n",
    "    'NGA': {'COUNTRY': 'Nigeria', 'POP': 200.96, 'AREA': 923.77, 'GDP': 375.77, 'CONT': 'Africa', 'IND_DAY': '1960-10-01'},\n",
    "    'BGD': {'COUNTRY': 'Bangladesh', 'POP': 167.09, 'AREA': 147.57, 'GDP': 245.63, 'CONT': 'Asia', 'IND_DAY': '1971-03-26'},\n",
    "    'RUS': {'COUNTRY': 'Russia', 'POP': 146.79, 'AREA': 17_098.25, 'GDP': 1_530.75, 'IND_DAY': '1992-06-12'},\n",
    "    'MEX': {'COUNTRY': 'Mexico', 'POP': 126.58, 'AREA': 1_964.38, 'GDP': 1_158.23, 'CONT': 'N.America', 'IND_DAY': '1810-09-16'},\n",
    "    'JPN': {'COUNTRY': 'Japan', 'POP': 126.22, 'AREA': 377.97, 'GDP': 4_872.42, 'CONT': 'Asia'},\n",
    "    'DEU': {'COUNTRY': 'Germany', 'POP': 83.02, 'AREA': 357.11, 'GDP': 3_693.20, 'CONT': 'Europe'},\n",
    "    'FRA': {'COUNTRY': 'France', 'POP': 67.02, 'AREA': 640.68, 'GDP': 2_582.49, 'CONT': 'Europe', 'IND_DAY': '1789-07-14'},\n",
    "    'GBR': {'COUNTRY': 'UK', 'POP': 66.44, 'AREA': 242.50, 'GDP': 2_631.23, 'CONT': 'Europe'},\n",
    "    'ITA': {'COUNTRY': 'Italy', 'POP': 60.36, 'AREA': 301.34, 'GDP': 1_943.84, 'CONT': 'Europe'},\n",
    "    'ARG': {'COUNTRY': 'Argentina', 'POP': 44.94, 'AREA': 2_780.40, 'GDP': 637.49, 'CONT': 'S.America', 'IND_DAY': '1816-07-09'},\n",
    "    'DZA': {'COUNTRY': 'Algeria', 'POP': 43.38, 'AREA': 2_381.74, 'GDP': 167.56, 'CONT': 'Africa', 'IND_DAY': '1962-07-05'},\n",
    "    'CAN': {'COUNTRY': 'Canada', 'POP': 37.59, 'AREA': 9_984.67, 'GDP': 1_647.12, 'CONT': 'N.America', 'IND_DAY': '1867-07-01'},\n",
    "    'AUS': {'COUNTRY': 'Australia', 'POP': 25.47, 'AREA': 7_692.02, 'GDP': 1_408.68, 'CONT': 'Oceania'},\n",
    "    'KAZ': {'COUNTRY': 'Kazakhstan', 'POP': 18.53, 'AREA': 2_724.90, 'GDP': 159.41, 'CONT': 'Asia', 'IND_DAY': '1991-12-16'}\n",
    "}"
   ]
  },
  {
   "cell_type": "code",
   "execution_count": 95,
   "metadata": {
    "slideshow": {
     "slide_type": "subslide"
    }
   },
   "outputs": [
    {
     "data": {
      "text/html": [
       "<div>\n",
       "<style scoped>\n",
       "    .dataframe tbody tr th:only-of-type {\n",
       "        vertical-align: middle;\n",
       "    }\n",
       "\n",
       "    .dataframe tbody tr th {\n",
       "        vertical-align: top;\n",
       "    }\n",
       "\n",
       "    .dataframe thead th {\n",
       "        text-align: right;\n",
       "    }\n",
       "</style>\n",
       "<table border=\"1\" class=\"dataframe\">\n",
       "  <thead>\n",
       "    <tr style=\"text-align: right;\">\n",
       "      <th></th>\n",
       "      <th>AREA</th>\n",
       "      <th>CONT</th>\n",
       "      <th>COUNTRY</th>\n",
       "      <th>GDP</th>\n",
       "      <th>IND_DAY</th>\n",
       "      <th>POP</th>\n",
       "    </tr>\n",
       "  </thead>\n",
       "  <tbody>\n",
       "    <tr>\n",
       "      <th>CHN</th>\n",
       "      <td>9596.96</td>\n",
       "      <td>Asia</td>\n",
       "      <td>China</td>\n",
       "      <td>12234.8</td>\n",
       "      <td>NaN</td>\n",
       "      <td>1398.72</td>\n",
       "    </tr>\n",
       "    <tr>\n",
       "      <th>IND</th>\n",
       "      <td>3287.26</td>\n",
       "      <td>Asia</td>\n",
       "      <td>India</td>\n",
       "      <td>2575.67</td>\n",
       "      <td>1947-08-15</td>\n",
       "      <td>1351.16</td>\n",
       "    </tr>\n",
       "    <tr>\n",
       "      <th>USA</th>\n",
       "      <td>9833.52</td>\n",
       "      <td>N.America</td>\n",
       "      <td>US</td>\n",
       "      <td>19485.4</td>\n",
       "      <td>1776-07-04</td>\n",
       "      <td>329.74</td>\n",
       "    </tr>\n",
       "    <tr>\n",
       "      <th>IDN</th>\n",
       "      <td>1910.93</td>\n",
       "      <td>Asia</td>\n",
       "      <td>Indonesia</td>\n",
       "      <td>1015.54</td>\n",
       "      <td>1945-08-17</td>\n",
       "      <td>268.07</td>\n",
       "    </tr>\n",
       "    <tr>\n",
       "      <th>BRA</th>\n",
       "      <td>8515.77</td>\n",
       "      <td>S.America</td>\n",
       "      <td>Brazil</td>\n",
       "      <td>2055.51</td>\n",
       "      <td>1822-09-07</td>\n",
       "      <td>210.32</td>\n",
       "    </tr>\n",
       "    <tr>\n",
       "      <th>PAK</th>\n",
       "      <td>881.91</td>\n",
       "      <td>Asia</td>\n",
       "      <td>Pakistan</td>\n",
       "      <td>302.14</td>\n",
       "      <td>1947-08-14</td>\n",
       "      <td>205.71</td>\n",
       "    </tr>\n",
       "    <tr>\n",
       "      <th>NGA</th>\n",
       "      <td>923.77</td>\n",
       "      <td>Africa</td>\n",
       "      <td>Nigeria</td>\n",
       "      <td>375.77</td>\n",
       "      <td>1960-10-01</td>\n",
       "      <td>200.96</td>\n",
       "    </tr>\n",
       "    <tr>\n",
       "      <th>BGD</th>\n",
       "      <td>147.57</td>\n",
       "      <td>Asia</td>\n",
       "      <td>Bangladesh</td>\n",
       "      <td>245.63</td>\n",
       "      <td>1971-03-26</td>\n",
       "      <td>167.09</td>\n",
       "    </tr>\n",
       "    <tr>\n",
       "      <th>RUS</th>\n",
       "      <td>17098.2</td>\n",
       "      <td>NaN</td>\n",
       "      <td>Russia</td>\n",
       "      <td>1530.75</td>\n",
       "      <td>1992-06-12</td>\n",
       "      <td>146.79</td>\n",
       "    </tr>\n",
       "    <tr>\n",
       "      <th>MEX</th>\n",
       "      <td>1964.38</td>\n",
       "      <td>N.America</td>\n",
       "      <td>Mexico</td>\n",
       "      <td>1158.23</td>\n",
       "      <td>1810-09-16</td>\n",
       "      <td>126.58</td>\n",
       "    </tr>\n",
       "    <tr>\n",
       "      <th>JPN</th>\n",
       "      <td>377.97</td>\n",
       "      <td>Asia</td>\n",
       "      <td>Japan</td>\n",
       "      <td>4872.42</td>\n",
       "      <td>NaN</td>\n",
       "      <td>126.22</td>\n",
       "    </tr>\n",
       "    <tr>\n",
       "      <th>DEU</th>\n",
       "      <td>357.11</td>\n",
       "      <td>Europe</td>\n",
       "      <td>Germany</td>\n",
       "      <td>3693.2</td>\n",
       "      <td>NaN</td>\n",
       "      <td>83.02</td>\n",
       "    </tr>\n",
       "    <tr>\n",
       "      <th>FRA</th>\n",
       "      <td>640.68</td>\n",
       "      <td>Europe</td>\n",
       "      <td>France</td>\n",
       "      <td>2582.49</td>\n",
       "      <td>1789-07-14</td>\n",
       "      <td>67.02</td>\n",
       "    </tr>\n",
       "    <tr>\n",
       "      <th>GBR</th>\n",
       "      <td>242.5</td>\n",
       "      <td>Europe</td>\n",
       "      <td>UK</td>\n",
       "      <td>2631.23</td>\n",
       "      <td>NaN</td>\n",
       "      <td>66.44</td>\n",
       "    </tr>\n",
       "    <tr>\n",
       "      <th>ITA</th>\n",
       "      <td>301.34</td>\n",
       "      <td>Europe</td>\n",
       "      <td>Italy</td>\n",
       "      <td>1943.84</td>\n",
       "      <td>NaN</td>\n",
       "      <td>60.36</td>\n",
       "    </tr>\n",
       "    <tr>\n",
       "      <th>ARG</th>\n",
       "      <td>2780.4</td>\n",
       "      <td>S.America</td>\n",
       "      <td>Argentina</td>\n",
       "      <td>637.49</td>\n",
       "      <td>1816-07-09</td>\n",
       "      <td>44.94</td>\n",
       "    </tr>\n",
       "    <tr>\n",
       "      <th>DZA</th>\n",
       "      <td>2381.74</td>\n",
       "      <td>Africa</td>\n",
       "      <td>Algeria</td>\n",
       "      <td>167.56</td>\n",
       "      <td>1962-07-05</td>\n",
       "      <td>43.38</td>\n",
       "    </tr>\n",
       "    <tr>\n",
       "      <th>CAN</th>\n",
       "      <td>9984.67</td>\n",
       "      <td>N.America</td>\n",
       "      <td>Canada</td>\n",
       "      <td>1647.12</td>\n",
       "      <td>1867-07-01</td>\n",
       "      <td>37.59</td>\n",
       "    </tr>\n",
       "    <tr>\n",
       "      <th>AUS</th>\n",
       "      <td>7692.02</td>\n",
       "      <td>Oceania</td>\n",
       "      <td>Australia</td>\n",
       "      <td>1408.68</td>\n",
       "      <td>NaN</td>\n",
       "      <td>25.47</td>\n",
       "    </tr>\n",
       "    <tr>\n",
       "      <th>KAZ</th>\n",
       "      <td>2724.9</td>\n",
       "      <td>Asia</td>\n",
       "      <td>Kazakhstan</td>\n",
       "      <td>159.41</td>\n",
       "      <td>1991-12-16</td>\n",
       "      <td>18.53</td>\n",
       "    </tr>\n",
       "  </tbody>\n",
       "</table>\n",
       "</div>"
      ],
      "text/plain": [
       "        AREA       CONT     COUNTRY      GDP     IND_DAY      POP\n",
       "CHN  9596.96       Asia       China  12234.8         NaN  1398.72\n",
       "IND  3287.26       Asia       India  2575.67  1947-08-15  1351.16\n",
       "USA  9833.52  N.America          US  19485.4  1776-07-04   329.74\n",
       "IDN  1910.93       Asia   Indonesia  1015.54  1945-08-17   268.07\n",
       "BRA  8515.77  S.America      Brazil  2055.51  1822-09-07   210.32\n",
       "PAK   881.91       Asia    Pakistan   302.14  1947-08-14   205.71\n",
       "NGA   923.77     Africa     Nigeria   375.77  1960-10-01   200.96\n",
       "BGD   147.57       Asia  Bangladesh   245.63  1971-03-26   167.09\n",
       "RUS  17098.2        NaN      Russia  1530.75  1992-06-12   146.79\n",
       "MEX  1964.38  N.America      Mexico  1158.23  1810-09-16   126.58\n",
       "JPN   377.97       Asia       Japan  4872.42         NaN   126.22\n",
       "DEU   357.11     Europe     Germany   3693.2         NaN    83.02\n",
       "FRA   640.68     Europe      France  2582.49  1789-07-14    67.02\n",
       "GBR    242.5     Europe          UK  2631.23         NaN    66.44\n",
       "ITA   301.34     Europe       Italy  1943.84         NaN    60.36\n",
       "ARG   2780.4  S.America   Argentina   637.49  1816-07-09    44.94\n",
       "DZA  2381.74     Africa     Algeria   167.56  1962-07-05    43.38\n",
       "CAN  9984.67  N.America      Canada  1647.12  1867-07-01    37.59\n",
       "AUS  7692.02    Oceania   Australia  1408.68         NaN    25.47\n",
       "KAZ   2724.9       Asia  Kazakhstan   159.41  1991-12-16    18.53"
      ]
     },
     "execution_count": 95,
     "metadata": {},
     "output_type": "execute_result"
    }
   ],
   "source": [
    "write_df = pd.DataFrame(data=data).T\n",
    "write_df"
   ]
  },
  {
   "cell_type": "code",
   "execution_count": 96,
   "metadata": {
    "scrolled": true,
    "slideshow": {
     "slide_type": "subslide"
    }
   },
   "outputs": [],
   "source": [
    "# csv-ის ფაილში ექსპორტირება\n",
    "write_df.to_csv('Countries.csv')\n",
    "\n",
    "# Excel-ის ფაილში ექსპორტირება\n",
    "write_df.to_excel('Countries.xlsx')"
   ]
  },
  {
   "cell_type": "markdown",
   "metadata": {
    "slideshow": {
     "slide_type": "slide"
    }
   },
   "source": [
    "<h1 align=\"center\">ლექციის დასასრული</h1>"
   ]
  }
 ],
 "metadata": {
  "celltoolbar": "Slideshow",
  "kernelspec": {
   "display_name": "Python 3",
   "language": "python",
   "name": "python3"
  },
  "language_info": {
   "codemirror_mode": {
    "name": "ipython",
    "version": 3
   },
   "file_extension": ".py",
   "mimetype": "text/x-python",
   "name": "python",
   "nbconvert_exporter": "python",
   "pygments_lexer": "ipython3",
   "version": "3.8.5"
  }
 },
 "nbformat": 4,
 "nbformat_minor": 2
}
