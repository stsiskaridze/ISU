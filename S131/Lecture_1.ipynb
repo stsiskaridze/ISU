{
 "cells": [
  {
   "cell_type": "markdown",
   "metadata": {
    "slideshow": {
     "slide_type": "notes"
    }
   },
   "source": [
    "**S131 - მონაცემთა ანალიზი პითონის გამოყენებით**\n",
    "\n",
    "სათაური: **ლექცია №1: NumPy-ის ბიბლიოთეკა**\n",
    "\n",
    "\n",
    "პედაგოგი: **შოთა ცისკარიძე**"
   ]
  },
  {
   "cell_type": "markdown",
   "metadata": {
    "slideshow": {
     "slide_type": "slide"
    }
   },
   "source": [
    "<h1 align=\"center\">შესავალი</h1>"
   ]
  },
  {
   "cell_type": "markdown",
   "metadata": {
    "slideshow": {
     "slide_type": "slide"
    }
   },
   "source": [
    "<h3 align=\"center\">რატომ Python-ი?</h3>\n",
    "\n",
    "\n",
    "  <img src=\"images/L1_Python_Growth.png\" width=\"800\" align=\"center\"/>"
   ]
  },
  {
   "cell_type": "markdown",
   "metadata": {
    "slideshow": {
     "slide_type": "slide"
    }
   },
   "source": [
    "<h3 align=\"center\">Python-ის ძირითადი ბიბლიოთეკები</h3>\n",
    "\n",
    "**ქვემოთ ჩამოთვლილია Python-ის ძირითადი ბიბლიოთეკები რომლებიც იქნება განხილული ჩვენს კურსში:**\n",
    "\n",
    "- **NumPy** - ღია წყაროს ბიბლიოთეკა, რომელიც შედგება მრავალგანზომილებიანი მასივის ობიექტებისა და მასივის დამუშავების პროცედურების ერთობლიობისაგან: \n",
    "\n",
    "  https://numpy.org/devdocs/user/quickstart.html\n",
    "\n",
    "\n",
    "- **Scipy** - ღია წყაროს ბიბლიოთეკა, რომელიც გამოიყენება სამეცნიერო კომპიუტერული და ტექნიკური გამოთვლებისთვის. \n",
    "\n",
    "  https://www.scipy.org/\n",
    "\n",
    "\n",
    "- **Pandas** - ღია წყაროს ბიბლიოთეკა, რომელიც უზრუნველყოფს Python-ის პროგრამირების ენაზე მაღალი ხარისხის, ადვილად გამოსაყენებელ მონაცემთა სტრუქტურებს და მონაცემთა ანალიზის საშუალებებს:\n",
    "\n",
    "  https://pandas.pydata.org/\n",
    "\n",
    "\n",
    "- **Matplotlib** - ღია წყაროს ბიბლიოთეკა სტატიკური, ანიმაციური და ინტერაქტიული ვიზუალიზაციების შესაქმნელად:\n",
    "\n",
    "  https://matplotlib.org/\n",
    "\n",
    "\n",
    "- **Seaborn** - ბიბლიოთეკა, რომელიც დაფუძნებულია matplotlib ბიბლიოთეკაზე და რომელიც უზრუნველყოფს მაღალი დონის ინტერფეისს მიმზიდველი და ინფორმაციული სტატისტიკური გრაფიკების შესაქმენლად:\n",
    "\n",
    "  https://seaborn.pydata.org/\n"
   ]
  },
  {
   "cell_type": "markdown",
   "metadata": {
    "slideshow": {
     "slide_type": "slide"
    }
   },
   "source": [
    "<h1 align=\"center\">NumPy</h1>"
   ]
  },
  {
   "cell_type": "markdown",
   "metadata": {
    "slideshow": {
     "slide_type": "slide"
    }
   },
   "source": [
    "<h3 align=\"center\">NumPy მოდული</h3>\n",
    "\n",
    "- **NumPy** ნიშნავს **Numerical Python** და წარმოადგენს **Python**-ის ბიბლიოთეკა, რომელშიც მოცემულია მხარდაჭერა:\n",
    "  - დიდი, მრავალგანზომილებიანი მასივებისა და მატრიცებისთვის;\n",
    "  - მაღალი დონის მათემატიკური ფუნქციების დიდი კოლექციისთვის, ამ მასივების დასამუშავებლად.\n",
    "\n",
    "\n",
    "- **NumPy** ბიბლიოთეკა არ შედის **Python**-ის სტანდარტულ მიწოდებაში და უნდა იყოს დაინსტალირებული როგორც ცალკეული პაკეტი ან მოდული:\n",
    "  - **Linux**-ზე **NumPy** მოდული შექმნილია როგორც განაწილების პაკეტი;\n",
    "  - **MacOS**-ისა და **Windows**-ისთვის არსებობს უკვე გამზადებული პროგრამები რომლბიც მოიცავს **Python**-ის ბიბლიოთეკებს სამეცნიერო გამოთვლებისთვის, მაგალითად როგორიც არის Anaconda: https://www.anaconda.com/distribution/\n",
    "    \n",
    "\n",
    "- მოდული ტრადიციულად შემოაქვთ შემედგი კოდით:"
   ]
  },
  {
   "cell_type": "code",
   "execution_count": 307,
   "metadata": {
    "slideshow": {
     "slide_type": "subslide"
    }
   },
   "outputs": [],
   "source": [
    "import numpy as np"
   ]
  },
  {
   "cell_type": "markdown",
   "metadata": {
    "slideshow": {
     "slide_type": "slide"
    }
   },
   "source": [
    "<h3 align=\"center\">ndarray მასივი</h3>\n",
    "\n",
    "- **Numpy** ბიბლიოთეკის ძირითადი მონაცემთა სტრუქტურაა კლასი **ndarray** ($N$-Dimensional Array).\n",
    "\n",
    "\n",
    "- **ndarray** კლასი წარმოადგენს $N$- განზომილებიან მასივს. განზომილებებს ხშირად უწოდებენ ღერძებს (**axis**);\n",
    "\n",
    "\n",
    "- მასივის ყველა ელემენტი უნდა იყოს ერთი და იგივე ტიპის, ანუ ზომით მაისვის ყველა ელემენტი ერთნაირია;\n",
    "\n",
    "\n",
    "- **ndarray** კლასი არის განხორციელებული $C$- ში, რაც უზრუნველყოფს გამოთვლების მაღალ სიჩქარეს;\n",
    "\n",
    "\n",
    "- მონაცემები ინახება $C$- ენის მეხსიერების ბლოკში და შეიცავს $n$-ბაიტი:\n",
    "\n",
    "$$n = \\text{ ელემენტების რაოდენობა მასივში} \\times \\text{ ელემენტის ზომა ბაიტებში}$$\n",
    "\n",
    "\n",
    "- ღერძები გადანომრილია მთელი რიცხვებით დაწყებული ნულიდან. მასივის ელემენტზე წვდომისას მარცხნივ იწერება ჯერ ღერძების ნაკლები ნომრით.\n",
    "\n",
    "\n",
    "- ტრადიციულად **ndarray** მასივი იქმნება **numpy** ბიბლიოთეკის მასივის ფუნქციის გამოყენებით:"
   ]
  },
  {
   "cell_type": "code",
   "execution_count": 53,
   "metadata": {
    "slideshow": {
     "slide_type": "subslide"
    }
   },
   "outputs": [
    {
     "name": "stdout",
     "output_type": "stream",
     "text": [
      "[1 2 3]\n"
     ]
    }
   ],
   "source": [
    "#მაგალითი №1: ერთ განზომილებიანი მასივი\n",
    "\n",
    "a = np.array([1,2,3]) \n",
    "print(a)"
   ]
  },
  {
   "cell_type": "code",
   "execution_count": 52,
   "metadata": {
    "slideshow": {
     "slide_type": "subslide"
    }
   },
   "outputs": [
    {
     "name": "stdout",
     "output_type": "stream",
     "text": [
      "[[1 2]\n",
      " [3 4]]\n"
     ]
    }
   ],
   "source": [
    "#მაგალითი №2: მრავალ განზომილებიანი მასივი\n",
    "\n",
    "a = np.array([[1, 2], [3, 4]]) \n",
    "print(a)"
   ]
  },
  {
   "cell_type": "markdown",
   "metadata": {
    "slideshow": {
     "slide_type": "slide"
    }
   },
   "source": [
    "<h3 align=\"center\">ndarray მასივის პარამეტრები</h3>"
   ]
  },
  {
   "cell_type": "code",
   "execution_count": 35,
   "metadata": {
    "slideshow": {
     "slide_type": "-"
    }
   },
   "outputs": [
    {
     "data": {
      "text/plain": [
       "array(<class 'object'>, dtype=object)"
      ]
     },
     "execution_count": 35,
     "metadata": {},
     "output_type": "execute_result"
    }
   ],
   "source": [
    "np.array(object, dtype=None, copy=True, order='K', subok=False, ndmin=0)"
   ]
  },
  {
   "cell_type": "markdown",
   "metadata": {
    "slideshow": {
     "slide_type": "subslide"
    }
   },
   "source": [
    "- **object**: ნებისმიერი ობიექტი, რომელიც წარმოადგენს მასივის ინტერფეისის მეთოდს და რომელიც აბრუნებს მასივს ან ნებისმიერ მიმდევრობას;\n",
    "\n",
    "\n",
    "- **dtype**: მონაცემთა ტიპი (არჩევითია). თუ არ არის მოცემული, მაშინ ტიპი განისაზღვრება, როგორც მინიმალური ტიპი, რომელიც საჭიროა ობიექტების თანმიმდევრობის შესანარჩუნებლად\n",
    "\n",
    "\n",
    "- **copy**: **True** ან **False**; თუ არის **True**, მაშინ ხდება ასლის შექმნა.\n",
    "\n",
    "\n",
    "- **order**: **{'K', 'A', 'C', 'F'}**, მიუთითებს მასივის მეხსიერების განლაგებას:\n",
    "  - **'K'** - keep style\n",
    "  - **'A'** - any-style;\n",
    "  - **'C'** - C-style;\n",
    "  - **'F'** - Fortran-style.\n",
    "  \n",
    "\n",
    "- **subok**: **True** ან **False**; თუ არის **True**, მაშინ ქვე-კლასები გადაეცემა, წინააღმდეგ შემთხვევაში, დაბრუნებული მასივი იძულებული გახდება იყოს საბაზო კლასის მასივი (ნაგულისხმევი).\n",
    "\n",
    "\n",
    "- **ndmin**: განსაზღვრავს განზომილებების მინიმალურ რაოდენობას, რაც უნდა ჰქონდეს მასივს."
   ]
  },
  {
   "cell_type": "code",
   "execution_count": 308,
   "metadata": {
    "slideshow": {
     "slide_type": "subslide"
    }
   },
   "outputs": [
    {
     "name": "stdout",
     "output_type": "stream",
     "text": [
      "[[[1 2 3 4 5]]]\n"
     ]
    }
   ],
   "source": [
    "#მაგალითი №3: ndmin პარამეტრი\n",
    "\n",
    "a = np.array([1, 2, 3,4,5], ndmin = 3)\n",
    "print(a)"
   ]
  },
  {
   "cell_type": "code",
   "execution_count": 310,
   "metadata": {
    "slideshow": {
     "slide_type": "subslide"
    }
   },
   "outputs": [
    {
     "name": "stdout",
     "output_type": "stream",
     "text": [
      "[1.+0.j 2.+0.j 3.+0.j]\n"
     ]
    }
   ],
   "source": [
    "#მაგალითი №4: dtype პარამეტრი\n",
    "\n",
    "a = np.array([1, 2, 3], dtype = complex) \n",
    "print(a)"
   ]
  },
  {
   "cell_type": "markdown",
   "metadata": {
    "slideshow": {
     "slide_type": "slide"
    }
   },
   "source": [
    "<h3 align=\"center\">ndarray მასივის ატრიბუტები</h3>\n",
    "\n",
    "- **shape**: მასივის განზომილებების ზომა, ღერძების გასწვრივ (მასივის ფორმა);\n",
    "\n",
    "\n",
    "- **ndim** - მასივის განზომილება (ღერძების რაოდენობა, მასივის რანგი);\n",
    "\n",
    "\n",
    "- **itemsize**: მასივის ელემენტის ზომა ბაიტებში;\n",
    "\n",
    "\n",
    "- **nbytes**: მასივის ყველა ელემენტების მთლიანი ზომა ბაიტებში;\n",
    "\n",
    "\n",
    "- **Flags**: მასივი ორგანიზაცია მეხსიერებაში;\n",
    "\n",
    "\n",
    "- **size**: მასივში ელემენტების რაოდენობა;\n",
    " \n",
    " \n",
    "- **dtype**: მასივში მოცემული ელემენტის მონაცემთა ტიპი;\n",
    "\n",
    "\n",
    "- **flat**: იტერატორი მასივის ელემენტებზე თანმიმდევრული წვდომისთვის (მეხსიერებაში მათი ადგილმდებარეობის მიხედვით);"
   ]
  },
  {
   "cell_type": "code",
   "execution_count": 314,
   "metadata": {
    "slideshow": {
     "slide_type": "subslide"
    }
   },
   "outputs": [
    {
     "name": "stdout",
     "output_type": "stream",
     "text": [
      "(2, 3)\n"
     ]
    }
   ],
   "source": [
    "#მაგალითი №5: ndarray.shape\n",
    "\n",
    "a = np.array([[1,2,3],[4,5,6]]) \n",
    "print(a.shape)\n",
    "# ან np.shape(a) "
   ]
  },
  {
   "cell_type": "code",
   "execution_count": 60,
   "metadata": {
    "slideshow": {
     "slide_type": "subslide"
    }
   },
   "outputs": [
    {
     "name": "stdout",
     "output_type": "stream",
     "text": [
      "[[1 2 3]\n",
      " [4 5 6]]\n",
      "[[1 2]\n",
      " [3 4]\n",
      " [5 6]]\n"
     ]
    }
   ],
   "source": [
    "#მაგალითი №6: ndarray.shape-ის გამოყენება მასივის ზომის შესაცვლელად\n",
    "\n",
    "a = np.array([[1,2,3],[4,5,6]])\n",
    "print(a)\n",
    "a.shape = (3,2) \n",
    "print(a)"
   ]
  },
  {
   "cell_type": "code",
   "execution_count": 315,
   "metadata": {
    "scrolled": true,
    "slideshow": {
     "slide_type": "subslide"
    }
   },
   "outputs": [
    {
     "name": "stdout",
     "output_type": "stream",
     "text": [
      "[ 0  1  2  3  4  5  6  7  8  9 10 11 12 13 14 15 16 17 18 19 20 21 22 23]\n",
      "1\n"
     ]
    }
   ],
   "source": [
    "#მაგალითი №7: ndarray.ndim + თანაბრად დაშორებული რიცხვების მასივის შექმნა\n",
    "\n",
    "a = np.arange(24) \n",
    "print(a)\n",
    "print(a.ndim)"
   ]
  },
  {
   "cell_type": "code",
   "execution_count": 92,
   "metadata": {
    "scrolled": true,
    "slideshow": {
     "slide_type": "subslide"
    }
   },
   "outputs": [
    {
     "name": "stdout",
     "output_type": "stream",
     "text": [
      "[[[ 0  1  2]\n",
      "  [ 3  4  5]\n",
      "  [ 6  7  8]\n",
      "  [ 9 10 11]]\n",
      "\n",
      " [[12 13 14]\n",
      "  [15 16 17]\n",
      "  [18 19 20]\n",
      "  [21 22 23]]]\n",
      "1 3\n"
     ]
    }
   ],
   "source": [
    "#მაგალითი №8: მასივის განზომილების შეცვლა\n",
    "\n",
    "a = np.arange(24) \n",
    "b = a.reshape(2,4,3) \n",
    "print(b)\n",
    "print(a.ndim, b.ndim)"
   ]
  },
  {
   "cell_type": "code",
   "execution_count": 80,
   "metadata": {
    "scrolled": true,
    "slideshow": {
     "slide_type": "subslide"
    }
   },
   "outputs": [
    {
     "data": {
      "text/plain": [
       "1"
      ]
     },
     "execution_count": 80,
     "metadata": {},
     "output_type": "execute_result"
    }
   ],
   "source": [
    "#მაგალითი №9: numpy.itemsize, მონაცემთა ტიპი არის int8 (1 ბაიტი) \n",
    "\n",
    "x = np.array([1,2,3,4,5], dtype = np.int8) \n",
    "print(x.itemsize)"
   ]
  },
  {
   "cell_type": "code",
   "execution_count": 81,
   "metadata": {
    "scrolled": true,
    "slideshow": {
     "slide_type": "subslide"
    }
   },
   "outputs": [
    {
     "data": {
      "text/plain": [
       "4"
      ]
     },
     "execution_count": 81,
     "metadata": {},
     "output_type": "execute_result"
    }
   ],
   "source": [
    "#მაგალითი №10: numpy.itemsize, მონაცემთა ტიპი არის float32  (4 ბაიტი) \n",
    "\n",
    "x = np.array([1,2,3,4,5], dtype = np.float32) \n",
    "print(x.itemsize)"
   ]
  },
  {
   "cell_type": "code",
   "execution_count": 97,
   "metadata": {
    "scrolled": true,
    "slideshow": {
     "slide_type": "subslide"
    }
   },
   "outputs": [
    {
     "name": "stdout",
     "output_type": "stream",
     "text": [
      "10 20\n"
     ]
    }
   ],
   "source": [
    "#მაგალითი №11: numpy.nbytes\n",
    "\n",
    "x = np.array([1,2,3,4,5], dtype = np.int16) \n",
    "y = np.array([1,2,3,4,5], dtype = np.float32) \n",
    "print(x.nbytes, y.nbytes)"
   ]
  },
  {
   "cell_type": "code",
   "execution_count": 98,
   "metadata": {
    "scrolled": true,
    "slideshow": {
     "slide_type": "subslide"
    }
   },
   "outputs": [
    {
     "name": "stdout",
     "output_type": "stream",
     "text": [
      "  C_CONTIGUOUS : True\n",
      "  F_CONTIGUOUS : True\n",
      "  OWNDATA : True\n",
      "  WRITEABLE : True\n",
      "  ALIGNED : True\n",
      "  WRITEBACKIFCOPY : False\n",
      "  UPDATEIFCOPY : False\n"
     ]
    }
   ],
   "source": [
    "#მაგალითი №12: numpy.flags\n",
    "\n",
    "x = np.array([1,2,3,4,5]) \n",
    "print(x.flags)"
   ]
  },
  {
   "cell_type": "markdown",
   "metadata": {
    "slideshow": {
     "slide_type": "slide"
    }
   },
   "source": [
    "<h3 align=\"center\">ndarray მასივის შექმნის პროცედურები</h3>\n",
    "\n",
    "- **empty**: ქმნის მოცემული ფორმის და ტიპის არაინიციალიზებულ მასივს: \n",
    "\n",
    "     $$\\texttt{numpy.empty} \\left ( \\texttt{shape, dtype = float, order = 'C'} \\right )$$\n",
    "\n",
    "\n",
    "- **zeros**: აბრუნებს მითითებული ზომის მასივს, რომელიც შევსებულია ნულებით:\n",
    "\n",
    "     $$\\texttt{numpy.zeros} \\left ( \\texttt{shape, dtype = float, order = 'C'} \\right )$$\n",
    "\n",
    "\n",
    "- **ones**: აბრუნებს მითითებული ზომის მასივს, რომელიც შევსებულია ერთიანებით:\n",
    "\n",
    "     $$\\texttt{numpy.ones} \\left ( \\texttt{shape, dtype = float, order = 'C'} \\right )$$\n",
    "     \n",
    "- **random**: აბრუნებს მითითებული ზომის მასივს, რომელიც შევსებულია ერთიანებით:\n",
    "\n",
    "     $$\\texttt{numpy.random.random} \\left ( \\texttt{size=None} \\right )$$     \n"
   ]
  },
  {
   "cell_type": "code",
   "execution_count": 319,
   "metadata": {
    "scrolled": true,
    "slideshow": {
     "slide_type": "subslide"
    }
   },
   "outputs": [
    {
     "name": "stdout",
     "output_type": "stream",
     "text": [
      "[[-1671783368         697           1]\n",
      " [          0           0           0]\n",
      " [          0           0   825373742]]\n"
     ]
    }
   ],
   "source": [
    "#მაგალითი №13: numpy.empty\n",
    "\n",
    "E = np.empty([3,3], dtype = int) \n",
    "print(E)"
   ]
  },
  {
   "cell_type": "code",
   "execution_count": 320,
   "metadata": {
    "scrolled": true,
    "slideshow": {
     "slide_type": "subslide"
    }
   },
   "outputs": [
    {
     "name": "stdout",
     "output_type": "stream",
     "text": [
      "[[0. 0. 0.]\n",
      " [0. 0. 0.]\n",
      " [0. 0. 0.]]\n"
     ]
    }
   ],
   "source": [
    "#მაგალითი №14: numpy.zeros\n",
    "\n",
    "O = np.zeros([3,3]) \n",
    "print(O)"
   ]
  },
  {
   "cell_type": "code",
   "execution_count": 127,
   "metadata": {
    "scrolled": true,
    "slideshow": {
     "slide_type": "subslide"
    }
   },
   "outputs": [
    {
     "name": "stdout",
     "output_type": "stream",
     "text": [
      "[[1 1 1]\n",
      " [1 1 1]\n",
      " [1 1 1]]\n"
     ]
    }
   ],
   "source": [
    "#მაგალითი №15: numpy.ones\n",
    "\n",
    "I = np.ones([3,3], dtype = int) \n",
    "print(I)"
   ]
  },
  {
   "cell_type": "code",
   "execution_count": 180,
   "metadata": {
    "scrolled": true,
    "slideshow": {
     "slide_type": "subslide"
    }
   },
   "outputs": [
    {
     "name": "stdout",
     "output_type": "stream",
     "text": [
      "[[0.85886862 0.67935045 0.1342547 ]\n",
      " [0.42465704 0.02534158 0.16162625]\n",
      " [0.46218516 0.77387994 0.14728113]]\n"
     ]
    }
   ],
   "source": [
    "#მაგალითი №16: numpy.random\n",
    "\n",
    "R = np.random.random(size=(3, 3))\n",
    "print(R)"
   ]
  },
  {
   "cell_type": "markdown",
   "metadata": {
    "slideshow": {
     "slide_type": "slide"
    }
   },
   "source": [
    "<h3 align=\"center\">რიცხვითი დიაპაზონის ndarray მასივი</h3>\n",
    "\n",
    "- **arange**: ფუნქცია, რომელიც აბრუნებს ndarray მასივს, რომელიც შეიცავს ერთნაირად განაწილებულ მნიშვნელობებს მოცემულ დიაპაზონში:\n",
    "\n",
    "     $$\\texttt{numpy.arange} \\left ( \\texttt{start, stop, step, dtype} \\right )$$\n",
    "     \n",
    "     \n",
    "- **linspace**: ფუნქცია, რომელიც აბრუნებს ndarray მასივს, სადაც ნაბიჯის ზომის ნაცვლად, მითითებულია ინტერვალებს შორის თანაბრად გადანაწილებული მნიშვნელობა:\n",
    "\n",
    "     $$\\texttt{numpy.linspace} \\left ( \\texttt{start, stop, num, endpoint, retstep, dtype} \\right )$$\n",
    "     \n",
    "- **linspace**: ფუნქცია, რომელიც აბრუნებს ndarray მასივს, რომელიც შეიცავს ლოგარითმულ მასშტაბით თანაბრად განაწილებულ ციფრებს:\n",
    "\n",
    "     $$\\texttt{numpy.logspace} \\left ( \\texttt{start, stop, num, endpoint, base, dtype} \\right )$$"
   ]
  },
  {
   "cell_type": "code",
   "execution_count": 164,
   "metadata": {
    "scrolled": true,
    "slideshow": {
     "slide_type": "subslide"
    }
   },
   "outputs": [
    {
     "name": "stdout",
     "output_type": "stream",
     "text": [
      "[0 1 2 3 4]\n"
     ]
    }
   ],
   "source": [
    "#მაგალითი №17: numpy.arange\n",
    "\n",
    "x = np.arange(5) \n",
    "print(x)"
   ]
  },
  {
   "cell_type": "code",
   "execution_count": 168,
   "metadata": {
    "scrolled": true,
    "slideshow": {
     "slide_type": "subslide"
    }
   },
   "outputs": [
    {
     "name": "stdout",
     "output_type": "stream",
     "text": [
      "[0. 1. 2. 3. 4.]\n"
     ]
    }
   ],
   "source": [
    "#მაგალითი №18: numpy.arange + dtype set  \n",
    "\n",
    "x = np.arange(5, dtype = float)\n",
    "print(x)"
   ]
  },
  {
   "cell_type": "code",
   "execution_count": 325,
   "metadata": {
    "scrolled": true,
    "slideshow": {
     "slide_type": "subslide"
    }
   },
   "outputs": [
    {
     "name": "stdout",
     "output_type": "stream",
     "text": [
      "[10 12 14 16 18 20]\n"
     ]
    }
   ],
   "source": [
    "#მაგალითი №19: numpy.arange + start და stop პარამეტრები\n",
    "\n",
    "x = np.arange(10,21,2)  # start = 10, stop = 20, step = 2\n",
    "print(x)"
   ]
  },
  {
   "cell_type": "code",
   "execution_count": 328,
   "metadata": {
    "scrolled": false,
    "slideshow": {
     "slide_type": "subslide"
    }
   },
   "outputs": [
    {
     "name": "stdout",
     "output_type": "stream",
     "text": [
      "[  0.  25.  50.  75. 100.]\n"
     ]
    }
   ],
   "source": [
    "#მაგალითი №20: numpy.linspace\n",
    "\n",
    "x = np.linspace(0,100,5) \n",
    "print(x)"
   ]
  },
  {
   "cell_type": "code",
   "execution_count": 329,
   "metadata": {
    "scrolled": false,
    "slideshow": {
     "slide_type": "subslide"
    }
   },
   "outputs": [
    {
     "name": "stdout",
     "output_type": "stream",
     "text": [
      "[ 0. 20. 40. 60. 80.]\n"
     ]
    }
   ],
   "source": [
    "#მაგალითი №21: numpy.linspace + endpoint პარამეტრი\n",
    "\n",
    "x = np.linspace(0,100,5, endpoint = False) \n",
    "print(x)"
   ]
  },
  {
   "cell_type": "code",
   "execution_count": 347,
   "metadata": {
    "scrolled": false,
    "slideshow": {
     "slide_type": "subslide"
    }
   },
   "outputs": [
    {
     "name": "stdout",
     "output_type": "stream",
     "text": [
      "[2.00000000e+00 8.64047791e+00 3.73289293e+01 1.61269894e+02\n",
      " 6.96724480e+02 3.01001624e+03 1.30039894e+04 5.61803417e+04\n",
      " 2.42712501e+05 1.04857600e+06]\n"
     ]
    }
   ],
   "source": [
    "#მაგალითი №22: numpy.logspace\n",
    "\n",
    "x = np.logspace(1,20,num = 10, base = 2) \n",
    "print(x)"
   ]
  },
  {
   "cell_type": "markdown",
   "metadata": {
    "slideshow": {
     "slide_type": "slide"
    }
   },
   "source": [
    "<h3 align=\"center\">ndarray მასივის ინდექსირება და დაჭრა</h3>\n",
    "\n",
    "- **ndarray** მასივების ელემენტებზე წვდომა და მოდიფიცირება შესაძლებელია ინდექსების გამოყენებით ან დაჭერით (**slice**);\n",
    "\n",
    "\n",
    "- როგორც უკვე აღვნიშნეთ, **ndarray** მასივების ელემენტები გადანომრილია და იწყება ნულიდან;\n",
    "\n",
    "\n",
    "- **slice**: პროცედურა, რემელიც აბრუნებს დაჭრილ მასივს და გაჩნია პარამეტრები **start, stop** და **step**;\n"
   ]
  },
  {
   "cell_type": "code",
   "execution_count": 348,
   "metadata": {
    "scrolled": true,
    "slideshow": {
     "slide_type": "subslide"
    }
   },
   "outputs": [
    {
     "name": "stdout",
     "output_type": "stream",
     "text": [
      "[0 1 2]\n",
      "0 1 2\n",
      "0 1 2\n"
     ]
    }
   ],
   "source": [
    "#მაგალითი №23: ელემენტზე წვდომა ინდექსის გამოყენებით\n",
    "\n",
    "a = np.arange(3) \n",
    "print(a)\n",
    "print(a[0], a[1], a[2])\n",
    "print(a[-3], a[-2], a[-1])"
   ]
  },
  {
   "cell_type": "code",
   "execution_count": 145,
   "metadata": {
    "scrolled": true,
    "slideshow": {
     "slide_type": "subslide"
    }
   },
   "outputs": [
    {
     "name": "stdout",
     "output_type": "stream",
     "text": [
      "[0 1 2 3 4 5 6 7 8 9]\n",
      "[2 4 6]\n"
     ]
    }
   ],
   "source": [
    "#მაგალითი №24: slice \n",
    "\n",
    "a = np.arange(10)\n",
    "s = slice(2,7,2)  # start = 2, stop = 7, step = 2\n",
    "print(a)\n",
    "print(a[s])"
   ]
  },
  {
   "cell_type": "code",
   "execution_count": 184,
   "metadata": {
    "scrolled": false,
    "slideshow": {
     "slide_type": "subslide"
    }
   },
   "outputs": [
    {
     "name": "stdout",
     "output_type": "stream",
     "text": [
      "[0 1 2 3 4 5 6 7 8 9]\n",
      "[2 4 6]\n",
      "[2 3 4 5 6 7 8 9]\n",
      "[0 1 2 3 4 5 6]\n",
      "[0 1 2 3 4 5 6 7 8]\n"
     ]
    }
   ],
   "source": [
    "#მაგალითი №25: slice ინდექსების გამოყენებით\n",
    "\n",
    "a = np.arange(10)\n",
    "b = a[2:7:2] \n",
    "print(a)\n",
    "print(b)\n",
    "print(a[2:])\n",
    "print(a[:7])\n",
    "print(a[-10:-1])"
   ]
  },
  {
   "cell_type": "markdown",
   "metadata": {
    "slideshow": {
     "slide_type": "slide"
    }
   },
   "source": [
    "<h3 align=\"center\">ndarray მასივის გარბენა</h3>\n",
    "\n",
    "- **nditer**: მრავალგანზომილებიანი ობიექტი-იტერატორი, რომლის საშუალებითაც შეგიძლიათ მასივის ელემენტების გარბენა."
   ]
  },
  {
   "cell_type": "code",
   "execution_count": 203,
   "metadata": {
    "scrolled": true,
    "slideshow": {
     "slide_type": "subslide"
    }
   },
   "outputs": [
    {
     "name": "stdout",
     "output_type": "stream",
     "text": [
      "თავდაპირევლი მასივი: \n",
      " [[ 0  5 10 15]\n",
      " [20 25 30 35]\n",
      " [40 45 50 55]] \n",
      "\n",
      "მკოდიფიცირებული მასივი: \n",
      "0\n",
      "5\n",
      "10\n",
      "15\n",
      "20\n",
      "25\n",
      "30\n",
      "35\n",
      "40\n",
      "45\n",
      "50\n",
      "55\n"
     ]
    }
   ],
   "source": [
    "#მაგალითი №26: numpy.nditer\n",
    "\n",
    "a = np.arange(0,60,5)\n",
    "a = a.reshape(3,4)\n",
    "print('თავდაპირევლი მასივი: \\n', a, '\\n')\n",
    "\n",
    "print('მკოდიფიცირებული მასივი: ')\n",
    "for x in np.nditer(a):\n",
    "    print(x,)"
   ]
  },
  {
   "cell_type": "code",
   "execution_count": 217,
   "metadata": {
    "slideshow": {
     "slide_type": "subslide"
    }
   },
   "outputs": [
    {
     "name": "stdout",
     "output_type": "stream",
     "text": [
      "თავდაპირევლი მასივი: \n",
      "[[ 0  5 10 15]\n",
      " [20 25 30 35]\n",
      " [40 45 50 55]]\n",
      "\n",
      "\n",
      "ტრანსპონირებული მასივი: \n",
      "[[ 0 20 40]\n",
      " [ 5 25 45]\n",
      " [10 30 50]\n",
      " [15 35 55]]\n",
      "\n",
      "\n",
      "C-style მიმდევრობით დალაგებული მასივი: \n",
      "[[ 0 20 40]\n",
      " [ 5 25 45]\n",
      " [10 30 50]\n",
      " [15 35 55]]\n",
      "0\n",
      "20\n",
      "40\n",
      "5\n",
      "25\n",
      "45\n",
      "10\n",
      "30\n",
      "50\n",
      "15\n",
      "35\n",
      "55\n",
      "F-style მიმდევრობით დალაგებული მასივი: \n",
      "[[ 0 20 40]\n",
      " [ 5 25 45]\n",
      " [10 30 50]\n",
      " [15 35 55]]\n",
      "0\n",
      "5\n",
      "10\n",
      "15\n",
      "20\n",
      "25\n",
      "30\n",
      "35\n",
      "40\n",
      "45\n",
      "50\n",
      "55\n"
     ]
    }
   ],
   "source": [
    "#მაგალითი №27: numpy.nditer\n",
    "\n",
    "a = np.arange(0,60,5)\n",
    "a = a.reshape(3,4)\n",
    "print('თავდაპირევლი მასივი: ')\n",
    "print(a)\n",
    "print('\\n')\n",
    "\n",
    "print('ტრანსპონირებული მასივი: ')\n",
    "b = a.T\n",
    "print(b)\n",
    "print('\\n')\n",
    "\n",
    "print('C-style მიმდევრობით დალაგებული მასივი: ')\n",
    "c = b.copy(order = 'C')\n",
    "print(c)\n",
    "for x in np.nditer(c):\n",
    "    print(x)\n",
    "\n",
    "print('F-style მიმდევრობით დალაგებული მასივი: ')\n",
    "c = b.copy(order = 'F')\n",
    "print(c)\n",
    "for x in np.nditer(c):\n",
    "    print(x)"
   ]
  },
  {
   "cell_type": "markdown",
   "metadata": {
    "slideshow": {
     "slide_type": "slide"
    }
   },
   "source": [
    "<h3 align=\"center\">მატრიცები და წრფივი ალგებრის პროცედურები</h3>\n",
    "\n",
    "- **NumPy** ბიბლიოთეკა შეიცავს **numpy.linalg** მოდულს, რომელიც უზრუნველყოფს წრფივი ალგებრისთვის საჭირო ყველა ფუნქციას."
   ]
  },
  {
   "cell_type": "code",
   "execution_count": 351,
   "metadata": {
    "scrolled": false,
    "slideshow": {
     "slide_type": "subslide"
    }
   },
   "outputs": [
    {
     "data": {
      "text/plain": [
       "array([[1., 0., 0., 0., 0.],\n",
       "       [0., 1., 0., 0., 0.],\n",
       "       [0., 0., 1., 0., 0.],\n",
       "       [0., 0., 0., 1., 0.],\n",
       "       [0., 0., 0., 0., 1.]])"
      ]
     },
     "execution_count": 351,
     "metadata": {},
     "output_type": "execute_result"
    }
   ],
   "source": [
    "#მაგალითი №28: ერთეულოვანი მატრიცა\n",
    "\n",
    "I = np.identity(5)\n",
    "I"
   ]
  },
  {
   "cell_type": "code",
   "execution_count": 353,
   "metadata": {
    "slideshow": {
     "slide_type": "subslide"
    }
   },
   "outputs": [
    {
     "data": {
      "text/plain": [
       "array([[0.19151025, 0.4063659 , 0.46346444],\n",
       "       [0.06458809, 0.61233778, 0.51283252],\n",
       "       [0.54309201, 0.14930317, 0.92944464]])"
      ]
     },
     "execution_count": 353,
     "metadata": {},
     "output_type": "execute_result"
    }
   ],
   "source": [
    "#მაგალითი №29: მატრიცის შექმნა ელემენტების შემთხვევითი სიდიდეებით\n",
    "\n",
    "R = np.random.random(size=(3, 3))\n",
    "R"
   ]
  },
  {
   "cell_type": "code",
   "execution_count": 356,
   "metadata": {
    "slideshow": {
     "slide_type": "subslide"
    }
   },
   "outputs": [
    {
     "name": "stdout",
     "output_type": "stream",
     "text": [
      "[[3 3 3]\n",
      " [3 3 3]\n",
      " [3 3 3]]\n"
     ]
    }
   ],
   "source": [
    "#მაგალითი №30: ორი მატრიცის ჯამი\n",
    "\n",
    "A = np.array([[1, 1, 1], [1, 1, 1], [1, 1, 1]])\n",
    "B = np.array([[2, 2, 2], [2, 2, 2], [2, 2, 2]])\n",
    "C = A + B\n",
    "print(C)"
   ]
  },
  {
   "cell_type": "code",
   "execution_count": 224,
   "metadata": {
    "slideshow": {
     "slide_type": "subslide"
    }
   },
   "outputs": [
    {
     "name": "stdout",
     "output_type": "stream",
     "text": [
      "[[10 10 10]\n",
      " [10 10 10]\n",
      " [10 10 10]]\n"
     ]
    }
   ],
   "source": [
    "#მაგალითი №31: მატრიცის სკალარზე გამრავლება\n",
    "\n",
    "A = np.array([[1, 1, 1], [1, 1, 1], [1, 1, 1]])\n",
    "alpha = 10\n",
    "print(alpha * A)"
   ]
  },
  {
   "cell_type": "code",
   "execution_count": 362,
   "metadata": {
    "scrolled": false,
    "slideshow": {
     "slide_type": "subslide"
    }
   },
   "outputs": [
    {
     "name": "stdout",
     "output_type": "stream",
     "text": [
      "[[1 2 3]\n",
      " [4 5 6]\n",
      " [7 8 9]] \n",
      " [[1 2 3]\n",
      " [4 5 6]\n",
      " [7 8 9]] \n",
      " [[ 30  36  42]\n",
      " [ 66  81  96]\n",
      " [102 126 150]]\n"
     ]
    }
   ],
   "source": [
    "#მაგალითი №32: ორი მატრიცის ნამრავლი\n",
    "\n",
    "A = np.array([[1, 2, 3], [4, 5, 6], [7, 8, 9]])\n",
    "B = np.array([[1, 2, 3], [4, 5, 6], [7, 8, 9]])\n",
    "print(A, '\\n', B, '\\n', A @ B)"
   ]
  },
  {
   "cell_type": "code",
   "execution_count": 230,
   "metadata": {
    "slideshow": {
     "slide_type": "subslide"
    }
   },
   "outputs": [
    {
     "name": "stdout",
     "output_type": "stream",
     "text": [
      "Wall time: 5.49 s\n",
      "Wall time: 52 ms\n",
      "Wall time: 4 ms\n",
      "Wall time: 1 ms\n"
     ]
    }
   ],
   "source": [
    "#მაგალითი №33: მატრიცის გადამრავლების სხვადასხვა მეთოდები\n",
    "\n",
    "#მატრიცების ელემენტ-ელემენტ გადამრავლება\n",
    "def dot_prod_1(mx1, mx2, verbose = False):\n",
    "    mx3 = np.zeros((mx1.shape[0], mx2.shape[1]))\n",
    "    if verbose: print(f'mx3.shape = {mx3.shape}')\n",
    "    for i in range(mx1.shape[0]):\n",
    "        if verbose: print(f'i = {i}')\n",
    "        for k in range(mx2.shape[1]):\n",
    "            if verbose: print(f'\\tk = {k}')\n",
    "            for j in range(mx1.shape[1]):\n",
    "                if verbose: print(f'\\t\\tj = {j}')\n",
    "                s = mx1[i, j] + mx2[j, k]\n",
    "            mx3[i, k] = s\n",
    "    \n",
    "    return mx3\n",
    "\n",
    "#მატრიცების ვექტორ-ელემენტ გადამრავლება\n",
    "def dot_prod_2(mx1, mx2, verbose = False):\n",
    "    mx3 = np.zeros((mx1.shape[0], mx2.shape[1]))\n",
    "    if verbose: print(f'mx3.shape = {mx3.shape}')\n",
    "    for i in range(mx1.shape[0]):\n",
    "        if verbose: print(f'i = {i}')\n",
    "        for k in range(mx2.shape[1]):\n",
    "            mx3[i, k] = mx1[i, :] @ mx2[:, k]\n",
    "            if verbose: \n",
    "                print(f'\\tk = {mx1[i:]}') \n",
    "                print(f'\\tk = {mx2[:, k]}')\n",
    "            \n",
    "            #mx3[i, k] = s\n",
    "    \n",
    "    return mx3\n",
    "\n",
    "#მატრიცების ვექტორ-ვექტორ გადამრავლება\n",
    "def dot_prod_3(mx1, mx2, verbose = False):\n",
    "    mx3 = np.zeros((mx1.shape[0], mx2.shape[1]))\n",
    "    if verbose: print(f'mx3.shape = {mx3.shape}')\n",
    "    for i in range(mx1.shape[0]):\n",
    "        if verbose: print(f'i = {i}')\n",
    "        mx3[i, :] = mx1[i, :] @ mx2\n",
    "        if verbose: \n",
    "            print(f'\\tk = {mx2[:, k]}')\n",
    "            \n",
    "            #mx3[i, k] = s\n",
    "    \n",
    "    return mx3\n",
    "\n",
    "A = np.random.randn(100, 1000)\n",
    "B = np.random.randn(1000, 100)\n",
    "\n",
    "%time Z_loop = dot_prod_1(A, B)\n",
    "%time Z_loop = dot_prod_2(A, B)\n",
    "%time Z_loop = dot_prod_3(A, B)\n",
    "%time Z_loop = A @ B"
   ]
  },
  {
   "cell_type": "code",
   "execution_count": 364,
   "metadata": {
    "slideshow": {
     "slide_type": "subslide"
    }
   },
   "outputs": [
    {
     "name": "stdout",
     "output_type": "stream",
     "text": [
      "[[0.92165273 0.20748643 0.38393569]\n",
      " [0.944635   0.62759287 0.59226406]\n",
      " [0.41861733 0.73136526 0.34850319]]\n",
      "[[ 4.27833047 -4.15950892  2.35557074]\n",
      " [ 1.62153342 -3.20165221  3.65465526]\n",
      " [-8.54200649 11.71530098 -7.62968816]]\n",
      "[[ 1.0000000e+00  0.0000000e+00 -4.4408921e-16]\n",
      " [ 0.0000000e+00  1.0000000e+00  0.0000000e+00]\n",
      " [-4.4408921e-16  0.0000000e+00  1.0000000e+00]]\n",
      "[[ 1.  0. -0.]\n",
      " [ 0.  1.  0.]\n",
      " [-0.  0.  1.]]\n"
     ]
    }
   ],
   "source": [
    "#მაგალითი №34: მატრიცის შებრუნებულის გამოთვლა\n",
    "\n",
    "A = np.random.random(size=(3, 3))\n",
    "invA = np.linalg.inv(A)\n",
    "print(A)\n",
    "print(invA)\n",
    "print(A @ invA)\n",
    "print(np.round(A @ invA))"
   ]
  },
  {
   "cell_type": "code",
   "execution_count": 248,
   "metadata": {
    "scrolled": false,
    "slideshow": {
     "slide_type": "subslide"
    }
   },
   "outputs": [
    {
     "name": "stdout",
     "output_type": "stream",
     "text": [
      "[[0.03881883 0.23386926 0.10179998 0.64750318]\n",
      " [0.19879781 0.97400818 0.79300393 0.69803012]]\n",
      "[[-0.37 -0.93]\n",
      " [-0.93  0.37]]\n",
      "[1.55 0.42]\n",
      "[[-0.13 -0.64 -0.5  -0.57]\n",
      " [ 0.09  0.34  0.47 -0.81]\n",
      " [-0.07 -0.67  0.73  0.13]\n",
      " [-0.99  0.16  0.06 -0.01]]\n",
      "(2, 2) (2,) (4, 4)\n"
     ]
    }
   ],
   "source": [
    "#მაგალითი №35: მატრიცის დაშლა სინგულარული მნიშვნელობის მიხედვით\n",
    "\n",
    "A = np.random.random(size=(2, 4))\n",
    "U, S, V_T = np.linalg.svd(A)\n",
    "U = np.round(U, 2)\n",
    "S = np.round(S, 2)\n",
    "V_T = np.round(V_T, 2)\n",
    "print(A)\n",
    "print(U)\n",
    "print(S)\n",
    "print(V_T)\n",
    "print(U.shape, S.shape, V_T.shape)"
   ]
  },
  {
   "cell_type": "markdown",
   "metadata": {
    "slideshow": {
     "slide_type": "slide"
    }
   },
   "source": [
    "<h3 align=\"center\">ndarray მასივის დახარისხება</h3>\n",
    "\n",
    "**NumPy** ბიბლიოთეკა გააჩნია დახარისხებასთან დაკავშირებული სხვადასხვა სახის ფუნქციები:\n",
    "\n",
    "- **sort**: ფუნქცია, რომელიც აბრუნებს მიწოდებული მასივის დახარისხებულ ასლს:\n",
    "\n",
    "     $$\\texttt{numpy.sort} \\left ( \\texttt{a, axis, kind, order} \\right )$$\n",
    "\n",
    "\n",
    "- **argsort**: ფუნქცია, რომელიც ასრულებს შეყვანის მასივის არაპირდაპირი დახარისხებას მოცემული ღერძის გასწვრივ და იყენებს მითითებულ დახარისხების ტიპს მონაცემთა ინდექსების მასივის დასაბრუნებლად;\n",
    "\n",
    "\n",
    "- **argmax&argmin**: ეს ორი ფუნქცია აბრუნებს მაქსიმალური და მინიმალური ელემენტების ინდექსებს მოცემული ღერძის გასწვრივ;\n",
    "\n",
    "\n",
    "- **nonzero**: ფუნქცია, რომელიც აბრუნებს არანულოვანი ელემენტების ინდექსებს;\n",
    "\n",
    "\n",
    "- **where**: ფუნქცია, რომელიც აბრუნებს ელემენტების ინდექსებს, სადაც დაკმაყოფილებულია მითითებული პირობა;\n",
    "\n",
    "\n",
    "- **extract**: ფუნქცია, რომელიც აბრუნებს ელემენტებს, რომლებიც აკმაყოფილებენ ნებისმიერ პირობას."
   ]
  },
  {
   "cell_type": "code",
   "execution_count": 270,
   "metadata": {
    "scrolled": true,
    "slideshow": {
     "slide_type": "subslide"
    }
   },
   "outputs": [
    {
     "name": "stdout",
     "output_type": "stream",
     "text": [
      "[[3 7]\n",
      " [9 1]]\n",
      "[[3 7]\n",
      " [1 9]]\n",
      "[[3 1]\n",
      " [9 7]]\n",
      "\n",
      "\n",
      "[(b'raju', 21) (b'anil', 25) (b'ravi', 17) (b'amar', 27)]\n",
      "[(b'amar', 27) (b'anil', 25) (b'raju', 21) (b'ravi', 17)]\n"
     ]
    }
   ],
   "source": [
    "#მაგალითი №36: numpy.sort\n",
    "\n",
    "a = np.array([[3,7],[9,1]]) \n",
    "\n",
    "print(a)\n",
    "print(np.sort(a))\n",
    "print(np.sort(a, axis = 0))\n",
    "print('\\n')  \n",
    "\n",
    "dt = np.dtype([('name', 'S10'),('age', int)]) \n",
    "a = np.array([(\"raju\",21),(\"anil\",25),(\"ravi\", 17), (\"amar\",27)], dtype = dt) \n",
    "\n",
    "print(a)\n",
    "print(np.sort(a, order = 'name'))"
   ]
  },
  {
   "cell_type": "code",
   "execution_count": 366,
   "metadata": {
    "scrolled": false,
    "slideshow": {
     "slide_type": "subslide"
    }
   },
   "outputs": [
    {
     "name": "stdout",
     "output_type": "stream",
     "text": [
      "[ 9  4 12]\n",
      "\n",
      "\n",
      "[1 0 2]\n",
      "[ 4  9 12]\n",
      "\n",
      "\n",
      "4\n",
      "9\n",
      "12\n"
     ]
    }
   ],
   "source": [
    "#მაგალითი №37: numpy.argsort\n",
    "\n",
    "x = np.array([9, 4, 12]) \n",
    "\n",
    "print(x)\n",
    "print('\\n')  \n",
    "\n",
    "y = np.argsort(x) \n",
    "print(y)\n",
    "\n",
    "print(x[y])\n",
    "print('\\n')  \n",
    "\n",
    "\n",
    "for i in y: \n",
    "    print(x[i])"
   ]
  },
  {
   "cell_type": "code",
   "execution_count": 368,
   "metadata": {
    "scrolled": false,
    "slideshow": {
     "slide_type": "subslide"
    }
   },
   "outputs": [
    {
     "name": "stdout",
     "output_type": "stream",
     "text": [
      "[[30 40 70]\n",
      " [80 20 10]\n",
      " [50 90 60]]\n",
      "\n",
      "\n",
      "7\n",
      "5\n"
     ]
    }
   ],
   "source": [
    "#მაგალითი №38: numpy.argmax და numpy.argmin\n",
    "\n",
    "a = np.array([[30,40,70],[80,20,10],[50,90,60]]) \n",
    "\n",
    "print(a)\n",
    "print('\\n')  \n",
    "\n",
    "\n",
    "print(np.argmax(a))\n",
    "print(np.argmin(a))"
   ]
  },
  {
   "cell_type": "code",
   "execution_count": 369,
   "metadata": {
    "scrolled": false,
    "slideshow": {
     "slide_type": "subslide"
    }
   },
   "outputs": [
    {
     "name": "stdout",
     "output_type": "stream",
     "text": [
      "[[0 1 2]\n",
      " [1 2 0]\n",
      " [2 0 1]]\n",
      "\n",
      "\n",
      "(array([0, 0, 1, 1, 2, 2], dtype=int64), array([1, 2, 0, 1, 0, 2], dtype=int64))\n"
     ]
    }
   ],
   "source": [
    "#მაგალითი №39: numpy.nonzero \n",
    "\n",
    "a = np.array([[0,1,2],[1,2,0],[2,0,1]]) \n",
    "\n",
    "print(a)\n",
    "print('\\n')  \n",
    "\n",
    "\n",
    "print(np.nonzero(a))"
   ]
  },
  {
   "cell_type": "code",
   "execution_count": 372,
   "metadata": {
    "scrolled": false,
    "slideshow": {
     "slide_type": "subslide"
    }
   },
   "outputs": [
    {
     "name": "stdout",
     "output_type": "stream",
     "text": [
      "[[0. 1. 2.]\n",
      " [3. 4. 5.]\n",
      " [6. 7. 8.]]\n",
      "\n",
      "\n",
      "(array([1, 1, 2, 2, 2], dtype=int64), array([1, 2, 0, 1, 2], dtype=int64))\n"
     ]
    }
   ],
   "source": [
    "#მაგალითი №40: numpy.where\n",
    "\n",
    "x = np.arange(9.).reshape(3, 3) \n",
    "\n",
    "print(x)\n",
    "print('\\n')  \n",
    "\n",
    "y = np.where(x > 3) \n",
    "print(y)"
   ]
  },
  {
   "cell_type": "code",
   "execution_count": 289,
   "metadata": {
    "scrolled": false,
    "slideshow": {
     "slide_type": "subslide"
    }
   },
   "outputs": [
    {
     "name": "stdout",
     "output_type": "stream",
     "text": [
      "[[0. 1. 2.]\n",
      " [3. 4. 5.]\n",
      " [6. 7. 8.]]\n",
      "\n",
      "\n",
      "[[ True False  True]\n",
      " [False  True False]\n",
      " [ True False  True]]\n",
      "[0. 2. 4. 6. 8.]\n"
     ]
    }
   ],
   "source": [
    "#მაგალითი №41: numpy.extract\n",
    "\n",
    "x = np.arange(9.).reshape(3, 3) \n",
    "\n",
    "print(x)\n",
    "print('\\n')  \n",
    "\n",
    "condition = np.mod(x,2) == 0 \n",
    "print(condition)\n",
    "print(np.extract(condition, x))"
   ]
  },
  {
   "cell_type": "markdown",
   "metadata": {
    "slideshow": {
     "slide_type": "slide"
    }
   },
   "source": [
    "<h3 align=\"center\">მათემატიკური ფუნქციები</h3>\n",
    "\n",
    "**NumPy** ბიბლიოთეკა შეიცავს მათემატიკურ ფუნქციების დიდ სახეობას:\n",
    "\n",
    "\n",
    "- **sin, cos, tan**: ტრიგონომეტრიული ფუნქციები;\n",
    "\n",
    "\n",
    "- **round**: ფუნქცია, რომელიც აბრუნებს დამრგვალებულ რიცხვებს;\n",
    "\n",
    "\n",
    "- **floor**: ფუნქცია, რომელიც აბრუნებს უმცირეს მთელ რიცხვს, რომელიც აღემატება შეყვანის პარამეტრს;\n",
    "\n",
    "\n",
    "- **ceil**: ფუნქცია, რომელიც აბრუნებს უდიდეს მთელ რიცხვს, რომელიც არ აღემატება შეყვანის პარამეტრს."
   ]
  },
  {
   "cell_type": "code",
   "execution_count": 290,
   "metadata": {
    "slideshow": {
     "slide_type": "subslide"
    }
   },
   "outputs": [
    {
     "name": "stdout",
     "output_type": "stream",
     "text": [
      "a კუთხის სინუსი: \n",
      "[0.         0.5        0.70710678 0.8660254  1.        ]\n",
      "\n",
      "\n",
      "a კუთხის კოსინუსი: \n",
      "[1.00000000e+00 8.66025404e-01 7.07106781e-01 5.00000000e-01\n",
      " 6.12323400e-17]\n",
      "\n",
      "\n",
      "a კუთხის ტანგენსი: \n",
      "[0.00000000e+00 5.77350269e-01 1.00000000e+00 1.73205081e+00\n",
      " 1.63312394e+16]\n",
      "\n",
      "\n"
     ]
    }
   ],
   "source": [
    "#მაგალითი №42: numpy.sin, numpy.cos, numpy.tan\n",
    "\n",
    "a = np.array([0,30,45,60,90]) \n",
    "\n",
    "print('a კუთხის სინუსი: ')\n",
    "print(np.sin(a*np.pi/180)) # რადიანებში გადაყვანა\n",
    "print('\\n')\n",
    "\n",
    "print('a კუთხის კოსინუსი: ')\n",
    "print(np.cos(a*np.pi/180)) # რადიანებში გადაყვანა\n",
    "print('\\n')\n",
    "\n",
    "print('a კუთხის ტანგენსი: ')\n",
    "print(np.tan(a*np.pi/180)) # რადიანებში გადაყვანა\n",
    "print('\\n')"
   ]
  },
  {
   "cell_type": "code",
   "execution_count": 291,
   "metadata": {
    "slideshow": {
     "slide_type": "subslide"
    }
   },
   "outputs": [
    {
     "name": "stdout",
     "output_type": "stream",
     "text": [
      "თავდაპირევლი მასივი:\n",
      "[  1.      5.55  123.      0.567  25.532]\n",
      "\n",
      "\n",
      "მოდიფიცირებული მასივი:\n",
      "[  1.   6. 123.   1.  26.]\n",
      "[  1.    5.6 123.    0.6  25.5]\n",
      "[  0.  10. 120.   0.  30.]\n"
     ]
    }
   ],
   "source": [
    "#მაგალითი №43: numpy.around\n",
    "\n",
    "a = np.array([1.0,5.55, 123, 0.567, 25.532]) \n",
    "\n",
    "print('თავდაპირევლი მასივი:')\n",
    "print(a)\n",
    "print('\\n')\n",
    "\n",
    "print('მოდიფიცირებული მასივი:')\n",
    "print(np.around(a))\n",
    "print(np.around(a, decimals = 1))\n",
    "print(np.around(a, decimals = -1))"
   ]
  },
  {
   "cell_type": "code",
   "execution_count": 292,
   "metadata": {
    "slideshow": {
     "slide_type": "subslide"
    }
   },
   "outputs": [
    {
     "name": "stdout",
     "output_type": "stream",
     "text": [
      "თავდაპირევლი მასივი:\n",
      "[-1.7  1.5 -0.2  0.6 10. ]\n",
      "\n",
      "\n",
      "მოდიფიცირებული მასივი:\n",
      "[-2.  1. -1.  0. 10.]\n"
     ]
    }
   ],
   "source": [
    "#მაგალითი №44: numpy.floor\n",
    "\n",
    "a = np.array([-1.7, 1.5, -0.2, 0.6, 10]) \n",
    "\n",
    "print('თავდაპირევლი მასივი:')\n",
    "print(a)\n",
    "print('\\n') \n",
    "\n",
    "print('მოდიფიცირებული მასივი:')\n",
    "print(np.floor(a))"
   ]
  },
  {
   "cell_type": "code",
   "execution_count": 293,
   "metadata": {
    "slideshow": {
     "slide_type": "subslide"
    }
   },
   "outputs": [
    {
     "name": "stdout",
     "output_type": "stream",
     "text": [
      "თავდაპირევლი მასივი:\n",
      "[-1.7  1.5 -0.2  0.6 10. ]\n",
      "\n",
      "\n",
      "მოდიფიცირებული მასივი:\n",
      "[-1.  2. -0.  1. 10.]\n"
     ]
    }
   ],
   "source": [
    "#მაგალითი №45: numpy.ceil\n",
    "\n",
    "a = np.array([-1.7, 1.5, -0.2, 0.6, 10]) \n",
    "\n",
    "print('თავდაპირევლი მასივი:')\n",
    "print(a)\n",
    "print('\\n')\n",
    "\n",
    "print('მოდიფიცირებული მასივი:')\n",
    "print(np.ceil(a))"
   ]
  },
  {
   "cell_type": "markdown",
   "metadata": {
    "slideshow": {
     "slide_type": "slide"
    }
   },
   "source": [
    "<h3 align=\"center\">I/O ფუნქციები</h3>\n",
    "\n",
    "\n",
    "**NumPy** ბიბლიოთეკა შეიცავს შეყვანის/გამოყვანის ფუნქციებისაც:\n",
    "\n",
    "\n",
    "- **load** და **save**: ფუნქციები, რომელებიც ამუშავებენ ფაილებს ორობები ჩანაწერშუ (npy გაფართოებით):\n",
    "\n",
    "\n",
    "- **loadtxt ** და **savetxt**: ფუნქციები, რომელებიც ამუშავებენ ჩვეულებრივი ტექსტურ ფაილებს.\n"
   ]
  },
  {
   "cell_type": "code",
   "execution_count": 295,
   "metadata": {
    "slideshow": {
     "slide_type": "subslide"
    }
   },
   "outputs": [
    {
     "name": "stdout",
     "output_type": "stream",
     "text": [
      "[1 2 3 4 5]\n"
     ]
    }
   ],
   "source": [
    "#მაგალითი №46: numpy.save და numpy.load\n",
    "\n",
    "a = np.array([1,2,3,4,5]) \n",
    "np.save('outfile',a)\n",
    "\n",
    "b = np.load('outfile.npy') \n",
    "print(b)"
   ]
  },
  {
   "cell_type": "code",
   "execution_count": 296,
   "metadata": {
    "slideshow": {
     "slide_type": "subslide"
    }
   },
   "outputs": [
    {
     "name": "stdout",
     "output_type": "stream",
     "text": [
      "[1. 2. 3. 4. 5.]\n"
     ]
    }
   ],
   "source": [
    "#მაგალითი №47: numpy.save და numpy.load\n",
    "\n",
    "a = np.array([1,2,3,4,5]) \n",
    "np.savetxt('out.txt',a)\n",
    "\n",
    "b = np.loadtxt('out.txt') \n",
    "print(b) "
   ]
  },
  {
   "cell_type": "markdown",
   "metadata": {
    "slideshow": {
     "slide_type": "slide"
    }
   },
   "source": [
    "<h3 align=\"center\">NumPy და Matplotlib ბიბლიოთეკა</h3>\n",
    "\n",
    "- **Matplotlib** წარმოადგენს პითონის ნახატების ბიბლიოთეკას. იგი გამოიყენება **NumPy**– სთან ერთად, რათა უზრუნველყოს გარემო, რომელიც წარმოადგენს ეფექტური **MatLab**– ალტერნატივას.~\n",
    "\n",
    "\n",
    "- როგორც წესი, **Matplotlib**-ის პაკეტი იმპორტირდება პითონის სკრიპტში შემდეგი განცხადების დამატებით:\n",
    "\n",
    "\n",
    "- **plot**: ყველაზე მნიშვნელოვანი ფუნქციაა, რომელიც გამოიყენება 2D მონაცემების შესაქმნელად;\n",
    "\n",
    "\n",
    "- **histogram**: ფუნქცია, რომელიც წარმოადგენს მონაცემთა სიხშირის განაწილების გრაფიკულ წარმოდგენას (ანუ ჰისტოგრამას)."
   ]
  },
  {
   "cell_type": "code",
   "execution_count": 297,
   "metadata": {
    "slideshow": {
     "slide_type": "-"
    }
   },
   "outputs": [],
   "source": [
    "from matplotlib import pyplot as plt"
   ]
  },
  {
   "cell_type": "code",
   "execution_count": 382,
   "metadata": {
    "slideshow": {
     "slide_type": "subslide"
    }
   },
   "outputs": [
    {
     "data": {
      "image/png": "[encoded data removed]",
      "text/plain": [
       "<Figure size 432x288 with 1 Axes>"
      ]
     },
     "metadata": {
      "needs_background": "light"
     },
     "output_type": "display_data"
    },
    {
     "data": {
      "image/png": "[encoded data removed]",
      "text/plain": [
       "<Figure size 432x288 with 1 Axes>"
      ]
     },
     "metadata": {
      "needs_background": "light"
     },
     "output_type": "display_data"
    },
    {
     "data": {
      "image/png": "[encoded data removed]",
      "text/plain": [
       "<Figure size 432x288 with 1 Axes>"
      ]
     },
     "metadata": {
      "needs_background": "light"
     },
     "output_type": "display_data"
    }
   ],
   "source": [
    "#მაგალითი №48: matplotlib.plot\n",
    "\n",
    "import numpy as np \n",
    "from matplotlib import pyplot as plt \n",
    "\n",
    "x = np.arange(-10,10) \n",
    "y = (x+5)**2\n",
    "plt.title(\"ჩემი პირველი გრაფიკი\") \n",
    "plt.xlabel(\"x ღერძი\") \n",
    "plt.ylabel(\"y ღერძი\")\n",
    "plt.plot(x,y)\n",
    "plt.show()\n",
    "\n",
    "x = np.arange(1,11) \n",
    "y = 2 * x + 5 \n",
    "plt.title(\"ჩემი მეორე გრაფიკი\")\n",
    "plt.xlabel(\"x ღერძი\") \n",
    "plt.ylabel(\"y ღეცძი\") \n",
    "plt.plot(x,y,\"ob\") \n",
    "plt.show()\n",
    "\n",
    "x = np.arange(0, 3 * np.pi, 0.1) \n",
    "y = np.sin(x) \n",
    "plt.title(\"ჩემი სინუსის გრაფიკი\")\n",
    "plt.xlabel(\"x ღერძი\") \n",
    "plt.ylabel(\"y ღერძი\")\n",
    "plt.plot(x, y) \n",
    "plt.show() "
   ]
  },
  {
   "cell_type": "code",
   "execution_count": 306,
   "metadata": {
    "slideshow": {
     "slide_type": "subslide"
    }
   },
   "outputs": [
    {
     "name": "stdout",
     "output_type": "stream",
     "text": [
      "[3 4 5 2 1]\n",
      "[  0  20  40  60  80 100]\n"
     ]
    },
    {
     "data": {
      "image/png": "[encoded data removed]",
      "text/plain": [
       "<Figure size 432x288 with 1 Axes>"
      ]
     },
     "metadata": {
      "needs_background": "light"
     },
     "output_type": "display_data"
    }
   ],
   "source": [
    "#მაგალითი №49: matplotlib.hist\n",
    "\n",
    "import numpy as np \n",
    "from matplotlib import pyplot as plt \n",
    "\n",
    "a = np.array([22,87,5,43,56,73,55,54,11,20,51,5,79,31,27]) \n",
    "np.histogram(a,bins = [0,20,40,60,80,100]) \n",
    "hist,bins = np.histogram(a,bins = [0,20,40,60,80,100]) \n",
    "print(hist)\n",
    "print(bins)\n",
    "\n",
    "a = np.array([22,87,5,43,56,73,55,54,11,20,51,5,79,31,27]) \n",
    "plt.hist(a, bins = [0,20,40,60,80,100]) \n",
    "plt.title(\"histogram\") \n",
    "plt.show()"
   ]
  },
  {
   "cell_type": "markdown",
   "metadata": {
    "slideshow": {
     "slide_type": "slide"
    }
   },
   "source": [
    "<h1 align=\"center\">ლექციის დასასრული</h1>"
   ]
  }
 ],
 "metadata": {
  "kernelspec": {
   "display_name": "Python 3",
   "language": "python",
   "name": "python3"
  },
  "language_info": {
   "codemirror_mode": {
    "name": "ipython",
    "version": 3
   },
   "file_extension": ".py",
   "mimetype": "text/x-python",
   "name": "python",
   "nbconvert_exporter": "python",
   "pygments_lexer": "ipython3",
   "version": "3.8.5"
  }
 },
 "nbformat": 4,
 "nbformat_minor": 2
}
