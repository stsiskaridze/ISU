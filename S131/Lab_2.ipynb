{
 "cells": [
  {
   "cell_type": "markdown",
   "metadata": {
    "slideshow": {
     "slide_type": "notes"
    }
   },
   "source": [
    "**მონაცემთა ანალიზი პითონის გამოყენებით**\n",
    "<br>\n",
    "თარიღი: **2021 წლის 16 აპრილი**\n",
    "<br>\n",
    "\n",
    "სათაური: **ლაბორატორიული №2: SciPy-ის ბიბლიოთეკა**\n",
    "<br>\n",
    "ჩაბარების ბოლო დღე: **2021 წლის 23 აპრილი**\n",
    "<br>\n",
    "თითო ამოცანა ფასდება **5 ქულით**."
   ]
  },
  {
   "cell_type": "markdown",
   "metadata": {
    "slideshow": {
     "slide_type": "slide"
    }
   },
   "source": [
    "<h3 align=\"center\">ამოცანა 1: ვანდერმონდის მატრიცა</h3>\n",
    "\n",
    "- ვანდერმონდის მატრიცა ეს არის $m \\times n$ მატრიცა სადაც ყოველი სტრიქონი არის გეომეტრიული პროგრესია:\n",
    "\n",
    "$$\n",
    "V = \n",
    "\\begin{bmatrix}\n",
    "1      & \\alpha_1 & \\alpha_1^2 & \\cdots & \\alpha_1^n\\\\ \n",
    "1      & \\alpha_2 & \\alpha_2^2 & \\cdots & \\alpha_2^n\\\\ \n",
    "1      & \\alpha_3 & \\alpha_2^2 & \\cdots & \\alpha_3^n\\\\ \n",
    "\\vdots & \\vdots   & \\vdots     & \\ddots & \\alpha_4^n\\\\ \n",
    "1      & \\alpha_m & \\alpha_m^2 & \\cdots & \\alpha_5^n\n",
    "\\end{bmatrix}.$$\n",
    "\n",
    "(ა) გამოიყვანეთ კვადრატული  ვანდერმონდის მატრიცის (სადაც $m = n$) დეტერმინანტის ფორმულა:\n",
    "\n",
    "$$det(V) = \\prod_{1 \\leq i < j \\leq n} (\\alpha_i - \\alpha_j).$$\n",
    "\n",
    "(ბ) დაწერეთ **python**-ის კოდი და აჩვენეთ, რომ მოუხედავად იმისა, რომ დეტერმინანტის ანალიტიკური ფორმულა ცხადი სახით არსებობს, მისი პრაქტიკული დათვლა გამოთვლითი მანქანების საშუალებით შეუძლებელია.\n",
    "\n",
    "  **მინიშნება**: დააგენერირეთ ვანდერმონდის მატრიცა სადაც თითოეული $\\alpha$ არის ალბათობა ($0 \\leq \\alpha \\leq 1$) და ცადეთ დათვალოთ კვადრატული  მატრიცის (სადაც $m = n$) დეტერმინანტი განსვავებული $n$-თვის, მაგალითად $n = 1, 2, ..., 100$. "
   ]
  },
  {
   "cell_type": "markdown",
   "metadata": {},
   "source": [
    "$$det(V) = (\\alpha_1 - \\alpha_2) \\cdot (\\alpha_2 - \\alpha_3) \\cdot (\\alpha_3 - \\alpha_1)$$\n"
   ]
  }
 ],
 "metadata": {
  "celltoolbar": "Slideshow",
  "kernelspec": {
   "display_name": "Python 3",
   "language": "python",
   "name": "python3"
  },
  "language_info": {
   "codemirror_mode": {
    "name": "ipython",
    "version": 3
   },
   "file_extension": ".py",
   "mimetype": "text/x-python",
   "name": "python",
   "nbconvert_exporter": "python",
   "pygments_lexer": "ipython3",
   "version": "3.8.5"
  }
 },
 "nbformat": 4,
 "nbformat_minor": 2
}
