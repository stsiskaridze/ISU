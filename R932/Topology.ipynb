{
 "cells": [
  {
   "cell_type": "markdown",
   "metadata": {
    "slideshow": {
     "slide_type": "slide"
    }
   },
   "source": [
    "<h1 align=\"center\">Topology</h1>"
   ]
  },
  {
   "cell_type": "markdown",
   "metadata": {
    "slideshow": {
     "slide_type": "slide"
    }
   },
   "source": [
    "<h3 align=\"center\">Basics of topology</h3>\n",
    "\n",
    "Let $(X,d)$ be a metric space over an ordered field $\\mathbb{R}$.\n",
    "\n",
    "$\\textbf{Definition}$. An **open ball** of radius $r \\in \\mathbb{R}$ with center in $x \\in X$ \n",
    "is the set $B(x, r) = \\{ y| d(x, y) < r \\}$."
   ]
  },
  {
   "cell_type": "markdown",
   "metadata": {
    "slideshow": {
     "slide_type": "fragment"
    }
   },
   "source": [
    "$\\textbf{Statement}  \\space \\textbf{1}$. For any $x \\in X$ and any $r \\in \\mathbb{R}$, and for any element $y \\in B(x, r)$ there exists $r' \\in \\mathbb{R}$ such that $B(y, r') \\subset B(x, r)$."
   ]
  },
  {
   "cell_type": "markdown",
   "metadata": {
    "slideshow": {
     "slide_type": "fragment"
    }
   },
   "source": [
    "$\\textbf{Proof}$. Let's consider $x \\in R$, $r \\in \\mathbb{R}$, $y \\in B(x, r)$, and $l = d(x, y)$. From the problem statement\n",
    "$l = d(x, y) \\lt r$, therefore $r' = r - l \\gt 0$. If we take $z \\in B(y, r')$, then, from triangle inequality, we have that $d(x, z) \\lt r$ $d(x, z) \\leq d(x, y) + d(y, z)$, but $d(x, y) = l$ and $d(y, z) \\lt r' = r - l$ therefore $d(x, z) \\lt l + r - l = r$, which implies that $z \\in B(x, r)$. So we've got thet each element of $B(y, r')$ belongs to $B(x, r)$."
   ]
  },
  {
   "cell_type": "markdown",
   "metadata": {
    "slideshow": {
     "slide_type": "subslide"
    }
   },
   "source": [
    "$\\textbf{Definition}$. The set $U \\subset X$ is open in metric space $(X, d)$, if for all point $x \\in U$, there exists $r \\in \\mathbb{R}$ such that $B(x, r) \\subset U$.\n",
    "\n",
    "$\\textbf{Statement}  \\space \\textbf{2}$.\n",
    "<br> &emsp; $\\bullet$ For any $\\mathcal{U} = \\{U | U$ is open in $(X, d)\\}$ holds $V = \\bigcup_{U \\in \\mathcal{U}} U$ is open in $(X, d)$;\n",
    "<br> &emsp; $\\bullet$ For any two $U, V \\subset X$ open in $(X, d)$ holds: $W = U \\cap V$ is open in $(X, d)$;\n",
    "<br> &emsp; $\\bullet$ $X$ is open in $(X, d)$;\n",
    "<br> &emsp; $\\bullet$ $\\emptyset$ is open in $(X, d)$;"
   ]
  },
  {
   "cell_type": "markdown",
   "metadata": {
    "slideshow": {
     "slide_type": "fragment"
    }
   },
   "source": [
    "$\\textbf{Proof}$. \n",
    "<br> $\\bullet$ Let's consider any point $x \\in V$. From the problem statement, there exists such open $U_x \\in \\mathcal{U}$, that $x \\in U_x$, therefore for some $r \\in \\mathbb{R}$: $B(x, r) \\subset U_x$. But $U_x \\subset V$, therefore  $B(x, r) \\subset U_x \\subset V$, i.e. $B(x, r) \\subset V$;\n",
    "<br> $\\bullet$ Let's consider any point $x \\in W$. From the problem statement, $x \\in U$ and $x \\in V$, therefore there exist $r_u$ and $r_v$, such that $B(x, r_u) \\subset U$ and $B(x, r_v) \\subset V$. Let's denote $r = min(r_u, r_v)$, then $B(x, r) \\subset U$ and $B(x, r) \\subset V$, and by definition, $B(x, r) \\subset W$;\n",
    "<br> $\\bullet$ Let's consider any point $x \\in X$, then by deinition, for any $r \\in \\mathbb{R}$ $B(x, r) \\subset X$, i.e. $X$ is open in $(X, d)$:\n",
    "<br> $\\bullet$ $\\emptyset$ is open due to the fact that you can not choose the point from $\\emptyset$, therefore the statement will be true."
   ]
  },
  {
   "cell_type": "markdown",
   "metadata": {
    "slideshow": {
     "slide_type": "subslide"
    }
   },
   "source": [
    "$\\textbf{Statement}  \\space \\textbf{3}$. For any finity set $U_1, ..., U_n$ of open sets in $(X, d)$, the set $V =\\bigcap_{i=1}^{n}U$ is open in $(X, d)$."
   ]
  },
  {
   "cell_type": "markdown",
   "metadata": {
    "slideshow": {
     "slide_type": "fragment"
    }
   },
   "source": [
    "$\\textbf{Proof}$. \n",
    "\n",
    "Let's consider any point $x \\in V$. From the problem statement, $x \\in V$ implies that $x \\in U_i$ for all $i = \\overline{1, n}$, therefore there exist $r_1, r_2, ..., r_n \\in \\mathbb{R}$, such that $B(x, r_i) \\subset U_i$ for all $i = \\overline{1, n}$. \n",
    "\n",
    "Let's denote $r = min(r_1, r_2, ..., r_n)$. Due to the fact that we have finite number of elements $\\rightarrow$ $r>0$. Therefore $B(x, r) \\subset U_i$ for all $i = \\overline{1, n}$, and $B(x, r) \\subset V$."
   ]
  },
  {
   "cell_type": "markdown",
   "metadata": {
    "slideshow": {
     "slide_type": "subslide"
    }
   },
   "source": [
    "$\\textbf{Definition}$. Subset $U \\subset X$ in metric space $(X, d)$ is called **open subset** if it is open in $(X, d)$"
   ]
  },
  {
   "cell_type": "markdown",
   "metadata": {
    "slideshow": {
     "slide_type": "fragment"
    }
   },
   "source": [
    "$\\textbf{Definition}$. The set $U \\subset X$ is open if and only if for any point $x \\in U$, there exists the open neighbourhood $V$ of $x$ such that $V \\subset U$."
   ]
  },
  {
   "cell_type": "markdown",
   "metadata": {
    "slideshow": {
     "slide_type": "fragment"
    }
   },
   "source": [
    "$\\textbf{Statement}  \\space \\textbf{4}$. The set $U \\subset X$ is open if and only if for each point $x \\in U$ there exists the open neighbourhood $V$ of $x$ such that $V \\subset U$."
   ]
  },
  {
   "cell_type": "markdown",
   "metadata": {
    "slideshow": {
     "slide_type": "fragment"
    }
   },
   "source": [
    "$\\textbf{Proof}$. \n",
    "\n",
    "$\\bullet$ Let's assume, that $U$ is open, then by definition, for any point $x \\in U$, there exists $r \\in \\mathbb{R}$ such that $B(x, r) \\subset U$. $V=B(x, r) \\subset U$ is a good candidate for the open neighbourhood.\n",
    "\n",
    "$\\bullet$ Let's assume, that for each point $x \\in U$ there exists the open neighborhood $V$ of $x$, such that $V \\subset U$.\n",
    "<br>\n",
    "Since $V$ is an open set, then for each $x$ there should exist $r \\in \\mathbb{R}$ such that $B(x, r) \\subset V$. But $V \\subset U$, therefore $B(x, r) \\subset U$, Q.E.D."
   ]
  },
  {
   "cell_type": "markdown",
   "metadata": {
    "slideshow": {
     "slide_type": "subslide"
    }
   },
   "source": [
    "$\\textbf{Definition}$. The set $V \\subset X$ is **closed** if $U = X - V$ is open in $(X, d)$."
   ]
  },
  {
   "cell_type": "markdown",
   "metadata": {
    "slideshow": {
     "slide_type": "fragment"
    }
   },
   "source": [
    "$\\textbf{Statement}  \\space \\textbf{5}$. If the set $U \\subset X$ is open in $(X, d)$, then $V = X - U$ is closed in $(X, d)$ "
   ]
  },
  {
   "cell_type": "markdown",
   "metadata": {
    "slideshow": {
     "slide_type": "fragment"
    }
   },
   "source": [
    "$\\textbf{Proof}$. \n",
    "<br>\n",
    "Let's consider $V = X - U$. Since $U = X - V$ is open in $(X, d)$, then, by definition, we get that $V$ is closed."
   ]
  },
  {
   "cell_type": "markdown",
   "metadata": {
    "slideshow": {
     "slide_type": "subslide"
    }
   },
   "source": [
    "$\\textbf{Definition}$. An **open ball** of radius $r \\in \\mathbb{R}$ with center in $x \\in X$ is the set $\\overline{{B}(x, r)} = \\{y | d(x, y) \\le r \\}$."
   ]
  },
  {
   "cell_type": "markdown",
   "metadata": {
    "slideshow": {
     "slide_type": "fragment"
    }
   },
   "source": [
    "$\\textbf{Statement}  \\space \\textbf{6}$. The closed ball is closed subset in $(X, d)$."
   ]
  },
  {
   "cell_type": "markdown",
   "metadata": {
    "slideshow": {
     "slide_type": "fragment"
    }
   },
   "source": [
    "$\\textbf{Proof}$.\n",
    "<br>\n",
    "From the problem statement, we have some $x \\in X$ and $r_x \\in \\mathbb{R}$. Let's denote $U = \\overline{{B}(x, r_x)}$ and $V = X - U$, and consider any point $y \\in V$. From the definition of $V$ we have that $d(x,y) = d_{xy}> r_x$. \n",
    "\n",
    "Now let's take $r_y = d_{xy} - r_x$, and consider open ball $B(y, r_y)$. If $z \\in B(y, r_y)$, then $d(y, z)=d_{yz} < r_y \\rightarrow d_{yz} + r_x < r_y + r_x \\rightarrow d_{yz} + r_x < d_{xy} \\rightarrow r_x < d_{xy} - d_{yz}$.\n",
    "<br>\n",
    "But from the triangle inequality we hava $d_{x,y} - d_{y,z} \\leq d_{xz}$, therefore $r_x < d_{xz}$, which means that $z \\notin U$, i.e. $z \\in V$ and $B(y, r_y) \\subset V$."
   ]
  },
  {
   "cell_type": "markdown",
   "metadata": {
    "slideshow": {
     "slide_type": "subslide"
    }
   },
   "source": [
    "$\\textbf{Statement}  \\space \\textbf{7}$.\n",
    "<br>$\\bullet$ For any $\\mathcal{V} = \\{V | V$ is closed in $(X, d)\\}$ holds $\\bigcap_{V \\in \\mathcal{V}} V$ is closed in $(X, d)$\n",
    "<br>$\\bullet$ For any two $V_1, V_2 \\subset X$ closed in $(X, d)$ holds: $V_1 \\cup V_2$ is closed in $(X, d)$\n",
    "<br>$\\bullet$ $X$ is closed in $(X, d)$\n",
    "<br>$\\bullet$ $\\emptyset$ is closed in $(X, d)$"
   ]
  },
  {
   "cell_type": "markdown",
   "metadata": {
    "slideshow": {
     "slide_type": "fragment"
    }
   },
   "source": [
    "$\\textbf{Proof}$.\n",
    "<br> Let's for each $V \\in \\mathcal{V}$ consider $U = X - V$ and define the set $\\mathcal{U} = \\{U | V$ is closed in $(X, d)\\}$. \n",
    "<br> By definition, $U$ will be the open set, therefore $\\mathcal{U} = \\{U | U$ is open in $(X, d)\\}$, so we reduced this task to the **statement (2)**.\n"
   ]
  },
  {
   "cell_type": "markdown",
   "metadata": {
    "slideshow": {
     "slide_type": "subslide"
    }
   },
   "source": [
    "$\\textbf{Statement}  \\space \\textbf{8}$. For any finity set $U_1, ... U_n$ of closed sets in $(X, d)$, the set $\\bigcup_{i=1}^{n}U$ is closed in $(X, d)$."
   ]
  },
  {
   "cell_type": "markdown",
   "metadata": {
    "slideshow": {
     "slide_type": "fragment"
    }
   },
   "source": [
    "$\\textbf{Proof}$.\n",
    "<br> Let's denote $V_1 = U_1 \\cup U_2$. From the **statement (7)**, we have $V_1$ is closed in $(X, d)$. Using the principle of induction, denote $V_{i+1} = U_i \\cup V_i$, and from the **statement (7)**, we will have that all $V_i$ will be closed in $(X, d)$, including the $V_n$, which will be equal to $V_n=\\bigcup_{i=1}^{n}U$.\n"
   ]
  },
  {
   "cell_type": "markdown",
   "metadata": {
    "slideshow": {
     "slide_type": "subslide"
    }
   },
   "source": [
    "$\\textbf{Definition}$. A **closure** of the set $A \\subset X$ is the set $Cl(A) = \\bigcap\\{F \\subset X | F \\text{ is closed in } (X, d)\\}$ (the smallest set which contains $A$)."
   ]
  },
  {
   "cell_type": "markdown",
   "metadata": {
    "slideshow": {
     "slide_type": "fragment"
    }
   },
   "source": [
    "$\\textbf{Definition}$. A **frontier** of the set $A \\subset X$ is the set $Cl(A) - Int(A)$."
   ]
  },
  {
   "cell_type": "markdown",
   "metadata": {
    "slideshow": {
     "slide_type": "fragment"
    }
   },
   "source": [
    "$\\textbf{Definition}$. The set $A \\subset X$ in metric space $(X, d)$ is called **bounded** if there exists $r \\in \\mathbb{R}$ such that $d(x, y) < r$ for each $x, y \\in A$."
   ]
  }
 ],
 "metadata": {
  "celltoolbar": "Slideshow",
  "kernelspec": {
   "display_name": "Python 3",
   "language": "python",
   "name": "python3"
  },
  "language_info": {
   "codemirror_mode": {
    "name": "ipython",
    "version": 3
   },
   "file_extension": ".py",
   "mimetype": "text/x-python",
   "name": "python",
   "nbconvert_exporter": "python",
   "pygments_lexer": "ipython3",
   "version": "3.7.3"
  }
 },
 "nbformat": 4,
 "nbformat_minor": 2
}
