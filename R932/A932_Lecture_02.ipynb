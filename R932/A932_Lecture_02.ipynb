{
 "cells": [
  {
   "cell_type": "markdown",
   "metadata": {
    "slideshow": {
     "slide_type": "slide"
    }
   },
   "source": [
    "**A932 - სტატისტიკა**\n",
    "<br>\n",
    "თარიღი: **8 ოქტომბერი 2020**\n",
    "<br>\n",
    "\n",
    "სათაური: **ლექცია 2**\n",
    "<br>\n",
    "მომხსენებელი: **შოთა ცისკარიძე**\n",
    "\n",
    "\n",
    "ბიბიოგრაფია:\n",
    "<br> \n",
    " **თავები 3.1-3.3.** Richard A. Johnson, Irwin Miller, John E Freund. Miller & Freund's Probability and Statistics for\n",
    "Engineers (9th Edition), Pearson 2016\n",
    " \n"
   ]
  },
  {
   "cell_type": "markdown",
   "metadata": {
    "slideshow": {
     "slide_type": "slide"
    }
   },
   "source": [
    "<h3 align=\"center\">პირობითი ალბათობა</h3>\n",
    "\n",
    "- დავუშვათ $(\\Omega, \\Sigma, P)$ არის ალბათური სივრცე და $A\\in \\Sigma$ და $B\\in \\Sigma$ არის ორი მოვლენა.\n",
    "\n",
    "\n",
    "- $B$ მოვლენის ალბათობა, როდესაც ცნობილია, რომ რაღაც $A$ მოვლენა მოხდა, **პირობით ალბათობას** უწოდებენ და აღინიშნება $P (B | A)$.\n",
    "\n",
    "  ერთი ისტყვით, თუ $P(A) \\gt 0$,  მაშინ **პირობითი აბლათობა** $B$ მოვლენის როცა $A$ მოვლენა მოხდა, მოცემულია როგორც:\n",
    "\n",
    "  $$P(B|A) = \\frac{P(B\\cap A)}{P(A)}.$$"
   ]
  },
  {
   "cell_type": "markdown",
   "metadata": {
    "slideshow": {
     "slide_type": "subslide"
    }
   },
   "source": [
    "<h3 align=\"center\">სრული ალბათობის თეორემა</h3>\n",
    "\n",
    "-  დავუშვათ $(\\Omega, \\Sigma, P)$ არის ალბათური სივრცე.\n",
    "\n",
    "\n",
    "- **თეორემა 2.1**. \n",
    "\n",
    "  თუ $B_1, B_2, B_3, \\cdots$ არის თვლადი (ან სასრული) დაყოფა $\\Omega$ ხდომილებათა სივრცის, მაშინ ნებისმიერი $A \\subset \\Omega$ მოვლენისთვის სამართლიანია:\n",
    "\n",
    "$$P(A) = \\sum_{i}P(A|B_i)P(B_i).$$"
   ]
  },
  {
   "cell_type": "markdown",
   "metadata": {
    "slideshow": {
     "slide_type": "slide"
    }
   },
   "source": [
    "<h3 align=\"center\">ბაიესის თეორემა</h3>\n",
    "\n",
    "- დავუშვათ $(\\Omega, \\Sigma, P)$ არის ალბათური სივრცე და $A\\in \\Sigma$ და $B\\in \\Sigma$ არის ორი მოვლენა.\n",
    "\n",
    "\n",
    "- **თეორემა 2.2. (ბაიესის თეორემა)**. \n",
    "\n",
    "  ბაიესის თეორემა ამბობს რომ, თუ  $P(B) \\gt 0$, მაშინ:\n",
    "\n",
    "  $$P(A|B) = \\frac{P(B|A)P(A)}{P(B)}.$$\n",
    "\n",
    "  სადაც:\n",
    "\n",
    "  $P(A|B)$ რის $ A $ წარმოქმნის პირობითი ალბათობა იმის გათვალისწინებით, რომ $ B $ მოხდა;\n",
    "  \n",
    "  $P(B|A)$ რის $ B $ წარმოქმნის პირობითი ალბათობა იმის გათვალისწინებით, რომ $ A $ მოხდა;\n",
    "  \n",
    "  $P(A)$ და $P(B)$ არის, ესაბამისად, $ A$ და $B$ მოვლენების ალბათობები.\n"
   ]
  },
  {
   "cell_type": "markdown",
   "metadata": {
    "slideshow": {
     "slide_type": "fragment"
    }
   },
   "source": [
    "- **დამტკიცება**:\n",
    "\n",
    "  ჩვენ შეგვიძლია გადავაწეროთ $ P (A | B) $ და $ P (B | A) $ განმარტებები შემდეგი ფორმებით:\n",
    "\n",
    "  $$P(A|B)P(B) = P(A \\cap B) \\text{ და } P(B|A)P(A) = P(B \\cap A).$$\n",
    "\n",
    "  თუ ამ ორ განტოლებას გავუტოლებთ ერთმანეთს, ჩვენ მივიღებთ: \n",
    "  \n",
    "  $$P(A|B)P(B) = P(A \\cap B) = P(B \\cap A) = P(B|A)P(A)$$\n",
    "\n",
    "  ანუ:\n",
    "  \n",
    "  $$P(A|B) = \\frac{P(B|A)P(A)}{P(B)}.$$"
   ]
  },
  {
   "cell_type": "markdown",
   "metadata": {
    "slideshow": {
     "slide_type": "subslide"
    }
   },
   "source": [
    "<h3 align=\"center\">ბაიესის გაფართოებული თეორემა</h3>\n",
    "\n",
    "- დავუშვათ $(\\Omega, \\Sigma, P)$ არის ალბათური სივრცე.\n",
    "\n",
    "\n",
    "- **თეორემა 2.3**.\n",
    "\n",
    "  თუ $B_1, B_2, B_3, \\dots$ არის თვლადი (ან სასრული) დაყოფა $\\Omega$ ხდომილებათა სივრცის და $P(B_i) > 0$ ყოველი $i \\in \\{1, 2, 3, \\dots\\}$,\n",
    "  \n",
    "  მაშინ ნებისმიერი $A \\subset \\Omega$ მოვლენისთვის, ისეთი რომ $P(A) > 0$, და ყოველი $k \\in \\{1, 2, 3, \\dots \\}$, სამართლიანია:\n",
    "\n",
    "$$P(B_k|A) = \\frac{P(A|B_k)P(B_k)}{\\sum_{i=1}P(A|B_i)P(B_i)}.$$\n"
   ]
  },
  {
   "cell_type": "markdown",
   "metadata": {
    "slideshow": {
     "slide_type": "subslide"
    }
   },
   "source": [
    "<h3 align=\"center\">ბაიესის გაფართოებული თეორემა (სწორი ვარიანტი)</h3>\n",
    "\n",
    "- დავუშვათ $(\\Omega, \\Sigma, P)$ არის ალბათური სივრცე.\n",
    "\n",
    "\n",
    "- **თეორემა 2.4 (ბაიესის გაფართოებული თეორემა)**.\n",
    "\n",
    "  თუ  $B_1, B_2, \\dots, B_n$ არი პირობითად დამოუკიდებელი $A$ მოვლენასთან მიმართებაში $A$, ისეთი, რომ $P(B_i) > 0$ ყოველი $i \\in \\{1, 2, 3, \\dots , n \\}$ და $P(A)>0$, მაშინ სამართლიეანია:\n",
    "\n",
    "  $$P(A | B) = \n",
    "\\frac{P(B_1|A) \\times \\cdots \\times  P(B_n|A) \\times P(A)}{P(B_1|A) \\times \\cdots \\times P(B_n|A) \\times P(A) + P(B_1|\\overline{A}) \\times \\cdots \\times  P(B_n|\\overline{A}) \\times P(\\overline{A})},$$\n",
    "\n",
    "  სადაც $\\overline{A} = \\Omega \\setminus A$ და $B = B_1 \\cap B_2 \\cap \\dots \\cap B_n$."
   ]
  },
  {
   "cell_type": "markdown",
   "metadata": {
    "slideshow": {
     "slide_type": "slide"
    }
   },
   "source": [
    "<h1 align=\"center\">შემთხვევითი სიდიდე და ალბათური განაწილება</h1>"
   ]
  },
  {
   "cell_type": "markdown",
   "metadata": {
    "slideshow": {
     "slide_type": "slide"
    }
   },
   "source": [
    "<h2 align=\"center\">შემთხვევითი სიდიდე</h2>\n"
   ]
  },
  {
   "cell_type": "markdown",
   "metadata": {},
   "source": [
    "- დავუშვათ $(\\Omega, \\Sigma, P)$ არის ხდომილებათა სივრცე.\n",
    "\n",
    "\n",
    "- **განმარტება 2.1**: \n",
    "\n",
    "  **შემთხვევითი სიდიდე** არის **ფუნქცია**, რომელიც ხდიმელებათა სივრცის ყოველ **ელემენტს** შეუსაბამებს **ნამდვილ რიცხვს**."
   ]
  },
  {
   "cell_type": "markdown",
   "metadata": {},
   "source": [
    "- **განმარტება 2.1 (განახლებული)**: \n",
    "\n",
    "  ფუნქციას $X: \\Omega \\to \\mathbb{R}$ ეწოდება **შემთხვევითი სიდიდე** თუ ყოველი ბორელის სიმრავლისთვის $\\mathcal{B} \\in \\mathbb{R}$, სიმრავლე $X^{-1}(\\mathcal{B})$ არის ხდომილება რომელიც ეკუთვნის ხდომილებათა სივრცეის $\\Sigma$ ალგებრას. \n",
    "\n",
    "  ალბათობა იმისა, რომ $X$ ეკუთვნის $\\mathcal{B} \\in \\mathbb{R}$ სიმრავლეს შეიძლება ჩაიწეროს შემდეგნაირად:\n",
    "\n",
    "  $$P(X \\in \\mathcal{B}) = P(X^{-1}(\\mathcal{B}))= P(\\{\\omega \\in \\Omega | X(\\omega) \\in \\mathcal{B} \\}).$$"
   ]
  },
  {
   "cell_type": "markdown",
   "metadata": {},
   "source": [
    "- **მაგალითი 2.1**: \n",
    "  \n",
    "  ურნაში დევს 4 წითელი და 3 შავი ბურთები. ყუთში ჩაუხედავად ვიღებთ ორ ბურთს ზედიზედ ჩანაცვლების გარეშე. თუ $Y$ არის შემთხვევითი სიდიდე რომელიც აღნიშნავს წეთელი ბურთების რაოდენობას ამოღებული ბურთებიდან, მაშინ $Y$ შემთხვევითი სიდიდის $y$ მნიშვნელობები იქნება:\n",
    "  \n",
    "| ხდომილებათა სივრცე | $Y$ |\n",
    "|:-------------------:|:---:|\n",
    "|         წ წ          |  2  |\n",
    "|         წ ლ         |  1  |\n",
    "|         ლ წ         |  1  |\n",
    "|         ლ ლ        |  0  |"
   ]
  },
  {
   "cell_type": "markdown",
   "metadata": {},
   "source": [
    "- **მაგალითი 2.2**: \n",
    "  \n",
    "  საწყობის თანამშრომელი  უბრუნებს **სამ ჩაბხუტს** ფოლადის ქარხნის სამ თანამშრომელს, რომლებმაც ისინი ადრე შეამოწმეს.<br> თუ **ანდრო**, **ბექა** და **გელა** (ამ თანმიმდევრობით) მიიღებენ სამიდან ერთ ჩაბხუტს, რა იქნება შემთხვევითი სიდიდის $M$-ის მნიშვნელობა $m$, რომელიც წარმოადგენს ჩაბხუტების სწორად დაბრუნების რაოდენობას?\n",
    "\n",
    "  ამოხსნა:\n",
    "  \n",
    "  თუ ავღნიშნავთ **ა**, **ბ** და **გ** შესაბამისად **ანდროს**, **ბექას** და **გელას** მიერ შემოწმებულ ჩაბხუტებს, მაშინ $M$-ის მნიშვნელობები $m$ იქნება:\n",
    "  \n",
    "| ხდომილებათა სივრცე | $M$ |\n",
    "|:------------------:|:---:|\n",
    "|        ა ბ გ       |  3  |\n",
    "|        ა გ ბ       |  1  |\n",
    "|        ბ ა გ       |  1  |\n",
    "|        ბ გ ა       |  1  |\n",
    "|        გ ა ბ       |  0  |\n",
    "|       გ ბ ა        |  0  |"
   ]
  },
  {
   "cell_type": "markdown",
   "metadata": {},
   "source": [
    "- თითოეულ ორ წინა მაგალითში, ხდომილებათა სივრიცე შეიცავდა ელემენტების სასრულ რაოდენობას. \n",
    "\n",
    "\n",
    "- განვიხილოთ მაგალითი, როდესაც ვაგორებთ კამათელს იქამდე, სანამ  არ დაჯდება 6-ნი. \n",
    "\n",
    "  ამ შემთხვევაში, ხდომილებათა სივრცე შედგება უსასრულო ელემენტების თანმიმდევრობიდან: $S = \\{მ, ამ, აამ, აააამ, ...\\}$, სადაც **მ** და **ა** აღნიშნავს, შესაბამისად, **მოხდა** და **არ მოხდა**. \n",
    "  \n",
    "  მაგრამ ამ ექსპერიმენტშიაც კი, ელემენტების რაოდენობა შეიძლება გაუტოლდეს ნატურალური რიცხვების სიმრავლეს.\n",
    "  \n",
    "\n",
    "- ხშირად, შემთხვევითი სიდიდეები კატეგორიული ხასიათისაა, ამ შემთხევაში ხშირად გამოიყენეგბა ეგერთ წოდებული **ცრუ სიდიდეები**.\n",
    "\n",
    "  მაგალითად, როდესაც შემთხვევითი სიდიდე ღებულბს მხოლოდ ორ მნიშვნელობას, როგორც შემდეგ მაგალითშია ნაჩვენები:"
   ]
  },
  {
   "cell_type": "markdown",
   "metadata": {},
   "source": [
    "- **მაგალითი 2.3**: \n",
    "  \n",
    "  განვიხილოთ მარტივი მაგალითი, როდესაც საწარმოო ხაზიდან მოწოდებული პროდუქტები ან **დეფექტიანია** ან **უდეფექტო**. \n",
    "  \n",
    "  ჩვენ შეგვიძლია შემთხვევითი სიდიდე $X$ განვსაზღვროთ როგორც:\n",
    "  \n",
    "  $$  X = \n",
    "\\left\\{\\begin{matrix}\n",
    "1, & \\text{ თუ პროდუქტი დეფექტიანია,}\\\\ \n",
    "0, & \\text{ თუ პროდუქტი უდეფექტოა.}\n",
    "\\end{matrix}\\right.\n",
    "  $$\n",
    "  \n",
    "  ცხადია, $1$ და $0$-ის არჩევა თვითნებურია, თუმცა საკმაოდ მოსახერხებელი. \n",
    "  \n",
    "  სიდიდე, რომლისთვისაც არჩეულია $0$ და $1$ ორი შესაძლო მნიშვნელობის აღსაწერად, **ბერნულის შემთხვევითი სიდიდე** ეწოდება."
   ]
  },
  {
   "cell_type": "markdown",
   "metadata": {},
   "source": [
    "- **განმარტება 2.2**: \n",
    "|\n",
    "  თუ ხდომილებათა სივრცე შეიცავს **სასრულ ან თვლად** რაოდენობა ელემენტებს, მას **დისკრეტული ხდომილებათა სივრცე** ეწოდება."
   ]
  },
  {
   "cell_type": "markdown",
   "metadata": {},
   "source": [
    "- **განმარტება 2.3**: \n",
    "\n",
    "  თუ ხდომილებათა სივრცე შეიცავს ელემენტების უსასრულო რაოდენობას, რომელიც ტოლი მონაკვეთების წერტილების რაოდენობას, მას უწოდებენ **უწყვეტ ხდომილებათა სივრცეს**."
   ]
  },
  {
   "cell_type": "markdown",
   "metadata": {
    "slideshow": {
     "slide_type": "slide"
    }
   },
   "source": [
    "<h2 align=\"center\">დისკრეტული ალბათური განაწილება</h2>"
   ]
  },
  {
   "cell_type": "markdown",
   "metadata": {
    "slideshow": {
     "slide_type": "subslide"
    }
   },
   "source": [
    "- **განმარტება 2.4**: \n",
    "\n",
    "  დალაგებულ წყვილების სიმრავლეს $(x, f (x))$ ეწოდება $X$ **დისკრეტული** შემთხვევითი სიდიდის **ალბათური განაწილების ფუნქცია** (ან **ალბათური მასის ფუნქცია**), თუ $x$ თითოეული შესაძლო შედეგისთვის სრულდება პირობები:\n",
    "\n",
    "  1. $f(x) \\geq 0$  ყოველი $x \\in \\mathbb{R}$,\n",
    "  2. $\\sum_{x}f(x) = 1$,\n",
    "  3. $P(X = x) = f(x)$.\n"
   ]
  },
  {
   "cell_type": "markdown",
   "metadata": {},
   "source": [
    "- **მაგალითი 2.4**: \n",
    "  \n",
    "  პარტიაში, რომელიც შედგება 20 ერთნაირი კომპიუტერიდან, აღმოჩენილია 3 უვარგისი (გაუმართავი) კომპიუტერი.\n",
    "  \n",
    "  თუ სკოლამ ამ პარტიიდან შეიძინა 2 კომპიუტერი, რა იქნება ალბათური განაწილების ფუნქცია შემთხვევითი სიდიდისა, რომელიც აღნიშნავს გაუმართავი კომპიუტერების რაოდენობას?\n",
    "  \n",
    "  **ამოხსნა**:\n",
    "  \n",
    "  დავუშვათ $X$ არის შემთხვევითი სიდიდე, რომლის მნიშვნელობები $x$ არის სკოლის მიერ შეძენილი გაუმართავი კომპიუტერების შესაძლო რიცხვი. \n",
    "  \n",
    "  მაშინ $X$-მა შეიძლება მიიღოს მხოლოდ სამი მნიშვნელობა,$0$, $1$, და $2$.\n",
    "  \n",
    "  დავთვალოთ თითოეული მნიშვნელობის ალბათობა:\n",
    "  \n",
    "  $f(0) = P(X = 0) = \\frac{\\binom{3}{0} \\binom{17}{2}}{\\binom{20}{2}} = \\frac{68}{95}$,\n",
    "  \n",
    "  $f(1) = P(X = 1) = \\frac{\\binom{3}{1} \\binom{17}{1}}{\\binom{20}{2}} = \\frac{51}{190}$,\n",
    "  \n",
    "  $f(2) = P(X = 2) = \\frac{\\binom{3}{2} \\binom{17}{0}}{\\binom{20}{2}} = \\frac{3}{190}$.\n",
    "  \n",
    "  შესაბამისად, $X$-ის ალბათური განაწილების ფუნქცია იქნება:\n",
    "  \n",
    "| $x$ |      $f(x)$      |\n",
    "|:---:|:----------------:|\n",
    "|  0  |  $\\frac{68}{95}$ |\n",
    "|  1  | $\\frac{51}{190}$ |\n",
    "|  2  |  $\\frac{3}{190}$ |\n",
    "\n",
    "\n",
    "  მოდით გადავამოწმოთ ალბათური განაწილების ფუნქცია თვისებები:\n",
    "  \n",
    "  $$f(0) + f(1) + f(2) = \\frac{68}{95} + \\frac{51}{190} + \\frac{3}{190} = \\frac{2 \\cdot 68 + 51 + 3}{190} = \\frac{136 + 51 + 3 }{190} = 1$$"
   ]
  },
  {
   "cell_type": "markdown",
   "metadata": {},
   "source": [
    "- **მაგალითი 2.4**: \n",
    "  \n",
    "  საავტომობილო სააგენტო ყიდის თავისი უცხოური ავტომობილების $50\\%$-ს, რომელიც აღჭურვილია გვერდითი უსაფრთხოების ბალიშებით.\n",
    "  \n",
    "  იპოვნეთ სააგენტოს მიერ გაყიდულ მომდევნო $4$ მანქანას გვერდითი ბალიშებით აღჭურვილი ავტომობილების რაოდენობის განაწილების ფორმულა."
   ]
  },
  {
   "cell_type": "markdown",
   "metadata": {
    "slideshow": {
     "slide_type": "subslide"
    }
   },
   "source": [
    "- **განმარტება 2.5**: \n",
    "\n",
    "  ფუნქციას $F(x)$ ეწოდება $X$ დისკრეტულ შემთხვევითი სიდიდის **კუმულაციური განაწილების ფუნქცია**, თუ:\n",
    "  \n",
    "  $$F(x) = P(X \\leq x) = \\sum_{t \\leq x} f(t), \\text{ სადაც } -\\infty < x < \\infty ,$$\n",
    "  \n",
    "  $f(x)$ არის $X$ დისკრეტულ შემთხვევითი სიდიდის ალბათური განაწილების ფუნქცია."
   ]
  },
  {
   "cell_type": "markdown",
   "metadata": {},
   "source": [
    "- მაგალითად, **მაგალითისთვის 2.2**, $M$ შემთხვევითი სიდიდისთვის, ჩვენ ვღებულობთ:\n",
    "\n",
    "  $$F(2) = P(M \\leq 2) = f(0) + f(1) = \\frac{1}{3} + \\frac{1}{2} = \\frac{5}{6}.$$\n",
    "  \n",
    "  და შესაბამისად კუმულაციური განაწილების ფუნქცია იქნება:\n",
    "  \n",
    "  $$F(m) = \n",
    "\\left\\{\\begin{matrix}\n",
    " 0,& \\text{ თუ } m < 0, \\\\ \n",
    " \\frac{1}{3},& \\text{ თუ } 0 \\leq m < 1, \\\\\n",
    " \\frac{5}{6},& \\text{ თუ } 1 \\leq m < 3, \\\\\n",
    " 1,& \\text{ თუ } m \\geq 3, \n",
    "\\end{matrix}\\right.$$"
   ]
  },
  {
   "cell_type": "markdown",
   "metadata": {
    "slideshow": {
     "slide_type": "subslide"
    }
   },
   "source": [
    "<h3 align=\"center\">ბერნულის განაწილება</h3>\n",
    "\n",
    "- $\\operatorname{Bernoulli}(p)$: we have an experiment with two outcomes with probability $p$ and $q=(1 - p)$:\n",
    "\n",
    "$$\\operatorname{P}(X = k) = p^kq^{1 - k} \\text{ for } k \\in \\{0, 1\\}.$$\n",
    "\n",
    "- **Example**: Any problem where events having exactly two outcomes.\n",
    "\n",
    "<center><img src=\"images/RM_Bernoulli.svg\" width=\"1500\" alt=\"Example\" /></center>\n"
   ]
  },
  {
   "cell_type": "markdown",
   "metadata": {
    "slideshow": {
     "slide_type": "subslide"
    }
   },
   "source": [
    "<h3 align=\"center\">ბინომიალური განაწილება</h3>\n",
    "\n",
    "- $\\operatorname{Binomial}(n, p)$: we have $n$ experiments with two outcomes with probability $p$ and $q=(1-p)$ each:\n",
    "\n",
    "$$\n",
    "\\operatorname{P}(X = k) = \n",
    "\\left\\{\\begin{matrix}\n",
    "C_n^k p^kq^{n-k}, & \\text{ for } k = 0, 1, \\dots, n \\\\\n",
    "0 & \\text{ otherwise}\n",
    "\\end{matrix}\\right.\n",
    ";$$\n",
    "\n",
    "- **Example**: Any problem where you have $n$ events and each event has exactly two outcomes.\n",
    "\n",
    "<center><img src=\"images/RM_Binomial.svg\" width=\"800\" alt=\"Example\" /></center>\n"
   ]
  },
  {
   "cell_type": "markdown",
   "metadata": {
    "slideshow": {
     "slide_type": "subslide"
    }
   },
   "source": [
    "<h3 align=\"center\">გეომეტრიული განაწილება</h3>\n",
    "\n",
    "- $\\operatorname{Geometric}(k)$: we have $k$ experiments with two outcomes until the first success.\n",
    "$$\\operatorname{P}(X=k) = p(1-p)^{k-1}.$$\n",
    "- **Example**: What is probability  that there are $k$ failures to get the first success in $k$ Bernoulli trials?\n",
    "<center><img src=\"images/RM_Geometric.svg\" width=\"1000\" alt=\"Example\" /></center>\n"
   ]
  },
  {
   "cell_type": "markdown",
   "metadata": {
    "slideshow": {
     "slide_type": "subslide"
    }
   },
   "source": [
    "<h3 align=\"center\">ჰიპერგეომეტრიული განაწილება</h3>\n",
    "\n",
    "- $\\operatorname{Hypergeometric}(N,K,n)$:\n",
    "<br>\n",
    "$$\\operatorname{P}(X = k) = \\frac{\\binom{K}{k} \\binom{N - K}{n-k}}{\\binom{N}{n}}.$$\n",
    "- **Example**: Suppose a deck of cards contains 20 cards: 6 red cards and 14 black cards. 5 cards are drawn randomly without replacement. What is the probability that exactly 4 red cards are drawn?\n",
    "<center><img src=\"images/RM_Geometric.svg\" width=\"800\"  alt=\"Example\" /></center>\n"
   ]
  },
  {
   "cell_type": "markdown",
   "metadata": {
    "slideshow": {
     "slide_type": "subslide"
    }
   },
   "source": [
    "<h3 align=\"center\">პუასონის განაწილება</h3>\n",
    "\n",
    "- $\\operatorname{Poisson}(k, \\lambda)$:\n",
    "<br>\n",
    "$$\\operatorname{P}(X = k) = \\frac{e^{-\\lambda} \\lambda^{k}}{k!}.$$\n",
    "- **Example**: Poisson distribution is applied in situations where there are a large number of independent Bernoulli trials with a very small probability of success.\n",
    "<center><img src=\"images/RM_Poisson.svg\" width=\"800\" alt=\"Example\" /></center>\n"
   ]
  },
  {
   "cell_type": "markdown",
   "metadata": {
    "slideshow": {
     "slide_type": "slide"
    }
   },
   "source": [
    "<h2 align=\"center\">უწყვეტი ალბათური განაწილება</h2>"
   ]
  },
  {
   "cell_type": "markdown",
   "metadata": {
    "slideshow": {
     "slide_type": "subslide"
    }
   },
   "source": [
    "- **განმარტება 2.6**: \n",
    "\n",
    "  $f(x)$ ფუნქციას ეწოდება ნამდვილ რიცხვთა რეღძზე განსაზღვრული $X$ უწყვეტი შემთხვევითი სიდიდის **ალბათური სიმკვრივის ფუნქცია** (**pdf**), თუ:\n",
    "  \n",
    "  1. $$f(x) \\geq 0, \\text{ ნიბისმიერი } x \\in \\mathbb{R}.$$\n",
    "  <br><br>\n",
    "  2. $$\\int_{-\\infty}^{\\infty} f(x) dx = 1.$$.\n",
    "  \n",
    "  3. $$P(a < X < b) = \\int_{a}^{b} f(x) dx.$$."
   ]
  },
  {
   "cell_type": "markdown",
   "metadata": {
    "slideshow": {
     "slide_type": "subslide"
    }
   },
   "source": [
    "- **განმარტება 2.7**: \n",
    "\n",
    "  ფუნქციას $F(x)$ ეწოდება ნამდვილ რიცხვთა რეღძზე განსაზღვრული $X$ უწყვეტი შემთხვევითი სიდიდის **კუმულაციური განაწილების ფუნქცია**, თუ:\n",
    "  \n",
    "  $$F(x) = P(X \\leq x) = \\int_{-\\infty}^{x} f(t) dt, \\text{ სადაც } -\\infty < x < \\infty$$."
   ]
  },
  {
   "cell_type": "markdown",
   "metadata": {},
   "source": [
    "- **2.6** და **2.7** **განმარტებებიდან** ჩანს, რომ, თუ $F(x)$ დიფერენცირებადია, მაშინ ნიბისმიერი $x \\in \\mathbb{R}$: \n",
    "\n",
    "  $$F'(x) = f(x).$$"
   ]
  },
  {
   "cell_type": "markdown",
   "metadata": {
    "slideshow": {
     "slide_type": "subslide"
    }
   },
   "source": [
    "<h3 align=\"center\">თანაბარი განაწილება</h3>\n",
    "\n",
    "- **თანაბარი განაწილების ფუნქცია**:\n",
    "\n",
    "  - **დისკრეტულ** შემთხვევითი სიდიდისთვის: \n",
    "  $f(x) = \n",
    "\\left\\{\\begin{matrix}\n",
    "\\frac{1}{n}, & \\text{ თუ } x = 1, 2, \\dots, n \\\\\n",
    "0 & \\text{ საწინააღმდეგო შემთხვევაში}\n",
    "\\end{matrix}\\right.\n",
    ";$\n",
    "<br><br>\n",
    "  - **უწყვეტი** შემთხვევითი სიდიდისთვის:\n",
    "  $ f(x) = \n",
    "\\left\\{\\begin{matrix}\n",
    "\\frac{1}{b-a}, & \\text{ თუ } x \\in [a, b] \\\\\n",
    "0 & \\text{ საწინააღმდეგო შემთხვევაში}\n",
    "\\end{matrix}\\right.\n",
    ".$\n",
    "\n",
    "<center><img src=\"images/RM_Uniform.svg\" width=\"1200\" alt=\"Example\" /></center>"
   ]
  },
  {
   "cell_type": "markdown",
   "metadata": {
    "slideshow": {
     "slide_type": "subslide"
    }
   },
   "source": [
    "<h3 align=\"center\">ნორმალური განაწილება</h3>\n",
    "\n",
    "- **ნორმალური განაწილების ფუნქცია**:\n",
    "\n",
    " $\\operatorname{Gaussian}(\\mu, \\sigma^2)$, სადაც $\\mu \\in \\mathbb{R}$ და $\\sigma \\gt 0$, :\n",
    "$f(x) = \\frac{1}{\\sigma \\sqrt{2\\pi}}\\exp{(-\\frac{1}{2\\sigma^2}(x - \\mu)^2)}\n",
    ".$\n",
    "\n",
    "  ჩვენ ვამბობთ რომ $X$ შემთხვევით სიდიდეს არის ნორმალურად განაწილებული თუ $\\mu=0$ and $\\sigma=1$.\n",
    "\n",
    "<center><img src=\"images/RM_Normal.svg\" width=\"1500\" alt=\"Example\" /></center>"
   ]
  },
  {
   "cell_type": "markdown",
   "metadata": {},
   "source": [
    "- ქვემოთ მოყვანილ ბმულში შეგიძლიათ ნახოთ სხვა (უმრავლესი) განაწილების ფუნქციების მაგალითები თავისი ვიზუალიზაციით:\n",
    " https://www.boost.org/doc/libs/1_58_0/libs/math/doc/html/math_toolkit/dist_ref/dists/"
   ]
  },
  {
   "cell_type": "markdown",
   "metadata": {},
   "source": [
    "<h1 align=\"center\">დასასრული</h1>"
   ]
  }
 ],
 "metadata": {
  "kernelspec": {
   "display_name": "Python 3",
   "language": "python",
   "name": "python3"
  },
  "language_info": {
   "codemirror_mode": {
    "name": "ipython",
    "version": 3
   },
   "file_extension": ".py",
   "mimetype": "text/x-python",
   "name": "python",
   "nbconvert_exporter": "python",
   "pygments_lexer": "ipython3",
   "version": "3.7.3"
  }
 },
 "nbformat": 4,
 "nbformat_minor": 2
}
